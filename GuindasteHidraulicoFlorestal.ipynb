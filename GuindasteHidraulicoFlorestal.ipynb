{
  "cells": [
    {
      "attachments": {},
      "cell_type": "markdown",
      "metadata": {
        "id": "LcaSpEvXiOkE"
      },
      "source": [
        "# Guindaste Hidráulico Florestal\n"
      ]
    },
    {
      "attachments": {},
      "cell_type": "markdown",
      "metadata": {},
      "source": [
        "# Bibliotecas"
      ]
    },
    {
      "cell_type": "code",
      "execution_count": 1,
      "metadata": {
        "id": "Q5rIfBKlhfix"
      },
      "outputs": [],
      "source": [
        "# Matemática simbólica, soluções analíticas:\n",
        "import sympy as sp\n",
        "\n",
        "# Operações com matrizes e vetores:\n",
        "import numpy as np\n",
        "\n",
        "# Gráficos e animações:\n",
        "import matplotlib.pyplot as plt\n",
        "from matplotlib.animation import FuncAnimation\n",
        "\n",
        "# Integração numérica:\n",
        "from scipy.integrate import solve_ivp, odeint\n",
        "\n",
        "# Outros:\n",
        "from IPython.display import display, HTML"
      ]
    },
    {
      "attachments": {},
      "cell_type": "markdown",
      "metadata": {
        "id": "5UBVJpI766BH"
      },
      "source": [
        "# Constantes"
      ]
    },
    {
      "attachments": {},
      "cell_type": "markdown",
      "metadata": {},
      "source": [
        "$M :=$ massa [kg] do ponto material, sistema formado pelo gancho (manipulador) e pela carga\n",
        "\n",
        "$m_i :=$ massa [kg] do i-ésimo elo do braço robótico\n",
        "\n",
        "$M_c :=$ massa [kg] do cilindro (parte móvel) de cada atuador hidráulico\n",
        "\n",
        "$L_i :=$ comprimento [mm] do i-ésimo elo do braço robótico\n",
        "\n",
        "$d_j :=$ comprimento [mm] do braço de torque do j-ésimo atuador hidráulico \n",
        "\n",
        "$F_j :=$ força [kN] aplicada pelo j-ésimo atuador hidráulico\n",
        "\n",
        "$A_{c} :=$ área [mm²] da seção circular dos cilindros (atuador hidráulico)\n",
        "\n",
        "$g :=$ aceleração [mm/s²] da gravidade local\n"
      ]
    },
    {
      "cell_type": "code",
      "execution_count": 2,
      "metadata": {
        "id": "GL9sR4lz2wyx"
      },
      "outputs": [],
      "source": [
        "M, m_1, m_2, m_3, M_c = sp.symbols(\"M m_1 m_2 m_3 M_c\")\n",
        "L_1, L_2, L_3 = sp.symbols(\"L_1 L_2 L_3\")\n",
        "d_1, d_2 = sp.symbols(\"d_1 d_2\")\n",
        "F_1, F_2 = sp.symbols(\"F_1 F_2\")\n",
        "A_c = sp.symbols(\"A_c\")\n",
        "g = sp.symbols(\"g\")\n",
        "k, c = sp.symbols(\"k c\")"
      ]
    },
    {
      "attachments": {},
      "cell_type": "markdown",
      "metadata": {},
      "source": [
        "# Entradas do sistema dinâmico\n"
      ]
    },
    {
      "attachments": {},
      "cell_type": "markdown",
      "metadata": {},
      "source": [
        "$p_j :=$ pressão [MPa] diferencial no j-ésimo atuador hidráulico\n",
        "\n",
        "$\\tau :=$ torque [kN.mm] aplicado na primeira junta ($J1$)"
      ]
    },
    {
      "cell_type": "code",
      "execution_count": 3,
      "metadata": {},
      "outputs": [],
      "source": [
        "tau, p_1, p_2 = sp.symbols(\"tau p_1 p_2\")"
      ]
    },
    {
      "attachments": {},
      "cell_type": "markdown",
      "metadata": {},
      "source": [
        "# Valores numéricos (protótipo)"
      ]
    },
    {
      "cell_type": "code",
      "execution_count": 4,
      "metadata": {},
      "outputs": [],
      "source": [
        "Params = {\n",
        "    M: 1250,     # kg\n",
        "    L_1: 2.150,  # m\n",
        "    L_2: 3.750,  # m\n",
        "    L_3: 2.135,  # m\n",
        "    d_1: 0.500,  # m\n",
        "    d_2: 0.500,  # m\n",
        "    g: 9.807,    # m/s²\n",
        "    M_c: 20.66,  # kg\n",
        "    A_c: 1.964,  # 1e-3 m²\n",
        "    k: 1e4,    # N*m/rad\n",
        "    c: 32,    # N*m*s/rad\n",
        "}\n",
        "mu = Params[M] / (Params[L_1] + Params[L_2] + Params[L_3])\n",
        "Params[m_1] = mu * Params[L_1]\n",
        "Params[m_2] = mu * Params[L_2]\n",
        "Params[m_3] = mu * Params[L_3]"
      ]
    },
    {
      "attachments": {},
      "cell_type": "markdown",
      "metadata": {},
      "source": [
        "# Estados internos do sistema dinâmico"
      ]
    },
    {
      "cell_type": "code",
      "execution_count": 5,
      "metadata": {
        "id": "ehs2hMYu7PxI"
      },
      "outputs": [],
      "source": [
        "t = sp.symbols(\"t\")\n",
        "theta_1 = sp.Function(\"theta_1\")(t)\n",
        "theta_2 = sp.Function(\"theta_2\")(t)\n",
        "theta_3 = sp.Function(\"theta_3\")(t)\n",
        "\n",
        "omega_1 = sp.diff(theta_1, t)\n",
        "omega_2 = sp.diff(theta_2, t)\n",
        "omega_3 = sp.diff(theta_3, t)\n",
        "\n",
        "alpha_1 = sp.diff(omega_1, t)\n",
        "alpha_2 = sp.diff(omega_2, t)\n",
        "alpha_3 = sp.diff(omega_3, t)\n",
        "\n",
        "theta_dot_1 = sp.Function('\\\\dot{\\\\theta}_1')(t)\n",
        "theta_dot_2 = sp.Function('\\\\dot{\\\\theta}_2')(t)\n",
        "theta_dot_3 = sp.Function('\\\\dot{\\\\theta}_3')(t)\n",
        "theta_ddot_1 = sp.Function('\\\\ddot{\\\\theta}_1')(t)\n",
        "theta_ddot_2 = sp.Function('\\\\ddot{\\\\theta}_2')(t)\n",
        "theta_ddot_3 = sp.Function('\\\\ddot{\\\\theta}_3')(t)\n",
        "\n",
        "alias = {\n",
        "    omega_1: theta_dot_1,\n",
        "    omega_2: theta_dot_2,\n",
        "    omega_3: theta_dot_3,\n",
        "    alpha_1: theta_ddot_1,\n",
        "    alpha_2: theta_ddot_2,\n",
        "    alpha_3: theta_ddot_3,\n",
        "}"
      ]
    },
    {
      "attachments": {},
      "cell_type": "markdown",
      "metadata": {},
      "source": [
        "# Condições iniciais"
      ]
    },
    {
      "cell_type": "code",
      "execution_count": 6,
      "metadata": {},
      "outputs": [],
      "source": [
        "y0 = [0.5 * np.pi, 0.75 * np.pi, 0.5 * np.pi, 0, 0, 0]"
      ]
    },
    {
      "attachments": {},
      "cell_type": "markdown",
      "metadata": {},
      "source": [
        "# Impulsos das simulações"
      ]
    },
    {
      "cell_type": "code",
      "execution_count": 7,
      "metadata": {},
      "outputs": [],
      "source": [
        "inputs_alias = {\n",
        "    p_1: 1,\n",
        "    p_2: 1,\n",
        "    tau: 1,\n",
        "}"
      ]
    },
    {
      "attachments": {},
      "cell_type": "markdown",
      "metadata": {
        "id": "WAdvNX7RW7HP"
      },
      "source": [
        "# Funções Auxiliares"
      ]
    },
    {
      "attachments": {},
      "cell_type": "markdown",
      "metadata": {},
      "source": [
        "## Polinômio de Taylor de 1ª ordem"
      ]
    },
    {
      "cell_type": "code",
      "execution_count": 8,
      "metadata": {},
      "outputs": [],
      "source": [
        "def taylor_linear(f, x, y, z, x0, y0, z0):\n",
        "  alias = { x: x0, y: y0, z: z0 }\n",
        "  dx = x - x0\n",
        "  dy = y - y0\n",
        "  dz = z - z0\n",
        "  f_x = sp.diff(f, x)\n",
        "  f_y = sp.diff(f, y)\n",
        "  f_z = sp.diff(f, z)\n",
        "  polynomial = f.subs(alias) + dx * f_x.subs(alias) + dy * f_y.subs(alias) + dz * f_z.subs(alias)\n",
        "  return polynomial"
      ]
    },
    {
      "attachments": {},
      "cell_type": "markdown",
      "metadata": {
        "id": "2-FV6Bm_t_Cf"
      },
      "source": [
        "## Campo de Velocidades \n",
        "- Corpo Rígido\n",
        "- Composição de Velocidades\n",
        "\n",
        "$\\begin{bmatrix}u \\\\ v \\\\ 0 \\end{bmatrix} = \\begin{bmatrix} u_0 \\\\ v_0 \\\\ 0 \\end{bmatrix} + \\begin{bmatrix} 0 & 0 & \\omega\\end{bmatrix} \\times \\begin{bmatrix} r_x \\\\ r_y \\\\ 0 \\end{bmatrix} \\implies \\begin{bmatrix}u \\\\ v \\\\ 0 \\end{bmatrix} = \\begin{bmatrix} u_0 \\\\ v_0 \\\\ 0 \\end{bmatrix} + \\begin{bmatrix} -\\omega \\cdot r_y \\\\ \\omega \\cdot r_x \\\\ 0  \\end{bmatrix} \\implies \\begin{bmatrix}u \\\\ v \\\\ 0 \\end{bmatrix} = \\begin{bmatrix} u_0 -\\omega \\cdot r_y \\\\ v_0 + \\omega \\cdot r_x \\\\ 0  \\end{bmatrix}$"
      ]
    },
    {
      "cell_type": "code",
      "execution_count": 9,
      "metadata": {
        "id": "X5EIZ1ZruKWj"
      },
      "outputs": [],
      "source": [
        "def rigidbody_velocity(velocity_x, velocity_y, angular_velocity_z, radius_x, radius_y):\n",
        "  return velocity_x - angular_velocity_z * radius_y, velocity_y + angular_velocity_z * radius_x"
      ]
    },
    {
      "attachments": {},
      "cell_type": "markdown",
      "metadata": {
        "id": "UVSv68QYwPV1"
      },
      "source": [
        "## Energia Cinética\n",
        "- Barra Delgada Rígida\n",
        "- Pólo na Extremidade da Barra"
      ]
    },
    {
      "cell_type": "code",
      "execution_count": 10,
      "metadata": {
        "id": "X4TYyIhrvpwh"
      },
      "outputs": [],
      "source": [
        "def kinetic_energy(mass, velocity_x, velocity_y, angular_velocity_z=0, moment_of_inertia=0, offset_x=0, offset_y=0):\n",
        "  # Translação pura do pólo O:\n",
        "  T_1 = 0.5 * mass * (velocity_x ** 2 + velocity_y ** 2)\n",
        "  # Roto-translação de G em torno do pólo O:\n",
        "  T_2 = mass * angular_velocity_z * (velocity_y * offset_x - velocity_x * offset_y)\n",
        "  # Rotação pura em torno do pólo O:\n",
        "  T_3 = 0.5 * moment_of_inertia * angular_velocity_z ** 2\n",
        "  return T_1 + T_2 + T_3"
      ]
    },
    {
      "cell_type": "code",
      "execution_count": 11,
      "metadata": {
        "id": "bkssTqbHdQqO"
      },
      "outputs": [],
      "source": [
        "def kinetic_energy_link(mass, length, theta, velocity_x, velocity_y, angular_velocity_z):\n",
        "  # Braços de rotação (G - O)\n",
        "  offset_x = length * sp.cos(theta) / 2\n",
        "  offset_y = length * sp.sin(theta) / 2\n",
        "  # Momento de inércia da barra delgada com extremidade em apoio duplo:\n",
        "  moment_of_inertia = mass * length ** 2 / 3\n",
        "  return kinetic_energy(mass, velocity_x, velocity_y, angular_velocity_z, moment_of_inertia, offset_x, offset_y)"
      ]
    },
    {
      "attachments": {},
      "cell_type": "markdown",
      "metadata": {
        "id": "_DCvhv8qONqu"
      },
      "source": [
        "## Energia Potencial Gravitacional"
      ]
    },
    {
      "cell_type": "code",
      "execution_count": 12,
      "metadata": {
        "id": "jFuIz0kROTal"
      },
      "outputs": [],
      "source": [
        "def gravitational_energy(mass, height):\n",
        "  return mass * height * g"
      ]
    },
    {
      "attachments": {},
      "cell_type": "markdown",
      "metadata": {
        "id": "Jv386Pz3b4yr"
      },
      "source": [
        "## Coordenadas polares"
      ]
    },
    {
      "cell_type": "code",
      "execution_count": 13,
      "metadata": {
        "id": "FjF2oqJmcJP-"
      },
      "outputs": [],
      "source": [
        "def polar_to_cartesian(r, theta):\n",
        "  class_name = str(r.__class__)\n",
        "  if \"numpy\" in class_name:\n",
        "    x = r * np.cos(theta)\n",
        "    y = r * np.sin(theta)\n",
        "  elif \"sympy\" in class_name:\n",
        "    x = r * sp.cos(theta)\n",
        "    y = r * sp.sin(theta)\n",
        "  return (x, y)"
      ]
    },
    {
      "attachments": {},
      "cell_type": "markdown",
      "metadata": {
        "id": "UIjmnCzTgRfw"
      },
      "source": [
        "## Simplificação de Expressões"
      ]
    },
    {
      "cell_type": "code",
      "execution_count": 14,
      "metadata": {
        "id": "92PQg5r5gUGQ"
      },
      "outputs": [],
      "source": [
        "def simplify(expr):\n",
        "  return sp.simplify(sp.expand(expr))"
      ]
    },
    {
      "cell_type": "code",
      "execution_count": 15,
      "metadata": {
        "id": "D2hp2XiWB-c_"
      },
      "outputs": [],
      "source": [
        "def coeffs(expr, term):\n",
        "  return sp.simplify((expr - expr.coeff(term, n=0)) / term)"
      ]
    },
    {
      "cell_type": "code",
      "execution_count": 16,
      "metadata": {
        "id": "100NdrN4FJvg"
      },
      "outputs": [],
      "source": [
        "def remove_terms(expr, terms):\n",
        "  res = expr * (1 - len(terms))\n",
        "  for term in terms:\n",
        "    res += expr.coeff(term, n=0)\n",
        "  return res"
      ]
    },
    {
      "attachments": {},
      "cell_type": "markdown",
      "metadata": {},
      "source": [
        "## Impressão das expressões algébricas"
      ]
    },
    {
      "cell_type": "code",
      "execution_count": 17,
      "metadata": {},
      "outputs": [],
      "source": [
        "# Imprime a expressão algébrica com notações simplificadas de d/dt.\n",
        "def pprint(*args):\n",
        "  for arg in args:\n",
        "    display(arg.subs(alias))"
      ]
    },
    {
      "attachments": {},
      "cell_type": "markdown",
      "metadata": {},
      "source": [
        "# Posição relativa e velocidade absoluta dos pontos no sistema de coordenadas $(x, y)$"
      ]
    },
    {
      "attachments": {},
      "cell_type": "markdown",
      "metadata": {},
      "source": [
        "## Posição relativa e velocidade absoluta do ponto $J_2$ em função do tempo"
      ]
    },
    {
      "cell_type": "code",
      "execution_count": 18,
      "metadata": {},
      "outputs": [
        {
          "data": {
            "text/latex": [
              "$\\displaystyle L_{1} \\cos{\\left(\\theta_{1}{\\left(t \\right)} \\right)}$"
            ],
            "text/plain": [
              "L_1*cos(theta_1(t))"
            ]
          },
          "metadata": {},
          "output_type": "display_data"
        },
        {
          "data": {
            "text/latex": [
              "$\\displaystyle L_{1} \\sin{\\left(\\theta_{1}{\\left(t \\right)} \\right)}$"
            ],
            "text/plain": [
              "L_1*sin(theta_1(t))"
            ]
          },
          "metadata": {},
          "output_type": "display_data"
        }
      ],
      "source": [
        "# Descreve a posição do ponto J2 em relação ao ponto J1.\n",
        "# Ou seja, o vetor determinado por J2 - J1.\n",
        "x_J2, y_J2 = polar_to_cartesian(L_1, theta_1)\n",
        "pprint(x_J2, y_J2)"
      ]
    },
    {
      "cell_type": "code",
      "execution_count": 19,
      "metadata": {},
      "outputs": [
        {
          "data": {
            "text/latex": [
              "$\\displaystyle - L_{1} \\dot{\\theta}_1{\\left(t \\right)} \\sin{\\left(\\theta_{1}{\\left(t \\right)} \\right)}$"
            ],
            "text/plain": [
              "-L_1*\\dot{\\theta}_1(t)*sin(theta_1(t))"
            ]
          },
          "metadata": {},
          "output_type": "display_data"
        },
        {
          "data": {
            "text/latex": [
              "$\\displaystyle L_{1} \\dot{\\theta}_1{\\left(t \\right)} \\cos{\\left(\\theta_{1}{\\left(t \\right)} \\right)}$"
            ],
            "text/plain": [
              "L_1*\\dot{\\theta}_1(t)*cos(theta_1(t))"
            ]
          },
          "metadata": {},
          "output_type": "display_data"
        }
      ],
      "source": [
        "# Velocidade absoluta do ponto J_2 em função do tempo:\n",
        "u_J2, v_J2 = rigidbody_velocity(0, 0, omega_1, x_J2, y_J2)\n",
        "pprint(u_J2, v_J2)"
      ]
    },
    {
      "attachments": {},
      "cell_type": "markdown",
      "metadata": {},
      "source": [
        "## Inclinação do Elo #2 em relação a direção horizontal ($\\phi$)"
      ]
    },
    {
      "cell_type": "code",
      "execution_count": 20,
      "metadata": {},
      "outputs": [],
      "source": [
        "phi = theta_1 + theta_2 - sp.pi"
      ]
    },
    {
      "attachments": {},
      "cell_type": "markdown",
      "metadata": {},
      "source": [
        "## Inclinação do Elo #3 em relação a direção horizontal ($\\psi$)"
      ]
    },
    {
      "cell_type": "code",
      "execution_count": 21,
      "metadata": {},
      "outputs": [],
      "source": [
        "psi = phi + theta_3 - sp.pi"
      ]
    },
    {
      "attachments": {},
      "cell_type": "markdown",
      "metadata": {},
      "source": [
        "## Posição relativa e velocidade absoluta do ponto $J_3$ em função do tempo"
      ]
    },
    {
      "cell_type": "code",
      "execution_count": 22,
      "metadata": {},
      "outputs": [],
      "source": [
        "# Descreve a posição do ponto J3 em relação ao ponto J2.\n",
        "# Ou seja, o vetor determinado por J3 - J2.\n",
        "x_J3, y_J3 = polar_to_cartesian(L_2, phi)"
      ]
    },
    {
      "cell_type": "code",
      "execution_count": 23,
      "metadata": {},
      "outputs": [
        {
          "data": {
            "text/latex": [
              "$\\displaystyle - L_{1} \\dot{\\theta}_1{\\left(t \\right)} \\sin{\\left(\\theta_{1}{\\left(t \\right)} \\right)} + L_{2} \\left(\\dot{\\theta}_1{\\left(t \\right)} + \\dot{\\theta}_2{\\left(t \\right)}\\right) \\sin{\\left(\\theta_{1}{\\left(t \\right)} + \\theta_{2}{\\left(t \\right)} \\right)}$"
            ],
            "text/plain": [
              "-L_1*\\dot{\\theta}_1(t)*sin(theta_1(t)) + L_2*(\\dot{\\theta}_1(t) + \\dot{\\theta}_2(t))*sin(theta_1(t) + theta_2(t))"
            ]
          },
          "metadata": {},
          "output_type": "display_data"
        },
        {
          "data": {
            "text/latex": [
              "$\\displaystyle L_{1} \\dot{\\theta}_1{\\left(t \\right)} \\cos{\\left(\\theta_{1}{\\left(t \\right)} \\right)} - L_{2} \\left(\\dot{\\theta}_1{\\left(t \\right)} + \\dot{\\theta}_2{\\left(t \\right)}\\right) \\cos{\\left(\\theta_{1}{\\left(t \\right)} + \\theta_{2}{\\left(t \\right)} \\right)}$"
            ],
            "text/plain": [
              "L_1*\\dot{\\theta}_1(t)*cos(theta_1(t)) - L_2*(\\dot{\\theta}_1(t) + \\dot{\\theta}_2(t))*cos(theta_1(t) + theta_2(t))"
            ]
          },
          "metadata": {},
          "output_type": "display_data"
        }
      ],
      "source": [
        "# Velocidade absoluta do ponto J_3 em função do tempo:\n",
        "u_J3, v_J3 = rigidbody_velocity(u_J2, v_J2, omega_1 + omega_2, x_J3, y_J3)\n",
        "pprint(u_J3, v_J3)"
      ]
    },
    {
      "attachments": {},
      "cell_type": "markdown",
      "metadata": {},
      "source": [
        "## Posição do ponto P em relação ao ponto J3"
      ]
    },
    {
      "cell_type": "code",
      "execution_count": 24,
      "metadata": {},
      "outputs": [
        {
          "data": {
            "text/latex": [
              "$\\displaystyle L_{3} \\cos{\\left(\\theta_{1}{\\left(t \\right)} + \\theta_{2}{\\left(t \\right)} + \\theta_{3}{\\left(t \\right)} \\right)}$"
            ],
            "text/plain": [
              "L_3*cos(theta_1(t) + theta_2(t) + theta_3(t))"
            ]
          },
          "metadata": {},
          "output_type": "display_data"
        },
        {
          "data": {
            "text/latex": [
              "$\\displaystyle L_{3} \\sin{\\left(\\theta_{1}{\\left(t \\right)} + \\theta_{2}{\\left(t \\right)} + \\theta_{3}{\\left(t \\right)} \\right)}$"
            ],
            "text/plain": [
              "L_3*sin(theta_1(t) + theta_2(t) + theta_3(t))"
            ]
          },
          "metadata": {},
          "output_type": "display_data"
        }
      ],
      "source": [
        "# Descreve a posição do ponto P em relação ao ponto J3.\n",
        "# Ou seja, o vetor determinado por P - J3.\n",
        "x_P, y_P = polar_to_cartesian(L_3, psi)\n",
        "pprint(x_P, y_P)"
      ]
    },
    {
      "cell_type": "code",
      "execution_count": 25,
      "metadata": {},
      "outputs": [
        {
          "data": {
            "text/latex": [
              "$\\displaystyle - L_{1} \\dot{\\theta}_1{\\left(t \\right)} \\sin{\\left(\\theta_{1}{\\left(t \\right)} \\right)} + L_{2} \\left(\\dot{\\theta}_1{\\left(t \\right)} + \\dot{\\theta}_2{\\left(t \\right)}\\right) \\sin{\\left(\\theta_{1}{\\left(t \\right)} + \\theta_{2}{\\left(t \\right)} \\right)} - L_{3} \\left(\\dot{\\theta}_1{\\left(t \\right)} + \\dot{\\theta}_2{\\left(t \\right)} + \\dot{\\theta}_3{\\left(t \\right)}\\right) \\sin{\\left(\\theta_{1}{\\left(t \\right)} + \\theta_{2}{\\left(t \\right)} + \\theta_{3}{\\left(t \\right)} \\right)}$"
            ],
            "text/plain": [
              "-L_1*\\dot{\\theta}_1(t)*sin(theta_1(t)) + L_2*(\\dot{\\theta}_1(t) + \\dot{\\theta}_2(t))*sin(theta_1(t) + theta_2(t)) - L_3*(\\dot{\\theta}_1(t) + \\dot{\\theta}_2(t) + \\dot{\\theta}_3(t))*sin(theta_1(t) + theta_2(t) + theta_3(t))"
            ]
          },
          "metadata": {},
          "output_type": "display_data"
        },
        {
          "data": {
            "text/latex": [
              "$\\displaystyle L_{1} \\dot{\\theta}_1{\\left(t \\right)} \\cos{\\left(\\theta_{1}{\\left(t \\right)} \\right)} - L_{2} \\left(\\dot{\\theta}_1{\\left(t \\right)} + \\dot{\\theta}_2{\\left(t \\right)}\\right) \\cos{\\left(\\theta_{1}{\\left(t \\right)} + \\theta_{2}{\\left(t \\right)} \\right)} + L_{3} \\left(\\dot{\\theta}_1{\\left(t \\right)} + \\dot{\\theta}_2{\\left(t \\right)} + \\dot{\\theta}_3{\\left(t \\right)}\\right) \\cos{\\left(\\theta_{1}{\\left(t \\right)} + \\theta_{2}{\\left(t \\right)} + \\theta_{3}{\\left(t \\right)} \\right)}$"
            ],
            "text/plain": [
              "L_1*\\dot{\\theta}_1(t)*cos(theta_1(t)) - L_2*(\\dot{\\theta}_1(t) + \\dot{\\theta}_2(t))*cos(theta_1(t) + theta_2(t)) + L_3*(\\dot{\\theta}_1(t) + \\dot{\\theta}_2(t) + \\dot{\\theta}_3(t))*cos(theta_1(t) + theta_2(t) + theta_3(t))"
            ]
          },
          "metadata": {},
          "output_type": "display_data"
        }
      ],
      "source": [
        "# Velocidade absoluta do ponto P em função do tempo:\n",
        "u_P, v_P = rigidbody_velocity(u_J3, v_J3, omega_1 + omega_2 + omega_3, x_P, y_P)\n",
        "pprint(u_P, v_P)"
      ]
    },
    {
      "attachments": {},
      "cell_type": "markdown",
      "metadata": {},
      "source": [
        "## Pontos de atuação das forças hidráulicas ($P_j$)"
      ]
    },
    {
      "cell_type": "code",
      "execution_count": 26,
      "metadata": {},
      "outputs": [],
      "source": [
        "# Ambos estão em coordenadas relativas: P_1 em relação a J_2, P_2 em relação a J_3.\n",
        "P_1 = sp.Matrix(np.array(polar_to_cartesian(d_1, phi)))\n",
        "P_2 = sp.Matrix(np.array(polar_to_cartesian(d_2, psi)))\n",
        "# P_1 = sp.Matrix(np.array(np.array((x_J2, y_J2)) + polar_to_cartesian(d_1, phi)))\n",
        "# P_2 = sp.Matrix(np.array(np.array((x_J3, y_J3)) + polar_to_cartesian(d_2, psi)))"
      ]
    },
    {
      "cell_type": "code",
      "execution_count": 27,
      "metadata": {},
      "outputs": [],
      "source": [
        "gamma_1, gamma_2 = sp.symbols(\"gamma_1 gamma_2\")"
      ]
    },
    {
      "attachments": {},
      "cell_type": "markdown",
      "metadata": {},
      "source": [
        "### Hipótese simplificadora: a mudança de inclinação dos atuadores é desprezada"
      ]
    },
    {
      "cell_type": "code",
      "execution_count": 28,
      "metadata": {},
      "outputs": [],
      "source": [
        "# gamma_alias = {\n",
        "#     gamma_1: sp.asin(sp.sin(theta_2) * d_1 / sp.sqrt((x_J2 + P_1[0])**2 + (y_J2 + P_1[1])**2)),\n",
        "#     gamma_2: sp.asin(sp.sin(theta_3) * d_2 / sp.sqrt((x_J3 + P_2[0])**2 + (y_J3 + P_2[1])**2)),\n",
        "# }\n",
        "\n",
        "gamma_alias = {\n",
        "    gamma_1: 0,\n",
        "    gamma_2: 0,\n",
        "}"
      ]
    },
    {
      "attachments": {},
      "cell_type": "markdown",
      "metadata": {
        "id": "pPq6yymoXAxv"
      },
      "source": [
        "# Equações de Lagrange"
      ]
    },
    {
      "attachments": {},
      "cell_type": "markdown",
      "metadata": {
        "id": "K3xMzUQqhLHY"
      },
      "source": [
        "## Energia Cinética do Sistema"
      ]
    },
    {
      "attachments": {},
      "cell_type": "markdown",
      "metadata": {
        "id": "TxVv6zNof3vw"
      },
      "source": [
        "### Energia Cinética do Elo #1"
      ]
    },
    {
      "cell_type": "code",
      "execution_count": 29,
      "metadata": {
        "colab": {
          "base_uri": "https://localhost:8080/"
        },
        "id": "JzHq3fSF3eHe",
        "outputId": "79e41d2a-27e1-4787-e6e7-c25d92cb486a"
      },
      "outputs": [],
      "source": [
        "T_1 = kinetic_energy_link(m_1, L_1, theta_1, 0, 0, omega_1)"
      ]
    },
    {
      "attachments": {},
      "cell_type": "markdown",
      "metadata": {
        "id": "Ya6Nq-MXgaZS"
      },
      "source": [
        "### Energia Cinética do Elo #2"
      ]
    },
    {
      "cell_type": "code",
      "execution_count": 30,
      "metadata": {
        "colab": {
          "base_uri": "https://localhost:8080/"
        },
        "id": "WqOgryqf3wTw",
        "outputId": "6b4389af-2505-4eaf-8c4e-216ee88fd6c8"
      },
      "outputs": [],
      "source": [
        "T_2 = kinetic_energy_link(m_2, L_2, phi, u_J2, v_J2, omega_1 + omega_2)"
      ]
    },
    {
      "attachments": {},
      "cell_type": "markdown",
      "metadata": {
        "id": "XxeaucMaICck"
      },
      "source": [
        "### Energia Cinética do Elo #3"
      ]
    },
    {
      "cell_type": "code",
      "execution_count": 31,
      "metadata": {
        "colab": {
          "base_uri": "https://localhost:8080/"
        },
        "id": "Q6duItd8IBiD",
        "outputId": "d1330099-f85c-44fb-dc2e-b20b74062157"
      },
      "outputs": [],
      "source": [
        "T_3 = kinetic_energy_link(m_3, L_3, psi, u_J3, v_J3, omega_1 + omega_2 + omega_3)"
      ]
    },
    {
      "attachments": {},
      "cell_type": "markdown",
      "metadata": {
        "id": "oc5SFTb8gynN"
      },
      "source": [
        "### Energia Cinética do Ponto Material"
      ]
    },
    {
      "cell_type": "code",
      "execution_count": 32,
      "metadata": {
        "colab": {
          "base_uri": "https://localhost:8080/"
        },
        "id": "x-LBsmyaRppL",
        "outputId": "a6cb5fb7-32bc-4905-d8ff-0c1b29cb3d73"
      },
      "outputs": [],
      "source": [
        "T_P = kinetic_energy(M, u_J3, v_J3, omega_1 + omega_2 + omega_3, M * L_2**2, x_P, y_P)"
      ]
    },
    {
      "attachments": {},
      "cell_type": "markdown",
      "metadata": {
        "id": "Dz4L3eyQ74Q8"
      },
      "source": [
        "### Energia Cinética ($T$)"
      ]
    },
    {
      "cell_type": "code",
      "execution_count": 33,
      "metadata": {
        "id": "b_xmZuFw74YB"
      },
      "outputs": [
        {
          "data": {
            "text/latex": [
              "$\\displaystyle 0.5 L_{1}^{2} M \\dot{\\theta}_1^{2}{\\left(t \\right)} + 0.166666666666667 L_{1}^{2} m_{1} \\dot{\\theta}_1^{2}{\\left(t \\right)} + 0.5 L_{1}^{2} m_{2} \\dot{\\theta}_1^{2}{\\left(t \\right)} + 0.5 L_{1}^{2} m_{3} \\dot{\\theta}_1^{2}{\\left(t \\right)} - 1.0 L_{1} L_{2} M \\dot{\\theta}_1^{2}{\\left(t \\right)} \\cos{\\left(\\theta_{2}{\\left(t \\right)} \\right)} - 1.0 L_{1} L_{2} M \\dot{\\theta}_1{\\left(t \\right)} \\dot{\\theta}_2{\\left(t \\right)} \\cos{\\left(\\theta_{2}{\\left(t \\right)} \\right)} - 0.5 L_{1} L_{2} m_{2} \\dot{\\theta}_1^{2}{\\left(t \\right)} \\cos{\\left(\\theta_{2}{\\left(t \\right)} \\right)} - 0.5 L_{1} L_{2} m_{2} \\dot{\\theta}_1{\\left(t \\right)} \\dot{\\theta}_2{\\left(t \\right)} \\cos{\\left(\\theta_{2}{\\left(t \\right)} \\right)} - 1.0 L_{1} L_{2} m_{3} \\dot{\\theta}_1^{2}{\\left(t \\right)} \\cos{\\left(\\theta_{2}{\\left(t \\right)} \\right)} - 1.0 L_{1} L_{2} m_{3} \\dot{\\theta}_1{\\left(t \\right)} \\dot{\\theta}_2{\\left(t \\right)} \\cos{\\left(\\theta_{2}{\\left(t \\right)} \\right)} + 1.0 L_{1} L_{3} M \\dot{\\theta}_1^{2}{\\left(t \\right)} \\cos{\\left(\\theta_{2}{\\left(t \\right)} + \\theta_{3}{\\left(t \\right)} \\right)} + 1.0 L_{1} L_{3} M \\dot{\\theta}_1{\\left(t \\right)} \\dot{\\theta}_2{\\left(t \\right)} \\cos{\\left(\\theta_{2}{\\left(t \\right)} + \\theta_{3}{\\left(t \\right)} \\right)} + 1.0 L_{1} L_{3} M \\dot{\\theta}_1{\\left(t \\right)} \\dot{\\theta}_3{\\left(t \\right)} \\cos{\\left(\\theta_{2}{\\left(t \\right)} + \\theta_{3}{\\left(t \\right)} \\right)} + 0.5 L_{1} L_{3} m_{3} \\dot{\\theta}_1^{2}{\\left(t \\right)} \\cos{\\left(\\theta_{2}{\\left(t \\right)} + \\theta_{3}{\\left(t \\right)} \\right)} + 0.5 L_{1} L_{3} m_{3} \\dot{\\theta}_1{\\left(t \\right)} \\dot{\\theta}_2{\\left(t \\right)} \\cos{\\left(\\theta_{2}{\\left(t \\right)} + \\theta_{3}{\\left(t \\right)} \\right)} + 0.5 L_{1} L_{3} m_{3} \\dot{\\theta}_1{\\left(t \\right)} \\dot{\\theta}_3{\\left(t \\right)} \\cos{\\left(\\theta_{2}{\\left(t \\right)} + \\theta_{3}{\\left(t \\right)} \\right)} + 1.0 L_{2}^{2} M \\dot{\\theta}_1^{2}{\\left(t \\right)} + 2.0 L_{2}^{2} M \\dot{\\theta}_1{\\left(t \\right)} \\dot{\\theta}_2{\\left(t \\right)} + 1.0 L_{2}^{2} M \\dot{\\theta}_1{\\left(t \\right)} \\dot{\\theta}_3{\\left(t \\right)} + 1.0 L_{2}^{2} M \\dot{\\theta}_2^{2}{\\left(t \\right)} + 1.0 L_{2}^{2} M \\dot{\\theta}_2{\\left(t \\right)} \\dot{\\theta}_3{\\left(t \\right)} + 0.5 L_{2}^{2} M \\dot{\\theta}_3^{2}{\\left(t \\right)} + 0.166666666666667 L_{2}^{2} m_{2} \\dot{\\theta}_1^{2}{\\left(t \\right)} + 0.333333333333333 L_{2}^{2} m_{2} \\dot{\\theta}_1{\\left(t \\right)} \\dot{\\theta}_2{\\left(t \\right)} + 0.166666666666667 L_{2}^{2} m_{2} \\dot{\\theta}_2^{2}{\\left(t \\right)} + 0.5 L_{2}^{2} m_{3} \\dot{\\theta}_1^{2}{\\left(t \\right)} + 1.0 L_{2}^{2} m_{3} \\dot{\\theta}_1{\\left(t \\right)} \\dot{\\theta}_2{\\left(t \\right)} + 0.5 L_{2}^{2} m_{3} \\dot{\\theta}_2^{2}{\\left(t \\right)} - 1.0 L_{2} L_{3} M \\dot{\\theta}_1^{2}{\\left(t \\right)} \\cos{\\left(\\theta_{3}{\\left(t \\right)} \\right)} - 2.0 L_{2} L_{3} M \\dot{\\theta}_1{\\left(t \\right)} \\dot{\\theta}_2{\\left(t \\right)} \\cos{\\left(\\theta_{3}{\\left(t \\right)} \\right)} - 1.0 L_{2} L_{3} M \\dot{\\theta}_1{\\left(t \\right)} \\dot{\\theta}_3{\\left(t \\right)} \\cos{\\left(\\theta_{3}{\\left(t \\right)} \\right)} - 1.0 L_{2} L_{3} M \\dot{\\theta}_2^{2}{\\left(t \\right)} \\cos{\\left(\\theta_{3}{\\left(t \\right)} \\right)} - 1.0 L_{2} L_{3} M \\dot{\\theta}_2{\\left(t \\right)} \\dot{\\theta}_3{\\left(t \\right)} \\cos{\\left(\\theta_{3}{\\left(t \\right)} \\right)} - 0.5 L_{2} L_{3} m_{3} \\dot{\\theta}_1^{2}{\\left(t \\right)} \\cos{\\left(\\theta_{3}{\\left(t \\right)} \\right)} - 1.0 L_{2} L_{3} m_{3} \\dot{\\theta}_1{\\left(t \\right)} \\dot{\\theta}_2{\\left(t \\right)} \\cos{\\left(\\theta_{3}{\\left(t \\right)} \\right)} - 0.5 L_{2} L_{3} m_{3} \\dot{\\theta}_1{\\left(t \\right)} \\dot{\\theta}_3{\\left(t \\right)} \\cos{\\left(\\theta_{3}{\\left(t \\right)} \\right)} - 0.5 L_{2} L_{3} m_{3} \\dot{\\theta}_2^{2}{\\left(t \\right)} \\cos{\\left(\\theta_{3}{\\left(t \\right)} \\right)} - 0.5 L_{2} L_{3} m_{3} \\dot{\\theta}_2{\\left(t \\right)} \\dot{\\theta}_3{\\left(t \\right)} \\cos{\\left(\\theta_{3}{\\left(t \\right)} \\right)} + 0.166666666666667 L_{3}^{2} m_{3} \\dot{\\theta}_1^{2}{\\left(t \\right)} + 0.333333333333333 L_{3}^{2} m_{3} \\dot{\\theta}_1{\\left(t \\right)} \\dot{\\theta}_2{\\left(t \\right)} + 0.333333333333333 L_{3}^{2} m_{3} \\dot{\\theta}_1{\\left(t \\right)} \\dot{\\theta}_3{\\left(t \\right)} + 0.166666666666667 L_{3}^{2} m_{3} \\dot{\\theta}_2^{2}{\\left(t \\right)} + 0.333333333333333 L_{3}^{2} m_{3} \\dot{\\theta}_2{\\left(t \\right)} \\dot{\\theta}_3{\\left(t \\right)} + 0.166666666666667 L_{3}^{2} m_{3} \\dot{\\theta}_3^{2}{\\left(t \\right)}$"
            ],
            "text/plain": [
              "0.5*L_1**2*M*\\dot{\\theta}_1(t)**2 + 0.166666666666667*L_1**2*m_1*\\dot{\\theta}_1(t)**2 + 0.5*L_1**2*m_2*\\dot{\\theta}_1(t)**2 + 0.5*L_1**2*m_3*\\dot{\\theta}_1(t)**2 - 1.0*L_1*L_2*M*\\dot{\\theta}_1(t)**2*cos(theta_2(t)) - 1.0*L_1*L_2*M*\\dot{\\theta}_1(t)*\\dot{\\theta}_2(t)*cos(theta_2(t)) - 0.5*L_1*L_2*m_2*\\dot{\\theta}_1(t)**2*cos(theta_2(t)) - 0.5*L_1*L_2*m_2*\\dot{\\theta}_1(t)*\\dot{\\theta}_2(t)*cos(theta_2(t)) - 1.0*L_1*L_2*m_3*\\dot{\\theta}_1(t)**2*cos(theta_2(t)) - 1.0*L_1*L_2*m_3*\\dot{\\theta}_1(t)*\\dot{\\theta}_2(t)*cos(theta_2(t)) + 1.0*L_1*L_3*M*\\dot{\\theta}_1(t)**2*cos(theta_2(t) + theta_3(t)) + 1.0*L_1*L_3*M*\\dot{\\theta}_1(t)*\\dot{\\theta}_2(t)*cos(theta_2(t) + theta_3(t)) + 1.0*L_1*L_3*M*\\dot{\\theta}_1(t)*\\dot{\\theta}_3(t)*cos(theta_2(t) + theta_3(t)) + 0.5*L_1*L_3*m_3*\\dot{\\theta}_1(t)**2*cos(theta_2(t) + theta_3(t)) + 0.5*L_1*L_3*m_3*\\dot{\\theta}_1(t)*\\dot{\\theta}_2(t)*cos(theta_2(t) + theta_3(t)) + 0.5*L_1*L_3*m_3*\\dot{\\theta}_1(t)*\\dot{\\theta}_3(t)*cos(theta_2(t) + theta_3(t)) + 1.0*L_2**2*M*\\dot{\\theta}_1(t)**2 + 2.0*L_2**2*M*\\dot{\\theta}_1(t)*\\dot{\\theta}_2(t) + 1.0*L_2**2*M*\\dot{\\theta}_1(t)*\\dot{\\theta}_3(t) + 1.0*L_2**2*M*\\dot{\\theta}_2(t)**2 + 1.0*L_2**2*M*\\dot{\\theta}_2(t)*\\dot{\\theta}_3(t) + 0.5*L_2**2*M*\\dot{\\theta}_3(t)**2 + 0.166666666666667*L_2**2*m_2*\\dot{\\theta}_1(t)**2 + 0.333333333333333*L_2**2*m_2*\\dot{\\theta}_1(t)*\\dot{\\theta}_2(t) + 0.166666666666667*L_2**2*m_2*\\dot{\\theta}_2(t)**2 + 0.5*L_2**2*m_3*\\dot{\\theta}_1(t)**2 + 1.0*L_2**2*m_3*\\dot{\\theta}_1(t)*\\dot{\\theta}_2(t) + 0.5*L_2**2*m_3*\\dot{\\theta}_2(t)**2 - 1.0*L_2*L_3*M*\\dot{\\theta}_1(t)**2*cos(theta_3(t)) - 2.0*L_2*L_3*M*\\dot{\\theta}_1(t)*\\dot{\\theta}_2(t)*cos(theta_3(t)) - 1.0*L_2*L_3*M*\\dot{\\theta}_1(t)*\\dot{\\theta}_3(t)*cos(theta_3(t)) - 1.0*L_2*L_3*M*\\dot{\\theta}_2(t)**2*cos(theta_3(t)) - 1.0*L_2*L_3*M*\\dot{\\theta}_2(t)*\\dot{\\theta}_3(t)*cos(theta_3(t)) - 0.5*L_2*L_3*m_3*\\dot{\\theta}_1(t)**2*cos(theta_3(t)) - 1.0*L_2*L_3*m_3*\\dot{\\theta}_1(t)*\\dot{\\theta}_2(t)*cos(theta_3(t)) - 0.5*L_2*L_3*m_3*\\dot{\\theta}_1(t)*\\dot{\\theta}_3(t)*cos(theta_3(t)) - 0.5*L_2*L_3*m_3*\\dot{\\theta}_2(t)**2*cos(theta_3(t)) - 0.5*L_2*L_3*m_3*\\dot{\\theta}_2(t)*\\dot{\\theta}_3(t)*cos(theta_3(t)) + 0.166666666666667*L_3**2*m_3*\\dot{\\theta}_1(t)**2 + 0.333333333333333*L_3**2*m_3*\\dot{\\theta}_1(t)*\\dot{\\theta}_2(t) + 0.333333333333333*L_3**2*m_3*\\dot{\\theta}_1(t)*\\dot{\\theta}_3(t) + 0.166666666666667*L_3**2*m_3*\\dot{\\theta}_2(t)**2 + 0.333333333333333*L_3**2*m_3*\\dot{\\theta}_2(t)*\\dot{\\theta}_3(t) + 0.166666666666667*L_3**2*m_3*\\dot{\\theta}_3(t)**2"
            ]
          },
          "metadata": {},
          "output_type": "display_data"
        }
      ],
      "source": [
        "T = T_1 + T_2 + T_3 + T_P\n",
        "pprint(simplify(T))"
      ]
    },
    {
      "attachments": {},
      "cell_type": "markdown",
      "metadata": {
        "id": "yTjPxQI7Ovmx"
      },
      "source": [
        "## Energia Potencial do Sistema"
      ]
    },
    {
      "cell_type": "code",
      "execution_count": 34,
      "metadata": {
        "id": "q4dcPfFxOvIf"
      },
      "outputs": [
        {
          "data": {
            "text/latex": [
              "$\\displaystyle \\frac{L_{1} g m_{1} \\sin{\\left(\\theta_{1}{\\left(t \\right)} \\right)}}{2}$"
            ],
            "text/plain": [
              "L_1*g*m_1*sin(theta_1(t))/2"
            ]
          },
          "metadata": {},
          "output_type": "display_data"
        },
        {
          "data": {
            "text/latex": [
              "$\\displaystyle g m_{2} \\left(L_{1} \\sin{\\left(\\theta_{1}{\\left(t \\right)} \\right)} - \\frac{L_{2} \\sin{\\left(\\theta_{1}{\\left(t \\right)} + \\theta_{2}{\\left(t \\right)} \\right)}}{2}\\right)$"
            ],
            "text/plain": [
              "g*m_2*(L_1*sin(theta_1(t)) - L_2*sin(theta_1(t) + theta_2(t))/2)"
            ]
          },
          "metadata": {},
          "output_type": "display_data"
        },
        {
          "data": {
            "text/latex": [
              "$\\displaystyle g m_{3} \\left(L_{1} \\sin{\\left(\\theta_{1}{\\left(t \\right)} \\right)} - L_{2} \\sin{\\left(\\theta_{1}{\\left(t \\right)} + \\theta_{2}{\\left(t \\right)} \\right)} + \\frac{L_{3} \\sin{\\left(\\theta_{1}{\\left(t \\right)} + \\theta_{2}{\\left(t \\right)} + \\theta_{3}{\\left(t \\right)} \\right)}}{2}\\right)$"
            ],
            "text/plain": [
              "g*m_3*(L_1*sin(theta_1(t)) - L_2*sin(theta_1(t) + theta_2(t)) + L_3*sin(theta_1(t) + theta_2(t) + theta_3(t))/2)"
            ]
          },
          "metadata": {},
          "output_type": "display_data"
        },
        {
          "data": {
            "text/latex": [
              "$\\displaystyle M g \\left(L_{1} \\sin{\\left(\\theta_{1}{\\left(t \\right)} \\right)} - L_{2} \\sin{\\left(\\theta_{1}{\\left(t \\right)} + \\theta_{2}{\\left(t \\right)} \\right)} + L_{3} \\sin{\\left(\\theta_{1}{\\left(t \\right)} + \\theta_{2}{\\left(t \\right)} + \\theta_{3}{\\left(t \\right)} \\right)}\\right)$"
            ],
            "text/plain": [
              "M*g*(L_1*sin(theta_1(t)) - L_2*sin(theta_1(t) + theta_2(t)) + L_3*sin(theta_1(t) + theta_2(t) + theta_3(t)))"
            ]
          },
          "metadata": {},
          "output_type": "display_data"
        },
        {
          "data": {
            "text/latex": [
              "$\\displaystyle \\frac{k \\left(2.46740110027234 \\left(0.636619772367581 \\theta_{1}{\\left(t \\right)} - 1\\right)^{2} + 5.55165247561276 \\left(0.424413181578388 \\theta_{2}{\\left(t \\right)} - 1\\right)^{2} + 2.46740110027234 \\left(0.636619772367581 \\theta_{3}{\\left(t \\right)} - 1\\right)^{2}\\right)}{2}$"
            ],
            "text/plain": [
              "k*(2.46740110027234*(0.636619772367581*theta_1(t) - 1)**2 + 5.55165247561276*(0.424413181578388*theta_2(t) - 1)**2 + 2.46740110027234*(0.636619772367581*theta_3(t) - 1)**2)/2"
            ]
          },
          "metadata": {},
          "output_type": "display_data"
        }
      ],
      "source": [
        "U_1 = gravitational_energy(m_1, y_J2 / 2)\n",
        "U_2 = gravitational_energy(m_2, y_J2 + y_J3 / 2)\n",
        "U_3 = gravitational_energy(m_3, y_J2 + y_J3 + y_P / 2)\n",
        "U_P = gravitational_energy(M, y_J2 + y_J3 + y_P)\n",
        "U_el = k * ((theta_1 - y0[0])**2 + (theta_2 - y0[1])**2 + (theta_3 - y0[2])**2) / 2\n",
        "pprint(U_1, U_2, U_3, U_P, U_el)"
      ]
    },
    {
      "cell_type": "code",
      "execution_count": 35,
      "metadata": {
        "id": "tpQKhen7PLji"
      },
      "outputs": [],
      "source": [
        "U = U_1 + U_2 + U_3 + U_P + U_el"
      ]
    },
    {
      "attachments": {},
      "cell_type": "markdown",
      "metadata": {},
      "source": [
        "## Potencial Dissipativo de Rayleigh do Sistema"
      ]
    },
    {
      "cell_type": "code",
      "execution_count": 36,
      "metadata": {},
      "outputs": [],
      "source": [
        "R = c * (omega_1**2 + omega_2**2 + omega_3**2) / 2"
      ]
    },
    {
      "attachments": {},
      "cell_type": "markdown",
      "metadata": {
        "id": "K7OcZBzqO3XS"
      },
      "source": [
        "## Forças Hidráulicas ($F_j$)"
      ]
    },
    {
      "cell_type": "code",
      "execution_count": 37,
      "metadata": {
        "id": "fGekhnhDO2vG"
      },
      "outputs": [
        {
          "data": {
            "text/latex": [
              "$\\displaystyle A_{c} p_{1} + M_{c} g \\sin{\\left(\\gamma_{1} - \\theta_{1}{\\left(t \\right)} \\right)}$"
            ],
            "text/plain": [
              "A_c*p_1 + M_c*g*sin(gamma_1 - theta_1(t))"
            ]
          },
          "metadata": {},
          "output_type": "display_data"
        },
        {
          "data": {
            "text/latex": [
              "$\\displaystyle A_{c} p_{2} + M_{c} g \\sin{\\left(- \\gamma_{2} + \\theta_{1}{\\left(t \\right)} + \\theta_{2}{\\left(t \\right)} \\right)}$"
            ],
            "text/plain": [
              "A_c*p_2 + M_c*g*sin(-gamma_2 + theta_1(t) + theta_2(t))"
            ]
          },
          "metadata": {},
          "output_type": "display_data"
        }
      ],
      "source": [
        "F_1 = A_c * p_1 - M_c * g * sp.sin(theta_1 - gamma_1)\n",
        "F_2 = A_c * p_2 - M_c * g * sp.sin(phi - gamma_2)\n",
        "pprint(F_1, F_2)"
      ]
    },
    {
      "attachments": {},
      "cell_type": "markdown",
      "metadata": {
        "id": "yCZcIdmTLRx8"
      },
      "source": [
        "## Forças Generalizadas: Princípio dos Trabalhos Virtuais"
      ]
    },
    {
      "attachments": {},
      "cell_type": "markdown",
      "metadata": {
        "id": "8gF2ohHTLRx8"
      },
      "source": [
        "$F_1 :=$ força do primeiro atuador hidráulico, sobre o elo #2\n",
        "\n",
        "$F_2 :=$ força do segundo atuador hidráulico, sobre o elo #3\n",
        "\n",
        "$\\delta r_1 :=$ deslocamento virtual associado à força $F_1$\n",
        "\n",
        "$\\delta r_2 :=$ deslocamento virtual associado à força $F_2$\n",
        "\n",
        "$\\delta q_1 :=$ deslocamento virtual associado à coordenada generalizada $\\theta_1$\n",
        "\n",
        "$\\delta q_2 :=$ deslocamento virtual associado à coordenada generalizada $\\theta_2$\n",
        "\n",
        "$\\delta q_3 :=$ deslocamento virtual associado à coordenada generalizada $\\theta_3$"
      ]
    },
    {
      "cell_type": "code",
      "execution_count": 38,
      "metadata": {
        "id": "ZD3IiMw-LRx9"
      },
      "outputs": [],
      "source": [
        "dq1 = sp.Symbol(\"\\delta q_1\")\n",
        "dq2 = sp.Symbol(\"\\delta q_2\")\n",
        "dq3 = sp.Symbol(\"\\delta q_3\")"
      ]
    },
    {
      "cell_type": "code",
      "execution_count": 39,
      "metadata": {
        "id": "E6ExXte0LRx_"
      },
      "outputs": [],
      "source": [
        "F1_x = F_1 * sp.cos(theta_1 - gamma_1)\n",
        "F1_y = F_1 * sp.sin(theta_1 - gamma_1)"
      ]
    },
    {
      "cell_type": "code",
      "execution_count": 40,
      "metadata": {
        "id": "9PpmixP_LRx_"
      },
      "outputs": [],
      "source": [
        "F2_x = F_2 * sp.cos(phi - gamma_2)\n",
        "F2_y = F_2 * sp.sin(phi - gamma_2)"
      ]
    },
    {
      "cell_type": "code",
      "execution_count": 41,
      "metadata": {
        "id": "eiYrGpuq7Sp7"
      },
      "outputs": [],
      "source": [
        "def virtual_displacement(x):\n",
        "  return dq1 * sp.diff(x, theta_1) + dq2 * sp.diff(x, theta_2) + dq3 * sp.diff(x, theta_3)"
      ]
    },
    {
      "cell_type": "code",
      "execution_count": 42,
      "metadata": {
        "id": "hBAzO5pI4iy8"
      },
      "outputs": [],
      "source": [
        "dr1_x = virtual_displacement(x_J2 + P_1[0])\n",
        "dr1_y = virtual_displacement(y_J2 + P_1[1])\n",
        "dr2_x = virtual_displacement(x_J3 + P_2[0])\n",
        "dr2_y = virtual_displacement(y_J3 + P_2[1])"
      ]
    },
    {
      "cell_type": "code",
      "execution_count": 43,
      "metadata": {
        "id": "Q20ATD3S4gaO"
      },
      "outputs": [],
      "source": [
        "dW = sp.expand(F1_x * dr1_x + F1_y * dr1_y + F2_x * dr2_x + F2_y * dr2_y)"
      ]
    },
    {
      "cell_type": "code",
      "execution_count": 44,
      "metadata": {
        "id": "Lb5Gewst-sHh"
      },
      "outputs": [],
      "source": [
        "T = T.subs(gamma_alias).subs(Params)\n",
        "U = U.subs(gamma_alias).subs(Params)\n",
        "dW = dW.subs(gamma_alias).subs(Params)"
      ]
    },
    {
      "cell_type": "code",
      "execution_count": 45,
      "metadata": {
        "id": "gJQ0iItz71yd"
      },
      "outputs": [
        {
          "data": {
            "text/latex": [
              "$\\displaystyle 0.982 p_{1} \\sin{\\left(\\theta_{1}{\\left(t \\right)} + \\theta_{2}{\\left(t \\right)} \\right)} \\cos{\\left(\\theta_{1}{\\left(t \\right)} \\right)} - 0.982 p_{1} \\sin{\\left(\\theta_{1}{\\left(t \\right)} \\right)} \\cos{\\left(\\theta_{1}{\\left(t \\right)} + \\theta_{2}{\\left(t \\right)} \\right)} - 0.982 p_{2} \\sin{\\left(\\theta_{1}{\\left(t \\right)} + \\theta_{2}{\\left(t \\right)} \\right)} \\cos{\\left(\\theta_{1}{\\left(t \\right)} + \\theta_{2}{\\left(t \\right)} + \\theta_{3}{\\left(t \\right)} \\right)} + 0.982 p_{2} \\sin{\\left(\\theta_{1}{\\left(t \\right)} + \\theta_{2}{\\left(t \\right)} + \\theta_{3}{\\left(t \\right)} \\right)} \\cos{\\left(\\theta_{1}{\\left(t \\right)} + \\theta_{2}{\\left(t \\right)} \\right)} + \\tau - 101.30631 \\sin^{2}{\\left(\\theta_{1}{\\left(t \\right)} + \\theta_{2}{\\left(t \\right)} \\right)} \\cos{\\left(\\theta_{1}{\\left(t \\right)} + \\theta_{2}{\\left(t \\right)} + \\theta_{3}{\\left(t \\right)} \\right)} + 101.30631 \\sin^{2}{\\left(\\theta_{1}{\\left(t \\right)} \\right)} \\cos{\\left(\\theta_{1}{\\left(t \\right)} + \\theta_{2}{\\left(t \\right)} \\right)} - 25.3265775 \\cos{\\left(\\theta_{1}{\\left(t \\right)} - \\theta_{2}{\\left(t \\right)} \\right)} + 25.3265775 \\cos{\\left(3 \\theta_{1}{\\left(t \\right)} + \\theta_{2}{\\left(t \\right)} \\right)} + 25.3265775 \\cos{\\left(\\theta_{1}{\\left(t \\right)} + \\theta_{2}{\\left(t \\right)} - \\theta_{3}{\\left(t \\right)} \\right)} - 25.3265775 \\cos{\\left(3 \\theta_{1}{\\left(t \\right)} + 3 \\theta_{2}{\\left(t \\right)} + \\theta_{3}{\\left(t \\right)} \\right)}$"
            ],
            "text/plain": [
              "0.982*p_1*sin(theta_1(t) + theta_2(t))*cos(theta_1(t)) - 0.982*p_1*sin(theta_1(t))*cos(theta_1(t) + theta_2(t)) - 0.982*p_2*sin(theta_1(t) + theta_2(t))*cos(theta_1(t) + theta_2(t) + theta_3(t)) + 0.982*p_2*sin(theta_1(t) + theta_2(t) + theta_3(t))*cos(theta_1(t) + theta_2(t)) + tau - 101.30631*sin(theta_1(t) + theta_2(t))**2*cos(theta_1(t) + theta_2(t) + theta_3(t)) + 101.30631*sin(theta_1(t))**2*cos(theta_1(t) + theta_2(t)) - 25.3265775*cos(theta_1(t) - theta_2(t)) + 25.3265775*cos(3*theta_1(t) + theta_2(t)) + 25.3265775*cos(theta_1(t) + theta_2(t) - theta_3(t)) - 25.3265775*cos(3*theta_1(t) + 3*theta_2(t) + theta_3(t))"
            ]
          },
          "metadata": {},
          "output_type": "display_data"
        },
        {
          "data": {
            "text/latex": [
              "$\\displaystyle 0.982 p_{1} \\sin{\\left(\\theta_{1}{\\left(t \\right)} + \\theta_{2}{\\left(t \\right)} \\right)} \\cos{\\left(\\theta_{1}{\\left(t \\right)} \\right)} - 0.982 p_{1} \\sin{\\left(\\theta_{1}{\\left(t \\right)} \\right)} \\cos{\\left(\\theta_{1}{\\left(t \\right)} + \\theta_{2}{\\left(t \\right)} \\right)} - 0.982 p_{2} \\sin{\\left(\\theta_{1}{\\left(t \\right)} + \\theta_{2}{\\left(t \\right)} \\right)} \\cos{\\left(\\theta_{1}{\\left(t \\right)} + \\theta_{2}{\\left(t \\right)} + \\theta_{3}{\\left(t \\right)} \\right)} + 0.982 p_{2} \\sin{\\left(\\theta_{1}{\\left(t \\right)} + \\theta_{2}{\\left(t \\right)} + \\theta_{3}{\\left(t \\right)} \\right)} \\cos{\\left(\\theta_{1}{\\left(t \\right)} + \\theta_{2}{\\left(t \\right)} \\right)} - 101.30631 \\sin^{2}{\\left(\\theta_{1}{\\left(t \\right)} + \\theta_{2}{\\left(t \\right)} \\right)} \\cos{\\left(\\theta_{1}{\\left(t \\right)} + \\theta_{2}{\\left(t \\right)} + \\theta_{3}{\\left(t \\right)} \\right)} + 101.30631 \\sin^{2}{\\left(\\theta_{1}{\\left(t \\right)} \\right)} \\cos{\\left(\\theta_{1}{\\left(t \\right)} + \\theta_{2}{\\left(t \\right)} \\right)} - 25.3265775 \\cos{\\left(\\theta_{1}{\\left(t \\right)} - \\theta_{2}{\\left(t \\right)} \\right)} + 25.3265775 \\cos{\\left(3 \\theta_{1}{\\left(t \\right)} + \\theta_{2}{\\left(t \\right)} \\right)} + 25.3265775 \\cos{\\left(\\theta_{1}{\\left(t \\right)} + \\theta_{2}{\\left(t \\right)} - \\theta_{3}{\\left(t \\right)} \\right)} - 25.3265775 \\cos{\\left(3 \\theta_{1}{\\left(t \\right)} + 3 \\theta_{2}{\\left(t \\right)} + \\theta_{3}{\\left(t \\right)} \\right)}$"
            ],
            "text/plain": [
              "0.982*p_1*sin(theta_1(t) + theta_2(t))*cos(theta_1(t)) - 0.982*p_1*sin(theta_1(t))*cos(theta_1(t) + theta_2(t)) - 0.982*p_2*sin(theta_1(t) + theta_2(t))*cos(theta_1(t) + theta_2(t) + theta_3(t)) + 0.982*p_2*sin(theta_1(t) + theta_2(t) + theta_3(t))*cos(theta_1(t) + theta_2(t)) - 101.30631*sin(theta_1(t) + theta_2(t))**2*cos(theta_1(t) + theta_2(t) + theta_3(t)) + 101.30631*sin(theta_1(t))**2*cos(theta_1(t) + theta_2(t)) - 25.3265775*cos(theta_1(t) - theta_2(t)) + 25.3265775*cos(3*theta_1(t) + theta_2(t)) + 25.3265775*cos(theta_1(t) + theta_2(t) - theta_3(t)) - 25.3265775*cos(3*theta_1(t) + 3*theta_2(t) + theta_3(t))"
            ]
          },
          "metadata": {},
          "output_type": "display_data"
        },
        {
          "data": {
            "text/latex": [
              "$\\displaystyle - 0.982 p_{2} \\sin{\\left(\\theta_{1}{\\left(t \\right)} + \\theta_{2}{\\left(t \\right)} \\right)} \\cos{\\left(\\theta_{1}{\\left(t \\right)} + \\theta_{2}{\\left(t \\right)} + \\theta_{3}{\\left(t \\right)} \\right)} + 0.982 p_{2} \\sin{\\left(\\theta_{1}{\\left(t \\right)} + \\theta_{2}{\\left(t \\right)} + \\theta_{3}{\\left(t \\right)} \\right)} \\cos{\\left(\\theta_{1}{\\left(t \\right)} + \\theta_{2}{\\left(t \\right)} \\right)} - 101.30631 \\sin^{2}{\\left(\\theta_{1}{\\left(t \\right)} + \\theta_{2}{\\left(t \\right)} \\right)} \\cos{\\left(\\theta_{1}{\\left(t \\right)} + \\theta_{2}{\\left(t \\right)} + \\theta_{3}{\\left(t \\right)} \\right)} + 25.3265775 \\cos{\\left(\\theta_{1}{\\left(t \\right)} + \\theta_{2}{\\left(t \\right)} - \\theta_{3}{\\left(t \\right)} \\right)} - 25.3265775 \\cos{\\left(3 \\theta_{1}{\\left(t \\right)} + 3 \\theta_{2}{\\left(t \\right)} + \\theta_{3}{\\left(t \\right)} \\right)}$"
            ],
            "text/plain": [
              "-0.982*p_2*sin(theta_1(t) + theta_2(t))*cos(theta_1(t) + theta_2(t) + theta_3(t)) + 0.982*p_2*sin(theta_1(t) + theta_2(t) + theta_3(t))*cos(theta_1(t) + theta_2(t)) - 101.30631*sin(theta_1(t) + theta_2(t))**2*cos(theta_1(t) + theta_2(t) + theta_3(t)) + 25.3265775*cos(theta_1(t) + theta_2(t) - theta_3(t)) - 25.3265775*cos(3*theta_1(t) + 3*theta_2(t) + theta_3(t))"
            ]
          },
          "metadata": {},
          "output_type": "display_data"
        }
      ],
      "source": [
        "Q_1 = coeffs(dW, dq1) + tau\n",
        "pprint(Q_1)\n",
        "Q_2 = coeffs(dW, dq2)\n",
        "pprint(Q_2)\n",
        "Q_3 = coeffs(dW, dq3)\n",
        "pprint(Q_3)"
      ]
    },
    {
      "attachments": {},
      "cell_type": "markdown",
      "metadata": {
        "id": "s8HcqJ1J7DPO"
      },
      "source": [
        "## Lagrange\n",
        "\n",
        "$L = T - U$\n",
        "\n",
        "$\\frac{d}{dt}(\\frac{\\partial L}{\\partial \\dot{q_i}}) - \\frac{\\partial L}{\\partial q_i} + \\frac{\\partial R}{\\partial \\dot{q_i}}=Q_i^{nc}$"
      ]
    },
    {
      "cell_type": "code",
      "execution_count": 46,
      "metadata": {
        "id": "lsxogPBTPXfv"
      },
      "outputs": [],
      "source": [
        "Lagrangian = T - U\n",
        "Lagrangian = simplify(Lagrangian)"
      ]
    },
    {
      "cell_type": "code",
      "execution_count": 47,
      "metadata": {
        "id": "IkileBrw7E0W"
      },
      "outputs": [],
      "source": [
        "ode1 = sp.diff(sp.diff(Lagrangian, omega_1), t) - sp.diff(Lagrangian, theta_1) + sp.diff(R, omega_1) - Q_1\n",
        "ode2 = sp.diff(sp.diff(Lagrangian, omega_2), t) - sp.diff(Lagrangian, theta_2) + sp.diff(R, omega_2) - Q_2\n",
        "ode3 = sp.diff(sp.diff(Lagrangian, omega_3), t) - sp.diff(Lagrangian, theta_3) + sp.diff(R, omega_3) - Q_3"
      ]
    },
    {
      "cell_type": "code",
      "execution_count": 48,
      "metadata": {},
      "outputs": [],
      "source": [
        "ode1 = simplify(ode1)\n",
        "ode2 = simplify(ode2)\n",
        "ode3 = simplify(ode3)"
      ]
    },
    {
      "attachments": {},
      "cell_type": "markdown",
      "metadata": {
        "id": "jLwhGyoo7gl2"
      },
      "source": [
        "# Espaço de Estados"
      ]
    },
    {
      "attachments": {},
      "cell_type": "markdown",
      "metadata": {
        "id": "CrjP6gIRr3O6"
      },
      "source": [
        "Para encontrar o espaço de estados a partir das equações diferenciais ordinárias, é necessário isolar as derivadas de segunda ordem $\\ddot{\\theta}_i \\equiv \\alpha_i$\n",
        "\n",
        "$\\begin{bmatrix}A\\end{bmatrix} = \\begin{bmatrix}a_{11} &  a_{12} & a_{13} \\\\ a_{21} & a_{22} & a_{23} \\\\ a_{31} & a_{32} & a_{33}  \\end{bmatrix}$\n",
        "\n",
        "$\\begin{bmatrix}A\\end{bmatrix} \\begin{bmatrix}\\ddot{\\theta}_1 \\\\ \\ddot{\\theta}_2 \\\\ \\ddot{\\theta}_3 \\end{bmatrix} = -\\begin{bmatrix} b_1 \\\\ b_2 \\\\ b_3 \\end{bmatrix}$\n",
        "\n",
        "$\\begin{bmatrix}\\ddot{\\theta}_1 \\\\ \\ddot{\\theta}_2 \\\\ \\ddot{\\theta}_3 \\end{bmatrix} = - \\begin{bmatrix}A\\end{bmatrix}^{-1}  \\begin{bmatrix} b_1 \\\\ b_2 \\\\ b_3 \\end{bmatrix}$\n",
        "\n",
        "**Fonte:** Notas de aula do Laboratório de Simulações Numéricas (PME3201)"
      ]
    },
    {
      "cell_type": "code",
      "execution_count": 49,
      "metadata": {
        "id": "edxoKP1yjzjo"
      },
      "outputs": [],
      "source": [
        "def state_space(eq1, eq2, eq3):\n",
        "  # Matriz dos termos dependentes de alpha_i.\n",
        "  A = sp.Matrix([\n",
        "      [coeffs(eq1, alpha_1), coeffs(eq1, alpha_2), coeffs(eq1, alpha_3)],\n",
        "      [coeffs(eq2, alpha_1), coeffs(eq2, alpha_2), coeffs(eq2, alpha_3)],\n",
        "      [coeffs(eq3, alpha_1), coeffs(eq3, alpha_2), coeffs(eq3, alpha_3)],\n",
        "  ])\n",
        "\n",
        "  # Vetor dos termos independentes de alpha_i.\n",
        "  B = sp.Matrix([\n",
        "      remove_terms(eq1, [alpha_1, alpha_2, alpha_3]),\n",
        "      remove_terms(eq2, [alpha_1, alpha_2, alpha_3]),\n",
        "      remove_terms(eq3, [alpha_1, alpha_2, alpha_3]),\n",
        "  ])\n",
        "\n",
        "  # Matriz das derivadas de segunda ordem:\n",
        "  Alpha = -A ** -1 * B\n",
        "\n",
        "  return (sp.Matrix([ # espaço de estados\n",
        "    omega_1,\n",
        "    omega_2,\n",
        "    omega_3,\n",
        "    Alpha[0],\n",
        "    Alpha[1],\n",
        "    Alpha[2]\n",
        "  ]),\n",
        "  sp.Matrix([ # variáveis\n",
        "    theta_1,\n",
        "    theta_2,\n",
        "    theta_3,\n",
        "    omega_1,\n",
        "    omega_2,\n",
        "    omega_3\n",
        "  ]))"
      ]
    },
    {
      "cell_type": "code",
      "execution_count": 50,
      "metadata": {
        "id": "cF0pJsp7EZgI"
      },
      "outputs": [],
      "source": [
        "space, vars = state_space(ode1, ode2, ode3)"
      ]
    },
    {
      "cell_type": "code",
      "execution_count": 51,
      "metadata": {
        "id": "41tzf3dcc1nA"
      },
      "outputs": [
        {
          "data": {
            "text/latex": [
              "$\\displaystyle \\left[\\begin{matrix}\\theta_{1}{\\left(t \\right)}\\\\\\theta_{2}{\\left(t \\right)}\\\\\\theta_{3}{\\left(t \\right)}\\\\\\dot{\\theta}_1{\\left(t \\right)}\\\\\\dot{\\theta}_2{\\left(t \\right)}\\\\\\dot{\\theta}_3{\\left(t \\right)}\\end{matrix}\\right]$"
            ],
            "text/plain": [
              "Matrix([\n",
              "[       theta_1(t)],\n",
              "[       theta_2(t)],\n",
              "[       theta_3(t)],\n",
              "[\\dot{\\theta}_1(t)],\n",
              "[\\dot{\\theta}_2(t)],\n",
              "[\\dot{\\theta}_3(t)]])"
            ]
          },
          "metadata": {},
          "output_type": "display_data"
        }
      ],
      "source": [
        "pprint(vars)"
      ]
    },
    {
      "attachments": {},
      "cell_type": "markdown",
      "metadata": {
        "id": "cKYm1kFoTid0"
      },
      "source": [
        "### Conversão dos estados internos do sistema: $f_i(t) → x_i$\n",
        "Conversão de função do tempo para variável."
      ]
    },
    {
      "cell_type": "code",
      "execution_count": 52,
      "metadata": {
        "id": "FCd71ZAw8Yn3"
      },
      "outputs": [],
      "source": [
        "Theta_1, Omega_1, Alpha_1 = sp.symbols(\"Theta_1 Omega_1 Alpha_1\")\n",
        "Theta_2, Omega_2, Alpha_2 = sp.symbols(\"Theta_2 Omega_2 Alpha_2\")\n",
        "Theta_3, Omega_3, Alpha_3 = sp.symbols(\"Theta_3 Omega_3 Alpha_3\")\n",
        "FUNCTIONS_TO_SYMBOLS_DICT = {\n",
        "    theta_1: Theta_1,\n",
        "    omega_1: Omega_1,\n",
        "    alpha_1: Alpha_1,\n",
        "    theta_2: Theta_2,\n",
        "    omega_2: Omega_2,\n",
        "    alpha_2: Alpha_2,\n",
        "    theta_3: Theta_3,\n",
        "    omega_3: Omega_3,\n",
        "    alpha_3: Alpha_3,\n",
        "}"
      ]
    },
    {
      "attachments": {},
      "cell_type": "markdown",
      "metadata": {
        "id": "ozElEcSNTbs-"
      },
      "source": [
        "### Conversão do espaço de estados para o SCILAB"
      ]
    },
    {
      "cell_type": "code",
      "execution_count": 53,
      "metadata": {
        "id": "OdOt2SwONFO5"
      },
      "outputs": [
        {
          "name": "stdout",
          "output_type": "stream",
          "text": [
            "    dy(1) = Omega_1;\n",
            "    dy(2) = Omega_2;\n",
            "    dy(3) = Omega_3;\n",
            "    dy(4) = -(-11337.4129783759*Omega_1.^2.*sin(Theta_3) + 6500.11677426882*Omega_1.^2.*sin(Theta_2 + Theta_3) - 22674.8259567517*Omega_1.*Omega_2.*sin(Theta_3) - 11337.4129783759*Omega_2.^2.*sin(Theta_3) + Omega_3.*c + 10000.0*Theta_3 + 0.982*p_2.*sin(Theta_1 + Theta_2).*cos(Theta_1 + Theta_2 + Theta_3) - 0.982*p_2.*sin(Theta_1 + Theta_2 + Theta_3).*cos(Theta_1 + Theta_2) + 101.30631*sin(Theta_1 + Theta_2).^2.*cos(Theta_1 + Theta_2 + Theta_3) - 25.3265775*cos(Theta_1 + Theta_2 - Theta_3) + 29649.6024210485*cos(Theta_1 + Theta_2 + Theta_3) + 25.3265775*cos(3*Theta_1 + 3*Theta_2 + Theta_3) - 15707.963267949).*(-3.56925254093844e+25*cos(Theta_2).^5.*cos(Theta_3) - 1683728407.79335*cos(Theta_2).^5.*cos(Theta_2 + Theta_3) + 5.69283456550967e+25*cos(Theta_2).^5 - 5.35698679386871e+25*cos(Theta_2).^4.*cos(Theta_3).^2 + 4.60700864272709e+25*cos(Theta_2).^4.*cos(Theta_3).*cos(Theta_2 + Theta_3) + 2.12054033019379e+26*cos(Theta_2).^4.*cos(Theta_3) + 2173270520.29487*cos(Theta_2).^4.*cos(Theta_2 + Theta_3).^2 - 6.41331113604657e+25*cos(Theta_2).^4.*cos(Theta_2 + Theta_3) - 2.01941677955858e+26*cos(Theta_2).^4 - 2.01003621770473e+25*cos(Theta_2).^3.*cos(Theta_3).^3 + 4.60968305926954e+25*cos(Theta_2).^3.*cos(Theta_3).^2.*cos(Theta_2 + Theta_3) + 8.97516172581099e+25*cos(Theta_2).^3.*cos(Theta_3).^2 - 1.3214424769906e+25*cos(Theta_2).^3.*cos(Theta_3).*cos(Theta_2 + Theta_3).^2 - 1.68443566200778e+26*cos(Theta_2).^3.*cos(Theta_3).*cos(Theta_2 + Theta_3) - 1.33414307757043e+26*cos(Theta_2).^3.*cos(Theta_3) - 935048814.389394*cos(Theta_2).^3.*cos(Theta_2 + Theta_3).^3 + 4.99023080005116e+24*cos(Theta_2).^3.*cos(Theta_2 + Theta_3).^2 + 1.40613782542971e+26*cos(Theta_2).^3.*cos(Theta_2 + Theta_3) + 6.60270841343076e+25*cos(Theta_2).^3 + 45471668372.0522*cos(Theta_2).^2.*cos(Theta_3).^4 + 8.64817317813498e+24*cos(Theta_2).^2.*cos(Theta_3).^3.*cos(Theta_2 + Theta_3) - 5.6015271380248e+25*cos(Theta_2).^2.*cos(Theta_3).^3 + 8616983070.48696*cos(Theta_2).^2.*cos(Theta_3).^2.*cos(Theta_2 + Theta_3).^2 - 3.33517572940568e+25*cos(Theta_2).^2.*cos(Theta_3).^2.*cos(Theta_2 + Theta_3) + 3.28123754430817e+26*cos(Theta_2).^2.*cos(Theta_3).^2 - 5.68550122893214e+24*cos(Theta_2).^2.*cos(Theta_3).*cos(Theta_2 + Theta_3).^3 - 1.81076160643917e+25*cos(Theta_2).^2.*cos(Theta_3).*cos(Theta_2 + Theta_3).^2 + 4.22931305966498e+25*cos(Theta_2).^2.*cos(Theta_3).*cos(Theta_2 + Theta_3) - 6.32299152263278e+26*cos(Theta_2).^2.*cos(Theta_3) + 134101465.529532*cos(Theta_2).^2.*cos(Theta_2 + Theta_3).^4 + 1.94498780310484e+25*cos(Theta_2).^2.*cos(Theta_2 + Theta_3).^3 + 4.27972019807557e+25*cos(Theta_2).^2.*cos(Theta_2 + Theta_3).^2 - 1.75671168323896e+25*cos(Theta_2).^2.*cos(Theta_2 + Theta_3) + 4.0105594119479e+26*cos(Theta_2).^2 + 10498147122.8575*cos(Theta_2).*cos(Theta_3).^5 - 1502113878.89092*cos(Theta_2).*cos(Theta_3).^4.*cos(Theta_2 + Theta_3) - 2.10179208109539e+25*cos(Theta_2).*cos(Theta_3).^4 + 3.72087321911132e+24*cos(Theta_2).*cos(Theta_3).^3.*cos(Theta_2 + Theta_3).^2 - 15565953516.3329*cos(Theta_2).*cos(Theta_3).^3.*cos(Theta_2 + Theta_3) + 1.72793521001918e+26*cos(Theta_2).*cos(Theta_3).^3 - 8.53320258249529e+24*cos(Theta_2).*cos(Theta_3).^2.*cos(Theta_2 + Theta_3).^3 - 2.11438787814449e+25*cos(Theta_2).*cos(Theta_3).^2.*cos(Theta_2 + Theta_3).^2 + 1.4669165101009e+25*cos(Theta_2).*cos(Theta_3).^2.*cos(Theta_2 + Theta_3) - 5.28237827160166e+26*cos(Theta_2).*cos(Theta_3).^2 + 3.66927711047297e+24*cos(Theta_2).*cos(Theta_3).*cos(Theta_2 + Theta_3).^4 + 4.15691126925522e+25*cos(Theta_2).*cos(Theta_3).*cos(Theta_2 + Theta_3).^3 + 3.76976560110452e+25*cos(Theta_2).*cos(Theta_3).*cos(Theta_2 + Theta_3).^2 - 6.25315681949972e+25*cos(Theta_2).*cos(Theta_3).*cos(Theta_2 + Theta_3) + 7.11221306489188e+26*cos(Theta_2).*cos(Theta_3) - 8.83018524807144e+24*cos(Theta_2).*cos(Theta_2 + Theta_3).^4 - 5.05809895914203e+25*cos(Theta_2).*cos(Theta_2 + Theta_3).^3 - 2.1551267894797e+25*cos(Theta_2).*cos(Theta_2 + Theta_3).^2 + 6.58495210545639e+25*cos(Theta_2).*cos(Theta_2 + Theta_3) - 3.55666007799187e+26*cos(Theta_2) - 3.65323936200199e-6*cos(Theta_3).^6 + 4516823804.88069*cos(Theta_3).^5.*cos(Theta_2 + Theta_3) + 7314004530.07921*cos(Theta_3).^5 - 3884468472.19739*cos(Theta_3).^4.*cos(Theta_2 + Theta_3).^2 - 9.04295243122616e+24*cos(Theta_3).^4.*cos(Theta_2 + Theta_3) - 54959809195.9926*cos(Theta_3).^4 - 1.60090428666525e+24*cos(Theta_3).^3.*cos(Theta_2 + Theta_3).^3 + 1.03692521211393e+25*cos(Theta_3).^3.*cos(Theta_2 + Theta_3).^2 + 7.98484769242165e+25*cos(Theta_3).^3.*cos(Theta_2 + Theta_3) + 165917960289.619*cos(Theta_3).^3 + 1.83570358204283e+24*cos(Theta_3).^2.*cos(Theta_2 + Theta_3).^4 + 8.12273110521244e+24*cos(Theta_3).^2.*cos(Theta_2 + Theta_3).^3 - 6.70519445727739e+25*cos(Theta_3).^2.*cos(Theta_2 + Theta_3).^2 - 2.63746041503665e+26*cos(Theta_3).^2.*cos(Theta_2 + Theta_3) - 241924441783.445*cos(Theta_3).^2 - 5.26235026852277e+23*cos(Theta_3).*cos(Theta_2 + Theta_3).^5 - 8.38388303402853e+24*cos(Theta_3).*cos(Theta_2 + Theta_3).^4 - 1.34226286579099e+25*cos(Theta_3).*cos(Theta_2 + Theta_3).^3 + 1.43952073474476e+26*cos(Theta_3).*cos(Theta_2 + Theta_3).^2 + 3.86165093104024e+26*cos(Theta_3).*cos(Theta_2 + Theta_3) + 142340889804.552*cos(Theta_3) + 1.15962763530099e+24*cos(Theta_2 + Theta_3).^5 + 9.56082697801438e+24*cos(Theta_2 + Theta_3).^4 + 7.26559393349474e+24*cos(Theta_2 + Theta_3).^3 - 1.02573095677281e+26*cos(Theta_2 + Theta_3).^2 - 2.11422095877194e+26*cos(Theta_2 + Theta_3))./(8.60060945478935e+29*cos(Theta_2).^6 - 137931031166431.0*cos(Theta_2).^5.*cos(Theta_3).^2 - 4.64011166259112e+29*cos(Theta_2).^5.*cos(Theta_3).*cos(Theta_2 + Theta_3) + 1.29084032973512e+30*cos(Theta_2).^5.*cos(Theta_3) - 13793103116643.1*cos(Theta_2).^5.*cos(Theta_2 + Theta_3).^2 - 1.48016357809627e+30*cos(Theta_2).^5.*cos(Theta_2 + Theta_3) - 3.05089052695436e+30*cos(Theta_2).^5 - 209182782042047.0*cos(Theta_2).^4.*cos(Theta_3).^3 - 6.96420794367251e+29*cos(Theta_2).^4.*cos(Theta_3).^2.*cos(Theta_2 + Theta_3) + 7.66271274625817e+29*cos(Theta_2).^4.*cos(Theta_3).^2 + 7.98562510874448e+29*cos(Theta_2).^4.*cos(Theta_3).*cos(Theta_2 + Theta_3).^2 - 2.01658492447337e+28*cos(Theta_2).^4.*cos(Theta_3).*cos(Theta_2 + Theta_3) - 1.39017445272203e+30*cos(Theta_2).^4.*cos(Theta_3) + 17803432102255.6*cos(Theta_2).^4.*cos(Theta_2 + Theta_3).^3 + 1.17522682767921e+30*cos(Theta_2).^4.*cos(Theta_2 + Theta_3).^2 + 3.9379334649146e+30*cos(Theta_2).^4.*cos(Theta_2 + Theta_3) + 6.63620374657862e+27*cos(Theta_2).^4 - 184976306608167.0*cos(Theta_2).^3.*cos(Theta_3).^4 - 2.61309402711808e+29*cos(Theta_2).^3.*cos(Theta_3).^3.*cos(Theta_2 + Theta_3) + 4.23133209916506e+29*cos(Theta_2).^3.*cos(Theta_3).^3 + 8.98904345328622e+29*cos(Theta_2).^3.*cos(Theta_3).^2.*cos(Theta_2 + Theta_3).^2 - 1.51959711598111e+29*cos(Theta_2).^3.*cos(Theta_3).^2.*cos(Theta_2 + Theta_3) + 3.49693850696665e+29*cos(Theta_2).^3.*cos(Theta_3).^2 - 5.15371824655077e+29*cos(Theta_2).^3.*cos(Theta_3).*cos(Theta_2 + Theta_3).^3 - 1.07755015225116e+30*cos(Theta_2).^3.*cos(Theta_3).*cos(Theta_2 + Theta_3).^2 + 6.58070957633736e+29*cos(Theta_2).^3.*cos(Theta_3).*cos(Theta_2 + Theta_3) - 7.24096017756792e+30*cos(Theta_2).^3.*cos(Theta_3) - 11108195666638.7*cos(Theta_2).^3.*cos(Theta_2 + Theta_3).^4 - 6.5256313859888e+29*cos(Theta_2).^3.*cos(Theta_2 + Theta_3).^3 - 2.47458274305283e+30*cos(Theta_2).^3.*cos(Theta_2 + Theta_3).^2 + 8.46946617727849e+29*cos(Theta_2).^3.*cos(Theta_2 + Theta_3) + 9.57403249804565e+30*cos(Theta_2).^3 - 79301850742024.6*cos(Theta_2).^2.*cos(Theta_3).^5 + 795780674166642.0*cos(Theta_2).^2.*cos(Theta_3).^4.*cos(Theta_2 + Theta_3) + 1.58767066183416e+29*cos(Theta_2).^2.*cos(Theta_3).^4 + 2.24856542167908e+29*cos(Theta_2).^2.*cos(Theta_3).^3.*cos(Theta_2 + Theta_3).^2 - 1.27437031789889e+30*cos(Theta_2).^2.*cos(Theta_3).^3.*cos(Theta_2 + Theta_3) + 5.07613691045112e+28*cos(Theta_2).^2.*cos(Theta_3).^3 - 3.86753252528802e+29*cos(Theta_2).^2.*cos(Theta_3).^2.*cos(Theta_2 + Theta_3).^3 - 1.18719404900806e+29*cos(Theta_2).^2.*cos(Theta_3).^2.*cos(Theta_2 + Theta_3).^2 + 3.81431850183081e+30*cos(Theta_2).^2.*cos(Theta_3).^2.*cos(Theta_2 + Theta_3) - 3.5869562554189e+30*cos(Theta_2).^2.*cos(Theta_3).^2 + 1.47825687633231e+29*cos(Theta_2).^2.*cos(Theta_3).*cos(Theta_2 + Theta_3).^4 + 3.85147797031254e+29*cos(Theta_2).^2.*cos(Theta_3).*cos(Theta_2 + Theta_3).^3 - 1.4979188104397e+29*cos(Theta_2).^2.*cos(Theta_3).*cos(Theta_2 + Theta_3).^2 + 1.12622443129454e+30*cos(Theta_2).^2.*cos(Theta_3).*cos(Theta_2 + Theta_3) + 8.97768384308939e+30*cos(Theta_2).^2.*cos(Theta_3) + 5549417231181.82*cos(Theta_2).^2.*cos(Theta_2 + Theta_3).^5 + 2.73787020776404e+29*cos(Theta_2).^2.*cos(Theta_2 + Theta_3).^4 + 1.25014615723435e+30*cos(Theta_2).^2.*cos(Theta_2 + Theta_3).^3 - 6.60786000796847e+29*cos(Theta_2).^2.*cos(Theta_2 + Theta_3).^2 - 7.14385061603073e+30*cos(Theta_2).^2.*cos(Theta_2 + Theta_3) - 6.52258174664405e+30*cos(Theta_2).^2 + 0.13802890479198*cos(Theta_2).*cos(Theta_3).^6 + 204717546636083.0*cos(Theta_2).*cos(Theta_3).^5.*cos(Theta_2 + Theta_3) - 497338902924683.0*cos(Theta_2).*cos(Theta_3).^5 - 308108424601980.0*cos(Theta_2).*cos(Theta_3).^4.*cos(Theta_2 + Theta_3).^2 - 4.09856818870605e+29*cos(Theta_2).*cos(Theta_3).^4.*cos(Theta_2 + Theta_3) + 4.42448758891779e+29*cos(Theta_2).*cos(Theta_3).^4 - 4.83722208529461e+28*cos(Theta_2).*cos(Theta_3).^3.*cos(Theta_2 + Theta_3).^3 + 5.48297344355786e+29*cos(Theta_2).*cos(Theta_3).^3.*cos(Theta_2 + Theta_3).^2 + 2.20267600921583e+30*cos(Theta_2).*cos(Theta_3).^3.*cos(Theta_2 + Theta_3) - 1.8860660813975e+30*cos(Theta_2).*cos(Theta_3).^3 + 5.54668132447116e+28*cos(Theta_2).*cos(Theta_3).^2.*cos(Theta_2 + Theta_3).^4 - 5.75724682377442e+28*cos(Theta_2).*cos(Theta_3).^2.*cos(Theta_2 + Theta_3).^3 - 1.54575779786016e+30*cos(Theta_2).*cos(Theta_3).^2.*cos(Theta_2 + Theta_3).^2 - 3.78064199426553e+30*cos(Theta_2).*cos(Theta_3).^2.*cos(Theta_2 + Theta_3) + 4.31060384806668e+29*cos(Theta_2).*cos(Theta_3).^2 - 1.5900486463484e+28*cos(Theta_2).*cos(Theta_3).*cos(Theta_2 + Theta_3).^5 + 5.22471967935556e+28*cos(Theta_2).*cos(Theta_3).*cos(Theta_2 + Theta_3).^4 + 2.06324710672498e+29*cos(Theta_2).*cos(Theta_3).*cos(Theta_2 + Theta_3).^3 - 8.91020128362002e+29*cos(Theta_2).*cos(Theta_3).*cos(Theta_2 + Theta_3).^2 + 1.52075297440878e+30*cos(Theta_2).*cos(Theta_3).*cos(Theta_2 + Theta_3) + 6.62898437770632e+30*cos(Theta_2).*cos(Theta_3) - 1914979971869.48*cos(Theta_2).*cos(Theta_2 + Theta_3).^6 - 7.00775987036737e+28*cos(Theta_2).*cos(Theta_2 + Theta_3).^5 - 4.33328623674947e+29*cos(Theta_2).*cos(Theta_2 + Theta_3).^4 + 9.61447783016488e+28*cos(Theta_2).*cos(Theta_2 + Theta_3).^3 + 3.50166858557136e+30*cos(Theta_2).*cos(Theta_2 + Theta_3).^2 + 9.88935462408713e+29*cos(Theta_2).*cos(Theta_2 + Theta_3) - 6.9807212412925e+30*cos(Theta_2) + 0.0414182833558749*cos(Theta_3).^7 - 0.0712394473721048*cos(Theta_3).^6.*cos(Theta_2 + Theta_3) - 165843779766439.0*cos(Theta_3).^6 - 14679941090260.8*cos(Theta_3).^5.*cos(Theta_2 + Theta_3).^2 + 237709417665230.0*cos(Theta_3).^5.*cos(Theta_2 + Theta_3) + 1.66014601878219e+29*cos(Theta_3).^5 + 25249498675248.6*cos(Theta_3).^4.*cos(Theta_2 + Theta_3).^3 + 2.93901233935638e+28*cos(Theta_3).^4.*cos(Theta_2 + Theta_3).^2 - 1.90363410153691e+29*cos(Theta_3).^4.*cos(Theta_2 + Theta_3) - 1.10005951016401e+30*cos(Theta_3).^4 - 14441148587914.8*cos(Theta_3).^3.*cos(Theta_2 + Theta_3).^4 - 3.370067482462e+28*cos(Theta_3).^3.*cos(Theta_2 + Theta_3).^3 + 4.51741668507492e+28*cos(Theta_3).^3.*cos(Theta_2 + Theta_3).^2 + 8.11479213840119e+29*cos(Theta_3).^3.*cos(Theta_2 + Theta_3) + 1.83435002582608e+30*cos(Theta_3).^3 + 3704443832897.66*cos(Theta_3).^2.*cos(Theta_2 + Theta_3).^5 + 3.25919834929226e+28*cos(Theta_3).^2.*cos(Theta_2 + Theta_3).^4 - 6.8876411662742e+28*cos(Theta_3).^2.*cos(Theta_2 + Theta_3).^3 - 9.01070178808827e+29*cos(Theta_3).^2.*cos(Theta_2 + Theta_3).^2 - 1.85463566537052e+29*cos(Theta_3).^2.*cos(Theta_2 + Theta_3) + 2.10503754804919e+30*cos(Theta_3).^2 - 1028302512235.38*cos(Theta_3).*cos(Theta_2 + Theta_3).^6 - 2.62943548050896e+28*cos(Theta_3).*cos(Theta_2 + Theta_3).^5 - 6.58171089112003e+28*cos(Theta_3).*cos(Theta_2 + Theta_3).^4 + 7.5159054871448e+29*cos(Theta_3).*cos(Theta_2 + Theta_3).^3 + 2.18296650503942e+30*cos(Theta_3).*cos(Theta_2 + Theta_3).^2 - 2.85211800606355e+30*cos(Theta_3).*cos(Theta_2 + Theta_3) - 8.49803211733198e+30*cos(Theta_3) + 274639801404.481*cos(Theta_2 + Theta_3).^7 + 7.53771504412567e+27*cos(Theta_2 + Theta_3).^6 + 6.21464918156732e+28*cos(Theta_2 + Theta_3).^5 + 1.32720409311891e+28*cos(Theta_2 + Theta_3).^4 - 9.46688592032348e+29*cos(Theta_2 + Theta_3).^3 - 1.58701286505947e+30*cos(Theta_2 + Theta_3).^2 + 3.00345265777948e+30*cos(Theta_2 + Theta_3) + 6.19067067814265e+30) - (-15107.7804138146*Omega_1.^2.*sin(Theta_2) + 6500.11677426882*Omega_1.^2.*sin(Theta_2 + Theta_3) + 22674.8259567517*Omega_1.*Omega_3.*sin(Theta_3) + 22674.8259567517*Omega_2.*Omega_3.*sin(Theta_3) + Omega_2.*c + 11337.4129783759*Omega_3.^2.*sin(Theta_3) + 10000.0*Theta_2 + 0.982*p_1.*sin(Theta_1).*cos(Theta_1 + Theta_2) - 0.982*p_1.*sin(Theta_1 + Theta_2).*cos(Theta_1) + 0.982*p_2.*sin(Theta_1 + Theta_2).*cos(Theta_1 + Theta_2 + Theta_3) - 0.982*p_2.*sin(Theta_1 + Theta_2 + Theta_3).*cos(Theta_1 + Theta_2) - 101.30631*sin(Theta_1).^2.*cos(Theta_1 + Theta_2) + 101.30631*sin(Theta_1 + Theta_2).^2.*cos(Theta_1 + Theta_2 + Theta_3) + 25.3265775*cos(Theta_1 - Theta_2) - 68912.5593108276*cos(Theta_1 + Theta_2) - 25.3265775*cos(3*Theta_1 + Theta_2) - 25.3265775*cos(Theta_1 + Theta_2 - Theta_3) + 29649.6024210485*cos(Theta_1 + Theta_2 + Theta_3) + 25.3265775*cos(3*Theta_1 + 3*Theta_2 + Theta_3) - 23561.9449019234).*(-5.69283456550967e+25*cos(Theta_2).^5 - 2.67849339693435e+25*cos(Theta_2).^4.*cos(Theta_3).^2 + 1.5356695475757e+25*cos(Theta_2).^4.*cos(Theta_3).*cos(Theta_2 + Theta_3) - 8.54420897297909e+25*cos(Theta_2).^4.*cos(Theta_3) + 188556609.363199*cos(Theta_2).^4.*cos(Theta_2 + Theta_3).^2 + 9.79735962234935e+25*cos(Theta_2).^4.*cos(Theta_2 + Theta_3) + 2.96083081903439e+26*cos(Theta_2).^4 - 4.02007243540948e+25*cos(Theta_2).^3.*cos(Theta_3).^3 + 6.91452458890431e+25*cos(Theta_2).^3.*cos(Theta_3).^2.*cos(Theta_2 + Theta_3) + 6.29546984743061e+25*cos(Theta_2).^3.*cos(Theta_3).^2 - 2.6428849539812e+25*cos(Theta_2).^3.*cos(Theta_3).*cos(Theta_2 + Theta_3).^2 + 5.58095393598106e+25*cos(Theta_2).^3.*cos(Theta_3).*cos(Theta_2 + Theta_3) + 2.33311201646444e+26*cos(Theta_2).^3.*cos(Theta_3) - 162252818.858852*cos(Theta_2).^3.*cos(Theta_2 + Theta_3).^3 - 6.32296537417347e+25*cos(Theta_2).^3.*cos(Theta_2 + Theta_3).^2 - 4.22673203198473e+26*cos(Theta_2).^3.*cos(Theta_2 + Theta_3) - 3.99974485196588e+26*cos(Theta_2).^3 - 1.50840229851192e+25*cos(Theta_2).^2.*cos(Theta_3).^4 + 6.0537212246945e+25*cos(Theta_2).^2.*cos(Theta_3).^3.*cos(Theta_2 + Theta_3) + 4.32942934076525e+25*cos(Theta_2).^2.*cos(Theta_3).^3 - 5.94994314655689e+25*cos(Theta_2).^2.*cos(Theta_3).^2.*cos(Theta_2 + Theta_3).^2 - 1.19874304362857e+26*cos(Theta_2).^2.*cos(Theta_3).^2.*cos(Theta_2 + Theta_3) - 6.73922988676594e+25*cos(Theta_2).^2.*cos(Theta_3).^2 + 1.70565036867964e+25*cos(Theta_2).^2.*cos(Theta_3).*cos(Theta_2 + Theta_3).^3 + 2.28634396031396e+25*cos(Theta_2).^2.*cos(Theta_3).*cos(Theta_2 + Theta_3).^2 - 2.43744712042172e+26*cos(Theta_2).^2.*cos(Theta_3).*cos(Theta_2 + Theta_3) + 2.28680883891482e+26*cos(Theta_2).^2.*cos(Theta_3) + 263149635.819031*cos(Theta_2).^2.*cos(Theta_2 + Theta_3).^4 + 1.81363563082609e+25*cos(Theta_2).^2.*cos(Theta_2 + Theta_3).^3 + 2.16708906942366e+26*cos(Theta_2).^2.*cos(Theta_2 + Theta_3).^2 + 4.87858482351294e+26*cos(Theta_2).^2.*cos(Theta_2 + Theta_3) - 2.9186811345379e+26*cos(Theta_2).^2 + 28874475300.7394*cos(Theta_2).*cos(Theta_3).^5 + 1.29797902992255e+25*cos(Theta_2).*cos(Theta_3).^4.*cos(Theta_2 + Theta_3) - 4.20358416219077e+25*cos(Theta_2).*cos(Theta_3).^4 - 2.97669857528905e+25*cos(Theta_2).*cos(Theta_3).^3.*cos(Theta_2 + Theta_3).^2 - 1.31541573322517e+25*cos(Theta_2).*cos(Theta_3).^3.*cos(Theta_2 + Theta_3) + 1.45667101275025e+26*cos(Theta_2).*cos(Theta_3).^3 + 2.13330064562382e+25*cos(Theta_2).*cos(Theta_3).^2.*cos(Theta_2 + Theta_3).^3 + 6.81902206882235e+25*cos(Theta_2).*cos(Theta_3).^2.*cos(Theta_2 + Theta_3).^2 - 8.31840985993045e+25*cos(Theta_2).*cos(Theta_3).^2.*cos(Theta_2 + Theta_3) + 1.81178035354604e+26*cos(Theta_2).*cos(Theta_3).^2 - 4.89236948063063e+24*cos(Theta_2).*cos(Theta_3).*cos(Theta_2 + Theta_3).^4 - 2.34471496784308e+25*cos(Theta_2).*cos(Theta_3).*cos(Theta_2 + Theta_3).^3 + 8.01741153727118e+25*cos(Theta_2).*cos(Theta_3).*cos(Theta_2 + Theta_3).^2 + 7.52667431059182e+25*cos(Theta_2).*cos(Theta_3).*cos(Theta_2 + Theta_3) - 1.1180299892188e+27*cos(Theta_2).*cos(Theta_3) - 196404673.779612*cos(Theta_2).*cos(Theta_2 + Theta_3).^5 - 1.95079010010706e+24*cos(Theta_2).*cos(Theta_2 + Theta_3).^4 - 4.60755283048049e+25*cos(Theta_2).*cos(Theta_2 + Theta_3).^3 - 1.97678340206326e+26*cos(Theta_2).*cos(Theta_2 + Theta_3).^2 + 7.85981234148821e+25*cos(Theta_2).*cos(Theta_2 + Theta_3) + 1.01888516393526e+27*cos(Theta_2) + 7878181055.02445*cos(Theta_3).^6 - 13550471414.6421*cos(Theta_3).^5.*cos(Theta_2 + Theta_3) - 1.5772591449813e+25*cos(Theta_3).^5 - 2.79227491860218e+24*cos(Theta_3).^4.*cos(Theta_2 + Theta_3).^2 + 2.71288572936784e+25*cos(Theta_3).^4.*cos(Theta_2 + Theta_3) + 1.04513633306944e+26*cos(Theta_3).^4 + 4.80271285999576e+24*cos(Theta_3).^3.*cos(Theta_2 + Theta_3).^3 - 2.35484046716256e+24*cos(Theta_3).^3.*cos(Theta_2 + Theta_3).^2 - 1.37017561554814e+26*cos(Theta_3).^3.*cos(Theta_2 + Theta_3) - 1.742765588447e+26*cos(Theta_3).^3 - 2.75355537306424e+24*cos(Theta_3).^2.*cos(Theta_2 + Theta_3).^4 - 1.21623776379533e+25*cos(Theta_3).^2.*cos(Theta_2 + Theta_3).^3 + 4.8265234319642e+25*cos(Theta_3).^2.*cos(Theta_2 + Theta_3).^2 + 1.49322343362017e+26*cos(Theta_3).^2.*cos(Theta_2 + Theta_3) - 1.99993837025563e+26*cos(Theta_3).^2 + 5.26235026852276e+23*cos(Theta_3).*cos(Theta_2 + Theta_3).^5 + 4.338670352746e+24*cos(Theta_3).*cos(Theta_2 + Theta_3).^4 - 7.95634248992317e+24*cos(Theta_3).*cos(Theta_2 + Theta_3).^3 - 7.47156888169716e+25*cos(Theta_3).*cos(Theta_2 + Theta_3).^2 + 1.75029280946593e+26*cos(Theta_3).*cos(Theta_2 + Theta_3) + 8.07374695946265e+26*cos(Theta_3) + 42251518.0791309*cos(Theta_2 + Theta_3).^6 + 536870912.0*cos(Theta_2 + Theta_3).^5 + 3.22598727782771e+24*cos(Theta_2 + Theta_3).^4 + 2.65974225326052e+25*cos(Theta_2 + Theta_3).^3 + 2.02122758045797e+25*cos(Theta_2 + Theta_3).^2 - 2.85349789561048e+26*cos(Theta_2 + Theta_3) - 5.88158621603104e+26)./(8.60060945478935e+29*cos(Theta_2).^6 - 137931031166431.0*cos(Theta_2).^5.*cos(Theta_3).^2 - 4.64011166259112e+29*cos(Theta_2).^5.*cos(Theta_3).*cos(Theta_2 + Theta_3) + 1.29084032973512e+30*cos(Theta_2).^5.*cos(Theta_3) - 13793103116643.1*cos(Theta_2).^5.*cos(Theta_2 + Theta_3).^2 - 1.48016357809627e+30*cos(Theta_2).^5.*cos(Theta_2 + Theta_3) - 3.05089052695436e+30*cos(Theta_2).^5 - 209182782042047.0*cos(Theta_2).^4.*cos(Theta_3).^3 - 6.96420794367251e+29*cos(Theta_2).^4.*cos(Theta_3).^2.*cos(Theta_2 + Theta_3) + 7.66271274625817e+29*cos(Theta_2).^4.*cos(Theta_3).^2 + 7.98562510874448e+29*cos(Theta_2).^4.*cos(Theta_3).*cos(Theta_2 + Theta_3).^2 - 2.01658492447337e+28*cos(Theta_2).^4.*cos(Theta_3).*cos(Theta_2 + Theta_3) - 1.39017445272203e+30*cos(Theta_2).^4.*cos(Theta_3) + 17803432102255.6*cos(Theta_2).^4.*cos(Theta_2 + Theta_3).^3 + 1.17522682767921e+30*cos(Theta_2).^4.*cos(Theta_2 + Theta_3).^2 + 3.9379334649146e+30*cos(Theta_2).^4.*cos(Theta_2 + Theta_3) + 6.63620374657862e+27*cos(Theta_2).^4 - 184976306608167.0*cos(Theta_2).^3.*cos(Theta_3).^4 - 2.61309402711808e+29*cos(Theta_2).^3.*cos(Theta_3).^3.*cos(Theta_2 + Theta_3) + 4.23133209916506e+29*cos(Theta_2).^3.*cos(Theta_3).^3 + 8.98904345328622e+29*cos(Theta_2).^3.*cos(Theta_3).^2.*cos(Theta_2 + Theta_3).^2 - 1.51959711598111e+29*cos(Theta_2).^3.*cos(Theta_3).^2.*cos(Theta_2 + Theta_3) + 3.49693850696665e+29*cos(Theta_2).^3.*cos(Theta_3).^2 - 5.15371824655077e+29*cos(Theta_2).^3.*cos(Theta_3).*cos(Theta_2 + Theta_3).^3 - 1.07755015225116e+30*cos(Theta_2).^3.*cos(Theta_3).*cos(Theta_2 + Theta_3).^2 + 6.58070957633736e+29*cos(Theta_2).^3.*cos(Theta_3).*cos(Theta_2 + Theta_3) - 7.24096017756792e+30*cos(Theta_2).^3.*cos(Theta_3) - 11108195666638.7*cos(Theta_2).^3.*cos(Theta_2 + Theta_3).^4 - 6.5256313859888e+29*cos(Theta_2).^3.*cos(Theta_2 + Theta_3).^3 - 2.47458274305283e+30*cos(Theta_2).^3.*cos(Theta_2 + Theta_3).^2 + 8.46946617727849e+29*cos(Theta_2).^3.*cos(Theta_2 + Theta_3) + 9.57403249804565e+30*cos(Theta_2).^3 - 79301850742024.6*cos(Theta_2).^2.*cos(Theta_3).^5 + 795780674166642.0*cos(Theta_2).^2.*cos(Theta_3).^4.*cos(Theta_2 + Theta_3) + 1.58767066183416e+29*cos(Theta_2).^2.*cos(Theta_3).^4 + 2.24856542167908e+29*cos(Theta_2).^2.*cos(Theta_3).^3.*cos(Theta_2 + Theta_3).^2 - 1.27437031789889e+30*cos(Theta_2).^2.*cos(Theta_3).^3.*cos(Theta_2 + Theta_3) + 5.07613691045112e+28*cos(Theta_2).^2.*cos(Theta_3).^3 - 3.86753252528802e+29*cos(Theta_2).^2.*cos(Theta_3).^2.*cos(Theta_2 + Theta_3).^3 - 1.18719404900806e+29*cos(Theta_2).^2.*cos(Theta_3).^2.*cos(Theta_2 + Theta_3).^2 + 3.81431850183081e+30*cos(Theta_2).^2.*cos(Theta_3).^2.*cos(Theta_2 + Theta_3) - 3.5869562554189e+30*cos(Theta_2).^2.*cos(Theta_3).^2 + 1.47825687633231e+29*cos(Theta_2).^2.*cos(Theta_3).*cos(Theta_2 + Theta_3).^4 + 3.85147797031254e+29*cos(Theta_2).^2.*cos(Theta_3).*cos(Theta_2 + Theta_3).^3 - 1.4979188104397e+29*cos(Theta_2).^2.*cos(Theta_3).*cos(Theta_2 + Theta_3).^2 + 1.12622443129454e+30*cos(Theta_2).^2.*cos(Theta_3).*cos(Theta_2 + Theta_3) + 8.97768384308939e+30*cos(Theta_2).^2.*cos(Theta_3) + 5549417231181.82*cos(Theta_2).^2.*cos(Theta_2 + Theta_3).^5 + 2.73787020776404e+29*cos(Theta_2).^2.*cos(Theta_2 + Theta_3).^4 + 1.25014615723435e+30*cos(Theta_2).^2.*cos(Theta_2 + Theta_3).^3 - 6.60786000796847e+29*cos(Theta_2).^2.*cos(Theta_2 + Theta_3).^2 - 7.14385061603073e+30*cos(Theta_2).^2.*cos(Theta_2 + Theta_3) - 6.52258174664405e+30*cos(Theta_2).^2 + 0.13802890479198*cos(Theta_2).*cos(Theta_3).^6 + 204717546636083.0*cos(Theta_2).*cos(Theta_3).^5.*cos(Theta_2 + Theta_3) - 497338902924683.0*cos(Theta_2).*cos(Theta_3).^5 - 308108424601980.0*cos(Theta_2).*cos(Theta_3).^4.*cos(Theta_2 + Theta_3).^2 - 4.09856818870605e+29*cos(Theta_2).*cos(Theta_3).^4.*cos(Theta_2 + Theta_3) + 4.42448758891779e+29*cos(Theta_2).*cos(Theta_3).^4 - 4.83722208529461e+28*cos(Theta_2).*cos(Theta_3).^3.*cos(Theta_2 + Theta_3).^3 + 5.48297344355786e+29*cos(Theta_2).*cos(Theta_3).^3.*cos(Theta_2 + Theta_3).^2 + 2.20267600921583e+30*cos(Theta_2).*cos(Theta_3).^3.*cos(Theta_2 + Theta_3) - 1.8860660813975e+30*cos(Theta_2).*cos(Theta_3).^3 + 5.54668132447116e+28*cos(Theta_2).*cos(Theta_3).^2.*cos(Theta_2 + Theta_3).^4 - 5.75724682377442e+28*cos(Theta_2).*cos(Theta_3).^2.*cos(Theta_2 + Theta_3).^3 - 1.54575779786016e+30*cos(Theta_2).*cos(Theta_3).^2.*cos(Theta_2 + Theta_3).^2 - 3.78064199426553e+30*cos(Theta_2).*cos(Theta_3).^2.*cos(Theta_2 + Theta_3) + 4.31060384806668e+29*cos(Theta_2).*cos(Theta_3).^2 - 1.5900486463484e+28*cos(Theta_2).*cos(Theta_3).*cos(Theta_2 + Theta_3).^5 + 5.22471967935556e+28*cos(Theta_2).*cos(Theta_3).*cos(Theta_2 + Theta_3).^4 + 2.06324710672498e+29*cos(Theta_2).*cos(Theta_3).*cos(Theta_2 + Theta_3).^3 - 8.91020128362002e+29*cos(Theta_2).*cos(Theta_3).*cos(Theta_2 + Theta_3).^2 + 1.52075297440878e+30*cos(Theta_2).*cos(Theta_3).*cos(Theta_2 + Theta_3) + 6.62898437770632e+30*cos(Theta_2).*cos(Theta_3) - 1914979971869.48*cos(Theta_2).*cos(Theta_2 + Theta_3).^6 - 7.00775987036737e+28*cos(Theta_2).*cos(Theta_2 + Theta_3).^5 - 4.33328623674947e+29*cos(Theta_2).*cos(Theta_2 + Theta_3).^4 + 9.61447783016488e+28*cos(Theta_2).*cos(Theta_2 + Theta_3).^3 + 3.50166858557136e+30*cos(Theta_2).*cos(Theta_2 + Theta_3).^2 + 9.88935462408713e+29*cos(Theta_2).*cos(Theta_2 + Theta_3) - 6.9807212412925e+30*cos(Theta_2) + 0.0414182833558749*cos(Theta_3).^7 - 0.0712394473721048*cos(Theta_3).^6.*cos(Theta_2 + Theta_3) - 165843779766439.0*cos(Theta_3).^6 - 14679941090260.8*cos(Theta_3).^5.*cos(Theta_2 + Theta_3).^2 + 237709417665230.0*cos(Theta_3).^5.*cos(Theta_2 + Theta_3) + 1.66014601878219e+29*cos(Theta_3).^5 + 25249498675248.6*cos(Theta_3).^4.*cos(Theta_2 + Theta_3).^3 + 2.93901233935638e+28*cos(Theta_3).^4.*cos(Theta_2 + Theta_3).^2 - 1.90363410153691e+29*cos(Theta_3).^4.*cos(Theta_2 + Theta_3) - 1.10005951016401e+30*cos(Theta_3).^4 - 14441148587914.8*cos(Theta_3).^3.*cos(Theta_2 + Theta_3).^4 - 3.370067482462e+28*cos(Theta_3).^3.*cos(Theta_2 + Theta_3).^3 + 4.51741668507492e+28*cos(Theta_3).^3.*cos(Theta_2 + Theta_3).^2 + 8.11479213840119e+29*cos(Theta_3).^3.*cos(Theta_2 + Theta_3) + 1.83435002582608e+30*cos(Theta_3).^3 + 3704443832897.66*cos(Theta_3).^2.*cos(Theta_2 + Theta_3).^5 + 3.25919834929226e+28*cos(Theta_3).^2.*cos(Theta_2 + Theta_3).^4 - 6.8876411662742e+28*cos(Theta_3).^2.*cos(Theta_2 + Theta_3).^3 - 9.01070178808827e+29*cos(Theta_3).^2.*cos(Theta_2 + Theta_3).^2 - 1.85463566537052e+29*cos(Theta_3).^2.*cos(Theta_2 + Theta_3) + 2.10503754804919e+30*cos(Theta_3).^2 - 1028302512235.38*cos(Theta_3).*cos(Theta_2 + Theta_3).^6 - 2.62943548050896e+28*cos(Theta_3).*cos(Theta_2 + Theta_3).^5 - 6.58171089112003e+28*cos(Theta_3).*cos(Theta_2 + Theta_3).^4 + 7.5159054871448e+29*cos(Theta_3).*cos(Theta_2 + Theta_3).^3 + 2.18296650503942e+30*cos(Theta_3).*cos(Theta_2 + Theta_3).^2 - 2.85211800606355e+30*cos(Theta_3).*cos(Theta_2 + Theta_3) - 8.49803211733198e+30*cos(Theta_3) + 274639801404.481*cos(Theta_2 + Theta_3).^7 + 7.53771504412567e+27*cos(Theta_2 + Theta_3).^6 + 6.21464918156732e+28*cos(Theta_2 + Theta_3).^5 + 1.32720409311891e+28*cos(Theta_2 + Theta_3).^4 - 9.46688592032348e+29*cos(Theta_2 + Theta_3).^3 - 1.58701286505947e+30*cos(Theta_2 + Theta_3).^2 + 3.00345265777948e+30*cos(Theta_2 + Theta_3) + 6.19067067814265e+30) - (30215.5608276291*Omega_1.*Omega_2.*sin(Theta_2) - 13000.2335485376*Omega_1.*Omega_2.*sin(Theta_2 + Theta_3) + 22674.8259567517*Omega_1.*Omega_3.*sin(Theta_3) - 13000.2335485376*Omega_1.*Omega_3.*sin(Theta_2 + Theta_3) + Omega_1.*c + 15107.7804138146*Omega_2.^2.*sin(Theta_2) - 6500.11677426882*Omega_2.^2.*sin(Theta_2 + Theta_3) + 22674.8259567517*Omega_2.*Omega_3.*sin(Theta_3) - 13000.2335485376*Omega_2.*Omega_3.*sin(Theta_2 + Theta_3) + 11337.4129783759*Omega_3.^2.*sin(Theta_3) - 6500.11677426882*Omega_3.^2.*sin(Theta_2 + Theta_3) + 10000.0*Theta_1 + 0.982*p_1.*sin(Theta_1).*cos(Theta_1 + Theta_2) - 0.982*p_1.*sin(Theta_1 + Theta_2).*cos(Theta_1) + 0.982*p_2.*sin(Theta_1 + Theta_2).*cos(Theta_1 + Theta_2 + Theta_3) - 0.982*p_2.*sin(Theta_1 + Theta_2 + Theta_3).*cos(Theta_1 + Theta_2) - tau - 101.30631*sin(Theta_1).^2.*cos(Theta_1 + Theta_2) + 101.30631*sin(Theta_1 + Theta_2).^2.*cos(Theta_1 + Theta_2 + Theta_3) + 49186.4226431238*cos(Theta_1) + 25.3265775*cos(Theta_1 - Theta_2) - 68912.5593108276*cos(Theta_1 + Theta_2) - 25.3265775*cos(3*Theta_1 + Theta_2) - 25.3265775*cos(Theta_1 + Theta_2 - Theta_3) + 29649.6024210485*cos(Theta_1 + Theta_2 + Theta_3) + 25.3265775*cos(3*Theta_1 + 3*Theta_2 + Theta_3) - 15707.963267949).*(3716613057.04317*cos(Theta_2).^5 + 2.67849339693435e+25*cos(Theta_2).^4.*cos(Theta_3).^2 + 521910192.908418*cos(Theta_2).^4.*cos(Theta_3).*cos(Theta_2 + Theta_3) + 17179869184.0*cos(Theta_2).^4.*cos(Theta_3) - 5629642798.11594*cos(Theta_2).^4.*cos(Theta_2 + Theta_3) - 9.41414039475809e+25*cos(Theta_2).^4 + 4.02007243540948e+25*cos(Theta_2).^3.*cos(Theta_3).^3 - 4.60968305926954e+25*cos(Theta_2).^3.*cos(Theta_3).^2.*cos(Theta_2 + Theta_3) - 9.5014082131892e+25*cos(Theta_2).^3.*cos(Theta_3).^2 - 507550764.563672*cos(Theta_2).^3.*cos(Theta_3).*cos(Theta_2 + Theta_3).^2 - 25769803776.0*cos(Theta_2).^3.*cos(Theta_3).*cos(Theta_2 + Theta_3) - 1.41294081020912e+26*cos(Theta_2).^3.*cos(Theta_3) + 2891312930.21851*cos(Theta_2).^3.*cos(Theta_2 + Theta_3).^2 + 1.62017212903979e+26*cos(Theta_2).^3.*cos(Theta_2 + Theta_3) + 3.33947401062281e+26*cos(Theta_2).^3 + 1.50840229851192e+25*cos(Theta_2).^2.*cos(Theta_3).^4 - 5.188903906881e+25*cos(Theta_2).^2.*cos(Theta_3).^3.*cos(Theta_2 + Theta_3) - 4.32942934076525e+25*cos(Theta_2).^2.*cos(Theta_3).^3 + 2.97497157327844e+25*cos(Theta_2).^2.*cos(Theta_3).^2.*cos(Theta_2 + Theta_3).^2 + 1.22639318048176e+26*cos(Theta_2).^2.*cos(Theta_3).^2.*cos(Theta_2 + Theta_3) - 2.19501249178084e+25*cos(Theta_2).^2.*cos(Theta_3).^2 + 121760256.233692*cos(Theta_2).^2.*cos(Theta_3).*cos(Theta_2 + Theta_3).^3 + 8589934592.0*cos(Theta_2).^2.*cos(Theta_3).*cos(Theta_2 + Theta_3).^2 + 1.82375173783129e+26*cos(Theta_2).^2.*cos(Theta_3).*cos(Theta_2 + Theta_3) + 1.52167093970805e+26*cos(Theta_2).^2.*cos(Theta_3) - 1.49011611938477e-8*cos(Theta_2).^2.*cos(Theta_2 + Theta_3).^4 - 497868122.911836*cos(Theta_2).^2.*cos(Theta_2 + Theta_3).^3 - 1.04561766302327e+26*cos(Theta_2).^2.*cos(Theta_2 + Theta_3).^2 - 4.31042226702645e+26*cos(Theta_2).^2.*cos(Theta_2 + Theta_3) - 1.09187827740999e+26*cos(Theta_2).^2 - 28874475300.7394*cos(Theta_2).*cos(Theta_3).^5 - 1.29797902992255e+25*cos(Theta_2).*cos(Theta_3).^4.*cos(Theta_2 + Theta_3) + 4.20358416219077e+25*cos(Theta_2).*cos(Theta_3).^4 + 2.23252393146679e+25*cos(Theta_2).*cos(Theta_3).^3.*cos(Theta_2 + Theta_3).^2 + 3.72547065288121e+25*cos(Theta_2).*cos(Theta_3).^3.*cos(Theta_2 + Theta_3) - 1.79189959272707e+26*cos(Theta_2).*cos(Theta_3).^3 - 8.53320258249529e+24*cos(Theta_2).*cos(Theta_3).^2.*cos(Theta_2 + Theta_3).^3 - 5.27655199238204e+25*cos(Theta_2).*cos(Theta_3).^2.*cos(Theta_2 + Theta_3).^2 + 1.88880657869605e+25*cos(Theta_2).*cos(Theta_3).^2.*cos(Theta_2 + Theta_3) + 4.09538634724571e+25*cos(Theta_2).*cos(Theta_3).^2 - 342566291.476068*cos(Theta_2).*cos(Theta_3).*cos(Theta_2 + Theta_3).^4 - 3221225472.0*cos(Theta_2).*cos(Theta_3).*cos(Theta_2 + Theta_3).^3 - 7.84668491232452e+25*cos(Theta_2).*cos(Theta_3).*cos(Theta_2 + Theta_3).^2 - 1.30939668557392e+26*cos(Theta_2).*cos(Theta_3).*cos(Theta_2 + Theta_3) + 6.29801602593084e+26*cos(Theta_2).*cos(Theta_3) + 650635493.587801*cos(Theta_2).*cos(Theta_2 + Theta_3).^4 + 2.99917734426626e+25*cos(Theta_2).*cos(Theta_2 + Theta_3).^3 + 1.85455754019701e+26*cos(Theta_2).*cos(Theta_2 + Theta_3).^2 + 9.39560426753705e+25*cos(Theta_2).*cos(Theta_2 + Theta_3) - 6.63219156136074e+26*cos(Theta_2) - 7878181055.02445*cos(Theta_3).^6 + 9033647609.76137*cos(Theta_3).^5.*cos(Theta_2 + Theta_3) + 1.5772591449813e+25*cos(Theta_3).^5 + 2.79227491860219e+24*cos(Theta_3).^4.*cos(Theta_2 + Theta_3).^2 - 1.80859048624523e+25*cos(Theta_3).^4.*cos(Theta_2 + Theta_3) - 1.04513633306944e+26*cos(Theta_3).^4 - 3.20180857333051e+24*cos(Theta_3).^3.*cos(Theta_2 + Theta_3).^3 - 8.01441165397674e+24*cos(Theta_3).^3.*cos(Theta_2 + Theta_3).^2 + 7.70964117921662e+25*cos(Theta_3).^3.*cos(Theta_2 + Theta_3) + 1.742765588447e+26*cos(Theta_3).^3 + 9.17851791021412e+23*cos(Theta_3).^2.*cos(Theta_2 + Theta_3).^4 + 7.56744828967326e+24*cos(Theta_3).^2.*cos(Theta_2 + Theta_3).^3 - 4.06329155880011e+24*cos(Theta_3).^2.*cos(Theta_2 + Theta_3).^2 - 1.76203841753628e+25*cos(Theta_3).^2.*cos(Theta_2 + Theta_3) + 1.99993837025563e+26*cos(Theta_3).^2 + 147389016.555108*cos(Theta_3).*cos(Theta_2 + Theta_3).^5 + 2147483648.0*cos(Theta_3).*cos(Theta_2 + Theta_3).^4 + 1.12534439924222e+25*cos(Theta_3).*cos(Theta_2 + Theta_3).^3 + 2.81683712859911e+25*cos(Theta_3).*cos(Theta_2 + Theta_3).^2 - 2.70971899865141e+26*cos(Theta_3).*cos(Theta_2 + Theta_3) - 8.07374695946266e+26*cos(Theta_3) - 279935673.537958*cos(Theta_2 + Theta_3).^5 - 3.22598727782771e+24*cos(Theta_2 + Theta_3).^4 - 2.65974225326052e+25*cos(Theta_2 + Theta_3).^3 - 2.02122758045797e+25*cos(Theta_2 + Theta_3).^2 + 2.85349789561048e+26*cos(Theta_2 + Theta_3) + 5.88158621603104e+26)./(8.60060945478935e+29*cos(Theta_2).^6 - 137931031166431.0*cos(Theta_2).^5.*cos(Theta_3).^2 - 4.64011166259112e+29*cos(Theta_2).^5.*cos(Theta_3).*cos(Theta_2 + Theta_3) + 1.29084032973512e+30*cos(Theta_2).^5.*cos(Theta_3) - 13793103116643.1*cos(Theta_2).^5.*cos(Theta_2 + Theta_3).^2 - 1.48016357809627e+30*cos(Theta_2).^5.*cos(Theta_2 + Theta_3) - 3.05089052695436e+30*cos(Theta_2).^5 - 209182782042047.0*cos(Theta_2).^4.*cos(Theta_3).^3 - 6.96420794367251e+29*cos(Theta_2).^4.*cos(Theta_3).^2.*cos(Theta_2 + Theta_3) + 7.66271274625817e+29*cos(Theta_2).^4.*cos(Theta_3).^2 + 7.98562510874448e+29*cos(Theta_2).^4.*cos(Theta_3).*cos(Theta_2 + Theta_3).^2 - 2.01658492447337e+28*cos(Theta_2).^4.*cos(Theta_3).*cos(Theta_2 + Theta_3) - 1.39017445272203e+30*cos(Theta_2).^4.*cos(Theta_3) + 17803432102255.6*cos(Theta_2).^4.*cos(Theta_2 + Theta_3).^3 + 1.17522682767921e+30*cos(Theta_2).^4.*cos(Theta_2 + Theta_3).^2 + 3.9379334649146e+30*cos(Theta_2).^4.*cos(Theta_2 + Theta_3) + 6.63620374657862e+27*cos(Theta_2).^4 - 184976306608167.0*cos(Theta_2).^3.*cos(Theta_3).^4 - 2.61309402711808e+29*cos(Theta_2).^3.*cos(Theta_3).^3.*cos(Theta_2 + Theta_3) + 4.23133209916506e+29*cos(Theta_2).^3.*cos(Theta_3).^3 + 8.98904345328622e+29*cos(Theta_2).^3.*cos(Theta_3).^2.*cos(Theta_2 + Theta_3).^2 - 1.51959711598111e+29*cos(Theta_2).^3.*cos(Theta_3).^2.*cos(Theta_2 + Theta_3) + 3.49693850696665e+29*cos(Theta_2).^3.*cos(Theta_3).^2 - 5.15371824655077e+29*cos(Theta_2).^3.*cos(Theta_3).*cos(Theta_2 + Theta_3).^3 - 1.07755015225116e+30*cos(Theta_2).^3.*cos(Theta_3).*cos(Theta_2 + Theta_3).^2 + 6.58070957633736e+29*cos(Theta_2).^3.*cos(Theta_3).*cos(Theta_2 + Theta_3) - 7.24096017756792e+30*cos(Theta_2).^3.*cos(Theta_3) - 11108195666638.7*cos(Theta_2).^3.*cos(Theta_2 + Theta_3).^4 - 6.5256313859888e+29*cos(Theta_2).^3.*cos(Theta_2 + Theta_3).^3 - 2.47458274305283e+30*cos(Theta_2).^3.*cos(Theta_2 + Theta_3).^2 + 8.46946617727849e+29*cos(Theta_2).^3.*cos(Theta_2 + Theta_3) + 9.57403249804565e+30*cos(Theta_2).^3 - 79301850742024.6*cos(Theta_2).^2.*cos(Theta_3).^5 + 795780674166642.0*cos(Theta_2).^2.*cos(Theta_3).^4.*cos(Theta_2 + Theta_3) + 1.58767066183416e+29*cos(Theta_2).^2.*cos(Theta_3).^4 + 2.24856542167908e+29*cos(Theta_2).^2.*cos(Theta_3).^3.*cos(Theta_2 + Theta_3).^2 - 1.27437031789889e+30*cos(Theta_2).^2.*cos(Theta_3).^3.*cos(Theta_2 + Theta_3) + 5.07613691045112e+28*cos(Theta_2).^2.*cos(Theta_3).^3 - 3.86753252528802e+29*cos(Theta_2).^2.*cos(Theta_3).^2.*cos(Theta_2 + Theta_3).^3 - 1.18719404900806e+29*cos(Theta_2).^2.*cos(Theta_3).^2.*cos(Theta_2 + Theta_3).^2 + 3.81431850183081e+30*cos(Theta_2).^2.*cos(Theta_3).^2.*cos(Theta_2 + Theta_3) - 3.5869562554189e+30*cos(Theta_2).^2.*cos(Theta_3).^2 + 1.47825687633231e+29*cos(Theta_2).^2.*cos(Theta_3).*cos(Theta_2 + Theta_3).^4 + 3.85147797031254e+29*cos(Theta_2).^2.*cos(Theta_3).*cos(Theta_2 + Theta_3).^3 - 1.4979188104397e+29*cos(Theta_2).^2.*cos(Theta_3).*cos(Theta_2 + Theta_3).^2 + 1.12622443129454e+30*cos(Theta_2).^2.*cos(Theta_3).*cos(Theta_2 + Theta_3) + 8.97768384308939e+30*cos(Theta_2).^2.*cos(Theta_3) + 5549417231181.82*cos(Theta_2).^2.*cos(Theta_2 + Theta_3).^5 + 2.73787020776404e+29*cos(Theta_2).^2.*cos(Theta_2 + Theta_3).^4 + 1.25014615723435e+30*cos(Theta_2).^2.*cos(Theta_2 + Theta_3).^3 - 6.60786000796847e+29*cos(Theta_2).^2.*cos(Theta_2 + Theta_3).^2 - 7.14385061603073e+30*cos(Theta_2).^2.*cos(Theta_2 + Theta_3) - 6.52258174664405e+30*cos(Theta_2).^2 + 0.13802890479198*cos(Theta_2).*cos(Theta_3).^6 + 204717546636083.0*cos(Theta_2).*cos(Theta_3).^5.*cos(Theta_2 + Theta_3) - 497338902924683.0*cos(Theta_2).*cos(Theta_3).^5 - 308108424601980.0*cos(Theta_2).*cos(Theta_3).^4.*cos(Theta_2 + Theta_3).^2 - 4.09856818870605e+29*cos(Theta_2).*cos(Theta_3).^4.*cos(Theta_2 + Theta_3) + 4.42448758891779e+29*cos(Theta_2).*cos(Theta_3).^4 - 4.83722208529461e+28*cos(Theta_2).*cos(Theta_3).^3.*cos(Theta_2 + Theta_3).^3 + 5.48297344355786e+29*cos(Theta_2).*cos(Theta_3).^3.*cos(Theta_2 + Theta_3).^2 + 2.20267600921583e+30*cos(Theta_2).*cos(Theta_3).^3.*cos(Theta_2 + Theta_3) - 1.8860660813975e+30*cos(Theta_2).*cos(Theta_3).^3 + 5.54668132447116e+28*cos(Theta_2).*cos(Theta_3).^2.*cos(Theta_2 + Theta_3).^4 - 5.75724682377442e+28*cos(Theta_2).*cos(Theta_3).^2.*cos(Theta_2 + Theta_3).^3 - 1.54575779786016e+30*cos(Theta_2).*cos(Theta_3).^2.*cos(Theta_2 + Theta_3).^2 - 3.78064199426553e+30*cos(Theta_2).*cos(Theta_3).^2.*cos(Theta_2 + Theta_3) + 4.31060384806668e+29*cos(Theta_2).*cos(Theta_3).^2 - 1.5900486463484e+28*cos(Theta_2).*cos(Theta_3).*cos(Theta_2 + Theta_3).^5 + 5.22471967935556e+28*cos(Theta_2).*cos(Theta_3).*cos(Theta_2 + Theta_3).^4 + 2.06324710672498e+29*cos(Theta_2).*cos(Theta_3).*cos(Theta_2 + Theta_3).^3 - 8.91020128362002e+29*cos(Theta_2).*cos(Theta_3).*cos(Theta_2 + Theta_3).^2 + 1.52075297440878e+30*cos(Theta_2).*cos(Theta_3).*cos(Theta_2 + Theta_3) + 6.62898437770632e+30*cos(Theta_2).*cos(Theta_3) - 1914979971869.48*cos(Theta_2).*cos(Theta_2 + Theta_3).^6 - 7.00775987036737e+28*cos(Theta_2).*cos(Theta_2 + Theta_3).^5 - 4.33328623674947e+29*cos(Theta_2).*cos(Theta_2 + Theta_3).^4 + 9.61447783016488e+28*cos(Theta_2).*cos(Theta_2 + Theta_3).^3 + 3.50166858557136e+30*cos(Theta_2).*cos(Theta_2 + Theta_3).^2 + 9.88935462408713e+29*cos(Theta_2).*cos(Theta_2 + Theta_3) - 6.9807212412925e+30*cos(Theta_2) + 0.0414182833558749*cos(Theta_3).^7 - 0.0712394473721048*cos(Theta_3).^6.*cos(Theta_2 + Theta_3) - 165843779766439.0*cos(Theta_3).^6 - 14679941090260.8*cos(Theta_3).^5.*cos(Theta_2 + Theta_3).^2 + 237709417665230.0*cos(Theta_3).^5.*cos(Theta_2 + Theta_3) + 1.66014601878219e+29*cos(Theta_3).^5 + 25249498675248.6*cos(Theta_3).^4.*cos(Theta_2 + Theta_3).^3 + 2.93901233935638e+28*cos(Theta_3).^4.*cos(Theta_2 + Theta_3).^2 - 1.90363410153691e+29*cos(Theta_3).^4.*cos(Theta_2 + Theta_3) - 1.10005951016401e+30*cos(Theta_3).^4 - 14441148587914.8*cos(Theta_3).^3.*cos(Theta_2 + Theta_3).^4 - 3.370067482462e+28*cos(Theta_3).^3.*cos(Theta_2 + Theta_3).^3 + 4.51741668507492e+28*cos(Theta_3).^3.*cos(Theta_2 + Theta_3).^2 + 8.11479213840119e+29*cos(Theta_3).^3.*cos(Theta_2 + Theta_3) + 1.83435002582608e+30*cos(Theta_3).^3 + 3704443832897.66*cos(Theta_3).^2.*cos(Theta_2 + Theta_3).^5 + 3.25919834929226e+28*cos(Theta_3).^2.*cos(Theta_2 + Theta_3).^4 - 6.8876411662742e+28*cos(Theta_3).^2.*cos(Theta_2 + Theta_3).^3 - 9.01070178808827e+29*cos(Theta_3).^2.*cos(Theta_2 + Theta_3).^2 - 1.85463566537052e+29*cos(Theta_3).^2.*cos(Theta_2 + Theta_3) + 2.10503754804919e+30*cos(Theta_3).^2 - 1028302512235.38*cos(Theta_3).*cos(Theta_2 + Theta_3).^6 - 2.62943548050896e+28*cos(Theta_3).*cos(Theta_2 + Theta_3).^5 - 6.58171089112003e+28*cos(Theta_3).*cos(Theta_2 + Theta_3).^4 + 7.5159054871448e+29*cos(Theta_3).*cos(Theta_2 + Theta_3).^3 + 2.18296650503942e+30*cos(Theta_3).*cos(Theta_2 + Theta_3).^2 - 2.85211800606355e+30*cos(Theta_3).*cos(Theta_2 + Theta_3) - 8.49803211733198e+30*cos(Theta_3) + 274639801404.481*cos(Theta_2 + Theta_3).^7 + 7.53771504412567e+27*cos(Theta_2 + Theta_3).^6 + 6.21464918156732e+28*cos(Theta_2 + Theta_3).^5 + 1.32720409311891e+28*cos(Theta_2 + Theta_3).^4 - 9.46688592032348e+29*cos(Theta_2 + Theta_3).^3 - 1.58701286505947e+30*cos(Theta_2 + Theta_3).^2 + 3.00345265777948e+30*cos(Theta_2 + Theta_3) + 6.19067067814265e+30);\n",
            "    dy(5) = -(-11337.4129783759*Omega_1.^2.*sin(Theta_3) + 6500.11677426882*Omega_1.^2.*sin(Theta_2 + Theta_3) - 22674.8259567517*Omega_1.*Omega_2.*sin(Theta_3) - 11337.4129783759*Omega_2.^2.*sin(Theta_3) + Omega_3.*c + 10000.0*Theta_3 + 0.982*p_2.*sin(Theta_1 + Theta_2).*cos(Theta_1 + Theta_2 + Theta_3) - 0.982*p_2.*sin(Theta_1 + Theta_2 + Theta_3).*cos(Theta_1 + Theta_2) + 101.30631*sin(Theta_1 + Theta_2).^2.*cos(Theta_1 + Theta_2 + Theta_3) - 25.3265775*cos(Theta_1 + Theta_2 - Theta_3) + 29649.6024210485*cos(Theta_1 + Theta_2 + Theta_3) + 25.3265775*cos(3*Theta_1 + 3*Theta_2 + Theta_3) - 15707.963267949).*(-1.18126304565385e+21*cos(Theta_2).^4.*cos(Theta_3) - 6.77257479508209e+20*cos(Theta_2).^4.*cos(Theta_2 + Theta_3) + 1.88407377178455e+21*cos(Theta_2).^4 - 8.86461585874368e+20*cos(Theta_2).^3.*cos(Theta_3).^2 + 5.08237975901305e+20*cos(Theta_2).^3.*cos(Theta_3).*cos(Theta_2 + Theta_3) + 4.33200012986064e+21*cos(Theta_2).^3.*cos(Theta_3) + 1.16555909140033e+21*cos(Theta_2).^3.*cos(Theta_2 + Theta_3).^2 - 1.10681002436301e+20*cos(Theta_2).^3.*cos(Theta_2 + Theta_3) - 4.65430783426078e+21*cos(Theta_2).^3 + 1079944.59005953*cos(Theta_2).^2.*cos(Theta_3).^3 + 3.81399760008298e+20*cos(Theta_2).^2.*cos(Theta_3).^2.*cos(Theta_2 + Theta_3) - 6.17593178962957e+20*cos(Theta_2).^2.*cos(Theta_3).^2 + 6.56007587214271e+20*cos(Theta_2).^2.*cos(Theta_3).*cos(Theta_2 + Theta_3).^2 - 3.04804367786691e+21*cos(Theta_2).^2.*cos(Theta_3).*cos(Theta_2 + Theta_3) + 1.87135044198578e+21*cos(Theta_2).^2.*cos(Theta_3) - 7.52222033339031e+20*cos(Theta_2).^2.*cos(Theta_2 + Theta_3).^3 - 1.94975752509251e+21*cos(Theta_2).^2.*cos(Theta_2 + Theta_3).^2 + 3.92838683384976e+21*cos(Theta_2).^2.*cos(Theta_2 + Theta_3) - 1.4136348774609e+21*cos(Theta_2).^2 + 462986.888758523*cos(Theta_2).*cos(Theta_3).^4 + 464645.748935292*cos(Theta_2).*cos(Theta_3).^3.*cos(Theta_2 + Theta_3) - 9.2692754736208e+20*cos(Theta_2).*cos(Theta_3).^3 + 1.64097101614285e+20*cos(Theta_2).*cos(Theta_3).^2.*cos(Theta_2 + Theta_3).^2 - 1.06287692097518e+21*cos(Theta_2).*cos(Theta_3).^2.*cos(Theta_2 + Theta_3) + 6.29026269506563e+21*cos(Theta_2).*cos(Theta_3).^2 - 4.70411691294284e+20*cos(Theta_2).*cos(Theta_3).*cos(Theta_2 + Theta_3).^3 + 2.17088096116613e+20*cos(Theta_2).*cos(Theta_3).*cos(Theta_2 + Theta_3).^2 + 4.69255500032867e+21*cos(Theta_2).*cos(Theta_3).*cos(Theta_2 + Theta_3) - 1.34701189821558e+22*cos(Theta_2).*cos(Theta_3) + 2.15762162406978e+20*cos(Theta_2).*cos(Theta_2 + Theta_3).^4 + 1.13899859544828e+21*cos(Theta_2).*cos(Theta_2 + Theta_3).^3 - 7.95630995939731e+20*cos(Theta_2).*cos(Theta_2 + Theta_3).^2 - 5.00333356076523e+21*cos(Theta_2).*cos(Theta_2 + Theta_3) + 9.2434500296059e+21*cos(Theta_2) + 199199.932713739*cos(Theta_3).^4.*cos(Theta_2 + Theta_3) - 322560.558746046*cos(Theta_3).^4 - 228415.922845088*cos(Theta_3).^3.*cos(Theta_2 + Theta_3).^2 - 3.98810224540378e+20*cos(Theta_3).^3.*cos(Theta_2 + Theta_3) + 6.45785603985337e+20*cos(Theta_3).^3 - 7.06027155277267e+19*cos(Theta_3).^2.*cos(Theta_2 + Theta_3).^3 + 5.71627988507874e+20*cos(Theta_3).^2.*cos(Theta_2 + Theta_3).^2 + 2.20862420197086e+21*cos(Theta_3).^2.*cos(Theta_2 + Theta_3) - 3.78285406311109e+21*cos(Theta_3).^2 + 8.09577804717933e+19*cos(Theta_3).*cos(Theta_2 + Theta_3).^4 + 1.25811218799222e+20*cos(Theta_3).*cos(Theta_2 + Theta_3).^3 - 2.36538454457375e+21*cos(Theta_3).*cos(Theta_2 + Theta_3).^2 - 4.24276622878497e+21*cos(Theta_3).*cos(Theta_2 + Theta_3) + 7.289613705018e+21*cos(Theta_3) - 2.32078970685807e+19*cos(Theta_2 + Theta_3).^5 - 1.84872048191667e+20*cos(Theta_2 + Theta_3).^4 - 1.41874738257259e+19*cos(Theta_2 + Theta_3).^3 + 2.41436700648283e+21*cos(Theta_2 + Theta_3).^2 + 2.82344312339923e+21*cos(Theta_2 + Theta_3) - 4.62367041763029e+21)./(-2.84641728275484e+25*cos(Theta_2).^5 + 4564900580.64078*cos(Theta_2).^4.*cos(Theta_3).^2 + 1.5356695475757e+25*cos(Theta_2).^4.*cos(Theta_3).*cos(Theta_2 + Theta_3) - 2.13605224324477e+25*cos(Theta_2).^4.*cos(Theta_3) + 456490058.064078*cos(Theta_2).^4.*cos(Theta_2 + Theta_3).^2 + 3.67400985838101e+25*cos(Theta_2).^4.*cos(Theta_2 + Theta_3) + 5.04854194889645e+25*cos(Theta_2).^4 + 3497352124.91947*cos(Theta_2).^3.*cos(Theta_3).^3 + 1.15242076481738e+25*cos(Theta_2).^3.*cos(Theta_3).^2.*cos(Theta_2 + Theta_3) - 9.33046213284191e+24*cos(Theta_2).^3.*cos(Theta_3).^2 - 1.9821637154859e+25*cos(Theta_2).^3.*cos(Theta_3).*cos(Theta_2 + Theta_3).^2 - 8.85665691412648e+24*cos(Theta_2).^3.*cos(Theta_3).*cos(Theta_2 + Theta_3) - 2.97635298891214e+25*cos(Theta_2).^3.*cos(Theta_3) - 392809347.559224*cos(Theta_2).^3.*cos(Theta_2 + Theta_3).^3 - 2.30873413031441e+25*cos(Theta_2).^3.*cos(Theta_2 + Theta_3).^2 - 4.34426650490824e+25*cos(Theta_2).^3.*cos(Theta_2 + Theta_3) + 8.93237280306429e+25*cos(Theta_2).^3 + 3497352124.91947*cos(Theta_2).^2.*cos(Theta_3).^4 - 21059297835.3804*cos(Theta_2).^2.*cos(Theta_3).^3.*cos(Theta_2 + Theta_3) - 7.00190892253096e+24*cos(Theta_2).^2.*cos(Theta_3).^3 - 9.91657191092813e+24*cos(Theta_2).^2.*cos(Theta_3).^2.*cos(Theta_2 + Theta_3).^2 + 2.81009944757577e+25*cos(Theta_2).^2.*cos(Theta_3).^2.*cos(Theta_2 + Theta_3) - 5.78665166421307e+24*cos(Theta_2).^2.*cos(Theta_3).^2 + 8.5282518433982e+24*cos(Theta_2).^2.*cos(Theta_3).*cos(Theta_2 + Theta_3).^3 + 1.40204734308719e+25*cos(Theta_2).^2.*cos(Theta_3).*cos(Theta_2 + Theta_3).^2 - 1.769263222201e+25*cos(Theta_2).^2.*cos(Theta_3).*cos(Theta_2 + Theta_3) + 1.19821707412208e+26*cos(Theta_2).^2.*cos(Theta_3) + 198625550.674281*cos(Theta_2).^2.*cos(Theta_2 + Theta_3).^4 + 1.16636031233599e+25*cos(Theta_2).^2.*cos(Theta_2 + Theta_3).^3 + 2.22576236050695e+25*cos(Theta_2).^2.*cos(Theta_2 + Theta_3).^2 - 6.66506375080854e+25*cos(Theta_2).^2.*cos(Theta_2 + Theta_3) - 1.58428839905747e+26*cos(Theta_2).^2 - 3.65323936200199e-6*cos(Theta_2).*cos(Theta_3).^5 - 9028406525.65742*cos(Theta_2).*cos(Theta_3).^4.*cos(Theta_2 + Theta_3) + 12187178621.7718*cos(Theta_2).*cos(Theta_3).^4 + 7549126622.75768*cos(Theta_2).*cos(Theta_3).^3.*cos(Theta_2 + Theta_3).^2 + 1.80754118974203e+25*cos(Theta_2).*cos(Theta_3).^3.*cos(Theta_2 + Theta_3) - 9.75638709941306e+24*cos(Theta_2).*cos(Theta_3).^3 + 2.13330064562382e+24*cos(Theta_2).*cos(Theta_3).^2.*cos(Theta_2 + Theta_3).^3 - 1.20904421802745e+25*cos(Theta_2).*cos(Theta_3).^2.*cos(Theta_2 + Theta_3).^2 - 6.56081508903026e+25*cos(Theta_2).*cos(Theta_3).^2.*cos(Theta_2 + Theta_3) + 1.85302871123376e+25*cos(Theta_2).*cos(Theta_3).^2 - 1.22309237015766e+24*cos(Theta_2).*cos(Theta_3).*cos(Theta_2 + Theta_3).^4 - 3.41031877978699e+23*cos(Theta_2).*cos(Theta_3).*cos(Theta_2 + Theta_3).^3 + 5.50966795001893e+24*cos(Theta_2).*cos(Theta_3).*cos(Theta_2 + Theta_3).^2 + 3.29167467904989e+25*cos(Theta_2).*cos(Theta_3).*cos(Theta_2 + Theta_3) + 3.42909181723596e+25*cos(Theta_2).*cos(Theta_3) - 98202336.889806*cos(Theta_2).*cos(Theta_2 + Theta_3).^5 - 4.04286575556694e+24*cos(Theta_2).*cos(Theta_2 + Theta_3).^4 - 1.11107907422604e+25*cos(Theta_2).*cos(Theta_2 + Theta_3).^3 + 3.26698381747576e+25*cos(Theta_2).*cos(Theta_2 + Theta_3).^2 + 5.00508131238759e+25*cos(Theta_2).*cos(Theta_2 + Theta_3) - 6.51286744370491e+25*cos(Theta_2) - 1.82661968100099e-6*cos(Theta_3).^6 + 2.09452390088114e-6*cos(Theta_3).^5.*cos(Theta_2 + Theta_3) + 7314004530.07919*cos(Theta_3).^5 + 647411412.032898*cos(Theta_3).^4.*cos(Theta_2 + Theta_3).^2 - 6290043895.86811*cos(Theta_3).^4.*cos(Theta_2 + Theta_3) - 7.32153808787166e+24*cos(Theta_3).^4 - 742365085.797723*cos(Theta_3).^3.*cos(Theta_2 + Theta_3).^3 - 1.29615651514241e+24*cos(Theta_3).^3.*cos(Theta_2 + Theta_3).^2 + 4.19768183704642e+24*cos(Theta_3).^3.*cos(Theta_2 + Theta_3) + 3.12101782945045e+25*cos(Theta_3).^3 + 211257590.395655*cos(Theta_3).^2.*cos(Theta_2 + Theta_3).^4 + 7.43129735348314e+23*cos(Theta_3).^2.*cos(Theta_2 + Theta_3).^3 - 2.64904516544204e+24*cos(Theta_3).^2.*cos(Theta_2 + Theta_3).^2 - 7.97264897898469e+24*cos(Theta_3).^2.*cos(Theta_2 + Theta_3) - 7.13308594974865e+24*cos(Theta_3).^2 - 42251518.0791309*cos(Theta_3).*cos(Theta_2 + Theta_3).^5 - 1.01130317032063e+24*cos(Theta_3).*cos(Theta_2 + Theta_3).^4 + 3.2751669263769e+24*cos(Theta_3).*cos(Theta_2 + Theta_3).^3 + 2.89068094780122e+25*cos(Theta_3).*cos(Theta_2 + Theta_3).^2 - 1.47536544953631e+25*cos(Theta_3).*cos(Theta_2 + Theta_3) - 1.09694875688767e+26*cos(Theta_3) + 21125759.0395655*cos(Theta_2 + Theta_3).^6 + 5.79813817650496e+23*cos(Theta_2 + Theta_3).^5 + 2.3902067445036e+24*cos(Theta_2 + Theta_3).^4 - 8.8324072789257e+24*cos(Theta_2 + Theta_3).^3 - 3.64104455699889e+25*cos(Theta_2 + Theta_3).^2 + 2.80215873939397e+25*cos(Theta_2 + Theta_3) + 1.15515334650173e+26) - (-15107.7804138146*Omega_1.^2.*sin(Theta_2) + 6500.11677426882*Omega_1.^2.*sin(Theta_2 + Theta_3) + 22674.8259567517*Omega_1.*Omega_3.*sin(Theta_3) + 22674.8259567517*Omega_2.*Omega_3.*sin(Theta_3) + Omega_2.*c + 11337.4129783759*Omega_3.^2.*sin(Theta_3) + 10000.0*Theta_2 + 0.982*p_1.*sin(Theta_1).*cos(Theta_1 + Theta_2) - 0.982*p_1.*sin(Theta_1 + Theta_2).*cos(Theta_1) + 0.982*p_2.*sin(Theta_1 + Theta_2).*cos(Theta_1 + Theta_2 + Theta_3) - 0.982*p_2.*sin(Theta_1 + Theta_2 + Theta_3).*cos(Theta_1 + Theta_2) - 101.30631*sin(Theta_1).^2.*cos(Theta_1 + Theta_2) + 101.30631*sin(Theta_1 + Theta_2).^2.*cos(Theta_1 + Theta_2 + Theta_3) + 25.3265775*cos(Theta_1 - Theta_2) - 68912.5593108276*cos(Theta_1 + Theta_2) - 25.3265775*cos(3*Theta_1 + Theta_2) - 25.3265775*cos(Theta_1 + Theta_2 - Theta_3) + 29649.6024210485*cos(Theta_1 + Theta_2 + Theta_3) + 25.3265775*cos(3*Theta_1 + 3*Theta_2 + Theta_3) - 23561.9449019234).*(-3.7681475435691e+21*cos(Theta_2).^4 - 8.86461585874368e+20*cos(Theta_2).^3.*cos(Theta_3).^2 + 1.01647595180261e+21*cos(Theta_2).^3.*cos(Theta_3).*cos(Theta_2 + Theta_3) - 2.82775124437414e+21*cos(Theta_2).^3.*cos(Theta_3) - 2.91389772850081e+20*cos(Theta_2).^3.*cos(Theta_2 + Theta_3).^2 + 4.86373214032353e+21*cos(Theta_2).^3.*cos(Theta_2 + Theta_3) + 1.11116509244178e+22*cos(Theta_2).^3 - 6.65232139549355e+20*cos(Theta_2).^2.*cos(Theta_3).^3 + 1.90699880004149e+21*cos(Theta_2).^2.*cos(Theta_3).^2.*cos(Theta_2 + Theta_3) + 1.57227070306455e+21*cos(Theta_2).^2.*cos(Theta_3).^2 - 1.53068437016663e+21*cos(Theta_2).^2.*cos(Theta_3).*cos(Theta_2 + Theta_3).^2 + 6.30407387585579e+20*cos(Theta_2).^2.*cos(Theta_3).*cos(Theta_2 + Theta_3) - 6.17018140529128e+20*cos(Theta_2).^2.*cos(Theta_3) + 3.76111016669515e+20*cos(Theta_2).^2.*cos(Theta_2 + Theta_3).^3 - 1.57579605286719e+21*cos(Theta_2).^2.*cos(Theta_2 + Theta_3).^2 - 1.14668346968686e+22*cos(Theta_2).^2.*cos(Theta_2 + Theta_3) - 3.70679885097796e+20*cos(Theta_2).^2 + 810428.631863881*cos(Theta_2).*cos(Theta_3).^4 + 5.72431749817273e+20*cos(Theta_2).*cos(Theta_3).^3.*cos(Theta_2 + Theta_3) - 9.26927547362077e+20*cos(Theta_2).*cos(Theta_3).^3 - 1.1486797113e+21*cos(Theta_2).*cos(Theta_3).^2.*cos(Theta_2 + Theta_3).^2 - 2.90060822458814e+20*cos(Theta_2).*cos(Theta_3).^2.*cos(Theta_2 + Theta_3) - 1.196323172607e+21*cos(Theta_2).*cos(Theta_3).^2 + 7.52658706070855e+20*cos(Theta_2).*cos(Theta_3).*cos(Theta_2 + Theta_3).^3 + 7.23218806026526e+20*cos(Theta_2).*cos(Theta_3).*cos(Theta_2 + Theta_3).^2 - 3.18302842654676e+21*cos(Theta_2).*cos(Theta_3).*cos(Theta_2 + Theta_3) + 1.72347958636121e+22*cos(Theta_2).*cos(Theta_3) - 1.61821621805234e+20*cos(Theta_2).*cos(Theta_2 + Theta_3).^4 - 1.44609506714248e+20*cos(Theta_2).*cos(Theta_2 + Theta_3).^3 + 4.27511133420893e+21*cos(Theta_2).*cos(Theta_2 + Theta_3).^2 + 3.53875857957737e+21*cos(Theta_2).*cos(Theta_2 + Theta_3) - 2.20677260129256e+22*cos(Theta_2) + 347441.743105359*cos(Theta_3).^5 - 597599.798141217*cos(Theta_3).^4.*cos(Theta_2 + Theta_3) - 6.95599228849496e+20*cos(Theta_3).^4 - 1.2314427126929e+20*cos(Theta_3).^3.*cos(Theta_2 + Theta_3).^2 + 1.19643067362113e+21*cos(Theta_3).^3.*cos(Theta_2 + Theta_3) + 2.9651933368858e+21*cos(Theta_3).^3 + 2.1180814658318e+20*cos(Theta_3).^2.*cos(Theta_2 + Theta_3).^3 - 3.94903111561457e+20*cos(Theta_3).^2.*cos(Theta_2 + Theta_3).^2 - 4.15754784629842e+21*cos(Theta_3).^2.*cos(Theta_2 + Theta_3) + 3.52310832314291e+20*cos(Theta_3).^2 - 1.2143667070769e+20*cos(Theta_3).*cos(Theta_2 + Theta_3).^4 - 2.02644525565225e+20*cos(Theta_3).*cos(Theta_2 + Theta_3).^3 + 2.45840791536495e+21*cos(Theta_3).*cos(Theta_2 + Theta_3).^2 + 1.58825773732355e+21*cos(Theta_3).*cos(Theta_2 + Theta_3) - 1.48125069428706e+22*cos(Theta_3) + 2.32078970685807e+19*cos(Theta_2 + Theta_3).^5 + 9.56715249109576e+19*cos(Theta_2 + Theta_3).^4 - 6.01678444039689e+20*cos(Theta_2 + Theta_3).^3 - 2.48034081145852e+21*cos(Theta_2 + Theta_3).^2 + 3.783859138513e+21*cos(Theta_2 + Theta_3) + 1.55984651586504e+22)./(-2.84641728275484e+25*cos(Theta_2).^5 + 4564900580.64078*cos(Theta_2).^4.*cos(Theta_3).^2 + 1.5356695475757e+25*cos(Theta_2).^4.*cos(Theta_3).*cos(Theta_2 + Theta_3) - 2.13605224324477e+25*cos(Theta_2).^4.*cos(Theta_3) + 456490058.064078*cos(Theta_2).^4.*cos(Theta_2 + Theta_3).^2 + 3.67400985838101e+25*cos(Theta_2).^4.*cos(Theta_2 + Theta_3) + 5.04854194889645e+25*cos(Theta_2).^4 + 3497352124.91947*cos(Theta_2).^3.*cos(Theta_3).^3 + 1.15242076481738e+25*cos(Theta_2).^3.*cos(Theta_3).^2.*cos(Theta_2 + Theta_3) - 9.33046213284191e+24*cos(Theta_2).^3.*cos(Theta_3).^2 - 1.9821637154859e+25*cos(Theta_2).^3.*cos(Theta_3).*cos(Theta_2 + Theta_3).^2 - 8.85665691412648e+24*cos(Theta_2).^3.*cos(Theta_3).*cos(Theta_2 + Theta_3) - 2.97635298891214e+25*cos(Theta_2).^3.*cos(Theta_3) - 392809347.559224*cos(Theta_2).^3.*cos(Theta_2 + Theta_3).^3 - 2.30873413031441e+25*cos(Theta_2).^3.*cos(Theta_2 + Theta_3).^2 - 4.34426650490824e+25*cos(Theta_2).^3.*cos(Theta_2 + Theta_3) + 8.93237280306429e+25*cos(Theta_2).^3 + 3497352124.91947*cos(Theta_2).^2.*cos(Theta_3).^4 - 21059297835.3804*cos(Theta_2).^2.*cos(Theta_3).^3.*cos(Theta_2 + Theta_3) - 7.00190892253096e+24*cos(Theta_2).^2.*cos(Theta_3).^3 - 9.91657191092813e+24*cos(Theta_2).^2.*cos(Theta_3).^2.*cos(Theta_2 + Theta_3).^2 + 2.81009944757577e+25*cos(Theta_2).^2.*cos(Theta_3).^2.*cos(Theta_2 + Theta_3) - 5.78665166421307e+24*cos(Theta_2).^2.*cos(Theta_3).^2 + 8.5282518433982e+24*cos(Theta_2).^2.*cos(Theta_3).*cos(Theta_2 + Theta_3).^3 + 1.40204734308719e+25*cos(Theta_2).^2.*cos(Theta_3).*cos(Theta_2 + Theta_3).^2 - 1.769263222201e+25*cos(Theta_2).^2.*cos(Theta_3).*cos(Theta_2 + Theta_3) + 1.19821707412208e+26*cos(Theta_2).^2.*cos(Theta_3) + 198625550.674281*cos(Theta_2).^2.*cos(Theta_2 + Theta_3).^4 + 1.16636031233599e+25*cos(Theta_2).^2.*cos(Theta_2 + Theta_3).^3 + 2.22576236050695e+25*cos(Theta_2).^2.*cos(Theta_2 + Theta_3).^2 - 6.66506375080854e+25*cos(Theta_2).^2.*cos(Theta_2 + Theta_3) - 1.58428839905747e+26*cos(Theta_2).^2 - 3.65323936200199e-6*cos(Theta_2).*cos(Theta_3).^5 - 9028406525.65742*cos(Theta_2).*cos(Theta_3).^4.*cos(Theta_2 + Theta_3) + 12187178621.7718*cos(Theta_2).*cos(Theta_3).^4 + 7549126622.75768*cos(Theta_2).*cos(Theta_3).^3.*cos(Theta_2 + Theta_3).^2 + 1.80754118974203e+25*cos(Theta_2).*cos(Theta_3).^3.*cos(Theta_2 + Theta_3) - 9.75638709941306e+24*cos(Theta_2).*cos(Theta_3).^3 + 2.13330064562382e+24*cos(Theta_2).*cos(Theta_3).^2.*cos(Theta_2 + Theta_3).^3 - 1.20904421802745e+25*cos(Theta_2).*cos(Theta_3).^2.*cos(Theta_2 + Theta_3).^2 - 6.56081508903026e+25*cos(Theta_2).*cos(Theta_3).^2.*cos(Theta_2 + Theta_3) + 1.85302871123376e+25*cos(Theta_2).*cos(Theta_3).^2 - 1.22309237015766e+24*cos(Theta_2).*cos(Theta_3).*cos(Theta_2 + Theta_3).^4 - 3.41031877978699e+23*cos(Theta_2).*cos(Theta_3).*cos(Theta_2 + Theta_3).^3 + 5.50966795001893e+24*cos(Theta_2).*cos(Theta_3).*cos(Theta_2 + Theta_3).^2 + 3.29167467904989e+25*cos(Theta_2).*cos(Theta_3).*cos(Theta_2 + Theta_3) + 3.42909181723596e+25*cos(Theta_2).*cos(Theta_3) - 98202336.889806*cos(Theta_2).*cos(Theta_2 + Theta_3).^5 - 4.04286575556694e+24*cos(Theta_2).*cos(Theta_2 + Theta_3).^4 - 1.11107907422604e+25*cos(Theta_2).*cos(Theta_2 + Theta_3).^3 + 3.26698381747576e+25*cos(Theta_2).*cos(Theta_2 + Theta_3).^2 + 5.00508131238759e+25*cos(Theta_2).*cos(Theta_2 + Theta_3) - 6.51286744370491e+25*cos(Theta_2) - 1.82661968100099e-6*cos(Theta_3).^6 + 2.09452390088114e-6*cos(Theta_3).^5.*cos(Theta_2 + Theta_3) + 7314004530.07919*cos(Theta_3).^5 + 647411412.032898*cos(Theta_3).^4.*cos(Theta_2 + Theta_3).^2 - 6290043895.86811*cos(Theta_3).^4.*cos(Theta_2 + Theta_3) - 7.32153808787166e+24*cos(Theta_3).^4 - 742365085.797723*cos(Theta_3).^3.*cos(Theta_2 + Theta_3).^3 - 1.29615651514241e+24*cos(Theta_3).^3.*cos(Theta_2 + Theta_3).^2 + 4.19768183704642e+24*cos(Theta_3).^3.*cos(Theta_2 + Theta_3) + 3.12101782945045e+25*cos(Theta_3).^3 + 211257590.395655*cos(Theta_3).^2.*cos(Theta_2 + Theta_3).^4 + 7.43129735348314e+23*cos(Theta_3).^2.*cos(Theta_2 + Theta_3).^3 - 2.64904516544204e+24*cos(Theta_3).^2.*cos(Theta_2 + Theta_3).^2 - 7.97264897898469e+24*cos(Theta_3).^2.*cos(Theta_2 + Theta_3) - 7.13308594974865e+24*cos(Theta_3).^2 - 42251518.0791309*cos(Theta_3).*cos(Theta_2 + Theta_3).^5 - 1.01130317032063e+24*cos(Theta_3).*cos(Theta_2 + Theta_3).^4 + 3.2751669263769e+24*cos(Theta_3).*cos(Theta_2 + Theta_3).^3 + 2.89068094780122e+25*cos(Theta_3).*cos(Theta_2 + Theta_3).^2 - 1.47536544953631e+25*cos(Theta_3).*cos(Theta_2 + Theta_3) - 1.09694875688767e+26*cos(Theta_3) + 21125759.0395655*cos(Theta_2 + Theta_3).^6 + 5.79813817650496e+23*cos(Theta_2 + Theta_3).^5 + 2.3902067445036e+24*cos(Theta_2 + Theta_3).^4 - 8.8324072789257e+24*cos(Theta_2 + Theta_3).^3 - 3.64104455699889e+25*cos(Theta_2 + Theta_3).^2 + 2.80215873939397e+25*cos(Theta_2 + Theta_3) + 1.15515334650173e+26) - (30215.5608276291*Omega_1.*Omega_2.*sin(Theta_2) - 13000.2335485376*Omega_1.*Omega_2.*sin(Theta_2 + Theta_3) + 22674.8259567517*Omega_1.*Omega_3.*sin(Theta_3) - 13000.2335485376*Omega_1.*Omega_3.*sin(Theta_2 + Theta_3) + Omega_1.*c + 15107.7804138146*Omega_2.^2.*sin(Theta_2) - 6500.11677426882*Omega_2.^2.*sin(Theta_2 + Theta_3) + 22674.8259567517*Omega_2.*Omega_3.*sin(Theta_3) - 13000.2335485376*Omega_2.*Omega_3.*sin(Theta_2 + Theta_3) + 11337.4129783759*Omega_3.^2.*sin(Theta_3) - 6500.11677426882*Omega_3.^2.*sin(Theta_2 + Theta_3) + 10000.0*Theta_1 + 0.982*p_1.*sin(Theta_1).*cos(Theta_1 + Theta_2) - 0.982*p_1.*sin(Theta_1 + Theta_2).*cos(Theta_1) + 0.982*p_2.*sin(Theta_1 + Theta_2).*cos(Theta_1 + Theta_2 + Theta_3) - 0.982*p_2.*sin(Theta_1 + Theta_2 + Theta_3).*cos(Theta_1 + Theta_2) - tau - 101.30631*sin(Theta_1).^2.*cos(Theta_1 + Theta_2) + 101.30631*sin(Theta_1 + Theta_2).^2.*cos(Theta_1 + Theta_2 + Theta_3) + 49186.4226431238*cos(Theta_1) + 25.3265775*cos(Theta_1 - Theta_2) - 68912.5593108276*cos(Theta_1 + Theta_2) - 25.3265775*cos(3*Theta_1 + Theta_2) - 25.3265775*cos(Theta_1 + Theta_2 - Theta_3) + 29649.6024210485*cos(Theta_1 + Theta_2 + Theta_3) + 25.3265775*cos(3*Theta_1 + 3*Theta_2 + Theta_3) - 15707.963267949).*(1.88407377178455e+21*cos(Theta_2).^4 + 8.86461585874368e+20*cos(Theta_2).^3.*cos(Theta_3).^2 - 5.08237975901305e+20*cos(Theta_2).^3.*cos(Theta_3).*cos(Theta_2 + Theta_3) + 1.41387562218707e+21*cos(Theta_2).^3.*cos(Theta_3) - 6240.38092289133*cos(Theta_2).^3.*cos(Theta_2 + Theta_3).^2 - 2.43186607016176e+21*cos(Theta_2).^3.*cos(Theta_2 + Theta_3) - 6.45734309015702e+21*cos(Theta_2).^3 + 6.65232139549355e+20*cos(Theta_2).^2.*cos(Theta_3).^3 - 1.52559904003319e+21*cos(Theta_2).^2.*cos(Theta_3).^2.*cos(Theta_2 + Theta_3) - 1.57227070306455e+21*cos(Theta_2).^2.*cos(Theta_3).^2 + 6.56007587214271e+20*cos(Theta_2).^2.*cos(Theta_3).*cos(Theta_2 + Theta_3).^2 - 3.1520369379279e+20*cos(Theta_2).^2.*cos(Theta_3).*cos(Theta_2 + Theta_3) - 3.68021655982137e+20*cos(Theta_2).^2.*cos(Theta_3) + 2684.92151749982*cos(Theta_2).^2.*cos(Theta_2 + Theta_3).^3 + 1.04630945131949e+21*cos(Theta_2).^2.*cos(Theta_2 + Theta_3).^2 + 6.89705019757864e+21*cos(Theta_2).^2.*cos(Theta_2 + Theta_3) + 1.7843147625587e+21*cos(Theta_2).^2 - 810428.631863881*cos(Theta_2).*cos(Theta_3).^4 - 5.72431749817273e+20*cos(Theta_2).*cos(Theta_3).^3.*cos(Theta_2 + Theta_3) + 9.26927547362077e+20*cos(Theta_2).*cos(Theta_3).^3 + 8.20485508071426e+20*cos(Theta_2).*cos(Theta_3).^2.*cos(Theta_2 + Theta_3).^2 + 8.21499282946406e+20*cos(Theta_2).*cos(Theta_3).^2.*cos(Theta_2 + Theta_3) - 2.8209426096539e+20*cos(Theta_2).*cos(Theta_3).^2 - 2.82247014776571e+20*cos(Theta_2).*cos(Theta_3).*cos(Theta_2 + Theta_3).^3 - 5.13955095019706e+20*cos(Theta_2).*cos(Theta_3).*cos(Theta_2 + Theta_3).^2 + 2.1736683883451e+21*cos(Theta_2).*cos(Theta_3).*cos(Theta_2 + Theta_3) - 9.56006881240985e+21*cos(Theta_2).*cos(Theta_3) - 7553.89020690728*cos(Theta_2).*cos(Theta_2 + Theta_3).^4 - 1.5005808109705e+20*cos(Theta_2).*cos(Theta_2 + Theta_3).^3 - 2.34885838004833e+21*cos(Theta_2).*cos(Theta_2 + Theta_3).^2 - 3.14529590553131e+21*cos(Theta_2).*cos(Theta_2 + Theta_3) + 1.28242759833197e+22*cos(Theta_2) - 347441.743105359*cos(Theta_3).^5 + 398399.865427478*cos(Theta_3).^4.*cos(Theta_2 + Theta_3) + 6.95599228849496e+20*cos(Theta_3).^4 + 1.23144271269291e+20*cos(Theta_3).^3.*cos(Theta_2 + Theta_3).^2 - 7.97620449080755e+20*cos(Theta_3).^3.*cos(Theta_2 + Theta_3) - 2.9651933368858e+21*cos(Theta_3).^3 - 1.41205431055453e+20*cos(Theta_3).^2.*cos(Theta_2 + Theta_3).^3 - 6.23992792448422e+19*cos(Theta_3).^2.*cos(Theta_2 + Theta_3).^2 + 2.45750366648389e+21*cos(Theta_3).^2.*cos(Theta_2 + Theta_3) + 6.77694908694347e+20*cos(Theta_3).^2 + 4.04788902358966e+19*cos(Theta_3).*cos(Theta_2 + Theta_3).^4 + 1.66868938798182e+20*cos(Theta_3).*cos(Theta_2 + Theta_3).^3 - 8.67093765621355e+20*cos(Theta_3).*cos(Theta_2 + Theta_3).^2 - 3.88545080984761e+20*cos(Theta_3).*cos(Theta_2 + Theta_3) + 1.0421808918026e+22*cos(Theta_3) + 3250.05838713441*cos(Theta_2 + Theta_3).^5 + 32768.0*cos(Theta_2 + Theta_3).^4 + 2.48148409471504e+20*cos(Theta_2 + Theta_3).^3 + 1.02295941197137e+21*cos(Theta_2 + Theta_3).^2 - 2.66225407126571e+21*cos(Theta_2 + Theta_3) - 1.09747947410201e+22)./(-2.84641728275484e+25*cos(Theta_2).^5 + 4564900580.64078*cos(Theta_2).^4.*cos(Theta_3).^2 + 1.5356695475757e+25*cos(Theta_2).^4.*cos(Theta_3).*cos(Theta_2 + Theta_3) - 2.13605224324477e+25*cos(Theta_2).^4.*cos(Theta_3) + 456490058.064078*cos(Theta_2).^4.*cos(Theta_2 + Theta_3).^2 + 3.67400985838101e+25*cos(Theta_2).^4.*cos(Theta_2 + Theta_3) + 5.04854194889645e+25*cos(Theta_2).^4 + 3497352124.91947*cos(Theta_2).^3.*cos(Theta_3).^3 + 1.15242076481738e+25*cos(Theta_2).^3.*cos(Theta_3).^2.*cos(Theta_2 + Theta_3) - 9.33046213284191e+24*cos(Theta_2).^3.*cos(Theta_3).^2 - 1.9821637154859e+25*cos(Theta_2).^3.*cos(Theta_3).*cos(Theta_2 + Theta_3).^2 - 8.85665691412648e+24*cos(Theta_2).^3.*cos(Theta_3).*cos(Theta_2 + Theta_3) - 2.97635298891214e+25*cos(Theta_2).^3.*cos(Theta_3) - 392809347.559224*cos(Theta_2).^3.*cos(Theta_2 + Theta_3).^3 - 2.30873413031441e+25*cos(Theta_2).^3.*cos(Theta_2 + Theta_3).^2 - 4.34426650490824e+25*cos(Theta_2).^3.*cos(Theta_2 + Theta_3) + 8.93237280306429e+25*cos(Theta_2).^3 + 3497352124.91947*cos(Theta_2).^2.*cos(Theta_3).^4 - 21059297835.3804*cos(Theta_2).^2.*cos(Theta_3).^3.*cos(Theta_2 + Theta_3) - 7.00190892253096e+24*cos(Theta_2).^2.*cos(Theta_3).^3 - 9.91657191092813e+24*cos(Theta_2).^2.*cos(Theta_3).^2.*cos(Theta_2 + Theta_3).^2 + 2.81009944757577e+25*cos(Theta_2).^2.*cos(Theta_3).^2.*cos(Theta_2 + Theta_3) - 5.78665166421307e+24*cos(Theta_2).^2.*cos(Theta_3).^2 + 8.5282518433982e+24*cos(Theta_2).^2.*cos(Theta_3).*cos(Theta_2 + Theta_3).^3 + 1.40204734308719e+25*cos(Theta_2).^2.*cos(Theta_3).*cos(Theta_2 + Theta_3).^2 - 1.769263222201e+25*cos(Theta_2).^2.*cos(Theta_3).*cos(Theta_2 + Theta_3) + 1.19821707412208e+26*cos(Theta_2).^2.*cos(Theta_3) + 198625550.674281*cos(Theta_2).^2.*cos(Theta_2 + Theta_3).^4 + 1.16636031233599e+25*cos(Theta_2).^2.*cos(Theta_2 + Theta_3).^3 + 2.22576236050695e+25*cos(Theta_2).^2.*cos(Theta_2 + Theta_3).^2 - 6.66506375080854e+25*cos(Theta_2).^2.*cos(Theta_2 + Theta_3) - 1.58428839905747e+26*cos(Theta_2).^2 - 3.65323936200199e-6*cos(Theta_2).*cos(Theta_3).^5 - 9028406525.65742*cos(Theta_2).*cos(Theta_3).^4.*cos(Theta_2 + Theta_3) + 12187178621.7718*cos(Theta_2).*cos(Theta_3).^4 + 7549126622.75768*cos(Theta_2).*cos(Theta_3).^3.*cos(Theta_2 + Theta_3).^2 + 1.80754118974203e+25*cos(Theta_2).*cos(Theta_3).^3.*cos(Theta_2 + Theta_3) - 9.75638709941306e+24*cos(Theta_2).*cos(Theta_3).^3 + 2.13330064562382e+24*cos(Theta_2).*cos(Theta_3).^2.*cos(Theta_2 + Theta_3).^3 - 1.20904421802745e+25*cos(Theta_2).*cos(Theta_3).^2.*cos(Theta_2 + Theta_3).^2 - 6.56081508903026e+25*cos(Theta_2).*cos(Theta_3).^2.*cos(Theta_2 + Theta_3) + 1.85302871123376e+25*cos(Theta_2).*cos(Theta_3).^2 - 1.22309237015766e+24*cos(Theta_2).*cos(Theta_3).*cos(Theta_2 + Theta_3).^4 - 3.41031877978699e+23*cos(Theta_2).*cos(Theta_3).*cos(Theta_2 + Theta_3).^3 + 5.50966795001893e+24*cos(Theta_2).*cos(Theta_3).*cos(Theta_2 + Theta_3).^2 + 3.29167467904989e+25*cos(Theta_2).*cos(Theta_3).*cos(Theta_2 + Theta_3) + 3.42909181723596e+25*cos(Theta_2).*cos(Theta_3) - 98202336.889806*cos(Theta_2).*cos(Theta_2 + Theta_3).^5 - 4.04286575556694e+24*cos(Theta_2).*cos(Theta_2 + Theta_3).^4 - 1.11107907422604e+25*cos(Theta_2).*cos(Theta_2 + Theta_3).^3 + 3.26698381747576e+25*cos(Theta_2).*cos(Theta_2 + Theta_3).^2 + 5.00508131238759e+25*cos(Theta_2).*cos(Theta_2 + Theta_3) - 6.51286744370491e+25*cos(Theta_2) - 1.82661968100099e-6*cos(Theta_3).^6 + 2.09452390088114e-6*cos(Theta_3).^5.*cos(Theta_2 + Theta_3) + 7314004530.07919*cos(Theta_3).^5 + 647411412.032898*cos(Theta_3).^4.*cos(Theta_2 + Theta_3).^2 - 6290043895.86811*cos(Theta_3).^4.*cos(Theta_2 + Theta_3) - 7.32153808787166e+24*cos(Theta_3).^4 - 742365085.797723*cos(Theta_3).^3.*cos(Theta_2 + Theta_3).^3 - 1.29615651514241e+24*cos(Theta_3).^3.*cos(Theta_2 + Theta_3).^2 + 4.19768183704642e+24*cos(Theta_3).^3.*cos(Theta_2 + Theta_3) + 3.12101782945045e+25*cos(Theta_3).^3 + 211257590.395655*cos(Theta_3).^2.*cos(Theta_2 + Theta_3).^4 + 7.43129735348314e+23*cos(Theta_3).^2.*cos(Theta_2 + Theta_3).^3 - 2.64904516544204e+24*cos(Theta_3).^2.*cos(Theta_2 + Theta_3).^2 - 7.97264897898469e+24*cos(Theta_3).^2.*cos(Theta_2 + Theta_3) - 7.13308594974865e+24*cos(Theta_3).^2 - 42251518.0791309*cos(Theta_3).*cos(Theta_2 + Theta_3).^5 - 1.01130317032063e+24*cos(Theta_3).*cos(Theta_2 + Theta_3).^4 + 3.2751669263769e+24*cos(Theta_3).*cos(Theta_2 + Theta_3).^3 + 2.89068094780122e+25*cos(Theta_3).*cos(Theta_2 + Theta_3).^2 - 1.47536544953631e+25*cos(Theta_3).*cos(Theta_2 + Theta_3) - 1.09694875688767e+26*cos(Theta_3) + 21125759.0395655*cos(Theta_2 + Theta_3).^6 + 5.79813817650496e+23*cos(Theta_2 + Theta_3).^5 + 2.3902067445036e+24*cos(Theta_2 + Theta_3).^4 - 8.8324072789257e+24*cos(Theta_2 + Theta_3).^3 - 3.64104455699889e+25*cos(Theta_2 + Theta_3).^2 + 2.80215873939397e+25*cos(Theta_2 + Theta_3) + 1.15515334650173e+26);\n",
            "    dy(6) = -(-11337.4129783759*Omega_1.^2.*sin(Theta_3) + 6500.11677426882*Omega_1.^2.*sin(Theta_2 + Theta_3) - 22674.8259567517*Omega_1.*Omega_2.*sin(Theta_3) - 11337.4129783759*Omega_2.^2.*sin(Theta_3) + Omega_3.*c + 10000.0*Theta_3 + 0.982*p_2.*sin(Theta_1 + Theta_2).*cos(Theta_1 + Theta_2 + Theta_3) - 0.982*p_2.*sin(Theta_1 + Theta_2 + Theta_3).*cos(Theta_1 + Theta_2) + 101.30631*sin(Theta_1 + Theta_2).^2.*cos(Theta_1 + Theta_2 + Theta_3) - 25.3265775*cos(Theta_1 + Theta_2 - Theta_3) + 29649.6024210485*cos(Theta_1 + Theta_2 + Theta_3) + 25.3265775*cos(3*Theta_1 + 3*Theta_2 + Theta_3) - 15707.963267949).*(-6896551558321.54*cos(Theta_2).^3 - 5175416308795.22*cos(Theta_2).^2.*cos(Theta_3) + 8901716051127.78*cos(Theta_2).^2.*cos(Theta_2 + Theta_3) + 12232053977418.3*cos(Theta_2).^2 + 0.00630502543263207*cos(Theta_2).*cos(Theta_3).^2 + 4453441795045.3*cos(Theta_2).*cos(Theta_3).*cos(Theta_2 + Theta_3) - 7211371280015.15*cos(Theta_2).*cos(Theta_3) - 3829959943738.96*cos(Theta_2).*cos(Theta_2 + Theta_3).^2 - 10525673138547.2*cos(Theta_2).*cos(Theta_2 + Theta_3) + 13696543498195.7*cos(Theta_2) + 0.00270304989299198*cos(Theta_3).^3 - 0.0015497486053154*cos(Theta_3).^2.*cos(Theta_2 + Theta_3) - 5411668167163.12*cos(Theta_3).^2 - 958045818852.842*cos(Theta_3).*cos(Theta_2 + Theta_3).^2 + 3102689749173.52*cos(Theta_3).*cos(Theta_2 + Theta_3) + 23068804169392.0*cos(Theta_3) + 549279602808.963*cos(Theta_2 + Theta_3).^3 + 2264333431328.52*cos(Theta_2 + Theta_3).^2 - 5892932628324.16*cos(Theta_2 + Theta_3) - 24292845193310.2)./(-1.24708840092867e+17*cos(Theta_2).^3 + 20.0*cos(Theta_2).^2.*cos(Theta_3).^2 + 6.72816207252485e+16*cos(Theta_2).^2.*cos(Theta_3).*cos(Theta_2 + Theta_3) - 9.35859261559178e+16*cos(Theta_2).^2.*cos(Theta_3) + 2.0*cos(Theta_2).^2.*cos(Theta_2 + Theta_3).^2 + 5.36559309960596e+16*cos(Theta_2).^2.*cos(Theta_2 + Theta_3) + 2.21189568522335e+17*cos(Theta_2).^2 + 15.3227964690024*cos(Theta_2).*cos(Theta_3).^3 + 5.0490508805588e+16*cos(Theta_2).*cos(Theta_3).^2.*cos(Theta_2 + Theta_3) - 4.08791471709652e+16*cos(Theta_2).*cos(Theta_3).^2 - 2.89478917152038e+16*cos(Theta_2).*cos(Theta_3).*cos(Theta_2 + Theta_3).^2 - 1.19333903247107e+17*cos(Theta_2).*cos(Theta_3).*cos(Theta_2 + Theta_3) - 128.0*cos(Theta_2).*cos(Theta_3) - 3.18952307464648e+16*cos(Theta_2).*cos(Theta_2 + Theta_3).^2 + 16.0*cos(Theta_2).*cos(Theta_2 + Theta_3) + 1.43678543738772e+17*cos(Theta_2) + 15.3227964690024*cos(Theta_3).^4 - 17.5701399511227*cos(Theta_3).^3.*cos(Theta_2 + Theta_3) - 3.06771584565293e+16*cos(Theta_3).^3 + 5.0*cos(Theta_3).^2.*cos(Theta_2 + Theta_3).^2 + 1.75882375150768e+16*cos(Theta_3).^2.*cos(Theta_2 + Theta_3) + 7.25052122814508e+16*cos(Theta_3).^2 - 1.0*cos(Theta_3).*cos(Theta_2 + Theta_3).^3 - 2.39353096953016e+16*cos(Theta_3).*cos(Theta_2 + Theta_3).^2 - 40.0*cos(Theta_3).*cos(Theta_2 + Theta_3) + 1.07821462973383e+17*cos(Theta_3) + 0.5*cos(Theta_2 + Theta_3).^4 + 1.37229108919729e+16*cos(Theta_2 + Theta_3).^3 + 5.65709080565363e+16*cos(Theta_2 + Theta_3).^2 - 6.1817638771406e+16*cos(Theta_2 + Theta_3) - 2.54835142976478e+17) - (5175416308795.22*cos(Theta_2).^2.*cos(Theta_3) + 0.000244140625*cos(Theta_2).^2.*cos(Theta_2 + Theta_3) - 8254610318457.73*cos(Theta_2).^2 + 3883815518934.85*cos(Theta_2).*cos(Theta_3).^2 + 0.0009765625*cos(Theta_2).*cos(Theta_3).*cos(Theta_2 + Theta_3) - 15373917763545.9*cos(Theta_2).*cos(Theta_3) - 1355327474624.04*cos(Theta_2).*cos(Theta_2 + Theta_3) + 14640772003813.3*cos(Theta_2) - 0.00135152494649599*cos(Theta_3).^3 + 1671010149161.93*cos(Theta_3).^2.*cos(Theta_2 + Theta_3) + 0.00439453125*cos(Theta_3).^2 - 958045818852.842*cos(Theta_3).*cos(Theta_2 + Theta_3).^2 - 7631707959984.47*cos(Theta_3).*cos(Theta_2 + Theta_3) - 0.005859375*cos(Theta_3) + 2111179132395.9*cos(Theta_2 + Theta_3).^2 + 8703060271236.39*cos(Theta_2 + Theta_3)).*(30215.5608276291*Omega_1.*Omega_2.*sin(Theta_2) - 13000.2335485376*Omega_1.*Omega_2.*sin(Theta_2 + Theta_3) + 22674.8259567517*Omega_1.*Omega_3.*sin(Theta_3) - 13000.2335485376*Omega_1.*Omega_3.*sin(Theta_2 + Theta_3) + Omega_1.*c + 15107.7804138146*Omega_2.^2.*sin(Theta_2) - 6500.11677426882*Omega_2.^2.*sin(Theta_2 + Theta_3) + 22674.8259567517*Omega_2.*Omega_3.*sin(Theta_3) - 13000.2335485376*Omega_2.*Omega_3.*sin(Theta_2 + Theta_3) + 11337.4129783759*Omega_3.^2.*sin(Theta_3) - 6500.11677426882*Omega_3.^2.*sin(Theta_2 + Theta_3) + 10000.0*Theta_1 + 0.982*p_1.*sin(Theta_1).*cos(Theta_1 + Theta_2) - 0.982*p_1.*sin(Theta_1 + Theta_2).*cos(Theta_1) + 0.982*p_2.*sin(Theta_1 + Theta_2).*cos(Theta_1 + Theta_2 + Theta_3) - 0.982*p_2.*sin(Theta_1 + Theta_2 + Theta_3).*cos(Theta_1 + Theta_2) - tau - 101.30631*sin(Theta_1).^2.*cos(Theta_1 + Theta_2) + 101.30631*sin(Theta_1 + Theta_2).^2.*cos(Theta_1 + Theta_2 + Theta_3) + 49186.4226431238*cos(Theta_1) + 25.3265775*cos(Theta_1 - Theta_2) - 68912.5593108276*cos(Theta_1 + Theta_2) - 25.3265775*cos(3*Theta_1 + Theta_2) - 25.3265775*cos(Theta_1 + Theta_2 - Theta_3) + 29649.6024210485*cos(Theta_1 + Theta_2 + Theta_3) + 25.3265775*cos(3*Theta_1 + 3*Theta_2 + Theta_3) - 15707.963267949)./(-1.24708840092867e+17*cos(Theta_2).^3 + 20.0*cos(Theta_2).^2.*cos(Theta_3).^2 + 6.72816207252485e+16*cos(Theta_2).^2.*cos(Theta_3).*cos(Theta_2 + Theta_3) - 9.35859261559178e+16*cos(Theta_2).^2.*cos(Theta_3) + 2.0*cos(Theta_2).^2.*cos(Theta_2 + Theta_3).^2 + 5.36559309960596e+16*cos(Theta_2).^2.*cos(Theta_2 + Theta_3) + 2.21189568522335e+17*cos(Theta_2).^2 + 15.3227964690024*cos(Theta_2).*cos(Theta_3).^3 + 5.0490508805588e+16*cos(Theta_2).*cos(Theta_3).^2.*cos(Theta_2 + Theta_3) - 4.08791471709652e+16*cos(Theta_2).*cos(Theta_3).^2 - 2.89478917152038e+16*cos(Theta_2).*cos(Theta_3).*cos(Theta_2 + Theta_3).^2 - 1.19333903247107e+17*cos(Theta_2).*cos(Theta_3).*cos(Theta_2 + Theta_3) - 128.0*cos(Theta_2).*cos(Theta_3) - 3.18952307464648e+16*cos(Theta_2).*cos(Theta_2 + Theta_3).^2 + 16.0*cos(Theta_2).*cos(Theta_2 + Theta_3) + 1.43678543738772e+17*cos(Theta_2) + 15.3227964690024*cos(Theta_3).^4 - 17.5701399511227*cos(Theta_3).^3.*cos(Theta_2 + Theta_3) - 3.06771584565293e+16*cos(Theta_3).^3 + 5.0*cos(Theta_3).^2.*cos(Theta_2 + Theta_3).^2 + 1.75882375150768e+16*cos(Theta_3).^2.*cos(Theta_2 + Theta_3) + 7.25052122814508e+16*cos(Theta_3).^2 - 1.0*cos(Theta_3).*cos(Theta_2 + Theta_3).^3 - 2.39353096953016e+16*cos(Theta_3).*cos(Theta_2 + Theta_3).^2 - 40.0*cos(Theta_3).*cos(Theta_2 + Theta_3) + 1.07821462973383e+17*cos(Theta_3) + 0.5*cos(Theta_2 + Theta_3).^4 + 1.37229108919729e+16*cos(Theta_2 + Theta_3).^3 + 5.65709080565363e+16*cos(Theta_2 + Theta_3).^2 - 6.1817638771406e+16*cos(Theta_2 + Theta_3) - 2.54835142976478e+17) - (-5175416308795.22*cos(Theta_2).^2.*cos(Theta_3) - 2967238683709.26*cos(Theta_2).^2.*cos(Theta_2 + Theta_3) + 8254610318457.73*cos(Theta_2).^2 - 3883815518934.85*cos(Theta_2).*cos(Theta_3).^2 - 2226720897522.65*cos(Theta_2).*cos(Theta_3).*cos(Theta_2 + Theta_3) + 18979603403553.4*cos(Theta_2).*cos(Theta_3) + 2553306629159.3*cos(Theta_2).*cos(Theta_2 + Theta_3).^2 + 6618164043897.62*cos(Theta_2).*cos(Theta_2 + Theta_3) - 20391716104395.2*cos(Theta_2) - 1671010149161.93*cos(Theta_3).^2.*cos(Theta_2 + Theta_3) + 2705834083581.55*cos(Theta_3).^2 + 1916091637705.68*cos(Theta_3).*cos(Theta_2 + Theta_3).^2 + 6080363085397.71*cos(Theta_3).*cos(Theta_2 + Theta_3) - 10710928590704.8*cos(Theta_3) - 549279602808.963*cos(Theta_2 + Theta_3).^3 - 4375512563724.43*cos(Theta_2 + Theta_3).^2 - 6228718760295.92*cos(Theta_2 + Theta_3) + 10200149750863.9).*(-15107.7804138146*Omega_1.^2.*sin(Theta_2) + 6500.11677426882*Omega_1.^2.*sin(Theta_2 + Theta_3) + 22674.8259567517*Omega_1.*Omega_3.*sin(Theta_3) + 22674.8259567517*Omega_2.*Omega_3.*sin(Theta_3) + Omega_2.*c + 11337.4129783759*Omega_3.^2.*sin(Theta_3) + 10000.0*Theta_2 + 0.982*p_1.*sin(Theta_1).*cos(Theta_1 + Theta_2) - 0.982*p_1.*sin(Theta_1 + Theta_2).*cos(Theta_1) + 0.982*p_2.*sin(Theta_1 + Theta_2).*cos(Theta_1 + Theta_2 + Theta_3) - 0.982*p_2.*sin(Theta_1 + Theta_2 + Theta_3).*cos(Theta_1 + Theta_2) - 101.30631*sin(Theta_1).^2.*cos(Theta_1 + Theta_2) + 101.30631*sin(Theta_1 + Theta_2).^2.*cos(Theta_1 + Theta_2 + Theta_3) + 25.3265775*cos(Theta_1 - Theta_2) - 68912.5593108276*cos(Theta_1 + Theta_2) - 25.3265775*cos(3*Theta_1 + Theta_2) - 25.3265775*cos(Theta_1 + Theta_2 - Theta_3) + 29649.6024210485*cos(Theta_1 + Theta_2 + Theta_3) + 25.3265775*cos(3*Theta_1 + 3*Theta_2 + Theta_3) - 23561.9449019234)./(-1.24708840092867e+17*cos(Theta_2).^3 + 20.0*cos(Theta_2).^2.*cos(Theta_3).^2 + 6.72816207252485e+16*cos(Theta_2).^2.*cos(Theta_3).*cos(Theta_2 + Theta_3) - 9.35859261559178e+16*cos(Theta_2).^2.*cos(Theta_3) + 2.0*cos(Theta_2).^2.*cos(Theta_2 + Theta_3).^2 + 5.36559309960596e+16*cos(Theta_2).^2.*cos(Theta_2 + Theta_3) + 2.21189568522335e+17*cos(Theta_2).^2 + 15.3227964690024*cos(Theta_2).*cos(Theta_3).^3 + 5.0490508805588e+16*cos(Theta_2).*cos(Theta_3).^2.*cos(Theta_2 + Theta_3) - 4.08791471709652e+16*cos(Theta_2).*cos(Theta_3).^2 - 2.89478917152038e+16*cos(Theta_2).*cos(Theta_3).*cos(Theta_2 + Theta_3).^2 - 1.19333903247107e+17*cos(Theta_2).*cos(Theta_3).*cos(Theta_2 + Theta_3) - 128.0*cos(Theta_2).*cos(Theta_3) - 3.18952307464648e+16*cos(Theta_2).*cos(Theta_2 + Theta_3).^2 + 16.0*cos(Theta_2).*cos(Theta_2 + Theta_3) + 1.43678543738772e+17*cos(Theta_2) + 15.3227964690024*cos(Theta_3).^4 - 17.5701399511227*cos(Theta_3).^3.*cos(Theta_2 + Theta_3) - 3.06771584565293e+16*cos(Theta_3).^3 + 5.0*cos(Theta_3).^2.*cos(Theta_2 + Theta_3).^2 + 1.75882375150768e+16*cos(Theta_3).^2.*cos(Theta_2 + Theta_3) + 7.25052122814508e+16*cos(Theta_3).^2 - 1.0*cos(Theta_3).*cos(Theta_2 + Theta_3).^3 - 2.39353096953016e+16*cos(Theta_3).*cos(Theta_2 + Theta_3).^2 - 40.0*cos(Theta_3).*cos(Theta_2 + Theta_3) + 1.07821462973383e+17*cos(Theta_3) + 0.5*cos(Theta_2 + Theta_3).^4 + 1.37229108919729e+16*cos(Theta_2 + Theta_3).^3 + 5.65709080565363e+16*cos(Theta_2 + Theta_3).^2 - 6.1817638771406e+16*cos(Theta_2 + Theta_3) - 2.54835142976478e+17);\n"
          ]
        }
      ],
      "source": [
        "i = 1\n",
        "for x in space:\n",
        "  scilab_code = \"    dy(\" + str(i) + \") = \"\n",
        "  scilab_code += sp.octave_code(x.subs(gamma_alias).subs(FUNCTIONS_TO_SYMBOLS_DICT))\n",
        "  scilab_code += \";\"\n",
        "  print(scilab_code.replace(\"pi\", \"%pi\"))\n",
        "  i += 1"
      ]
    },
    {
      "attachments": {},
      "cell_type": "markdown",
      "metadata": {
        "id": "J0KiQUdddH5m"
      },
      "source": [
        "# Solução das Equações Diferenciais"
      ]
    },
    {
      "attachments": {},
      "cell_type": "markdown",
      "metadata": {
        "id": "4sTgqqT6UUU-"
      },
      "source": [
        "### Função para solução numérica da EDO, usando a biblioteca SCILAB"
      ]
    },
    {
      "cell_type": "code",
      "execution_count": 54,
      "metadata": {
        "id": "zXHxKOIAnIeg"
      },
      "outputs": [],
      "source": [
        "def solve_ode(space, duration, size, boundary_conditions, method=\"RK45\"):\n",
        "  state_space = space.subs(FUNCTIONS_TO_SYMBOLS_DICT)\n",
        "\n",
        "  def evaluate_state_space(t, y):\n",
        "    vals = {\n",
        "        \"t\": t,\n",
        "        \"Theta_1\": y[0],\n",
        "        \"Theta_2\": y[1],\n",
        "        \"Theta_3\": y[2],\n",
        "        \"Omega_1\": y[3],\n",
        "        \"Omega_2\": y[4],\n",
        "        \"Omega_3\": y[5],\n",
        "    }\n",
        "\n",
        "    # counter = 1\n",
        "    # for eq in state_space:\n",
        "    #   print(\"EDO \" + str(counter))\n",
        "    #   pprint(eq.subs(vals))\n",
        "    #   pprint(sp.N(sp.re(eq.subs(vals))))\n",
        "    #   counter+=1\n",
        "    return [sp.N(sp.re(eq.subs(vals))) for eq in state_space]\n",
        "\n",
        "  # return odeint(\n",
        "  #     evaluate_state_space,\n",
        "  #     boundary_conditions,\n",
        "  #     np.linspace(0, duration, size))\n",
        "\n",
        "  return solve_ivp(\n",
        "      evaluate_state_space,\n",
        "      [0, duration],\n",
        "      boundary_conditions,\n",
        "      dense_output=True,\n",
        "      method=method)"
      ]
    },
    {
      "attachments": {},
      "cell_type": "markdown",
      "metadata": {
        "id": "EZIqqxoJUe_P"
      },
      "source": [
        "### Solução do subsistema mecânico com Range-Kutta de 5ª ordem"
      ]
    },
    {
      "cell_type": "code",
      "execution_count": 55,
      "metadata": {
        "id": "Sjbj8pYnkcef"
      },
      "outputs": [],
      "source": [
        "duration = 1\n",
        "size = 100"
      ]
    },
    {
      "cell_type": "code",
      "execution_count": 56,
      "metadata": {},
      "outputs": [],
      "source": [
        "result_rk45 = solve_ode(space.subs(inputs_alias).subs(Params), duration, size, y0)"
      ]
    },
    {
      "attachments": {},
      "cell_type": "markdown",
      "metadata": {
        "id": "KQR7nPRTAZEZ"
      },
      "source": [
        "# Gráficos"
      ]
    },
    {
      "attachments": {},
      "cell_type": "markdown",
      "metadata": {
        "id": "StgnSDX8VEBI"
      },
      "source": [
        "### Função para plotagem da simulação, usando a biblioteca MATPLOTLIB"
      ]
    },
    {
      "cell_type": "code",
      "execution_count": 57,
      "metadata": {
        "id": "KjoeyhzsAX-H"
      },
      "outputs": [],
      "source": [
        "def plot(result, duration, size):\n",
        "  t = np.linspace(0, duration, size)\n",
        "  max_length = Params[L_1] + Params[L_2] + Params[L_3]\n",
        "  solution = result.sol(t)\n",
        "  solution = np.mod(solution, 2*np.pi)\n",
        "\n",
        "  plt.plot(t, solution.T)\n",
        "  plt.xlabel('t')\n",
        "  plt.legend([r'$\\theta_1$', r'$\\theta_2$', r'$\\theta_3$', r'$\\omega_1$', r'$\\omega_2$', r'$\\omega_3$'], shadow=True)\n",
        "  plt.title('Guindaste Hidráulico Industrial')\n",
        "  plt.axhline(linewidth=0.5, color='gray')\n",
        "  plt.axvline(linewidth=0.5, color='gray')\n",
        "  plt.show()\n",
        "\n",
        "  pos_J2 = np.array(polar_to_cartesian(Params[L_1] * np.ones(size), solution[0]))\n",
        "  phi = solution[0] + solution[1] - np.pi\n",
        "  pos_J3 = pos_J2 + np.array(polar_to_cartesian(Params[L_2] * np.ones(size), phi))\n",
        "  psi = phi + solution[2] - np.pi\n",
        "  pos_P = pos_J3 + np.array(polar_to_cartesian(Params[L_3] * np.ones(size), psi))\n",
        "\n",
        "  markers_on = [0, int(size / 2 - 1), size-1]\n",
        "  plt.plot(pos_J2[0], pos_J2[1], '-D', markevery=markers_on, color=\"C0\")\n",
        "  plt.plot(pos_J3[0], pos_J3[1], '-D', markevery=markers_on, color=\"C1\")\n",
        "  plt.plot(pos_P[0], pos_P[1], '-D', markevery=markers_on, color=\"C2\")\n",
        "  plt.xlabel('x')\n",
        "  plt.legend([r'$J2$', r'$J3$', r'$P$'], shadow=True)\n",
        "  plt.title('Curva descrita pelos pontos J2, J3 e P')\n",
        "  plt.axhline(linewidth=0.5, color='gray')\n",
        "  plt.axvline(linewidth=0.5, color='gray')\n",
        "  plt.axis('equal')\n",
        "  plt.xlim([-max_length, max_length])\n",
        "  plt.ylim([-max_length, max_length])\n",
        "  for i in markers_on:\n",
        "    plt.annotate(str(i+1), (pos_J2[0][i], pos_J2[1][i]), textcoords=\"offset points\",xytext=(0, 10),ha=\"center\")\n",
        "    plt.annotate(str(i+1), (pos_J3[0][i], pos_J3[1][i]), textcoords=\"offset points\",xytext=(0, 10),ha=\"center\")\n",
        "    plt.annotate(str(i+1), (pos_P[0][i], pos_P[1][i]), textcoords=\"offset points\",xytext=(0, 10),ha=\"center\")\n",
        "  plt.show()\n",
        "\n",
        "  markers_on = [0, int(size / 2 - 1), size-1]\n",
        "  plt.plot(pos_J2[0], pos_J2[1], '-D', markevery=markers_on, color=\"C0\")\n",
        "  plt.xlabel('x')\n",
        "  plt.title('Curva descrita pelo ponto J2 no espaço 2D')\n",
        "  plt.axhline(linewidth=0.5, color='gray')\n",
        "  plt.axvline(linewidth=0.5, color='gray')\n",
        "  plt.axis('equal')\n",
        "  plt.xlim([-max_length, max_length])\n",
        "  plt.ylim([-max_length, max_length])\n",
        "  for i in markers_on:\n",
        "    plt.annotate(str(i+1), (pos_J2[0][i], pos_J2[1][i]), textcoords=\"offset points\",xytext=(0, 10),ha=\"center\")\n",
        "  plt.show()\n",
        "\n",
        "  plt.plot(pos_J3[0], pos_J3[1], '-D', markevery=markers_on, color=\"C1\")\n",
        "  plt.xlabel('x')\n",
        "  plt.title('Curva descrita pelo ponto J3 no espaço 2D')\n",
        "  plt.axhline(linewidth=0.5, color='gray')\n",
        "  plt.axvline(linewidth=0.5, color='gray')\n",
        "  plt.axis('equal')\n",
        "  plt.xlim([-max_length, max_length])\n",
        "  plt.ylim([-max_length, max_length])\n",
        "  for i in markers_on:\n",
        "    plt.annotate(str(i+1), (pos_J3[0][i], pos_J3[1][i]), textcoords=\"offset points\",xytext=(0, 10),ha=\"center\")\n",
        "  plt.show()\n",
        "\n",
        "  plt.plot(pos_P[0], pos_P[1], '-D', markevery=markers_on, color=\"C2\")\n",
        "  plt.xlabel('x')\n",
        "  plt.title('Curva descrita pelo ponto P no espaço 2D')\n",
        "  plt.axhline(linewidth=0.5, color='gray')\n",
        "  plt.axvline(linewidth=0.5, color='gray')\n",
        "  plt.axis('equal')\n",
        "  plt.xlim([-max_length, max_length])\n",
        "  plt.ylim([-max_length, max_length])\n",
        "  for i in markers_on:\n",
        "    plt.annotate(str(i+1), (pos_P[0][i], pos_P[1][i]), textcoords=\"offset points\",xytext=(0, 10),ha=\"center\")\n",
        "  plt.show()\n",
        "\n",
        "  # Animação:\n",
        "  fig, ax = plt.subplots()\n",
        "  line_link_1, = ax.plot([], [], color=\"C0\", linewidth=2)\n",
        "  line_link_2, = ax.plot([], [], color=\"C1\", linewidth=2)\n",
        "  line_link_3, = ax.plot([], [], color=\"C2\", linewidth=2)\n",
        "  line_actuator_1, = ax.plot([], [], color=\"gray\", linewidth=1)\n",
        "  line_actuator_2, = ax.plot([], [], color=\"gray\", linewidth=1)\n",
        "\n",
        "  line_resolution = 10\n",
        "  frame_interval_ms = 1000 * duration / size\n",
        "\n",
        "  pos_J2_T = pos_J2.T\n",
        "  pos_J3_T = pos_J3.T\n",
        "  pos_P_T = pos_P.T\n",
        "  pos_P1_T = np.array(pos_J2 + polar_to_cartesian(np.ones(size) * Params[d_1], phi)).T\n",
        "  pos_P2_T = np.array(pos_J3 + polar_to_cartesian(np.ones(size) * Params[d_2], psi)).T\n",
        "\n",
        "  def init():\n",
        "      ax.set_xlim([-max_length, max_length])\n",
        "      ax.set_ylim([-max_length, max_length])\n",
        "      return (line_link_1, line_link_2)\n",
        "\n",
        "  def update(frame):\n",
        "      line_link_1.set_data(np.linspace(\n",
        "          [0, 0],\n",
        "          pos_J2_T[frame],\n",
        "          line_resolution).T)\n",
        "      line_link_2.set_data(np.linspace(\n",
        "          pos_J2_T[frame],\n",
        "          pos_J3_T[frame],\n",
        "          line_resolution).T)\n",
        "      line_link_3.set_data(np.linspace(\n",
        "          pos_J3_T[frame],\n",
        "          pos_P_T[frame],\n",
        "          line_resolution).T)\n",
        "      line_actuator_1.set_data(np.linspace(\n",
        "          [0, 0],\n",
        "          pos_P1_T[frame],\n",
        "          line_resolution).T)\n",
        "      line_actuator_2.set_data(np.linspace(\n",
        "          pos_J2_T[frame],\n",
        "          pos_P2_T[frame],\n",
        "          line_resolution).T)\n",
        "      return (line_link_1, line_link_2)\n",
        "\n",
        "  anim = FuncAnimation(fig, update, frames=size, init_func=init,\n",
        "                      interval=frame_interval_ms, blit=True)\n",
        "  display(HTML(anim.to_html5_video()))"
      ]
    },
    {
      "attachments": {},
      "cell_type": "markdown",
      "metadata": {
        "id": "sGYmpDtMVPkL"
      },
      "source": [
        "# Simulação do sistema não-linear"
      ]
    },
    {
      "cell_type": "code",
      "execution_count": 58,
      "metadata": {
        "id": "fscS1rBDtWso"
      },
      "outputs": [
        {
          "data": {
            "image/png": "[encoded data removed]",
            "text/plain": [
              "<Figure size 640x480 with 1 Axes>"
            ]
          },
          "metadata": {},
          "output_type": "display_data"
        },
        {
          "data": {
            "image/png": "[encoded data removed]",
            "text/plain": [
              "<Figure size 640x480 with 1 Axes>"
            ]
          },
          "metadata": {},
          "output_type": "display_data"
        },
        {
          "data": {
            "image/png": "[encoded data removed]",
            "text/plain": [
              "<Figure size 640x480 with 1 Axes>"
            ]
          },
          "metadata": {},
          "output_type": "display_data"
        },
        {
          "data": {
            "image/png": "[encoded data removed]",
            "text/plain": [
              "<Figure size 640x480 with 1 Axes>"
            ]
          },
          "metadata": {},
          "output_type": "display_data"
        },
        {
          "data": {
            "image/png": "[encoded data removed]",
            "text/plain": [
              "<Figure size 640x480 with 1 Axes>"
            ]
          },
          "metadata": {},
          "output_type": "display_data"
        },
        {
          "data": {
            "text/html": [
              "<video width=\"640\" height=\"480\" controls autoplay loop>\n",
              "  <source type=\"video/mp4\" src=\"data:video/mp4;base64,AAAAIGZ0eXBNNFYgAAACAE00ViBpc29taXNvMmF2YzEAAAAIZnJlZQAAOdZtZGF0AAACoQYF//+d\n",
              "3EXpvebZSLeWLNgg2SPu73gyNjQgLSBjb3JlIDE2MSAtIEguMjY0L01QRUctNCBBVkMgY29kZWMg\n",
              "LSBDb3B5bGVmdCAyMDAzLTIwMjAgLSBodHRwOi8vd3d3LnZpZGVvbGFuLm9yZy94MjY0Lmh0bWwg\n",
              "LSBvcHRpb25zOiBjYWJhYz0xIHJlZj0zIGRlYmxvY2s9MTowOjAgYW5hbHlzZT0weDM6MHgxMTMg\n",
              "bWU9aGV4IHN1Ym1lPTcgcHN5PTEgcHN5X3JkPTEuMDA6MC4wMCBtaXhlZF9yZWY9MSBtZV9yYW5n\n",
              "ZT0xNiBjaHJvbWFfbWU9MSB0cmVsbGlzPTEgOHg4ZGN0PTEgY3FtPTAgZGVhZHpvbmU9MjEsMTEg\n",
              "ZmFzdF9wc2tpcD0xIGNocm9tYV9xcF9vZmZzZXQ9LTIgdGhyZWFkcz0xMiBsb29rYWhlYWRfdGhy\n",
              "ZWFkcz0yIHNsaWNlZF90aHJlYWRzPTAgbnI9MCBkZWNpbWF0ZT0xIGludGVybGFjZWQ9MCBibHVy\n",
              "YXlfY29tcGF0PTAgY29uc3RyYWluZWRfaW50cmE9MCBiZnJhbWVzPTMgYl9weXJhbWlkPTIgYl9h\n",
              "ZGFwdD0xIGJfYmlhcz0wIGRpcmVjdD0xIHdlaWdodGI9MSBvcGVuX2dvcD0wIHdlaWdodHA9MiBr\n",
              "ZXlpbnQ9MjUwIGtleWludF9taW49MjUgc2NlbmVjdXQ9NDAgaW50cmFfcmVmcmVzaD0wIHJjX2xv\n",
              "b2thaGVhZD00MCByYz1jcmYgbWJ0cmVlPTEgY3JmPTIzLjAgcWNvbXA9MC42MCBxcG1pbj0wIHFw\n",
              "bWF4PTY5IHFwc3RlcD00IGlwX3JhdGlvPTEuNDAgYXE9MToxLjAwAIAAAAvQZYiEACf//vWxfApq\n",
              "yfOKDOgyLuGXJMmutiLibQDAAAADAAADAAAw+6vOWMqWU/YAAAMAQYARLUcH34OABtAAiQ9wou7R\n",
              "tXstFrMMOMoWcRCtCquWD6ebJrppPWgDxmc2fTfjz6vnHWpX9RkQTUr3qYU1cCatsL4GgcTTNSJQ\n",
              "a/5bUW2WkzsBY56YVxNZQyAwCcG+Q8YoU7hnh44zYlk159v0XFSfGnuKqRhOzWkwTFbPqEuve+KN\n",
              "tJuZa1qPMW1TOTB6UG94gHRvUBMmnJhfydibplBBk1Ft9GMNrbrAF/EUZCW4UQAAAwAHPBr2EbMF\n",
              "cZkL1bmvgUVIGt6lXW3oIgBy/giwJVV3s89BpDywHTCvYE+915Gjpb4oMy+29FLwRx330SQoJVa8\n",
              "GRsU31szPB3m7XNMFO0T6+CWVRyZdGKfq/u6NC0hkf2AAAAZOusjzaHrmOjCH1j68+nYy6nSg9ML\n",
              "2khwsSO1FtxHv7oq3xepb02pF9j0tnOX1SaeK0MPveiIgoLZ/4wNapc5a59jNQWPGoVlbn0zHCJf\n",
              "9R98g1YzIWlIyX4BtbvEUriY0PVo7I66q2Wpok8Di4xD+crOsxbMDOfPP2csDK/6tXwVXfJqcDih\n",
              "NS3oVpyObVGumtPgxmQ9FZFBKx3G2GCzjO5Ot1IchINl+OldkrxjuKwrgH8mlBIPJ0vEq2JHFmus\n",
              "S4qK0YgfSbQ6v+Ey7Ve7ADAXoN3sVETaHprEy4onvfVvyRqihis3TJEjpbIRFbRuN8U3Fq0QOFjf\n",
              "9KkLRyvv74vbz6EYHf5vQ3J5Azayo4AgAiuP67fyDHYvzD2Mj4vCKun8NoIQry7z9RycidRsLUGC\n",
              "Mr3PcTI+92u7xkwZSghxsmZBdUAvgI/PPnnA68fXQU0iQMAWoQxMgK1BN4rhPBEdUQFbRf8KBprq\n",
              "3XNODmpLslkZ5wId2AfRHQmFRUAIw/5zdFe0HwyCU7pU0DZ+B8pY4kyjE+IV/CEO08l5WWmvmFek\n",
              "jOVRG0I8rcciUvAJylXscZBcO9Pm1aaSPp4spbP4ZKCuwVNkEibEbYNPRSivIfVZzlmz57EGYsHZ\n",
              "L3k0UcXI9Kjfx9dZXdni5qEbBPKf6AjWsha/1pMQRSTKnZPeyeqLLoJnDS6m9B6SRZb7PBOmVMI3\n",
              "pcKyJD8N+Wvf3MPs+thYlNxCbMZAw2a07Y2DUZaS6k2NnN9R8QvQ4xdHejBQbLlqRhKqNweCSKsn\n",
              "ZmK7FIhZpDuQWcg4ZgEpeFcOTGKK3bESEGTCJzlXMMZ2E7UVsokLbasjmvOc3isF/bGf61g6Pbut\n",
              "QhOEbADOhQTMlSnK5tOlxnYWDxlAm1QVi839LOnm8MoGvR7b9YbVuM0PCaFh481D8Ae6huHEBTjg\n",
              "gSoocWy1YagOqq4PnwhK82KDJ/t7nmjR7h28FxCN7w4keNhS449LskYWVOU8M6LquNMr3CFTvG6m\n",
              "j3SPO8f5ovfajIs1fKhSwRAp+PZjptEHHbwa4Bgdp3EwswEbXZ9ZatU9MGQd2yMFepajrqiqOqud\n",
              "1ov0hkhhTlBlvDslXIotbb9nQF5DIt33peeNL7ryLb1VH9IFNcWgthbULCeG80rj/yAzgcO31u3h\n",
              "BhgxdUe5ym+tkEKP7A4XafE1Gi8Bv29czvbUBkXyik/MwJfHsRLyjyG58kJUHIlcEAlhhRCvlfDO\n",
              "nHCN9z0Um66C74VGM1Dg29YBblW7g+pk8WUf+K/eoGzG+4G3Rxyf8ix5Q/UdhYSC+clhv8v/tyz+\n",
              "5HQaKCeqzM5BNN1zOzMfu4sPv5jh+3Tw1i37d20Ss10w5tf6/S5qeZd9MuzStBO4oQdwN+6S91we\n",
              "cGR8oP+xep8/XVpf70c/+4xVF84Bf2y+/RhICSskMxAHU9Nj/9oAAW1xTWcDUe/fz3E8dAK+0p28\n",
              "qmByGvuiyqmqZT/2aukZWqscoxrWR+7/v2fd6WchYBpHUfCfPRAyIQ4BzHzN9qYSlKtuHEEMy7Ma\n",
              "RMr9k3EbSOO505qihlBZOe63dR5r4N7LuEI+o55ceDTM+s9jnreCXZiAIwvfsfZPrEsyC8YBL+WP\n",
              "OcMv9f8c00jEd3Wy5rP0FVgQy+BpX6wFtcFX2DmTI/8pngB4jOHm7KpCkKkApD7b+8Y8weQOiKzD\n",
              "aeZNy9ZfqyZOcSI7TlBrOtQZZ6F8aH1aKniv1SKmKAFOqYXE/cwmj0XYgOOBbfSyLOouXipUiZWw\n",
              "nGGdlFwcHf+0y4PGHvEgnOM57vmZSniy28ncVAN4xk0DhoO4YKQfUL/8Y81M5unqQ+pgXQru/DfV\n",
              "SnweaRBFUuzpKTG/2BgCTmbaFxo10qlX6SlTXE8n+E2noWobv4MRLFvRIogu9QYME4iv34pWnUiS\n",
              "UxbsUaR6w5GO4wqO8zZSw2XAH9+NZ2ZMVRPShdbjW4AQ4mADEUufKnMiUWEiF+a5brIAOBX0kNSq\n",
              "xa9QldKZ6168aBIRKmQbcnZysrkVFFUpEGQcJRcayF2ZvdJeFC2M3uG5sBZUm0ACdcfs+8LEekcZ\n",
              "Fb9JnJDPoTKAWrQFBNSy5qkixtUH0FBHBINFaatt4CmIgBPwHGcjrr0m0ZBkllOpt0kgxGuM8+Er\n",
              "sNBSFvA7vGb/fvpkSH79C/btUhoKoMngcPieSTmfryd5QorfNYNk2/j3fUJOHraC6ndN+CBOR4AA\n",
              "vi8OZSfDBFHGWXfGdXemTdwul/CyOV13jCH0asvsBSFQAn5dlPtpcLSFGfo/Ab36ewQZTU2js8a4\n",
              "Ob2BFr90Jnl5EzGxt4zNva7GgJk3RExy/QwQcjxN0o9Au1iowI132bDYR13eLncIDmbMsQOmNa7+\n",
              "TcYVwxeVzYEHR1893GD2zJvfQVTHKwLfjERNQ1J7cb5iTjbfBYUTmfhz9VqfO2nENvZpot1yeeHP\n",
              "GZ3mG5eYz3QRHXaAk2ZBuPkFED47u8XfwfWXDctXy0/+OTK3qOANoApOVwI+KmbZxsCvFnZHjqEx\n",
              "DxC7Of/ggTBDA8t6GIx1hr/2ikm1/eewT7IXNUJaLoV2kwr1gAl1dddicxSSsB3ehMz/oN6QoWRS\n",
              "q8O4rWPSvT+umLGiRBLTM3Ks58THgdUSOBebwzwy0phIkwRJq+QM//2vrAo+8jkrcz7M25kH2U1G\n",
              "3ttPRjoQ/2VRKB4MLhFfYmUZlTadPREbGlXVxJVujTQn/3AlT2Ulp5AJgTkNIApGmI7hdpMvTv+X\n",
              "Y8Cn06KU5y4LlHufS6Pjeu7OZM0KSNYT4A/8C4dAxAOUDy+hFGi3iskzzzA3kPWpcGNC/UR8ZR/D\n",
              "uOWNFezYZP072p7IDXxnOkIULJ3ZfcGp9D/JiPOX/sz0f///9v0GPaRPBxfNArRUWnYLEEFydPoB\n",
              "4RgEQx254YGE5eJcB7j74iDjPqRWnck1jq70vgTIVvJaEtnTxdhobrkOL79maniASUncPWOyMX95\n",
              "D/4FbzzrjNpYRspl30VjOWgbmEZl1135ZwLh75QKiQ3+aGxza7KRV7/4a9oGWVdagTkP/xngKZU7\n",
              "pF9YxET2XaThqQiIOOToUU0y2Davk9T+hMPT6exDjljy3SnEGUbxx9cuxI/n+qdQ459lwiqg0PGs\n",
              "Eka662ci5vCu6PL53GAom/utF4AqUEZjzEh3c2oiCcucnfyvaL0Dx3J6OU+1rqcVCZzVvdUcVk0D\n",
              "G9/wM8oVn0CpGpitobrgtp7NhSzSklweHntRMOdfSV7mzswbyjdAzjpoefYD8OlGrN/QFDGsqsD0\n",
              "Ag8E6rDTSyxTBu3K8fsRsRenzdaJLgNre9Cs3Ke0By55+v8G+IW+b1T/kmIOdgP0tAtGimgNo1zb\n",
              "WlZbujsobIE7HPMekTe0jr5Qk2PVZ5GH1PKJxeyuhnMhtNHNJG9UG6+VTei00+Ap5Wj/TNVLH4Et\n",
              "6+sF1wKkMdUP5wLUd0NmwFoFmr+4Ha/7/6b0s7MLBfUoWKVPRgb2BAzZFcFKI5YUkjqfUGz2slp7\n",
              "tH2B1Qs134izXqqCV6BWnAC6ZEvEzuRyFveQ1eV/UAFxT6x1ZSxEfs8SOXgAAAo5AAAAnUGaJGxC\n",
              "f/3xAAAKgO4VycAAKJfCwVEi60xaMS0G1PGS1Nab1NWX9YV6GUJK7T3zZEvwRxxd3Mabpw5Y0Zir\n",
              "FsdiW29UIKPPDoWQDzfYk3QfishfL+cJgNrp1WBWRbPzGtBu+RiGnrSSugc6cMGMpSotviZxs1AQ\n",
              "ZMAEq7f3sRNazOIgjpqf4Uaf+Adw44pSnWXwaBjBmj0wqaS/9IAAAAAtQZ5CeI3/AACs+M8NdZfb\n",
              "ec3NnyB0ADj2gTCb3mpQBcmN8u7uYPOg6o82N0xRAAAAIQGeYXRF/wAAHELOhwST/Rqwhw8AXuDR\n",
              "tjafVN+cGGJ7QAAAABQBnmNqRf8AAAMAAAMAChoXkiPLuQAAAJZBmmhJqEFomUwIT//98QAACn+/\n",
              "N0AW1z2gAK/gEsCIc+fpSfxd22gTR/Jz0NmE1O/89u2iUHyP8VpIlOmekE6Rjrmxmaw4rAHZJjas\n",
              "VdN7yd59neF8FaKotNz5biWc749lIK4JQAwhAvTNE1bCvm2SStnGzplqERcmDm/6+LfKqpivZfCM\n",
              "ldzWZuWctoUO+bAGDpvI9tEAAAAkQZ6GRREsbwAArOPhS2TPXYQ8Jnyw6QBH7tPCV9uS5qbboVkh\n",
              "AAAAGAGepXRF/wAAUf6t7qVgABcw7KtGvQcgRwAAABkBnqdqRf8AAAMBdM6RWYAFdagh3VU8+ptA\n",
              "AAAAmUGarEmoQWyZTAhP//3xAAAKfBR5o9CAANDZ5F0ycGTDg4bCB7xWo25nDXQOKNQELj09p1+A\n",
              "FaTnUcSt270QL/B3fCkKlz6Jkx6xg2vHgdchliR5/Yqhduy8MVUumdxVhLFGqkkQEpQpG65nFIL8\n",
              "hMMzdVEV9ztgedYgv5hJ3MkZ2lCALWk3AQCDau1oMtZ5k1tCsVu6Ca4l4AAAACxBnspFFSxvAACx\n",
              "cfOtMHPHUp+HSEfQKcXvnzQgGy6oe0AAF0VRe+yOUREPiQAAABgBnul0Rf8AAAMBc9+7owAK4ZS4\n",
              "XzWOdIAAAAAbAZ7rakX/AABPsMcVx2EKzOYUAH4Tf7A8SB0wAAAA10Ga8EmoQWyZTAhP//3xAAAK\n",
              "f+tFHn8FEGuHyMdEAR1ABLAJ6EMg6dksFeKfn2kCMkISMsFhcPX7htKKaafWx3XcwuZk5cbQskF5\n",
              "LLVQlfjFSmnC8qkNOlYNghWLOdGZ6Q1ZMFnAKflZa8WoFLCtDf2XgJpFGCngpwvYrLH+2lLxQQ66\n",
              "BpwbR9cXTE4Sia4B//Cr+C5IcWVv+GmQ6jT6Y+iqmVpcQnIqT3EaW710mHWiADA7uAt5CtvL04HH\n",
              "8yi/Sulm50vJDQbR8Pu5/F9AQmpKzZ1DZ0qBAAAAOkGfDkUVLG8AALWBTumbrwy6F8UguK7rnfpb\n",
              "7c8IzzTrFYW2KfGsxNC93gBZXKbOEgPEAAKq05nMSokAAAAfAZ8tdEX/AABR6Tcd/qW/m4KXIpKA\n",
              "ABNSqfvKT/MwqQAAACEBny9qRf8AAE99k1yiN/ngHzDeH+q9zjQABR9FRac83YAAAADGQZs0SahB\n",
              "bJlMCE///fEAAAp/hxsLlFrgAM3rJmyzid2OEK34xi3pJ1tYz2ky2abR8Sr3umSEy+ziXXv+xPu+\n",
              "1C1r3t0r+RC2OAjvYxEPaJpBDV06Z+xgxptftdrYkuzdZ9qrKYLYXAHhty+o/DxgGeMt8ip5tfgg\n",
              "XsguWG40eKnXlKMNyHHrrdEjtDKMyAXyZUnCkb1YQ+rBm/wigo+R2cI9CNxHob9+UR4iHL4vloOv\n",
              "ep6ELPOcbNtY6Wd53X1Ot/Rw4AAeAAAANkGfUkUVLG8AAeEHkVp45704LGSe60F6XyLVvHRyVi2E\n",
              "dMEj/J7sjMXR0gJO2aIAAMRcRXYrqwAAACMBn3F0Rf8AAmpIuR9gWodk5vXxclhaOoIpK0AABJaM\n",
              "IzuZgAAAACIBn3NqRf8AAmvoMjdd7G5Rkx8Rlky3Z/6UNM/KfAABI6qzAAABAUGbeEmoQWyZTAhP\n",
              "//3xAAAKflBho3O2ABVCvoUT9MJqOduNm69g9wRdpfPefEiJ4jmxK9Y9ncwb6H0YrCcqD3z3biOD\n",
              "eAeNaY511KzCKOAUkB0o0tuW8IuXH8k896aj9cSQfFEr1SS893BM8tKYbs0ktQgdfsLX3DE8M/c5\n",
              "oczJahH4CdByjJ0mOohjvoAQb0XmqCRGfSYi40LqjGl7Tm3lU/cVa7seat22miw5D2Kh9Pn5vSf1\n",
              "A9FcXIQUd0LZWl40BHyir+n3GpNs0NZK5QA5txI6XlqT46l0QLVYg/oRqE9q6Uylc71TEugTv7tp\n",
              "9mZ1DPO24KAU4AXLUTe/SkM7AAAAOkGflkUVLG8AAeb7YYJVTyDoDUTN+mn5P86yN7uCCIOBzFXa\n",
              "aIxIi+MwV4yxjGOuNLvFQ4MWAA0NaqQAAAAjAZ+1dEX/AAJqSXaXQkYYL+GsqNRlaAHNXdhzytrj\n",
              "KAAAfMEAAAApAZ+3akX/AAJr6MFzzZjpsv0/bRKi3iJBKs7tmLQ7LvaPDpHW8AAAIuEAAAD2QZu8\n",
              "SahBbJlMCE///fEAAAqPJ9fcCaSw3ME1uqWMAAgNomzbB+F89esCmmb/wDAtL2Lf8viRvkhYQ53r\n",
              "u8IpNjSgKfQ1IqItjRo1Xykx5DAwxpL7JuHI+qJMGO+z17PFifVqsps2jiOkluZJG/VLW3GzKrK9\n",
              "8fuNlgMlYAhFXSajWXvGmeRxe3T+G3l3UbnlifAULfGWPyPya4IhdRYv+WpMPaRctfecoVFX+Zn4\n",
              "jvgNZnLniobTiN/oVdAWcqOGhxh3QjGeQzCk826TgU4NgUHlYNAlhLy3A3y1HYrpAFtw9iXVj5UY\n",
              "27dpOklnaguh4pd4ykhkAAAAUUGf2kUVLG8AAeb7YVJ1C6vgCY4iv1sLzJm0IlYktlLTJMPH9bue\n",
              "5dFLAgH/H31rpBx1RW+qgALaQABh0UhtQxtNHK0tGb5/5xc4AYIlSsjKgQAAADIBn/l0Rf8AAmpJ\n",
              "dQQWjqtoq95OLXhHi+hG7qiweGewOr24fgULYZjwAAgPYgehO5LYvAAAAC8Bn/tqRf8AAmvoFfbx\n",
              "3zu+xp1napBVwR/uGnEU3YUPDFkBvkTtbrgAEL+Z5huFwQAAAP5Bm+BJqEFsmUwIT//98QAACje9\n",
              "aq2qrkgdt7EbtpECWSw7cJngNv2yBSZtborZpcVLlAWlFn3/a9N/Kil8Y6fSWER/Eulhn4Np0YMV\n",
              "NEAjfvnBFH/277OCpsZh/Sz4d2CekRwSY7lxqtdeYbgS7p1/Qd8bX3Nu4QUftc84kM+OQt4m/JqS\n",
              "VlTvEaO1x50k13YO5qgfTNCVspzXGbye2Q14/sQbLxBgKpaBlaWFfeOwoCveQFVwIQYgj5JZlXxg\n",
              "lNzB6jJYdG3jTpv4nbp/CXChZRnj7/xGpVeqIdD0/M11ayO5AOFVdqSv0c30cH4v+fbQvJGMw0TG\n",
              "ySHfRk/RMwAAAElBnh5FFSxvAAHm+0T5ogHDV1MfpB3qMDwm0Wr5vYLFUCVHIHMviDQyKnU/Nkpl\n",
              "mP4KoAWcgEIJVqLeb34rWshqu7UPCwAQqWv8AAAAMAGePXRF/wACakhXobHq3ikvfuzZVYVnQEeD\n",
              "E1IvHj54fk/jJwfwMSBjAABmg9YcMAAAAC4Bnj9qRf8AAmvoFVQ7itAgTkfG/sdNqpCG7zd/iDcf\n",
              "1LD1z0PDVZsAAGRT2e2JAAABEEGaJEmoQWyZTAhP//3xAAAKRurgK+AB8+W/WZzwoJkkTe2gqnr/\n",
              "tbsA6MS4dJyAio99BkXzTLbhMYiAqUXSajGk4QNlIxzUW053or328wxVudjj3iY0A47ptl2ohFAj\n",
              "T3YyyD4hTOu43X7gcpHqkchXgBTbHA902YJEIOTTxm19h1EjjOLom62g/T6WVkgNJvlMsMwfb4oo\n",
              "J28RmO5uGhQxWt3N62pN+EygmQbwcBAjDOCWMYCY9M0m0l1Gn4/24lV9CokIzvJtQZraFhVZbYCq\n",
              "oyV1jKzLkRxuy2uUO/67O7s8mQUNtof3m2MATUaw5xJdbl/4NDhZkEgIlhbXMsqVI+tIxfSMZF4M\n",
              "/dnfW82cAAAAWEGeQkUVLG8AAeWaC+RAFXBVoAXkdcbA0gBW33pkor/LFpbVk92qrSjhojpe52J4\n",
              "d3UsFAjn/dmRCmpJx0Q4JSxcUy+qM2mzbit1nABaqtJiBvVXh/0mBZEAAAAsAZ5hdEX/AAJqSILZ\n",
              "F2tE6WAHeMmptHtFaw3vzK6P5wJiFDb3tXAAG2/2PaAAAAAuAZ5jakX/AADcnSXfl2uiarlomCNh\n",
              "zeUdc9q80ri9tJCRDQiHkKEoAAUZ6Aa2YQAAAPJBmmdJqEFsmUwIT//98QAACkexFvf636Fit9rg\n",
              "iR954MLzSZ+z/YBpv3u3Nd0v7H/3FG+w4kSAeaB5JilOUsIrETO12tqDKLtN27WC69AhrxTeNTCO\n",
              "f/t5CiS+WDfYxNWAKSxYO6kRTfPEusnR2s3l/D/LMYJdgP9bs1QVYnCdH4Dxkk0Qy7xG1qTh+7pi\n",
              "V6E5GAstryd05cZivbXIj9rd7/bmQtBIS2Cl9zWNRineNnhEAwxoAoJTVwXYNxtMcwMqVsNT1THm\n",
              "Bb54GCJ2mvuh13k6guo9ZSNiwlrhOlAxEIMud8OZGuh7Bzcy5l17mM6lIQAAAEBBnoVFFSxfAADa\n",
              "x2nTJF1W2itvyG4v8BwQdGsmpE3Mp1PC2tzYR/Otu4NwJognkc1av2iTw+2du5xR/AJsSF3BAAAA\n",
              "NgGepmpF/wAA2sdp6iTPyuWAaDVCrhX6/usU6Bmk9FHgmNdWMEMhphRQ0ldBh161ruwvLIACbwAA\n",
              "ASFBmqtJqEFsmUwIT//98QAAAwO1aUIyu6gCMHgSTvIxBZHb7v4wldzrGo5jUISgZ1t+InYdZ/+9\n",
              "SyUB5Y5YO1DmR9ZmiluMnRgNHihpcbvnEK6gcoff8nin96vYacA0WPlSY7+qZ8d28apc4I9+gI6v\n",
              "1T5b6iyEfHWwoqp04zbmzYWInJ86kxET0+4szepCuiBzGkOCzjE5rPj6+bRfqSrxinsFaaJEDM3d\n",
              "Zr6nIMIJBKoe6xhmOFboG0xZWbR73IMX4N0U7JU8mxWjNrr/jaFD/KunjDwHuwxSS2TsREji6Oze\n",
              "GQRnCEB/YqXd8PLLMnVl3ojuQPf0+ix/KLjtJ1rPz5ODhTa5rX98fd+bwaR1ba8sAFTZF84oNKY8\n",
              "MvzxX8qQAAAASUGeyUUVLG8AAD+hd6N1gJPKiGLzeeADoFrC2FUHFWaG/xvNOhsHLMupOg7ADVci\n",
              "fgiwFe6Z/HsWyKAAnI77/l2AH5XC0JdIEzAAAAAzAZ7odEX/AABR83DtsQsHgQomDWQhps+Zv9pM\n",
              "0VefHsTpGXOO+Pnr9GGtgAHNFyibeQQ9AAAAMAGe6mpF/wAAUbcomwfYyY9Vkd/Yt5jHKI4SJ3Za\n",
              "4xBFO+1mwHJakACu3ppbwXDUgAAAAQ5Bmu9JqEFsmUwIT//98QAAAwOzbq7algdFACL0A7ehalxv\n",
              "SRgimpw5/3vhyVvIssyFjVtBZJgBd4P4eLxHt+DtnGhVhLd9UNMuFrJ2EiwYnCb9PYBxSP2+73Q7\n",
              "I0A7qowCcWLZWvj+iCnoWCezFE0NcFUsqT9VoyQ6/wpuWxnJMwucc9JybYvtZ6aqNz209jAGfloB\n",
              "A5SJo1VYvTdFyi85wOYg5JBd5YRkTNsR6lsfiMe2cnEcxq68ol/31mLDDaW8aYsRcUZE3y9tFccA\n",
              "t9lPOz4ZVDxRFJttF1Z6aH7sPXcczdGyHwhmFL90kz7Nforq0kuE6kGYv7OYUs5xwhX4iMzfChgb\n",
              "FY/dKxtylOAAAABRQZ8NRRUsbwAAP4ox1y+eBSl66S94acJ6XT85NVp4nzMX2jvQ3qxeTzxP24v4\n",
              "EkqaoEzeX/my1VfLqH0afqYALXU8Y8YYBQs1mABXDpRzKwpBAAAAMgGfLHRF/wAAUa54RXHuRcZW\n",
              "4qF8zwAt8MQRIyN8Myvjp7fkjWoIgSMDwwgAD/kitfsPAAAALwGfLmpF/wAAUe0O6lfzQRolLA3W\n",
              "ZrT/wCxdLlDF1MWzi3fIaomIjCMcXQAtJ0ThAAABHUGbM0moQWyZTAhP//3xAAADA7m/60Ox+XZU\n",
              "Cr/GThMU0qg8QpZ3mHG2cKgBwESQz0IhGCHXHY+gL3oCGUzW2QGDTA+UFdcdMlkQuPXQ350KxQzS\n",
              "T8CkFjXMl5dHfY12ndV9GNHsME1JC+lBPKMAyesmg4v79ealTX1GlPMHbNcscZowAgab7N8+d8SN\n",
              "3qz+YMBZx3G4gcWbqo0dJhNOzcVlR+sM4cQEBMoF/qEGlOfDAqVelNVvZm0QNtdcw8kRnOAKy0ob\n",
              "yRYvFZ8JWj/VclEpT//gQyics3HYnF7a5tAuoyx8559DCqB0vOtedAljO5Wb58Gd4NzXfMz0vpTN\n",
              "F0smgJpcfOzTIAlFZRNqVWH8yX7JB75Qdu/IFuTaIAAAAFlBn1FFFSxvAAA/cs/o0ZZnbp7wfkGy\n",
              "Prph3hTtMPk6gRjqp9JPfsnZh836yLQQ3gC5w5PD4buuJLOPiKIJmV+ZaDH7D+DN1HtxEK+AgNIc\n",
              "6jX4SNs9unnDsAAAADQBn3B0Rf8AAFHcQ5Z8FBVcO+MNMJpSKFKFf/7P7dNT78XKF0LkpTIR5soF\n",
              "IAAALSJYrPZ9AAAALAGfcmpF/wAAUcaG83HGIqBEX7InyP2KFf/jMambiHgTb6svgAG1f7W7o6Ie\n",
              "AAABDUGbd0moQWyZTAhH//3hAAAF15PhMAEVAxVP5a6ZGlUFUwi0AQYZfA9+NLUC3Y1ccBEJhf+Q\n",
              "DFSUg5njLmLjdl9ygFsoph4mm7BobptUEH4NT4/MbcfHW6DfQ+OR4tWShl7W2KzfbTkd5dC+0CFQ\n",
              "vcOyov9xzTIrrNFAwVlTtHMS/j6KXrEHVU0e1XhIgCkwscCKnZ79GtJFbypAjocLMtSixz0PUFD1\n",
              "MXq6j615cxniVDQmG2LbAscLsxnZ7QKHS3TVgbvktbFkT6G/4/aYxi5hcmEVrWv/ORX7CagLVIck\n",
              "X+KFWtPSpJn6pBJoll3LN/RaYL8jsGPmrgLiM0BMQ+K6A7qHgUgTD8WLTsrAAAAAY0GflUUVLG8A\n",
              "AD4WvwFTzkq97aaUQ+dQGjbBZDmpMZqc3qKzmPOtoXlIK73BQR2EJSmPAKE3BKY076YXTddEYuN1\n",
              "F/NyZxjdOujkG5VixKV9gNGWABIv9bzlIzNXXu5kZ/U8SQAAADQBn7R0Rf8AAE9kDvI7mnoO5HWC\n",
              "dDp9V+VYMxsvkGH9AtwnU2NdZhvHIMSDDQqX4AZEO3XdAAAANAGftmpF/wAAT4Y0DywIvX6R5fTW\n",
              "Sj8qjGX36fCkGppJITbBh2HIYu9ZXx3vAAFWUoXAmYEAAADWQZu5SahBbJlMFEwn//3xAAADAWF+\n",
              "Wwz/LZWcAItg8JWADy2e9U2nqjmkEL1Ii1Cr1JquMnGhW/JA4w2LTBkMIfMe3uyEz9HZ5Z/cigSv\n",
              "8RZ+PuIqLb92A1ar+eB9pQEboQbO1PQL6TI/0B+QMRatlGaOoESOCKILtaVSwgr4EPTT8HwNes/P\n",
              "mPcqpUwaKsRcJ9OHwEPDuJ90cA+zIh4UnQCLpIFwbE2TQX4O4mp+F71eK2RBoaXULhnWcyxVaH1V\n",
              "NYaRWTdtSH2o1/BPC9kXlb1oy3ocuwAAAC8Bn9hqRf8AAB8hIq0Li/i8p7KW7nFKuPHwBwOpNN4l\n",
              "YJY6NvO+vMAAqy/O6za4gAAAANBBm9tJ4QpSZTBSwn/98QAAAwFhflsIvHW94cC9gH2obUAVNl4V\n",
              "OiUAIlGYJCZf3e8QZcomdWInlQxGmVNhojO4n+Hm3dp7LUeTwU+OE8x7M8Tu1u5LCdiN6MsFSZci\n",
              "fV2o/a63vumWVCpdnRyJ7evxBdRiL4VM5OGqe9lrKebvKGqgXy2Dp6RbqmO2mfLuU8tP0gx2CVRz\n",
              "bkKpitWDNTReGrdTAJ5fslPvbaTKbE/ofIlvMmPROBwfPPgXoU97FnQ+df8ZP3NO/PewdX0aLQiP\n",
              "AAAAOQGf+mpF/wAAHgqwDrVM9ibVOllTLl1FXYkpSKdRRSwGJByBHssiWrekMn4iyHfIBB0vOEhm\n",
              "sYDZgAAAARpBm/9J4Q6JlMCEf/3hAAADAi3RNS+gmCjTaHGIcRTBDt4RzpIivLKAIxXAs/xwJFbc\n",
              "uj0NdadSJcYxoTjFeL7e/VXBiWYngRhlWpVhosIYYB6XC738NadpnZVvt1uPb1qqRq/4UF/8JnVy\n",
              "md7v49m8Ffl2xfYo8BHcKQFR4Prqnf/nOB4u9VcDSLLUKVZjvUIvy9+q4C1V9QwN+IotoF2sYbuu\n",
              "wYv29GhNF47qol1VyQgbSG3h+AW5mE8olPeYuINx/PgzInuCwd/PaqvKqxfSocVnV7W4iohBNY7Y\n",
              "+rG1WfHjEzGg5kyI090Xxk4viyGEn7YXsozmp8OrSVo4dV69VS4/Z9p8ZVm9G4go6LrbQGgNdaiW\n",
              "Xna0b4cAAABRQZ4dRRU8bwAAGH3BSrbTvHqNXJUXNsdgIDwXjG7A2CB3+3m5iISC+CXQclScrjlm\n",
              "FR5IYyeWUdL/8HsF0AS3NUbLvdY/xRAAAVaOtAPIw8elAAAANQGePHRF/wAAHl7MJ8p3H/glTssV\n",
              "BDs9TH1NgyN5aN+bhruziKpV8eLqVGTY55agAU3TLbb+AAAAOAGePmpF/wAAHlis0Sc7DUF5e+cV\n",
              "5Vs5kEyGXeKaAKGUIcdfCKVrofNK1XgAAARrCrXZjCZVl0PgAAAAvUGaIUmoQWiZTBTwj/3hAAAD\n",
              "AhmYJ/tChb9+TJ9KKAQv9GhfkKTptMoELeuDjnp5EkH2ylxKaiSD72IZXqlCzTNC0E6g9sRxTUNr\n",
              "77Vrvv73u+F5cEsUIZy+3Nhgl/5DWGgk+NjLiSBK0xX5IdB7/mHLSungMQJXB6i5wAwOyX5CwSw+\n",
              "E6lUerInnjV//Z57Kt2ut+2BVvFEjQ03+9pWHdCHMZbrTfhW2KFDZOP/32T6i3NyPBJlokqWR6Oz\n",
              "HwAAADUBnkBqRf8AABz3ju/pv/fsLRtf5ukaAD1+u7z6KRipUKcIa5YD9jPO87PRu8rEBvoAC0wx\n",
              "iwAAALVBmkNJ4QpSZTBSwn/98QAAAwFR9XhCtuugVHlfsgCnGP+EmMtqcchL0shO95hNpVbvnVVl\n",
              "K1Es5OM2ZN4lAwcT2BGnG4Zb0mX1gwNpLbqoSecTMOsdZM6DHFOlROX1wLzbE50GNF6g4YqWIrsn\n",
              "DzMl/XEivIK1YhwoaOg5FhiQTCVXqOb8bpHJW2vWYA0KoRmzdxjJ6m6mno/K9uQnQvpP8b39S9Mq\n",
              "tliq8U2GG13/LKAAADehAAAANgGeYmpF/wAAHDlNywTTPi7cxu3PHLrLQJBbtLjiT21/mt2nDzT1\n",
              "p3kP7dANJ90xb+RMoAAI+AAAALRBmmVJ4Q6JlMFEwn/98QAAAwFR/OI+zefFZufLK+QDf7TEHZTq\n",
              "gFFUb6ttiABBoqtwykc5WvRkGi1b0rZsletd+GeKSPuSfAomoSl1uUKU4eK7y+p0O/rJho+YjeHp\n",
              "/7+DCKwnYoAtEglvOrgS8c4OX4eN74D9ml5N7i0fHnOdN4tY1SFu1ODrOj0y7EE7Es0bu3RE7l29\n",
              "G67yXE/MRAZ2yXBkC+8YT+1HHZO9VZt0lHwShpEAAAA/AZ6EakX/AAAbnWsiDvuNpNdyTD1Ih2EA\n",
              "Jkoh29xK85AdHuiMugKEkvU0UPPGNuZTYGRvYX24jN1kuroAAEnBAAAAsUGaiEnhDyZTAhP//fEA\n",
              "AAMAhm+/op5a4/uJ36gAgLlBAxVHVQBhcQfRsj+y4uZRqATfEzwFgcPVKGFaKss5ZkteT5tumCym\n",
              "5y1gHe2DzbHlbjL7QzkId+UEWHDNiGeShC/H118NFkdT61e1C8AYH9jO883w233Ni0xpQhWG5VA/\n",
              "eNmdQi/HaRr71bWH/ZS00cwb16S/2Rrlc6Z13DzaQhuBsSXAcB4h1ogbNn1wioR5UQAAAGJBnqZF\n",
              "ETxfAAALnpvZJPSgBnXpLn4zezkmuT0csppeDx2zh8p9RIsLz2zcQ6UJB768YaJOAlITWgDsYRBh\n",
              "QG6yJ/CXjU9vJH7X+18L0JxNR4MwsMIHJybesnev4UAT4VZIuQAAADcBnsdqRf8AAAtWfWbpDaAA\n",
              "WxJ+uhgP6CFWpyQlGG3AQmMwOLU8Ha9zrWPkssbhWPzbQABMenD4AAAA8kGazEmoQWiZTAhP//3x\n",
              "AAADAId/j/pwIj2JP5ZdPnWbrgY0VwkYKRfkALhgJjmLnCYSpblhG/MU1EMlZca7Mr7t47FUsxGN\n",
              "AtLDf+zXR3DAjBGYjdbt9prtcbigYS/KHNV5IPzqmAJAptY772iagPUAI+KoB1dWyIujltNYmJIx\n",
              "IvceLQdQE+sawzq0xzWmoBlQ3mA9iGdjvjHgcLGGkrZg7pvtNNHmXfZ5xziwKYoqkmDfA6X/g13H\n",
              "0sOKmogfsUhWbmRfDNNJkgXMRBMpbkJrmmQYkmMdroD0tV5HFLEGq+rXZvGeSzU3H6Gnf96IVktY\n",
              "AAAAY0Ge6kURLG8AABazDEx7SNMPQ8zNnbdZ3KSa00AM7E415jrdJV0B1Fa9K53FBn7fhdK3iRtt\n",
              "KWv8D1aIYeaNYzFZ80Tum15aColWV1SG6moa1/rhP70GB424TYCGRAgAKzNSSQAAAEQBnwl0Rf8A\n",
              "ABxCzeKO4pXlE9G9wABbCYbmMexHodJtvjbfJMEfJrRUp1KvX3wyjM5ljUSCBoEtyLUZMZkmVkAB\n",
              "A/JnwAAAADwBnwtqRf8AAAtWugz+3wSHu3r9QAjFtnrvz44qqpsTO4P5Za7DkOi0HoLQu0ANmfxd\n",
              "TsXxIO9cAAa4CY8AAAD3QZsQSahBbJlMCE///fEAAAMAf303MaLt08u6nu3WCvL3WTQN7AI0wSpc\n",
              "5WdVYVTGK7V6cngBBvimMteL6rWJW2kfauLZhNRfb3s9CrCbv5Z/svVC/1vjSQ8M9YyY8q6OC90N\n",
              "u5ebMkQlkVXeGnWc8koXtdAn80D9hnSXQ8Bo5dn+WOBsV8K7mYy0BoXiUqHEmREzbhu5tH2uxaUD\n",
              "G2b/4765Zpp/UzaOYddHyPAjO9badaeSCeGlESAl9L3m6GHhAhwhkmVLasslHVJ23iuQ4bASeBkC\n",
              "Bpi/kNQculBa/ZU8uslAk3wr5p4pgAAMTBReu4Xe3wLSeQAAAFtBny5FFSxvAAAIkeeTVjXYjdfR\n",
              "IHgkOtSxGTj+0dqWEmXj+AIWmRRo7VFy9QTzmFQvLEy7IGKkZRlRC0uxv9d5akIQB3KLeeQ4HQBe\n",
              "JnEugGP9HUTUs6FWu1DxAAAAMQGfTXRF/wAAC1+lfXnxuTskHlOwJzhgAHeawhuxOhQ0YTKo5pq5\n",
              "ddpXmIBHfQBi7aEAAAAzAZ9PakX/AAALYd1L4wyMrEXqjJ1zHL6IsQ+jmPqs27Kg2pKIYWA+snM8\n",
              "BTfFuNSL4oQcAAABJEGbVEmoQWyZTAhP//3xAAADAId+uteM4oB8xmswPmnQSrUsT+hU0AtCORfk\n",
              "Jnsnc31oR0LpdxZCfE0uitl/9AfPRpofy0MtehFUlXBgzk7wWL5rXPuTmBGDxhnSPxldM6/FVuV5\n",
              "wHwDCAbspj9xlPpu5i4tQMQy/l7P/68BXs/6jZicQQ1eYkaexin2HDUbwB25Fr3FVSI4PPckTjBJ\n",
              "3kfhxcKlLQx2IbREOLmHjkA2vANZLHCTbL++6Qo3xkxKCR0eFfd/2aQZEl+8S/MiS10imtPdUrt+\n",
              "726YmYS3r/kQ9UzSjE3Cjcs80rE8HaO5mJYbHRhk1FhRc4Eywb/rIDELIm7kXDa50wdcc0GG9IAf\n",
              "zFy3XeBpTq/ZCf7Gtps1Q3CZBIAAAABeQZ9yRRUsbwAACPEcU56T7tTIDsKeacu8nlHYoPWr7tLz\n",
              "QVQub6TLSkJABaQKleqQ3vr9iHBQYmZJRGRrmrlrFHUpii6F6+uuix3skADgXK95YEHM+y5Kjf2z\n",
              "yJd3HQAAADUBn5F0Rf8AAAtW4+H46YQwyp1wDQ8W6OEGR7v1SYyxB7ybWP9AY9RJuii5W6sAKIDf\n",
              "RRBTQAAAAEIBn5NqRf8AAAtZMR0b4qq1C7+/wjq/vQ4rw1pTpCABMRDSRSG74iYoAX0hCQgon3aP\n",
              "fmD+ovqh9aQb+MAuTEkME3AAAAEPQZuYSahBbJlMCEf//eEAAAMAT1etIygA4R0dillRjaj+rKKm\n",
              "bklbQf4rvYxHNvYOtSCSCHivjKHEHSkXBUbXs0q997RyUdZMF/kgU6Om3pzAO8Xxt2Q6qUEHZeoQ\n",
              "2UE5ThNC7r+16RrwskrP8lsfcU7N4fIziLUGW6qdMcTLEisdyfiTe/DALYnB98c+4Q9Tsfp6aVkd\n",
              "drHWQqAMEBA68+0wIT3igcDu5buQ3E9cc6l4ulk4YLFsYfwU/uWvi9Monj1Mv4BKdhqaUc1UOkTv\n",
              "tVkqzXU4dp7dH++QN2IMKiEvXp7XrQfRHsqeQA2gC8vmiGYlpDxAv8uBzVBIMDWXPCqr8Gn2ttut\n",
              "hDyI/lCpYQAAAFRBn7ZFFSxvAAAHlm6K/eS49YQWUydj0JAM2+oAEdoo1ZDQJ5eAh+dYtbSViATC\n",
              "07O+6H3gKOgxcysNCgZdsu0S57isAWPeB1uVnAAMkYCL2C3YekAAAABEAZ/VdEX/AAAKfxnAKYI2\n",
              "0tWNux0p5lskAAnIH+vHKj4I9otIsUtl/SMw8Ygf5ODwfxZgyVPKRfi2Q5Tt/oesgAwoBqUAAABI\n",
              "AZ/XakX/AAAKhned64hw+J3ZsO80AAd5sOPpdxqHno8cTYCk6CEJ5mB3bNg1SlGX4T0dtj5py2vb\n",
              "eIWNiQ0Q+IyQ8A24bwqZAAABEEGb2kmoQWyZTBRMJ//98QAAAwAyYGQYQQvQAPLm5j+IOoPqIcUB\n",
              "MlcTCn42icHIeWrDay4JNkVYU2kzhYHuR/u9gxZUm+zvT9a6qIROvgV0ctzciSfXSfwF49fpC8WW\n",
              "blV25+c+D+v6C+X4CMC38F9E9PYR/RBaqbOHtVYdqjRomkxNjmqE971jsB9JvQXP+bZpUuv2tO53\n",
              "Njf6AzWDsro/4YrfCyY6OLihJOK5MgqVyG6+I44tGUkuM+jIHKNSpzelK6qS2AW0L8ISt2xDbeSr\n",
              "3ydcQpaBuApM58rDmCHDbk5Asfa57PbGATfnAdjMS/LYNF1gtkm+xv08dmaxbUGkBqQtKgKpnKJS\n",
              "la7FaGygAAAAQAGf+WpF/wAACoD9gIfbPU7c1quj8B/FWCOZi30it6yF7ot0Z6ycGqgLcBWiixSL\n",
              "BUG0UB+Ru60WYEvFB+ldC3UAAAEQQZv+SeEKUmUwIR/94QAAAwDY/e5Xie/85trTeUAC3aJVovLg\n",
              "bG4ZA8nOuJuRekM9Ce6bSGe+llHxBQPPO9q+rrtz5J9z3jthkqDG0V9ZmX2wacUKlOHQe88oKRuO\n",
              "3SXHvNbG6/X7Rfg2ELfk7lYVB/APhjxAuNqS7YP+pW4VpVMd/thp5s+o0rzT3b1h+KIX2YEFnkEa\n",
              "8PQpm4JgLthdpWcoSWg4YXpwjOm69pNaGhwTSKZY+ac8q26IyLTbpk87MiChknAuu8VQg2NPrYfl\n",
              "qQDzXOfcduCNB8Mp+va9NpRAbH7KGiyaRDdSq4ZnkzQCumfEPAHV3buh/btDhtgSrAY2Ee8Za+81\n",
              "FaMR7T8B5F4AAABlQZ4cRTRMbwAACSs4Xab3yidPF4D6TTi+JcWUGAeR+UFvTpUJWcP/xnqUAEtl\n",
              "I06zUK+AGvUCg1WMHkcJB/LKeOum62zPiW/6IHPnoSUBlKJ+R1R34D4G+Sjnn3X2ofBSO9Y3JDcA\n",
              "AABBAZ47dEX/AAALo4M3drE1sJy9xD4DgfbEoFlKMLQZooGnq062vvUu9PW38CptQIR5oof0zv6a\n",
              "pV3Q8AoWS6srF2MAAABMAZ49akX/AAALXncpZ/5D08tlZC0D8L6wO0SDLBUprF/FCR4JNOYn5/iL\n",
              "YPAAHlL9dhMOFB4IReZaUzmgn+gSCKHoMycAtnZMeJxycAAAANhBmiJJqEFomUwI3/pYAAAGeHss\n",
              "AtFc4AeJ6C3+crj+RLMhMFhrxyoCh2qrdt1bYBASxR34ZI9a48OCH19fXnwzYMzt8G4CjwnbZ4SY\n",
              "Ao8yLuh1tJPDsK8db7OrXutoxeAPFhBlLN+8FIhugt/RdDC2xOwXVIu9d8FONrH+0DGJnufRvhCY\n",
              "ZNJnPt70pSDgCcALQYvqbl8O8TjOzXzq3eJf+USHuo0p20Ynf7oNzztC8bh7UDVDTRuoKHJQ+qLI\n",
              "Gap1LcylCdbxRYPdbNwUB6MVNd1zwA8ZSkMAAACBQZ5ARREsbwAACSePQmc5L1ZBXsUO/PBXhluY\n",
              "Se0IAVgzzt3VMcEEzqTrA6+XmB19sxAYAVju0pLbS2q5URFXF91hy+tep+hFT9WGAwW1ecDd0PEG\n",
              "tT494vmZ9Nt4w49BPFTaP3JEuD9pq+mCmym+tAef7XDFCeSUft0EUUGcDdbRAAAARgGef3RF/wAA\n",
              "C1byUWVrkbSl9GBm6x9KdnIj4j2lVd4o8crkMzJ44AO82HHxbjsU+oiRyFCS3r8lFF1T+7cDHKdX\n",
              "j/P5ZjwAAABRAZ5hakX/AAAL7nfNPkegliCQA1SaU0GZUs1wj09ajnfzOvMB6haZG0cAJZ8x6+Ev\n",
              "f+GuHuxDwhSPDiatHK+3vEyTbXjX6sruAKEL0c7paxJxAAAAZ0GaY0moQWyZTAi/+lgAAAZ/HwV4\n",
              "6YiQVNYt0KXZ8Aij72IAS/riBHrPceUcDBKjSwd03hxbMwy+XpEzVdseQvCXR36OwACkZnwvZe3n\n",
              "U/MuCtZdNO/yB05kDdIFknu0TvVUJfxwPu0AAAfSbW9vdgAAAGxtdmhkAAAAAAAAAAAAAAAAAAAD\n",
              "6AAAA+gAAQAAAQAAAAAAAAAAAAAAAAEAAAAAAAAAAAAAAAAAAAABAAAAAAAAAAAAAAAAAABAAAAA\n",
              "AAAAAAAAAAAAAAAAAAAAAAAAAAAAAAAAAAAAAgAABvx0cmFrAAAAXHRraGQAAAADAAAAAAAAAAAA\n",
              "AAABAAAAAAAAA+gAAAAAAAAAAAAAAAAAAAAAAAEAAAAAAAAAAAAAAAAAAAABAAAAAAAAAAAAAAAA\n",
              "AABAAAAAAoAAAAHgAAAAAAAkZWR0cwAAABxlbHN0AAAAAAAAAAEAAAPoAAABAAABAAAAAAZ0bWRp\n",
              "YQAAACBtZGhkAAAAAAAAAAAAAAAAAAAyAAAAMgBVxAAAAAAALWhkbHIAAAAAAAAAAHZpZGUAAAAA\n",
              "AAAAAAAAAABWaWRlb0hhbmRsZXIAAAAGH21pbmYAAAAUdm1oZAAAAAEAAAAAAAAAAAAAACRkaW5m\n",
              "AAAAHGRyZWYAAAAAAAAAAQAAAAx1cmwgAAAAAQAABd9zdGJsAAAAt3N0c2QAAAAAAAAAAQAAAKdh\n",
              "dmMxAAAAAAAAAAEAAAAAAAAAAAAAAAAAAAAAAoAB4ABIAAAASAAAAAAAAAABAAAAAAAAAAAAAAAA\n",
              "AAAAAAAAAAAAAAAAAAAAAAAAAAAAGP//AAAANWF2Y0MBZAAg/+EAGGdkACCs2UCgPaEAAAMAAQAA\n",
              "AwDIDxgxlgEABmjr48siwP34+AAAAAAcdXVpZGtoQPJfJE/FujmlG88DI/MAAAAAAAAAGHN0dHMA\n",
              "AAAAAAAAAQAAAGQAAACAAAAAFHN0c3MAAAAAAAAAAQAAAAEAAAMgY3R0cwAAAAAAAABiAAAAAQAA\n",
              "AQAAAAABAAACgAAAAAEAAAEAAAAAAQAAAAAAAAABAAAAgAAAAAEAAAKAAAAAAQAAAQAAAAABAAAA\n",
              "AAAAAAEAAACAAAAAAQAAAoAAAAABAAABAAAAAAEAAAAAAAAAAQAAAIAAAAABAAACgAAAAAEAAAEA\n",
              "AAAAAQAAAAAAAAABAAAAgAAAAAEAAAKAAAAAAQAAAQAAAAABAAAAAAAAAAEAAACAAAAAAQAAAoAA\n",
              "AAABAAABAAAAAAEAAAAAAAAAAQAAAIAAAAABAAACgAAAAAEAAAEAAAAAAQAAAAAAAAABAAAAgAAA\n",
              "AAEAAAKAAAAAAQAAAQAAAAABAAAAAAAAAAEAAACAAAAAAQAAAoAAAAABAAABAAAAAAEAAAAAAAAA\n",
              "AQAAAIAAAAABAAACAAAAAAIAAACAAAAAAQAAAoAAAAABAAABAAAAAAEAAAAAAAAAAQAAAIAAAAAB\n",
              "AAACgAAAAAEAAAEAAAAAAQAAAAAAAAABAAAAgAAAAAEAAAKAAAAAAQAAAQAAAAABAAAAAAAAAAEA\n",
              "AACAAAAAAQAAAoAAAAABAAABAAAAAAEAAAAAAAAAAQAAAIAAAAABAAABgAAAAAEAAACAAAAAAQAA\n",
              "AYAAAAABAAAAgAAAAAEAAAKAAAAAAQAAAQAAAAABAAAAAAAAAAEAAACAAAAAAQAAAYAAAAABAAAA\n",
              "gAAAAAEAAAGAAAAAAQAAAIAAAAABAAABgAAAAAEAAACAAAAAAQAAAgAAAAACAAAAgAAAAAEAAAKA\n",
              "AAAAAQAAAQAAAAABAAAAAAAAAAEAAACAAAAAAQAAAoAAAAABAAABAAAAAAEAAAAAAAAAAQAAAIAA\n",
              "AAABAAACgAAAAAEAAAEAAAAAAQAAAAAAAAABAAAAgAAAAAEAAAKAAAAAAQAAAQAAAAABAAAAAAAA\n",
              "AAEAAACAAAAAAQAAAYAAAAABAAAAgAAAAAEAAAKAAAAAAQAAAQAAAAABAAAAAAAAAAEAAACAAAAA\n",
              "AQAAAoAAAAABAAABAAAAAAEAAAAAAAAAAQAAAIAAAAABAAABAAAAABxzdHNjAAAAAAAAAAEAAAAB\n",
              "AAAAZAAAAAEAAAGkc3RzegAAAAAAAAAAAAAAZAAADnkAAAChAAAAMQAAACUAAAAYAAAAmgAAACgA\n",
              "AAAcAAAAHQAAAJ0AAAAwAAAAHAAAAB8AAADbAAAAPgAAACMAAAAlAAAAygAAADoAAAAnAAAAJgAA\n",
              "AQUAAAA+AAAAJwAAAC0AAAD6AAAAVQAAADYAAAAzAAABAgAAAE0AAAA0AAAAMgAAARQAAABcAAAA\n",
              "MAAAADIAAAD2AAAARAAAADoAAAElAAAATQAAADcAAAA0AAABEgAAAFUAAAA2AAAAMwAAASEAAABd\n",
              "AAAAOAAAADAAAAERAAAAZwAAADgAAAA4AAAA2gAAADMAAADUAAAAPQAAAR4AAABVAAAAOQAAADwA\n",
              "AADBAAAAOQAAALkAAAA6AAAAuAAAAEMAAAC1AAAAZgAAADsAAAD2AAAAZwAAAEgAAABAAAAA+wAA\n",
              "AF8AAAA1AAAANwAAASgAAABiAAAAOQAAAEYAAAETAAAAWAAAAEgAAABMAAABFAAAAEQAAAEUAAAA\n",
              "aQAAAEUAAABQAAAA3AAAAIUAAABKAAAAVQAAAGsAAAAUc3RjbwAAAAAAAAABAAAAMAAAAGJ1ZHRh\n",
              "AAAAWm1ldGEAAAAAAAAAIWhkbHIAAAAAAAAAAG1kaXJhcHBsAAAAAAAAAAAAAAAALWlsc3QAAAAl\n",
              "qXRvbwAAAB1kYXRhAAAAAQAAAABMYXZmNTguNDUuMTAw\n",
              "\">\n",
              "  Your browser does not support the video tag.\n",
              "</video>"
            ],
            "text/plain": [
              "<IPython.core.display.HTML object>"
            ]
          },
          "metadata": {},
          "output_type": "display_data"
        },
        {
          "data": {
            "image/png": "[encoded data removed]",
            "text/plain": [
              "<Figure size 640x480 with 1 Axes>"
            ]
          },
          "metadata": {},
          "output_type": "display_data"
        }
      ],
      "source": [
        "plot(result_rk45, duration, size)"
      ]
    },
    {
      "attachments": {},
      "cell_type": "markdown",
      "metadata": {
        "id": "oazVHmdxmYHY"
      },
      "source": [
        "# Linearização do Modelo Matemático"
      ]
    },
    {
      "attachments": {},
      "cell_type": "markdown",
      "metadata": {
        "id": "dJQFGhZcsgDC"
      },
      "source": [
        "## Aproximação por séries de Taylor"
      ]
    },
    {
      "cell_type": "code",
      "execution_count": 59,
      "metadata": {
        "id": "vOsMMtwRGj3I"
      },
      "outputs": [],
      "source": [
        "linear_space = taylor_linear(space, theta_1, theta_2, theta_3, y0[0], y0[1], y0[2]).doit()\n",
        "linear_space[3] = omega_1\n",
        "linear_space[4] = omega_2\n",
        "linear_space[5] = omega_3"
      ]
    },
    {
      "cell_type": "code",
      "execution_count": 60,
      "metadata": {
        "id": "0p4_daH8SkrN"
      },
      "outputs": [],
      "source": [
        "substitute = Params.copy()\n",
        "substitute[theta_1] = y0[0]\n",
        "substitute[theta_2] = y0[1]\n",
        "substitute[theta_3] = y0[2]"
      ]
    },
    {
      "cell_type": "code",
      "execution_count": 61,
      "metadata": {},
      "outputs": [],
      "source": [
        "# É necessário pois senão o sistema \"linear\" irá apresentar termos do vetor de entradas na matriz A.\n",
        "remove_inputs_alias = {\n",
        "    p_1: 0,\n",
        "    p_2: 0,\n",
        "    tau: 0,\n",
        "}"
      ]
    },
    {
      "cell_type": "code",
      "execution_count": 62,
      "metadata": {
        "id": "xGu-BmeVSTKn"
      },
      "outputs": [
        {
          "name": "stdout",
          "output_type": "stream",
          "text": [
            "[[0, 0, 0, 1.00000000000000, 0, 0], [0, 0, 0, 0, 1.00000000000000, 0], [0, 0, 0, 0, 0, 1.00000000000000], [2.71503221980615, 7.58119227747306, -1.33549607532177, -0.00668154565072804, 0.00953854298254941, -0.00455531077916738], [-1.92553607490736, -10.6554419678361, 2.46097574822952, 0.00953854298254942, -0.0148980257237596, 0.00778398698950282], [-1.26276568926007, 3.01420248897267, -1.90761964454233, -0.00455531077916738, 0.00778398698950282, -0.00615618304192789]]\n"
          ]
        }
      ],
      "source": [
        "A = list()\n",
        "for f in space:\n",
        "  A.append(list())\n",
        "  for x in vars:\n",
        "    A[-1].append(sp.N(sp.diff(f, x).subs(remove_inputs_alias).subs(substitute).doit()))\n",
        "print(A)"
      ]
    },
    {
      "cell_type": "code",
      "execution_count": 63,
      "metadata": {
        "id": "aDxhV_lKeoxl"
      },
      "outputs": [
        {
          "name": "stdout",
          "output_type": "stream",
          "text": [
            "[[0, 0, 0], [0, 0, 0], [0, 0, 0], [0.000208798301585251, -6.19949546185575e-5, 5.21169939154306e-5], [-0.000298079468204669, 0.000116297234729458, -7.44019741194813e-5], [0.000142353461848981, -7.00601407317925e-5, 8.98378658944935e-5]]\n"
          ]
        }
      ],
      "source": [
        "B = list()\n",
        "for f in space:\n",
        "  B.append(list())\n",
        "  for u in [tau, p_1, p_2]:\n",
        "    B[-1].append(sp.N(sp.diff(f, u).subs(substitute).doit()))\n",
        "print(B)"
      ]
    },
    {
      "cell_type": "code",
      "execution_count": 64,
      "metadata": {
        "id": "zykehhv7-WQG"
      },
      "outputs": [],
      "source": [
        "def list_to_scilab_matrix(matrix: list[list[float]], varname: str) -> str:\n",
        "  scilab_code = varname + \" = [\" \n",
        "  for row in matrix:\n",
        "    for value in row:\n",
        "      scilab_code += \" \" + str(value)\n",
        "    scilab_code += \";\"\n",
        "  scilab_code = scilab_code[:-1]\n",
        "  scilab_code += \"]\"\n",
        "  return scilab_code"
      ]
    },
    {
      "cell_type": "code",
      "execution_count": 65,
      "metadata": {
        "id": "D4VyB2gM856G"
      },
      "outputs": [
        {
          "name": "stdout",
          "output_type": "stream",
          "text": [
            "A = [ 0 0 0 1.00000000000000 0 0; 0 0 0 0 1.00000000000000 0; 0 0 0 0 0 1.00000000000000; 2.71503221980615 7.58119227747306 -1.33549607532177 -0.00668154565072804 0.00953854298254941 -0.00455531077916738; -1.92553607490736 -10.6554419678361 2.46097574822952 0.00953854298254942 -0.0148980257237596 0.00778398698950282; -1.26276568926007 3.01420248897267 -1.90761964454233 -0.00455531077916738 0.00778398698950282 -0.00615618304192789]\n",
            "B = [ 0 0 0; 0 0 0; 0 0 0; 0.000208798301585251 -6.19949546185575e-5 5.21169939154306e-5; -0.000298079468204669 0.000116297234729458 -7.44019741194813e-5; 0.000142353461848981 -7.00601407317925e-5 8.98378658944935e-5]\n"
          ]
        }
      ],
      "source": [
        "print(list_to_scilab_matrix(A, 'A'))\n",
        "print(list_to_scilab_matrix(B, 'B'))"
      ]
    },
    {
      "attachments": {},
      "cell_type": "markdown",
      "metadata": {},
      "source": [
        "# Simulação do sistema linearizado"
      ]
    },
    {
      "cell_type": "code",
      "execution_count": 66,
      "metadata": {
        "id": "96iuKOtGzoDm"
      },
      "outputs": [],
      "source": [
        "linear = solve_ode(linear_space.subs(inputs_alias).subs(Params), duration, size, y0)"
      ]
    },
    {
      "cell_type": "code",
      "execution_count": 67,
      "metadata": {
        "id": "3F0-pxjfzu-C"
      },
      "outputs": [
        {
          "data": {
            "image/png": "[encoded data removed]",
            "text/plain": [
              "<Figure size 640x480 with 1 Axes>"
            ]
          },
          "metadata": {},
          "output_type": "display_data"
        },
        {
          "data": {
            "image/png": "[encoded data removed]",
            "text/plain": [
              "<Figure size 640x480 with 1 Axes>"
            ]
          },
          "metadata": {},
          "output_type": "display_data"
        },
        {
          "data": {
            "image/png": "[encoded data removed]",
            "text/plain": [
              "<Figure size 640x480 with 1 Axes>"
            ]
          },
          "metadata": {},
          "output_type": "display_data"
        },
        {
          "data": {
            "image/png": "[encoded data removed]",
            "text/plain": [
              "<Figure size 640x480 with 1 Axes>"
            ]
          },
          "metadata": {},
          "output_type": "display_data"
        },
        {
          "data": {
            "image/png": "[encoded data removed]",
            "text/plain": [
              "<Figure size 640x480 with 1 Axes>"
            ]
          },
          "metadata": {},
          "output_type": "display_data"
        },
        {
          "data": {
            "text/html": [
              "<video width=\"640\" height=\"480\" controls autoplay loop>\n",
              "  <source type=\"video/mp4\" src=\"data:video/mp4;base64,AAAAIGZ0eXBNNFYgAAACAE00ViBpc29taXNvMmF2YzEAAAAIZnJlZQAAGFNtZGF0AAACoQYF//+d\n",
              "3EXpvebZSLeWLNgg2SPu73gyNjQgLSBjb3JlIDE2MSAtIEguMjY0L01QRUctNCBBVkMgY29kZWMg\n",
              "LSBDb3B5bGVmdCAyMDAzLTIwMjAgLSBodHRwOi8vd3d3LnZpZGVvbGFuLm9yZy94MjY0Lmh0bWwg\n",
              "LSBvcHRpb25zOiBjYWJhYz0xIHJlZj0zIGRlYmxvY2s9MTowOjAgYW5hbHlzZT0weDM6MHgxMTMg\n",
              "bWU9aGV4IHN1Ym1lPTcgcHN5PTEgcHN5X3JkPTEuMDA6MC4wMCBtaXhlZF9yZWY9MSBtZV9yYW5n\n",
              "ZT0xNiBjaHJvbWFfbWU9MSB0cmVsbGlzPTEgOHg4ZGN0PTEgY3FtPTAgZGVhZHpvbmU9MjEsMTEg\n",
              "ZmFzdF9wc2tpcD0xIGNocm9tYV9xcF9vZmZzZXQ9LTIgdGhyZWFkcz0xMiBsb29rYWhlYWRfdGhy\n",
              "ZWFkcz0yIHNsaWNlZF90aHJlYWRzPTAgbnI9MCBkZWNpbWF0ZT0xIGludGVybGFjZWQ9MCBibHVy\n",
              "YXlfY29tcGF0PTAgY29uc3RyYWluZWRfaW50cmE9MCBiZnJhbWVzPTMgYl9weXJhbWlkPTIgYl9h\n",
              "ZGFwdD0xIGJfYmlhcz0wIGRpcmVjdD0xIHdlaWdodGI9MSBvcGVuX2dvcD0wIHdlaWdodHA9MiBr\n",
              "ZXlpbnQ9MjUwIGtleWludF9taW49MjUgc2NlbmVjdXQ9NDAgaW50cmFfcmVmcmVzaD0wIHJjX2xv\n",
              "b2thaGVhZD00MCByYz1jcmYgbWJ0cmVlPTEgY3JmPTIzLjAgcWNvbXA9MC42MCBxcG1pbj0wIHFw\n",
              "bWF4PTY5IHFwc3RlcD00IGlwX3JhdGlvPTEuNDAgYXE9MToxLjAwAIAAAAxnZYiEACf//vWxfApq\n",
              "yfOKDOgyLuGXJMmutiLibQDAAAADAAADAAAw+6vOWMqWU/YAAAMAQYARLUcH34OABtAAiQ9wou7R\n",
              "tXstFrMMOMoWcRCtCquWD6ebJrppPWgDxmc2fTfjz6vnHWpX9RkQTUr3qYU1cCatsL4GgcTTNSJQ\n",
              "a/5bUW2WkzsBY56YVxNZQyAwCcG+Q8YoU7hnh44zYlk159v0XFSfGnuKqRhOzWkwTFbPqEuve+KN\n",
              "tJuZa1qPMW1TOTB6UG94gHRvUBMmnJhfydcc3jXwAN19JGCrVu/l0QxkLX+zAAADAAc7f8VloYCs\n",
              "mQvVua+BRUga3qVdbegiAHL+CLAlVXezz0GkPLAlMK9gT73XkaOlvigzL7b0UvBHHffRJCglVrwZ\n",
              "GxTfWzM8Hebtc0wU7RPr4JZVHJl0Yp+r+7o0LSGR/YAAABk9C4XGoS3Rc6CPrHr6cDu6Pk2QTebc\n",
              "XTg1ats8gEnBeJGdcG+xx/ztKbVBmQ5sMr8xQL+zEVn8T4/DkQRLn44hDcQCDcbufDR32xfkBQUf\n",
              "jse791tMICCMeAMaBUQ6yd666gX450LjUpkhXClSCfXdQiOyMJU24yI7/sx4nndM/Q/C4Dp74Brs\n",
              "Wf5/fOzZSL5f544HRq4aP/H50f8qiESJd4+G5RdJJeyZclracPI+/pfFxkNGA85y+wgPMA6O4m6v\n",
              "mTgWLi6DbYUcu3cryU1JNGqM71o+oJh+fBK55i15LnTBmyPq9M5bOgLLXTjityzP/wfxqXzxqzN8\n",
              "B/RwY77D403gx1z05bFrjjPGvuua8zd+elMul11zL/aZCxLKLM9+Y6ERrH+UN2EieQM2stQrIAGp\n",
              "7/LFz+/JwfbN9QtCfzvGBpVrF3Omu8vSz7eU7SPw6BNyy1CN6ICocW+XyHAinuwXVdc2kNbi8fA3\n",
              "bQAWkotxYYgTOn+cyx0xHzQj9nB6whXmBTq/s+tKDzkCWBjTYLYsG6YUTFsJldU9TOqu3bUh8Dxa\n",
              "qc0mml20rqELQfBymk5S98etBQG19ERERsxFJz7mQJx8lPH/zqlrW8eDZIenwYAOXzJv/jwonDr7\n",
              "aI9BFQed6wjUJhalH9+NQkNyxho8mp85+tM773IP1VLc+Rk3Rp+UpWab+5c/5bcGBLA9gf6jhAV+\n",
              "StQqrQAJpOCUlpSkRocbpKxffkfxJiLZQ2JJIlU1+jYKgLnYnB+C8w6SgpN+6STemk3y/L6/dyaR\n",
              "ULqYw5/9zWZnRN8bQcfyK1saETXU9BeiLpjWmix9W/ZTX7GntzTTfVAdpwCHFhLNpqRUWrq4sMtJ\n",
              "MqUf5Xf58HSh/9+evxSbGzmxAd4G1AOeHPHmnd/lnQMLlk/Ck+IFfp/79AI119u8aEcIkOUZu0WN\n",
              "58XCxyKdHMnmd8c+QEzHAOQi47M7heZmT4Y9UfyRXu5NSAtAN3w4CNnqDsP8YI8BDoZelHey+O6k\n",
              "/kV0/0UdA7LWPBlvzQ4p7DAx7aUayytO2Von9aMlY8kojJKmX6rCfXCarxbSomXMpKDFHIYFKJ4y\n",
              "eCwnewW2xwAQRLJXyac8Vi+3192UxNyUH2g1tVzzYzN1ncOj5olAJ7Sq7P0Ds5SrDLujGHiWybcW\n",
              "Nb/PFnaXhSDYe9M5ggt4/1V84A3VXr4mARshbP615b532ng2TJlzH/ERiO9oDOTHMz4mitIaMlVC\n",
              "6vot1P53j/M6i66DWmYrgXo3pZt41SSJUijLREQxmEi7dfNdgioJXErvsYFV1wue6cNZ+E7tLgTV\n",
              "QXpmOd3+OBsOq2sPm/HtZiQxzEWa3dAL5sb69qhrGXZ8e/LdaEZB/Qg6Mvx3ShU5oom7NNbL4hS5\n",
              "Y/t86ssX3w6C4NaNiBebJjlTAQb1mSiEMJElgd8BgD5GoAD07ba3tarRAhrMnhX/Km/1i82xt6n3\n",
              "iJYGX/i8tXcG7vV0fEWKWpp1DZR/2XtWl97btBjfhCOrMwIgQolhCyOhNq86Sk06z1zlL/r4uc7U\n",
              "lwboky2rHsvgCpJ6PIj5RLfAhcsvrWn9kx29Z+RwQy4yCsCZCfY4p1Ee9mUArBPnktU3k3nuvtcA\n",
              "ApFzYBZocm/9m+x6T+HQP56GDjC1OOe2SduaX6nwZqU6pyQl7NLBvmTR6ep9pFEgL/pap/bf5LJ1\n",
              "SECdR6O7chiQKxs3bosWLGh86tvdfAez2QSuw83JxFTKhjmE6lVWRjGsYOaOIaM9m78ljuXGZNSK\n",
              "0MdXF3OJahiymPi5+eupKYRBMj63WX+RIJnmajICX5TWWY4YQv60f7cVI7lkpP1i06tM5Jjex8sS\n",
              "I1Qr2dx9tAWIzhiJ9MEEJne8daZ+n9AVlegn2y7+ThVOy2lqmQChhczJAATmixTKkK32Avp33gXL\n",
              "UNzOW54iZ2OfOI5QFmbtCzLyK+tiYLefCCEvV7vUTHW66c5sswcId05lzzuEf/PP8bvh8Dgm2HxT\n",
              "0+5Z5OUE2CZaC1vt/SNjIUg+o1m9xGnDOGg0RL4amcDVnmLIcjOM91aQLn4pZhkKIIKFaUC5LeKH\n",
              "wpspcS+jmTt5MrbG/+Ied8oKYYHUFGIkLHOR51zKGqvNptNLTs+90/2N/rD2YFJMBvQwbB9KLDOM\n",
              "KOD5b7tTsISCxUUAs9jLGO2WgaU+6csN+UuRg67B89c60hK/UWNiNPIWFHwij5w2SeaiKABIsUhi\n",
              "XjMSiwExdp9/yZ4kyYavxGDmUxVNFcnruS6g8AD+55/qPWdiZPQ80WyKz3wH113ewLKjJsxgFlo5\n",
              "pSHSPXAln1wtZy8arwD05yQEJNY8aNq3Z3ltaSjO/bfgPLVcdVMYZso0FIW8DxT274WmvVAeFfur\n",
              "gqPqtyIny7QgaGlxn83xYJ/vkX1qQ/Y+vjANzS6DVKZ+1Xi2h3AAVCqE4PB0nMAbAasxcsejbAvR\n",
              "SzLSYWSyYSrGBE98AJEL+NGUmWBL1Ipb7nMNbG2bDWSkE1H9OVSmm/gZjd8ETv9f+m0KgTpkswHy\n",
              "7K0HKJu7RELGOj224+f6jSWGqgLKtDghf5lOnf/RSOHNidA8DuYqNF5XNj0dJns/Gwe2ctfp/mlX\n",
              "IkHqaGpkYWPQIRbb4PJmFyBSp+Kf1LpMIkrBnqzTRb0i4Nt20UKmQg125rWHcoidKMsAePkEF8k7\n",
              "u8XXsiS16kbxTaf/HJiKUjrRz6D81cCP0lSc3MJPgCZfQZZQ1DmFJz/8ECYIYHlQmxGOqjED0Uk1\n",
              "37z2Ce8y5qhLRdC45G5FvACP001yjioZXDKnxYyIev51NX5XuBo5nTv8llP66aveeVl2ic5V2Hf1\n",
              "8HVEjgXqKeGlnNAI4x7Hwz1Rv1Bw4bQlr1JK3M/RWaZB9lNRt7bdl1oSrdlUSgiBAnG32JlGZrHd\n",
              "n0RGxpV1c39x2E5uAintE2hrgHXKFyi2YApGmI7hl22LJT6yl7r9BfTfvM0sXgMPfj1viPdngzKF\n",
              "JGsJ8AgPvSugYgHKB5fQ0lpX7JyZ55gb1S109nChfqI+YW/h3HLGivZsKg6/t4LmByo5u/S0LJ33\n",
              "2bj8QK4skwbV/wExP///+35HHtIng4vmgVpp+ab0mwP5On0A8I3xYXVc8MDCcvEuAfz9b5X9n1Ir\n",
              "TuSax1ho8JJkK3ktCWzsArhXZkhKGI/D3X86UliNKdXcKL+8h/8mF551xm0sI2Uy86KxnLQNzCd0\n",
              "RN/AZODc/8oFRIb/NDY5tdlIq9/8NLO0Sd67UmTek9Lp5oCd0i+sYiJ7LtXQ1IREHHJ0KKaTfJ4n\n",
              "yep/Qk3tdQYhxyx5bpTf+Vdk+iqebjFwFHOucO+y4RVQZ7WiySNddbO6ZihXfDl87jAUTf3lPh7G\n",
              "lBGY8xIdRF9/VcNAhP6+6MxybPV1jNt9V1OKhM5q5xsOQyaBje/4GeUK76BUjUxW0PZwW09mwpZp\n",
              "SS5s7z5VOvbFqLVzZ2Xok8mazkvGeyYODVhHbXAHvCDWVyB6AQeCdVhqVJbBWOJ4t32I2IvT5utE\n",
              "cwG1vehWblPaA5c8/ZGVXELfN6p/yrEHOwH6WgWkxNgG0a5trSst3R2UNkBmwPmPSJwnS18oSbHq\n",
              "s8jD6nlE2CZHQzmQ2mjmkjnrDdfKpvRXKfAU8rR/pmsdSsCW9fWC61domdrn84F+rLATTy5cxPFM\n",
              "Duf9/9N6WdmFlffULFKno0N7AgZsiuClEcqKSR1PqDZ9WS092j7A6oWa78SshzAZK9ArUgBdMiXi\n",
              "Z3RMC3vIavK/qAC5pOf4MAygfMGDtNYAAAMBrQAAAENBmiRsQn/98QAAAwFHJ+xTdPI+Z4RT0jMP\n",
              "uMwgEjSbXjcuF2acTCnjAGQipVU4XcKikyw+1eJ8Od0vK0dJj/UJYODgAAAAH0GeQniN/wAAFiMD\n",
              "kVrwGG9q9xcHl2Z05O6RzDmAzYEAAAAYAZ5hdEX/AAAbl6VltxWABkLYjUtZvi8wAAAAEwGeY2pF\n",
              "/wAAAwF0Hs8ADFqxQ8EAAAAnQZpoSahBaJlMCE///fEAAAMAAAMAAOzdMz/8A2R9Cfe5yrMkrguB\n",
              "AAAAHEGehkURLG8AAAMAAAMAD9zpDuNjDJpNBWMqU5EAAAAbAZ6ldEX/AAADAAADABR3Iacx6BX3\n",
              "aHE0PsKBAAAAGAGep2pF/wAAAwAAAwAUchMEnELZdZrLYAAAABhBmqxJqEFsmUwIT//98QAAAwAA\n",
              "AwAADPgAAAAVQZ7KRRUsbwAAAwAAAwAKQVU9vrJpAAAADwGe6XRF/wAAAwAAAwABFwAAAA8Bnutq\n",
              "Rf8AAAMAAAMAARcAAAAYQZrwSahBbJlMCE///fEAAAMAAAMAAAz5AAAAFUGfDkUVLG8AAAMAAAMA\n",
              "CkFVPb6yaQAAAA8Bny10Rf8AAAMAAAMAARcAAAAPAZ8vakX/AAADAAADAAEXAAAAGEGbNEmoQWyZ\n",
              "TAhP//3xAAADAAADAAAM+AAAABVBn1JFFSxvAAADAAADAApBVT2+smkAAAAPAZ9xdEX/AAADAAAD\n",
              "AAEXAAAADwGfc2pF/wAAAwAAAwABFwAAABhBm3hJqEFsmUwIT//98QAAAwAAAwAADPkAAAAVQZ+W\n",
              "RRUsbwAAAwAAAwAKQVU9vrJoAAAADwGftXRF/wAAAwAAAwABFwAAAA8Bn7dqRf8AAAMAAAMAARcA\n",
              "AAAYQZu8SahBbJlMCE///fEAAAMAAAMAAAz4AAAAFUGf2kUVLG8AAAMAAAMACkFVPb6yaQAAAA8B\n",
              "n/l0Rf8AAAMAAAMAARcAAAAPAZ/7akX/AAADAAADAAEXAAAAGEGb4EmoQWyZTAhP//3xAAADAAAD\n",
              "AAAM+QAAABVBnh5FFSxvAAADAAADAApBVT2+smgAAAAPAZ49dEX/AAADAAADAAEXAAAADwGeP2pF\n",
              "/wAAAwAAAwABFwAAABhBmiRJqEFsmUwIT//98QAAAwAAAwAADPgAAAAVQZ5CRRUsbwAAAwAAAwAK\n",
              "QVU9vrJpAAAADwGeYXRF/wAAAwAAAwABFwAAAA8BnmNqRf8AAAMAAAMAARcAAAAYQZpoSahBbJlM\n",
              "CE///fEAAAMAAAMAAAz5AAAAFUGehkUVLG8AAAMAAAMACkFVPb6yaQAAAA8BnqV0Rf8AAAMAAAMA\n",
              "ARcAAAAPAZ6nakX/AAADAAADAAEXAAAAGEGarEmoQWyZTAhP//3xAAADAAADAAAM+AAAABVBnspF\n",
              "FSxvAAADAAADAApBVT2+smkAAAAPAZ7pdEX/AAADAAADAAEXAAAADwGe62pF/wAAAwAAAwABFwAA\n",
              "ABhBmvBJqEFsmUwIT//98QAAAwAAAwAADPkAAAAVQZ8ORRUsbwAAAwAAAwAKQVU9vrJpAAAADwGf\n",
              "LXRF/wAAAwAAAwABFwAAAA8Bny9qRf8AAAMAAAMAARcAAAAYQZs0SahBbJlMCE///fEAAAMAAAMA\n",
              "AAz4AAAAFUGfUkUVLG8AAAMAAAMACkFVPb6yaQAAAA8Bn3F0Rf8AAAMAAAMAARcAAAAPAZ9zakX/\n",
              "AAADAAADAAEXAAAAGEGbeEmoQWyZTAhP//3xAAADAAADAAAM+QAAABVBn5ZFFSxvAAADAAADAApB\n",
              "VT2+smgAAAAPAZ+1dEX/AAADAAADAAEXAAAADwGft2pF/wAAAwAAAwABFwAAABhBm7xJqEFsmUwI\n",
              "T//98QAAAwAAAwAADPgAAAAVQZ/aRRUsbwAAAwAAAwAKQVU9vrJpAAAADwGf+XRF/wAAAwAAAwAB\n",
              "FwAAAA8Bn/tqRf8AAAMAAAMAARcAAAAYQZvgSahBbJlMCE///fEAAAMAAAMAAAz5AAAAFUGeHkUV\n",
              "LG8AAAMAAAMACkFVPb6yaAAAAA8Bnj10Rf8AAAMAAAMAARcAAAAPAZ4/akX/AAADAAADAAEXAAAA\n",
              "GEGaJEmoQWyZTAhP//3xAAADAAADAAAM+AAAABVBnkJFFSxvAAADAAADAApBVT2+smkAAAAPAZ5h\n",
              "dEX/AAADAAADAAEXAAAADwGeY2pF/wAAAwAAAwABFwAAABhBmmhJqEFsmUwIT//98QAAAwAAAwAA\n",
              "DPkAAAAVQZ6GRRUsbwAAAwAAAwAKQVU9vrJpAAAADwGepXRF/wAAAwAAAwABFwAAAA8BnqdqRf8A\n",
              "AAMAAAMAARcAAAAYQZqsSahBbJlMCE///fEAAAMAAAMAAAz4AAAAFUGeykUVLG8AAAMAAAMACkFV\n",
              "Pb6yaQAAAA8Bnul0Rf8AAAMAAAMAARcAAAAPAZ7rakX/AAADAAADAAEXAAAAGEGa8EmoQWyZTAhP\n",
              "//3xAAADAAADAAAM+QAAABVBnw5FFSxvAAADAAADAApBVT2+smkAAAAPAZ8tdEX/AAADAAADAAEX\n",
              "AAAADwGfL2pF/wAAAwAAAwABFwAAABhBmzRJqEFsmUwIT//98QAAAwAAAwAADPgAAAAVQZ9SRRUs\n",
              "bwAAAwAAAwAKQVU9vrJpAAAADwGfcXRF/wAAAwAAAwABFwAAAA8Bn3NqRf8AAAMAAAMAARcAAAAY\n",
              "QZt4SahBbJlMCE///fEAAAMAAAMAAAz5AAAAFUGflkUVLG8AAAMAAAMACkFVPb6yaAAAAA8Bn7V0\n",
              "Rf8AAAMAAAMAARcAAAAPAZ+3akX/AAADAAADAAEXAAAAGEGbvEmoQWyZTAhH//3hAAADAAADAAAU\n",
              "kAAAABVBn9pFFSxvAAADAAADAApBVT2+smkAAAAPAZ/5dEX/AAADAAADAAEXAAAADwGf+2pF/wAA\n",
              "AwAAAwABFwAAABdBm+BJqEFsmUwI//yEAAADAAADAABQQQAAABVBnh5FFSxvAAADAAADAApBVT2+\n",
              "smgAAAAPAZ49dEX/AAADAAADAAEXAAAADwGeP2pF/wAAAwAAAwABFwAAABdBmiNJqEFsmUwIv/pY\n",
              "AAADAAADAACdgAAAABVBnkFFFSxfAAADAAADAAzonfut8qEAAAAPAZ5iakX/AAADAAADAAEXAAAH\n",
              "2m1vb3YAAABsbXZoZAAAAAAAAAAAAAAAAAAAA+gAAAPoAAEAAAEAAAAAAAAAAAAAAAABAAAAAAAA\n",
              "AAAAAAAAAAAAAQAAAAAAAAAAAAAAAAAAQAAAAAAAAAAAAAAAAAAAAAAAAAAAAAAAAAAAAAAAAAIA\n",
              "AAcEdHJhawAAAFx0a2hkAAAAAwAAAAAAAAAAAAAAAQAAAAAAAAPoAAAAAAAAAAAAAAAAAAAAAAAB\n",
              "AAAAAAAAAAAAAAAAAAAAAQAAAAAAAAAAAAAAAAAAQAAAAAKAAAAB4AAAAAAAJGVkdHMAAAAcZWxz\n",
              "dAAAAAAAAAABAAAD6AAAAQAAAQAAAAAGfG1kaWEAAAAgbWRoZAAAAAAAAAAAAAAAAAAAMgAAADIA\n",
              "VcQAAAAAAC1oZGxyAAAAAAAAAAB2aWRlAAAAAAAAAAAAAAAAVmlkZW9IYW5kbGVyAAAABidtaW5m\n",
              "AAAAFHZtaGQAAAABAAAAAAAAAAAAAAAkZGluZgAAABxkcmVmAAAAAAAAAAEAAAAMdXJsIAAAAAEA\n",
              "AAXnc3RibAAAALdzdHNkAAAAAAAAAAEAAACnYXZjMQAAAAAAAAABAAAAAAAAAAAAAAAAAAAAAAKA\n",
              "AeAASAAAAEgAAAAAAAAAAQAAAAAAAAAAAAAAAAAAAAAAAAAAAAAAAAAAAAAAAAAAABj//wAAADVh\n",
              "dmNDAWQAIP/hABhnZAAgrNlAoD2hAAADAAEAAAMAyA8YMZYBAAZo6+PLIsD9+PgAAAAAHHV1aWRr\n",
              "aEDyXyRPxbo5pRvPAyPzAAAAAAAAABhzdHRzAAAAAAAAAAEAAABkAAAAgAAAABRzdHNzAAAAAAAA\n",
              "AAEAAAABAAADKGN0dHMAAAAAAAAAYwAAAAEAAAEAAAAAAQAAAoAAAAABAAABAAAAAAEAAAAAAAAA\n",
              "AQAAAIAAAAABAAACgAAAAAEAAAEAAAAAAQAAAAAAAAABAAAAgAAAAAEAAAKAAAAAAQAAAQAAAAAB\n",
              "AAAAAAAAAAEAAACAAAAAAQAAAoAAAAABAAABAAAAAAEAAAAAAAAAAQAAAIAAAAABAAACgAAAAAEA\n",
              "AAEAAAAAAQAAAAAAAAABAAAAgAAAAAEAAAKAAAAAAQAAAQAAAAABAAAAAAAAAAEAAACAAAAAAQAA\n",
              "AoAAAAABAAABAAAAAAEAAAAAAAAAAQAAAIAAAAABAAACgAAAAAEAAAEAAAAAAQAAAAAAAAABAAAA\n",
              "gAAAAAEAAAKAAAAAAQAAAQAAAAABAAAAAAAAAAEAAACAAAAAAQAAAoAAAAABAAABAAAAAAEAAAAA\n",
              "AAAAAQAAAIAAAAABAAACgAAAAAEAAAEAAAAAAQAAAAAAAAABAAAAgAAAAAEAAAKAAAAAAQAAAQAA\n",
              "AAABAAAAAAAAAAEAAACAAAAAAQAAAoAAAAABAAABAAAAAAEAAAAAAAAAAQAAAIAAAAABAAACgAAA\n",
              "AAEAAAEAAAAAAQAAAAAAAAABAAAAgAAAAAEAAAKAAAAAAQAAAQAAAAABAAAAAAAAAAEAAACAAAAA\n",
              "AQAAAoAAAAABAAABAAAAAAEAAAAAAAAAAQAAAIAAAAABAAACgAAAAAEAAAEAAAAAAQAAAAAAAAAB\n",
              "AAAAgAAAAAEAAAKAAAAAAQAAAQAAAAABAAAAAAAAAAEAAACAAAAAAQAAAoAAAAABAAABAAAAAAEA\n",
              "AAAAAAAAAQAAAIAAAAABAAACgAAAAAEAAAEAAAAAAQAAAAAAAAABAAAAgAAAAAEAAAKAAAAAAQAA\n",
              "AQAAAAABAAAAAAAAAAEAAACAAAAAAQAAAoAAAAABAAABAAAAAAEAAAAAAAAAAQAAAIAAAAABAAAC\n",
              "gAAAAAEAAAEAAAAAAQAAAAAAAAABAAAAgAAAAAEAAAKAAAAAAQAAAQAAAAABAAAAAAAAAAEAAACA\n",
              "AAAAAQAAAgAAAAACAAAAgAAAABxzdHNjAAAAAAAAAAEAAAABAAAAZAAAAAEAAAGkc3RzegAAAAAA\n",
              "AAAAAAAAZAAADxAAAABHAAAAIwAAABwAAAAXAAAAKwAAACAAAAAfAAAAHAAAABwAAAAZAAAAEwAA\n",
              "ABMAAAAcAAAAGQAAABMAAAATAAAAHAAAABkAAAATAAAAEwAAABwAAAAZAAAAEwAAABMAAAAcAAAA\n",
              "GQAAABMAAAATAAAAHAAAABkAAAATAAAAEwAAABwAAAAZAAAAEwAAABMAAAAcAAAAGQAAABMAAAAT\n",
              "AAAAHAAAABkAAAATAAAAEwAAABwAAAAZAAAAEwAAABMAAAAcAAAAGQAAABMAAAATAAAAHAAAABkA\n",
              "AAATAAAAEwAAABwAAAAZAAAAEwAAABMAAAAcAAAAGQAAABMAAAATAAAAHAAAABkAAAATAAAAEwAA\n",
              "ABwAAAAZAAAAEwAAABMAAAAcAAAAGQAAABMAAAATAAAAHAAAABkAAAATAAAAEwAAABwAAAAZAAAA\n",
              "EwAAABMAAAAcAAAAGQAAABMAAAATAAAAHAAAABkAAAATAAAAEwAAABsAAAAZAAAAEwAAABMAAAAb\n",
              "AAAAGQAAABMAAAAUc3RjbwAAAAAAAAABAAAAMAAAAGJ1ZHRhAAAAWm1ldGEAAAAAAAAAIWhkbHIA\n",
              "AAAAAAAAAG1kaXJhcHBsAAAAAAAAAAAAAAAALWlsc3QAAAAlqXRvbwAAAB1kYXRhAAAAAQAAAABM\n",
              "YXZmNTguNDUuMTAw\n",
              "\">\n",
              "  Your browser does not support the video tag.\n",
              "</video>"
            ],
            "text/plain": [
              "<IPython.core.display.HTML object>"
            ]
          },
          "metadata": {},
          "output_type": "display_data"
        },
        {
          "data": {
            "image/png": "[encoded data removed]",
            "text/plain": [
              "<Figure size 640x480 with 1 Axes>"
            ]
          },
          "metadata": {},
          "output_type": "display_data"
        }
      ],
      "source": [
        "plot(linear, duration, size)"
      ]
    },
    {
      "attachments": {},
      "cell_type": "markdown",
      "metadata": {},
      "source": [
        "# Equilíbrio Estático: 2ª Lei de Newton"
      ]
    },
    {
      "cell_type": "code",
      "execution_count": 68,
      "metadata": {},
      "outputs": [],
      "source": [
        "# Força de reação na Junta J1\n",
        "H_1, V_1 = sp.symbols(\"H_1 V_1\")\n",
        "\n",
        "# Força de reação na Junta J2\n",
        "H_2, V_2 = sp.symbols(\"H_2 V_2\")\n",
        "\n",
        "# Força de reação na Junta J3\n",
        "H_3, V_3 = sp.symbols(\"H_3 V_3\")"
      ]
    },
    {
      "cell_type": "code",
      "execution_count": 69,
      "metadata": {},
      "outputs": [],
      "source": [
        "# Forças e momentos resultantes no 1º elo\n",
        "R1_x = H_1 + H_2\n",
        "R1_y = V_1 + V_2 - m_1 * g\n",
        "M1_J1 = tau \\\n",
        "    - m_1 * g * (x_J2 / 2) \\\n",
        "    - H_2 * y_J2 \\\n",
        "    + V_2 * x_J2 \\\n",
        "    - k * (theta_1 - y0[0])"
      ]
    },
    {
      "cell_type": "code",
      "execution_count": 70,
      "metadata": {},
      "outputs": [],
      "source": [
        "# Forças e momentos resultantes no 2º elo\n",
        "R2_x = H_3 - H_2 + F1_x\n",
        "R2_y = V_3 - V_2 + F1_y - m_2 * g \n",
        "M2_J2 = - H_3 * y_J3 + V_3 * x_J3 \\\n",
        "    - m_2 * g * (x_J3 / 2) \\\n",
        "    - F1_x * P_1[1] + F1_y * P_1[0] \\\n",
        "    - k * (theta_2 - y0[1])"
      ]
    },
    {
      "cell_type": "code",
      "execution_count": 71,
      "metadata": {},
      "outputs": [],
      "source": [
        "# Forças e momentos resultantes no 3º elo\n",
        "R3_x = -H_3 + F2_x\n",
        "R3_y = -V_3 + F2_y - m_3 * g - M * g\n",
        "M3_J3 = - m_3 * g * (x_P / 2) \\\n",
        "    - M * g * x_P \\\n",
        "    - F2_x * P_2[1] + F2_y * P_2[0] \\\n",
        "    - k * (theta_3 - y0[2])"
      ]
    },
    {
      "cell_type": "code",
      "execution_count": 72,
      "metadata": {},
      "outputs": [
        {
          "data": {
            "text/plain": [
              "{M: 1250,\n",
              " L_1: 2.15,\n",
              " L_2: 3.75,\n",
              " L_3: 2.135,\n",
              " d_1: 0.5,\n",
              " d_2: 0.5,\n",
              " g: 9.807,\n",
              " M_c: 20.66,\n",
              " A_c: 1.964,\n",
              " k: 10000.0,\n",
              " c: 32,\n",
              " m_1: 334.474175482265,\n",
              " m_2: 583.3851897946483,\n",
              " m_3: 332.14063472308646,\n",
              " theta_1(t): 1.5707963267948966,\n",
              " theta_2(t): 2.356194490192345,\n",
              " theta_3(t): 1.5707963267948966}"
            ]
          },
          "execution_count": 72,
          "metadata": {},
          "output_type": "execute_result"
        }
      ],
      "source": [
        "substitute"
      ]
    },
    {
      "cell_type": "code",
      "execution_count": 73,
      "metadata": {},
      "outputs": [],
      "source": [
        "substitute[k] = 0\n",
        "R1_x = R1_x.subs(gamma_alias).subs(substitute)\n",
        "R1_y = R1_y.subs(gamma_alias).subs(substitute)\n",
        "M1_J1 = M1_J1.subs(gamma_alias).subs(substitute)\n",
        "R2_x = R2_x.subs(gamma_alias).subs(substitute)\n",
        "R2_y = R2_y.subs(gamma_alias).subs(substitute)\n",
        "M2_J2 = M2_J2.subs(gamma_alias).subs(substitute)\n",
        "R3_x = R3_x.subs(gamma_alias).subs(substitute)\n",
        "R3_y = R3_y.subs(gamma_alias).subs(substitute)\n",
        "M3_J3 = M3_J3.subs(gamma_alias).subs(substitute)"
      ]
    },
    {
      "cell_type": "code",
      "execution_count": 74,
      "metadata": {},
      "outputs": [
        {
          "data": {
            "text/latex": [
              "$\\displaystyle H_{1} + H_{2}$"
            ],
            "text/plain": [
              "H_1 + H_2"
            ]
          },
          "metadata": {},
          "output_type": "display_data"
        },
        {
          "data": {
            "text/latex": [
              "$\\displaystyle V_{1} + V_{2} - 3280.18823895457$"
            ],
            "text/plain": [
              "V_1 + V_2 - 3280.18823895457"
            ]
          },
          "metadata": {},
          "output_type": "display_data"
        },
        {
          "data": {
            "text/latex": [
              "$\\displaystyle - 2.15 H_{2} + 1.3164953090834 \\cdot 10^{-16} V_{2} + \\tau - 2.15917621474712 \\cdot 10^{-13}$"
            ],
            "text/plain": [
              "-2.15*H_2 + 1.3164953090834e-16*V_2 + tau - 2.15917621474712e-13"
            ]
          },
          "metadata": {},
          "output_type": "display_data"
        }
      ],
      "source": [
        "pprint(R1_x)\n",
        "pprint(R1_y)\n",
        "pprint(M1_J1)"
      ]
    },
    {
      "cell_type": "code",
      "execution_count": 75,
      "metadata": {},
      "outputs": [
        {
          "data": {
            "text/latex": [
              "$\\displaystyle - H_{2} + H_{3} + 1.2026031567627 \\cdot 10^{-16} p_{1} - 1.24064448274929 \\cdot 10^{-14}$"
            ],
            "text/plain": [
              "-H_2 + H_3 + 1.2026031567627e-16*p_1 - 1.24064448274929e-14"
            ]
          },
          "metadata": {},
          "output_type": "display_data"
        },
        {
          "data": {
            "text/latex": [
              "$\\displaystyle - V_{2} + V_{3} + 1.964 p_{1} - 5923.87117631612$"
            ],
            "text/plain": [
              "-V_2 + V_3 + 1.964*p_1 - 5923.87117631612"
            ]
          },
          "metadata": {},
          "output_type": "display_data"
        },
        {
          "data": {
            "text/latex": [
              "$\\displaystyle - 2.65165042944955 H_{3} + 2.65165042944955 V_{3} + 0.69437885912519 p_{1} - 7657.02323270177$"
            ],
            "text/plain": [
              "-2.65165042944955*H_3 + 2.65165042944955*V_3 + 0.69437885912519*p_1 - 7657.02323270177"
            ]
          },
          "metadata": {},
          "output_type": "display_data"
        }
      ],
      "source": [
        "pprint(R2_x)\n",
        "pprint(R2_y)\n",
        "pprint(M2_J2)"
      ]
    },
    {
      "cell_type": "code",
      "execution_count": 76,
      "metadata": {},
      "outputs": [
        {
          "data": {
            "text/latex": [
              "$\\displaystyle - H_{3} + 1.38875771825038 p_{2} - 101.30631$"
            ],
            "text/plain": [
              "-H_3 + 1.38875771825038*p_2 - 101.30631"
            ]
          },
          "metadata": {},
          "output_type": "display_data"
        },
        {
          "data": {
            "text/latex": [
              "$\\displaystyle - V_{3} + 1.38875771825038 p_{2} - 15617.3595147293$"
            ],
            "text/plain": [
              "-V_3 + 1.38875771825038*p_2 - 15617.3595147293"
            ]
          },
          "metadata": {},
          "output_type": "display_data"
        },
        {
          "data": {
            "text/latex": [
              "$\\displaystyle 0.982 p_{2} - 21037.0693101865$"
            ],
            "text/plain": [
              "0.982*p_2 - 21037.0693101865"
            ]
          },
          "metadata": {},
          "output_type": "display_data"
        }
      ],
      "source": [
        "pprint(R3_x)\n",
        "pprint(R3_y)\n",
        "pprint(M3_J3)"
      ]
    },
    {
      "cell_type": "code",
      "execution_count": 77,
      "metadata": {},
      "outputs": [],
      "source": [
        "res = sp.solve(\n",
        "    [R1_x, R1_y, M1_J1, R2_x, R2_y, M2_J2, R3_x, R3_y, M3_J3],\n",
        "    [H_1, V_1, H_2, V_2, H_3, V_3, p_1, p_2, tau],)"
      ]
    },
    {
      "cell_type": "code",
      "execution_count": 78,
      "metadata": {},
      "outputs": [
        {
          "data": {
            "text/plain": [
              "{H_1: -29649.6024210486,\n",
              " V_1: -142957.221042704,\n",
              " H_2: 29649.6024210486,\n",
              " V_2: 146237.409281658,\n",
              " H_3: 29649.6024210486,\n",
              " V_3: 14133.5492163193,\n",
              " p_1: 70278.8855609241,\n",
              " p_2: 21422.6775052816,\n",
              " tau: 63746.6452052544}"
            ]
          },
          "execution_count": 78,
          "metadata": {},
          "output_type": "execute_result"
        }
      ],
      "source": [
        "res"
      ]
    }
  ],
  "metadata": {
    "colab": {
      "collapsed_sections": [
        "WAdvNX7RW7HP",
        "2-FV6Bm_t_Cf",
        "UVSv68QYwPV1",
        "_DCvhv8qONqu",
        "Jv386Pz3b4yr",
        "UIjmnCzTgRfw",
        "5UBVJpI766BH",
        "-KtJZUdD7sfA",
        "K3xMzUQqhLHY",
        "yTjPxQI7Ovmx",
        "2zgPLZHOLdzF",
        "K7OcZBzqO3XS"
      ],
      "provenance": []
    },
    "kernelspec": {
      "display_name": "Python 3",
      "name": "python3"
    },
    "language_info": {
      "codemirror_mode": {
        "name": "ipython",
        "version": 3
      },
      "file_extension": ".py",
      "mimetype": "text/x-python",
      "name": "python",
      "nbconvert_exporter": "python",
      "pygments_lexer": "ipython3",
      "version": "3.10.9"
    }
  },
  "nbformat": 4,
  "nbformat_minor": 0
}
