{
  "cells": [
    {
      "attachments": {},
      "cell_type": "markdown",
      "metadata": {
        "id": "LcaSpEvXiOkE"
      },
      "source": [
        "# Guindaste Hidráulico Florestal\n"
      ]
    },
    {
      "cell_type": "code",
      "execution_count": 370,
      "metadata": {
        "id": "Q5rIfBKlhfix"
      },
      "outputs": [],
      "source": [
        "# Matemática simbólica, soluções analíticas:\n",
        "import sympy as sp\n",
        "\n",
        "# Operações com matrizes e vetores:\n",
        "import numpy as np\n",
        "\n",
        "# Gráficos e animações:\n",
        "import matplotlib.pyplot as plt\n",
        "from matplotlib.animation import FuncAnimation\n",
        "\n",
        "# Integração numérica:\n",
        "from scipy.integrate import solve_ivp, odeint\n",
        "\n",
        "# Outros:\n",
        "from IPython.display import display, HTML"
      ]
    },
    {
      "attachments": {},
      "cell_type": "markdown",
      "metadata": {
        "id": "WAdvNX7RW7HP"
      },
      "source": [
        "# Funções Auxiliares"
      ]
    },
    {
      "attachments": {},
      "cell_type": "markdown",
      "metadata": {},
      "source": [
        "## Polinômio de Taylor de 1ª ordem"
      ]
    },
    {
      "cell_type": "code",
      "execution_count": 371,
      "metadata": {},
      "outputs": [],
      "source": [
        "def taylor_linear(f, x, y, z, x0, y0, z0):\n",
        "  alias = { x: x0, y: y0, z: z0 }\n",
        "  dx = x - x0\n",
        "  dy = y - y0\n",
        "  dz = z - z0\n",
        "  f_x = sp.diff(f, x)\n",
        "  f_y = sp.diff(f, y)\n",
        "  f_z = sp.diff(f, z)\n",
        "  polynomial = f.subs(alias) + dx * f_x.subs(alias) + dy * f_y.subs(alias) + dz * f_z.subs(alias)\n",
        "  return polynomial"
      ]
    },
    {
      "attachments": {},
      "cell_type": "markdown",
      "metadata": {
        "id": "2-FV6Bm_t_Cf"
      },
      "source": [
        "## Campo de Velocidades \n",
        "- Corpo Rígido\n",
        "- Composição de Velocidades\n",
        "\n",
        "$\\begin{bmatrix}u \\\\ v \\\\ 0 \\end{bmatrix} = \\begin{bmatrix} u_0 \\\\ v_0 \\\\ 0 \\end{bmatrix} + \\begin{bmatrix} 0 & 0 & \\omega\\end{bmatrix} \\times \\begin{bmatrix} r_x \\\\ r_y \\\\ 0 \\end{bmatrix} \\implies \\begin{bmatrix}u \\\\ v \\\\ 0 \\end{bmatrix} = \\begin{bmatrix} u_0 \\\\ v_0 \\\\ 0 \\end{bmatrix} + \\begin{bmatrix} -\\omega \\cdot r_y \\\\ \\omega \\cdot r_x \\\\ 0  \\end{bmatrix} \\implies \\begin{bmatrix}u \\\\ v \\\\ 0 \\end{bmatrix} = \\begin{bmatrix} u_0 -\\omega \\cdot r_y \\\\ v_0 + \\omega \\cdot r_x \\\\ 0  \\end{bmatrix}$"
      ]
    },
    {
      "cell_type": "code",
      "execution_count": 372,
      "metadata": {
        "id": "X5EIZ1ZruKWj"
      },
      "outputs": [],
      "source": [
        "def rigidbody_velocity(velocity_x, velocity_y, angular_velocity_z, radius_x, radius_y):\n",
        "  return velocity_x - angular_velocity_z * radius_y, velocity_y + angular_velocity_z * radius_x"
      ]
    },
    {
      "attachments": {},
      "cell_type": "markdown",
      "metadata": {
        "id": "UVSv68QYwPV1"
      },
      "source": [
        "## Energia Cinética\n",
        "- Barra Delgada Rígida\n",
        "- Pólo na Extremidade da Barra"
      ]
    },
    {
      "cell_type": "code",
      "execution_count": 373,
      "metadata": {
        "id": "X4TYyIhrvpwh"
      },
      "outputs": [],
      "source": [
        "def kinetic_energy(mass, velocity_x, velocity_y, angular_velocity_z=0, moment_of_inertia=0, offset_x=0, offset_y=0):\n",
        "  # Translação pura do pólo O:\n",
        "  T_1 = 0.5 * mass * (velocity_x ** 2 + velocity_y ** 2)\n",
        "  # Roto-translação de G em torno do pólo O:\n",
        "  T_2 = mass * angular_velocity_z * (velocity_y * offset_x - velocity_x * offset_y)\n",
        "  # Rotação pura em torno do pólo O:\n",
        "  T_3 = 0.5 * moment_of_inertia * angular_velocity_z ** 2\n",
        "  return T_1 + T_2 + T_3"
      ]
    },
    {
      "cell_type": "code",
      "execution_count": 374,
      "metadata": {
        "id": "bkssTqbHdQqO"
      },
      "outputs": [],
      "source": [
        "def kinetic_energy_link(mass, length, theta, velocity_x, velocity_y, angular_velocity_z):\n",
        "  # Braços de rotação (G - O)\n",
        "  offset_x = length * sp.cos(theta) / 2\n",
        "  offset_y = length * sp.sin(theta) / 2\n",
        "  # Momento de inércia da barra delgada com extremidade em apoio duplo:\n",
        "  moment_of_inertia = mass * length ** 2 / 3\n",
        "  return kinetic_energy(mass, velocity_x, velocity_y, angular_velocity_z, moment_of_inertia, offset_x, offset_y)"
      ]
    },
    {
      "attachments": {},
      "cell_type": "markdown",
      "metadata": {
        "id": "_DCvhv8qONqu"
      },
      "source": [
        "## Energia Potencial Gravitacional"
      ]
    },
    {
      "cell_type": "code",
      "execution_count": 375,
      "metadata": {
        "id": "jFuIz0kROTal"
      },
      "outputs": [],
      "source": [
        "def gravitational_energy(mass, height):\n",
        "  return mass * height * g"
      ]
    },
    {
      "attachments": {},
      "cell_type": "markdown",
      "metadata": {
        "id": "Jv386Pz3b4yr"
      },
      "source": [
        "## Coordenadas polares"
      ]
    },
    {
      "cell_type": "code",
      "execution_count": 376,
      "metadata": {
        "id": "FjF2oqJmcJP-"
      },
      "outputs": [],
      "source": [
        "def polar_to_cartesian(r, theta):\n",
        "  class_name = str(r.__class__)\n",
        "  if \"numpy\" in class_name:\n",
        "    x = r * np.cos(theta)\n",
        "    y = r * np.sin(theta)\n",
        "  elif \"sympy\" in class_name:\n",
        "    x = r * sp.cos(theta)\n",
        "    y = r * sp.sin(theta)\n",
        "  return (x, y)"
      ]
    },
    {
      "attachments": {},
      "cell_type": "markdown",
      "metadata": {
        "id": "UIjmnCzTgRfw"
      },
      "source": [
        "## Simplificação de Expressões"
      ]
    },
    {
      "cell_type": "code",
      "execution_count": 377,
      "metadata": {
        "id": "92PQg5r5gUGQ"
      },
      "outputs": [],
      "source": [
        "def simplify(expr):\n",
        "  return sp.simplify(sp.expand(expr))"
      ]
    },
    {
      "cell_type": "code",
      "execution_count": 378,
      "metadata": {
        "id": "D2hp2XiWB-c_"
      },
      "outputs": [],
      "source": [
        "def coeffs(expr, term):\n",
        "  return sp.simplify((expr - expr.coeff(term, n=0)) / term)"
      ]
    },
    {
      "cell_type": "code",
      "execution_count": 379,
      "metadata": {
        "id": "100NdrN4FJvg"
      },
      "outputs": [],
      "source": [
        "def remove_terms(expr, terms):\n",
        "  res = expr * (1 - len(terms))\n",
        "  for term in terms:\n",
        "    res += expr.coeff(term, n=0)\n",
        "  return res"
      ]
    },
    {
      "attachments": {},
      "cell_type": "markdown",
      "metadata": {},
      "source": [
        "## Impressão das expressões algébricas"
      ]
    },
    {
      "cell_type": "code",
      "execution_count": 380,
      "metadata": {},
      "outputs": [],
      "source": [
        "# Imprime a expressão algébrica com notações simplificadas de d/dt.\n",
        "def pprint(*args):\n",
        "  for arg in args:\n",
        "    display(arg.subs(alias))"
      ]
    },
    {
      "attachments": {},
      "cell_type": "markdown",
      "metadata": {
        "id": "5UBVJpI766BH"
      },
      "source": [
        "# Constantes\n",
        "$M :=$ massa [kg] do ponto material, sistema formado pelo gancho (manipulador) e pela carga\n",
        "\n",
        "$m_i :=$ massa [kg] do i-ésimo elo do braço robótico\n",
        "\n",
        "$M_c :=$ massa [kg] do cilindro (parte móvel) de cada atuador hidráulico\n",
        "\n",
        "$L_i :=$ comprimento [mm] do i-ésimo elo do braço robótico\n",
        "\n",
        "$d_j :=$ comprimento [mm] do braço de torque do j-ésimo atuador hidráulico \n",
        "\n",
        "$F_j :=$ força [kN] aplicada pelo j-ésimo atuador hidráulico\n",
        "\n",
        "$A_{c} :=$ área [mm²] da seção circular dos cilindros (atuador hidráulico)\n",
        "\n",
        "$g :=$ aceleração [mm/s²] da gravidade local\n"
      ]
    },
    {
      "cell_type": "code",
      "execution_count": 381,
      "metadata": {
        "id": "GL9sR4lz2wyx"
      },
      "outputs": [],
      "source": [
        "M, m_1, m_2, m_3, M_c = sp.symbols(\"M m_1 m_2 m_3 M_c\")\n",
        "L_1, L_2, L_3 = sp.symbols(\"L_1 L_2 L_3\")\n",
        "d_1, d_2 = sp.symbols(\"d_1 d_2\")\n",
        "F_1, F_2 = sp.symbols(\"F_1 F_2\")\n",
        "A_c = sp.symbols(\"A_c\")\n",
        "g = sp.symbols(\"g\")\n",
        "k, c = sp.symbols(\"k c\")"
      ]
    },
    {
      "attachments": {},
      "cell_type": "markdown",
      "metadata": {},
      "source": [
        "# Entradas do sistema dinâmico\n",
        "$p_j :=$ pressão [MPa] diferencial no j-ésimo atuador hidráulico\n",
        "\n",
        "$\\tau :=$ torque [kN.mm] aplicado na primeira junta ($J1$)"
      ]
    },
    {
      "cell_type": "code",
      "execution_count": 382,
      "metadata": {},
      "outputs": [],
      "source": [
        "p_1, p_2, tau = sp.symbols(\"p_1 p_2 tau\")"
      ]
    },
    {
      "attachments": {},
      "cell_type": "markdown",
      "metadata": {},
      "source": [
        "## Valores numéricos (protótipo)"
      ]
    },
    {
      "cell_type": "code",
      "execution_count": 1102,
      "metadata": {},
      "outputs": [],
      "source": [
        "Params = {\n",
        "    M: 1250,     # kg\n",
        "    L_1: 2.150,  # m\n",
        "    L_2: 3.750,  # m\n",
        "    L_3: 2.135,  # m\n",
        "    d_1: 0.500,  # m\n",
        "    d_2: 0.500,  # m\n",
        "    g: 9.807,    # m/s²\n",
        "    M_c: 20.66,  # kg\n",
        "    A_c: 1.964,  # 1e-3 m²\n",
        "    k: 24308.3764659871,    # N*m/rad\n",
        "    c: 1e6,    # N*m*s/rad\n",
        "}\n",
        "mu = Params[M] / (Params[L_1] + Params[L_2] + Params[L_3])\n",
        "Params[m_1] = mu * Params[L_1]\n",
        "Params[m_2] = mu * Params[L_2]\n",
        "Params[m_3] = mu * Params[L_3]"
      ]
    },
    {
      "attachments": {},
      "cell_type": "markdown",
      "metadata": {},
      "source": [
        "# Estados internos do sistema dinâmico"
      ]
    },
    {
      "cell_type": "code",
      "execution_count": 1103,
      "metadata": {
        "id": "ehs2hMYu7PxI"
      },
      "outputs": [],
      "source": [
        "t = sp.symbols(\"t\")\n",
        "theta_1 = sp.Function(\"theta_1\")(t)\n",
        "theta_2 = sp.Function(\"theta_2\")(t)\n",
        "theta_3 = sp.Function(\"theta_3\")(t)\n",
        "\n",
        "omega_1 = sp.diff(theta_1, t)\n",
        "omega_2 = sp.diff(theta_2, t)\n",
        "omega_3 = sp.diff(theta_3, t)\n",
        "\n",
        "alpha_1 = sp.diff(omega_1, t)\n",
        "alpha_2 = sp.diff(omega_2, t)\n",
        "alpha_3 = sp.diff(omega_3, t)\n",
        "\n",
        "theta_dot_1 = sp.Function('\\\\dot{\\\\theta}_1')(t)\n",
        "theta_dot_2 = sp.Function('\\\\dot{\\\\theta}_2')(t)\n",
        "theta_dot_3 = sp.Function('\\\\dot{\\\\theta}_3')(t)\n",
        "theta_ddot_1 = sp.Function('\\\\ddot{\\\\theta}_1')(t)\n",
        "theta_ddot_2 = sp.Function('\\\\ddot{\\\\theta}_2')(t)\n",
        "theta_ddot_3 = sp.Function('\\\\ddot{\\\\theta}_3')(t)\n",
        "\n",
        "alias = {\n",
        "    omega_1: theta_dot_1,\n",
        "    omega_2: theta_dot_2,\n",
        "    omega_3: theta_dot_3,\n",
        "    alpha_1: theta_ddot_1,\n",
        "    alpha_2: theta_ddot_2,\n",
        "    alpha_3: theta_ddot_3,\n",
        "}"
      ]
    },
    {
      "attachments": {},
      "cell_type": "markdown",
      "metadata": {},
      "source": [
        "# Posição dos pontos no sistema de coordenadas $(x, y)$"
      ]
    },
    {
      "attachments": {},
      "cell_type": "markdown",
      "metadata": {},
      "source": [
        "## Posição e velocidade absoluta do ponto $J_2$ em função do tempo"
      ]
    },
    {
      "cell_type": "code",
      "execution_count": 1104,
      "metadata": {},
      "outputs": [],
      "source": [
        "# Descreve a posição do ponto J2 em relação ao ponto J1.\n",
        "# Ou seja, o vetor determinado por J2 - J1.\n",
        "def position_J2_J1(L_1, theta_1):\n",
        "  return polar_to_cartesian(L_1, theta_1)"
      ]
    },
    {
      "cell_type": "code",
      "execution_count": 1105,
      "metadata": {},
      "outputs": [
        {
          "data": {
            "text/latex": [
              "$\\displaystyle L_{1} \\cos{\\left(\\theta_{1}{\\left(t \\right)} \\right)}$"
            ],
            "text/plain": [
              "L_1*cos(theta_1(t))"
            ]
          },
          "metadata": {},
          "output_type": "display_data"
        },
        {
          "data": {
            "text/latex": [
              "$\\displaystyle L_{1} \\sin{\\left(\\theta_{1}{\\left(t \\right)} \\right)}$"
            ],
            "text/plain": [
              "L_1*sin(theta_1(t))"
            ]
          },
          "metadata": {},
          "output_type": "display_data"
        }
      ],
      "source": [
        "x_J2, y_J2 = position_J2_J1(L_1, theta_1)\n",
        "pprint(x_J2, y_J2)"
      ]
    },
    {
      "cell_type": "code",
      "execution_count": 1106,
      "metadata": {},
      "outputs": [
        {
          "data": {
            "text/latex": [
              "$\\displaystyle - L_{1} \\dot{\\theta}_1{\\left(t \\right)} \\sin{\\left(\\theta_{1}{\\left(t \\right)} \\right)}$"
            ],
            "text/plain": [
              "-L_1*\\dot{\\theta}_1(t)*sin(theta_1(t))"
            ]
          },
          "metadata": {},
          "output_type": "display_data"
        },
        {
          "data": {
            "text/latex": [
              "$\\displaystyle L_{1} \\dot{\\theta}_1{\\left(t \\right)} \\cos{\\left(\\theta_{1}{\\left(t \\right)} \\right)}$"
            ],
            "text/plain": [
              "L_1*\\dot{\\theta}_1(t)*cos(theta_1(t))"
            ]
          },
          "metadata": {},
          "output_type": "display_data"
        }
      ],
      "source": [
        "# Encontrando u e v pelo campo de velocidades do corpo rígido:\n",
        "u_J2, v_J2 = rigidbody_velocity(0, 0, omega_1, x_J2, y_J2)\n",
        "pprint(u_J2, v_J2)"
      ]
    },
    {
      "attachments": {},
      "cell_type": "markdown",
      "metadata": {},
      "source": [
        "## Inclinação do Elo #2 em relação a direção horizontal ($\\phi$)"
      ]
    },
    {
      "cell_type": "code",
      "execution_count": 1107,
      "metadata": {},
      "outputs": [],
      "source": [
        "phi = theta_1 + theta_2 - sp.pi"
      ]
    },
    {
      "attachments": {},
      "cell_type": "markdown",
      "metadata": {},
      "source": [
        "## Inclinação do Elo #3 em relação a direção horizontal ($\\psi$)"
      ]
    },
    {
      "cell_type": "code",
      "execution_count": 1108,
      "metadata": {},
      "outputs": [],
      "source": [
        "psi = phi + theta_3 - sp.pi"
      ]
    },
    {
      "attachments": {},
      "cell_type": "markdown",
      "metadata": {},
      "source": [
        "## Posição e velocidade absoluta do ponto $J_3$ em função do tempo"
      ]
    },
    {
      "cell_type": "code",
      "execution_count": 1109,
      "metadata": {},
      "outputs": [],
      "source": [
        "# Descreve a posição do ponto J3 em relação ao ponto J2.\n",
        "# Ou seja, o vetor determinado por J3 - J2.\n",
        "def position_J3_J2(L_2, phi):\n",
        "  return polar_to_cartesian(L_2, phi)"
      ]
    },
    {
      "cell_type": "code",
      "execution_count": 1110,
      "metadata": {},
      "outputs": [],
      "source": [
        "x_J3, y_J3 = position_J3_J2(L_2, phi)"
      ]
    },
    {
      "cell_type": "code",
      "execution_count": 1111,
      "metadata": {},
      "outputs": [
        {
          "data": {
            "text/latex": [
              "$\\displaystyle - L_{1} \\dot{\\theta}_1{\\left(t \\right)} \\sin{\\left(\\theta_{1}{\\left(t \\right)} \\right)} + L_{2} \\left(\\dot{\\theta}_1{\\left(t \\right)} + \\dot{\\theta}_2{\\left(t \\right)}\\right) \\sin{\\left(\\theta_{1}{\\left(t \\right)} + \\theta_{2}{\\left(t \\right)} \\right)}$"
            ],
            "text/plain": [
              "-L_1*\\dot{\\theta}_1(t)*sin(theta_1(t)) + L_2*(\\dot{\\theta}_1(t) + \\dot{\\theta}_2(t))*sin(theta_1(t) + theta_2(t))"
            ]
          },
          "metadata": {},
          "output_type": "display_data"
        },
        {
          "data": {
            "text/latex": [
              "$\\displaystyle L_{1} \\dot{\\theta}_1{\\left(t \\right)} \\cos{\\left(\\theta_{1}{\\left(t \\right)} \\right)} - L_{2} \\left(\\dot{\\theta}_1{\\left(t \\right)} + \\dot{\\theta}_2{\\left(t \\right)}\\right) \\cos{\\left(\\theta_{1}{\\left(t \\right)} + \\theta_{2}{\\left(t \\right)} \\right)}$"
            ],
            "text/plain": [
              "L_1*\\dot{\\theta}_1(t)*cos(theta_1(t)) - L_2*(\\dot{\\theta}_1(t) + \\dot{\\theta}_2(t))*cos(theta_1(t) + theta_2(t))"
            ]
          },
          "metadata": {},
          "output_type": "display_data"
        }
      ],
      "source": [
        "u_J3, v_J3 = rigidbody_velocity(u_J2, v_J2, omega_1 + omega_2, x_J3, y_J3)\n",
        "pprint(u_J3, v_J3)"
      ]
    },
    {
      "attachments": {},
      "cell_type": "markdown",
      "metadata": {},
      "source": [
        "## Posição do ponto P em relação ao ponto J3"
      ]
    },
    {
      "cell_type": "code",
      "execution_count": 1112,
      "metadata": {},
      "outputs": [],
      "source": [
        "# Descreve a posição do ponto P em relação ao ponto J3.\n",
        "# Ou seja, o vetor determinado por P - J3.\n",
        "def position_P_J3(L_3, psi):\n",
        "  return polar_to_cartesian(L_3, psi)"
      ]
    },
    {
      "cell_type": "code",
      "execution_count": 1113,
      "metadata": {},
      "outputs": [
        {
          "data": {
            "text/latex": [
              "$\\displaystyle L_{3} \\cos{\\left(\\theta_{1}{\\left(t \\right)} + \\theta_{2}{\\left(t \\right)} + \\theta_{3}{\\left(t \\right)} \\right)}$"
            ],
            "text/plain": [
              "L_3*cos(theta_1(t) + theta_2(t) + theta_3(t))"
            ]
          },
          "metadata": {},
          "output_type": "display_data"
        },
        {
          "data": {
            "text/latex": [
              "$\\displaystyle L_{3} \\sin{\\left(\\theta_{1}{\\left(t \\right)} + \\theta_{2}{\\left(t \\right)} + \\theta_{3}{\\left(t \\right)} \\right)}$"
            ],
            "text/plain": [
              "L_3*sin(theta_1(t) + theta_2(t) + theta_3(t))"
            ]
          },
          "metadata": {},
          "output_type": "display_data"
        }
      ],
      "source": [
        "x_P, y_P = position_P_J3(L_3, psi)\n",
        "pprint(x_P, y_P)"
      ]
    },
    {
      "cell_type": "code",
      "execution_count": 1114,
      "metadata": {},
      "outputs": [
        {
          "data": {
            "text/latex": [
              "$\\displaystyle - L_{1} \\dot{\\theta}_1{\\left(t \\right)} \\sin{\\left(\\theta_{1}{\\left(t \\right)} \\right)} + L_{2} \\left(\\dot{\\theta}_1{\\left(t \\right)} + \\dot{\\theta}_2{\\left(t \\right)}\\right) \\sin{\\left(\\theta_{1}{\\left(t \\right)} + \\theta_{2}{\\left(t \\right)} \\right)} - L_{3} \\left(\\dot{\\theta}_1{\\left(t \\right)} + \\dot{\\theta}_2{\\left(t \\right)} + \\dot{\\theta}_3{\\left(t \\right)}\\right) \\sin{\\left(\\theta_{1}{\\left(t \\right)} + \\theta_{2}{\\left(t \\right)} + \\theta_{3}{\\left(t \\right)} \\right)}$"
            ],
            "text/plain": [
              "-L_1*\\dot{\\theta}_1(t)*sin(theta_1(t)) + L_2*(\\dot{\\theta}_1(t) + \\dot{\\theta}_2(t))*sin(theta_1(t) + theta_2(t)) - L_3*(\\dot{\\theta}_1(t) + \\dot{\\theta}_2(t) + \\dot{\\theta}_3(t))*sin(theta_1(t) + theta_2(t) + theta_3(t))"
            ]
          },
          "metadata": {},
          "output_type": "display_data"
        },
        {
          "data": {
            "text/latex": [
              "$\\displaystyle L_{1} \\dot{\\theta}_1{\\left(t \\right)} \\cos{\\left(\\theta_{1}{\\left(t \\right)} \\right)} - L_{2} \\left(\\dot{\\theta}_1{\\left(t \\right)} + \\dot{\\theta}_2{\\left(t \\right)}\\right) \\cos{\\left(\\theta_{1}{\\left(t \\right)} + \\theta_{2}{\\left(t \\right)} \\right)} + L_{3} \\left(\\dot{\\theta}_1{\\left(t \\right)} + \\dot{\\theta}_2{\\left(t \\right)} + \\dot{\\theta}_3{\\left(t \\right)}\\right) \\cos{\\left(\\theta_{1}{\\left(t \\right)} + \\theta_{2}{\\left(t \\right)} + \\theta_{3}{\\left(t \\right)} \\right)}$"
            ],
            "text/plain": [
              "L_1*\\dot{\\theta}_1(t)*cos(theta_1(t)) - L_2*(\\dot{\\theta}_1(t) + \\dot{\\theta}_2(t))*cos(theta_1(t) + theta_2(t)) + L_3*(\\dot{\\theta}_1(t) + \\dot{\\theta}_2(t) + \\dot{\\theta}_3(t))*cos(theta_1(t) + theta_2(t) + theta_3(t))"
            ]
          },
          "metadata": {},
          "output_type": "display_data"
        }
      ],
      "source": [
        "u_P, v_P = rigidbody_velocity(u_J3, v_J3, omega_1 + omega_2 + omega_3, x_P, y_P)\n",
        "pprint(u_P, v_P)"
      ]
    },
    {
      "attachments": {},
      "cell_type": "markdown",
      "metadata": {},
      "source": [
        "## Pontos de atuação das forças hidráulicas ($P_j$)"
      ]
    },
    {
      "cell_type": "code",
      "execution_count": 1115,
      "metadata": {},
      "outputs": [],
      "source": [
        "P_1 = sp.Matrix(np.array(np.array((x_J2, y_J2)) + polar_to_cartesian(d_1, phi)))\n",
        "P_2 = sp.Matrix(np.array(np.array((x_J3, y_J3)) + polar_to_cartesian(d_2, psi)))"
      ]
    },
    {
      "cell_type": "code",
      "execution_count": 1116,
      "metadata": {},
      "outputs": [],
      "source": [
        "gamma_1, gamma_2 = sp.symbols(\"gamma_1 gamma_2\")"
      ]
    },
    {
      "attachments": {},
      "cell_type": "markdown",
      "metadata": {},
      "source": [
        "### Hipótese simplificadora: a mudança de inclinação dos atuadores é desprezada"
      ]
    },
    {
      "cell_type": "code",
      "execution_count": 1117,
      "metadata": {},
      "outputs": [],
      "source": [
        "gamma_alias = {\n",
        "    gamma_1: 0,\n",
        "    gamma_2: 0,\n",
        "}"
      ]
    },
    {
      "attachments": {},
      "cell_type": "markdown",
      "metadata": {
        "id": "pPq6yymoXAxv"
      },
      "source": [
        "# Equações de Lagrange"
      ]
    },
    {
      "attachments": {},
      "cell_type": "markdown",
      "metadata": {
        "id": "K3xMzUQqhLHY"
      },
      "source": [
        "## Energia Cinética do Sistema"
      ]
    },
    {
      "attachments": {},
      "cell_type": "markdown",
      "metadata": {
        "id": "TxVv6zNof3vw"
      },
      "source": [
        "### Energia Cinética do Elo #1"
      ]
    },
    {
      "cell_type": "code",
      "execution_count": 1118,
      "metadata": {
        "colab": {
          "base_uri": "https://localhost:8080/"
        },
        "id": "JzHq3fSF3eHe",
        "outputId": "79e41d2a-27e1-4787-e6e7-c25d92cb486a"
      },
      "outputs": [],
      "source": [
        "T_1 = kinetic_energy_link(m_1, L_1, theta_1, 0, 0, omega_1)"
      ]
    },
    {
      "attachments": {},
      "cell_type": "markdown",
      "metadata": {
        "id": "Ya6Nq-MXgaZS"
      },
      "source": [
        "### Energia Cinética do Elo #2"
      ]
    },
    {
      "cell_type": "code",
      "execution_count": 1119,
      "metadata": {
        "colab": {
          "base_uri": "https://localhost:8080/"
        },
        "id": "WqOgryqf3wTw",
        "outputId": "6b4389af-2505-4eaf-8c4e-216ee88fd6c8"
      },
      "outputs": [],
      "source": [
        "T_2 = kinetic_energy_link(m_2, L_2, phi, u_J2, v_J2, omega_1 + omega_2)"
      ]
    },
    {
      "attachments": {},
      "cell_type": "markdown",
      "metadata": {
        "id": "XxeaucMaICck"
      },
      "source": [
        "### Energia Cinética do Elo #3"
      ]
    },
    {
      "cell_type": "code",
      "execution_count": 1120,
      "metadata": {
        "colab": {
          "base_uri": "https://localhost:8080/"
        },
        "id": "Q6duItd8IBiD",
        "outputId": "d1330099-f85c-44fb-dc2e-b20b74062157"
      },
      "outputs": [],
      "source": [
        "T_3 = kinetic_energy_link(m_3, L_3, psi, u_J3, v_J3, omega_1 + omega_2 + omega_3)"
      ]
    },
    {
      "attachments": {},
      "cell_type": "markdown",
      "metadata": {
        "id": "oc5SFTb8gynN"
      },
      "source": [
        "### Energia Cinética do Ponto Material"
      ]
    },
    {
      "cell_type": "code",
      "execution_count": 1121,
      "metadata": {
        "colab": {
          "base_uri": "https://localhost:8080/"
        },
        "id": "x-LBsmyaRppL",
        "outputId": "a6cb5fb7-32bc-4905-d8ff-0c1b29cb3d73"
      },
      "outputs": [],
      "source": [
        "T_P = kinetic_energy(M, u_J3, v_J3, omega_1 + omega_2 + omega_3, M * L_2**2, x_P, y_P)"
      ]
    },
    {
      "attachments": {},
      "cell_type": "markdown",
      "metadata": {
        "id": "Dz4L3eyQ74Q8"
      },
      "source": [
        "### Energia Cinética ($T$)"
      ]
    },
    {
      "cell_type": "code",
      "execution_count": 1122,
      "metadata": {
        "id": "b_xmZuFw74YB"
      },
      "outputs": [
        {
          "data": {
            "text/latex": [
              "$\\displaystyle 0.5 L_{1}^{2} M \\dot{\\theta}_1^{2}{\\left(t \\right)} + 0.166666666666667 L_{1}^{2} m_{1} \\dot{\\theta}_1^{2}{\\left(t \\right)} + 0.5 L_{1}^{2} m_{2} \\dot{\\theta}_1^{2}{\\left(t \\right)} + 0.5 L_{1}^{2} m_{3} \\dot{\\theta}_1^{2}{\\left(t \\right)} - 1.0 L_{1} L_{2} M \\dot{\\theta}_1^{2}{\\left(t \\right)} \\cos{\\left(\\theta_{2}{\\left(t \\right)} \\right)} - 1.0 L_{1} L_{2} M \\dot{\\theta}_1{\\left(t \\right)} \\dot{\\theta}_2{\\left(t \\right)} \\cos{\\left(\\theta_{2}{\\left(t \\right)} \\right)} - 0.5 L_{1} L_{2} m_{2} \\dot{\\theta}_1^{2}{\\left(t \\right)} \\cos{\\left(\\theta_{2}{\\left(t \\right)} \\right)} - 0.5 L_{1} L_{2} m_{2} \\dot{\\theta}_1{\\left(t \\right)} \\dot{\\theta}_2{\\left(t \\right)} \\cos{\\left(\\theta_{2}{\\left(t \\right)} \\right)} - 1.0 L_{1} L_{2} m_{3} \\dot{\\theta}_1^{2}{\\left(t \\right)} \\cos{\\left(\\theta_{2}{\\left(t \\right)} \\right)} - 1.0 L_{1} L_{2} m_{3} \\dot{\\theta}_1{\\left(t \\right)} \\dot{\\theta}_2{\\left(t \\right)} \\cos{\\left(\\theta_{2}{\\left(t \\right)} \\right)} + 1.0 L_{1} L_{3} M \\dot{\\theta}_1^{2}{\\left(t \\right)} \\cos{\\left(\\theta_{2}{\\left(t \\right)} + \\theta_{3}{\\left(t \\right)} \\right)} + 1.0 L_{1} L_{3} M \\dot{\\theta}_1{\\left(t \\right)} \\dot{\\theta}_2{\\left(t \\right)} \\cos{\\left(\\theta_{2}{\\left(t \\right)} + \\theta_{3}{\\left(t \\right)} \\right)} + 1.0 L_{1} L_{3} M \\dot{\\theta}_1{\\left(t \\right)} \\dot{\\theta}_3{\\left(t \\right)} \\cos{\\left(\\theta_{2}{\\left(t \\right)} + \\theta_{3}{\\left(t \\right)} \\right)} + 0.5 L_{1} L_{3} m_{3} \\dot{\\theta}_1^{2}{\\left(t \\right)} \\cos{\\left(\\theta_{2}{\\left(t \\right)} + \\theta_{3}{\\left(t \\right)} \\right)} + 0.5 L_{1} L_{3} m_{3} \\dot{\\theta}_1{\\left(t \\right)} \\dot{\\theta}_2{\\left(t \\right)} \\cos{\\left(\\theta_{2}{\\left(t \\right)} + \\theta_{3}{\\left(t \\right)} \\right)} + 0.5 L_{1} L_{3} m_{3} \\dot{\\theta}_1{\\left(t \\right)} \\dot{\\theta}_3{\\left(t \\right)} \\cos{\\left(\\theta_{2}{\\left(t \\right)} + \\theta_{3}{\\left(t \\right)} \\right)} + 1.0 L_{2}^{2} M \\dot{\\theta}_1^{2}{\\left(t \\right)} + 2.0 L_{2}^{2} M \\dot{\\theta}_1{\\left(t \\right)} \\dot{\\theta}_2{\\left(t \\right)} + 1.0 L_{2}^{2} M \\dot{\\theta}_1{\\left(t \\right)} \\dot{\\theta}_3{\\left(t \\right)} + 1.0 L_{2}^{2} M \\dot{\\theta}_2^{2}{\\left(t \\right)} + 1.0 L_{2}^{2} M \\dot{\\theta}_2{\\left(t \\right)} \\dot{\\theta}_3{\\left(t \\right)} + 0.5 L_{2}^{2} M \\dot{\\theta}_3^{2}{\\left(t \\right)} + 0.166666666666667 L_{2}^{2} m_{2} \\dot{\\theta}_1^{2}{\\left(t \\right)} + 0.333333333333333 L_{2}^{2} m_{2} \\dot{\\theta}_1{\\left(t \\right)} \\dot{\\theta}_2{\\left(t \\right)} + 0.166666666666667 L_{2}^{2} m_{2} \\dot{\\theta}_2^{2}{\\left(t \\right)} + 0.5 L_{2}^{2} m_{3} \\dot{\\theta}_1^{2}{\\left(t \\right)} + 1.0 L_{2}^{2} m_{3} \\dot{\\theta}_1{\\left(t \\right)} \\dot{\\theta}_2{\\left(t \\right)} + 0.5 L_{2}^{2} m_{3} \\dot{\\theta}_2^{2}{\\left(t \\right)} - 1.0 L_{2} L_{3} M \\dot{\\theta}_1^{2}{\\left(t \\right)} \\cos{\\left(\\theta_{3}{\\left(t \\right)} \\right)} - 2.0 L_{2} L_{3} M \\dot{\\theta}_1{\\left(t \\right)} \\dot{\\theta}_2{\\left(t \\right)} \\cos{\\left(\\theta_{3}{\\left(t \\right)} \\right)} - 1.0 L_{2} L_{3} M \\dot{\\theta}_1{\\left(t \\right)} \\dot{\\theta}_3{\\left(t \\right)} \\cos{\\left(\\theta_{3}{\\left(t \\right)} \\right)} - 1.0 L_{2} L_{3} M \\dot{\\theta}_2^{2}{\\left(t \\right)} \\cos{\\left(\\theta_{3}{\\left(t \\right)} \\right)} - 1.0 L_{2} L_{3} M \\dot{\\theta}_2{\\left(t \\right)} \\dot{\\theta}_3{\\left(t \\right)} \\cos{\\left(\\theta_{3}{\\left(t \\right)} \\right)} - 0.5 L_{2} L_{3} m_{3} \\dot{\\theta}_1^{2}{\\left(t \\right)} \\cos{\\left(\\theta_{3}{\\left(t \\right)} \\right)} - 1.0 L_{2} L_{3} m_{3} \\dot{\\theta}_1{\\left(t \\right)} \\dot{\\theta}_2{\\left(t \\right)} \\cos{\\left(\\theta_{3}{\\left(t \\right)} \\right)} - 0.5 L_{2} L_{3} m_{3} \\dot{\\theta}_1{\\left(t \\right)} \\dot{\\theta}_3{\\left(t \\right)} \\cos{\\left(\\theta_{3}{\\left(t \\right)} \\right)} - 0.5 L_{2} L_{3} m_{3} \\dot{\\theta}_2^{2}{\\left(t \\right)} \\cos{\\left(\\theta_{3}{\\left(t \\right)} \\right)} - 0.5 L_{2} L_{3} m_{3} \\dot{\\theta}_2{\\left(t \\right)} \\dot{\\theta}_3{\\left(t \\right)} \\cos{\\left(\\theta_{3}{\\left(t \\right)} \\right)} + 0.166666666666667 L_{3}^{2} m_{3} \\dot{\\theta}_1^{2}{\\left(t \\right)} + 0.333333333333333 L_{3}^{2} m_{3} \\dot{\\theta}_1{\\left(t \\right)} \\dot{\\theta}_2{\\left(t \\right)} + 0.333333333333333 L_{3}^{2} m_{3} \\dot{\\theta}_1{\\left(t \\right)} \\dot{\\theta}_3{\\left(t \\right)} + 0.166666666666667 L_{3}^{2} m_{3} \\dot{\\theta}_2^{2}{\\left(t \\right)} + 0.333333333333333 L_{3}^{2} m_{3} \\dot{\\theta}_2{\\left(t \\right)} \\dot{\\theta}_3{\\left(t \\right)} + 0.166666666666667 L_{3}^{2} m_{3} \\dot{\\theta}_3^{2}{\\left(t \\right)}$"
            ],
            "text/plain": [
              "0.5*L_1**2*M*\\dot{\\theta}_1(t)**2 + 0.166666666666667*L_1**2*m_1*\\dot{\\theta}_1(t)**2 + 0.5*L_1**2*m_2*\\dot{\\theta}_1(t)**2 + 0.5*L_1**2*m_3*\\dot{\\theta}_1(t)**2 - 1.0*L_1*L_2*M*\\dot{\\theta}_1(t)**2*cos(theta_2(t)) - 1.0*L_1*L_2*M*\\dot{\\theta}_1(t)*\\dot{\\theta}_2(t)*cos(theta_2(t)) - 0.5*L_1*L_2*m_2*\\dot{\\theta}_1(t)**2*cos(theta_2(t)) - 0.5*L_1*L_2*m_2*\\dot{\\theta}_1(t)*\\dot{\\theta}_2(t)*cos(theta_2(t)) - 1.0*L_1*L_2*m_3*\\dot{\\theta}_1(t)**2*cos(theta_2(t)) - 1.0*L_1*L_2*m_3*\\dot{\\theta}_1(t)*\\dot{\\theta}_2(t)*cos(theta_2(t)) + 1.0*L_1*L_3*M*\\dot{\\theta}_1(t)**2*cos(theta_2(t) + theta_3(t)) + 1.0*L_1*L_3*M*\\dot{\\theta}_1(t)*\\dot{\\theta}_2(t)*cos(theta_2(t) + theta_3(t)) + 1.0*L_1*L_3*M*\\dot{\\theta}_1(t)*\\dot{\\theta}_3(t)*cos(theta_2(t) + theta_3(t)) + 0.5*L_1*L_3*m_3*\\dot{\\theta}_1(t)**2*cos(theta_2(t) + theta_3(t)) + 0.5*L_1*L_3*m_3*\\dot{\\theta}_1(t)*\\dot{\\theta}_2(t)*cos(theta_2(t) + theta_3(t)) + 0.5*L_1*L_3*m_3*\\dot{\\theta}_1(t)*\\dot{\\theta}_3(t)*cos(theta_2(t) + theta_3(t)) + 1.0*L_2**2*M*\\dot{\\theta}_1(t)**2 + 2.0*L_2**2*M*\\dot{\\theta}_1(t)*\\dot{\\theta}_2(t) + 1.0*L_2**2*M*\\dot{\\theta}_1(t)*\\dot{\\theta}_3(t) + 1.0*L_2**2*M*\\dot{\\theta}_2(t)**2 + 1.0*L_2**2*M*\\dot{\\theta}_2(t)*\\dot{\\theta}_3(t) + 0.5*L_2**2*M*\\dot{\\theta}_3(t)**2 + 0.166666666666667*L_2**2*m_2*\\dot{\\theta}_1(t)**2 + 0.333333333333333*L_2**2*m_2*\\dot{\\theta}_1(t)*\\dot{\\theta}_2(t) + 0.166666666666667*L_2**2*m_2*\\dot{\\theta}_2(t)**2 + 0.5*L_2**2*m_3*\\dot{\\theta}_1(t)**2 + 1.0*L_2**2*m_3*\\dot{\\theta}_1(t)*\\dot{\\theta}_2(t) + 0.5*L_2**2*m_3*\\dot{\\theta}_2(t)**2 - 1.0*L_2*L_3*M*\\dot{\\theta}_1(t)**2*cos(theta_3(t)) - 2.0*L_2*L_3*M*\\dot{\\theta}_1(t)*\\dot{\\theta}_2(t)*cos(theta_3(t)) - 1.0*L_2*L_3*M*\\dot{\\theta}_1(t)*\\dot{\\theta}_3(t)*cos(theta_3(t)) - 1.0*L_2*L_3*M*\\dot{\\theta}_2(t)**2*cos(theta_3(t)) - 1.0*L_2*L_3*M*\\dot{\\theta}_2(t)*\\dot{\\theta}_3(t)*cos(theta_3(t)) - 0.5*L_2*L_3*m_3*\\dot{\\theta}_1(t)**2*cos(theta_3(t)) - 1.0*L_2*L_3*m_3*\\dot{\\theta}_1(t)*\\dot{\\theta}_2(t)*cos(theta_3(t)) - 0.5*L_2*L_3*m_3*\\dot{\\theta}_1(t)*\\dot{\\theta}_3(t)*cos(theta_3(t)) - 0.5*L_2*L_3*m_3*\\dot{\\theta}_2(t)**2*cos(theta_3(t)) - 0.5*L_2*L_3*m_3*\\dot{\\theta}_2(t)*\\dot{\\theta}_3(t)*cos(theta_3(t)) + 0.166666666666667*L_3**2*m_3*\\dot{\\theta}_1(t)**2 + 0.333333333333333*L_3**2*m_3*\\dot{\\theta}_1(t)*\\dot{\\theta}_2(t) + 0.333333333333333*L_3**2*m_3*\\dot{\\theta}_1(t)*\\dot{\\theta}_3(t) + 0.166666666666667*L_3**2*m_3*\\dot{\\theta}_2(t)**2 + 0.333333333333333*L_3**2*m_3*\\dot{\\theta}_2(t)*\\dot{\\theta}_3(t) + 0.166666666666667*L_3**2*m_3*\\dot{\\theta}_3(t)**2"
            ]
          },
          "metadata": {},
          "output_type": "display_data"
        }
      ],
      "source": [
        "T = T_1 + T_2 + T_3 + T_P\n",
        "pprint(simplify(T))"
      ]
    },
    {
      "attachments": {},
      "cell_type": "markdown",
      "metadata": {
        "id": "yTjPxQI7Ovmx"
      },
      "source": [
        "## Energia Potencial do Sistema"
      ]
    },
    {
      "cell_type": "code",
      "execution_count": 1123,
      "metadata": {
        "id": "q4dcPfFxOvIf"
      },
      "outputs": [
        {
          "data": {
            "text/latex": [
              "$\\displaystyle \\frac{L_{1} g m_{1} \\sin{\\left(\\theta_{1}{\\left(t \\right)} \\right)}}{2}$"
            ],
            "text/plain": [
              "L_1*g*m_1*sin(theta_1(t))/2"
            ]
          },
          "metadata": {},
          "output_type": "display_data"
        },
        {
          "data": {
            "text/latex": [
              "$\\displaystyle g m_{2} \\left(L_{1} \\sin{\\left(\\theta_{1}{\\left(t \\right)} \\right)} - \\frac{L_{2} \\sin{\\left(\\theta_{1}{\\left(t \\right)} + \\theta_{2}{\\left(t \\right)} \\right)}}{2}\\right)$"
            ],
            "text/plain": [
              "g*m_2*(L_1*sin(theta_1(t)) - L_2*sin(theta_1(t) + theta_2(t))/2)"
            ]
          },
          "metadata": {},
          "output_type": "display_data"
        },
        {
          "data": {
            "text/latex": [
              "$\\displaystyle g m_{3} \\left(L_{1} \\sin{\\left(\\theta_{1}{\\left(t \\right)} \\right)} - L_{2} \\sin{\\left(\\theta_{1}{\\left(t \\right)} + \\theta_{2}{\\left(t \\right)} \\right)} + \\frac{L_{3} \\sin{\\left(\\theta_{1}{\\left(t \\right)} + \\theta_{2}{\\left(t \\right)} + \\theta_{3}{\\left(t \\right)} \\right)}}{2}\\right)$"
            ],
            "text/plain": [
              "g*m_3*(L_1*sin(theta_1(t)) - L_2*sin(theta_1(t) + theta_2(t)) + L_3*sin(theta_1(t) + theta_2(t) + theta_3(t))/2)"
            ]
          },
          "metadata": {},
          "output_type": "display_data"
        },
        {
          "data": {
            "text/latex": [
              "$\\displaystyle M g \\left(L_{1} \\sin{\\left(\\theta_{1}{\\left(t \\right)} \\right)} - L_{2} \\sin{\\left(\\theta_{1}{\\left(t \\right)} + \\theta_{2}{\\left(t \\right)} \\right)} + L_{3} \\sin{\\left(\\theta_{1}{\\left(t \\right)} + \\theta_{2}{\\left(t \\right)} + \\theta_{3}{\\left(t \\right)} \\right)}\\right)$"
            ],
            "text/plain": [
              "M*g*(L_1*sin(theta_1(t)) - L_2*sin(theta_1(t) + theta_2(t)) + L_3*sin(theta_1(t) + theta_2(t) + theta_3(t)))"
            ]
          },
          "metadata": {},
          "output_type": "display_data"
        },
        {
          "data": {
            "text/latex": [
              "$\\displaystyle \\frac{k \\left(\\theta_{1}^{2}{\\left(t \\right)} + \\theta_{2}^{2}{\\left(t \\right)} + \\theta_{3}^{2}{\\left(t \\right)}\\right)}{2}$"
            ],
            "text/plain": [
              "k*(theta_1(t)**2 + theta_2(t)**2 + theta_3(t)**2)/2"
            ]
          },
          "metadata": {},
          "output_type": "display_data"
        }
      ],
      "source": [
        "U_1 = gravitational_energy(m_1, y_J2 / 2)\n",
        "U_2 = gravitational_energy(m_2, y_J2 + y_J3 / 2)\n",
        "U_3 = gravitational_energy(m_3, y_J2 + y_J3 + y_P / 2)\n",
        "U_P = gravitational_energy(M, y_J2 + y_J3 + y_P)\n",
        "U_el = k * (theta_1**2 + theta_2**2 + theta_3**2) / 2\n",
        "pprint(U_1, U_2, U_3, U_P, U_el)"
      ]
    },
    {
      "cell_type": "code",
      "execution_count": 1124,
      "metadata": {
        "id": "tpQKhen7PLji"
      },
      "outputs": [],
      "source": [
        "U = U_1 + U_2 + U_3 + U_P + U_el"
      ]
    },
    {
      "attachments": {},
      "cell_type": "markdown",
      "metadata": {},
      "source": [
        "## Potencial Dissipativo de Rayleigh do Sistema"
      ]
    },
    {
      "cell_type": "code",
      "execution_count": 1125,
      "metadata": {},
      "outputs": [],
      "source": [
        "R = c * (omega_1**2 + omega_2**2 + omega_3**2) / 2"
      ]
    },
    {
      "attachments": {},
      "cell_type": "markdown",
      "metadata": {
        "id": "K7OcZBzqO3XS"
      },
      "source": [
        "## Forças Hidráulicas ($F_j$)"
      ]
    },
    {
      "cell_type": "code",
      "execution_count": 1126,
      "metadata": {
        "id": "fGekhnhDO2vG"
      },
      "outputs": [
        {
          "data": {
            "text/latex": [
              "$\\displaystyle A_{c} p_{1} + M_{c} g \\sin{\\left(\\gamma_{1} - \\theta_{1}{\\left(t \\right)} \\right)}$"
            ],
            "text/plain": [
              "A_c*p_1 + M_c*g*sin(gamma_1 - theta_1(t))"
            ]
          },
          "metadata": {},
          "output_type": "display_data"
        },
        {
          "data": {
            "text/latex": [
              "$\\displaystyle A_{c} p_{2} + M_{c} g \\sin{\\left(- \\gamma_{2} + \\theta_{1}{\\left(t \\right)} + \\theta_{2}{\\left(t \\right)} \\right)}$"
            ],
            "text/plain": [
              "A_c*p_2 + M_c*g*sin(-gamma_2 + theta_1(t) + theta_2(t))"
            ]
          },
          "metadata": {},
          "output_type": "display_data"
        }
      ],
      "source": [
        "F_1 = A_c * p_1 - M_c * g * sp.sin(theta_1 - gamma_1)\n",
        "F_2 = A_c * p_2 - M_c * g * sp.sin(phi - gamma_2)\n",
        "pprint(F_1, F_2)"
      ]
    },
    {
      "attachments": {},
      "cell_type": "markdown",
      "metadata": {
        "id": "yCZcIdmTLRx8"
      },
      "source": [
        "## Forças Generalizadas: Princípio dos Trabalhos Virtuais"
      ]
    },
    {
      "attachments": {},
      "cell_type": "markdown",
      "metadata": {
        "id": "8gF2ohHTLRx8"
      },
      "source": [
        "$F_1 :=$ força do primeiro atuador hidráulico, sobre o elo #2\n",
        "\n",
        "$F_2 :=$ força do segundo atuador hidráulico, sobre o elo #3\n",
        "\n",
        "$\\delta r_1 :=$ deslocamento virtual associado à força $F_1$\n",
        "\n",
        "$\\delta r_2 :=$ deslocamento virtual associado à força $F_2$\n",
        "\n",
        "$\\delta q_1 :=$ deslocamento virtual associado à coordenada generalizada $\\theta_1$\n",
        "\n",
        "$\\delta q_2 :=$ deslocamento virtual associado à coordenada generalizada $\\theta_2$\n",
        "\n",
        "$\\delta q_3 :=$ deslocamento virtual associado à coordenada generalizada $\\theta_3$"
      ]
    },
    {
      "cell_type": "code",
      "execution_count": 1127,
      "metadata": {
        "id": "ZD3IiMw-LRx9"
      },
      "outputs": [],
      "source": [
        "dq1 = sp.Symbol(\"\\delta q_1\")\n",
        "dq2 = sp.Symbol(\"\\delta q_2\")\n",
        "dq3 = sp.Symbol(\"\\delta q_3\")"
      ]
    },
    {
      "cell_type": "code",
      "execution_count": 1128,
      "metadata": {
        "id": "E6ExXte0LRx_"
      },
      "outputs": [],
      "source": [
        "F1_x = F_1 * sp.cos(theta_1 - gamma_1)\n",
        "F1_y = F_1 * sp.sin(theta_1 - gamma_1)"
      ]
    },
    {
      "cell_type": "code",
      "execution_count": 1129,
      "metadata": {
        "id": "9PpmixP_LRx_"
      },
      "outputs": [],
      "source": [
        "F2_x = F_2 * sp.cos(phi - gamma_2)\n",
        "F2_y = F_2 * sp.sin(phi - gamma_2)"
      ]
    },
    {
      "cell_type": "code",
      "execution_count": 1130,
      "metadata": {
        "id": "eiYrGpuq7Sp7"
      },
      "outputs": [],
      "source": [
        "def virtual_displacement(x):\n",
        "  return dq1 * sp.diff(x, theta_1) + dq2 * sp.diff(x, theta_2) + dq3 * sp.diff(x, theta_3)"
      ]
    },
    {
      "cell_type": "code",
      "execution_count": 1131,
      "metadata": {
        "id": "hBAzO5pI4iy8"
      },
      "outputs": [],
      "source": [
        "dr1_x = virtual_displacement(P_1[0])\n",
        "dr1_y = virtual_displacement(P_1[1])\n",
        "dr2_x = virtual_displacement(P_2[0])\n",
        "dr2_y = virtual_displacement(P_2[1])"
      ]
    },
    {
      "cell_type": "code",
      "execution_count": 1132,
      "metadata": {
        "id": "Q20ATD3S4gaO"
      },
      "outputs": [],
      "source": [
        "dW = sp.expand(F1_x * dr1_x + F1_y * dr1_y + F2_x * dr2_x + F2_y * dr2_y)"
      ]
    },
    {
      "cell_type": "code",
      "execution_count": 1133,
      "metadata": {
        "id": "Lb5Gewst-sHh"
      },
      "outputs": [],
      "source": [
        "T = T.subs(gamma_alias).subs(Params)\n",
        "U = U.subs(gamma_alias).subs(Params)\n",
        "dW = dW.subs(gamma_alias).subs(Params)"
      ]
    },
    {
      "cell_type": "code",
      "execution_count": 1134,
      "metadata": {
        "id": "gJQ0iItz71yd"
      },
      "outputs": [],
      "source": [
        "Q_1 = coeffs(dW, dq1) + tau\n",
        "Q_2 = coeffs(dW, dq2)\n",
        "Q_3 = coeffs(dW, dq3)"
      ]
    },
    {
      "cell_type": "code",
      "execution_count": 1135,
      "metadata": {
        "id": "6PlA207jLRyB"
      },
      "outputs": [
        {
          "data": {
            "text/latex": [
              "$\\displaystyle 0.982 p_{1} \\sin{\\left(\\theta_{1}{\\left(t \\right)} + \\theta_{2}{\\left(t \\right)} \\right)} \\cos{\\left(\\theta_{1}{\\left(t \\right)} \\right)} - 0.982 p_{1} \\sin{\\left(\\theta_{1}{\\left(t \\right)} \\right)} \\cos{\\left(\\theta_{1}{\\left(t \\right)} + \\theta_{2}{\\left(t \\right)} \\right)} - 0.982 p_{2} \\sin{\\left(\\theta_{1}{\\left(t \\right)} + \\theta_{2}{\\left(t \\right)} \\right)} \\cos{\\left(\\theta_{1}{\\left(t \\right)} + \\theta_{2}{\\left(t \\right)} + \\theta_{3}{\\left(t \\right)} \\right)} + 0.982 p_{2} \\sin{\\left(\\theta_{1}{\\left(t \\right)} + \\theta_{2}{\\left(t \\right)} + \\theta_{3}{\\left(t \\right)} \\right)} \\cos{\\left(\\theta_{1}{\\left(t \\right)} + \\theta_{2}{\\left(t \\right)} \\right)} + \\tau - 101.30631 \\sin^{2}{\\left(\\theta_{1}{\\left(t \\right)} + \\theta_{2}{\\left(t \\right)} \\right)} \\cos{\\left(\\theta_{1}{\\left(t \\right)} + \\theta_{2}{\\left(t \\right)} + \\theta_{3}{\\left(t \\right)} \\right)} + 101.30631 \\sin^{2}{\\left(\\theta_{1}{\\left(t \\right)} \\right)} \\cos{\\left(\\theta_{1}{\\left(t \\right)} + \\theta_{2}{\\left(t \\right)} \\right)} - 25.3265775 \\cos{\\left(\\theta_{1}{\\left(t \\right)} - \\theta_{2}{\\left(t \\right)} \\right)} + 25.3265775 \\cos{\\left(3 \\theta_{1}{\\left(t \\right)} + \\theta_{2}{\\left(t \\right)} \\right)} + 25.3265775 \\cos{\\left(\\theta_{1}{\\left(t \\right)} + \\theta_{2}{\\left(t \\right)} - \\theta_{3}{\\left(t \\right)} \\right)} - 25.3265775 \\cos{\\left(3 \\theta_{1}{\\left(t \\right)} + 3 \\theta_{2}{\\left(t \\right)} + \\theta_{3}{\\left(t \\right)} \\right)}$"
            ],
            "text/plain": [
              "0.982*p_1*sin(theta_1(t) + theta_2(t))*cos(theta_1(t)) - 0.982*p_1*sin(theta_1(t))*cos(theta_1(t) + theta_2(t)) - 0.982*p_2*sin(theta_1(t) + theta_2(t))*cos(theta_1(t) + theta_2(t) + theta_3(t)) + 0.982*p_2*sin(theta_1(t) + theta_2(t) + theta_3(t))*cos(theta_1(t) + theta_2(t)) + tau - 101.30631*sin(theta_1(t) + theta_2(t))**2*cos(theta_1(t) + theta_2(t) + theta_3(t)) + 101.30631*sin(theta_1(t))**2*cos(theta_1(t) + theta_2(t)) - 25.3265775*cos(theta_1(t) - theta_2(t)) + 25.3265775*cos(3*theta_1(t) + theta_2(t)) + 25.3265775*cos(theta_1(t) + theta_2(t) - theta_3(t)) - 25.3265775*cos(3*theta_1(t) + 3*theta_2(t) + theta_3(t))"
            ]
          },
          "metadata": {},
          "output_type": "display_data"
        },
        {
          "data": {
            "text/latex": [
              "$\\displaystyle 0.982 p_{1} \\sin{\\left(\\theta_{1}{\\left(t \\right)} + \\theta_{2}{\\left(t \\right)} \\right)} \\cos{\\left(\\theta_{1}{\\left(t \\right)} \\right)} - 0.982 p_{1} \\sin{\\left(\\theta_{1}{\\left(t \\right)} \\right)} \\cos{\\left(\\theta_{1}{\\left(t \\right)} + \\theta_{2}{\\left(t \\right)} \\right)} - 0.982 p_{2} \\sin{\\left(\\theta_{1}{\\left(t \\right)} + \\theta_{2}{\\left(t \\right)} \\right)} \\cos{\\left(\\theta_{1}{\\left(t \\right)} + \\theta_{2}{\\left(t \\right)} + \\theta_{3}{\\left(t \\right)} \\right)} + 0.982 p_{2} \\sin{\\left(\\theta_{1}{\\left(t \\right)} + \\theta_{2}{\\left(t \\right)} + \\theta_{3}{\\left(t \\right)} \\right)} \\cos{\\left(\\theta_{1}{\\left(t \\right)} + \\theta_{2}{\\left(t \\right)} \\right)} - 101.30631 \\sin^{2}{\\left(\\theta_{1}{\\left(t \\right)} + \\theta_{2}{\\left(t \\right)} \\right)} \\cos{\\left(\\theta_{1}{\\left(t \\right)} + \\theta_{2}{\\left(t \\right)} + \\theta_{3}{\\left(t \\right)} \\right)} + 101.30631 \\sin^{2}{\\left(\\theta_{1}{\\left(t \\right)} \\right)} \\cos{\\left(\\theta_{1}{\\left(t \\right)} + \\theta_{2}{\\left(t \\right)} \\right)} - 25.3265775 \\cos{\\left(\\theta_{1}{\\left(t \\right)} - \\theta_{2}{\\left(t \\right)} \\right)} + 25.3265775 \\cos{\\left(3 \\theta_{1}{\\left(t \\right)} + \\theta_{2}{\\left(t \\right)} \\right)} + 25.3265775 \\cos{\\left(\\theta_{1}{\\left(t \\right)} + \\theta_{2}{\\left(t \\right)} - \\theta_{3}{\\left(t \\right)} \\right)} - 25.3265775 \\cos{\\left(3 \\theta_{1}{\\left(t \\right)} + 3 \\theta_{2}{\\left(t \\right)} + \\theta_{3}{\\left(t \\right)} \\right)}$"
            ],
            "text/plain": [
              "0.982*p_1*sin(theta_1(t) + theta_2(t))*cos(theta_1(t)) - 0.982*p_1*sin(theta_1(t))*cos(theta_1(t) + theta_2(t)) - 0.982*p_2*sin(theta_1(t) + theta_2(t))*cos(theta_1(t) + theta_2(t) + theta_3(t)) + 0.982*p_2*sin(theta_1(t) + theta_2(t) + theta_3(t))*cos(theta_1(t) + theta_2(t)) - 101.30631*sin(theta_1(t) + theta_2(t))**2*cos(theta_1(t) + theta_2(t) + theta_3(t)) + 101.30631*sin(theta_1(t))**2*cos(theta_1(t) + theta_2(t)) - 25.3265775*cos(theta_1(t) - theta_2(t)) + 25.3265775*cos(3*theta_1(t) + theta_2(t)) + 25.3265775*cos(theta_1(t) + theta_2(t) - theta_3(t)) - 25.3265775*cos(3*theta_1(t) + 3*theta_2(t) + theta_3(t))"
            ]
          },
          "metadata": {},
          "output_type": "display_data"
        },
        {
          "data": {
            "text/latex": [
              "$\\displaystyle - 0.982 p_{2} \\sin{\\left(\\theta_{1}{\\left(t \\right)} + \\theta_{2}{\\left(t \\right)} \\right)} \\cos{\\left(\\theta_{1}{\\left(t \\right)} + \\theta_{2}{\\left(t \\right)} + \\theta_{3}{\\left(t \\right)} \\right)} + 0.982 p_{2} \\sin{\\left(\\theta_{1}{\\left(t \\right)} + \\theta_{2}{\\left(t \\right)} + \\theta_{3}{\\left(t \\right)} \\right)} \\cos{\\left(\\theta_{1}{\\left(t \\right)} + \\theta_{2}{\\left(t \\right)} \\right)} - 101.30631 \\sin^{2}{\\left(\\theta_{1}{\\left(t \\right)} + \\theta_{2}{\\left(t \\right)} \\right)} \\cos{\\left(\\theta_{1}{\\left(t \\right)} + \\theta_{2}{\\left(t \\right)} + \\theta_{3}{\\left(t \\right)} \\right)} + 25.3265775 \\cos{\\left(\\theta_{1}{\\left(t \\right)} + \\theta_{2}{\\left(t \\right)} - \\theta_{3}{\\left(t \\right)} \\right)} - 25.3265775 \\cos{\\left(3 \\theta_{1}{\\left(t \\right)} + 3 \\theta_{2}{\\left(t \\right)} + \\theta_{3}{\\left(t \\right)} \\right)}$"
            ],
            "text/plain": [
              "-0.982*p_2*sin(theta_1(t) + theta_2(t))*cos(theta_1(t) + theta_2(t) + theta_3(t)) + 0.982*p_2*sin(theta_1(t) + theta_2(t) + theta_3(t))*cos(theta_1(t) + theta_2(t)) - 101.30631*sin(theta_1(t) + theta_2(t))**2*cos(theta_1(t) + theta_2(t) + theta_3(t)) + 25.3265775*cos(theta_1(t) + theta_2(t) - theta_3(t)) - 25.3265775*cos(3*theta_1(t) + 3*theta_2(t) + theta_3(t))"
            ]
          },
          "metadata": {},
          "output_type": "display_data"
        }
      ],
      "source": [
        "pprint(Q_1)\n",
        "pprint(Q_2)\n",
        "pprint(Q_3)"
      ]
    },
    {
      "attachments": {},
      "cell_type": "markdown",
      "metadata": {
        "id": "s8HcqJ1J7DPO"
      },
      "source": [
        "## Lagrange\n",
        "\n",
        "$L = T - U$\n",
        "\n",
        "$\\frac{d}{dt}(\\frac{\\partial L}{\\partial \\dot{q_i}}) - \\frac{\\partial L}{\\partial q_i} + \\frac{\\partial R}{\\partial \\dot{q_i}}=Q_i^{nc}$"
      ]
    },
    {
      "cell_type": "code",
      "execution_count": 1136,
      "metadata": {
        "id": "lsxogPBTPXfv"
      },
      "outputs": [],
      "source": [
        "Lagrangian = T - U\n",
        "Lagrangian = simplify(Lagrangian)"
      ]
    },
    {
      "cell_type": "code",
      "execution_count": 1137,
      "metadata": {
        "id": "IkileBrw7E0W"
      },
      "outputs": [],
      "source": [
        "ode1 = sp.diff(sp.diff(Lagrangian, omega_1), t) - sp.diff(Lagrangian, theta_1) + sp.diff(R, omega_1) - Q_1\n",
        "ode2 = sp.diff(sp.diff(Lagrangian, omega_2), t) - sp.diff(Lagrangian, theta_2) + sp.diff(R, omega_2) - Q_2\n",
        "ode3 = sp.diff(sp.diff(Lagrangian, omega_3), t) - sp.diff(Lagrangian, theta_3) + sp.diff(R, omega_3) - Q_3"
      ]
    },
    {
      "cell_type": "code",
      "execution_count": 1138,
      "metadata": {},
      "outputs": [],
      "source": [
        "ode1 = simplify(ode1)\n",
        "ode2 = simplify(ode2)\n",
        "ode3 = simplify(ode3)"
      ]
    },
    {
      "attachments": {},
      "cell_type": "markdown",
      "metadata": {
        "id": "jLwhGyoo7gl2"
      },
      "source": [
        "# Espaço de Estados"
      ]
    },
    {
      "attachments": {},
      "cell_type": "markdown",
      "metadata": {
        "id": "CrjP6gIRr3O6"
      },
      "source": [
        "Para encontrar o espaço de estados a partir das equações diferenciais ordinárias, é necessário isolar as derivadas de segunda ordem $\\ddot{\\theta}_i \\equiv \\alpha_i$\n",
        "\n",
        "$\\begin{bmatrix}A\\end{bmatrix} = \\begin{bmatrix}a_{11} &  a_{12} & a_{13} \\\\ a_{21} & a_{22} & a_{23} \\\\ a_{31} & a_{32} & a_{33}  \\end{bmatrix}$\n",
        "\n",
        "$\\begin{bmatrix}A\\end{bmatrix} \\begin{bmatrix}\\ddot{\\theta}_1 \\\\ \\ddot{\\theta}_2 \\\\ \\ddot{\\theta}_3 \\end{bmatrix} = -\\begin{bmatrix} b_1 \\\\ b_2 \\\\ b_3 \\end{bmatrix}$\n",
        "\n",
        "$\\begin{bmatrix}\\ddot{\\theta}_1 \\\\ \\ddot{\\theta}_2 \\\\ \\ddot{\\theta}_3 \\end{bmatrix} = - \\begin{bmatrix}A\\end{bmatrix}^{-1}  \\begin{bmatrix} b_1 \\\\ b_2 \\\\ b_3 \\end{bmatrix}$\n",
        "\n",
        "**Fonte:** Notas de aula do Laboratório de Simulações Numéricas (PME3201)"
      ]
    },
    {
      "cell_type": "code",
      "execution_count": 1139,
      "metadata": {
        "id": "edxoKP1yjzjo"
      },
      "outputs": [],
      "source": [
        "def state_space(eq1, eq2, eq3):\n",
        "  # Matriz dos termos dependentes de alpha_i.\n",
        "  A = sp.Matrix([\n",
        "      [coeffs(eq1, alpha_1), coeffs(eq1, alpha_2), coeffs(eq1, alpha_3)],\n",
        "      [coeffs(eq2, alpha_1), coeffs(eq2, alpha_2), coeffs(eq2, alpha_3)],\n",
        "      [coeffs(eq3, alpha_1), coeffs(eq3, alpha_2), coeffs(eq3, alpha_3)],\n",
        "  ])\n",
        "\n",
        "  # Vetor dos termos independentes de alpha_i.\n",
        "  B = sp.Matrix([\n",
        "      remove_terms(eq1, [alpha_1, alpha_2, alpha_3]),\n",
        "      remove_terms(eq2, [alpha_1, alpha_2, alpha_3]),\n",
        "      remove_terms(eq3, [alpha_1, alpha_2, alpha_3]),\n",
        "  ])\n",
        "\n",
        "  # Matriz das derivadas de segunda ordem:\n",
        "  Alpha = -A ** -1 * B\n",
        "\n",
        "  return (sp.Matrix([ # espaço de estados\n",
        "    omega_1,\n",
        "    omega_2,\n",
        "    omega_3,\n",
        "    Alpha[0],\n",
        "    Alpha[1],\n",
        "    Alpha[2]\n",
        "  ]),\n",
        "  sp.Matrix([ # variáveis\n",
        "    theta_1,\n",
        "    theta_2,\n",
        "    theta_3,\n",
        "    omega_1,\n",
        "    omega_2,\n",
        "    omega_3\n",
        "  ]))"
      ]
    },
    {
      "cell_type": "code",
      "execution_count": 1140,
      "metadata": {
        "id": "cF0pJsp7EZgI"
      },
      "outputs": [],
      "source": [
        "space, vars = state_space(ode1, ode2, ode3)"
      ]
    },
    {
      "cell_type": "code",
      "execution_count": 1141,
      "metadata": {
        "id": "41tzf3dcc1nA"
      },
      "outputs": [
        {
          "data": {
            "text/latex": [
              "$\\displaystyle \\left[\\begin{matrix}\\theta_{1}{\\left(t \\right)}\\\\\\theta_{2}{\\left(t \\right)}\\\\\\theta_{3}{\\left(t \\right)}\\\\\\dot{\\theta}_1{\\left(t \\right)}\\\\\\dot{\\theta}_2{\\left(t \\right)}\\\\\\dot{\\theta}_3{\\left(t \\right)}\\end{matrix}\\right]$"
            ],
            "text/plain": [
              "Matrix([\n",
              "[       theta_1(t)],\n",
              "[       theta_2(t)],\n",
              "[       theta_3(t)],\n",
              "[\\dot{\\theta}_1(t)],\n",
              "[\\dot{\\theta}_2(t)],\n",
              "[\\dot{\\theta}_3(t)]])"
            ]
          },
          "metadata": {},
          "output_type": "display_data"
        }
      ],
      "source": [
        "pprint(vars)"
      ]
    },
    {
      "attachments": {},
      "cell_type": "markdown",
      "metadata": {
        "id": "cKYm1kFoTid0"
      },
      "source": [
        "### Conversão dos estados internos do sistema: $f_i(t) → x_i$\n",
        "Conversão de função do tempo para variável."
      ]
    },
    {
      "cell_type": "code",
      "execution_count": 1142,
      "metadata": {
        "id": "FCd71ZAw8Yn3"
      },
      "outputs": [],
      "source": [
        "Theta_1, Omega_1, Alpha_1 = sp.symbols(\"Theta_1 Omega_1 Alpha_1\")\n",
        "Theta_2, Omega_2, Alpha_2 = sp.symbols(\"Theta_2 Omega_2 Alpha_2\")\n",
        "Theta_3, Omega_3, Alpha_3 = sp.symbols(\"Theta_3 Omega_3 Alpha_3\")\n",
        "FUNCTIONS_TO_SYMBOLS_DICT = {\n",
        "    theta_1: Theta_1,\n",
        "    omega_1: Omega_1,\n",
        "    alpha_1: Alpha_1,\n",
        "    theta_2: Theta_2,\n",
        "    omega_2: Omega_2,\n",
        "    alpha_2: Alpha_2,\n",
        "    theta_3: Theta_3,\n",
        "    omega_3: Omega_3,\n",
        "    alpha_3: Alpha_3,\n",
        "}"
      ]
    },
    {
      "attachments": {},
      "cell_type": "markdown",
      "metadata": {
        "id": "ozElEcSNTbs-"
      },
      "source": [
        "### Conversão do espaço de estados para o SCILAB"
      ]
    },
    {
      "cell_type": "code",
      "execution_count": 1143,
      "metadata": {
        "id": "OdOt2SwONFO5"
      },
      "outputs": [
        {
          "name": "stdout",
          "output_type": "stream",
          "text": [
            "    dy(1) = Omega_1;\n",
            "    dy(2) = Omega_2;\n",
            "    dy(3) = Omega_3;\n",
            "    dy(4) = -(-11337.4129783759*Omega_1.^2.*sin(Theta_3) + 6500.11677426882*Omega_1.^2.*sin(Theta_2 + Theta_3) - 22674.8259567517*Omega_1.*Omega_2.*sin(Theta_3) - 11337.4129783759*Omega_2.^2.*sin(Theta_3) + Omega_3.*c + 24308.3764659871*Theta_3 + 0.982*p_2.*sin(Theta_1 + Theta_2).*cos(Theta_1 + Theta_2 + Theta_3) - 0.982*p_2.*sin(Theta_1 + Theta_2 + Theta_3).*cos(Theta_1 + Theta_2) + 101.30631*sin(Theta_1 + Theta_2).^2.*cos(Theta_1 + Theta_2 + Theta_3) - 25.3265775*cos(Theta_1 + Theta_2 - Theta_3) + 29649.6024210485*cos(Theta_1 + Theta_2 + Theta_3) + 25.3265775*cos(3*Theta_1 + 3*Theta_2 + Theta_3)).*(-3.56925254093844e+25*cos(Theta_2).^5.*cos(Theta_3) - 1683728407.79335*cos(Theta_2).^5.*cos(Theta_2 + Theta_3) + 5.69283456550967e+25*cos(Theta_2).^5 - 5.35698679386871e+25*cos(Theta_2).^4.*cos(Theta_3).^2 + 4.60700864272709e+25*cos(Theta_2).^4.*cos(Theta_3).*cos(Theta_2 + Theta_3) + 2.12054033019379e+26*cos(Theta_2).^4.*cos(Theta_3) + 2173270520.29487*cos(Theta_2).^4.*cos(Theta_2 + Theta_3).^2 - 6.41331113604657e+25*cos(Theta_2).^4.*cos(Theta_2 + Theta_3) - 2.01941677955858e+26*cos(Theta_2).^4 - 2.01003621770473e+25*cos(Theta_2).^3.*cos(Theta_3).^3 + 4.60968305926954e+25*cos(Theta_2).^3.*cos(Theta_3).^2.*cos(Theta_2 + Theta_3) + 8.97516172581099e+25*cos(Theta_2).^3.*cos(Theta_3).^2 - 1.3214424769906e+25*cos(Theta_2).^3.*cos(Theta_3).*cos(Theta_2 + Theta_3).^2 - 1.68443566200778e+26*cos(Theta_2).^3.*cos(Theta_3).*cos(Theta_2 + Theta_3) - 1.33414307757043e+26*cos(Theta_2).^3.*cos(Theta_3) - 935048814.389394*cos(Theta_2).^3.*cos(Theta_2 + Theta_3).^3 + 4.99023080005116e+24*cos(Theta_2).^3.*cos(Theta_2 + Theta_3).^2 + 1.40613782542971e+26*cos(Theta_2).^3.*cos(Theta_2 + Theta_3) + 6.60270841343076e+25*cos(Theta_2).^3 + 45471668372.0522*cos(Theta_2).^2.*cos(Theta_3).^4 + 8.64817317813498e+24*cos(Theta_2).^2.*cos(Theta_3).^3.*cos(Theta_2 + Theta_3) - 5.6015271380248e+25*cos(Theta_2).^2.*cos(Theta_3).^3 + 8616983070.48696*cos(Theta_2).^2.*cos(Theta_3).^2.*cos(Theta_2 + Theta_3).^2 - 3.33517572940568e+25*cos(Theta_2).^2.*cos(Theta_3).^2.*cos(Theta_2 + Theta_3) + 3.28123754430817e+26*cos(Theta_2).^2.*cos(Theta_3).^2 - 5.68550122893214e+24*cos(Theta_2).^2.*cos(Theta_3).*cos(Theta_2 + Theta_3).^3 - 1.81076160643917e+25*cos(Theta_2).^2.*cos(Theta_3).*cos(Theta_2 + Theta_3).^2 + 4.22931305966498e+25*cos(Theta_2).^2.*cos(Theta_3).*cos(Theta_2 + Theta_3) - 6.32299152263278e+26*cos(Theta_2).^2.*cos(Theta_3) + 134101465.529532*cos(Theta_2).^2.*cos(Theta_2 + Theta_3).^4 + 1.94498780310484e+25*cos(Theta_2).^2.*cos(Theta_2 + Theta_3).^3 + 4.27972019807557e+25*cos(Theta_2).^2.*cos(Theta_2 + Theta_3).^2 - 1.75671168323896e+25*cos(Theta_2).^2.*cos(Theta_2 + Theta_3) + 4.0105594119479e+26*cos(Theta_2).^2 + 10498147122.8575*cos(Theta_2).*cos(Theta_3).^5 - 1502113878.89092*cos(Theta_2).*cos(Theta_3).^4.*cos(Theta_2 + Theta_3) - 2.10179208109539e+25*cos(Theta_2).*cos(Theta_3).^4 + 3.72087321911132e+24*cos(Theta_2).*cos(Theta_3).^3.*cos(Theta_2 + Theta_3).^2 - 15565953516.3329*cos(Theta_2).*cos(Theta_3).^3.*cos(Theta_2 + Theta_3) + 1.72793521001918e+26*cos(Theta_2).*cos(Theta_3).^3 - 8.53320258249529e+24*cos(Theta_2).*cos(Theta_3).^2.*cos(Theta_2 + Theta_3).^3 - 2.11438787814449e+25*cos(Theta_2).*cos(Theta_3).^2.*cos(Theta_2 + Theta_3).^2 + 1.4669165101009e+25*cos(Theta_2).*cos(Theta_3).^2.*cos(Theta_2 + Theta_3) - 5.28237827160166e+26*cos(Theta_2).*cos(Theta_3).^2 + 3.66927711047297e+24*cos(Theta_2).*cos(Theta_3).*cos(Theta_2 + Theta_3).^4 + 4.15691126925522e+25*cos(Theta_2).*cos(Theta_3).*cos(Theta_2 + Theta_3).^3 + 3.76976560110452e+25*cos(Theta_2).*cos(Theta_3).*cos(Theta_2 + Theta_3).^2 - 6.25315681949972e+25*cos(Theta_2).*cos(Theta_3).*cos(Theta_2 + Theta_3) + 7.11221306489188e+26*cos(Theta_2).*cos(Theta_3) - 8.83018524807144e+24*cos(Theta_2).*cos(Theta_2 + Theta_3).^4 - 5.05809895914203e+25*cos(Theta_2).*cos(Theta_2 + Theta_3).^3 - 2.1551267894797e+25*cos(Theta_2).*cos(Theta_2 + Theta_3).^2 + 6.58495210545639e+25*cos(Theta_2).*cos(Theta_2 + Theta_3) - 3.55666007799187e+26*cos(Theta_2) - 3.65323936200199e-6*cos(Theta_3).^6 + 4516823804.88069*cos(Theta_3).^5.*cos(Theta_2 + Theta_3) + 7314004530.07921*cos(Theta_3).^5 - 3884468472.19739*cos(Theta_3).^4.*cos(Theta_2 + Theta_3).^2 - 9.04295243122616e+24*cos(Theta_3).^4.*cos(Theta_2 + Theta_3) - 54959809195.9926*cos(Theta_3).^4 - 1.60090428666525e+24*cos(Theta_3).^3.*cos(Theta_2 + Theta_3).^3 + 1.03692521211393e+25*cos(Theta_3).^3.*cos(Theta_2 + Theta_3).^2 + 7.98484769242165e+25*cos(Theta_3).^3.*cos(Theta_2 + Theta_3) + 165917960289.619*cos(Theta_3).^3 + 1.83570358204283e+24*cos(Theta_3).^2.*cos(Theta_2 + Theta_3).^4 + 8.12273110521244e+24*cos(Theta_3).^2.*cos(Theta_2 + Theta_3).^3 - 6.70519445727739e+25*cos(Theta_3).^2.*cos(Theta_2 + Theta_3).^2 - 2.63746041503665e+26*cos(Theta_3).^2.*cos(Theta_2 + Theta_3) - 241924441783.445*cos(Theta_3).^2 - 5.26235026852277e+23*cos(Theta_3).*cos(Theta_2 + Theta_3).^5 - 8.38388303402853e+24*cos(Theta_3).*cos(Theta_2 + Theta_3).^4 - 1.34226286579099e+25*cos(Theta_3).*cos(Theta_2 + Theta_3).^3 + 1.43952073474476e+26*cos(Theta_3).*cos(Theta_2 + Theta_3).^2 + 3.86165093104024e+26*cos(Theta_3).*cos(Theta_2 + Theta_3) + 142340889804.552*cos(Theta_3) + 1.15962763530099e+24*cos(Theta_2 + Theta_3).^5 + 9.56082697801438e+24*cos(Theta_2 + Theta_3).^4 + 7.26559393349474e+24*cos(Theta_2 + Theta_3).^3 - 1.02573095677281e+26*cos(Theta_2 + Theta_3).^2 - 2.11422095877194e+26*cos(Theta_2 + Theta_3))./(8.60060945478935e+29*cos(Theta_2).^6 - 137931031166431.0*cos(Theta_2).^5.*cos(Theta_3).^2 - 4.64011166259112e+29*cos(Theta_2).^5.*cos(Theta_3).*cos(Theta_2 + Theta_3) + 1.29084032973512e+30*cos(Theta_2).^5.*cos(Theta_3) - 13793103116643.1*cos(Theta_2).^5.*cos(Theta_2 + Theta_3).^2 - 1.48016357809627e+30*cos(Theta_2).^5.*cos(Theta_2 + Theta_3) - 3.05089052695436e+30*cos(Theta_2).^5 - 209182782042047.0*cos(Theta_2).^4.*cos(Theta_3).^3 - 6.96420794367251e+29*cos(Theta_2).^4.*cos(Theta_3).^2.*cos(Theta_2 + Theta_3) + 7.66271274625817e+29*cos(Theta_2).^4.*cos(Theta_3).^2 + 7.98562510874448e+29*cos(Theta_2).^4.*cos(Theta_3).*cos(Theta_2 + Theta_3).^2 - 2.01658492447337e+28*cos(Theta_2).^4.*cos(Theta_3).*cos(Theta_2 + Theta_3) - 1.39017445272203e+30*cos(Theta_2).^4.*cos(Theta_3) + 17803432102255.6*cos(Theta_2).^4.*cos(Theta_2 + Theta_3).^3 + 1.17522682767921e+30*cos(Theta_2).^4.*cos(Theta_2 + Theta_3).^2 + 3.9379334649146e+30*cos(Theta_2).^4.*cos(Theta_2 + Theta_3) + 6.63620374657862e+27*cos(Theta_2).^4 - 184976306608167.0*cos(Theta_2).^3.*cos(Theta_3).^4 - 2.61309402711808e+29*cos(Theta_2).^3.*cos(Theta_3).^3.*cos(Theta_2 + Theta_3) + 4.23133209916506e+29*cos(Theta_2).^3.*cos(Theta_3).^3 + 8.98904345328622e+29*cos(Theta_2).^3.*cos(Theta_3).^2.*cos(Theta_2 + Theta_3).^2 - 1.51959711598111e+29*cos(Theta_2).^3.*cos(Theta_3).^2.*cos(Theta_2 + Theta_3) + 3.49693850696665e+29*cos(Theta_2).^3.*cos(Theta_3).^2 - 5.15371824655077e+29*cos(Theta_2).^3.*cos(Theta_3).*cos(Theta_2 + Theta_3).^3 - 1.07755015225116e+30*cos(Theta_2).^3.*cos(Theta_3).*cos(Theta_2 + Theta_3).^2 + 6.58070957633736e+29*cos(Theta_2).^3.*cos(Theta_3).*cos(Theta_2 + Theta_3) - 7.24096017756792e+30*cos(Theta_2).^3.*cos(Theta_3) - 11108195666638.7*cos(Theta_2).^3.*cos(Theta_2 + Theta_3).^4 - 6.5256313859888e+29*cos(Theta_2).^3.*cos(Theta_2 + Theta_3).^3 - 2.47458274305283e+30*cos(Theta_2).^3.*cos(Theta_2 + Theta_3).^2 + 8.46946617727849e+29*cos(Theta_2).^3.*cos(Theta_2 + Theta_3) + 9.57403249804565e+30*cos(Theta_2).^3 - 79301850742024.6*cos(Theta_2).^2.*cos(Theta_3).^5 + 795780674166642.0*cos(Theta_2).^2.*cos(Theta_3).^4.*cos(Theta_2 + Theta_3) + 1.58767066183416e+29*cos(Theta_2).^2.*cos(Theta_3).^4 + 2.24856542167908e+29*cos(Theta_2).^2.*cos(Theta_3).^3.*cos(Theta_2 + Theta_3).^2 - 1.27437031789889e+30*cos(Theta_2).^2.*cos(Theta_3).^3.*cos(Theta_2 + Theta_3) + 5.07613691045112e+28*cos(Theta_2).^2.*cos(Theta_3).^3 - 3.86753252528802e+29*cos(Theta_2).^2.*cos(Theta_3).^2.*cos(Theta_2 + Theta_3).^3 - 1.18719404900806e+29*cos(Theta_2).^2.*cos(Theta_3).^2.*cos(Theta_2 + Theta_3).^2 + 3.81431850183081e+30*cos(Theta_2).^2.*cos(Theta_3).^2.*cos(Theta_2 + Theta_3) - 3.5869562554189e+30*cos(Theta_2).^2.*cos(Theta_3).^2 + 1.47825687633231e+29*cos(Theta_2).^2.*cos(Theta_3).*cos(Theta_2 + Theta_3).^4 + 3.85147797031254e+29*cos(Theta_2).^2.*cos(Theta_3).*cos(Theta_2 + Theta_3).^3 - 1.4979188104397e+29*cos(Theta_2).^2.*cos(Theta_3).*cos(Theta_2 + Theta_3).^2 + 1.12622443129454e+30*cos(Theta_2).^2.*cos(Theta_3).*cos(Theta_2 + Theta_3) + 8.97768384308939e+30*cos(Theta_2).^2.*cos(Theta_3) + 5549417231181.82*cos(Theta_2).^2.*cos(Theta_2 + Theta_3).^5 + 2.73787020776404e+29*cos(Theta_2).^2.*cos(Theta_2 + Theta_3).^4 + 1.25014615723435e+30*cos(Theta_2).^2.*cos(Theta_2 + Theta_3).^3 - 6.60786000796847e+29*cos(Theta_2).^2.*cos(Theta_2 + Theta_3).^2 - 7.14385061603073e+30*cos(Theta_2).^2.*cos(Theta_2 + Theta_3) - 6.52258174664405e+30*cos(Theta_2).^2 + 0.13802890479198*cos(Theta_2).*cos(Theta_3).^6 + 204717546636083.0*cos(Theta_2).*cos(Theta_3).^5.*cos(Theta_2 + Theta_3) - 497338902924683.0*cos(Theta_2).*cos(Theta_3).^5 - 308108424601980.0*cos(Theta_2).*cos(Theta_3).^4.*cos(Theta_2 + Theta_3).^2 - 4.09856818870605e+29*cos(Theta_2).*cos(Theta_3).^4.*cos(Theta_2 + Theta_3) + 4.42448758891779e+29*cos(Theta_2).*cos(Theta_3).^4 - 4.83722208529461e+28*cos(Theta_2).*cos(Theta_3).^3.*cos(Theta_2 + Theta_3).^3 + 5.48297344355786e+29*cos(Theta_2).*cos(Theta_3).^3.*cos(Theta_2 + Theta_3).^2 + 2.20267600921583e+30*cos(Theta_2).*cos(Theta_3).^3.*cos(Theta_2 + Theta_3) - 1.8860660813975e+30*cos(Theta_2).*cos(Theta_3).^3 + 5.54668132447116e+28*cos(Theta_2).*cos(Theta_3).^2.*cos(Theta_2 + Theta_3).^4 - 5.75724682377442e+28*cos(Theta_2).*cos(Theta_3).^2.*cos(Theta_2 + Theta_3).^3 - 1.54575779786016e+30*cos(Theta_2).*cos(Theta_3).^2.*cos(Theta_2 + Theta_3).^2 - 3.78064199426553e+30*cos(Theta_2).*cos(Theta_3).^2.*cos(Theta_2 + Theta_3) + 4.31060384806668e+29*cos(Theta_2).*cos(Theta_3).^2 - 1.5900486463484e+28*cos(Theta_2).*cos(Theta_3).*cos(Theta_2 + Theta_3).^5 + 5.22471967935556e+28*cos(Theta_2).*cos(Theta_3).*cos(Theta_2 + Theta_3).^4 + 2.06324710672498e+29*cos(Theta_2).*cos(Theta_3).*cos(Theta_2 + Theta_3).^3 - 8.91020128362002e+29*cos(Theta_2).*cos(Theta_3).*cos(Theta_2 + Theta_3).^2 + 1.52075297440878e+30*cos(Theta_2).*cos(Theta_3).*cos(Theta_2 + Theta_3) + 6.62898437770632e+30*cos(Theta_2).*cos(Theta_3) - 1914979971869.48*cos(Theta_2).*cos(Theta_2 + Theta_3).^6 - 7.00775987036737e+28*cos(Theta_2).*cos(Theta_2 + Theta_3).^5 - 4.33328623674947e+29*cos(Theta_2).*cos(Theta_2 + Theta_3).^4 + 9.61447783016488e+28*cos(Theta_2).*cos(Theta_2 + Theta_3).^3 + 3.50166858557136e+30*cos(Theta_2).*cos(Theta_2 + Theta_3).^2 + 9.88935462408713e+29*cos(Theta_2).*cos(Theta_2 + Theta_3) - 6.9807212412925e+30*cos(Theta_2) + 0.0414182833558749*cos(Theta_3).^7 - 0.0712394473721048*cos(Theta_3).^6.*cos(Theta_2 + Theta_3) - 165843779766439.0*cos(Theta_3).^6 - 14679941090260.8*cos(Theta_3).^5.*cos(Theta_2 + Theta_3).^2 + 237709417665230.0*cos(Theta_3).^5.*cos(Theta_2 + Theta_3) + 1.66014601878219e+29*cos(Theta_3).^5 + 25249498675248.6*cos(Theta_3).^4.*cos(Theta_2 + Theta_3).^3 + 2.93901233935638e+28*cos(Theta_3).^4.*cos(Theta_2 + Theta_3).^2 - 1.90363410153691e+29*cos(Theta_3).^4.*cos(Theta_2 + Theta_3) - 1.10005951016401e+30*cos(Theta_3).^4 - 14441148587914.8*cos(Theta_3).^3.*cos(Theta_2 + Theta_3).^4 - 3.370067482462e+28*cos(Theta_3).^3.*cos(Theta_2 + Theta_3).^3 + 4.51741668507492e+28*cos(Theta_3).^3.*cos(Theta_2 + Theta_3).^2 + 8.11479213840119e+29*cos(Theta_3).^3.*cos(Theta_2 + Theta_3) + 1.83435002582608e+30*cos(Theta_3).^3 + 3704443832897.66*cos(Theta_3).^2.*cos(Theta_2 + Theta_3).^5 + 3.25919834929226e+28*cos(Theta_3).^2.*cos(Theta_2 + Theta_3).^4 - 6.8876411662742e+28*cos(Theta_3).^2.*cos(Theta_2 + Theta_3).^3 - 9.01070178808827e+29*cos(Theta_3).^2.*cos(Theta_2 + Theta_3).^2 - 1.85463566537052e+29*cos(Theta_3).^2.*cos(Theta_2 + Theta_3) + 2.10503754804919e+30*cos(Theta_3).^2 - 1028302512235.38*cos(Theta_3).*cos(Theta_2 + Theta_3).^6 - 2.62943548050896e+28*cos(Theta_3).*cos(Theta_2 + Theta_3).^5 - 6.58171089112003e+28*cos(Theta_3).*cos(Theta_2 + Theta_3).^4 + 7.5159054871448e+29*cos(Theta_3).*cos(Theta_2 + Theta_3).^3 + 2.18296650503942e+30*cos(Theta_3).*cos(Theta_2 + Theta_3).^2 - 2.85211800606355e+30*cos(Theta_3).*cos(Theta_2 + Theta_3) - 8.49803211733198e+30*cos(Theta_3) + 274639801404.481*cos(Theta_2 + Theta_3).^7 + 7.53771504412567e+27*cos(Theta_2 + Theta_3).^6 + 6.21464918156732e+28*cos(Theta_2 + Theta_3).^5 + 1.32720409311891e+28*cos(Theta_2 + Theta_3).^4 - 9.46688592032348e+29*cos(Theta_2 + Theta_3).^3 - 1.58701286505947e+30*cos(Theta_2 + Theta_3).^2 + 3.00345265777948e+30*cos(Theta_2 + Theta_3) + 6.19067067814265e+30) - (-15107.7804138146*Omega_1.^2.*sin(Theta_2) + 6500.11677426882*Omega_1.^2.*sin(Theta_2 + Theta_3) + 22674.8259567517*Omega_1.*Omega_3.*sin(Theta_3) + 22674.8259567517*Omega_2.*Omega_3.*sin(Theta_3) + Omega_2.*c + 11337.4129783759*Omega_3.^2.*sin(Theta_3) + 24308.3764659871*Theta_2 + 0.982*p_1.*sin(Theta_1).*cos(Theta_1 + Theta_2) - 0.982*p_1.*sin(Theta_1 + Theta_2).*cos(Theta_1) + 0.982*p_2.*sin(Theta_1 + Theta_2).*cos(Theta_1 + Theta_2 + Theta_3) - 0.982*p_2.*sin(Theta_1 + Theta_2 + Theta_3).*cos(Theta_1 + Theta_2) - 101.30631*sin(Theta_1).^2.*cos(Theta_1 + Theta_2) + 101.30631*sin(Theta_1 + Theta_2).^2.*cos(Theta_1 + Theta_2 + Theta_3) + 25.3265775*cos(Theta_1 - Theta_2) - 68912.5593108276*cos(Theta_1 + Theta_2) - 25.3265775*cos(3*Theta_1 + Theta_2) - 25.3265775*cos(Theta_1 + Theta_2 - Theta_3) + 29649.6024210485*cos(Theta_1 + Theta_2 + Theta_3) + 25.3265775*cos(3*Theta_1 + 3*Theta_2 + Theta_3)).*(-5.69283456550967e+25*cos(Theta_2).^5 - 2.67849339693435e+25*cos(Theta_2).^4.*cos(Theta_3).^2 + 1.5356695475757e+25*cos(Theta_2).^4.*cos(Theta_3).*cos(Theta_2 + Theta_3) - 8.54420897297909e+25*cos(Theta_2).^4.*cos(Theta_3) + 188556609.363199*cos(Theta_2).^4.*cos(Theta_2 + Theta_3).^2 + 9.79735962234935e+25*cos(Theta_2).^4.*cos(Theta_2 + Theta_3) + 2.96083081903439e+26*cos(Theta_2).^4 - 4.02007243540948e+25*cos(Theta_2).^3.*cos(Theta_3).^3 + 6.91452458890431e+25*cos(Theta_2).^3.*cos(Theta_3).^2.*cos(Theta_2 + Theta_3) + 6.29546984743061e+25*cos(Theta_2).^3.*cos(Theta_3).^2 - 2.6428849539812e+25*cos(Theta_2).^3.*cos(Theta_3).*cos(Theta_2 + Theta_3).^2 + 5.58095393598106e+25*cos(Theta_2).^3.*cos(Theta_3).*cos(Theta_2 + Theta_3) + 2.33311201646444e+26*cos(Theta_2).^3.*cos(Theta_3) - 162252818.858852*cos(Theta_2).^3.*cos(Theta_2 + Theta_3).^3 - 6.32296537417347e+25*cos(Theta_2).^3.*cos(Theta_2 + Theta_3).^2 - 4.22673203198473e+26*cos(Theta_2).^3.*cos(Theta_2 + Theta_3) - 3.99974485196588e+26*cos(Theta_2).^3 - 1.50840229851192e+25*cos(Theta_2).^2.*cos(Theta_3).^4 + 6.0537212246945e+25*cos(Theta_2).^2.*cos(Theta_3).^3.*cos(Theta_2 + Theta_3) + 4.32942934076525e+25*cos(Theta_2).^2.*cos(Theta_3).^3 - 5.94994314655689e+25*cos(Theta_2).^2.*cos(Theta_3).^2.*cos(Theta_2 + Theta_3).^2 - 1.19874304362857e+26*cos(Theta_2).^2.*cos(Theta_3).^2.*cos(Theta_2 + Theta_3) - 6.73922988676594e+25*cos(Theta_2).^2.*cos(Theta_3).^2 + 1.70565036867964e+25*cos(Theta_2).^2.*cos(Theta_3).*cos(Theta_2 + Theta_3).^3 + 2.28634396031396e+25*cos(Theta_2).^2.*cos(Theta_3).*cos(Theta_2 + Theta_3).^2 - 2.43744712042172e+26*cos(Theta_2).^2.*cos(Theta_3).*cos(Theta_2 + Theta_3) + 2.28680883891482e+26*cos(Theta_2).^2.*cos(Theta_3) + 263149635.819031*cos(Theta_2).^2.*cos(Theta_2 + Theta_3).^4 + 1.81363563082609e+25*cos(Theta_2).^2.*cos(Theta_2 + Theta_3).^3 + 2.16708906942366e+26*cos(Theta_2).^2.*cos(Theta_2 + Theta_3).^2 + 4.87858482351294e+26*cos(Theta_2).^2.*cos(Theta_2 + Theta_3) - 2.9186811345379e+26*cos(Theta_2).^2 + 28874475300.7394*cos(Theta_2).*cos(Theta_3).^5 + 1.29797902992255e+25*cos(Theta_2).*cos(Theta_3).^4.*cos(Theta_2 + Theta_3) - 4.20358416219077e+25*cos(Theta_2).*cos(Theta_3).^4 - 2.97669857528905e+25*cos(Theta_2).*cos(Theta_3).^3.*cos(Theta_2 + Theta_3).^2 - 1.31541573322517e+25*cos(Theta_2).*cos(Theta_3).^3.*cos(Theta_2 + Theta_3) + 1.45667101275025e+26*cos(Theta_2).*cos(Theta_3).^3 + 2.13330064562382e+25*cos(Theta_2).*cos(Theta_3).^2.*cos(Theta_2 + Theta_3).^3 + 6.81902206882235e+25*cos(Theta_2).*cos(Theta_3).^2.*cos(Theta_2 + Theta_3).^2 - 8.31840985993045e+25*cos(Theta_2).*cos(Theta_3).^2.*cos(Theta_2 + Theta_3) + 1.81178035354604e+26*cos(Theta_2).*cos(Theta_3).^2 - 4.89236948063063e+24*cos(Theta_2).*cos(Theta_3).*cos(Theta_2 + Theta_3).^4 - 2.34471496784308e+25*cos(Theta_2).*cos(Theta_3).*cos(Theta_2 + Theta_3).^3 + 8.01741153727118e+25*cos(Theta_2).*cos(Theta_3).*cos(Theta_2 + Theta_3).^2 + 7.52667431059182e+25*cos(Theta_2).*cos(Theta_3).*cos(Theta_2 + Theta_3) - 1.1180299892188e+27*cos(Theta_2).*cos(Theta_3) - 196404673.779612*cos(Theta_2).*cos(Theta_2 + Theta_3).^5 - 1.95079010010706e+24*cos(Theta_2).*cos(Theta_2 + Theta_3).^4 - 4.60755283048049e+25*cos(Theta_2).*cos(Theta_2 + Theta_3).^3 - 1.97678340206326e+26*cos(Theta_2).*cos(Theta_2 + Theta_3).^2 + 7.85981234148821e+25*cos(Theta_2).*cos(Theta_2 + Theta_3) + 1.01888516393526e+27*cos(Theta_2) + 7878181055.02445*cos(Theta_3).^6 - 13550471414.6421*cos(Theta_3).^5.*cos(Theta_2 + Theta_3) - 1.5772591449813e+25*cos(Theta_3).^5 - 2.79227491860218e+24*cos(Theta_3).^4.*cos(Theta_2 + Theta_3).^2 + 2.71288572936784e+25*cos(Theta_3).^4.*cos(Theta_2 + Theta_3) + 1.04513633306944e+26*cos(Theta_3).^4 + 4.80271285999576e+24*cos(Theta_3).^3.*cos(Theta_2 + Theta_3).^3 - 2.35484046716256e+24*cos(Theta_3).^3.*cos(Theta_2 + Theta_3).^2 - 1.37017561554814e+26*cos(Theta_3).^3.*cos(Theta_2 + Theta_3) - 1.742765588447e+26*cos(Theta_3).^3 - 2.75355537306424e+24*cos(Theta_3).^2.*cos(Theta_2 + Theta_3).^4 - 1.21623776379533e+25*cos(Theta_3).^2.*cos(Theta_2 + Theta_3).^3 + 4.8265234319642e+25*cos(Theta_3).^2.*cos(Theta_2 + Theta_3).^2 + 1.49322343362017e+26*cos(Theta_3).^2.*cos(Theta_2 + Theta_3) - 1.99993837025563e+26*cos(Theta_3).^2 + 5.26235026852276e+23*cos(Theta_3).*cos(Theta_2 + Theta_3).^5 + 4.338670352746e+24*cos(Theta_3).*cos(Theta_2 + Theta_3).^4 - 7.95634248992317e+24*cos(Theta_3).*cos(Theta_2 + Theta_3).^3 - 7.47156888169716e+25*cos(Theta_3).*cos(Theta_2 + Theta_3).^2 + 1.75029280946593e+26*cos(Theta_3).*cos(Theta_2 + Theta_3) + 8.07374695946265e+26*cos(Theta_3) + 42251518.0791309*cos(Theta_2 + Theta_3).^6 + 536870912.0*cos(Theta_2 + Theta_3).^5 + 3.22598727782771e+24*cos(Theta_2 + Theta_3).^4 + 2.65974225326052e+25*cos(Theta_2 + Theta_3).^3 + 2.02122758045797e+25*cos(Theta_2 + Theta_3).^2 - 2.85349789561048e+26*cos(Theta_2 + Theta_3) - 5.88158621603104e+26)./(8.60060945478935e+29*cos(Theta_2).^6 - 137931031166431.0*cos(Theta_2).^5.*cos(Theta_3).^2 - 4.64011166259112e+29*cos(Theta_2).^5.*cos(Theta_3).*cos(Theta_2 + Theta_3) + 1.29084032973512e+30*cos(Theta_2).^5.*cos(Theta_3) - 13793103116643.1*cos(Theta_2).^5.*cos(Theta_2 + Theta_3).^2 - 1.48016357809627e+30*cos(Theta_2).^5.*cos(Theta_2 + Theta_3) - 3.05089052695436e+30*cos(Theta_2).^5 - 209182782042047.0*cos(Theta_2).^4.*cos(Theta_3).^3 - 6.96420794367251e+29*cos(Theta_2).^4.*cos(Theta_3).^2.*cos(Theta_2 + Theta_3) + 7.66271274625817e+29*cos(Theta_2).^4.*cos(Theta_3).^2 + 7.98562510874448e+29*cos(Theta_2).^4.*cos(Theta_3).*cos(Theta_2 + Theta_3).^2 - 2.01658492447337e+28*cos(Theta_2).^4.*cos(Theta_3).*cos(Theta_2 + Theta_3) - 1.39017445272203e+30*cos(Theta_2).^4.*cos(Theta_3) + 17803432102255.6*cos(Theta_2).^4.*cos(Theta_2 + Theta_3).^3 + 1.17522682767921e+30*cos(Theta_2).^4.*cos(Theta_2 + Theta_3).^2 + 3.9379334649146e+30*cos(Theta_2).^4.*cos(Theta_2 + Theta_3) + 6.63620374657862e+27*cos(Theta_2).^4 - 184976306608167.0*cos(Theta_2).^3.*cos(Theta_3).^4 - 2.61309402711808e+29*cos(Theta_2).^3.*cos(Theta_3).^3.*cos(Theta_2 + Theta_3) + 4.23133209916506e+29*cos(Theta_2).^3.*cos(Theta_3).^3 + 8.98904345328622e+29*cos(Theta_2).^3.*cos(Theta_3).^2.*cos(Theta_2 + Theta_3).^2 - 1.51959711598111e+29*cos(Theta_2).^3.*cos(Theta_3).^2.*cos(Theta_2 + Theta_3) + 3.49693850696665e+29*cos(Theta_2).^3.*cos(Theta_3).^2 - 5.15371824655077e+29*cos(Theta_2).^3.*cos(Theta_3).*cos(Theta_2 + Theta_3).^3 - 1.07755015225116e+30*cos(Theta_2).^3.*cos(Theta_3).*cos(Theta_2 + Theta_3).^2 + 6.58070957633736e+29*cos(Theta_2).^3.*cos(Theta_3).*cos(Theta_2 + Theta_3) - 7.24096017756792e+30*cos(Theta_2).^3.*cos(Theta_3) - 11108195666638.7*cos(Theta_2).^3.*cos(Theta_2 + Theta_3).^4 - 6.5256313859888e+29*cos(Theta_2).^3.*cos(Theta_2 + Theta_3).^3 - 2.47458274305283e+30*cos(Theta_2).^3.*cos(Theta_2 + Theta_3).^2 + 8.46946617727849e+29*cos(Theta_2).^3.*cos(Theta_2 + Theta_3) + 9.57403249804565e+30*cos(Theta_2).^3 - 79301850742024.6*cos(Theta_2).^2.*cos(Theta_3).^5 + 795780674166642.0*cos(Theta_2).^2.*cos(Theta_3).^4.*cos(Theta_2 + Theta_3) + 1.58767066183416e+29*cos(Theta_2).^2.*cos(Theta_3).^4 + 2.24856542167908e+29*cos(Theta_2).^2.*cos(Theta_3).^3.*cos(Theta_2 + Theta_3).^2 - 1.27437031789889e+30*cos(Theta_2).^2.*cos(Theta_3).^3.*cos(Theta_2 + Theta_3) + 5.07613691045112e+28*cos(Theta_2).^2.*cos(Theta_3).^3 - 3.86753252528802e+29*cos(Theta_2).^2.*cos(Theta_3).^2.*cos(Theta_2 + Theta_3).^3 - 1.18719404900806e+29*cos(Theta_2).^2.*cos(Theta_3).^2.*cos(Theta_2 + Theta_3).^2 + 3.81431850183081e+30*cos(Theta_2).^2.*cos(Theta_3).^2.*cos(Theta_2 + Theta_3) - 3.5869562554189e+30*cos(Theta_2).^2.*cos(Theta_3).^2 + 1.47825687633231e+29*cos(Theta_2).^2.*cos(Theta_3).*cos(Theta_2 + Theta_3).^4 + 3.85147797031254e+29*cos(Theta_2).^2.*cos(Theta_3).*cos(Theta_2 + Theta_3).^3 - 1.4979188104397e+29*cos(Theta_2).^2.*cos(Theta_3).*cos(Theta_2 + Theta_3).^2 + 1.12622443129454e+30*cos(Theta_2).^2.*cos(Theta_3).*cos(Theta_2 + Theta_3) + 8.97768384308939e+30*cos(Theta_2).^2.*cos(Theta_3) + 5549417231181.82*cos(Theta_2).^2.*cos(Theta_2 + Theta_3).^5 + 2.73787020776404e+29*cos(Theta_2).^2.*cos(Theta_2 + Theta_3).^4 + 1.25014615723435e+30*cos(Theta_2).^2.*cos(Theta_2 + Theta_3).^3 - 6.60786000796847e+29*cos(Theta_2).^2.*cos(Theta_2 + Theta_3).^2 - 7.14385061603073e+30*cos(Theta_2).^2.*cos(Theta_2 + Theta_3) - 6.52258174664405e+30*cos(Theta_2).^2 + 0.13802890479198*cos(Theta_2).*cos(Theta_3).^6 + 204717546636083.0*cos(Theta_2).*cos(Theta_3).^5.*cos(Theta_2 + Theta_3) - 497338902924683.0*cos(Theta_2).*cos(Theta_3).^5 - 308108424601980.0*cos(Theta_2).*cos(Theta_3).^4.*cos(Theta_2 + Theta_3).^2 - 4.09856818870605e+29*cos(Theta_2).*cos(Theta_3).^4.*cos(Theta_2 + Theta_3) + 4.42448758891779e+29*cos(Theta_2).*cos(Theta_3).^4 - 4.83722208529461e+28*cos(Theta_2).*cos(Theta_3).^3.*cos(Theta_2 + Theta_3).^3 + 5.48297344355786e+29*cos(Theta_2).*cos(Theta_3).^3.*cos(Theta_2 + Theta_3).^2 + 2.20267600921583e+30*cos(Theta_2).*cos(Theta_3).^3.*cos(Theta_2 + Theta_3) - 1.8860660813975e+30*cos(Theta_2).*cos(Theta_3).^3 + 5.54668132447116e+28*cos(Theta_2).*cos(Theta_3).^2.*cos(Theta_2 + Theta_3).^4 - 5.75724682377442e+28*cos(Theta_2).*cos(Theta_3).^2.*cos(Theta_2 + Theta_3).^3 - 1.54575779786016e+30*cos(Theta_2).*cos(Theta_3).^2.*cos(Theta_2 + Theta_3).^2 - 3.78064199426553e+30*cos(Theta_2).*cos(Theta_3).^2.*cos(Theta_2 + Theta_3) + 4.31060384806668e+29*cos(Theta_2).*cos(Theta_3).^2 - 1.5900486463484e+28*cos(Theta_2).*cos(Theta_3).*cos(Theta_2 + Theta_3).^5 + 5.22471967935556e+28*cos(Theta_2).*cos(Theta_3).*cos(Theta_2 + Theta_3).^4 + 2.06324710672498e+29*cos(Theta_2).*cos(Theta_3).*cos(Theta_2 + Theta_3).^3 - 8.91020128362002e+29*cos(Theta_2).*cos(Theta_3).*cos(Theta_2 + Theta_3).^2 + 1.52075297440878e+30*cos(Theta_2).*cos(Theta_3).*cos(Theta_2 + Theta_3) + 6.62898437770632e+30*cos(Theta_2).*cos(Theta_3) - 1914979971869.48*cos(Theta_2).*cos(Theta_2 + Theta_3).^6 - 7.00775987036737e+28*cos(Theta_2).*cos(Theta_2 + Theta_3).^5 - 4.33328623674947e+29*cos(Theta_2).*cos(Theta_2 + Theta_3).^4 + 9.61447783016488e+28*cos(Theta_2).*cos(Theta_2 + Theta_3).^3 + 3.50166858557136e+30*cos(Theta_2).*cos(Theta_2 + Theta_3).^2 + 9.88935462408713e+29*cos(Theta_2).*cos(Theta_2 + Theta_3) - 6.9807212412925e+30*cos(Theta_2) + 0.0414182833558749*cos(Theta_3).^7 - 0.0712394473721048*cos(Theta_3).^6.*cos(Theta_2 + Theta_3) - 165843779766439.0*cos(Theta_3).^6 - 14679941090260.8*cos(Theta_3).^5.*cos(Theta_2 + Theta_3).^2 + 237709417665230.0*cos(Theta_3).^5.*cos(Theta_2 + Theta_3) + 1.66014601878219e+29*cos(Theta_3).^5 + 25249498675248.6*cos(Theta_3).^4.*cos(Theta_2 + Theta_3).^3 + 2.93901233935638e+28*cos(Theta_3).^4.*cos(Theta_2 + Theta_3).^2 - 1.90363410153691e+29*cos(Theta_3).^4.*cos(Theta_2 + Theta_3) - 1.10005951016401e+30*cos(Theta_3).^4 - 14441148587914.8*cos(Theta_3).^3.*cos(Theta_2 + Theta_3).^4 - 3.370067482462e+28*cos(Theta_3).^3.*cos(Theta_2 + Theta_3).^3 + 4.51741668507492e+28*cos(Theta_3).^3.*cos(Theta_2 + Theta_3).^2 + 8.11479213840119e+29*cos(Theta_3).^3.*cos(Theta_2 + Theta_3) + 1.83435002582608e+30*cos(Theta_3).^3 + 3704443832897.66*cos(Theta_3).^2.*cos(Theta_2 + Theta_3).^5 + 3.25919834929226e+28*cos(Theta_3).^2.*cos(Theta_2 + Theta_3).^4 - 6.8876411662742e+28*cos(Theta_3).^2.*cos(Theta_2 + Theta_3).^3 - 9.01070178808827e+29*cos(Theta_3).^2.*cos(Theta_2 + Theta_3).^2 - 1.85463566537052e+29*cos(Theta_3).^2.*cos(Theta_2 + Theta_3) + 2.10503754804919e+30*cos(Theta_3).^2 - 1028302512235.38*cos(Theta_3).*cos(Theta_2 + Theta_3).^6 - 2.62943548050896e+28*cos(Theta_3).*cos(Theta_2 + Theta_3).^5 - 6.58171089112003e+28*cos(Theta_3).*cos(Theta_2 + Theta_3).^4 + 7.5159054871448e+29*cos(Theta_3).*cos(Theta_2 + Theta_3).^3 + 2.18296650503942e+30*cos(Theta_3).*cos(Theta_2 + Theta_3).^2 - 2.85211800606355e+30*cos(Theta_3).*cos(Theta_2 + Theta_3) - 8.49803211733198e+30*cos(Theta_3) + 274639801404.481*cos(Theta_2 + Theta_3).^7 + 7.53771504412567e+27*cos(Theta_2 + Theta_3).^6 + 6.21464918156732e+28*cos(Theta_2 + Theta_3).^5 + 1.32720409311891e+28*cos(Theta_2 + Theta_3).^4 - 9.46688592032348e+29*cos(Theta_2 + Theta_3).^3 - 1.58701286505947e+30*cos(Theta_2 + Theta_3).^2 + 3.00345265777948e+30*cos(Theta_2 + Theta_3) + 6.19067067814265e+30) - (30215.5608276291*Omega_1.*Omega_2.*sin(Theta_2) - 13000.2335485376*Omega_1.*Omega_2.*sin(Theta_2 + Theta_3) + 22674.8259567517*Omega_1.*Omega_3.*sin(Theta_3) - 13000.2335485376*Omega_1.*Omega_3.*sin(Theta_2 + Theta_3) + Omega_1.*c + 15107.7804138146*Omega_2.^2.*sin(Theta_2) - 6500.11677426882*Omega_2.^2.*sin(Theta_2 + Theta_3) + 22674.8259567517*Omega_2.*Omega_3.*sin(Theta_3) - 13000.2335485376*Omega_2.*Omega_3.*sin(Theta_2 + Theta_3) + 11337.4129783759*Omega_3.^2.*sin(Theta_3) - 6500.11677426882*Omega_3.^2.*sin(Theta_2 + Theta_3) + 24308.3764659871*Theta_1 + 0.982*p_1.*sin(Theta_1).*cos(Theta_1 + Theta_2) - 0.982*p_1.*sin(Theta_1 + Theta_2).*cos(Theta_1) + 0.982*p_2.*sin(Theta_1 + Theta_2).*cos(Theta_1 + Theta_2 + Theta_3) - 0.982*p_2.*sin(Theta_1 + Theta_2 + Theta_3).*cos(Theta_1 + Theta_2) - tau - 101.30631*sin(Theta_1).^2.*cos(Theta_1 + Theta_2) + 101.30631*sin(Theta_1 + Theta_2).^2.*cos(Theta_1 + Theta_2 + Theta_3) + 49186.4226431238*cos(Theta_1) + 25.3265775*cos(Theta_1 - Theta_2) - 68912.5593108276*cos(Theta_1 + Theta_2) - 25.3265775*cos(3*Theta_1 + Theta_2) - 25.3265775*cos(Theta_1 + Theta_2 - Theta_3) + 29649.6024210485*cos(Theta_1 + Theta_2 + Theta_3) + 25.3265775*cos(3*Theta_1 + 3*Theta_2 + Theta_3)).*(3716613057.04317*cos(Theta_2).^5 + 2.67849339693435e+25*cos(Theta_2).^4.*cos(Theta_3).^2 + 521910192.908418*cos(Theta_2).^4.*cos(Theta_3).*cos(Theta_2 + Theta_3) + 17179869184.0*cos(Theta_2).^4.*cos(Theta_3) - 5629642798.11594*cos(Theta_2).^4.*cos(Theta_2 + Theta_3) - 9.41414039475809e+25*cos(Theta_2).^4 + 4.02007243540948e+25*cos(Theta_2).^3.*cos(Theta_3).^3 - 4.60968305926954e+25*cos(Theta_2).^3.*cos(Theta_3).^2.*cos(Theta_2 + Theta_3) - 9.5014082131892e+25*cos(Theta_2).^3.*cos(Theta_3).^2 - 507550764.563672*cos(Theta_2).^3.*cos(Theta_3).*cos(Theta_2 + Theta_3).^2 - 25769803776.0*cos(Theta_2).^3.*cos(Theta_3).*cos(Theta_2 + Theta_3) - 1.41294081020912e+26*cos(Theta_2).^3.*cos(Theta_3) + 2891312930.21851*cos(Theta_2).^3.*cos(Theta_2 + Theta_3).^2 + 1.62017212903979e+26*cos(Theta_2).^3.*cos(Theta_2 + Theta_3) + 3.33947401062281e+26*cos(Theta_2).^3 + 1.50840229851192e+25*cos(Theta_2).^2.*cos(Theta_3).^4 - 5.188903906881e+25*cos(Theta_2).^2.*cos(Theta_3).^3.*cos(Theta_2 + Theta_3) - 4.32942934076525e+25*cos(Theta_2).^2.*cos(Theta_3).^3 + 2.97497157327844e+25*cos(Theta_2).^2.*cos(Theta_3).^2.*cos(Theta_2 + Theta_3).^2 + 1.22639318048176e+26*cos(Theta_2).^2.*cos(Theta_3).^2.*cos(Theta_2 + Theta_3) - 2.19501249178084e+25*cos(Theta_2).^2.*cos(Theta_3).^2 + 121760256.233692*cos(Theta_2).^2.*cos(Theta_3).*cos(Theta_2 + Theta_3).^3 + 8589934592.0*cos(Theta_2).^2.*cos(Theta_3).*cos(Theta_2 + Theta_3).^2 + 1.82375173783129e+26*cos(Theta_2).^2.*cos(Theta_3).*cos(Theta_2 + Theta_3) + 1.52167093970805e+26*cos(Theta_2).^2.*cos(Theta_3) - 1.49011611938477e-8*cos(Theta_2).^2.*cos(Theta_2 + Theta_3).^4 - 497868122.911836*cos(Theta_2).^2.*cos(Theta_2 + Theta_3).^3 - 1.04561766302327e+26*cos(Theta_2).^2.*cos(Theta_2 + Theta_3).^2 - 4.31042226702645e+26*cos(Theta_2).^2.*cos(Theta_2 + Theta_3) - 1.09187827740999e+26*cos(Theta_2).^2 - 28874475300.7394*cos(Theta_2).*cos(Theta_3).^5 - 1.29797902992255e+25*cos(Theta_2).*cos(Theta_3).^4.*cos(Theta_2 + Theta_3) + 4.20358416219077e+25*cos(Theta_2).*cos(Theta_3).^4 + 2.23252393146679e+25*cos(Theta_2).*cos(Theta_3).^3.*cos(Theta_2 + Theta_3).^2 + 3.72547065288121e+25*cos(Theta_2).*cos(Theta_3).^3.*cos(Theta_2 + Theta_3) - 1.79189959272707e+26*cos(Theta_2).*cos(Theta_3).^3 - 8.53320258249529e+24*cos(Theta_2).*cos(Theta_3).^2.*cos(Theta_2 + Theta_3).^3 - 5.27655199238204e+25*cos(Theta_2).*cos(Theta_3).^2.*cos(Theta_2 + Theta_3).^2 + 1.88880657869605e+25*cos(Theta_2).*cos(Theta_3).^2.*cos(Theta_2 + Theta_3) + 4.09538634724571e+25*cos(Theta_2).*cos(Theta_3).^2 - 342566291.476068*cos(Theta_2).*cos(Theta_3).*cos(Theta_2 + Theta_3).^4 - 3221225472.0*cos(Theta_2).*cos(Theta_3).*cos(Theta_2 + Theta_3).^3 - 7.84668491232452e+25*cos(Theta_2).*cos(Theta_3).*cos(Theta_2 + Theta_3).^2 - 1.30939668557392e+26*cos(Theta_2).*cos(Theta_3).*cos(Theta_2 + Theta_3) + 6.29801602593084e+26*cos(Theta_2).*cos(Theta_3) + 650635493.587801*cos(Theta_2).*cos(Theta_2 + Theta_3).^4 + 2.99917734426626e+25*cos(Theta_2).*cos(Theta_2 + Theta_3).^3 + 1.85455754019701e+26*cos(Theta_2).*cos(Theta_2 + Theta_3).^2 + 9.39560426753705e+25*cos(Theta_2).*cos(Theta_2 + Theta_3) - 6.63219156136074e+26*cos(Theta_2) - 7878181055.02445*cos(Theta_3).^6 + 9033647609.76137*cos(Theta_3).^5.*cos(Theta_2 + Theta_3) + 1.5772591449813e+25*cos(Theta_3).^5 + 2.79227491860219e+24*cos(Theta_3).^4.*cos(Theta_2 + Theta_3).^2 - 1.80859048624523e+25*cos(Theta_3).^4.*cos(Theta_2 + Theta_3) - 1.04513633306944e+26*cos(Theta_3).^4 - 3.20180857333051e+24*cos(Theta_3).^3.*cos(Theta_2 + Theta_3).^3 - 8.01441165397674e+24*cos(Theta_3).^3.*cos(Theta_2 + Theta_3).^2 + 7.70964117921662e+25*cos(Theta_3).^3.*cos(Theta_2 + Theta_3) + 1.742765588447e+26*cos(Theta_3).^3 + 9.17851791021412e+23*cos(Theta_3).^2.*cos(Theta_2 + Theta_3).^4 + 7.56744828967326e+24*cos(Theta_3).^2.*cos(Theta_2 + Theta_3).^3 - 4.06329155880011e+24*cos(Theta_3).^2.*cos(Theta_2 + Theta_3).^2 - 1.76203841753628e+25*cos(Theta_3).^2.*cos(Theta_2 + Theta_3) + 1.99993837025563e+26*cos(Theta_3).^2 + 147389016.555108*cos(Theta_3).*cos(Theta_2 + Theta_3).^5 + 2147483648.0*cos(Theta_3).*cos(Theta_2 + Theta_3).^4 + 1.12534439924222e+25*cos(Theta_3).*cos(Theta_2 + Theta_3).^3 + 2.81683712859911e+25*cos(Theta_3).*cos(Theta_2 + Theta_3).^2 - 2.70971899865141e+26*cos(Theta_3).*cos(Theta_2 + Theta_3) - 8.07374695946266e+26*cos(Theta_3) - 279935673.537958*cos(Theta_2 + Theta_3).^5 - 3.22598727782771e+24*cos(Theta_2 + Theta_3).^4 - 2.65974225326052e+25*cos(Theta_2 + Theta_3).^3 - 2.02122758045797e+25*cos(Theta_2 + Theta_3).^2 + 2.85349789561048e+26*cos(Theta_2 + Theta_3) + 5.88158621603104e+26)./(8.60060945478935e+29*cos(Theta_2).^6 - 137931031166431.0*cos(Theta_2).^5.*cos(Theta_3).^2 - 4.64011166259112e+29*cos(Theta_2).^5.*cos(Theta_3).*cos(Theta_2 + Theta_3) + 1.29084032973512e+30*cos(Theta_2).^5.*cos(Theta_3) - 13793103116643.1*cos(Theta_2).^5.*cos(Theta_2 + Theta_3).^2 - 1.48016357809627e+30*cos(Theta_2).^5.*cos(Theta_2 + Theta_3) - 3.05089052695436e+30*cos(Theta_2).^5 - 209182782042047.0*cos(Theta_2).^4.*cos(Theta_3).^3 - 6.96420794367251e+29*cos(Theta_2).^4.*cos(Theta_3).^2.*cos(Theta_2 + Theta_3) + 7.66271274625817e+29*cos(Theta_2).^4.*cos(Theta_3).^2 + 7.98562510874448e+29*cos(Theta_2).^4.*cos(Theta_3).*cos(Theta_2 + Theta_3).^2 - 2.01658492447337e+28*cos(Theta_2).^4.*cos(Theta_3).*cos(Theta_2 + Theta_3) - 1.39017445272203e+30*cos(Theta_2).^4.*cos(Theta_3) + 17803432102255.6*cos(Theta_2).^4.*cos(Theta_2 + Theta_3).^3 + 1.17522682767921e+30*cos(Theta_2).^4.*cos(Theta_2 + Theta_3).^2 + 3.9379334649146e+30*cos(Theta_2).^4.*cos(Theta_2 + Theta_3) + 6.63620374657862e+27*cos(Theta_2).^4 - 184976306608167.0*cos(Theta_2).^3.*cos(Theta_3).^4 - 2.61309402711808e+29*cos(Theta_2).^3.*cos(Theta_3).^3.*cos(Theta_2 + Theta_3) + 4.23133209916506e+29*cos(Theta_2).^3.*cos(Theta_3).^3 + 8.98904345328622e+29*cos(Theta_2).^3.*cos(Theta_3).^2.*cos(Theta_2 + Theta_3).^2 - 1.51959711598111e+29*cos(Theta_2).^3.*cos(Theta_3).^2.*cos(Theta_2 + Theta_3) + 3.49693850696665e+29*cos(Theta_2).^3.*cos(Theta_3).^2 - 5.15371824655077e+29*cos(Theta_2).^3.*cos(Theta_3).*cos(Theta_2 + Theta_3).^3 - 1.07755015225116e+30*cos(Theta_2).^3.*cos(Theta_3).*cos(Theta_2 + Theta_3).^2 + 6.58070957633736e+29*cos(Theta_2).^3.*cos(Theta_3).*cos(Theta_2 + Theta_3) - 7.24096017756792e+30*cos(Theta_2).^3.*cos(Theta_3) - 11108195666638.7*cos(Theta_2).^3.*cos(Theta_2 + Theta_3).^4 - 6.5256313859888e+29*cos(Theta_2).^3.*cos(Theta_2 + Theta_3).^3 - 2.47458274305283e+30*cos(Theta_2).^3.*cos(Theta_2 + Theta_3).^2 + 8.46946617727849e+29*cos(Theta_2).^3.*cos(Theta_2 + Theta_3) + 9.57403249804565e+30*cos(Theta_2).^3 - 79301850742024.6*cos(Theta_2).^2.*cos(Theta_3).^5 + 795780674166642.0*cos(Theta_2).^2.*cos(Theta_3).^4.*cos(Theta_2 + Theta_3) + 1.58767066183416e+29*cos(Theta_2).^2.*cos(Theta_3).^4 + 2.24856542167908e+29*cos(Theta_2).^2.*cos(Theta_3).^3.*cos(Theta_2 + Theta_3).^2 - 1.27437031789889e+30*cos(Theta_2).^2.*cos(Theta_3).^3.*cos(Theta_2 + Theta_3) + 5.07613691045112e+28*cos(Theta_2).^2.*cos(Theta_3).^3 - 3.86753252528802e+29*cos(Theta_2).^2.*cos(Theta_3).^2.*cos(Theta_2 + Theta_3).^3 - 1.18719404900806e+29*cos(Theta_2).^2.*cos(Theta_3).^2.*cos(Theta_2 + Theta_3).^2 + 3.81431850183081e+30*cos(Theta_2).^2.*cos(Theta_3).^2.*cos(Theta_2 + Theta_3) - 3.5869562554189e+30*cos(Theta_2).^2.*cos(Theta_3).^2 + 1.47825687633231e+29*cos(Theta_2).^2.*cos(Theta_3).*cos(Theta_2 + Theta_3).^4 + 3.85147797031254e+29*cos(Theta_2).^2.*cos(Theta_3).*cos(Theta_2 + Theta_3).^3 - 1.4979188104397e+29*cos(Theta_2).^2.*cos(Theta_3).*cos(Theta_2 + Theta_3).^2 + 1.12622443129454e+30*cos(Theta_2).^2.*cos(Theta_3).*cos(Theta_2 + Theta_3) + 8.97768384308939e+30*cos(Theta_2).^2.*cos(Theta_3) + 5549417231181.82*cos(Theta_2).^2.*cos(Theta_2 + Theta_3).^5 + 2.73787020776404e+29*cos(Theta_2).^2.*cos(Theta_2 + Theta_3).^4 + 1.25014615723435e+30*cos(Theta_2).^2.*cos(Theta_2 + Theta_3).^3 - 6.60786000796847e+29*cos(Theta_2).^2.*cos(Theta_2 + Theta_3).^2 - 7.14385061603073e+30*cos(Theta_2).^2.*cos(Theta_2 + Theta_3) - 6.52258174664405e+30*cos(Theta_2).^2 + 0.13802890479198*cos(Theta_2).*cos(Theta_3).^6 + 204717546636083.0*cos(Theta_2).*cos(Theta_3).^5.*cos(Theta_2 + Theta_3) - 497338902924683.0*cos(Theta_2).*cos(Theta_3).^5 - 308108424601980.0*cos(Theta_2).*cos(Theta_3).^4.*cos(Theta_2 + Theta_3).^2 - 4.09856818870605e+29*cos(Theta_2).*cos(Theta_3).^4.*cos(Theta_2 + Theta_3) + 4.42448758891779e+29*cos(Theta_2).*cos(Theta_3).^4 - 4.83722208529461e+28*cos(Theta_2).*cos(Theta_3).^3.*cos(Theta_2 + Theta_3).^3 + 5.48297344355786e+29*cos(Theta_2).*cos(Theta_3).^3.*cos(Theta_2 + Theta_3).^2 + 2.20267600921583e+30*cos(Theta_2).*cos(Theta_3).^3.*cos(Theta_2 + Theta_3) - 1.8860660813975e+30*cos(Theta_2).*cos(Theta_3).^3 + 5.54668132447116e+28*cos(Theta_2).*cos(Theta_3).^2.*cos(Theta_2 + Theta_3).^4 - 5.75724682377442e+28*cos(Theta_2).*cos(Theta_3).^2.*cos(Theta_2 + Theta_3).^3 - 1.54575779786016e+30*cos(Theta_2).*cos(Theta_3).^2.*cos(Theta_2 + Theta_3).^2 - 3.78064199426553e+30*cos(Theta_2).*cos(Theta_3).^2.*cos(Theta_2 + Theta_3) + 4.31060384806668e+29*cos(Theta_2).*cos(Theta_3).^2 - 1.5900486463484e+28*cos(Theta_2).*cos(Theta_3).*cos(Theta_2 + Theta_3).^5 + 5.22471967935556e+28*cos(Theta_2).*cos(Theta_3).*cos(Theta_2 + Theta_3).^4 + 2.06324710672498e+29*cos(Theta_2).*cos(Theta_3).*cos(Theta_2 + Theta_3).^3 - 8.91020128362002e+29*cos(Theta_2).*cos(Theta_3).*cos(Theta_2 + Theta_3).^2 + 1.52075297440878e+30*cos(Theta_2).*cos(Theta_3).*cos(Theta_2 + Theta_3) + 6.62898437770632e+30*cos(Theta_2).*cos(Theta_3) - 1914979971869.48*cos(Theta_2).*cos(Theta_2 + Theta_3).^6 - 7.00775987036737e+28*cos(Theta_2).*cos(Theta_2 + Theta_3).^5 - 4.33328623674947e+29*cos(Theta_2).*cos(Theta_2 + Theta_3).^4 + 9.61447783016488e+28*cos(Theta_2).*cos(Theta_2 + Theta_3).^3 + 3.50166858557136e+30*cos(Theta_2).*cos(Theta_2 + Theta_3).^2 + 9.88935462408713e+29*cos(Theta_2).*cos(Theta_2 + Theta_3) - 6.9807212412925e+30*cos(Theta_2) + 0.0414182833558749*cos(Theta_3).^7 - 0.0712394473721048*cos(Theta_3).^6.*cos(Theta_2 + Theta_3) - 165843779766439.0*cos(Theta_3).^6 - 14679941090260.8*cos(Theta_3).^5.*cos(Theta_2 + Theta_3).^2 + 237709417665230.0*cos(Theta_3).^5.*cos(Theta_2 + Theta_3) + 1.66014601878219e+29*cos(Theta_3).^5 + 25249498675248.6*cos(Theta_3).^4.*cos(Theta_2 + Theta_3).^3 + 2.93901233935638e+28*cos(Theta_3).^4.*cos(Theta_2 + Theta_3).^2 - 1.90363410153691e+29*cos(Theta_3).^4.*cos(Theta_2 + Theta_3) - 1.10005951016401e+30*cos(Theta_3).^4 - 14441148587914.8*cos(Theta_3).^3.*cos(Theta_2 + Theta_3).^4 - 3.370067482462e+28*cos(Theta_3).^3.*cos(Theta_2 + Theta_3).^3 + 4.51741668507492e+28*cos(Theta_3).^3.*cos(Theta_2 + Theta_3).^2 + 8.11479213840119e+29*cos(Theta_3).^3.*cos(Theta_2 + Theta_3) + 1.83435002582608e+30*cos(Theta_3).^3 + 3704443832897.66*cos(Theta_3).^2.*cos(Theta_2 + Theta_3).^5 + 3.25919834929226e+28*cos(Theta_3).^2.*cos(Theta_2 + Theta_3).^4 - 6.8876411662742e+28*cos(Theta_3).^2.*cos(Theta_2 + Theta_3).^3 - 9.01070178808827e+29*cos(Theta_3).^2.*cos(Theta_2 + Theta_3).^2 - 1.85463566537052e+29*cos(Theta_3).^2.*cos(Theta_2 + Theta_3) + 2.10503754804919e+30*cos(Theta_3).^2 - 1028302512235.38*cos(Theta_3).*cos(Theta_2 + Theta_3).^6 - 2.62943548050896e+28*cos(Theta_3).*cos(Theta_2 + Theta_3).^5 - 6.58171089112003e+28*cos(Theta_3).*cos(Theta_2 + Theta_3).^4 + 7.5159054871448e+29*cos(Theta_3).*cos(Theta_2 + Theta_3).^3 + 2.18296650503942e+30*cos(Theta_3).*cos(Theta_2 + Theta_3).^2 - 2.85211800606355e+30*cos(Theta_3).*cos(Theta_2 + Theta_3) - 8.49803211733198e+30*cos(Theta_3) + 274639801404.481*cos(Theta_2 + Theta_3).^7 + 7.53771504412567e+27*cos(Theta_2 + Theta_3).^6 + 6.21464918156732e+28*cos(Theta_2 + Theta_3).^5 + 1.32720409311891e+28*cos(Theta_2 + Theta_3).^4 - 9.46688592032348e+29*cos(Theta_2 + Theta_3).^3 - 1.58701286505947e+30*cos(Theta_2 + Theta_3).^2 + 3.00345265777948e+30*cos(Theta_2 + Theta_3) + 6.19067067814265e+30);\n",
            "    dy(5) = -(-11337.4129783759*Omega_1.^2.*sin(Theta_3) + 6500.11677426882*Omega_1.^2.*sin(Theta_2 + Theta_3) - 22674.8259567517*Omega_1.*Omega_2.*sin(Theta_3) - 11337.4129783759*Omega_2.^2.*sin(Theta_3) + Omega_3.*c + 24308.3764659871*Theta_3 + 0.982*p_2.*sin(Theta_1 + Theta_2).*cos(Theta_1 + Theta_2 + Theta_3) - 0.982*p_2.*sin(Theta_1 + Theta_2 + Theta_3).*cos(Theta_1 + Theta_2) + 101.30631*sin(Theta_1 + Theta_2).^2.*cos(Theta_1 + Theta_2 + Theta_3) - 25.3265775*cos(Theta_1 + Theta_2 - Theta_3) + 29649.6024210485*cos(Theta_1 + Theta_2 + Theta_3) + 25.3265775*cos(3*Theta_1 + 3*Theta_2 + Theta_3)).*(-1.18126304565385e+21*cos(Theta_2).^4.*cos(Theta_3) - 6.77257479508209e+20*cos(Theta_2).^4.*cos(Theta_2 + Theta_3) + 1.88407377178455e+21*cos(Theta_2).^4 - 8.86461585874368e+20*cos(Theta_2).^3.*cos(Theta_3).^2 + 5.08237975901305e+20*cos(Theta_2).^3.*cos(Theta_3).*cos(Theta_2 + Theta_3) + 4.33200012986064e+21*cos(Theta_2).^3.*cos(Theta_3) + 1.16555909140033e+21*cos(Theta_2).^3.*cos(Theta_2 + Theta_3).^2 - 1.10681002436301e+20*cos(Theta_2).^3.*cos(Theta_2 + Theta_3) - 4.65430783426078e+21*cos(Theta_2).^3 + 1079944.59005953*cos(Theta_2).^2.*cos(Theta_3).^3 + 3.81399760008298e+20*cos(Theta_2).^2.*cos(Theta_3).^2.*cos(Theta_2 + Theta_3) - 6.17593178962957e+20*cos(Theta_2).^2.*cos(Theta_3).^2 + 6.56007587214271e+20*cos(Theta_2).^2.*cos(Theta_3).*cos(Theta_2 + Theta_3).^2 - 3.04804367786691e+21*cos(Theta_2).^2.*cos(Theta_3).*cos(Theta_2 + Theta_3) + 1.87135044198578e+21*cos(Theta_2).^2.*cos(Theta_3) - 7.52222033339031e+20*cos(Theta_2).^2.*cos(Theta_2 + Theta_3).^3 - 1.94975752509251e+21*cos(Theta_2).^2.*cos(Theta_2 + Theta_3).^2 + 3.92838683384976e+21*cos(Theta_2).^2.*cos(Theta_2 + Theta_3) - 1.4136348774609e+21*cos(Theta_2).^2 + 462986.888758523*cos(Theta_2).*cos(Theta_3).^4 + 464645.748935292*cos(Theta_2).*cos(Theta_3).^3.*cos(Theta_2 + Theta_3) - 9.2692754736208e+20*cos(Theta_2).*cos(Theta_3).^3 + 1.64097101614285e+20*cos(Theta_2).*cos(Theta_3).^2.*cos(Theta_2 + Theta_3).^2 - 1.06287692097518e+21*cos(Theta_2).*cos(Theta_3).^2.*cos(Theta_2 + Theta_3) + 6.29026269506563e+21*cos(Theta_2).*cos(Theta_3).^2 - 4.70411691294284e+20*cos(Theta_2).*cos(Theta_3).*cos(Theta_2 + Theta_3).^3 + 2.17088096116613e+20*cos(Theta_2).*cos(Theta_3).*cos(Theta_2 + Theta_3).^2 + 4.69255500032867e+21*cos(Theta_2).*cos(Theta_3).*cos(Theta_2 + Theta_3) - 1.34701189821558e+22*cos(Theta_2).*cos(Theta_3) + 2.15762162406978e+20*cos(Theta_2).*cos(Theta_2 + Theta_3).^4 + 1.13899859544828e+21*cos(Theta_2).*cos(Theta_2 + Theta_3).^3 - 7.95630995939731e+20*cos(Theta_2).*cos(Theta_2 + Theta_3).^2 - 5.00333356076523e+21*cos(Theta_2).*cos(Theta_2 + Theta_3) + 9.2434500296059e+21*cos(Theta_2) + 199199.932713739*cos(Theta_3).^4.*cos(Theta_2 + Theta_3) - 322560.558746046*cos(Theta_3).^4 - 228415.922845088*cos(Theta_3).^3.*cos(Theta_2 + Theta_3).^2 - 3.98810224540378e+20*cos(Theta_3).^3.*cos(Theta_2 + Theta_3) + 6.45785603985337e+20*cos(Theta_3).^3 - 7.06027155277267e+19*cos(Theta_3).^2.*cos(Theta_2 + Theta_3).^3 + 5.71627988507874e+20*cos(Theta_3).^2.*cos(Theta_2 + Theta_3).^2 + 2.20862420197086e+21*cos(Theta_3).^2.*cos(Theta_2 + Theta_3) - 3.78285406311109e+21*cos(Theta_3).^2 + 8.09577804717933e+19*cos(Theta_3).*cos(Theta_2 + Theta_3).^4 + 1.25811218799222e+20*cos(Theta_3).*cos(Theta_2 + Theta_3).^3 - 2.36538454457375e+21*cos(Theta_3).*cos(Theta_2 + Theta_3).^2 - 4.24276622878497e+21*cos(Theta_3).*cos(Theta_2 + Theta_3) + 7.289613705018e+21*cos(Theta_3) - 2.32078970685807e+19*cos(Theta_2 + Theta_3).^5 - 1.84872048191667e+20*cos(Theta_2 + Theta_3).^4 - 1.41874738257259e+19*cos(Theta_2 + Theta_3).^3 + 2.41436700648283e+21*cos(Theta_2 + Theta_3).^2 + 2.82344312339923e+21*cos(Theta_2 + Theta_3) - 4.62367041763029e+21)./(-2.84641728275484e+25*cos(Theta_2).^5 + 4564900580.64078*cos(Theta_2).^4.*cos(Theta_3).^2 + 1.5356695475757e+25*cos(Theta_2).^4.*cos(Theta_3).*cos(Theta_2 + Theta_3) - 2.13605224324477e+25*cos(Theta_2).^4.*cos(Theta_3) + 456490058.064078*cos(Theta_2).^4.*cos(Theta_2 + Theta_3).^2 + 3.67400985838101e+25*cos(Theta_2).^4.*cos(Theta_2 + Theta_3) + 5.04854194889645e+25*cos(Theta_2).^4 + 3497352124.91947*cos(Theta_2).^3.*cos(Theta_3).^3 + 1.15242076481738e+25*cos(Theta_2).^3.*cos(Theta_3).^2.*cos(Theta_2 + Theta_3) - 9.33046213284191e+24*cos(Theta_2).^3.*cos(Theta_3).^2 - 1.9821637154859e+25*cos(Theta_2).^3.*cos(Theta_3).*cos(Theta_2 + Theta_3).^2 - 8.85665691412648e+24*cos(Theta_2).^3.*cos(Theta_3).*cos(Theta_2 + Theta_3) - 2.97635298891214e+25*cos(Theta_2).^3.*cos(Theta_3) - 392809347.559224*cos(Theta_2).^3.*cos(Theta_2 + Theta_3).^3 - 2.30873413031441e+25*cos(Theta_2).^3.*cos(Theta_2 + Theta_3).^2 - 4.34426650490824e+25*cos(Theta_2).^3.*cos(Theta_2 + Theta_3) + 8.93237280306429e+25*cos(Theta_2).^3 + 3497352124.91947*cos(Theta_2).^2.*cos(Theta_3).^4 - 21059297835.3804*cos(Theta_2).^2.*cos(Theta_3).^3.*cos(Theta_2 + Theta_3) - 7.00190892253096e+24*cos(Theta_2).^2.*cos(Theta_3).^3 - 9.91657191092813e+24*cos(Theta_2).^2.*cos(Theta_3).^2.*cos(Theta_2 + Theta_3).^2 + 2.81009944757577e+25*cos(Theta_2).^2.*cos(Theta_3).^2.*cos(Theta_2 + Theta_3) - 5.78665166421307e+24*cos(Theta_2).^2.*cos(Theta_3).^2 + 8.5282518433982e+24*cos(Theta_2).^2.*cos(Theta_3).*cos(Theta_2 + Theta_3).^3 + 1.40204734308719e+25*cos(Theta_2).^2.*cos(Theta_3).*cos(Theta_2 + Theta_3).^2 - 1.769263222201e+25*cos(Theta_2).^2.*cos(Theta_3).*cos(Theta_2 + Theta_3) + 1.19821707412208e+26*cos(Theta_2).^2.*cos(Theta_3) + 198625550.674281*cos(Theta_2).^2.*cos(Theta_2 + Theta_3).^4 + 1.16636031233599e+25*cos(Theta_2).^2.*cos(Theta_2 + Theta_3).^3 + 2.22576236050695e+25*cos(Theta_2).^2.*cos(Theta_2 + Theta_3).^2 - 6.66506375080854e+25*cos(Theta_2).^2.*cos(Theta_2 + Theta_3) - 1.58428839905747e+26*cos(Theta_2).^2 - 3.65323936200199e-6*cos(Theta_2).*cos(Theta_3).^5 - 9028406525.65742*cos(Theta_2).*cos(Theta_3).^4.*cos(Theta_2 + Theta_3) + 12187178621.7718*cos(Theta_2).*cos(Theta_3).^4 + 7549126622.75768*cos(Theta_2).*cos(Theta_3).^3.*cos(Theta_2 + Theta_3).^2 + 1.80754118974203e+25*cos(Theta_2).*cos(Theta_3).^3.*cos(Theta_2 + Theta_3) - 9.75638709941306e+24*cos(Theta_2).*cos(Theta_3).^3 + 2.13330064562382e+24*cos(Theta_2).*cos(Theta_3).^2.*cos(Theta_2 + Theta_3).^3 - 1.20904421802745e+25*cos(Theta_2).*cos(Theta_3).^2.*cos(Theta_2 + Theta_3).^2 - 6.56081508903026e+25*cos(Theta_2).*cos(Theta_3).^2.*cos(Theta_2 + Theta_3) + 1.85302871123376e+25*cos(Theta_2).*cos(Theta_3).^2 - 1.22309237015766e+24*cos(Theta_2).*cos(Theta_3).*cos(Theta_2 + Theta_3).^4 - 3.41031877978699e+23*cos(Theta_2).*cos(Theta_3).*cos(Theta_2 + Theta_3).^3 + 5.50966795001893e+24*cos(Theta_2).*cos(Theta_3).*cos(Theta_2 + Theta_3).^2 + 3.29167467904989e+25*cos(Theta_2).*cos(Theta_3).*cos(Theta_2 + Theta_3) + 3.42909181723596e+25*cos(Theta_2).*cos(Theta_3) - 98202336.889806*cos(Theta_2).*cos(Theta_2 + Theta_3).^5 - 4.04286575556694e+24*cos(Theta_2).*cos(Theta_2 + Theta_3).^4 - 1.11107907422604e+25*cos(Theta_2).*cos(Theta_2 + Theta_3).^3 + 3.26698381747576e+25*cos(Theta_2).*cos(Theta_2 + Theta_3).^2 + 5.00508131238759e+25*cos(Theta_2).*cos(Theta_2 + Theta_3) - 6.51286744370491e+25*cos(Theta_2) - 1.82661968100099e-6*cos(Theta_3).^6 + 2.09452390088114e-6*cos(Theta_3).^5.*cos(Theta_2 + Theta_3) + 7314004530.07919*cos(Theta_3).^5 + 647411412.032898*cos(Theta_3).^4.*cos(Theta_2 + Theta_3).^2 - 6290043895.86811*cos(Theta_3).^4.*cos(Theta_2 + Theta_3) - 7.32153808787166e+24*cos(Theta_3).^4 - 742365085.797723*cos(Theta_3).^3.*cos(Theta_2 + Theta_3).^3 - 1.29615651514241e+24*cos(Theta_3).^3.*cos(Theta_2 + Theta_3).^2 + 4.19768183704642e+24*cos(Theta_3).^3.*cos(Theta_2 + Theta_3) + 3.12101782945045e+25*cos(Theta_3).^3 + 211257590.395655*cos(Theta_3).^2.*cos(Theta_2 + Theta_3).^4 + 7.43129735348314e+23*cos(Theta_3).^2.*cos(Theta_2 + Theta_3).^3 - 2.64904516544204e+24*cos(Theta_3).^2.*cos(Theta_2 + Theta_3).^2 - 7.97264897898469e+24*cos(Theta_3).^2.*cos(Theta_2 + Theta_3) - 7.13308594974865e+24*cos(Theta_3).^2 - 42251518.0791309*cos(Theta_3).*cos(Theta_2 + Theta_3).^5 - 1.01130317032063e+24*cos(Theta_3).*cos(Theta_2 + Theta_3).^4 + 3.2751669263769e+24*cos(Theta_3).*cos(Theta_2 + Theta_3).^3 + 2.89068094780122e+25*cos(Theta_3).*cos(Theta_2 + Theta_3).^2 - 1.47536544953631e+25*cos(Theta_3).*cos(Theta_2 + Theta_3) - 1.09694875688767e+26*cos(Theta_3) + 21125759.0395655*cos(Theta_2 + Theta_3).^6 + 5.79813817650496e+23*cos(Theta_2 + Theta_3).^5 + 2.3902067445036e+24*cos(Theta_2 + Theta_3).^4 - 8.8324072789257e+24*cos(Theta_2 + Theta_3).^3 - 3.64104455699889e+25*cos(Theta_2 + Theta_3).^2 + 2.80215873939397e+25*cos(Theta_2 + Theta_3) + 1.15515334650173e+26) - (-15107.7804138146*Omega_1.^2.*sin(Theta_2) + 6500.11677426882*Omega_1.^2.*sin(Theta_2 + Theta_3) + 22674.8259567517*Omega_1.*Omega_3.*sin(Theta_3) + 22674.8259567517*Omega_2.*Omega_3.*sin(Theta_3) + Omega_2.*c + 11337.4129783759*Omega_3.^2.*sin(Theta_3) + 24308.3764659871*Theta_2 + 0.982*p_1.*sin(Theta_1).*cos(Theta_1 + Theta_2) - 0.982*p_1.*sin(Theta_1 + Theta_2).*cos(Theta_1) + 0.982*p_2.*sin(Theta_1 + Theta_2).*cos(Theta_1 + Theta_2 + Theta_3) - 0.982*p_2.*sin(Theta_1 + Theta_2 + Theta_3).*cos(Theta_1 + Theta_2) - 101.30631*sin(Theta_1).^2.*cos(Theta_1 + Theta_2) + 101.30631*sin(Theta_1 + Theta_2).^2.*cos(Theta_1 + Theta_2 + Theta_3) + 25.3265775*cos(Theta_1 - Theta_2) - 68912.5593108276*cos(Theta_1 + Theta_2) - 25.3265775*cos(3*Theta_1 + Theta_2) - 25.3265775*cos(Theta_1 + Theta_2 - Theta_3) + 29649.6024210485*cos(Theta_1 + Theta_2 + Theta_3) + 25.3265775*cos(3*Theta_1 + 3*Theta_2 + Theta_3)).*(-3.7681475435691e+21*cos(Theta_2).^4 - 8.86461585874368e+20*cos(Theta_2).^3.*cos(Theta_3).^2 + 1.01647595180261e+21*cos(Theta_2).^3.*cos(Theta_3).*cos(Theta_2 + Theta_3) - 2.82775124437414e+21*cos(Theta_2).^3.*cos(Theta_3) - 2.91389772850081e+20*cos(Theta_2).^3.*cos(Theta_2 + Theta_3).^2 + 4.86373214032353e+21*cos(Theta_2).^3.*cos(Theta_2 + Theta_3) + 1.11116509244178e+22*cos(Theta_2).^3 - 6.65232139549355e+20*cos(Theta_2).^2.*cos(Theta_3).^3 + 1.90699880004149e+21*cos(Theta_2).^2.*cos(Theta_3).^2.*cos(Theta_2 + Theta_3) + 1.57227070306455e+21*cos(Theta_2).^2.*cos(Theta_3).^2 - 1.53068437016663e+21*cos(Theta_2).^2.*cos(Theta_3).*cos(Theta_2 + Theta_3).^2 + 6.30407387585579e+20*cos(Theta_2).^2.*cos(Theta_3).*cos(Theta_2 + Theta_3) - 6.17018140529128e+20*cos(Theta_2).^2.*cos(Theta_3) + 3.76111016669515e+20*cos(Theta_2).^2.*cos(Theta_2 + Theta_3).^3 - 1.57579605286719e+21*cos(Theta_2).^2.*cos(Theta_2 + Theta_3).^2 - 1.14668346968686e+22*cos(Theta_2).^2.*cos(Theta_2 + Theta_3) - 3.70679885097796e+20*cos(Theta_2).^2 + 810428.631863881*cos(Theta_2).*cos(Theta_3).^4 + 5.72431749817273e+20*cos(Theta_2).*cos(Theta_3).^3.*cos(Theta_2 + Theta_3) - 9.26927547362077e+20*cos(Theta_2).*cos(Theta_3).^3 - 1.1486797113e+21*cos(Theta_2).*cos(Theta_3).^2.*cos(Theta_2 + Theta_3).^2 - 2.90060822458814e+20*cos(Theta_2).*cos(Theta_3).^2.*cos(Theta_2 + Theta_3) - 1.196323172607e+21*cos(Theta_2).*cos(Theta_3).^2 + 7.52658706070855e+20*cos(Theta_2).*cos(Theta_3).*cos(Theta_2 + Theta_3).^3 + 7.23218806026526e+20*cos(Theta_2).*cos(Theta_3).*cos(Theta_2 + Theta_3).^2 - 3.18302842654676e+21*cos(Theta_2).*cos(Theta_3).*cos(Theta_2 + Theta_3) + 1.72347958636121e+22*cos(Theta_2).*cos(Theta_3) - 1.61821621805234e+20*cos(Theta_2).*cos(Theta_2 + Theta_3).^4 - 1.44609506714248e+20*cos(Theta_2).*cos(Theta_2 + Theta_3).^3 + 4.27511133420893e+21*cos(Theta_2).*cos(Theta_2 + Theta_3).^2 + 3.53875857957737e+21*cos(Theta_2).*cos(Theta_2 + Theta_3) - 2.20677260129256e+22*cos(Theta_2) + 347441.743105359*cos(Theta_3).^5 - 597599.798141217*cos(Theta_3).^4.*cos(Theta_2 + Theta_3) - 6.95599228849496e+20*cos(Theta_3).^4 - 1.2314427126929e+20*cos(Theta_3).^3.*cos(Theta_2 + Theta_3).^2 + 1.19643067362113e+21*cos(Theta_3).^3.*cos(Theta_2 + Theta_3) + 2.9651933368858e+21*cos(Theta_3).^3 + 2.1180814658318e+20*cos(Theta_3).^2.*cos(Theta_2 + Theta_3).^3 - 3.94903111561457e+20*cos(Theta_3).^2.*cos(Theta_2 + Theta_3).^2 - 4.15754784629842e+21*cos(Theta_3).^2.*cos(Theta_2 + Theta_3) + 3.52310832314291e+20*cos(Theta_3).^2 - 1.2143667070769e+20*cos(Theta_3).*cos(Theta_2 + Theta_3).^4 - 2.02644525565225e+20*cos(Theta_3).*cos(Theta_2 + Theta_3).^3 + 2.45840791536495e+21*cos(Theta_3).*cos(Theta_2 + Theta_3).^2 + 1.58825773732355e+21*cos(Theta_3).*cos(Theta_2 + Theta_3) - 1.48125069428706e+22*cos(Theta_3) + 2.32078970685807e+19*cos(Theta_2 + Theta_3).^5 + 9.56715249109576e+19*cos(Theta_2 + Theta_3).^4 - 6.01678444039689e+20*cos(Theta_2 + Theta_3).^3 - 2.48034081145852e+21*cos(Theta_2 + Theta_3).^2 + 3.783859138513e+21*cos(Theta_2 + Theta_3) + 1.55984651586504e+22)./(-2.84641728275484e+25*cos(Theta_2).^5 + 4564900580.64078*cos(Theta_2).^4.*cos(Theta_3).^2 + 1.5356695475757e+25*cos(Theta_2).^4.*cos(Theta_3).*cos(Theta_2 + Theta_3) - 2.13605224324477e+25*cos(Theta_2).^4.*cos(Theta_3) + 456490058.064078*cos(Theta_2).^4.*cos(Theta_2 + Theta_3).^2 + 3.67400985838101e+25*cos(Theta_2).^4.*cos(Theta_2 + Theta_3) + 5.04854194889645e+25*cos(Theta_2).^4 + 3497352124.91947*cos(Theta_2).^3.*cos(Theta_3).^3 + 1.15242076481738e+25*cos(Theta_2).^3.*cos(Theta_3).^2.*cos(Theta_2 + Theta_3) - 9.33046213284191e+24*cos(Theta_2).^3.*cos(Theta_3).^2 - 1.9821637154859e+25*cos(Theta_2).^3.*cos(Theta_3).*cos(Theta_2 + Theta_3).^2 - 8.85665691412648e+24*cos(Theta_2).^3.*cos(Theta_3).*cos(Theta_2 + Theta_3) - 2.97635298891214e+25*cos(Theta_2).^3.*cos(Theta_3) - 392809347.559224*cos(Theta_2).^3.*cos(Theta_2 + Theta_3).^3 - 2.30873413031441e+25*cos(Theta_2).^3.*cos(Theta_2 + Theta_3).^2 - 4.34426650490824e+25*cos(Theta_2).^3.*cos(Theta_2 + Theta_3) + 8.93237280306429e+25*cos(Theta_2).^3 + 3497352124.91947*cos(Theta_2).^2.*cos(Theta_3).^4 - 21059297835.3804*cos(Theta_2).^2.*cos(Theta_3).^3.*cos(Theta_2 + Theta_3) - 7.00190892253096e+24*cos(Theta_2).^2.*cos(Theta_3).^3 - 9.91657191092813e+24*cos(Theta_2).^2.*cos(Theta_3).^2.*cos(Theta_2 + Theta_3).^2 + 2.81009944757577e+25*cos(Theta_2).^2.*cos(Theta_3).^2.*cos(Theta_2 + Theta_3) - 5.78665166421307e+24*cos(Theta_2).^2.*cos(Theta_3).^2 + 8.5282518433982e+24*cos(Theta_2).^2.*cos(Theta_3).*cos(Theta_2 + Theta_3).^3 + 1.40204734308719e+25*cos(Theta_2).^2.*cos(Theta_3).*cos(Theta_2 + Theta_3).^2 - 1.769263222201e+25*cos(Theta_2).^2.*cos(Theta_3).*cos(Theta_2 + Theta_3) + 1.19821707412208e+26*cos(Theta_2).^2.*cos(Theta_3) + 198625550.674281*cos(Theta_2).^2.*cos(Theta_2 + Theta_3).^4 + 1.16636031233599e+25*cos(Theta_2).^2.*cos(Theta_2 + Theta_3).^3 + 2.22576236050695e+25*cos(Theta_2).^2.*cos(Theta_2 + Theta_3).^2 - 6.66506375080854e+25*cos(Theta_2).^2.*cos(Theta_2 + Theta_3) - 1.58428839905747e+26*cos(Theta_2).^2 - 3.65323936200199e-6*cos(Theta_2).*cos(Theta_3).^5 - 9028406525.65742*cos(Theta_2).*cos(Theta_3).^4.*cos(Theta_2 + Theta_3) + 12187178621.7718*cos(Theta_2).*cos(Theta_3).^4 + 7549126622.75768*cos(Theta_2).*cos(Theta_3).^3.*cos(Theta_2 + Theta_3).^2 + 1.80754118974203e+25*cos(Theta_2).*cos(Theta_3).^3.*cos(Theta_2 + Theta_3) - 9.75638709941306e+24*cos(Theta_2).*cos(Theta_3).^3 + 2.13330064562382e+24*cos(Theta_2).*cos(Theta_3).^2.*cos(Theta_2 + Theta_3).^3 - 1.20904421802745e+25*cos(Theta_2).*cos(Theta_3).^2.*cos(Theta_2 + Theta_3).^2 - 6.56081508903026e+25*cos(Theta_2).*cos(Theta_3).^2.*cos(Theta_2 + Theta_3) + 1.85302871123376e+25*cos(Theta_2).*cos(Theta_3).^2 - 1.22309237015766e+24*cos(Theta_2).*cos(Theta_3).*cos(Theta_2 + Theta_3).^4 - 3.41031877978699e+23*cos(Theta_2).*cos(Theta_3).*cos(Theta_2 + Theta_3).^3 + 5.50966795001893e+24*cos(Theta_2).*cos(Theta_3).*cos(Theta_2 + Theta_3).^2 + 3.29167467904989e+25*cos(Theta_2).*cos(Theta_3).*cos(Theta_2 + Theta_3) + 3.42909181723596e+25*cos(Theta_2).*cos(Theta_3) - 98202336.889806*cos(Theta_2).*cos(Theta_2 + Theta_3).^5 - 4.04286575556694e+24*cos(Theta_2).*cos(Theta_2 + Theta_3).^4 - 1.11107907422604e+25*cos(Theta_2).*cos(Theta_2 + Theta_3).^3 + 3.26698381747576e+25*cos(Theta_2).*cos(Theta_2 + Theta_3).^2 + 5.00508131238759e+25*cos(Theta_2).*cos(Theta_2 + Theta_3) - 6.51286744370491e+25*cos(Theta_2) - 1.82661968100099e-6*cos(Theta_3).^6 + 2.09452390088114e-6*cos(Theta_3).^5.*cos(Theta_2 + Theta_3) + 7314004530.07919*cos(Theta_3).^5 + 647411412.032898*cos(Theta_3).^4.*cos(Theta_2 + Theta_3).^2 - 6290043895.86811*cos(Theta_3).^4.*cos(Theta_2 + Theta_3) - 7.32153808787166e+24*cos(Theta_3).^4 - 742365085.797723*cos(Theta_3).^3.*cos(Theta_2 + Theta_3).^3 - 1.29615651514241e+24*cos(Theta_3).^3.*cos(Theta_2 + Theta_3).^2 + 4.19768183704642e+24*cos(Theta_3).^3.*cos(Theta_2 + Theta_3) + 3.12101782945045e+25*cos(Theta_3).^3 + 211257590.395655*cos(Theta_3).^2.*cos(Theta_2 + Theta_3).^4 + 7.43129735348314e+23*cos(Theta_3).^2.*cos(Theta_2 + Theta_3).^3 - 2.64904516544204e+24*cos(Theta_3).^2.*cos(Theta_2 + Theta_3).^2 - 7.97264897898469e+24*cos(Theta_3).^2.*cos(Theta_2 + Theta_3) - 7.13308594974865e+24*cos(Theta_3).^2 - 42251518.0791309*cos(Theta_3).*cos(Theta_2 + Theta_3).^5 - 1.01130317032063e+24*cos(Theta_3).*cos(Theta_2 + Theta_3).^4 + 3.2751669263769e+24*cos(Theta_3).*cos(Theta_2 + Theta_3).^3 + 2.89068094780122e+25*cos(Theta_3).*cos(Theta_2 + Theta_3).^2 - 1.47536544953631e+25*cos(Theta_3).*cos(Theta_2 + Theta_3) - 1.09694875688767e+26*cos(Theta_3) + 21125759.0395655*cos(Theta_2 + Theta_3).^6 + 5.79813817650496e+23*cos(Theta_2 + Theta_3).^5 + 2.3902067445036e+24*cos(Theta_2 + Theta_3).^4 - 8.8324072789257e+24*cos(Theta_2 + Theta_3).^3 - 3.64104455699889e+25*cos(Theta_2 + Theta_3).^2 + 2.80215873939397e+25*cos(Theta_2 + Theta_3) + 1.15515334650173e+26) - (30215.5608276291*Omega_1.*Omega_2.*sin(Theta_2) - 13000.2335485376*Omega_1.*Omega_2.*sin(Theta_2 + Theta_3) + 22674.8259567517*Omega_1.*Omega_3.*sin(Theta_3) - 13000.2335485376*Omega_1.*Omega_3.*sin(Theta_2 + Theta_3) + Omega_1.*c + 15107.7804138146*Omega_2.^2.*sin(Theta_2) - 6500.11677426882*Omega_2.^2.*sin(Theta_2 + Theta_3) + 22674.8259567517*Omega_2.*Omega_3.*sin(Theta_3) - 13000.2335485376*Omega_2.*Omega_3.*sin(Theta_2 + Theta_3) + 11337.4129783759*Omega_3.^2.*sin(Theta_3) - 6500.11677426882*Omega_3.^2.*sin(Theta_2 + Theta_3) + 24308.3764659871*Theta_1 + 0.982*p_1.*sin(Theta_1).*cos(Theta_1 + Theta_2) - 0.982*p_1.*sin(Theta_1 + Theta_2).*cos(Theta_1) + 0.982*p_2.*sin(Theta_1 + Theta_2).*cos(Theta_1 + Theta_2 + Theta_3) - 0.982*p_2.*sin(Theta_1 + Theta_2 + Theta_3).*cos(Theta_1 + Theta_2) - tau - 101.30631*sin(Theta_1).^2.*cos(Theta_1 + Theta_2) + 101.30631*sin(Theta_1 + Theta_2).^2.*cos(Theta_1 + Theta_2 + Theta_3) + 49186.4226431238*cos(Theta_1) + 25.3265775*cos(Theta_1 - Theta_2) - 68912.5593108276*cos(Theta_1 + Theta_2) - 25.3265775*cos(3*Theta_1 + Theta_2) - 25.3265775*cos(Theta_1 + Theta_2 - Theta_3) + 29649.6024210485*cos(Theta_1 + Theta_2 + Theta_3) + 25.3265775*cos(3*Theta_1 + 3*Theta_2 + Theta_3)).*(1.88407377178455e+21*cos(Theta_2).^4 + 8.86461585874368e+20*cos(Theta_2).^3.*cos(Theta_3).^2 - 5.08237975901305e+20*cos(Theta_2).^3.*cos(Theta_3).*cos(Theta_2 + Theta_3) + 1.41387562218707e+21*cos(Theta_2).^3.*cos(Theta_3) - 6240.38092289133*cos(Theta_2).^3.*cos(Theta_2 + Theta_3).^2 - 2.43186607016176e+21*cos(Theta_2).^3.*cos(Theta_2 + Theta_3) - 6.45734309015702e+21*cos(Theta_2).^3 + 6.65232139549355e+20*cos(Theta_2).^2.*cos(Theta_3).^3 - 1.52559904003319e+21*cos(Theta_2).^2.*cos(Theta_3).^2.*cos(Theta_2 + Theta_3) - 1.57227070306455e+21*cos(Theta_2).^2.*cos(Theta_3).^2 + 6.56007587214271e+20*cos(Theta_2).^2.*cos(Theta_3).*cos(Theta_2 + Theta_3).^2 - 3.1520369379279e+20*cos(Theta_2).^2.*cos(Theta_3).*cos(Theta_2 + Theta_3) - 3.68021655982137e+20*cos(Theta_2).^2.*cos(Theta_3) + 2684.92151749982*cos(Theta_2).^2.*cos(Theta_2 + Theta_3).^3 + 1.04630945131949e+21*cos(Theta_2).^2.*cos(Theta_2 + Theta_3).^2 + 6.89705019757864e+21*cos(Theta_2).^2.*cos(Theta_2 + Theta_3) + 1.7843147625587e+21*cos(Theta_2).^2 - 810428.631863881*cos(Theta_2).*cos(Theta_3).^4 - 5.72431749817273e+20*cos(Theta_2).*cos(Theta_3).^3.*cos(Theta_2 + Theta_3) + 9.26927547362077e+20*cos(Theta_2).*cos(Theta_3).^3 + 8.20485508071426e+20*cos(Theta_2).*cos(Theta_3).^2.*cos(Theta_2 + Theta_3).^2 + 8.21499282946406e+20*cos(Theta_2).*cos(Theta_3).^2.*cos(Theta_2 + Theta_3) - 2.8209426096539e+20*cos(Theta_2).*cos(Theta_3).^2 - 2.82247014776571e+20*cos(Theta_2).*cos(Theta_3).*cos(Theta_2 + Theta_3).^3 - 5.13955095019706e+20*cos(Theta_2).*cos(Theta_3).*cos(Theta_2 + Theta_3).^2 + 2.1736683883451e+21*cos(Theta_2).*cos(Theta_3).*cos(Theta_2 + Theta_3) - 9.56006881240985e+21*cos(Theta_2).*cos(Theta_3) - 7553.89020690728*cos(Theta_2).*cos(Theta_2 + Theta_3).^4 - 1.5005808109705e+20*cos(Theta_2).*cos(Theta_2 + Theta_3).^3 - 2.34885838004833e+21*cos(Theta_2).*cos(Theta_2 + Theta_3).^2 - 3.14529590553131e+21*cos(Theta_2).*cos(Theta_2 + Theta_3) + 1.28242759833197e+22*cos(Theta_2) - 347441.743105359*cos(Theta_3).^5 + 398399.865427478*cos(Theta_3).^4.*cos(Theta_2 + Theta_3) + 6.95599228849496e+20*cos(Theta_3).^4 + 1.23144271269291e+20*cos(Theta_3).^3.*cos(Theta_2 + Theta_3).^2 - 7.97620449080755e+20*cos(Theta_3).^3.*cos(Theta_2 + Theta_3) - 2.9651933368858e+21*cos(Theta_3).^3 - 1.41205431055453e+20*cos(Theta_3).^2.*cos(Theta_2 + Theta_3).^3 - 6.23992792448422e+19*cos(Theta_3).^2.*cos(Theta_2 + Theta_3).^2 + 2.45750366648389e+21*cos(Theta_3).^2.*cos(Theta_2 + Theta_3) + 6.77694908694347e+20*cos(Theta_3).^2 + 4.04788902358966e+19*cos(Theta_3).*cos(Theta_2 + Theta_3).^4 + 1.66868938798182e+20*cos(Theta_3).*cos(Theta_2 + Theta_3).^3 - 8.67093765621355e+20*cos(Theta_3).*cos(Theta_2 + Theta_3).^2 - 3.88545080984761e+20*cos(Theta_3).*cos(Theta_2 + Theta_3) + 1.0421808918026e+22*cos(Theta_3) + 3250.05838713441*cos(Theta_2 + Theta_3).^5 + 32768.0*cos(Theta_2 + Theta_3).^4 + 2.48148409471504e+20*cos(Theta_2 + Theta_3).^3 + 1.02295941197137e+21*cos(Theta_2 + Theta_3).^2 - 2.66225407126571e+21*cos(Theta_2 + Theta_3) - 1.09747947410201e+22)./(-2.84641728275484e+25*cos(Theta_2).^5 + 4564900580.64078*cos(Theta_2).^4.*cos(Theta_3).^2 + 1.5356695475757e+25*cos(Theta_2).^4.*cos(Theta_3).*cos(Theta_2 + Theta_3) - 2.13605224324477e+25*cos(Theta_2).^4.*cos(Theta_3) + 456490058.064078*cos(Theta_2).^4.*cos(Theta_2 + Theta_3).^2 + 3.67400985838101e+25*cos(Theta_2).^4.*cos(Theta_2 + Theta_3) + 5.04854194889645e+25*cos(Theta_2).^4 + 3497352124.91947*cos(Theta_2).^3.*cos(Theta_3).^3 + 1.15242076481738e+25*cos(Theta_2).^3.*cos(Theta_3).^2.*cos(Theta_2 + Theta_3) - 9.33046213284191e+24*cos(Theta_2).^3.*cos(Theta_3).^2 - 1.9821637154859e+25*cos(Theta_2).^3.*cos(Theta_3).*cos(Theta_2 + Theta_3).^2 - 8.85665691412648e+24*cos(Theta_2).^3.*cos(Theta_3).*cos(Theta_2 + Theta_3) - 2.97635298891214e+25*cos(Theta_2).^3.*cos(Theta_3) - 392809347.559224*cos(Theta_2).^3.*cos(Theta_2 + Theta_3).^3 - 2.30873413031441e+25*cos(Theta_2).^3.*cos(Theta_2 + Theta_3).^2 - 4.34426650490824e+25*cos(Theta_2).^3.*cos(Theta_2 + Theta_3) + 8.93237280306429e+25*cos(Theta_2).^3 + 3497352124.91947*cos(Theta_2).^2.*cos(Theta_3).^4 - 21059297835.3804*cos(Theta_2).^2.*cos(Theta_3).^3.*cos(Theta_2 + Theta_3) - 7.00190892253096e+24*cos(Theta_2).^2.*cos(Theta_3).^3 - 9.91657191092813e+24*cos(Theta_2).^2.*cos(Theta_3).^2.*cos(Theta_2 + Theta_3).^2 + 2.81009944757577e+25*cos(Theta_2).^2.*cos(Theta_3).^2.*cos(Theta_2 + Theta_3) - 5.78665166421307e+24*cos(Theta_2).^2.*cos(Theta_3).^2 + 8.5282518433982e+24*cos(Theta_2).^2.*cos(Theta_3).*cos(Theta_2 + Theta_3).^3 + 1.40204734308719e+25*cos(Theta_2).^2.*cos(Theta_3).*cos(Theta_2 + Theta_3).^2 - 1.769263222201e+25*cos(Theta_2).^2.*cos(Theta_3).*cos(Theta_2 + Theta_3) + 1.19821707412208e+26*cos(Theta_2).^2.*cos(Theta_3) + 198625550.674281*cos(Theta_2).^2.*cos(Theta_2 + Theta_3).^4 + 1.16636031233599e+25*cos(Theta_2).^2.*cos(Theta_2 + Theta_3).^3 + 2.22576236050695e+25*cos(Theta_2).^2.*cos(Theta_2 + Theta_3).^2 - 6.66506375080854e+25*cos(Theta_2).^2.*cos(Theta_2 + Theta_3) - 1.58428839905747e+26*cos(Theta_2).^2 - 3.65323936200199e-6*cos(Theta_2).*cos(Theta_3).^5 - 9028406525.65742*cos(Theta_2).*cos(Theta_3).^4.*cos(Theta_2 + Theta_3) + 12187178621.7718*cos(Theta_2).*cos(Theta_3).^4 + 7549126622.75768*cos(Theta_2).*cos(Theta_3).^3.*cos(Theta_2 + Theta_3).^2 + 1.80754118974203e+25*cos(Theta_2).*cos(Theta_3).^3.*cos(Theta_2 + Theta_3) - 9.75638709941306e+24*cos(Theta_2).*cos(Theta_3).^3 + 2.13330064562382e+24*cos(Theta_2).*cos(Theta_3).^2.*cos(Theta_2 + Theta_3).^3 - 1.20904421802745e+25*cos(Theta_2).*cos(Theta_3).^2.*cos(Theta_2 + Theta_3).^2 - 6.56081508903026e+25*cos(Theta_2).*cos(Theta_3).^2.*cos(Theta_2 + Theta_3) + 1.85302871123376e+25*cos(Theta_2).*cos(Theta_3).^2 - 1.22309237015766e+24*cos(Theta_2).*cos(Theta_3).*cos(Theta_2 + Theta_3).^4 - 3.41031877978699e+23*cos(Theta_2).*cos(Theta_3).*cos(Theta_2 + Theta_3).^3 + 5.50966795001893e+24*cos(Theta_2).*cos(Theta_3).*cos(Theta_2 + Theta_3).^2 + 3.29167467904989e+25*cos(Theta_2).*cos(Theta_3).*cos(Theta_2 + Theta_3) + 3.42909181723596e+25*cos(Theta_2).*cos(Theta_3) - 98202336.889806*cos(Theta_2).*cos(Theta_2 + Theta_3).^5 - 4.04286575556694e+24*cos(Theta_2).*cos(Theta_2 + Theta_3).^4 - 1.11107907422604e+25*cos(Theta_2).*cos(Theta_2 + Theta_3).^3 + 3.26698381747576e+25*cos(Theta_2).*cos(Theta_2 + Theta_3).^2 + 5.00508131238759e+25*cos(Theta_2).*cos(Theta_2 + Theta_3) - 6.51286744370491e+25*cos(Theta_2) - 1.82661968100099e-6*cos(Theta_3).^6 + 2.09452390088114e-6*cos(Theta_3).^5.*cos(Theta_2 + Theta_3) + 7314004530.07919*cos(Theta_3).^5 + 647411412.032898*cos(Theta_3).^4.*cos(Theta_2 + Theta_3).^2 - 6290043895.86811*cos(Theta_3).^4.*cos(Theta_2 + Theta_3) - 7.32153808787166e+24*cos(Theta_3).^4 - 742365085.797723*cos(Theta_3).^3.*cos(Theta_2 + Theta_3).^3 - 1.29615651514241e+24*cos(Theta_3).^3.*cos(Theta_2 + Theta_3).^2 + 4.19768183704642e+24*cos(Theta_3).^3.*cos(Theta_2 + Theta_3) + 3.12101782945045e+25*cos(Theta_3).^3 + 211257590.395655*cos(Theta_3).^2.*cos(Theta_2 + Theta_3).^4 + 7.43129735348314e+23*cos(Theta_3).^2.*cos(Theta_2 + Theta_3).^3 - 2.64904516544204e+24*cos(Theta_3).^2.*cos(Theta_2 + Theta_3).^2 - 7.97264897898469e+24*cos(Theta_3).^2.*cos(Theta_2 + Theta_3) - 7.13308594974865e+24*cos(Theta_3).^2 - 42251518.0791309*cos(Theta_3).*cos(Theta_2 + Theta_3).^5 - 1.01130317032063e+24*cos(Theta_3).*cos(Theta_2 + Theta_3).^4 + 3.2751669263769e+24*cos(Theta_3).*cos(Theta_2 + Theta_3).^3 + 2.89068094780122e+25*cos(Theta_3).*cos(Theta_2 + Theta_3).^2 - 1.47536544953631e+25*cos(Theta_3).*cos(Theta_2 + Theta_3) - 1.09694875688767e+26*cos(Theta_3) + 21125759.0395655*cos(Theta_2 + Theta_3).^6 + 5.79813817650496e+23*cos(Theta_2 + Theta_3).^5 + 2.3902067445036e+24*cos(Theta_2 + Theta_3).^4 - 8.8324072789257e+24*cos(Theta_2 + Theta_3).^3 - 3.64104455699889e+25*cos(Theta_2 + Theta_3).^2 + 2.80215873939397e+25*cos(Theta_2 + Theta_3) + 1.15515334650173e+26);\n",
            "    dy(6) = -(-11337.4129783759*Omega_1.^2.*sin(Theta_3) + 6500.11677426882*Omega_1.^2.*sin(Theta_2 + Theta_3) - 22674.8259567517*Omega_1.*Omega_2.*sin(Theta_3) - 11337.4129783759*Omega_2.^2.*sin(Theta_3) + Omega_3.*c + 24308.3764659871*Theta_3 + 0.982*p_2.*sin(Theta_1 + Theta_2).*cos(Theta_1 + Theta_2 + Theta_3) - 0.982*p_2.*sin(Theta_1 + Theta_2 + Theta_3).*cos(Theta_1 + Theta_2) + 101.30631*sin(Theta_1 + Theta_2).^2.*cos(Theta_1 + Theta_2 + Theta_3) - 25.3265775*cos(Theta_1 + Theta_2 - Theta_3) + 29649.6024210485*cos(Theta_1 + Theta_2 + Theta_3) + 25.3265775*cos(3*Theta_1 + 3*Theta_2 + Theta_3)).*(-6896551558321.54*cos(Theta_2).^3 - 5175416308795.22*cos(Theta_2).^2.*cos(Theta_3) + 8901716051127.78*cos(Theta_2).^2.*cos(Theta_2 + Theta_3) + 12232053977418.3*cos(Theta_2).^2 + 0.00630502543263207*cos(Theta_2).*cos(Theta_3).^2 + 4453441795045.3*cos(Theta_2).*cos(Theta_3).*cos(Theta_2 + Theta_3) - 7211371280015.15*cos(Theta_2).*cos(Theta_3) - 3829959943738.96*cos(Theta_2).*cos(Theta_2 + Theta_3).^2 - 10525673138547.2*cos(Theta_2).*cos(Theta_2 + Theta_3) + 13696543498195.7*cos(Theta_2) + 0.00270304989299198*cos(Theta_3).^3 - 0.0015497486053154*cos(Theta_3).^2.*cos(Theta_2 + Theta_3) - 5411668167163.12*cos(Theta_3).^2 - 958045818852.842*cos(Theta_3).*cos(Theta_2 + Theta_3).^2 + 3102689749173.52*cos(Theta_3).*cos(Theta_2 + Theta_3) + 23068804169392.0*cos(Theta_3) + 549279602808.963*cos(Theta_2 + Theta_3).^3 + 2264333431328.52*cos(Theta_2 + Theta_3).^2 - 5892932628324.16*cos(Theta_2 + Theta_3) - 24292845193310.2)./(-1.24708840092867e+17*cos(Theta_2).^3 + 20.0*cos(Theta_2).^2.*cos(Theta_3).^2 + 6.72816207252485e+16*cos(Theta_2).^2.*cos(Theta_3).*cos(Theta_2 + Theta_3) - 9.35859261559178e+16*cos(Theta_2).^2.*cos(Theta_3) + 2.0*cos(Theta_2).^2.*cos(Theta_2 + Theta_3).^2 + 5.36559309960596e+16*cos(Theta_2).^2.*cos(Theta_2 + Theta_3) + 2.21189568522335e+17*cos(Theta_2).^2 + 15.3227964690024*cos(Theta_2).*cos(Theta_3).^3 + 5.0490508805588e+16*cos(Theta_2).*cos(Theta_3).^2.*cos(Theta_2 + Theta_3) - 4.08791471709652e+16*cos(Theta_2).*cos(Theta_3).^2 - 2.89478917152038e+16*cos(Theta_2).*cos(Theta_3).*cos(Theta_2 + Theta_3).^2 - 1.19333903247107e+17*cos(Theta_2).*cos(Theta_3).*cos(Theta_2 + Theta_3) - 128.0*cos(Theta_2).*cos(Theta_3) - 3.18952307464648e+16*cos(Theta_2).*cos(Theta_2 + Theta_3).^2 + 16.0*cos(Theta_2).*cos(Theta_2 + Theta_3) + 1.43678543738772e+17*cos(Theta_2) + 15.3227964690024*cos(Theta_3).^4 - 17.5701399511227*cos(Theta_3).^3.*cos(Theta_2 + Theta_3) - 3.06771584565293e+16*cos(Theta_3).^3 + 5.0*cos(Theta_3).^2.*cos(Theta_2 + Theta_3).^2 + 1.75882375150768e+16*cos(Theta_3).^2.*cos(Theta_2 + Theta_3) + 7.25052122814508e+16*cos(Theta_3).^2 - 1.0*cos(Theta_3).*cos(Theta_2 + Theta_3).^3 - 2.39353096953016e+16*cos(Theta_3).*cos(Theta_2 + Theta_3).^2 - 40.0*cos(Theta_3).*cos(Theta_2 + Theta_3) + 1.07821462973383e+17*cos(Theta_3) + 0.5*cos(Theta_2 + Theta_3).^4 + 1.37229108919729e+16*cos(Theta_2 + Theta_3).^3 + 5.65709080565363e+16*cos(Theta_2 + Theta_3).^2 - 6.1817638771406e+16*cos(Theta_2 + Theta_3) - 2.54835142976478e+17) - (5175416308795.22*cos(Theta_2).^2.*cos(Theta_3) + 0.000244140625*cos(Theta_2).^2.*cos(Theta_2 + Theta_3) - 8254610318457.73*cos(Theta_2).^2 + 3883815518934.85*cos(Theta_2).*cos(Theta_3).^2 + 0.0009765625*cos(Theta_2).*cos(Theta_3).*cos(Theta_2 + Theta_3) - 15373917763545.9*cos(Theta_2).*cos(Theta_3) - 1355327474624.04*cos(Theta_2).*cos(Theta_2 + Theta_3) + 14640772003813.3*cos(Theta_2) - 0.00135152494649599*cos(Theta_3).^3 + 1671010149161.93*cos(Theta_3).^2.*cos(Theta_2 + Theta_3) + 0.00439453125*cos(Theta_3).^2 - 958045818852.842*cos(Theta_3).*cos(Theta_2 + Theta_3).^2 - 7631707959984.47*cos(Theta_3).*cos(Theta_2 + Theta_3) - 0.005859375*cos(Theta_3) + 2111179132395.9*cos(Theta_2 + Theta_3).^2 + 8703060271236.39*cos(Theta_2 + Theta_3)).*(30215.5608276291*Omega_1.*Omega_2.*sin(Theta_2) - 13000.2335485376*Omega_1.*Omega_2.*sin(Theta_2 + Theta_3) + 22674.8259567517*Omega_1.*Omega_3.*sin(Theta_3) - 13000.2335485376*Omega_1.*Omega_3.*sin(Theta_2 + Theta_3) + Omega_1.*c + 15107.7804138146*Omega_2.^2.*sin(Theta_2) - 6500.11677426882*Omega_2.^2.*sin(Theta_2 + Theta_3) + 22674.8259567517*Omega_2.*Omega_3.*sin(Theta_3) - 13000.2335485376*Omega_2.*Omega_3.*sin(Theta_2 + Theta_3) + 11337.4129783759*Omega_3.^2.*sin(Theta_3) - 6500.11677426882*Omega_3.^2.*sin(Theta_2 + Theta_3) + 24308.3764659871*Theta_1 + 0.982*p_1.*sin(Theta_1).*cos(Theta_1 + Theta_2) - 0.982*p_1.*sin(Theta_1 + Theta_2).*cos(Theta_1) + 0.982*p_2.*sin(Theta_1 + Theta_2).*cos(Theta_1 + Theta_2 + Theta_3) - 0.982*p_2.*sin(Theta_1 + Theta_2 + Theta_3).*cos(Theta_1 + Theta_2) - tau - 101.30631*sin(Theta_1).^2.*cos(Theta_1 + Theta_2) + 101.30631*sin(Theta_1 + Theta_2).^2.*cos(Theta_1 + Theta_2 + Theta_3) + 49186.4226431238*cos(Theta_1) + 25.3265775*cos(Theta_1 - Theta_2) - 68912.5593108276*cos(Theta_1 + Theta_2) - 25.3265775*cos(3*Theta_1 + Theta_2) - 25.3265775*cos(Theta_1 + Theta_2 - Theta_3) + 29649.6024210485*cos(Theta_1 + Theta_2 + Theta_3) + 25.3265775*cos(3*Theta_1 + 3*Theta_2 + Theta_3))./(-1.24708840092867e+17*cos(Theta_2).^3 + 20.0*cos(Theta_2).^2.*cos(Theta_3).^2 + 6.72816207252485e+16*cos(Theta_2).^2.*cos(Theta_3).*cos(Theta_2 + Theta_3) - 9.35859261559178e+16*cos(Theta_2).^2.*cos(Theta_3) + 2.0*cos(Theta_2).^2.*cos(Theta_2 + Theta_3).^2 + 5.36559309960596e+16*cos(Theta_2).^2.*cos(Theta_2 + Theta_3) + 2.21189568522335e+17*cos(Theta_2).^2 + 15.3227964690024*cos(Theta_2).*cos(Theta_3).^3 + 5.0490508805588e+16*cos(Theta_2).*cos(Theta_3).^2.*cos(Theta_2 + Theta_3) - 4.08791471709652e+16*cos(Theta_2).*cos(Theta_3).^2 - 2.89478917152038e+16*cos(Theta_2).*cos(Theta_3).*cos(Theta_2 + Theta_3).^2 - 1.19333903247107e+17*cos(Theta_2).*cos(Theta_3).*cos(Theta_2 + Theta_3) - 128.0*cos(Theta_2).*cos(Theta_3) - 3.18952307464648e+16*cos(Theta_2).*cos(Theta_2 + Theta_3).^2 + 16.0*cos(Theta_2).*cos(Theta_2 + Theta_3) + 1.43678543738772e+17*cos(Theta_2) + 15.3227964690024*cos(Theta_3).^4 - 17.5701399511227*cos(Theta_3).^3.*cos(Theta_2 + Theta_3) - 3.06771584565293e+16*cos(Theta_3).^3 + 5.0*cos(Theta_3).^2.*cos(Theta_2 + Theta_3).^2 + 1.75882375150768e+16*cos(Theta_3).^2.*cos(Theta_2 + Theta_3) + 7.25052122814508e+16*cos(Theta_3).^2 - 1.0*cos(Theta_3).*cos(Theta_2 + Theta_3).^3 - 2.39353096953016e+16*cos(Theta_3).*cos(Theta_2 + Theta_3).^2 - 40.0*cos(Theta_3).*cos(Theta_2 + Theta_3) + 1.07821462973383e+17*cos(Theta_3) + 0.5*cos(Theta_2 + Theta_3).^4 + 1.37229108919729e+16*cos(Theta_2 + Theta_3).^3 + 5.65709080565363e+16*cos(Theta_2 + Theta_3).^2 - 6.1817638771406e+16*cos(Theta_2 + Theta_3) - 2.54835142976478e+17) - (-5175416308795.22*cos(Theta_2).^2.*cos(Theta_3) - 2967238683709.26*cos(Theta_2).^2.*cos(Theta_2 + Theta_3) + 8254610318457.73*cos(Theta_2).^2 - 3883815518934.85*cos(Theta_2).*cos(Theta_3).^2 - 2226720897522.65*cos(Theta_2).*cos(Theta_3).*cos(Theta_2 + Theta_3) + 18979603403553.4*cos(Theta_2).*cos(Theta_3) + 2553306629159.3*cos(Theta_2).*cos(Theta_2 + Theta_3).^2 + 6618164043897.62*cos(Theta_2).*cos(Theta_2 + Theta_3) - 20391716104395.2*cos(Theta_2) - 1671010149161.93*cos(Theta_3).^2.*cos(Theta_2 + Theta_3) + 2705834083581.55*cos(Theta_3).^2 + 1916091637705.68*cos(Theta_3).*cos(Theta_2 + Theta_3).^2 + 6080363085397.71*cos(Theta_3).*cos(Theta_2 + Theta_3) - 10710928590704.8*cos(Theta_3) - 549279602808.963*cos(Theta_2 + Theta_3).^3 - 4375512563724.43*cos(Theta_2 + Theta_3).^2 - 6228718760295.92*cos(Theta_2 + Theta_3) + 10200149750863.9).*(-15107.7804138146*Omega_1.^2.*sin(Theta_2) + 6500.11677426882*Omega_1.^2.*sin(Theta_2 + Theta_3) + 22674.8259567517*Omega_1.*Omega_3.*sin(Theta_3) + 22674.8259567517*Omega_2.*Omega_3.*sin(Theta_3) + Omega_2.*c + 11337.4129783759*Omega_3.^2.*sin(Theta_3) + 24308.3764659871*Theta_2 + 0.982*p_1.*sin(Theta_1).*cos(Theta_1 + Theta_2) - 0.982*p_1.*sin(Theta_1 + Theta_2).*cos(Theta_1) + 0.982*p_2.*sin(Theta_1 + Theta_2).*cos(Theta_1 + Theta_2 + Theta_3) - 0.982*p_2.*sin(Theta_1 + Theta_2 + Theta_3).*cos(Theta_1 + Theta_2) - 101.30631*sin(Theta_1).^2.*cos(Theta_1 + Theta_2) + 101.30631*sin(Theta_1 + Theta_2).^2.*cos(Theta_1 + Theta_2 + Theta_3) + 25.3265775*cos(Theta_1 - Theta_2) - 68912.5593108276*cos(Theta_1 + Theta_2) - 25.3265775*cos(3*Theta_1 + Theta_2) - 25.3265775*cos(Theta_1 + Theta_2 - Theta_3) + 29649.6024210485*cos(Theta_1 + Theta_2 + Theta_3) + 25.3265775*cos(3*Theta_1 + 3*Theta_2 + Theta_3))./(-1.24708840092867e+17*cos(Theta_2).^3 + 20.0*cos(Theta_2).^2.*cos(Theta_3).^2 + 6.72816207252485e+16*cos(Theta_2).^2.*cos(Theta_3).*cos(Theta_2 + Theta_3) - 9.35859261559178e+16*cos(Theta_2).^2.*cos(Theta_3) + 2.0*cos(Theta_2).^2.*cos(Theta_2 + Theta_3).^2 + 5.36559309960596e+16*cos(Theta_2).^2.*cos(Theta_2 + Theta_3) + 2.21189568522335e+17*cos(Theta_2).^2 + 15.3227964690024*cos(Theta_2).*cos(Theta_3).^3 + 5.0490508805588e+16*cos(Theta_2).*cos(Theta_3).^2.*cos(Theta_2 + Theta_3) - 4.08791471709652e+16*cos(Theta_2).*cos(Theta_3).^2 - 2.89478917152038e+16*cos(Theta_2).*cos(Theta_3).*cos(Theta_2 + Theta_3).^2 - 1.19333903247107e+17*cos(Theta_2).*cos(Theta_3).*cos(Theta_2 + Theta_3) - 128.0*cos(Theta_2).*cos(Theta_3) - 3.18952307464648e+16*cos(Theta_2).*cos(Theta_2 + Theta_3).^2 + 16.0*cos(Theta_2).*cos(Theta_2 + Theta_3) + 1.43678543738772e+17*cos(Theta_2) + 15.3227964690024*cos(Theta_3).^4 - 17.5701399511227*cos(Theta_3).^3.*cos(Theta_2 + Theta_3) - 3.06771584565293e+16*cos(Theta_3).^3 + 5.0*cos(Theta_3).^2.*cos(Theta_2 + Theta_3).^2 + 1.75882375150768e+16*cos(Theta_3).^2.*cos(Theta_2 + Theta_3) + 7.25052122814508e+16*cos(Theta_3).^2 - 1.0*cos(Theta_3).*cos(Theta_2 + Theta_3).^3 - 2.39353096953016e+16*cos(Theta_3).*cos(Theta_2 + Theta_3).^2 - 40.0*cos(Theta_3).*cos(Theta_2 + Theta_3) + 1.07821462973383e+17*cos(Theta_3) + 0.5*cos(Theta_2 + Theta_3).^4 + 1.37229108919729e+16*cos(Theta_2 + Theta_3).^3 + 5.65709080565363e+16*cos(Theta_2 + Theta_3).^2 - 6.1817638771406e+16*cos(Theta_2 + Theta_3) - 2.54835142976478e+17);\n"
          ]
        }
      ],
      "source": [
        "i = 1\n",
        "for x in space:\n",
        "  scilab_code = \"    dy(\" + str(i) + \") = \"\n",
        "  scilab_code += sp.octave_code(x.subs(gamma_alias).subs(FUNCTIONS_TO_SYMBOLS_DICT))\n",
        "  scilab_code += \";\"\n",
        "  print(scilab_code.replace(\"pi\", \"%pi\"))\n",
        "  i += 1"
      ]
    },
    {
      "attachments": {},
      "cell_type": "markdown",
      "metadata": {},
      "source": [
        "# Impulsos das simulações"
      ]
    },
    {
      "cell_type": "code",
      "execution_count": 1144,
      "metadata": {},
      "outputs": [],
      "source": [
        "input_alias = {\n",
        "    p_1: 1,\n",
        "    p_2: 1,\n",
        "    tau: 1,\n",
        "}"
      ]
    },
    {
      "attachments": {},
      "cell_type": "markdown",
      "metadata": {},
      "source": [
        "# Condições iniciais"
      ]
    },
    {
      "cell_type": "code",
      "execution_count": 1145,
      "metadata": {},
      "outputs": [],
      "source": [
        "y0 = [0.5 * np.pi, 0.75 * np.pi, 0.5 * np.pi, 0, 0, 0]"
      ]
    },
    {
      "attachments": {},
      "cell_type": "markdown",
      "metadata": {
        "id": "J0KiQUdddH5m"
      },
      "source": [
        "# Solução das Equações Diferenciais"
      ]
    },
    {
      "attachments": {},
      "cell_type": "markdown",
      "metadata": {
        "id": "4sTgqqT6UUU-"
      },
      "source": [
        "### Função para solução numérica da EDO, usando a biblioteca SCILAB"
      ]
    },
    {
      "cell_type": "code",
      "execution_count": 1146,
      "metadata": {
        "id": "zXHxKOIAnIeg"
      },
      "outputs": [],
      "source": [
        "def solve_ode(space, duration, size, boundary_conditions, method=\"RK45\"):\n",
        "  state_space = space.subs(FUNCTIONS_TO_SYMBOLS_DICT)\n",
        "\n",
        "  def evaluate_state_space(t, y):\n",
        "    vals = {\n",
        "        \"t\": t,\n",
        "        \"Theta_1\": y[0],\n",
        "        \"Theta_2\": y[1],\n",
        "        \"Theta_3\": y[2],\n",
        "        \"Omega_1\": y[3],\n",
        "        \"Omega_2\": y[4],\n",
        "        \"Omega_3\": y[5],\n",
        "    }\n",
        "\n",
        "    # counter = 1\n",
        "    # for eq in state_space:\n",
        "    #   print(\"EDO \" + str(counter))\n",
        "    #   pprint(eq.subs(vals))\n",
        "    #   pprint(sp.N(sp.re(eq.subs(vals))))\n",
        "    #   counter+=1\n",
        "    return [sp.N(sp.re(eq.subs(vals))) for eq in state_space]\n",
        "\n",
        "  # return odeint(\n",
        "  #     evaluate_state_space,\n",
        "  #     boundary_conditions,\n",
        "  #     np.linspace(0, duration, size))\n",
        "\n",
        "  return solve_ivp(\n",
        "      evaluate_state_space,\n",
        "      [0, duration],\n",
        "      boundary_conditions,\n",
        "      dense_output=True,\n",
        "      method=method)"
      ]
    },
    {
      "attachments": {},
      "cell_type": "markdown",
      "metadata": {
        "id": "EZIqqxoJUe_P"
      },
      "source": [
        "### Solução do subsistema mecânico com Range-Kutta de 5ª ordem"
      ]
    },
    {
      "cell_type": "code",
      "execution_count": 1147,
      "metadata": {
        "id": "Sjbj8pYnkcef"
      },
      "outputs": [],
      "source": [
        "duration = 10\n",
        "size = 100"
      ]
    },
    {
      "cell_type": "code",
      "execution_count": 1148,
      "metadata": {},
      "outputs": [],
      "source": [
        "result_rk45 = solve_ode(space.subs(input_alias).subs(Params), duration, size, y0)"
      ]
    },
    {
      "attachments": {},
      "cell_type": "markdown",
      "metadata": {
        "id": "KQR7nPRTAZEZ"
      },
      "source": [
        "# Gráficos"
      ]
    },
    {
      "attachments": {},
      "cell_type": "markdown",
      "metadata": {
        "id": "StgnSDX8VEBI"
      },
      "source": [
        "### Função para plotagem da simulação, usando a biblioteca MATPLOTLIB"
      ]
    },
    {
      "cell_type": "code",
      "execution_count": 1149,
      "metadata": {
        "id": "KjoeyhzsAX-H"
      },
      "outputs": [],
      "source": [
        "def plot(result, duration, size):\n",
        "  t = np.linspace(0, duration, size)\n",
        "  max_length = Params[L_1] + Params[L_2] + Params[L_3]\n",
        "  solution = result.sol(t)\n",
        "  solution = np.mod(solution, 2*np.pi)\n",
        "\n",
        "  plt.plot(t, solution.T)\n",
        "  plt.xlabel('t')\n",
        "  plt.legend([r'$\\theta_1$', r'$\\theta_2$', r'$\\theta_3$', r'$\\omega_1$', r'$\\omega_2$', r'$\\omega_3$'], shadow=True)\n",
        "  plt.title('Guindaste Hidráulico Industrial')\n",
        "  plt.axhline(linewidth=0.5, color='gray')\n",
        "  plt.axvline(linewidth=0.5, color='gray')\n",
        "  plt.show()\n",
        "\n",
        "  pos_J2 = np.array(polar_to_cartesian(Params[L_1] * np.ones(size), solution[0]))\n",
        "  phi = solution[0] + solution[1] - np.pi\n",
        "  pos_J3 = pos_J2 + np.array(polar_to_cartesian(Params[L_2] * np.ones(size), phi))\n",
        "  psi = phi + solution[2] - np.pi\n",
        "  pos_P = pos_J3 + np.array(polar_to_cartesian(Params[L_3] * np.ones(size), psi))\n",
        "\n",
        "  markers_on = [0, int(size / 2 - 1), size-1]\n",
        "  plt.plot(pos_J2[0], pos_J2[1], '-D', markevery=markers_on, color=\"C0\")\n",
        "  plt.plot(pos_J3[0], pos_J3[1], '-D', markevery=markers_on, color=\"C1\")\n",
        "  plt.plot(pos_P[0], pos_P[1], '-D', markevery=markers_on, color=\"C2\")\n",
        "  plt.xlabel('x')\n",
        "  plt.legend([r'$J2$', r'$J3$', r'$P$'], shadow=True)\n",
        "  plt.title('Curva descrita pelos pontos J2, J3 e P')\n",
        "  plt.axhline(linewidth=0.5, color='gray')\n",
        "  plt.axvline(linewidth=0.5, color='gray')\n",
        "  plt.axis('equal')\n",
        "  plt.xlim([-max_length, max_length])\n",
        "  plt.ylim([-max_length, max_length])\n",
        "  for i in markers_on:\n",
        "    plt.annotate(str(i+1), (pos_J2[0][i], pos_J2[1][i]), textcoords=\"offset points\",xytext=(0, 10),ha=\"center\")\n",
        "    plt.annotate(str(i+1), (pos_J3[0][i], pos_J3[1][i]), textcoords=\"offset points\",xytext=(0, 10),ha=\"center\")\n",
        "    plt.annotate(str(i+1), (pos_P[0][i], pos_P[1][i]), textcoords=\"offset points\",xytext=(0, 10),ha=\"center\")\n",
        "  plt.show()\n",
        "\n",
        "  markers_on = [0, int(size / 2 - 1), size-1]\n",
        "  plt.plot(pos_J2[0], pos_J2[1], '-D', markevery=markers_on, color=\"C0\")\n",
        "  plt.xlabel('x')\n",
        "  plt.title('Curva descrita pelo ponto J2 no espaço 2D')\n",
        "  plt.axhline(linewidth=0.5, color='gray')\n",
        "  plt.axvline(linewidth=0.5, color='gray')\n",
        "  plt.axis('equal')\n",
        "  plt.xlim([-max_length, max_length])\n",
        "  plt.ylim([-max_length, max_length])\n",
        "  for i in markers_on:\n",
        "    plt.annotate(str(i+1), (pos_J2[0][i], pos_J2[1][i]), textcoords=\"offset points\",xytext=(0, 10),ha=\"center\")\n",
        "  plt.show()\n",
        "\n",
        "  plt.plot(pos_J3[0], pos_J3[1], '-D', markevery=markers_on, color=\"C1\")\n",
        "  plt.xlabel('x')\n",
        "  plt.title('Curva descrita pelo ponto J3 no espaço 2D')\n",
        "  plt.axhline(linewidth=0.5, color='gray')\n",
        "  plt.axvline(linewidth=0.5, color='gray')\n",
        "  plt.axis('equal')\n",
        "  plt.xlim([-max_length, max_length])\n",
        "  plt.ylim([-max_length, max_length])\n",
        "  for i in markers_on:\n",
        "    plt.annotate(str(i+1), (pos_J3[0][i], pos_J3[1][i]), textcoords=\"offset points\",xytext=(0, 10),ha=\"center\")\n",
        "  plt.show()\n",
        "\n",
        "  plt.plot(pos_P[0], pos_P[1], '-D', markevery=markers_on, color=\"C2\")\n",
        "  plt.xlabel('x')\n",
        "  plt.title('Curva descrita pelo ponto P no espaço 2D')\n",
        "  plt.axhline(linewidth=0.5, color='gray')\n",
        "  plt.axvline(linewidth=0.5, color='gray')\n",
        "  plt.axis('equal')\n",
        "  plt.xlim([-max_length, max_length])\n",
        "  plt.ylim([-max_length, max_length])\n",
        "  for i in markers_on:\n",
        "    plt.annotate(str(i+1), (pos_P[0][i], pos_P[1][i]), textcoords=\"offset points\",xytext=(0, 10),ha=\"center\")\n",
        "  plt.show()\n",
        "\n",
        "  # Animação:\n",
        "  fig, ax = plt.subplots()\n",
        "  line_link_1, = ax.plot([], [], color=\"C0\", linewidth=2)\n",
        "  line_link_2, = ax.plot([], [], color=\"C1\", linewidth=2)\n",
        "  line_link_3, = ax.plot([], [], color=\"C2\", linewidth=2)\n",
        "  line_actuator_1, = ax.plot([], [], color=\"gray\", linewidth=1)\n",
        "  line_actuator_2, = ax.plot([], [], color=\"gray\", linewidth=1)\n",
        "\n",
        "  line_resolution = 10\n",
        "  frame_interval_ms = 1000 * duration / size\n",
        "\n",
        "  pos_J2_T = pos_J2.T\n",
        "  pos_J3_T = pos_J3.T\n",
        "  pos_P_T = pos_P.T\n",
        "  pos_P1_T = np.array(pos_J2 + polar_to_cartesian(np.ones(size) * Params[d_1], phi)).T\n",
        "  pos_P2_T = np.array(pos_J3 + polar_to_cartesian(np.ones(size) * Params[d_2], psi)).T\n",
        "\n",
        "  def init():\n",
        "      ax.set_xlim([-max_length, max_length])\n",
        "      ax.set_ylim([-max_length, max_length])\n",
        "      return (line_link_1, line_link_2)\n",
        "\n",
        "  def update(frame):\n",
        "      line_link_1.set_data(np.linspace(\n",
        "          [0, 0],\n",
        "          pos_J2_T[frame],\n",
        "          line_resolution).T)\n",
        "      line_link_2.set_data(np.linspace(\n",
        "          pos_J2_T[frame],\n",
        "          pos_J3_T[frame],\n",
        "          line_resolution).T)\n",
        "      line_link_3.set_data(np.linspace(\n",
        "          pos_J3_T[frame],\n",
        "          pos_P_T[frame],\n",
        "          line_resolution).T)\n",
        "      line_actuator_1.set_data(np.linspace(\n",
        "          [0, 0],\n",
        "          pos_P1_T[frame],\n",
        "          line_resolution).T)\n",
        "      line_actuator_2.set_data(np.linspace(\n",
        "          pos_J2_T[frame],\n",
        "          pos_P2_T[frame],\n",
        "          line_resolution).T)\n",
        "      return (line_link_1, line_link_2)\n",
        "\n",
        "  anim = FuncAnimation(fig, update, frames=size, init_func=init,\n",
        "                      interval=frame_interval_ms, blit=True)\n",
        "  display(HTML(anim.to_html5_video()))"
      ]
    },
    {
      "attachments": {},
      "cell_type": "markdown",
      "metadata": {
        "id": "sGYmpDtMVPkL"
      },
      "source": [
        "# Simulação do sistema não-linear"
      ]
    },
    {
      "cell_type": "code",
      "execution_count": 1150,
      "metadata": {
        "id": "fscS1rBDtWso"
      },
      "outputs": [
        {
          "data": {
            "image/png": "[encoded data removed]",
            "text/plain": [
              "<Figure size 640x480 with 1 Axes>"
            ]
          },
          "metadata": {},
          "output_type": "display_data"
        },
        {
          "data": {
            "image/png": "[encoded data removed]",
            "text/plain": [
              "<Figure size 640x480 with 1 Axes>"
            ]
          },
          "metadata": {},
          "output_type": "display_data"
        },
        {
          "data": {
            "image/png": "[encoded data removed]",
            "text/plain": [
              "<Figure size 640x480 with 1 Axes>"
            ]
          },
          "metadata": {},
          "output_type": "display_data"
        },
        {
          "data": {
            "image/png": "[encoded data removed]",
            "text/plain": [
              "<Figure size 640x480 with 1 Axes>"
            ]
          },
          "metadata": {},
          "output_type": "display_data"
        },
        {
          "data": {
            "image/png": "[encoded data removed]",
            "text/plain": [
              "<Figure size 640x480 with 1 Axes>"
            ]
          },
          "metadata": {},
          "output_type": "display_data"
        },
        {
          "data": {
            "text/html": [
              "<video width=\"640\" height=\"480\" controls autoplay loop>\n",
              "  <source type=\"video/mp4\" src=\"data:video/mp4;base64,AAAAIGZ0eXBNNFYgAAACAE00ViBpc29taXNvMmF2YzEAAAAIZnJlZQAAi9xtZGF0AAACoQYF//+d\n",
              "3EXpvebZSLeWLNgg2SPu73gyNjQgLSBjb3JlIDE2MSAtIEguMjY0L01QRUctNCBBVkMgY29kZWMg\n",
              "LSBDb3B5bGVmdCAyMDAzLTIwMjAgLSBodHRwOi8vd3d3LnZpZGVvbGFuLm9yZy94MjY0Lmh0bWwg\n",
              "LSBvcHRpb25zOiBjYWJhYz0xIHJlZj0zIGRlYmxvY2s9MTowOjAgYW5hbHlzZT0weDM6MHgxMTMg\n",
              "bWU9aGV4IHN1Ym1lPTcgcHN5PTEgcHN5X3JkPTEuMDA6MC4wMCBtaXhlZF9yZWY9MSBtZV9yYW5n\n",
              "ZT0xNiBjaHJvbWFfbWU9MSB0cmVsbGlzPTEgOHg4ZGN0PTEgY3FtPTAgZGVhZHpvbmU9MjEsMTEg\n",
              "ZmFzdF9wc2tpcD0xIGNocm9tYV9xcF9vZmZzZXQ9LTIgdGhyZWFkcz0xMiBsb29rYWhlYWRfdGhy\n",
              "ZWFkcz0yIHNsaWNlZF90aHJlYWRzPTAgbnI9MCBkZWNpbWF0ZT0xIGludGVybGFjZWQ9MCBibHVy\n",
              "YXlfY29tcGF0PTAgY29uc3RyYWluZWRfaW50cmE9MCBiZnJhbWVzPTMgYl9weXJhbWlkPTIgYl9h\n",
              "ZGFwdD0xIGJfYmlhcz0wIGRpcmVjdD0xIHdlaWdodGI9MSBvcGVuX2dvcD0wIHdlaWdodHA9MiBr\n",
              "ZXlpbnQ9MjUwIGtleWludF9taW49MTAgc2NlbmVjdXQ9NDAgaW50cmFfcmVmcmVzaD0wIHJjX2xv\n",
              "b2thaGVhZD00MCByYz1jcmYgbWJ0cmVlPTEgY3JmPTIzLjAgcWNvbXA9MC42MCBxcG1pbj0wIHFw\n",
              "bWF4PTY5IHFwc3RlcD00IGlwX3JhdGlvPTEuNDAgYXE9MToxLjAwAIAAAA/FZYiEABH//veIHzLL\n",
              "afk613IR560urR9Q7kZxXqS9/iAAAAMAAAMAAGVA3ylQf3lw3OAAAATwAMggv8RQjcADaCmBO+o8\n",
              "4YYm1wSXELRnXKU3iTE0v2kPghhkjvpCJQIQZM0UKJRia3n6DkPIZb4HeJ4sKi/QFDM8/ISWSPLV\n",
              "NpiA2/Oa7/5e0WtXxLOYWAeh0RzJ8w5a9/Zrc2T+chi6b5Sjp4a3pv+2afAO/U+YVIDtGafNKVjW\n",
              "FOSksH+8pxZhW/bzwZZRbvd7Vecpj/LJyO++LBNtf7MAsqjCdmtJgmK2Z+PnsIkkfFw66NPVUhxQ\n",
              "lDA36tV7ELuYZQj1rGA2cUiGkhfk6iDwF4Kha/lZ1z4HCewVzIcAAI+ur1B5vvqJxK+R6oPrHLSz\n",
              "XQUQbxkVqSXS6dBfIMnmNp9foaWOf3RP/2gTuxkUb0gLFSsaYvR6Zlnxm/r4ZNAvsB3/r2WuqJRO\n",
              "iqf4DParfy2eUpepEI0cfQ1QDYkXoFZMXs5Ow+50CTWM6wctCcYR7gvdS/GK2ct/yrnXmUXHdSP0\n",
              "GWrAfUkT7KX2jyfPOVJvgq33adeM0TOynNjnIP1MQjQpNylfY1dmXemgmyi53EIWSe6AGBQJk7Rs\n",
              "HuEjEKzraQzOzCJfWGr62cBLen7f9AvxTSpMPhROlAlr/RNT/4VbTiFmfOXvHFR8zXOdNBbxwJjP\n",
              "onmQ9B0VvnhpklJ7+O2rt857EYIQqvrJK6/hr0yJ6KurPjUgYdjuRgN9E2Dmg6HDO8uBeyYdZaLX\n",
              "7iLdSkH6qSmL83sHEPkIdVVqqRjsD5zCLBTIJe2b6h33DCGSUQyVb2iD8ma9bWgtvWqDElOI4sfU\n",
              "sldym5UCuKHN7bOBBY+iYSw58v68r3KIOtiCSkEfa8EN+fY6MloVFtBPq5U+jD9h9sgE2XDQa3xN\n",
              "7mxOcDr2BSBRIAb8M1K+LLEkzL5Mhd6X/ytM+84LYVp1dt4V/0SX8CXj+Wl7/AfKFVFEIlwb+jbA\n",
              "FoM8uI1FditZwLzPPyDhhKLl8qpRoCCEQNIRSWFjL+8uB/o7/LQxV07yeuw9y8W2JP82IlscD9h0\n",
              "7VLTBBtnVYZo6RoJGbdF8U/M4+c2ZqAkLjrxJy9RzrzrPhiEty7oJyAieWnNWbeMM+yJlF6ZYEjL\n",
              "3vE3bGv51bG/w4/vGUCvNf0Dpn/hIvYB96n1OyfHIfwQysx75talJKDvmcgBDmajUBKxvjy6pXR9\n",
              "mBE4OCEv9ffc8HeDaNaotbI1sLExwU87GpwVJC2iWVgLdB1oUARvva5eQ9sJozxmEhIeyWyhrvRg\n",
              "6UZcwPISlhMZVnbPSO6vJqG2n/rDh0kj/ifJzUSgPx55V9GElIl/M6dV31Y4Pqkx7IVlUqX3N+qK\n",
              "0cxUsQS+6ZAmxGYH16c+dPyriCPJKHVDLPcsSdBVrA/iURG34YeF217rBUCwcydH+M3Sqemi/bWK\n",
              "tEpvLMcO6vAdcGJSLK7QkWCV8Zwh3gOfs4qEuJdJa9Q4iNF/eXwyjEyMDdqM1CB+iuJoCpnMyqut\n",
              "aGSUuFdbdM70LzVGVq+pGA7dYK+vq35su+hYC8v51wNCEOANhS9IM51zLneiyxt3vIbw2ftTq+/U\n",
              "xSGRfdFddByKG0mk9airFTvuqbAZvDnFEO3ie7seYzxfpQeVZpfQTyzu4BZVp/fG9bqSwySw9Myl\n",
              "cl2ybGbHCmH8RG1C2TSybIxAC9ZgvFOn2xTlxXpFvH6Qz7TG1KTvRGDUSJvQ1U7s2ZQkIwkNu/A8\n",
              "8YofTuLewDqNOSrKnYvzt9gtKtWuehPi830H5sGevw/M4ZMz1ziUSW8b32dtfJb03C+y3tWXbzek\n",
              "U7hiRJzxEaLivo8nGXXAAd4f8G+cWjVukqP5jv7JAA2n/x+dsvOvK7xqtW7pASPKVQbXC44kIF4A\n",
              "o986KZABjXm3NkylU4Mc7dwCHmDWzmFn2jJd9FrJiEYRS2J77J4K0KOvusMJsmADlt3LkfIhpe7T\n",
              "cInfQMz+0RcYW/nL3S9JOehsnikBwQcbQ8SLjwTFoyOf3Bkr+XX8+qxchPERZRjIegFbeI8Psf75\n",
              "x4BkzaQOtcrIvUPxBfb3pbrCqBAlfWGhWKkekSIQ7KfMOOPD1rYIOhnOMBPPV8heit7St2yHKiYI\n",
              "ip4NsBqdYSUyl+yYx31J4GOdt0u9DT/corwGsSdDKQ8Lnkum4mjaBwf26if1JIrvMbpT3N9iINbE\n",
              "O2jL3d0oxCeysxXqgC8U+DVSybgZy7ZQ7HqWCujcy5IblNt3oqm8iIaQArowo4yJ/jxSasbKZ7Fi\n",
              "o+dITHkhouInWaZJUV2iZcDCf90vv4zRW+1K6LyuSNgzDBat5JfnizfnYO3FLX022hNds3Apel+B\n",
              "bq4OLoMUc9uBg3fkm7JNRdWWISVRh/fh90XxGnwVVgxOX787Pwali+yZn3o0oDfaPL5kTI3Ze0Qq\n",
              "1yy6nMedi9zzhOCmMwxxeuxqCcwn3Djz1uKXeBbvZ81cEVLc6N64Z5fSjlRcJrCms7ySBu1rP3yn\n",
              "SdJHkFqFlbIwQOJmCa20CsCIrIYTSbITtEFl1ap8JR2ZFJy3AsyUHenyNesBp3G/pgKRSdWF56zw\n",
              "Zj9QYCOJ8pAUK3LKsPB1kf+pCYWFB6WNrqqx/Ok5vDewtyxgLVYcThFW81e8V8NvTaIBxG8I5xu/\n",
              "82/3ZynHxVnfibi+dTq0rvXVqh9yLz1Ht1HiSLlh5rJfqHThsObPBUuokmadPsIduPGx3Ivqm67p\n",
              "eel5KaymufbcZkO0fw5RruBeU3Mvhyyu/kE1Sa5PpLK/q3K1U3MxoTQxj0KfdlwpheDlXS5u9nJI\n",
              "QXxSKaVLjhOW2VRAcCEX1dW2adz2PV52SnnvKhXQIDV/xX7y3qCRpeSsKlKCezzC61rFOSH93CFy\n",
              "wxyQrft/AgJ4k7Zjx2qWfat85kekm7/nQCmjmRZNr+rC5uthk6LwAGHxi9neoZGss8cGlDwZ+YX9\n",
              "LBADCBYgFKFPsApbqQ3iKA6Uo/YvWEnxY7DitABqLWvdtj851siZ72peKHGMyB62UE7cbssdgPuE\n",
              "J9vTfyLDxbt120OXUyzroYNWW4FajPmIAEhz5Z9Yi/AZnPxLz8+vSRo9eXKulacqnI74ZeykqnNW\n",
              "H+EaJTjQaZqQAjTfvMIalABvL9+Ram9sr5hTCS1qwwxSvjMCm9SBS5i+tNMFP2GO2zmXjlviJMsV\n",
              "sUTtFgYOPOYbp3wluFylSCYF5QVjGWFBgCxsolIdDvhwr2ASQgGyxNBlihs0MbshgB1SDKN5f2pM\n",
              "hSz4FAxGFw0HQ4YpZIQfGp2KkjXqZsCFVPv4KZuDpvfX7UZT8BC5/HM+Rn2iFyG7EC1uYDFbAGEn\n",
              "8vCbuABHyLbL7eVyVZx/7Y/4lvJMdNFTiZ0x4Wob8T5p8FGLjgYNMx4rS1G95jsfL3y1DF0lnurm\n",
              "yNLnW/2JmcylLXKw5laPVhZy1Bf1iiIAKsO60KVBxpdVZJvwTOKwfKaIp7Hz6MvTvcphm1i+a2gA\n",
              "09RkkPj5oTItu2BCY4oV7iH0lGdk4n7OAlfesPhos8qKHR2khoAABVJf0QXQYUfgoFYekJP/XF6i\n",
              "rpkv9hw7VHKPrANAukwAo2CUorxm6w4oMFPxfL0zt/JqGxTtSCTZ2OhFyYnPv5mCH/w+GzryNCVJ\n",
              "UqTZyk69mTOUCieculFqTeBhy/f618DPypbXs2tlASnLrFgrPsypq9YeuBrN+ucDjthG03FY7Njr\n",
              "pIcGBcXxaHqddrNEKQtUoL5f5J+R26AP5a9ihOhQ4/Pn36DYDuz8P1C5Drtl3lVO/1IPVzgkTX+4\n",
              "bWhSsqJSH15NO+KKg6gd7ufjq31XCQEFpXTh9e2rgCC+RiiVpaLqU6F25xGaTgfUopAyPoaFVd89\n",
              "Q3XJDXPm+B+W1S3I/jAyrn3PZj4lB8JvlFAhUnmZF7GvHm+fUtRzXKBDnNWr7zFnQyXcAF0MkyBP\n",
              "QLwlRFMFtO50pHMaC4ieOqTBAIOwbxMj0gCmimpwlygVopKDJuPGq8Gkrgxerw1TngTRznWr7FmL\n",
              "qRZIA+xBa12vZbnqGwyWvI+dZR5Dm+co7EvwUt3Rb0jfzfPEssMhCjO+UEBEQLizNXSrCGRopVI1\n",
              "i8ZVSf/m5AbIJJgl5gVoPyrTRl8tyM8TykbZQnja538p61QstE4PNZkUvA0OSZbTQuIJr6YwBiSQ\n",
              "dfO0rlDTCQw6PSMyDUAmd77iFiXmldHqa/u7yqHD5w1dvAOYCH+4xE+sJYu/grwsBI1qDDY1tf1T\n",
              "2rxFkFVu8iHlSGa5IMGYLt6C8TxXbAInmloVncBEm3xRAoM0QCSiJmgV4nB4+lbi0VJIG9NnSn10\n",
              "sk1kJP5mTfbdlHP25VsD+qnxOp1TZ5JGWW5b6BpZBWS1NfYaze/FP3zCN1MJRJQq/eqJ3GXYngeN\n",
              "HSIL32ZzspPZzbJImPo1vtnTPMFuxNmYySq8QCCPKFRwlR+ZxMu+pr0E2Oxhb6/B8U0FPsNP2cT/\n",
              "E5FPkP7I8/zJO6aaOdl2KkpZge0KGRAO+SOWnPF3PWWyk3M2Yxp3Y9jbFfFd1Elk3TJJxnYAGmak\n",
              "V9OSwFmEtUaz353haPoDu1v3/CmYoUyjCamUj1SNo7o/qA/JZ6aVItKnN3ZLUIkaemAVqROmRRpd\n",
              "yJ4C6rX0bQUnUGpW4NAbd5lR4dfZZH4LAfKODp3fatBW/dg6Yiok6pYkUQdY/vcHMPtfAV4kD2zt\n",
              "4ooWoLTAmPP/bZN+YLmnIwNvfQGtZ/3dimh60fRIi4mmVBrDT9tXhtNFvu5kEOp8sIf1idTB2JWp\n",
              "61SXpbHIRuFDhgXIwZyYGitQSzGyMxuHXtspmtbw7STKf70x1qlV6b9LWSQPXDgIvPB2p0AgGWqW\n",
              "AmgghQ/MB1HuQ02ljHR2TgMstasq7a/tzdpydxlQy4u7bE9jo1wI6ycMhTbdsFd+mmqR4sNuXD5r\n",
              "CcleNbhNrrst4GGFXqK4N8TdNIrcEB9tuc/FsZ4yiOAkAGsL9FCOzFy755UMEg5Wc0p6pLeBXMb3\n",
              "IR3rSXTgKgMWR13Ek/2plQy0EKoMimR95x16a0Gqd6TMrT1vUJyUSc77OjYKlsRWonh2Cy3dQJpj\n",
              "lIsTgDFhBUhU95gIDh0V2u9yM5eqck5aoX38Pycnre76unLNzm7uYhXKM7wP0PS4zFNIeubLuJLl\n",
              "wN+hMdRuFnw703lyzTzQLX+9c8BP74StequWJs01xYJo2tjz1qrhD5T4uhlvtVYX5Ig8/Hk4lbce\n",
              "bPbBUDNhB0ZdJKaKfDf2p2Zbb5PUOFu6y9XSf8ylKJmjOvvVgaWSvVBMdXz/AbKgs2Uqe4BF39eJ\n",
              "lT6Ctc9BLGM8Hugenp0dvSA4MdLjUUfk8rr8rRdZmgAAI6EAAALSQZokbEEf/rUqgAAEp6/7xFrZ\n",
              "kRkfuPVvljAAuN+n2y5kIxOqdtjGBsgz9HRG7vHrR1ytX9zZkl+Ux0W6BjAM467Dhpdagr9RmFcx\n",
              "rwZnS/7rzNr2LDqV7Gp5m3WDP3L3QXiK7ZfLOuCU/SKz4+5vSOXrWZHzQ95D5kt7CCHRPMTUslqf\n",
              "v9abTlMEZAhPiGb44lsKzj5T9LFl5xaT+Chb4+IwsMZ4ugKnS3bf8pUV0/86eKvNsAxCKJL+asg/\n",
              "ivfmv+CCZ8yqtJ8PF2TsSrg98bZW4bx10zRVzFVob0vTp/nCHTShIJ+uEZ7queSEXn0R8O9/mp50\n",
              "S5y+4x9ZyB61mesTGZxIwFDhvbckS7bJSFtYfk+M3KUPQZ6FFpyeLzenvBaKh5ys8hDw9YVD3Y/u\n",
              "shvJMFu1rGPCFoGeSeQtxW3a9MEN2dY2O9lMlkpXs6hZQT5yI9sHC2TMTHuN9LpVNt8FISC8vuEh\n",
              "C3Ww4UgW1IiwJ36KpMDfKPj2UMo6f+Xp4Q9QYYMPR5Zs3cvCjBIhrWiOsi75XXSPlMMuFvN4uGb4\n",
              "wM9iLDVQmGpfsC7/3BvsDAdt7CetR5MZxPS/Y+pEIo+ACg9wEM83/d1QXdie0fW8WOhq8In0Lfos\n",
              "Sv/4Jeu1M2srNjZOkJ5T8My29ZHUVgACRqppMc7ku1RoAtUGfeC3XQnA6m9yhJRxyqeNSNkgcKdd\n",
              "J/1+JL6TlUhJgplWvNsn+JWjKYZeq1vMoqs7mXPL1MCNK9Q+J5/X35OJ8AmXJ9Y2j5WyBlw84mL5\n",
              "4ruqHk6Dk1q53FYV3GN3Cd+TggI2uwOz2vTgCgQk1wE5nJbkLr5xtndY13WvYDWW+KMFj0c6tvYw\n",
              "P2ifwzFzvMNhfgEMVWPuKGDUVv3Otvs6malLhP2RI9iTU94NPSQb/LKwND5YkB6W8m8YgbjIJG+w\n",
              "tW4sl9vqyWC3DDakCbY/vV2qJuAAAAC3QZ5CeId/AAASCPSb0wqrc/hehKNMABOauvO9InT8XaTF\n",
              "3PXRIBaCuA48xpx4eQ8HNtk6rp1PfaqlUQGn9wCHLH7d3u/KABUBHw/9lzckHR17/tds0eI7CWi7\n",
              "Xmcpo8yh66tNSfowDLZCWT1t8rFdh8ZwcOHOTRDikqNF8Fz8os3Onno7Sec5LkuJNo9xKNUBkhqm\n",
              "3nPj4369SX+HL49R1NEH9CGWDTH/sBJcWDH+cyAYBpW7+3dFAAAAewGeYXRDfwAAGbvxiP/97p67\n",
              "lPfACRcRAddBkfbHIpff8l0Uv2AIzjD0FQ3TrXxbg6/3At5uxDwXeKRSeqYND0ZLSls5605KhHKI\n",
              "YzuSi+QzvWVC1Om2K5NxPtKCCgvOhhHX0ARivZVrkexXC+D3APjgTX7XnRNTKsZ2LAAAAJoBnmNq\n",
              "Q38AABnCkZHWAIyeFRR6xtY4f+UV9M5iw20sjK+lHZWHVnp9IBYuL3FcXdFyUi8xjJbdWAq2/P3j\n",
              "MAFyJmZSzZURcqJZoYzd7LXjoDpWzEJ26H84Uohl5m6L3ruzjOgdi8v21eQaf99I8vVk7lt2rgja\n",
              "X1Db0r0xJoMOsynJjZch5o0ZMm2edBGXcpzIgAqFi5ZD9DKjAAACf0GaZkmoQWiZTBTwR//+tSqA\n",
              "AASBnHgHjgLvy+FIsAIND5wEIh70Ukl36zQNusBpP8h/oovOfqOYW0y6+Gt4OAzlBF1gxajkIygQ\n",
              "VpvW2B/XsVDvILpZRfi8YbURflat7AlxNwowneeJWy6MgSglP21r0TMHc5z1NUuIcHk2fc+akQG5\n",
              "BdqJSIf+zyeVK3Irm4VrLmZrW0K19/FnH/a9lRINXte5+pjaLGOn59PlVtDEZuIQ8wT4ag02ht7f\n",
              "bx0DBQv557C7XZykmDc8n/ruQql/ffO+chL7pwyhARUhdZKTHatc2jZAeK45VaEqB2vHf5zMZHSF\n",
              "zft6H3gwxgUIPdiwBpI/OjJ3/v5dPaVbo7mWMtpxTlH0B5VTRLui9LaZcDoYOX60BCW/Nk4iVhRq\n",
              "Z2sW7heGuK+23VlawemStVEBxDKRSd08Li0EK8lrwZ90hYRCczd23tTlvaFhzb177Lr0rdyxTXJ/\n",
              "uwWP7JAsxa89yOne2P6OFGn0wTi3YD+LxL+5IKKjkJKIWQFuFTnKi+VcDhLYcwrgnRtIvRU3JIAz\n",
              "SXARcLOWLBnXNWhaNwN3WCFEUZwjWFsLEG+WMpxjx8ojGXuy6BhFjPYQxEXUDu29L7LCYyW5211A\n",
              "mqFWVP2y/+usB3UmX3JFgQ4PJ4xTf3+8CNodVgHleP0ldjcsJ+AV103HB8QUv/jhxK4kA3OKVTR3\n",
              "pPvrVoqTmAw0jrrLl9ytnD7LCOn0/60W+bp77Y0970XKH3u26jpGnSJgfHVgPp0ZNYqCHYHeJY6W\n",
              "XMhWXwqeEWr/Uv6QXQipgQMV+Ew08GN3e+oVIqwEcIDzipHZxHO0MXOJFR8B0D4E03rsOwAAAIQB\n",
              "noVqQ38AABkSdqVyFpdU+KXVC1d4A7SioKzPRAbXbhxM+Rhgov8kSffXnWCj1rQvvuhw5UiIruXY\n",
              "YpkCkf6w2hIW99hAkvX2GOlEK1+AAiB8YZPYCTO2JjY7ItzZHELnEwA0iOYP1TVQ3pUWF+GBS/vR\n",
              "RM/WZyLAB06hkZeNnU293j0AAAK2QZqJSeEKUmUwII///rUqgAAEh+zb8v8ExkADj3pkzh3mvIkS\n",
              "ukNvPNBP5g/gZ+t7+vz5VSKFdv5oNmzhDq5l5nG4+9jw3LXdHVEozVYcfKlgvO5/6XxaUzReR3p6\n",
              "qhmvWLaBr04oMqYz54vsgcPcYAvL+33z9lx8NuyfdWun3+5tXmHLvELUMiDxG2LL4h8BIH9tDPvx\n",
              "anV83hSslucNDeLSAQ52xQgxLyVSNtl87OEvxl37FLLfMeVqhIb23TM+l/9IfT2HxKlYWmdYwQXj\n",
              "/AOOjKyyjemwQez+W5Ri8Sjba6D7wXNFbWCpH9nVgjr9QYIOw967kTnOCZROfR5sVw7VWihReoA/\n",
              "7WBKE2KXOvf+edGEymcuZSr96TiHe2SIKivWFOGn/vWJII50SOFuvHbxAUwFclw1b75oYvEeAskH\n",
              "KiVkjBOUHIKevF1IdIDbzCvnvZgiLOSnPLWRWHI8lQckSZRNxXFUv5Ih0xLANvRXqzqTwfM2SjxV\n",
              "1xohRKd2FQ9rBxNej/NF8Ds1POZPEj4IP8RqkgeC5oaUA5FlvFXTojfhCyPm+QdMZDr+95N92Vo9\n",
              "ujfPsJDi9R34gYamU76lwhbDtfN7+W6oNepsI8q1z6bRY+1xJpy9oGGyebMUhad7pu3PNjNgJaTN\n",
              "ISr57m+9z1a2mP9W6TsR+I+HdjW8fsZ4NgB57s/z5OpXzImcx0TgnUs9h/TfrBF2tgW+siMN02En\n",
              "wHShRtz/JhgSDWXAriOYzO9RbNNB0USt/Nu9k6STRNdB6XhKcHKqE39NsxW7ssbw0MDkkCMkqKgL\n",
              "yvcvU/ZDou82NT9q0FkpICjV8fLv+8FUkyWAkwD+N+L9befSbQ3Pwa4upL9uIWOvJIMKENgiaFbi\n",
              "ZoI7fa8CXNokiPlqidgrp/2sWG5V7TA/C3UU3mI+sQAAAMVBnqdFNEw3/wAAGSADaU3aH6+lQAKh\n",
              "s/sGP2csMuM/Z8bCiXZoIDAVTu2ABLWWGL4xO1seb3khUKfPcgjK2/zXb3TnG+D6g2GactQz0OtQ\n",
              "wsjYzOEqUI+htWKhghPN5QK4+rc3Si++6YrANQIm1Log3TWzvzPa2KGixScXYcq4T34/f8I66tui\n",
              "kVkR1qnmY75lpgOCMX+PUzzziEoCUuT95Jqk+pXQrGJqwBQGDrChPFJBXN3h/Y33jclOAHzWprtS\n",
              "nvIMSAAAAIwBnshqQ38AABkgBHP7Jk/6Vo6rW7hXW1og2gAm1ufpmyIBaDRln6xd6DJ0/KK4NMvn\n",
              "aMbUw/q/bsHCTHWcoQXY/L5aUoDeH4NF9MxncgoYsgnCBalf0Y3FGgqMlB4Wav7frcVcMYd5Ef+J\n",
              "Z1Wzm1f8kbKakph1W2AeAv1WfHrgYGkAAz6nEdtAlIw6CwAAA1BBms1JqEFomUwII//+tSqAAARn\n",
              "r/vaPj3IWMLIgNRtU40gSykFF+Db9rIZ9pfmAEPmcl6HY7561HYnehvjpIgPf7WovzR/KIhpAR/T\n",
              "fGPDqA288rTNn5ht/L7agzOqZZzylusY9NXjhejYeCS8v2h4xtuejsNIRabrBZQyNvQDQf7gJmXV\n",
              "p4xZZxeVu3qgW9hyBSB2vuqd+sy4ZcwVP1qLMbrIJT2els4JiuTQqhcL4DfgMnUXZG3NJ7lMme7Q\n",
              "OWkBcoF7pTS1cuEbIrxI3rlkjtTS+Z1zuboFCsTqFyV/Tmji9np6XaXEYNyMpXE4tlxuckqZmHdo\n",
              "IAcR8q8splqFpnIVpaZcR3mR4W9OoHeKXH+Gip5ZrKrM3suySIgCM76xnP5MJhegqBwIyrFyRoU4\n",
              "Uq7X8aUfGn8O0aln77Owvk6XmQxGPdBLVXj2EQfRwFp7tQVeK2l1GdM0YnyzglvK1AkJDwjXaanX\n",
              "DNyJUUg90PqFVdiWJK4LhRcyWRnACvAaZxs9oOdiJlz5s+nVfxW7SyyOVX6Ji798c/jFX367wz5R\n",
              "kHytAXUX14i3hambTbHhdOxfU0rLIO/CNoI5PBylv1+vQaDA1Lux8B8iR/X6MJN3o0lEKks2jsmi\n",
              "o4ypmNgzcLUDpG7o4E7+BTcw2qUiUs07TBfkf0Zpqu7VNxzz/syi+ZvHfHkiXd9vnY9vmgnZjISe\n",
              "/w07XMRgpGTwaWpPdbU2QJH8Ayc9PA1FIV4oHIHWJGLB18NUkP5iu+AAPoz7GGqQrfahxPQrHC91\n",
              "T/KO7xtluez0Z4zz1m+jDUvrlem8AVbSH0VvkkvNmL5A3wMIaNBXkza1jqZ8YnYxFddlin4KHvVc\n",
              "BhCc4W3VvgWa3oi+luwKiQfLwiT7fqlPXhytrRnuwaHWD9IlZ0i/NL9dNCf18YssJ/o6PlLEmIZL\n",
              "SuZ2KtH9cjUFvf60v66sT5JJ1gqdfxQYYmKY6g/ZtCF9+bFS4cuWLp/OCPkz7ZL07jWf74Prey7S\n",
              "anh5hrrS8eseKivp8WHj7rGTPJJboM4mOhRB/5JMKNeesdDsXaE6xmGl/6Rv289rPArutw3LdZU4\n",
              "N+lrEioWX7GPwrRl6WwTGuq5mjFNcq7XcrmJzGlwBwAAAR9BnutFESw7/wAAEQck2858cHy5Gpr4\n",
              "WdnXtzvh9otq4Aa1W9UwlXi+TxP6WS0SX4JS1z/ZV9d7iYFyN+GWTqzOes1vVSoq3/Brwzyhd0/e\n",
              "8pU6L4O/4aCUyqf09zSkOCHTZQRYhT/slMlNPzi4ygWoiJDcBONPyR46IbdVEVFwG8v/Y1qcnMif\n",
              "TL0CsViR5SJ0zMaZ2PQ3iMvuLsUB7Ks+GIrHDNdv3oUs5U3kEPmZMCsM9BwWuMF4sT462cADjgXW\n",
              "2Lu+KPJ1M19mJW634q4b94LO+Vm6uKyigwH420Y5WTWQQ2YijpDXvq9u9BjztAVIofJfNrY5ooEl\n",
              "U9LK5+Ge6/TzgB0EitOQ5yhGhrG38QNmEAG76c8p9ImX3+TzMAAAAJ8Bnwp0Q38AABh+qpgOohW6\n",
              "zkwib+iKRoSbzZ8wrX3mdgXsIgc3FMbEUACVDuI9LJWhyDdQoHe4YNGRi7jkih5CfVuf2zw7msde\n",
              "hzs28SEITNrghO8FIKR0urdnCVDQp/8OOhcpj2y549XPNsOtGbjJFIFIs9LL6p8ijVV0bT9gSXO2\n",
              "IhI4UcoCwcQtJqTddNb+4Bj3cSKhngAdpTiCQaMAAACKAZ8MakN/AAAJLGOi8PTq6mIEQn9lxHVo\n",
              "d8NXZtmGMiWto9a9IvvP/a6QxxocWwAncAAD/GZxfYZdLyKJom+XwcclLjerKmU7ieqoRwHWs6Tw\n",
              "+sWTxF4HjVt23Zn6h+oHDwcIN52UVutYaYnH9hcBN1a939vcR4ExmeTEigA+iTSLUGSqa80GGWzB\n",
              "AAACqEGbEEmoQWyZTAgj//61KoAAAaD5BG75nCt6FKuU+IwGJ0xPCI0Cv5ghBr2ICbDsMys6wDpo\n",
              "VfdB+Eqx8AV+sBlvAczElfRHatGdsptK+ebrbPrXIrMY128GzscShd+5oKSq2s+3y4IejxocS0k+\n",
              "TpK4cOOlG3GHXD95N7h3Ig5BfslVqtkdhS5bFRTxQbyJQAZiRnn7c2hROQ3uYQjnXKMbd9L6LnVA\n",
              "UNJJaHuuPK1yf+4lV6mS2PjU2pBRgQlEE5uFeTSmsF3nqjJJLOiA7gtHzO0Z4HTypwyFW01EFEsE\n",
              "RXBxLH86Tpu/qZ8wNKtNnPMgXv6obtYyJ5pnhYkYtzloV9zGVfY+qeD9W3B/Ble8Yn/BEtJ1nMmu\n",
              "TlUA20m2NDV2+Cs3KlDcO7vjq+nrt3QRcmrJQjj25axgIJqQkIaGweD0Z/3nZSQAHAr4hd4NiIHF\n",
              "YqB5OYdN6jx54q1ucqcgfxAVXpekzuO0oCEYNpaYUHfKyqjQOGSg/LC+hSuESGFkPBevdFql9CXD\n",
              "fF9eS5/l7GPs5sWS6qiG8txO9ErHzuJhL8yiR9BUaqGQ64E8ZbUvDO00IIBLZN7iF+cHVge9dA+8\n",
              "75goRzxKsmrhzn7sbY2ahwz3WAUCwEUBgop5D+aPlZxc5MsHnNRM+3irJB73xc+bHg2lzPu5vxjf\n",
              "JTOavLTIbR01J9QagV06oU7+iFb9d+B/DY4mlGkBwPLxlrUfmayja9Sr5/Xv3FT1YXiEkxV72QJ6\n",
              "2bga6SWzFmDvGRPWCYLGza8I5DH6ijy3/JSufDXo99GJP60T/v52PciooTmYkRf/4s9a8ohZLocf\n",
              "S0WOwCXiiSsAEUzDh8JiJkTvdfjL5tLmg9F5KcG+oEqd3wgbqT+WxR2rIs0vlKiVrVTr4sFdm0gh\n",
              "AAAApEGfLkUVLDf/AAAI7GQLvsIcek6GCmv93gUaqXwq9QnXeczxbz0JN8UPMFZ+ACxxkD+8qutY\n",
              "19EXyzThqgPiD5HEathi0QkkulSbn9rsZsqd8fA/vY85COOtsIld/8t9DoQAzT2wNg9dRJBhtn41\n",
              "qdUJLUe7Ou7qbccU6tqI2524Cvlg7T2vIWpYGAvU7AgB7TFIIS1ASDh6F6xR227eADy8BAu5AAAA\n",
              "nQGfT2pDfwAACK1IInSLChEcB6e0kKebqh+65iegARzQaLQnCSyM7AhNN4vqpHTqjoKa5GaRDndu\n",
              "mVFlOcPEBn0cMaW6B+tR/e9PtWBN3dyp/+vAjfQfZePTdrLh4ztpHHQPke6AgYoY3PObzVPNZz+B\n",
              "E7SXS/pxS4FrjB99m3Uwu/B0abeZtWK+L5RDv+6pGh9lpayrAGzZT1E8/4AAAALfQZtUSahBbJlM\n",
              "CCP//rUqgAABluQ+P50e5Cxf0uV3u4ABxVopPfDKH7N87IdNDDtNB7GYN/mrLc7rcWKUsaE6fuST\n",
              "xk6x8F0zGi7PhOStChE3Jl+r7thDlAGo1olFlWREKX6cgpSdfCknqUWJfLmV4+tBbQUMdf4yS5vP\n",
              "LMWhHWJdAWrks0nlaYJdB3druKNmn4y42lHV0Uhd4uN3iWTuyitB8LfODVGXn2cEOzVU1msUj7Gd\n",
              "hqxbHX3U4SGhiqTV7qh3d09VFGfJQ5X7x2jwrPht0T3bXmCtUKsc9xUDudM5OWUCvgw3QqUnDO65\n",
              "n9qyHttoiSSF7e6sF8f+HPywqpSppRQng15JWhk6MU40v5PfvDZ+M8+nozCP83xaJ9cD9XafXjjR\n",
              "EmRo7bkPcm7cYBLnVMOdAf6DpfV0wW2kj96fVsOqYlOsKWLyUhfcjHc8o5r6bzrUQCgeq2GkiIDW\n",
              "loLEFrrIwa5aix2TaLXc1jVQzqRODdVcDkpGsfFwozxAOn5VnStYIW4ayCVq580vIUp3CXyBEUUl\n",
              "ECkXlPL90mqN2keabaB5HOPG5pDnrOOJM142S3iKOA6Uflmn1KimW+9gLlEfgHx13CEdl1RsmKh2\n",
              "BvB3LrApjsEPdFccIUHY7FMgqmRY085qcrCMIezx+qDgrCF0AmDOlALS751xJSexdF8tofQcbP7P\n",
              "trfgFAOMwTER7zU98jPTwXNRp2G/Webo+nm9QnaCB5Osyu9VxrfH1HtSOcz080JIBCuMCHeoleZr\n",
              "Xp0OfemQgMVJJLKwj8+ScJkwJa6OISDPqlCmGfofOvvlxguLrjq3T/6S6nNAADE4yE+waaduSwq5\n",
              "T+j/hrKXC9EPEbRIhmnHxqCRVtq6GP94MtSUDyk9+2XKpRUZflMAIJHFpLGHxFty1VRHOgVB/t/K\n",
              "EI2DAkXMoxfn22M1EG4qxUIGvy6CHgSAko99sZTR1Za+Le/KuMQ5rTXAAAAA20GfckUVLDv/AAAG\n",
              "A2AjQzvUVvBFITlxGAzWq0T4WOnvLG/Y1FqUA/MTrjY1Up0QSXQlAn8xZHHqERC0Eh2VFHq9IWpz\n",
              "3uwa3FK/1VbFEvRqjUj+uSfi6R9rRm3jclmBZO9/bu5xzYsw3Kv62Hg5/NsrIYeS5C2Q8uO65yUm\n",
              "RytnJwhNYc7/NfKEqUQezuL5ABO4wqVVwI+4sSgx4o5HDFdX9GEqyK497kyvEcrsu9jLndlL2ou8\n",
              "SfaTBfxrHxuCuzY+NDR8pZGvTftioAD8f4qAcTqpnClqduH0wQAAAJsBn5F0Q38AAAhPmYmXisXL\n",
              "rAQN8o4GUabgZAkckBVF0Tp2Zl0jQAdxpVYxCZcQUrTHgFetohnBsI1Fu6/uD7peQ60LKgv5yrtW\n",
              "pweEOGr+FPEK5i6+zmw05g8qSaxolwKH3fq92hjMKo/86mtvy8KAVZXq+l3BS9wvnMqtA/vdB9nu\n",
              "8ykatC2LVsVsmUPolq3aQVivgAQWGJwQ8AAAAKQBn5NqQ38AAAMDS7tUfkOZIEzQ7oneQTZpbo3+\n",
              "QNAB/QA6QAW7iWNCmgCrn2odgWL4TSv2Oc4b/jUZlH6dwrLsvEexMueQ16cBo3NQFsXUtnz7S82z\n",
              "BQAWUht38s9iHzPcVCENJsncGHcCOB3VAZPZfbtZaH6I4dPbVPjq9SKm8jl9sFZfxLzHuq60Wl58\n",
              "OP1EonDeVNcoTENyAPLg7WDRL0nbzAAAAhFBm5ZJqEFsmUwUTBH//rUqgAAAnPX/e836wMreugGw\n",
              "AceP/hvydEI78jT1oXebHY9fbbfgDBn8Co3KLFnJVcbQ1VBFkP2GNd7/DiYPDemyZ8a1cgIikKHV\n",
              "KNLfG3+ODaD42Qu3fiNBpJcwjQSyDY/p8/vpDyMVOrM2oxrYDlq1RyKDhm4GleRz6dWB7BANnLrA\n",
              "swD1vSUQ27flCVjt5M3JxIuRttyzkXyhJ84KLJrNSEHpRQ8rYqgLS77qeHsFjgNpVxMgcLp5i03z\n",
              "qBYhEQSpv8/2sldDU5Ml/kkfz7AKgl2vG0e+hqdwiPSynIagksvSIMq9B5MY+v99nX8tw1NR6E9c\n",
              "mie05QtMQaynE/naEzHPCZ26AFd1iVkNmreFHlY47+QPkY5PKmgP5GRibH9T71HLKF/LGxE9YQqZ\n",
              "nQZ4bgz+o5DBah09dokFLFtmcbq11iBQDWACxXbxNT9XoJ7147TOpYsfuz6pP3ZYRK6PdY1Zdmmy\n",
              "G9jxOuYGQn+M06dnLv9mvEAlUe97JsSLUrUILI+rNjEwYdOq7x7X1Awrq0RnFXCVPk/MW2/HL1tR\n",
              "ZNn1wF7kNT+K6k5RNmdJnzK61aqqdTHMxWcS8npRBBEje6vtP3H/2+oVwvRbvR/PHbf3evAVw01Z\n",
              "eJTs6sU5bv6I8cfTuNjZoZMDulA0ONHozbfMXvOC2ajbBX0loBsGDI2hAAAAjAGftWpDfwAAAwM4\n",
              "AG/J+gEaKxFWTwAZAWKIGQAmunQAlWRvSemQlQLtfkQcgUQqb8wTGL2IB2DWr7vG1BFXUBaJszqB\n",
              "NLHL5YW2p5J11Snv2zi11DD9Sl9FQ15tDithNxOGiOGPbw2eBJ9n6u891Uh50kmu4ccl+OlSM4NO\n",
              "qTTgAMQ8Myh/jY4Lw7leAAACt0GbuknhClJlMCCP//61KoAAAJD1/3t4GP9FmhEgMqL0c0uV8AS3\n",
              "q5/F/1wbireVhYVB17DtctQ9v8m5W6xu73YTf8fscst+wqgJvu+B6j6qeaH9N0UJ/dL2SA1mu9US\n",
              "sQwq6DHKjPBFf6vPerUJNX8r8jEQDSosf4oOc2aAFPs/6wgvmD4Bi8qTsnpyMKmRVAgbk8Z7QHkg\n",
              "YYMtigh46FrSn/JQrqaT0OoSbw3x2OWhiUhWk+568TB266qqlQxCAoi6NCl0mv1hLYZCMXQGNpke\n",
              "C1GgYMTnsfAkS8E9Guvj7IUoHLabAzxaBCsszUmOxPS9plME7QFfc+E3der9MJwcWEyVv3Brc2CK\n",
              "cGDWALfYpG9HsF8cVwn1+KWS+03CD2056gUD0g1dWLXM7vKgG7wJuCnfg1H+jrfD6x6Ijdx+Ry2I\n",
              "oY0YfxNTsWJFkwqZJhg/jthkq150JlO96QFVj18qRQ/u30UYr/vTD9aouMD7lWT1j6849uTJpJ45\n",
              "cUsXbv06TwGhJrDUaLAnieeqnTaC6pfQ3vYG/edgB8L8/AGRRI/40B2Pl784+T3tatybvOl8Ne19\n",
              "YTRHjyIoWEqFZ1VDlCNfHFaWbB3GVHPyFh2L3I62SO9G46C1E0RqQL0lCDgYI2xEGSV1nk4HU0PY\n",
              "8j5mAAysdWeZ8PRdquOFmbiIDWQ8x0MA4H+P2IA/Rgod0iQqGbCwULcrOYrkQSfRkcQAkKJxhBPM\n",
              "i67NIIxWr5rsdzN1L0/SnDBYwmyWvIZ6fkHybDGCfNuJknC6PLsd+Mb/oQRQWrjHjjK1igSyzvwj\n",
              "ct6RGXWcOXDcJxzAPWUKAZUfGhAR1AIY61i2btIlfxCvPO3/Rbp8arq1M9LgfstPHJgIU8jtOPq8\n",
              "rgO5JP6QVefwkKWg0YeeDWjnl0m0RPo9kXCqQUSZAAABA0Gf2EU0TDv/AAADAksAIxLeR7DsgYSE\n",
              "gXwS/vD/LEYeow3jdYK8YGcxpTlwe9QrjACqrsx9lneX9GoSykSHPqTlVE9CXRDGKYR/3l3M5AwD\n",
              "7OsF8D+EQfuCid0VpdalXkxKuJeAjrTZOv86l+kBOVvraslLyRNvGdbW8XGOdk8sOQWoIaBpRoJT\n",
              "oR+a1jrr2XculuT+ael9wydVZWCS16u37naMnuOXK4UidvDZqdDtUbaVagUhvG08nMNb/8kHLhC0\n",
              "cCE1sUTs6lQMLtyonBKJIovNAjbHGG6seEwHli2K5Y5l4YsWvf7D+oaD/zco/OYQCFSdDKAHmRgn\n",
              "fVvGn3Goh00AAACVAZ/3dEN/AAADA0vVUqq6PdDNiG5Y55gBVIjCl0g32mTIuscnzMPLD+quKq8g\n",
              "EYGoir64EBr1v/sMykYI2eA3EjoAJS2po4uEIP8LRAH2AP4SVn5arWDTQMy9zHrYQN0l+SncO0BW\n",
              "aGLUmyuq/ZaT8VYLMOsBGRnk/2RW59nzmiJYa9CbMmTRwKdkStxoAdCHccNN/aAAAAC3AZ/5akN/\n",
              "AAADA0xdJht9YGqRaAUg/4AddIDb5hl9YKqH6zGSpzmtukLmVy1dy1bLP02GEIuSx+7Uso9JBKog\n",
              "+BOL85SUct4apUdqLh3QA06ldqaKumeIf6PxNS2UIs6pyhaOFfh1RXpODd/vdMehrc7/K6NnvnXo\n",
              "TbunNXRbdS7hSj/l0AuhbNtzayAvr1fPW76Tu4o9pXibftyxK6jIRSvGzbCkzaOF0j+eK4wBkA5+\n",
              "B0MafVphAAACnEGb/UmoQWiZTAgj//61KoAAADqf1cEhKTaxua49h16xCyAMrQJkva0HWOPxIKhX\n",
              "PPEqMKQEHqGk+7CPZGDeOdE0ytd2IX7lcYoGsQmVs5NOmOv6AB5zl+/T9I/iks0TAnDRhjQv2IZ5\n",
              "Wc55eAovwNHBphNv0GLyx3kdjSOUcU//faEY7glqI6uALcAwilEJZdaIpRltMorGS+dj3xE4ehkh\n",
              "X+nIyS3CkyPKhuxdCqXzYEzSWFxcNw1RVAYk/LhkvQJ0EBYUHN15recZOfYRthWj8s08keNFJa+C\n",
              "FqiCygmOQt5jXwHI6yv5gtw6K+TXGlUsLKaMSudA6GfqK0KoKj0N2I/jEMzN6iNbvig5+QMs50gL\n",
              "dDlflZ+vbZBjAJ4O0QMKP+lJGSNNiLmENmcgNgFXbe0or9sANxbKDh318Cf2pLROLrYR5KXBcRZl\n",
              "sO5H8ZBYSoB4eqhcdOMCBknGzYncf9ac7BpIvlMye1v0Vcyl98NZC5S4G3i6l/vPuS83D2dp1q8z\n",
              "iW6DzOrifxW6gxPspz/paRM5JN8qytaUQOoIksnU0D/5po2hTNjEX32dBnTAH/zUuvJw3DnMiEsh\n",
              "RbTORMfRnaptvqVXDiupnTTiCAZ1bjvAtyVg4xLH6zv2l4ZS6W87DFYF+ocZ04FPSqShipHgWMFQ\n",
              "IV/GqFAk4tTry09efy1/WEU6PPOy3v8SghXL/MPtlAvMEomAk5T9dHVuRwnFs9qwYX4Rxi2rBqwW\n",
              "OJdFjc5lxvF5BEvpuFyNvHdf+gsBHSsxlyqvyydx5aeVdKswexuVJjzi4rrArp4Bo0VGtuyR0aIz\n",
              "GLjJtPo6Cd/0R3hQ085jx9zqaEFBse9xpv3JJY3eQY0rLSyOdSalmhNznvZJ4M6mryGkAAAAxUGe\n",
              "G0URLDf/AAADA0ymlBNxrVbeljBqdNo16DeyRRuGYRh85dnsp08ZaYElQyNk4FPU1VvMi9CIyLjW\n",
              "AEq9ZBrvz83O+EmdJXjhfTL/ooTDc5nWPkh7kjHfXBwodNjBzxatJ8i38IHp8WWvJS/Ko6NaIdCY\n",
              "h+GLchTUUcM2NEa9us5wiuqlBKIQZ8m9kCAdrt3l6XfIpKKwU6d5nF+PMfdmiHSONLJTEdOWGeYu\n",
              "5Zbeb9AmzgB2qcmMcYSUyblXcH8O07ATAAAAswGePGpDfwAAAwNMXSZBMDaXWEErnF8Zbd+qzmIg\n",
              "E4yAEALNdyOp+cnBNl/YdTv+zUC2BUUF5nd2NnUuST2tuUTjFlT/FbWkQpcgX3ikPtfAYZF2uiFD\n",
              "j3yACS3+w61QviTF9o1PqMOrIO91PztggEmzo+0ozrEYaQ1AT/iG1KggjKwvPPFpM38/+b3M8Uxw\n",
              "tnx+iz2dVG7gArfEe27upcYzywBr/j4KwRyxh7FIQYmdzZ7FAAACqEGaIUmoQWyZTAgh//6qVQAA\n",
              "AwByfyuN7JHesIxbinU6SCqpTNLK0DMxrzazC+CvhMA6i03qXlaz/ioge+Xpk010t9kpIAjq2pzJ\n",
              "O/auhPPQBE7fB+vDm3C30rpPPG0hNLavJmYy8sr6HiN28bjUx318x+lWfN/Vg9SGg5QPSclN44hF\n",
              "ISCnWxfT4/0Os2osZysqAD6B+HtqB9gmVXL40eD/QHY2Ih4YYkeGA07ifoZGhqdAtGiGS+y8dssK\n",
              "m3vufKCIm3kXNa20E9mRzjwB7GBTga9fH5TH/uP+mARiH5UnQM7eDLz1b4Oufi/RNXcFeLv5xfA3\n",
              "kLOF9Ycll24PldW0TXxsegg8Elz1mx8YeRbdbwvJHzLR4GQQBksYSj1bI4pBeILy1pQE16/f+vH7\n",
              "Fjx2SsCO3iguqURMuUUOOO4wwNJvlfJm66FwGj6Msuq0vo+m/J1QgvSKGEuI5NQT6slXW60OHT1I\n",
              "OIiMMRbsOxUhI2FXEtePzODXiM3/IZtqw0S2z7DrEtZJ6227ORSfIMsADPHiW5zOq8eKzl+ZOurc\n",
              "CDtK3aH/RnSGSnUpBAlADKgrs+2f/rv4Ys8JEcA1PrVxNE8GlJFuxyPVBGxgc9QFI03wNMHshlvv\n",
              "wZebscCzcGGJwMTc+5KGzNCpy8dCzgwbqpTy/64CWEp9k/xogi4Pxp39xc+Nbp+R64vtuq9ZD5lG\n",
              "9t1dw81MOVj5Iil9t2FMyQVQcybPxDRLSklHmD54Ug3NYSBM8CgV3OBja/7DzPHfh8Ll8/nNrYBJ\n",
              "xu5d63UxwD1cb9Duk6iePNqxhgQl99dLL+6dDr3IrCOkd08jlKvVxmhsXSPW0iYfbqiv3rxh+uGW\n",
              "lSSwzteYJv01JPOttLNleMwpic1EcnVRWwvLVe+JJ+ySjDydAAABIUGeX0UVLDv/AAADAlFKeDRv\n",
              "lDzs4CD7fDyB2js59gWlmlKRowJ1D1sKGNiG6rtgL08NQPwh2zGEvEvXuKni8eA4dId/H5SI2zxY\n",
              "1KkGaMXgWSoh4cI7coILGON6Hh6odCNsQQFnQhfHjyX0GP+6mGFwEPE5noqK8noZc/EiX4ru4BCs\n",
              "hweFgch3h73frjmI0ldAWoDpchjwVk8tx3VaaR6gsiA4wiPt937cePjPIgjqfQYqy6BkmUw3TFbf\n",
              "pYIx0THyqgeN4X31kVoSn5XzptS2JhZBxqseeEYivr20g3+xbqGC52mMJAJJMFItcsy8lN0Nmhxs\n",
              "yWQpaw487NVcwLUBNz1vSMxjUBkADCq8XgNmHTssTzS2wUi2a31OxzAHcHAAAACwAZ5+dEN/AAAD\n",
              "A0vVUwJoh0t+h29rhnLsT49PuKDhgs0J8EsFIeZNLpPHWaOoDP5Gs3xzxeXKhbiU0X0p3qSiMzuy\n",
              "CtUKLAItgeD9ASvMNrzfzrlExlgAP3fYz996wW5WqnI38W/oleZxnzpwtq6txgFy2ahmF6yyj6bs\n",
              "QiTMltqTQHkbWRg43w/Fr0TBYOpgMTsteW7lXPLbqT5bKJGxCToFKAC6QdXtaKbW+bNCpMEAAACk\n",
              "AZ5gakN/AAADA0xdJkE1GFEwbVUgIVRlRMXZK8RUTqqIUBgJ2NJpZUDDW7qb9HUnIwr16xRTsCPN\n",
              "MTLRNm/64iKhMwMnBVVcDylQXa8OoYPDgr9vYuU8htLaD5WYRL7iWT5EUkdqvibx3c8x0fbeq66N\n",
              "fMqT/SlMqne6dXla/FV1tcwp79DjMLolCGCGmw23Jo093CAzxSSQSllZlhZkX7oAQfQAAAGhQZpi\n",
              "SahBbJlMCCP//rUqgAAAN9yHx/Ojm4iTHrz6zb2OLgSIDtMAN1kYsFu6LtyrlnafFJKBPWu4mUEM\n",
              "edVX4WE8iUfvQu8z4vnRAbaUXVIab1yCs3DpjxwY0IMCAITnWubJR10fvNdxrYAHI1hjYpEeBFVn\n",
              "fIcPlDh0C6wsCv9Vj8Tra0E8yy3HQCvHl7iA5AIIMH+C4pkTjg0uFoZzrqLo5weEtZuA2Nv3x+Rv\n",
              "mYKW/k4o5NFM3Tm3JS/cTBxAM9UFaD2PtaQU8ezXQXIRKG0k++ToveebLSAOQfUsV5pXEhu1qT78\n",
              "ZtNEHEXaGQ/vG0ZsE5IhXqLdYKc7Nc++3EQzHxszYdBJcSoYcvqSteencN8aEMkMBoEbXeCi3bvb\n",
              "jYnnzCi+8IyRzdhZsc/gGsAYjxWD9LjBf4yO/y3jhZ8Pfufu3fCLsTRbFnlI6n1D0k37s/8OFBbl\n",
              "xLG13JDDdQTXGDvwtXVcgDbp4NLADTDDPGi6a4NtBF5bw4lA38h70quaNTk9V7PS1UcMr4B1xgZE\n",
              "iV+8HqgafDTo0IQpdmBBAAAC50GahknhClJlMCCH//6qVQAAAwBtPjxTzlOhO7C0ARAyd9Owh68m\n",
              "LLCxlLt2rnZC6h6Vguf1rkhUBNafO+/L5+lGZUEQ2z1OTj9r0EzOoY3H6fudUb6zJ4uaDPc4ef7H\n",
              "GKG+za90OYp+oqmTzAPf/bqUhrSb4+IuzfyX7rFmbzqvVH8+v+6alIZ4xeUw7pDEmX9Do0o/t+VL\n",
              "G+cv4276/+n5CuhKEAbGGKkZDO0acObV2C2WmJSoNGb5MG7eTvLeSSl6vr1QBQi9NkU5lD7MDj6q\n",
              "PdKSrnMUHrXDYAoE4o9HmJ+cRdazBfbTe4BQ07etYmR4VOP+Yq/JQGgN6kUm1FjaL+Oym/KYMyxA\n",
              "AnhAe+jNMpMG04rR9BAzKwzjoCTnLgQUAQy7L8NIndhI/TBsv3fYm8Fc5twmvgBRo02xWzh8fQJ2\n",
              "aPG3CmbREZgudprDAa5w1EHVmLen1bFOLJ6HPzFgzdSeBSzGEJn5gy5LSw3AvUkzkdSiqko5mbbf\n",
              "MVAXpqrtrJIwjf86AjdTN0rcRZIKF5b+fxH7UA/8RxgprveBQ9GCQWF4WRtVuNp0L6BD14MjfmlA\n",
              "gGnoWHlkLRfCzWgjh0hzm0lOw9s4OQZrfphr9jyLZHOGABATFqS5ciuOa3cxsIyiDwrVTqFESRZU\n",
              "cjo6l10L5DG7Z5zdtjEcqM4ret0pgFpRZQjss5vMWBjjA+vEe4ms0bXfT8d94kTdcLp4hGjYSH/X\n",
              "bFFdzw5rQrdkWOVnwA8RAMyafYarW4/4V5lvX2Vzo0RjyKH+wI/pMw76PS1J6dbqrAOaIy8uL3+l\n",
              "IuaIhNbIbDwz9ZPoFryQIaKJ+wTR8v3NaywNbBYNpyZ9E8CW4jaMoXJtXL7aEVmBaVwFIwexBUR4\n",
              "VCBgqEDnekWAT6/iRdV8UnNLAD78zBiinsnbc5LKPgeVVpfmIWrGa/knraTK9+OwG4m+PzBe8wWc\n",
              "M/p/Y5Zkf6u9KJH0ANSa4dRGf6AkAAAA2UGepEU0TDv/AAADAlE2hUwDXNP2JwIvBGhEEOf7CfRQ\n",
              "ALQAN6sWHEQp7Q1gj5KOMs6XB01nB3CzX0bEvefKKJbfgEBXlDAdwyCsLO4jhst8CdGgaCRaKZz0\n",
              "OXhLsyiO3jnUXXIFwHPJVAKRRQvM1PVSWMKWv80cLt0I1kgz4bDgER7Bp46NrATQepstPZ1AEeBW\n",
              "imgthuXudoJ9dGkVT3RxK2rNN6lHtp6kTSEreC+NJlmhn0VYHzsC28RlwAqJw1vHYHIFkrG59xme\n",
              "nVAjOAKPFC3L6n8ImwcAAACKAZ7DdEN/AAADA0vVUwHYfDKpFTiecj3hbAlIAS83FwxRM28nGVJc\n",
              "J0weX7GFnk6Wttp+2dXAsos3G8QfNE81ODyF17FQ7kZSxr5vRrIi0hi5bJ57X8K8O15xvLDL0cAH\n",
              "/f1Vyj3IbmMrJjWf05zcJfGvFFkepOxzlZlPeOTs/xBgIpuOcADPO+fBAAAAggGexWpDfwAAAwNM\n",
              "XSZA6FMLRALUDBz+M1aYAP1ijzeaIi5WWI7zFnmUORBFQw4DsNnMB16pZea2Mde0KQ796pB7f5VI\n",
              "s8sq04csRvahn6jVuVXYddoyZmsEv6QLHmcSq7/w2mGt8yj64lZtf6xMLPO6oHIvDqQtcAA6aC9T\n",
              "UEb2QUEAAAMWQZrKSahBaJlMCH///qmWAAADAKTu2fhTMDML2B1LOgCOAvU/9qb48h6b3pQzqXkS\n",
              "K5D/XJzXqUsHDQTGbnSHsPf8WLo6ZPf0GO1Q5tVlsqu65j6NBIgUdi1uJehgPdhKa60yJNRRE4bW\n",
              "btWdDCory8TsCUAwQvAEGBeJGkl0DPR/Kp5Uv3y9uGNzSiwTbDqIafwGT8lveuP7Jzw98sTeMMEH\n",
              "SUAPPvGGwF/i4cqgSNidIa8QQpsA/BoSK8EiZhSiReq3w9y9b6omWmgTuD7GOqmDgklP69AzLI0p\n",
              "4YvHuC+vu8ZCqsCB5apmQwmrx4a7pPVW8odFAkMOo3gtf3xFC2Bo7lTd/NYklw2h+ZE06OLIFDQM\n",
              "rpA3sJkBzi7gzxcENvIfuW0X/7KZRuLXLNxidFQZkmav1e0e2otuoIBIeS5w8LrRjy4nOmqLNJya\n",
              "T3kUz+ihBZmzNymMTc6dwb/XkFweuyAG4wfG1L3qaqhV1wd40Q16dRDLSQFHK/KGwm3/IbNSB37Q\n",
              "Srdqo8Nwkf+hLPBYCFKs18VNpZjQL6nyXgLZczT5ggFuTTSJ5kM/ouO7pkQhDd3RcC9EmAzqLHB2\n",
              "DOa2zGNmniQr1aYRKQAnkSduw9JXnCxNjQEIqRgqHgL6lrfjbrpUmD/91mYsKDZwFOB2UizzwM83\n",
              "glt4oTsSqf5bofaEWHNUWn/pUSGZJmYNxyVAZTGy42Dz/ciG/yuBnWG5mzqyg7DwkoIEkt/yteOj\n",
              "lykLy8zxZtByQ+DN0ay/92ULnh4CNfMk6rMTsyHEcRvy4Ie6Rq1uSPZ+IyDJQNgZ6XAPLZjOkl9c\n",
              "ZU/kEBJXguPLfJdZnqgXdUq/Vew5n0CYJQvbg22cpwSkezhOCjs2ydA2tIBZFGRGBGoGn5b8JHzM\n",
              "JOtbXJJPbzK7JmREZJ2reNp3sANruPTepTKyOeGjGouqCxfrBalw9jiUhzImfqeiQp6IssSUGivQ\n",
              "XtxzGtPgTpuoDt72ANwIlNNAeGJ+gVzpxbimso+GquEf4wHgllyn0gGIMUmKmEyJ2+Z9fMyqmt9q\n",
              "YQAAAPVBnuhFESw7/wAAAwJRSng0WJjuMUN8Cu1g2AALqucQxIMIPkBjGWXNp4W4jYZMxy2Td7dr\n",
              "CYDXhf19XTmwLzaGsZaMSr5DiD5xMJZmsxxM0C1Q3yv8EzXMCkKs+5+refILkVltimmF2tglLd61\n",
              "D94HZcsunnmd4jgOOjNd8JwKWCGedB9rlyAhwrh+PogEaOc8SZ9GTnA+Fhh/X7fWO291i+kM5KpR\n",
              "l1Fq9UYVh8wB4DMUG/AeZ0wnl7gTjARXowmWk/txxTcZlnCFN0rkOIeMCLpa+OKbTJq2wWJ1N5M/\n",
              "7/zxbTva/M6rAxBt9pgoGKNC4EaPWwAAAJEBnwd0Q38AAAMDS9VS/9tUhW0vNCZUzjBoRWSTDe6A\n",
              "AlWdJdqPTUiplv0o9XhIaIxVNSEatagJ/CCPCy6mnEy2fpawUoMrxaeqjuARFVY+V+4GR0j2NP5A\n",
              "A834X3fU9Uss1Ye25LRVEY5FZ/PovfN4LSL9hMxB/VqQs7XXgCAKRLjL3CzMkeKgAZrKXn4C4e7Q\n",
              "AAAAlwGfCWpDfwAAAwNMXSY/7UUETi1x1axdPiQAfjwCHgSVXo68gU9kvTiLPTkwTzOSWswzG6es\n",
              "RLPaBDDsl2JRpoyTWeDLTDZJscFtc7vQ/UquwDbudxGYvUO04cP8i4fTl240H/zGniQ8cSWUDTEY\n",
              "e6ieo2+lxM2XmZclbUjcQkPwrg90k2H8MOwwxmgN0EFroATeDU1np4EAAAGyQZsLSahBbJlMCCH/\n",
              "/qpVAAADACqKMhS8/KAzYCcFKAARL83+RlNZ9BKlFTfacrh2Flp0I2sUTml0ZHpXyS6GKImFXc2n\n",
              "tqXPl27kyHqJFXjmKyJN1nwKAv3l4e+JyauJ8p198c5nEvxoaOD8siasZB7np6qT/IEdK5Nc6seU\n",
              "DcJTMYsH+8XxFWkjya6UgjTJ0X0SS4EPzz9wLpRmSWAfC+VHi8vpeJisfrIUCCq++oXOjPknT3O+\n",
              "ac92bHNng5T+zFyAolwph+mWWPX7tZaAEszEvrHJEjp5xMyYJTb1jnvaoDfF89wXGcMwwDJxnI+E\n",
              "HRYCx8pC1SvHWNkh2tZ8j8T0SLI3DUf7jJenipKuoBYNbKMIhb6mk3THXQFan6AMjiMT67QfZXUu\n",
              "TmaA4DdyUDX04ptNxANxnY4zcuJeIg0HwPvool0fJAay/y/P1UBdTZ+6k28NVBmZlmJZ2G1QLxnI\n",
              "YkT+qpnCHKENy/gg/WmK4F/VQJiLZ3XzL3UDT6kl2EYmU25A6xG6zqWNb5FWv3otOYGLXZviwqcP\n",
              "N8uRbz83iBmJV/locI7LVcC0WDFnwMAAAAHKQZssSeEKUmUwIIf//qpVAAADACpgSUE15NM0MAoA\n",
              "BEwqLsZKAC0fgbZ9k3keAfEV+hnfLUELZMAbh7mXeU7lH6M2LhpDh0Bki94/FK7jTZvqkGSRXPvo\n",
              "VAqOgbvvrVzgIPg3eHMYPXbtIJuPLE6fQffCiTFcdOsTGaoZurFuogYOLqhIeGfkrNzK42J/m8//\n",
              "fvbknwRfXwuI6YMTRkDbFOA0gwml+BfaoWdmty05ZrlHN/5bvQYieG6Vt08NZG1WSDDH6vbAWPLY\n",
              "3aDnHERDOOF2yNUDYf4EEZK2lHBxA3GIknk3RJXVxG/Wq7/9Q+L4tXNrIpnAbPrmtPu1sYJTWDUm\n",
              "nlOFvmOnQr4WaBkj507D5VQj1YSWZHYygaO5vkI1Ctc90/JmmmoVDwd4n7RkPwIohmB0c7Sh7yYQ\n",
              "3jfw9PufXfvm/R22Mt0qlzBO6c8lrMFfJjpp+NuiEuO5ec2197yodBWoDoPzKqIJnYTqsfyd3Byc\n",
              "rysleGPBuea+ddRqvZzzX5H77mSuhRD0mVYOAwbiCUXsJ0TMbicpTV2+0EQd6G44a0mJWUYlOxR6\n",
              "GZQzW6Gj8j57/quDed5WNsaShYWKrPuMnlaam4AAAAIJQZtOSeEOiZTBTRMEP/6qVQAAAwAqnzhP\n",
              "k3bSBYeMaPgOnK1JBL8CAcev9yKxqjqyRghjGlUzBsRhYwUCrrueD2ylUvhHoEQ1thV854htBq9S\n",
              "7nwSpcywVvy2y28hOWDWTuzoZWljINDcJi+hOgPcpQ/uFRMKZqoKWGcRK4j82DFiouzyCCMUDYBs\n",
              "CfYuU28oOV/25Zu3x9n+QAYdTVuPiySxy43+ISBLaRm3ZEsjVetzR6nQGg2FuN58ZwVxWZNflX9g\n",
              "mFPkRV/4LeYpCWmy7VbxU6s/la7yCvUMhgZkIHgssMYPJwXhU/1lOxq/GcgxKp76Ep3qbU5qG+Hp\n",
              "UrWi1SRzvTHBiJCOVGJrSBGyT4hTtaYzFqT1eG98POuYJYiWOdvTlEMMNzVhfEqE5TGNFJfcn+31\n",
              "7Hqzk0nw/a5/iigmspIgdyIpojan6kdKk9mfdjuHlu2rS60xx+s/5MTQxshtB+aQUr8pcq+iuJEf\n",
              "Wu6iB6B0K98x5Y7xT18DoMKx/GatmDidKQq5dfayZuffKyLoQWb+TBdIgzUJMpgAAOveoIK2RgAK\n",
              "1OEYw3Kswc1jtVp0T3j+UW/nLwraSd8NSTitDlTQ96YU+rGkA2hLihcFjLhcPc4nB71JEDjy69ZG\n",
              "QinF+DNlWfudZREAmm7WTpTjpXuOC0vTkwTh4ckAdOT1G1I44TMVoMEAAAB9AZ9takN/AAADAHQV\n",
              "0JUsflZiuuk53XJ9XfYvwooflBwArHEnRz6l5Q075Ggl1MZNlDds/vZQgzKVWwSgcuSId7QBjksy\n",
              "/Ozx+LLYaJk944GLZx7OQznczUefLTbrM5qljqtI+c82R1TQF3DuigIbI5o+WYLWe46LYe+HzKEA\n",
              "AAH6QZtvSeEPJlMCCP/+tSqAAAAUrqD7kYAcc5zW1ZHpt3LS6GChxY/NzdO5dMEsg+JRGL/caroI\n",
              "IzeHBrL4u9EuxAg7z5qX8dpIjMb/jC2zxk/5yeSTbxIUS+xHwdhvwLVkw8TKu0JYtqerOEo3v+5x\n",
              "I+aL1+3ZZ504nVjmPONZCMGO9DPvScE4LtWRODoqGMiJ6TQ4a3R6cS/Rc8ZkHzDo9yKFt02xxSFi\n",
              "mphwWqZlnOdK5ujccJsWNDhyz4oLFDUN6LCe1dsf9vJh6Qu4W+a2Q0DTNn1NKqsyTMkbcBmKyHcP\n",
              "C/vMcjiNbSn1JWhesoehm7+FJUCfrGlEvb2t//XLbqLKK+1/Q6C8nqNkN6v8LVV3TPIFX8waLSC9\n",
              "xfH47AbH7WrNFCZ0QG4fyUSxKB/H4+I4PT+9OexhgNAf8QNPOyeKBqsPOES88fZm58/e2oD6+gds\n",
              "ruDxbsJ62wIPfIFcFoTIsg3u04jb+wRt40KHcOAKScizD0PCe4oUnweV7TJIlY+7za6T7uNhVzQQ\n",
              "/pxrKDKS7htQDTHs5jtWK5A1rDW8A6oTIpT2DmbrvpREZImPNaxA0wYosKhCToa9160Y4BHN/oMU\n",
              "79cH+/v1/JKYS0ktTRUvZH9xLSXIcrS1xdHK4AwsH96M8RaXg/MupiSBOgh07Xnk7/OJ/BMAAAL9\n",
              "QZuTSeEPJlMCCP/+tSqAAAAUt/5dSO+BYAcSo46RhJYxNF5SN34sA5SRKNMUwpxneh+uX3uvTrQ/\n",
              "PDwkrw7fyjUTXUmoPYIsomp3SswZHS3hfv64+sXIMYpNUlkguEYD1D2c4EWSfs0pWPWU+i0i2cVP\n",
              "flW6Qn9f86HWwOXkX0XgINDEq10+iCf3SJRIz1GE0IIWAvEVCq+xSzjbOU5/TSaLgr3D8a9ofqKH\n",
              "8wZjhjpiDPXnSjZanEtIOjW042+Hk4UO/9xZm/O9edW3Q5azWIsC/pAIa0+twgjrZ1EqK/BKYn1a\n",
              "L8ucDpthqzkOTyZYiFQAUXbnR9UgaBzfkbCvcycVDsbu7V8xfuKOosiIIjk0pchl1A21UO/drgzK\n",
              "yjpz6kHCRxhwyVcNqYxxk7NF7sFE6jUlvPsy33cq+UgPwGb+l6UDPkIpbPr18ej8h9C2lPdASQo4\n",
              "dwgA3EiRfedkHZ4tx+dV1zuxHgpdnyLJTJCrBZsCi0YBZIllkNKkVJ8+7WmTJRZY9hYbmRvt1308\n",
              "Q6Hs9PTr4Pph/l//hChFse3Kut/6ZBtijcYUhmHdl9L0jEQqqJdG+sPKK+FycV3LjgoSsklz33fw\n",
              "Ie9N5EZUThHAMUaIcMYnS9nB/77rI3Wb1e1DCHpXjKE3fZgJDRWDvD1bayWgLHe9nYlhk0AIvDeX\n",
              "z2YwauH8PMS7tq/5YTj8wOXqbjh3A7+BZl0fVaDHdJRfFOkmdAadau09sTC0FN/Esafzrx5oivsB\n",
              "4w6q5LPzmQ5MvSxCtuhVVIOCy5d5Yo3dZKgAj/hJaWlq6gNl6U/n3WXb6UzFvcIKc5m7EM5cASem\n",
              "1RW/WIgrksu/GwPlXlgWIeOo1CmmEmR+sDC1SRRjznT9hCIQFTCi61dq+QRmi71ZFIZyrABbj2nO\n",
              "3iQJxSXoO6bkCC5bF6MnIofkefrKNwYN9giYWnbqMkKiRMBLETwoxjOe+U0sWysOzJDklHtSO0iQ\n",
              "xJwF0hx14ycGHdBz2Mb/vL1cP0/+h0ZYAAAAzEGfsUURPDv/AAADAksAFgBwoEQ2rXUTQmO+AEbk\n",
              "cj8dNqEUICDbop5vtrnmjWXirJIJqEZBNlso/brC+0sw+6hkLSySmrsgRKLJG+MZG4+C25NE2GqM\n",
              "7n7hi1M2KhCQ1cC8MEu0jur9CWiBhIbl2i5XWLxJcHXNKMCZl3Dlp+ir4A2vQ1UHQ32cIsz2fuY0\n",
              "68qcIaIX0kaPwi/ZtJTdm7uwnxbhWjD1OU2gidxWYSJTD0Ek4UXCaP6NvCrsCJmvBwA8NRnl8+L2\n",
              "5h8XrQAAAJYBn9B0Q38AAAMDS9X5w3JNEMjLVtuJHChgARtrcqUrliOSQgsAtekTtQX2mwQKuA7z\n",
              "gzJvtv/6U0BrPqtwP8YlIAeouxpiuqleLKWm0NpQeWWDbDj0aYuws/PVjN7VgxOsyOUhC1RICCkh\n",
              "CBXQrgVxtXb7YoB1NnLmNw5y/p2NQEjDHKclqnmp2Ulyg77wo986s05+fwcAAAB9AZ/SakN/AAAD\n",
              "A0xdgeVrvG/1U+fjovfgBnn5CZ65+7E5BnyBat6o1yf5UB867ovH6m3tezz6uQrrYxxnziiVNjTi\n",
              "eJ40MZHbuKgBPoI0Tq7V19DPMkyIHHqEXEss8IXdPB3fhktzM5FCqRQG3E4beXlx0da0gp6IM03a\n",
              "zuAAAAMDQZvXSahBaJlMCCH//qpVAAADACk3+dMLsKhxmPACpnwnDRhDfMkdCM3jaVye53Lb1bjA\n",
              "PPQQ9PwJOd/5KX/Bp0AK7ffDPo+k4a8q4xKY+w1B708mTGsopiQ060RteHonJnXcI+P22USQngD0\n",
              "Aid4d3YgdG1S4ZzAVa/SYTkI1eeDAiA1ofWUnJOLeZS5f+e1YsasLsF8Xg9S2DZvzFXPDZPXcZyL\n",
              "am5iRAeB2slFb5NfjlBpmudEivTgMroAcbkMqxA0ASDmdJ2utxmYjiyGYtfpUH5WTC+qP8gYjfsC\n",
              "XC+kP4FE+Iz5HrbyYmBidimFSMQmmD8z+PR/AFLiEi3KYCj3WiqBLUeypOoRAf5rD5nOxZiD/1i/\n",
              "ywM5MfXDkkRMU+ZMKGF+8UacTJlH0sNqpWbE4XbLPXJ5YC5DhphMTE3EnLJWjAb+O7rndBv7t7yU\n",
              "qHWLpFbH3ca7BBEKkwNqM1aGcmM52D9OFDp3zYQH6u0qZL6oh+UKYRGAunLnNb/7VU97YsDRwYcj\n",
              "H6KckDkkDDZOSEHtYTKre/V8bTrBU+K7114kE2Lp3+9saanOOZeRc7noTub6AQvO6T0OCqhbEc8b\n",
              "fNZG4eOB+bt4XrNZLlfHKuTzOz5O4BFXZyfCZDQ+wBpQ/aj0O2XFgDEr1gUgnOH8MPi8m1KpC0FJ\n",
              "mGa5Cn7b+V34oM+XZIFxDdqIhY31iGc7sSkXy2ZD0bS31kybGy9+dw2MGMT0Argv21K+j+aYgiFN\n",
              "hmSGphxKf7OHvLug3tkAtP1lHWFjU+ZpWYslbBjMTnZ+CJapu4z7/LMWQdYV3eAqe+iwQih/92sv\n",
              "8A1J8QsQjF5HFxl5Lx+GUAd/N7Ud5HmzK53JqVLP39lg7s0zQzSKJEzGMgCzqwKMnINF/NZ4DJdg\n",
              "It7zg30eUZSr0fMjPy1xXrX+0FxZYNHw/pq3AIbEMK0gGdd+l8F2U4ENQ+Ndcc2oUv30bFlU8cRk\n",
              "t8kGa/xfeESaFrmsbQemewAaQIqGNknghVYP7hBc0LmdpwwsAAAAyUGf9UURLDv/AAADAlFKh7hr\n",
              "mWRCllI+xtdQARtsqb8Vbq/Bd/+k+M6zHINOTsJxCVM90LMa5XcAGh/+GAy0bBdJuspOj7Ej10Su\n",
              "s4oSX1cCq7NnxuzXfHmnj61xAlzGbMEaikXubzfu+b5UOTM82hpJ/nszC+RwyD1XoQy01LlSRByW\n",
              "A4OEPC+6hjlNdaEDFSSNF2dH7kEf49qYocKOQTmpIDZcoxK0sZ70/5+rK77+iEZUKS6IlhGO1XqK\n",
              "Xoc9jhWi1ugN3L0AGQAAAIMBnhR0Q38AAAMDS9X5xi3mjwgAnZ3otZaHfA86P/DAzvD8GGz6J6Ee\n",
              "kwZzlwejoVpB0vsYNq/rAP1EMneIXmn7qaSt/5U66g7proWCMBRTnVrR1Y/TN8l0v6fhNlyUHcui\n",
              "jzA6RPdAxgc/8U9/SvXIClgvUM1YX6DQ6hUHmXGsRcTxwAAAAIYBnhZqQ38AAAMDTF2B5WvrPlPJ\n",
              "A2RXroq5gBuu1ZlHEsgBbQAmqdqZvil+1zv7s070G/p1sAm0Un6so2IkX6twYNuD/nyZoMWan1h8\n",
              "4X7VpJRRuwYg/MICKDnzA2qQm7djbtW9XEH2e+QSjn7j3Z7is3pxfCnnyLmj/BUOSjNoIqKVkVLd\n",
              "mQAAAg5BmhhJqEFsmUwII//+tSqAAAAUrqgCeYATQ2H94gov3eyXy0UjH3mkbw4qZhPgA8Jjdxse\n",
              "oaO03WFuDTdzBU+LvU6VEOnBX1YXORMtdswEwTxUuT1c5WkXnaoA0G38pzKC5nSF7n9JfD/y2Ct6\n",
              "thulW8WJIXKRkH72c7CKwIOge+5ZrLx0mro8hhqpeDTgUy9ODanXM5DMhUusW4MUXDY0+W1EBlUs\n",
              "Pt7llmSTPWKvkHnxH43mwJfRWYZV/XzytFOWKt6XT505EbwkSsCCjsonLcUnilKR+doALncgHYSX\n",
              "6iu9RQiA2tqgrpAtIZ1EFcOgYEilq06KwH0sJZWXPF6SRJZUoLkHb4RowsSlMKx59cPeQ+MSX/Iw\n",
              "k8iKzf30cfhmavb8AWx3wklNSd8w8tL53vi0Rs2S+siq6CocUxPjrAVh6gqE0zsM2WfqTLqirMKY\n",
              "ShXrHOuiL47S5uX2UJSdWykJFPdeh6pP31SMXA9tcF+RueSfDgtdRwvYB7JcCipYIBLjv2ZRc2bQ\n",
              "yqcn4MpfmiYOifP9ucZZQf6dwIkDZl1m6miC/+fuGgCWOBFY2nCG1oogV27fNLiLau2a/VOE9A0A\n",
              "PnzRfTr8pfSXPh2XiunxD2f7/oASY9k47xRpe6sZ7189qr4jw6NfIqtdTx0cSy0X3W+129GrreuH\n",
              "TOylfkXw8/D+3P/3lS32MgWnAAADR0GaPEnhClJlMCCP//61KoAAABSh5+9V4AjL9h1rYjx60Ar1\n",
              "S3MRWvEAHOiQSfKXtHUVlbJzSbflETCdO1xEoiO/W2+p6YaPknjGboteLbDyfmAnvyURdBh1zf9y\n",
              "M8HKjn7m8oAWM7+uM+v9iv+AlKouEKPDjwIlFVa/ujRLzwpClG/9CHZ4lMNx7dpk0349NvBeHgsv\n",
              "ps41e3CIeN2GC9xiFfYKQrcoU157OfmhG+Q76u7RSu4CsEIfIbfL6qkM9qN0mMgr2F0yDJa92XYf\n",
              "rUW9OK9nhW2Obn/4bIuoE9v7hijqTErf9+RYkCkmlIknjhH+ipCklgPhawVBysrrmi1nbRCa4ufh\n",
              "XgKsYM23VAAwclN2mwJnnnr1E2LBB3j/Trsl3BT9VG5FN6xfEJoyGJF4FrF/KHpLi93eaAg+ydkb\n",
              "ZEyQuxDV+vb/zeR45H61reyauV2bUh8BtOMbOV/oR4DSUIfYYqorNst2DSzIbUyeRdxMQv56exKV\n",
              "0B3oSPR1F7SmIJhArfHKk553UvO/+0k5QADwitpwIQeqTirod30TjLtpmmPLuI5P9nzjLjWkYGzS\n",
              "TjKjZP6b9SlufCYslSsmje7GkMg0F6yZXKdXFuCNVCfs4kKI7qi4uPjHq4zislA/7uy6zzZOTUjC\n",
              "uZHM86GD9t221J/HJTyxeLQZLk/p0hqrLDRwmqK4PB2F1GJaReeE6xnXKp2ak51G7gzg3eKPBVn+\n",
              "Jn/lfkTy066M8Y6m5kgrevnIH/SRkKOVo5ZdSbODQJ1kzuoC/VX3VsvALDtuhlqqSDF/Uqb/vPEZ\n",
              "GHkYhZv3zJuhiPJB/SSUjGU7LKOmglhy1Q7uzR8RwBW0Ne9Kyq9+EHD2JKWaYvU3FdaIgt1w+Uru\n",
              "s4e7Nqh4qEmN4wi+GMhCo65rGFUo3Mf/YZTTL0vl5JlKGb43MXD7rvZJ/JCg0xx2Mg2tlQ7VITWq\n",
              "EnheaO4laJawEhr/EGkTxkS5wiSO3bHhb270+xIOp93yxCq5xUr27vg1UWk0vB1/LGm7tARKHm5E\n",
              "QzBds+F+fOAXWdJKs/bvPacv83N4qMqk5DHERNerTltGa3eUcQtvbfKT+4yrgu/7yhwbGhFGdkvY\n",
              "kGPYDCv9AAAAw0GeWkU0TDv/AAADAlE2kAAPMt635QAqUegpmSo5l7IUYNBKNhrD1/LJvXb7krZO\n",
              "1r54NV4acgG75AEuTL/FDZJz9fK/QbNixTbU6R1neXIzoFzlCSiwLA18dJf5A9JTgcKovTw4AjUp\n",
              "G87wQpfS9HcPLyuiGHFUUtK2+SGzcMjbQtazWn7RRsSJDOKf3vJ93NRc1zjfZ2fpmgMRUm2EwCks\n",
              "Z4QAl91AiRNDNrw/jNVnMlc5fz3uO44qMpS2OfYT2NHGHQAAAHcBnnl0Q38AAAMDS9X5wdOXMZq/\n",
              "5DdV0re5Nwe5j3dXCmPHz/rKUAB5ocm9XiVN2CKO4xwb58dOa684LQg37JVCf6YoDHAWM8Sc+my+\n",
              "90ff31XSEkiO4fW/D5dlJUMTFeizEW/3jsHqegYWCf4+3LUGbvxS7MwC7QAAAHIBnntqQ38AAAMD\n",
              "TF2B5EuARJ38/LoAP6AAAAMAALtWO5hvD4lUuYsQ9wgm4Q7EW82gyLegPz34iX+L7lgXf/HH8GCb\n",
              "tYL7qLicpqi1uV3N0hjBFcZTbr0iU05spXg4bZKaQHYGGt25jvYDTO+60cZSYykAAAMmQZpgSahB\n",
              "aJlMCCP//rUqgAAAFJ5pNjEAFbih1tMbt3Jfw3eG953B1lw7mREJ5vCQdmqOfCAkNDF6Zx8xY6FG\n",
              "5PTzzKm+zRwLT+dGzhbrmNxbAr4xz2GP01t4t39YROyftolmMMKn2rZJNegvfqfvxYmb5BzWjg38\n",
              "1qW0nS10fWfGTmke/uNrzpT3urrySnPf5ZY8hAKeM9/v5AjXgvqdhfC04Hr2Bn6LqCyONHKC+Bmh\n",
              "IDctH32jbINw5X8SqUdnzqalPSjfH9P4LW4VB46LqZuf+enNfSnPqS4NzLKchSOTQFbLadJvDYF+\n",
              "1C2JEKEp27lSJEdoSLqh4PZh0C/666R/HXkBKSCzdS8Ae2AdDpu1axfrmSvSCsYM/VcG/9C8bQAd\n",
              "X0EKUcg94o9Ml7vkW/hnM9frrnbFE9JJ5mHNdtcMnlVIPrqp7uXCjmhDwPm+/H67gJ+9qegasvaJ\n",
              "rMfCrUfyPYIsCY7GUnCYWVNjP6PVhi6NZ6E6EVXGEHj+Res7oCmIQEPvbWMCqLgKfBhl5W4lPEpQ\n",
              "MlEYFd+0FfnaDREDrpqZ3DMKhsWWD/Ufnm34tTgURe6dCKZ59CIYAgsO3ipC+YqGH9C7mKJ7eXrg\n",
              "3Jpu7v/FI+4lP0mZ+yCm7o3HxiPHnV3PENi2cladEhqLP1kR5d/Rnz8pLoG0p2bQTnBwE++JupeX\n",
              "jGQtgLqjjOeMe/vYDq22z6t7Bjufug92S/Yx2a95m054krMIBYb1G4PB2RehpXG3IyT6gALtYFEa\n",
              "wkip3E/Nl1i1l8KrjBNpvcys0eAF6FvM3SLpzzaKV6PcrSbQ8MUGJk5UoqAM5zg16PesTgGGT4lU\n",
              "ExdAiyOHRK9bAGyGYDRI+eu01nzFHvEnKuTQSM6Z4DzHz0R4I524cs+EZUT9UHbivHmwhNlekJDo\n",
              "YDMigHRQO4CN0wUvQ7DHVcgkOE4ar2nUigDoh5D5SREwAeKwtA+15zltU46/SUdU3J1cX3Z9I+X9\n",
              "moNcV4THCwg5RQh/4i+mFtrjX+drmtkRN4nHwCuE4OnsSpJ6m28TRk+g99TFTf14b4Ct0WPyMNIg\n",
              "czsAAADIQZ6eRREsO/8AAAMCUUqHuLoRj4AWbgNf9xGU85sWoi7Cd2LjNFlsvqHP69QjvH2HZXQ0\n",
              "euyUyyQ5ID/eUKB2aJ1AjBPMrVJMsP6coRzqkWjN21g5CZJX+ePi286auYgHgEHF9oGbSCtJ0mFh\n",
              "H88LpP//Xh4yzuYxOR18mkaER5bmTiQqnD9M1SDwS9qJ/sJTjT8HI5sNmQXbUXXe3yeLsrjGecJj\n",
              "1VvejYVxdAvSHv9sKJQJ24MSJzAcnLGhhocUpXY8mTqMh4AAAAB7AZ69dEN/AAADA0vV+cYt6yB2\n",
              "V2amJACwArDDcvaC+EAr3R9ZA2qtmKHR3Q1d0jnJ+I7WmpWQsqbJ94Q/AED/qspTnxMoTJLXS8cT\n",
              "e1ZvdwBC6IX7sgieDbckQKVKrObv5xw1yZECxcGMwyPTxeNlmh+irPfkIrV8ZcUSAAAAlgGev2pD\n",
              "fwAAAwNMXYHmud3MmcP4v3AOtlDDP5RmsAKkoDFyRl+TvptO/WZZ7St+WgsG4UH7CzeO3bM8+tAn\n",
              "oLG+xcV7gdiIyBBQZbEXfeTgNkK05upez/NfmN/9Dkb2mJLXIkAydf7vwBbkwm4Q/SM4spRQQPOr\n",
              "GDQFM8q770NYx231JiuDQ+Lmy8V1Jl9gsHfjc0jq/QAAAslBmqRJqEFsmUwII//+tSqAAAAUocI4\n",
              "A25uRCmQA4xWpx8fPoun4v60gZ6b1sbtePs+7Yjf0uOIsIcuz7rJ8Gn+f7YfXnhFX2r3rUPmBGF/\n",
              "t5EJqJtY2yT+X0C44hbc9M2fhAmd6pSYvVXajfEVfqadsQ1tD/QwCrb/eAeoblQpUN2ffc8GWXQ6\n",
              "EDnksgALZvkORCPXkoxWuyG+sUJYdkAhAaRbirnz7uQNVPRjAgiogGxCnYXnKPlGQrN4aM9C0C0N\n",
              "DPPu4JuIW+w9EWQbWEmwQc84iw1Qb4fPfRsoxhL4SnOD1QIZd0QdF5jhO1quBOjaGHlsZ4zCL2PG\n",
              "QxOgb9N9fTva8Pm0K8pPst7YgsbuBU/f13cfZYZoyKfjF2hRnReMzwzgsjeAFU9Mi17AXJumMNFJ\n",
              "iX9v9fARuHz9nkStHvMyPlpLzcKsoR+XQR3PW0arRacQmPwb0TXG2ZjDFkYelk+O7WGk3QQvdmmP\n",
              "/OkGRCElGdUB2gGmtuhbikVjJmWVdrkzMN2tkG7NGuuZgqyDBOIGQ56QvZCrx7zSA28rWKbG5Qyf\n",
              "a5Hxghbp1TQySIPNBSxtIeTPSzudc5Q1HpI9c+PazxLGzrlmt6tVg3pgHTH8J4bk8HuZgBuKrSy2\n",
              "W4taGgMR/qND7I9cAQ2hxqLBI6iBdG8fVMYC8znGQ/34YuvMi0a9hNex6/udAEQkEhCmDZLDGA8j\n",
              "JV5NlkXgc4rET9MzAkaLajoF02TDTnerNcRww85+HB0XwEyquWZndwS9WTM59CFzN5zBhzj1AyKR\n",
              "bbfGrBPxBl8r1mAbQuMmBsCoZ+9aYGSmrn20DhpudpmKb+kF8/is6NiwBLXpZ1emSkGqJs4U06fG\n",
              "zQVg/Qygkw541j9yVnY1yh88KP6oqsDdcl7TFsESG8lU4pNKN/5rW16+RAO87XurKyKAe3RnlF/G\n",
              "96/z54TvbAAAAMhBnsJFFSw7/wAAAwJRSoe4a3fVysi4AaQFkPuIeXpv9nzUslHkSliywnB+wdTo\n",
              "iuLMotkTCRWOcPY1EMETHQvvS1khdgg171y9bzy4DAb4MUX4QRsnz3M1IF2MSf40ZzyNNGqPlw4D\n",
              "nl/qNr49Hz8aFs/oAR0yiujuSWE9nlczDnGNq2JJdteWuKYoflXBAZVRydyvUE2L59OuwNzKkhCj\n",
              "/mv/Tyl5DysmBf34KsIRFmlUOXMr44RFQOG60tZmBYZGDca+fagzgQAAAIcBnuF0Q38AAAMDS9X5\n",
              "xhrHY03yEP/ZbM9ACl99R3VCdho6cb+uUNmnM9vwArha1tDiaKG4cWP0OIUChO/DpSPVM8m6ceNG\n",
              "vYbCkLzAiUTX1wHCFBCmkZG9vJKYrmiwmVasV4W7CSDjWU/nRmpbMtr7NfrnbHjwAYXhBapfyO+U\n",
              "wCKg3un/cxYAAAB7AZ7jakN/AAADA0xdgeYx4Q8IALofAigWLCgBNztS15vK8U++C7zZYbSGLEz5\n",
              "XGXW4mJxArpgUjK1ud+cCtsgSMf9tbSr2sDwJDx2ZXtexeK9G5XcpQpDWZWdeXSXnH8KpRaq1bGJ\n",
              "tuZOncFlKr/qPXHTiEVnsiAgbf3NAAACTkGa5kmoQWyZTBRMEf/+tSqAAAAUv/EBG6w++HXFrOcY\n",
              "cHMwP70w5ol1wGmP7LRgoisYR5dddQaY5VP716SMEMwIFdBDA+gElXBxULXSJD0xaST1kNwsWCE+\n",
              "q+C16SLmZI0alePDVGx1FgzCLcvcTySmk8peXyqw0dUrhMJB5tLjxroozKdIhnPrFoBH2KiiPkP0\n",
              "PqbOtCtT0zTCb2qpfKwRt09NuugilKOIzY+qH3h5BM06/9f1j504oyxStmwmTonk/yvGV9KtMKGU\n",
              "fiYeU7MNAumKsaOhfvkWMV17ov5Qs/2VYDjryis4yPPO6oCGdFKE7kt5I31Q+IdEuqi+m8rDGOwP\n",
              "jUjAnfDep8JX8lsB6f0Xz1axOKakLXBrCc8BeVhzJ4J9TKRn8cL0pyZs/PO/79NBTj7pzb/ZcIS2\n",
              "Quv0s32YXkytoc8fC7QFDXl79KJPvdQh5/YbCH+iqA1IHsrZZbIgh2gQzRmrCjcqMfkT568Xila6\n",
              "fQ+eZFXIqs00UVyrLdFaauuh/5NF6uETNhsaGmmIu4H/m4V7hTD/Ub18+n3NJO0IS7QSiZcNTyHt\n",
              "yKldoqZutIBn21xd866rZX5obaecZany745m+Q6k4jAop3AO/bq5h1NRGEAtM+dL9BN04bCAmubP\n",
              "ujGiEbTPd3F5eyURkJGkFnQr/D1ht6mZYw0JcwZXQ/KesNH5MsukV1BcaB+lSCJyl9lFhWcvyQsK\n",
              "eYY4p/wsiIp87lgZQoFyvuj4Soa/wD0OEjbD32OyODMhaUgxLuU6hb0OA+HxAAAAZAGfBWpDfwAA\n",
              "AwNMprBxAsKJbIRXfKRAihKO3d1x4JQzRtijsTN1wAV8SMwls9TTUufTvZyD8R8ZlLejfPqyl2oP\n",
              "DbOfJVCjgDkUAD483hYicjl7zkPsAAmlspKxi15A93zR60EAAALNQZsKSeEKUmUwII///rUqgAAA\n",
              "FA2+5/5UNcPMAR8gpCiEgsQAriP/e7x4WediFtNZQSiSfaEsRQB43HKHKVttugp4W+JiLlBBN057\n",
              "W7iAMZA1zMkeTcTYTG8T8n/UIN1uAuF/du88BoNIkMk4KjcMOTq3gygWvpDgwBX2wTit8TW/9raB\n",
              "jqMsgrks6+Y22sJq3BwNVJ6fCk+3FgaBagu8dLl9wJs3OysbKi1kH/2ryxIomKnu+baMfP7ca1wQ\n",
              "nfoDuQKDhOhY8crm+BXV3rShWi2IHvTZPSSsY0bvMHfKAUlVJjCK7h8aLAeZUO942m/w5rhExsST\n",
              "L23tNfOnvlVqseIWUv6KYnFRw/36qvU8C4+hfLAHXpEY1PuChxeOZWccHWOZAp5wVZWAfqGRVEVt\n",
              "kdCkWhbWbU1mxwNBj6zJ5flTz+OVQBZXa7PY/HhbfK7zBeikGCiwUK/2Qq5h6QvflNGU35FtugRW\n",
              "DlG11hxJhIN3fobQf6f3F5oXDQanYuoFDSTAqnYOi6BrzEWFe6W9I2stNJGLwqFiQ0xZc7aqbYUE\n",
              "OGHWZdhNzGgP1TMixDDnDRtdLqDvwFsC6TPaeZt/7x0oFFpBjAlowcqFXa5IJ2t99rbfwtEOnmAU\n",
              "YwDZynlBfFTFOWi+GiVjolSaQa+5s/cev+rg58ccVcbtT+QTWp33Bvy8kLOYMu6cKUEO26q8h+66\n",
              "3KSMcSrUzJmOacgZ75v459DEx8kmXXWUL/McDvgAeXtvRsMW5XtBeRgM4xzqOFacVMZ4GZBs6ZYA\n",
              "uuaPi9peE4moCM5CFjmKY1xjVhCG+aR2EhIw8H94IxT6t+6lV+OKZjviprEWNaA5ydLFAw7MpHac\n",
              "6mXBaMlQix9CNW/TTyjgwDW8qs1ymbsCnfYGVAViCHU2ewZvitVSopl0gYCujPqaZxEcwmWCp+Rx\n",
              "UMhs/mXji9Ysvv1ucGWxAAAAm0GfKEU0TDv/AAADAlE2j/2+ufXI4ARC8Lgz7pWhkGnqm9c74nFP\n",
              "pQ5Hz6j7l95k6GqG67xkrgtdtHXkhqym5zF8uLo5xSrvXq+NThaN/cbMee11tzsr8fNqxgYvjPPU\n",
              "XlwZwpZ3vG5M9fAl6+Q2SLbSpMwqfXZ+LtkpbMJJtVN+W3/0baO2ozedWebaeG5JsWanXA9AwkpH\n",
              "j4toAAAAYwGfR3RDfwAAAwNL1fl9dtWJTgqE7sblJ6BRbSwxlvZigAAmqSWI03nN66GM6r8jLuRg\n",
              "LH53+E5hHVdv/r93RsWKPT71ovY6txYAJ6QDncTiGnRms61RAP264OkBLo22TgAM+AAAAHsBn0lq\n",
              "Q38AAAMDTF2BzaNQGJAC2HCDqT8oNJlM1b/zxgr5/pgHrFtK5x1206nf7z6blpg8Ijs2CQeJG73M\n",
              "76sj/gbLX5n8EPu5eQRZuVrHAjYg1mKhRMgpS5umEcs2JQqeMs52504CnCJFGTzUJHJsgtfY3C5v\n",
              "Q16xwIEAAAKtQZtOSahBaJlMCCP//rUqgAAAFA8zs8FeoUDWkNQq7dJgLMbyv0DzihsyWDn6XAOJ\n",
              "Xd1nkhcBQuZu7HmOP8Bcq9v2pM8VyWC6AyZpxwAutm+XSYSjKaAlXZhNxbIH1OL7p19pd7atDoQB\n",
              "nRBmto2ShF7SuEKBDY+uwt5HCORt946NMJ7dLuS0LakyoFUad4gIAJsaZRX3V2S+Vcs798aY0OWV\n",
              "qdy+2M/hetijMaA2Ym94DKZRtUnbCOTDBHrT4wXZD0w90GpBsbBfeBTVcVLr2TlWCn1f7bd0J86v\n",
              "Ev6ejkwiubGhSK81hXp1W0UqqCVvrUIdxZYlgvt0RcjyRRftoFp+LC5YstmH/2FFq6FI6SobwGxE\n",
              "G1tMbUFfubIjP9cWBR8q9oJPhLXN6Y8TjD9w8rdMZbvmjMDwye71b95PkblFwTLQMG7zIWOjaa8E\n",
              "x1/sVZf1WdW/0jBrOx8YmhJc5H/u6+7CAmlSmbNNHjcmAvuaEhBKDnOPFKoB7Q+jgK5xzSzUoHWE\n",
              "ZseIdYLKePakNPToqA/3bl5nE2ci+2ogMlL4gPD/1nnLCJW3wf0BN7SMXuXnoaRDNLqpMOpIB831\n",
              "/+ywqAWZBWPtTmruYc2vAGEdnuDPpKBMr/p3Vvb995iCWJzd27aVKN2Ia/KfELWefe/OsGyhiF1/\n",
              "xULXu88QDnuWqji9sNzvvjcN45xCquVAfJJIWdq0V9jB6UFfaXbuDEGKgMV8vxXCYPomSdpYppTn\n",
              "gL9PR+GF0vBfuppwcAHk9Fr7fXojxHLfTvy8EJWLvziqahNu6oXQkAaw4nCqjZhHLM+7pUUyvwM0\n",
              "WswRg8PRTK9upgxOPAXw2pCZsqKo0ozFxfbwkZDpXQ/H6TheP4uZAct/EQM+Vy57EusA9yMZGh/r\n",
              "tbF9TMuoQO7VgAAAALRBn2xFESw7/wAAAwJRSoex6FOPNjVfyoMFSYa+AAWzGUmI4dfozzh0/oSz\n",
              "Q3V+QIMvIrUy1rN6degLZU3ph7C2ROivuXww4uh9v/EbEkk1M769KAw2wOmKpdfenPKWCndga1qp\n",
              "ZLIqZ3Gr2n65AOADHKeROphQM0EirzE/T+eqcCMq0dSs2+L3mDgNWFg3uI1a+12rcg8nwA6+mnfe\n",
              "t6V5W71zw7LosBMi6AbjhxCPLFoT48AAAABlAZ+LdEN/AAADA0vV9lD09XaGq5Yj/2KTvNVaVFcf\n",
              "7cjYalIfcFkmm4NHlbkkGsLJ1je7V3GR5gARyjKtPcwZVmHxdgnWaRD+J28Gvz0L5X1NZcUvgL/u\n",
              "F0F4dVQ5DzrharPEMaUAAABpAZ+NakN/AAADA0xdgc4C2fzzlvVVvkpohvGkQfaauDyb9no0hDua\n",
              "r0yt9SdtlR9QAS30TCRh3u3cC3fGESjGRwzQ2x9KQNoQKfJDR21muko+rY7df9Atvlv7Dt1rauWI\n",
              "0ajlNi1wqjtPAAACAEGbkEmoQWyZTBRMEf/+tSqAAAAUHNVO8rgCvL966WzAFxH+OSwixnqzZETn\n",
              "UufVZEwy5VS0oZD1Gfa5ScAEQ9AEst24r9ArTzKAtf2PbDq4ont+59fmBNL92mquk4bwJYDjnq+t\n",
              "JdJhY9kQp3KtQl1M/GSPVnNS8tNIn5MFghWcyJW+i878Mk+IB+RkvIKv+S//B4IS25aExJdsJhU4\n",
              "H52VcC2SL5MBQ/1FGZ3ZQ1MvWOYmWewJL9UEmPZKaC6fFbo+f9FGUFsS69WCUzQXj3rv6D4C9fPK\n",
              "MV88ayc1CvqvGi0qRuMN9BOFqJueUx2O7miL4mKCs+uP0HdC94nvgph3lXPUNH9taRuEu1MF4ixO\n",
              "z6kQx2zKdVLu91GqTG0eSEdjtM1Cg3ni3wA6TMyY4MPD9NVyBPCjeWkpcIEKvfO0EFS/MR3v3YVD\n",
              "DTpVfRmcb47VUcnkRC5lzOcNCV4NomyMteEh+SpuTgXclpj4T7i1a5VRc4un6S2oILmulhrIrBFi\n",
              "1OH2598mGJgu29Qw8LXQSOlNESLUb4mmlgHc2EmnRV0X+6XnKu2xATAYyny+DwiS870vFRJQcGK7\n",
              "/LhmhXegiSQ6ladCAW0xO/YLuZkUmbLDrMZ2AsNybt7+UL038HNq/EGyOCxNxhx6W0dL/A1/zq3F\n",
              "F9xOVszln4//A36BAAAAWwGfr2pDfwAAAwNMprBkHsxaCqX/EGnxn8Tuw6/scFsbF4C2MMlmz500\n",
              "9E+7hW64BnO2tOGYHQ0JWAEneGJEjcWsAFebzXGFSbF5hKkAMpMvZmMAOfR1jqbkBUwAAAKEQZu0\n",
              "SeEKUmUwIIf//qpVAAADACggKpVpJ5yo8LE2CAAEUWUwYYulrazXb5eOeOtanHKHN3CEXAan5D2J\n",
              "XXTtCDENKQ9iTWqgPVZp9qyceX2ZeTr4zJVebIWcdLkWCdNVO9yxttjzIjYix2iC5HFpdQtveNY5\n",
              "GAD1/pz2ecx6Fcv+yNneuKzsMYczysJ0nA/R4UE5F1rBUZPLIHsCHO5YNX0aTNElYRL5LuMvcjVL\n",
              "Ly/HiHrF/c+T4v7NKes/KyKfS6peCM3qZqN9PzI0M6DhJMwNCcECLPLNK0LvGPiP7Ql9DzfcqSdY\n",
              "Ht0bqG8QzsmWGF6FLEJ0SbZiHFqKx9Zb6KdEjS/qQXkD621DAS0PqOb7CAqBhsz2QOC6roukXEIc\n",
              "nnD++fDRWLY8K49UfvwU1czGdUzvcnXLzOAr8DXYcO1QOLQjR6fnkctOAAAuBGcFcT44N42QLRHg\n",
              "msJT6iQOCSN0toqf0aka3v4A1mrgTOiNMpGHP/qYEwD2w1+ht9Cyj+5lYuXk6oxgtQu9zYHbaGYg\n",
              "9B8r1EXpG1ik2wLE6gUZxhYnmGcR5WbZ9SkUvp15Hvx15JMMKehvXn7fv43sBTmeSaEYWkBRv5Tz\n",
              "sk4S6NOBKlo1Gt5DJR+mb7tEYeY3+be+k1LBA9szqZvwHabSSjDDeFCdiI2ZJgOreBIZsP1yn53m\n",
              "9h+YEXGVvks9zTFRa3pzR1/vCWi79PwHAqg1QQS21ezUmsFw8fGVmEvcJRbVMWi3m4Jj7nQ7l40H\n",
              "GzKo17uaiUGEPEjLUugJjydZrmFbdz4TJW5F/gr+LVCSUlwRCsmmhzg95uT6HO81kja4iY0Gczny\n",
              "FW74Au+CXtFkcwlRQJwAAACLQZ/SRTRMO/8AAAMCUTaP/MF7hId8As3CPSRl5SOVXbqRFJMVusLU\n",
              "GN7a6/yHJol+nYxROFS39dxJCQEu8I0BcQaWyvr2efMoZociMC603DvJ8sp2v1ewIB0a6SLh8Yl7\n",
              "tPBKxi+Gtv0lKha8/5dwU2uxpQlcRTMH9kHaoYo52hlbyhRR1V8iBnAGLQAAAGUBn/F0Q38AAAMD\n",
              "S9X5khY9+7WQtpsJlcVhMMiaOACW1v92JFYT+S1m6SU43j5Wsz/RP/H2F5Ly331ntFRHdTQSS7N2\n",
              "F8CUKKgb7EKsYDXTgbjxPp2hNyqeRgP1ewB/zhXxb2ABdwAAAGIBn/NqQ38AAAMDTF2BubMTOWoC\n",
              "Zs0Y3BL4J5yvpVgz72A6iA/m+Zc/1++2pm0OrH0xYFvlSgAscmlZ4msBdTYXtOJQ7PzB26cZPRKm\n",
              "7a6d8KLtKDLp/mHwe583mUXIfCFV4AAAAiBBm/dJqEFomUwIIf/+qlUAAAMADo+83lREj0ALCrVI\n",
              "oO/zDl/BenumIth9cVxqbqWfaQnCQd1zKG8H5gdIUiMtGDEBOH/jsQCujv1v/dLdUGKrFWM37oZI\n",
              "bKbyEh3KGQSO+Qf/i0vgF4T/ZhOSJTIACh0R2vwpXUiWJaAMyW6RVK0JnN7pRrrBg/37YWAWYHAj\n",
              "ah4IxLPq0C2WOGEwQ5S7OpxwbTIJpYzvZYvTqv9aiol9EQ1SuSLyUAgN/uByuhr/WLib0jBsLn1U\n",
              "CaNVxLWoKIh7bw2qhivT3kSVJzm+LpCJNLsH9RR6aDQBIIHvXQg9znI4INPfJBqZ+UykkH6MivbH\n",
              "E1Ay3VtWtYbB5e5M2dL0RXnEzs2lqUE7UrUEl3gQL2P5SF6pi00C0oP9p/1mPJHhjX1V/XUbL8TP\n",
              "LGM0hncrT0jzX0JUJKTiIXmwA5tK3Yy6gEgdehdC+GoK7mpUUgjiQKyCMBsf1n0n5UZLo6tzCbuj\n",
              "WsaARkNaWtc2iEt12pEMHv71qnB/kiPs6MTZDj8R5LlDdkg8Rs91VpXWiYIi5fLnYI4KZqU+IW1J\n",
              "95mvcijYTMQxs/lvECq9YwGAx3VgiVgQ29SYGeFxYXdXVDBn8QivsBXWAfEX5zc5YJb4V/7fmaGT\n",
              "ueKpoT9wdfM8AbcreDp8vjigC8tswhIxJ5Sy1lWCj0xu/QRAgIAJZ2toW4vWqEefJ/8V47fT03Wp\n",
              "AAAAfUGeFUURLDf/AAADA0ymsGSrvUi3ph+TFkY1NgH3QDUAOHfmyDfyD5SUJqhZ+CFUbAQWLP8w\n",
              "GkgD2rHwsbhz2E0qZHwBKd9aVyXLB9UH7YVb5cp8lDpI1uTZlm31U9BqyY7+fMpyNzBP/fkyLwS5\n",
              "lYi7c+uivmioGP9EAMqAAAAAcwGeNmpDfwAAAwNMXYHQQYV5vzhmTnmUePt0Oe3W+Gq1aDfDUOSZ\n",
              "NHWh+ZWQAr2CZY1BzX4I+L0S+60+2r2eoXl3/PDMKtZJnCnNixAtPihmcHWwWt1G/fF15C1hZ5V+\n",
              "oKqIi9FxRPLoCqfSCvjlKDH4D/EAAAIxQZo5SahBbJlMFEwQ//6qVQAAAwAOj7rl9vgACHpclX1g\n",
              "xan2gN4lPXv7/pPpZCPSBeLtQp8XPCM2f69Zd4eXw1KPmCUFudtxdMW+aqTVK82ZvfKtI4MsnXo4\n",
              "YdNGRVK7/X+kiF4f/vsI64R3PPfJ2m3imrGHeDzEOHhv26xahdm0TaAa4GnKSTox5l3Rp90UbciK\n",
              "gUMl9WPBKpfZp3ghZSJlLgaucvjim+8SztgxoHH7/XvpnBexcIenvjvsgDxKtKlukAZ+lyySnRVW\n",
              "sTMLHuqZgHmKskNu8ByfblkWuY6gANXhFOGHLcbFrfmvFPILecD/c3z55pKlC0dEvqK+uyax9N/x\n",
              "LHWiyB++7bMfJ51Katx2Tg6zCc/T+RPllWUC/afYm+Pihr3PJRqrlhcA+K5cFsqs3qbr7ROH8SEB\n",
              "pJMoAEm0slWXtPYul1Dp5a5DOCHAzM5MgFdvskNqaixaUlKtM0OQSrfoJhi6bcbXF9oXWcZaDewP\n",
              "268ASYW7gA/e+2QOP7UjoCTc7kdJTFr08R3iuhLNZBzauzoo60kkP5mGdEt5kUf1Q8JSMDtHNHBF\n",
              "JSMpXTsW7kN67JrgQ9LsFCG6ozQS+zLWX82nv+A17zSUWJtv12ncESeuEN79cLQQ1lGnTy5UnQkT\n",
              "nRMGyfh393OoXtj6hK1NlrWpT/ubv+KDBg7x6I0FRSbd6MOkIuV+ftSndRquHEjAC3581ajRMTHZ\n",
              "FZns+eRMqyicFy+k6oMlAAAAZQGeWGpDfwAAAwNMprBopLTtGfKzCHt4IATWAAADAAC+MZgvbLz7\n",
              "ebl5wGcAQSty+gpEwq0tUQj2ZLFi1PDGE2Jf4KziQuqcF0CJkZ/1uS02Nt++SUkvdCnI1DKxosTB\n",
              "i/N4AF5AAAABy0GaW0nhClJlMFLBD/6qVQAAAwAOkZyW4AN/93IwXWi44KkT5Y83SI+eGhoZTY94\n",
              "AaQoT7gusyza18p/VPI23UJM+2bLCD4kEDtdprwcOTwQjwPx2NsqHlpXtdKW+B/3h0E2TPyN2ST9\n",
              "heXF0ON5jzHdDEI+PNBhG5G2Wmi/PcMA1PowIEWkVh0jpSb3mlupH4561OcTvnU5DTj578Crwjur\n",
              "5A1a65IsfPcsdsEUyq7Akt4drcVRxu8KAS7TjUeL4+e0GmXnjoYo/GPqf7x1m0GToopbDNaiY9kI\n",
              "8mhsh43lwCJqIBUra4X4j4dkKAE1bJPv3UVSaHv1a1el/xN+EncIiUQ9O5UpqWEAGgX/fEU7Zaui\n",
              "rbj6PBWNSoSYwCWIvSK3JrYnsJXBrfuS3M5aw4dt3lpLghicOaZ+FwQDmLBLmn/bp9V1Usvoilfe\n",
              "7zLsZc4RFQDWrasG8uAObJxS/RCYzCLEfhWYDR/VTGN+KrZh2o8l1+Mv7EM1/1A5AH0YVU06kA/P\n",
              "0l0B5PWSrPsWGpHl0/PycbWgvyEgflSSc0Fs5jejXITm7B8TzvaphA8cFB0K6QyBotmrnRTsY4b8\n",
              "oBCycIyWEMfJ68LEwQAAAFcBnnpqQ38AAAMAbXu5Jy7D9LEavXh4dfZQvgljVb2W1xA3/ioyV4E8\n",
              "XGI9sJAvNumMJQWAFsw2z6HvDHsfJKQ7tBo6aVEdfuXy4IiUKsxasfXNADd7fXAAAAGtQZp+SeEO\n",
              "iZTAgh/+qlUAAAMADpWHM48AAtdsv9RPX9MnKf2+8AEu0BrtcybIfjg/rw2xRiiXsJggpTZuCuxa\n",
              "2JKx4r1dv+4rXsDy7/7d+lBpbX9XD+QatAKsED4LHEnVpWQVjHgvIg39i7PXhKw0ykUlS5ivSrtk\n",
              "9iwqMsE2CvllTm60akEQrwa/mvly2bi0d+fEZJwG3ibVRsUnDHZEduAk1OT6p3A01yx+5h7Z3qQ7\n",
              "lfp4uRocFbLxvzha6dYDK/9ch6PCJPCTVSciTkj/9xdR5vmfet60dn0oV7EMAWGDDwfVEfYYEgMw\n",
              "3rjWMbfAqEjFO3yfq3+9kWMfzl5F52YFlFzgSkNY3jYOq+RSPTH0UTmcFtb75lWvLUdXrLBzaKI8\n",
              "R6do3tgFe7Z8zSWStUdI1JTTzdmDzxpF0yROJRGgZG7SJhRfnis1drpkNRAX4eR5thRkJT1oqNUG\n",
              "U5Y3WHHIcj2eKk6P1hTlbC9estCMikibRm3dIaNCwkh6nYLvnQML06JFkJTCsmCQZAuC2Fp0dHi6\n",
              "HFUCQxiPW76DsItNnlVoPQJt7zqjVo8hAAAAdkGenEUVPDf/AAADAG17t5qrKXbBNUGp24fymAat\n",
              "bk544T88wQGN4nrHSlAQkz4cwznFlQRMgBrJr34r0xudefdhGvUI+RpoU3S0fda1cpDmGwE3yJF4\n",
              "RTOBa8MeemmnHBCDkBwjDb6pvpr/hGkfO7mX4OZcLA0AAABnAZ69akN/AAADAG6LryJidR/VShph\n",
              "v3ly7ylZDmlqXQ2ZzzMLszxV2agA/XNrDYc2fBH97DMfzlIiTFgVmg92qAmX5aVlq060kZWAUJsX\n",
              "YthGW1gMc3x5X0sS6ckcrkVAOjAIe3d2dAAAAYdBmqFJqEFomUwIf//+qZYAAAMAnPzE0AIbX1wA\n",
              "DiCNPkX1lYCJgOc1p90q0dMpMe8Jz4UXDEaz4DfNsy2T53Yg3y5qNQx+vdIjRGRW9FndzMWlq3+U\n",
              "xIZD6nulOqFW3sBBBthjfmc3BvcrwlpODn3qYjM2ccb6eQmFGHwBEJrO+9cfmrF3QN7t+9v5p+iG\n",
              "9tIzCLaLm0b7Ik78SunmqzJxcFV0brSub1diD/bnxBLZsN7PRRutTPGEuRlgh5e7RC50H0z5BzXm\n",
              "wbFK3TKJ5gMrPxo5KZ8n+/re24eYE9nQ41kb1RTfl7WWH8fgjP0K1ayw6EIc1wDN1DBK0i30oHOZ\n",
              "8co1ZgyG4wbaYberm65sQjELul+OgGltrqIZXyR31bo0YcMURB7epTtYRuqC4E8mBPwlGYm6NzLk\n",
              "goJkvgXEo6960+FseG3lQHKe6Jjt1EYeaytK3apGXoAWeLN27ezu6Lmq3mx7E3AaJTH6PeQ1A3iM\n",
              "KNID/YwUTpkTrAa63t3XA2lntotEAAAAeEGe30URLDf/AAADAG6AHXEni73NpQoICAEsu4bBfcXO\n",
              "E4NXQrvxyDaRo4hOwGhFOtJVWvyPvprDRDwYjYutPQUaUohqkBdigkbBi9q4p5DZ9ILVC5drKD38\n",
              "y7IzI3Pg7jHTT0plYFnwoXiw8HEodcjRXAI7O20BFwAAAGQBnuBqQ38AAAMAboAyK5rPvmY7cMDV\n",
              "OsHoyLVfX/g7Sc+OP5GyQmVfACucdgLNWu32VwvLNsZXAHzXvq5t4V630jfGYglRjnY+CoZ0tJAH\n",
              "i77AILbOULCj34kkrRnDXsayIAWUAAAAm0Ga40moQWyZTBRMN//+p4QAAAMAcQMVkrszaHlQAFx8\n",
              "XbwOXc/juPmrtnyoNVg2TBnvJP9+BaDgWRrU8fIwBDOWpV/T9dJWgAKW6PAflLo8K59uIpqu0MlP\n",
              "ZY2exzzm53tjAoRXnMPCWhD8pS8FFtI+EkJJiC47hWe0gWi62an0F+G0Epy56IWHhFiaS/coM8Em\n",
              "Th4Q0oceFm8vAAAAXAGfAmpDfwAAAwBsFazxaPv6FqKt6r8/EDWvyORvyP5cyOIAJa7Lh5R/2RqI\n",
              "Z3Zhe/ZbNIOw4DF1EsI/VyBcxtfXxifwcImO69M9+RrlTHYx+Wz/CT5CyH/hKB6QAAAHqm1vb3YA\n",
              "AABsbXZoZAAAAAAAAAAAAAAAAAAAA+gAACcQAAEAAAEAAAAAAAAAAAAAAAABAAAAAAAAAAAAAAAA\n",
              "AAAAAQAAAAAAAAAAAAAAAAAAQAAAAAAAAAAAAAAAAAAAAAAAAAAAAAAAAAAAAAAAAAIAAAbUdHJh\n",
              "awAAAFx0a2hkAAAAAwAAAAAAAAAAAAAAAQAAAAAAACcQAAAAAAAAAAAAAAAAAAAAAAABAAAAAAAA\n",
              "AAAAAAAAAAAAAQAAAAAAAAAAAAAAAAAAQAAAAAKAAAAB4AAAAAAAJGVkdHMAAAAcZWxzdAAAAAAA\n",
              "AAABAAAnEAAACAAAAQAAAAAGTG1kaWEAAAAgbWRoZAAAAAAAAAAAAAAAAAAAKAAAAZAAVcQAAAAA\n",
              "AC1oZGxyAAAAAAAAAAB2aWRlAAAAAAAAAAAAAAAAVmlkZW9IYW5kbGVyAAAABfdtaW5mAAAAFHZt\n",
              "aGQAAAABAAAAAAAAAAAAAAAkZGluZgAAABxkcmVmAAAAAAAAAAEAAAAMdXJsIAAAAAEAAAW3c3Ri\n",
              "bAAAALdzdHNkAAAAAAAAAAEAAACnYXZjMQAAAAAAAAABAAAAAAAAAAAAAAAAAAAAAAKAAeAASAAA\n",
              "AEgAAAAAAAAAAQAAAAAAAAAAAAAAAAAAAAAAAAAAAAAAAAAAAAAAAAAAABj//wAAADVhdmNDAWQA\n",
              "Fv/hABhnZAAWrNlAoD2hAAADAAEAAAMAFA8WLZYBAAZo6+PLIsD9+PgAAAAAHHV1aWRraEDyXyRP\n",
              "xbo5pRvPAyPzAAAAAAAAABhzdHRzAAAAAAAAAAEAAABkAAAEAAAAABRzdHNzAAAAAAAAAAEAAAAB\n",
              "AAAC+GN0dHMAAAAAAAAAXQAAAAEAAAgAAAAAAQAAFAAAAAABAAAIAAAAAAEAAAAAAAAAAQAABAAA\n",
              "AAABAAAMAAAAAAEAAAQAAAAAAQAAEAAAAAACAAAEAAAAAAEAABQAAAAAAQAACAAAAAABAAAAAAAA\n",
              "AAEAAAQAAAAAAQAAEAAAAAACAAAEAAAAAAEAABQAAAAAAQAACAAAAAABAAAAAAAAAAEAAAQAAAAA\n",
              "AQAADAAAAAABAAAEAAAAAAEAABQAAAAAAQAACAAAAAABAAAAAAAAAAEAAAQAAAAAAQAAEAAAAAAC\n",
              "AAAEAAAAAAEAABQAAAAAAQAACAAAAAABAAAAAAAAAAEAAAQAAAAAAQAACAAAAAABAAAUAAAAAAEA\n",
              "AAgAAAAAAQAAAAAAAAABAAAEAAAAAAEAABQAAAAAAQAACAAAAAABAAAAAAAAAAEAAAQAAAAAAgAA\n",
              "CAAAAAABAAAMAAAAAAEAAAQAAAAAAQAACAAAAAABAAAUAAAAAAEAAAgAAAAAAQAAAAAAAAABAAAE\n",
              "AAAAAAEAABQAAAAAAQAACAAAAAABAAAAAAAAAAEAAAQAAAAAAQAACAAAAAABAAAUAAAAAAEAAAgA\n",
              "AAAAAQAAAAAAAAABAAAEAAAAAAEAABQAAAAAAQAACAAAAAABAAAAAAAAAAEAAAQAAAAAAQAAFAAA\n",
              "AAABAAAIAAAAAAEAAAAAAAAAAQAABAAAAAABAAAMAAAAAAEAAAQAAAAAAQAAFAAAAAABAAAIAAAA\n",
              "AAEAAAAAAAAAAQAABAAAAAABAAAUAAAAAAEAAAgAAAAAAQAAAAAAAAABAAAEAAAAAAEAAAwAAAAA\n",
              "AQAABAAAAAABAAAUAAAAAAEAAAgAAAAAAQAAAAAAAAABAAAEAAAAAAEAABAAAAAAAgAABAAAAAAB\n",
              "AAAMAAAAAAEAAAQAAAAAAQAADAAAAAABAAAEAAAAAAEAABAAAAAAAgAABAAAAAABAAAQAAAAAAIA\n",
              "AAQAAAAAAQAADAAAAAABAAAEAAAAABxzdHNjAAAAAAAAAAEAAAABAAAAZAAAAAEAAAGkc3RzegAA\n",
              "AAAAAAAAAAAAZAAAEm4AAALWAAAAuwAAAH8AAACeAAACgwAAAIgAAAK6AAAAyQAAAJAAAANUAAAB\n",
              "IwAAAKMAAACOAAACrAAAAKgAAAChAAAC4wAAAN8AAACfAAAAqAAAAhUAAACQAAACuwAAAQcAAACZ\n",
              "AAAAuwAAAqAAAADJAAAAtwAAAqwAAAElAAAAtAAAAKgAAAGlAAAC6wAAAN0AAACOAAAAhgAAAxoA\n",
              "AAD5AAAAlQAAAJsAAAG2AAABzgAAAg0AAACBAAAB/gAAAwEAAADQAAAAmgAAAIEAAAMHAAAAzQAA\n",
              "AIcAAACKAAACEgAAA0sAAADHAAAAewAAAHYAAAMqAAAAzAAAAH8AAACaAAACzQAAAMwAAACLAAAA\n",
              "fwAAAlIAAABoAAAC0QAAAJ8AAABnAAAAfwAAArEAAAC4AAAAaQAAAG0AAAIEAAAAXwAAAogAAACP\n",
              "AAAAaQAAAGYAAAIkAAAAgQAAAHcAAAI1AAAAaQAAAc8AAABbAAABsQAAAHoAAABrAAABiwAAAHwA\n",
              "AABoAAAAnwAAAGAAAAAUc3RjbwAAAAAAAAABAAAAMAAAAGJ1ZHRhAAAAWm1ldGEAAAAAAAAAIWhk\n",
              "bHIAAAAAAAAAAG1kaXJhcHBsAAAAAAAAAAAAAAAALWlsc3QAAAAlqXRvbwAAAB1kYXRhAAAAAQAA\n",
              "AABMYXZmNTguNDUuMTAw\n",
              "\">\n",
              "  Your browser does not support the video tag.\n",
              "</video>"
            ],
            "text/plain": [
              "<IPython.core.display.HTML object>"
            ]
          },
          "metadata": {},
          "output_type": "display_data"
        },
        {
          "data": {
            "image/png": "[encoded data removed]",
            "text/plain": [
              "<Figure size 640x480 with 1 Axes>"
            ]
          },
          "metadata": {},
          "output_type": "display_data"
        }
      ],
      "source": [
        "plot(result_rk45, duration, size)"
      ]
    },
    {
      "attachments": {},
      "cell_type": "markdown",
      "metadata": {
        "id": "oazVHmdxmYHY"
      },
      "source": [
        "# Linearização do Modelo Matemático"
      ]
    },
    {
      "attachments": {},
      "cell_type": "markdown",
      "metadata": {
        "id": "dJQFGhZcsgDC"
      },
      "source": [
        "## Aproximação por séries de Taylor"
      ]
    },
    {
      "cell_type": "code",
      "execution_count": 1151,
      "metadata": {
        "id": "vOsMMtwRGj3I"
      },
      "outputs": [],
      "source": [
        "linear_space = taylor_linear(space, theta_1, theta_2, theta_3, y0[0], y0[1], y0[2]).doit()\n",
        "linear_space[3] = omega_1\n",
        "linear_space[4] = omega_2\n",
        "linear_space[5] = omega_3"
      ]
    },
    {
      "cell_type": "code",
      "execution_count": 1152,
      "metadata": {
        "id": "0p4_daH8SkrN"
      },
      "outputs": [],
      "source": [
        "substitute = Params.copy()\n",
        "substitute[theta_1] = 0.5 * sp.pi\n",
        "substitute[theta_2] = 0.75 * sp.pi \n",
        "substitute[theta_3] = 0.5 * sp.pi"
      ]
    },
    {
      "cell_type": "code",
      "execution_count": 1153,
      "metadata": {},
      "outputs": [],
      "source": [
        "# É necessário pois senão o sistema \"linear\" irá apresentar termos do vetor de entradas na matriz A.\n",
        "remove_inputs_alias = {\n",
        "    p_1: 0,\n",
        "    p_2: 0,\n",
        "    tau: 0,\n",
        "}"
      ]
    },
    {
      "cell_type": "code",
      "execution_count": 1154,
      "metadata": {
        "id": "xGu-BmeVSTKn"
      },
      "outputs": [
        {
          "name": "stdout",
          "output_type": "stream",
          "text": [
            "[[0, 0, 0, 1.00000000000000, 0, 0], [0, 0, 0, 0, 1.00000000000000, 0], [0, 0, 0, 0, 0, 1.00000000000000], [-0.272532484734331, 20.7794775641437, -2.92560309607353, -208.798301585251, 298.079468204669, -142.353461848981], [2.33949717294628, -31.6368341557284, 5.83928276377584, 298.079468204669, -465.563303867486, 243.249593421963], [-3.29961261263182, 13.2206364787286, -4.36117144273847, -142.353461848981, 243.249593421963, -192.380720060247]]\n"
          ]
        }
      ],
      "source": [
        "A = list()\n",
        "for f in space:\n",
        "  A.append(list())\n",
        "  for x in vars:\n",
        "    A[-1].append(sp.N(sp.diff(f, x).subs(remove_inputs_alias).subs(substitute).doit()))\n",
        "print(A)"
      ]
    },
    {
      "cell_type": "code",
      "execution_count": 1155,
      "metadata": {
        "id": "aDxhV_lKeoxl"
      },
      "outputs": [
        {
          "name": "stdout",
          "output_type": "stream",
          "text": [
            "[[0, 0, 0], [0, 0, 0], [0, 0, 0], [-6.19949546185575e-5, 5.21169939154305e-5, 0.000208798301585251], [0.000116297234729458, -7.44019741194813e-5, -0.000298079468204669], [-7.00601407317925e-5, 8.98378658944935e-5, 0.000142353461848981]]\n"
          ]
        }
      ],
      "source": [
        "B = list()\n",
        "for f in space:\n",
        "  B.append(list())\n",
        "  for u in [p_1, p_2, tau]:\n",
        "    B[-1].append(sp.N(sp.diff(f, u).subs(substitute).doit()))\n",
        "print(B)"
      ]
    },
    {
      "cell_type": "code",
      "execution_count": 1156,
      "metadata": {
        "id": "zykehhv7-WQG"
      },
      "outputs": [],
      "source": [
        "def list_to_scilab_matrix(matrix: list[list[float]], varname: str) -> str:\n",
        "  scilab_code = varname + \" = [\" \n",
        "  for row in matrix:\n",
        "    for value in row:\n",
        "      scilab_code += \" \" + str(value)\n",
        "    scilab_code += \";\"\n",
        "  scilab_code = scilab_code[:-1]\n",
        "  scilab_code += \"]\"\n",
        "  return scilab_code"
      ]
    },
    {
      "cell_type": "code",
      "execution_count": 1157,
      "metadata": {
        "id": "D4VyB2gM856G"
      },
      "outputs": [
        {
          "name": "stdout",
          "output_type": "stream",
          "text": [
            "A = [ 0 0 0 1.00000000000000 0 0; 0 0 0 0 1.00000000000000 0; 0 0 0 0 0 1.00000000000000; -0.272532484734331 20.7794775641437 -2.92560309607353 -208.798301585251 298.079468204669 -142.353461848981; 2.33949717294628 -31.6368341557284 5.83928276377584 298.079468204669 -465.563303867486 243.249593421963; -3.29961261263182 13.2206364787286 -4.36117144273847 -142.353461848981 243.249593421963 -192.380720060247]\n",
            "B = [ 0 0 0; 0 0 0; 0 0 0; -6.19949546185575e-5 5.21169939154305e-5 0.000208798301585251; 0.000116297234729458 -7.44019741194813e-5 -0.000298079468204669; -7.00601407317925e-5 8.98378658944935e-5 0.000142353461848981]\n"
          ]
        }
      ],
      "source": [
        "print(list_to_scilab_matrix(A, 'A'))\n",
        "print(list_to_scilab_matrix(B, 'B'))"
      ]
    },
    {
      "attachments": {},
      "cell_type": "markdown",
      "metadata": {},
      "source": [
        "# Simulação do sistema linearizado"
      ]
    },
    {
      "cell_type": "code",
      "execution_count": 1158,
      "metadata": {
        "id": "96iuKOtGzoDm"
      },
      "outputs": [],
      "source": [
        "linear = solve_ode(linear_space.subs(input_alias).subs(Params), duration, size, y0)"
      ]
    },
    {
      "cell_type": "code",
      "execution_count": 1159,
      "metadata": {
        "id": "3F0-pxjfzu-C"
      },
      "outputs": [
        {
          "data": {
            "image/png": "[encoded data removed]",
            "text/plain": [
              "<Figure size 640x480 with 1 Axes>"
            ]
          },
          "metadata": {},
          "output_type": "display_data"
        },
        {
          "data": {
            "image/png": "[encoded data removed]",
            "text/plain": [
              "<Figure size 640x480 with 1 Axes>"
            ]
          },
          "metadata": {},
          "output_type": "display_data"
        },
        {
          "data": {
            "image/png": "[encoded data removed]",
            "text/plain": [
              "<Figure size 640x480 with 1 Axes>"
            ]
          },
          "metadata": {},
          "output_type": "display_data"
        },
        {
          "data": {
            "image/png": "[encoded data removed]",
            "text/plain": [
              "<Figure size 640x480 with 1 Axes>"
            ]
          },
          "metadata": {},
          "output_type": "display_data"
        },
        {
          "data": {
            "image/png": "[encoded data removed]",
            "text/plain": [
              "<Figure size 640x480 with 1 Axes>"
            ]
          },
          "metadata": {},
          "output_type": "display_data"
        },
        {
          "data": {
            "text/html": [
              "<video width=\"640\" height=\"480\" controls autoplay loop>\n",
              "  <source type=\"video/mp4\" src=\"data:video/mp4;base64,AAAAIGZ0eXBNNFYgAAACAE00ViBpc29taXNvMmF2YzEAAAAIZnJlZQAAHmFtZGF0AAACoQYF//+d\n",
              "3EXpvebZSLeWLNgg2SPu73gyNjQgLSBjb3JlIDE2MSAtIEguMjY0L01QRUctNCBBVkMgY29kZWMg\n",
              "LSBDb3B5bGVmdCAyMDAzLTIwMjAgLSBodHRwOi8vd3d3LnZpZGVvbGFuLm9yZy94MjY0Lmh0bWwg\n",
              "LSBvcHRpb25zOiBjYWJhYz0xIHJlZj0zIGRlYmxvY2s9MTowOjAgYW5hbHlzZT0weDM6MHgxMTMg\n",
              "bWU9aGV4IHN1Ym1lPTcgcHN5PTEgcHN5X3JkPTEuMDA6MC4wMCBtaXhlZF9yZWY9MSBtZV9yYW5n\n",
              "ZT0xNiBjaHJvbWFfbWU9MSB0cmVsbGlzPTEgOHg4ZGN0PTEgY3FtPTAgZGVhZHpvbmU9MjEsMTEg\n",
              "ZmFzdF9wc2tpcD0xIGNocm9tYV9xcF9vZmZzZXQ9LTIgdGhyZWFkcz0xMiBsb29rYWhlYWRfdGhy\n",
              "ZWFkcz0yIHNsaWNlZF90aHJlYWRzPTAgbnI9MCBkZWNpbWF0ZT0xIGludGVybGFjZWQ9MCBibHVy\n",
              "YXlfY29tcGF0PTAgY29uc3RyYWluZWRfaW50cmE9MCBiZnJhbWVzPTMgYl9weXJhbWlkPTIgYl9h\n",
              "ZGFwdD0xIGJfYmlhcz0wIGRpcmVjdD0xIHdlaWdodGI9MSBvcGVuX2dvcD0wIHdlaWdodHA9MiBr\n",
              "ZXlpbnQ9MjUwIGtleWludF9taW49MTAgc2NlbmVjdXQ9NDAgaW50cmFfcmVmcmVzaD0wIHJjX2xv\n",
              "b2thaGVhZD00MCByYz1jcmYgbWJ0cmVlPTEgY3JmPTIzLjAgcWNvbXA9MC42MCBxcG1pbj0wIHFw\n",
              "bWF4PTY5IHFwc3RlcD00IGlwX3JhdGlvPTEuNDAgYXE9MToxLjAwAIAAABGaZYiEABH//veIHzLL\n",
              "afk613IR560urR9Q7kZxXqS9/iAAAAMAAAMAAGVA3ylQf3lw3OAAAATwAMggv8RQjcADaCmBO+o8\n",
              "4YYm1wSXELRnXKU3iTE0v2kPghhkjvpCJQIQZM0UKJRia3n6DkPIZb4HeJ4sKi/QFDM8/ISWSPLV\n",
              "NpiA2/Oa7/5e0WtXxLOYWAeh0RzJ8w5a9/Zrc2T+chi6b5Sjp4a3pv+2afAO/U+YVIDtGafNKVjW\n",
              "FOSksH+8pxZhW/bzwZZRbvd7Vecpj/LJyO++LBNtf7MAsqjCdmtJgmK2Z+PnsIkkfFw66NPVUhxQ\n",
              "lDA36tV7ELuYZQj1rGA2cUiGkuPSPJkgBOVHlyvC+Fh4XmsFIAAEL6VT3xqK6icSvkeqD6xy0s10\n",
              "FEG8ZFakl0unQXyDJ5jafX6Gljn90T/9oE7sYgG9ICxUrGmL0emZZ8Zv6+GTQL7Ad/69lrqiUToq\n",
              "n+Az2q38tnlKXqRCNHH0NUA2JF6BWTF7OTsPudAk1jOsHLQnGEe4L3UvxitnLf8q515lFx3Uj9Bl\n",
              "lIAUzKJq66k592JkWwAvISNK6uk0JIv6wTWjLMErdVu9S3d1Gm9cvG4d5VT/DmTuJeL0LHuzjPMS\n",
              "NlLRlIPINZXNyZltfA0QM8lvgFXBGcgiV2kP3+4RmEI/kZbENCx7NSjx9iRsyEC4B7WIoeJw3lS8\n",
              "qpTzDJwfhE2LJ7QYOXCM/aMfSxb90wbagawtZirN0qKNL/KGrsZiRUf7cNP59/p2lOyp94E9Y/Zq\n",
              "Kd6rczUDGOqYePeiz0LnAnD6B+lX9gBSDMDxDeLt7PMZHVua5lSc7rSfhoHcECOf4BGKujefGJU7\n",
              "kAKbqLv5n8Uab11BUliEYEKv0YsLG2H2jkOQCGnBx/PxIyPH9FMrE99BTe3Lm5PopAIPf5YWX52a\n",
              "vpSqTsrgzwoZFQ8naz7+2MMvgOPhICv3cv0af+r7+ti6/rdxPD+jcfAcWhyf5Nlabsi5sIcK/1jv\n",
              "Ni9OiaR5SFYo2ehCkN0IjXWxMHnnHM4p+ZcWavE660DCHYQRitFENes6XNAq2J+Mx+6Z4aYMSNAo\n",
              "s2EcI1zLGA3dLaw/N7mMoIsMiNETSnzx+Xhktis6wK1OGgtoRFWNjGm532h4STMyMex5VeluVgg6\n",
              "QRVPgVaxBml+G5x+nrmBhyIIjOEdIXTFWLK96LzmB10yHNmqOjkBjys7l94LUC0mUKI57Og13yne\n",
              "8ycDTmVYqWgoa1d2+oj7M5kU6XRxk1QTmBhDz1bfB4od72C0UxwA97DvOXMmZ+o1X3rXPsum+T4G\n",
              "PZfITnoGT1rUDJ6oBok13IGGynU+lfUBN0cDCprPi9siGPpkMSrhqJTQoPdzfclAH+vYY67KYSHe\n",
              "H+mwN1nnw9d2t0gDtAj/I+PsdWKEb79378/XOVhxNETWXVtFiunz9AjxN3KPaH51ef42CXcm1uPu\n",
              "syL3K9SlWdC2RNmusSy+DNHiyEGJM6bxS2hb4aQlhgB3I1NTtbmDZ7WIRn2bFr5VBIosJOgK67ZI\n",
              "lBfGq9jIHj/pfa81F1mSAFMWC0MmNLZiWhqUBFOhLDjF7Kr/w/Jpl2s7/VRk40Gwda+Z3+raq7l1\n",
              "xy/vi4uPdI2WamLTF5sYOD5WkSZNnvjyeP+tlHU1P9a4NIfrRZj/vg2e9CFNSoUW2MB7akzKSZKh\n",
              "N89Ctl32+EdT+G2lCEvImTb26MLSGCKsJbUIvu7YmjbbyRo1hSPKS+QAsSHms2A7buhgwrYNs7Um\n",
              "mYBpyxoyn7fkU5TOkcESnA7Mt0ADHGSMcApkSzQtaa3gGoRX6N9qTBPYGd4DOJCkSXmJkvKkkJ1a\n",
              "nGCHAZY6n0hrlGH2U8wOMWZ8O0/5+KwLFrkq0rh0LmzPLMazaxVA9HOmCaM2WMAKWEecvEieBQu7\n",
              "tITRJLP94vINpq57d+FFCrU3U6MA9PNfnH8dqn9xtMlSK8SczZfT7rT/Wtr4+wnUkFKIa5rD9O2F\n",
              "HCa2ckemnoDewLThlno34McRQpJGyweHiMOZhp0y+7TUKWbO6l+CMPiyX+i9p7oOJdTL5DYnPwbN\n",
              "Xhk3FHTLekQRC69HQ3XQVWSdDnpfN1hfTB3jFkT5wwlVdTuDUVOQpDDQyahnl+UBBSiJUW4UqB5K\n",
              "A3lhi/K3qK7V8g6c+PA1/zVZRGF2YHL/RtXSeHVzdNC0DaXQruQ51JBNGwaNVex3Nlbuh47Ey+Mp\n",
              "GCjDuNV5iILXV5rLRsK5TWPg0G8X7CpwJFpZraV8TPA/QQ0BIwZBCX6vF6vTS4gzkM5iZlWJ+i8w\n",
              "xU4Hd+CzJ7iDLyiANCIC1nQa/RpusHsHThJupkukiK8pFXjX3ldckeDxb9NuQJ7rJ7YldYW01FCa\n",
              "RtCbx1XWY5fp+qUxMfqnb1jVedAiyopZlDMOTUSvb9VW7bCVOWKED3+ArzxhPIPq0BQ4atoocTRM\n",
              "lf9YdJg2mEBy41WRYwVC/wf6F30pkR1nkkOKUXsHg/IuKBDgMDoV8wlMvZVX4R9TaV6PYTC/W2QD\n",
              "dEbustdJtPbpOf1xuCfuGRvA2UicOtw0WYpbH8DivfhYo0M4pqaapp67Cup1i/tdN/4TLPMcOBZR\n",
              "9lNkkF9L1QTmrNgDRilzHwdPRtptPkdSbil41tl+7pFPU6J4SgA/4U4eObWxGI9oqwsq1c/Ibbm1\n",
              "HVnIbZJE8XlbyxpjIZM8k2UhvaxWj/uMAXGjwnc7EXVnHS40thWRmovwsjiaxpgxiJVROGliR6fD\n",
              "XHa4Y0hNm7Gw0+ReLWNDlZ4LgmtqLUEeU/wg8+0l7GKp4jKVgWypY6YAm4SSJqXUJoMjhcMsQmR4\n",
              "t1gawEcT+G6enKXAK8oZB7J++onV3Y5nKPsMIYm9QdPh4VLBV1730KFqEHSD2aZEOElskAEQNQvh\n",
              "YCVgW1v6t9BB2yFvat5kj0l4uB5/p6Z926WkZs80z58UhrVjQfhjkTBTwWUJhIcwLd48yxCSqMPN\n",
              "rndF8qkDtL0iToAi/OGTWTy6LHnniAgKaOMUueL3LJVrnhQkRkS7NS9+QrBdHKgkB8DFmKvvkhWi\n",
              "iS5N22i5AGvE2SfV5YatSTeAONxrIWdsi7c/63ZhK6WI6sLmGEx84wp5/iBt0LnOfq1p0WTRBg/d\n",
              "pp9zhwRTFaYE3LYcHgEpFWK/0u7Nj0n1kTOJF65egun8k3rqOKxY1QJ67Mgwo5ij6RD7BPu1wNJd\n",
              "PVI1evatbvvYyXN33PQY+gxhL2Xm293G/QQF4oFNrEHPA2sMXYZLEwgLkwDPUBJyqK2K8XCibsrg\n",
              "7AtAI5ye/83A0W8nxAX5ibi+dTq0rvWYYcML1X9OVR4lCQyxBbmBSe4VO5m8eTVavyzWZzbI0aMH\n",
              "nQUQY4P96upkt0yIavCK7cSqYud7RgNayZ2Swr54PwUIH7FkLffgXtLDM6+qxChOMJkPj7Ixj0Kf\n",
              "dioJze/UB7hoSDhxSkxjed/OHlC3iZrMJq54oEUSih7tsssH4PjBOYgTTBLcH2kYzUeWbjGqxsNr\n",
              "erMcGsU9MpGgpf8dKASSesdcLpcHGyyzVs+69qf77K+vv7k7BVSJZ6g8GYAvm8YW38tJ0AABqUgm\n",
              "Plk4TbZp4RatadEt+gYs5VUzAy2Ny9uYh39r77OgADIDP1/ymrN/4IADCX0+x7rpzGMTr703Y52Y\n",
              "QaF/RVcJHpZKU+PyNfAFOwNUOqdaTL15kFecp40FSjwXRyoz5iAICmyA1Gu7wraC9vn4Nf28rrZu\n",
              "b8mQk5PPX49RcVPWX/+rTaO5pGxvOgAzpjk2Q1IADeXz8lUWEZgv58QL/+xH1k6r399ckIDdwnbx\n",
              "oTPBXaBU5V3Dm+iTLc5/aCR+l0vAGbo2OatMuna//lMN5fihA+nfGJ2QTVBVwjuDCSEOJAbJTVcU\n",
              "iNnN+lAFuiT8E5+3Y6pCf7SKCzx8/oadXKoxoPVtclPA0WlSQQ2Kxq63IKhyibcjmr8CHiEPL9YG\n",
              "491K3CAKgknSIPAFbS9RTi8gA4s93Bn+BOSL5dSpkIPg3hewhy4I2IpRUIel05eltpjYzi+oWTwJ\n",
              "KKZjsfL3y1EF0lnurntoTqi85B0y2KashRhV9j7CzlqC/rFEQAfypVGuNVLgbBXgL8JZJCHstEU9\n",
              "j59GXn1pKYZtYvmtoANPUZTHL8qJCfbtgQmOKFe4h9Ky6YOJ+zgJX3rD4aLPI1X4GG+aAAAVSX9E\n",
              "GYGFKwIRSOd/z/ri9RV01w9hw7VHKPrAMoPbbXHFXkT37yR0kU8lkYvl6Z2/k1Dnc0VLM9SP4jSX\n",
              "k+KfbJ//xEVPywctfTik+arD5KempxE2//9VG9XlFaXQSYJ4GflS2vbG7KAlOXWLBWfZlTV63yqh\n",
              "rN+ucDjthHs3FY7NjrpIb5A/5c11Uu3icAqQtUoNab1kVcZekS3Ai7C8KU0i7N1hRdRoIbApjyHX\n",
              "tSjAzF/NceeLrkS/5fnXtrnsmG72k2oIO1LKB3u5/bLvCSPveVeG1lS5esHwWsjFEsxyRkE9ODf6\n",
              "0A4DBOM0DI/hQNAoztDdcmVIUCrb/u03cj+MDKufc9mPiUHwm+UUCFSeZkXsa8eb59S1HNcoEOc1\n",
              "avxCRFoQKQAXQ7PjuRQW0yxXIW07nSkcxoLyKP1qAZAiKg/EyQChKeW+nDfY5FwHQMm48arwaSuD\n",
              "F8fP1A2BNHOdavsWYupH/c4ykueWhuwxnJFDJa8j51lHkOb5y0NUSomcAAtKbGIUk7RYZCFGd8oI\n",
              "DsabizNXSrCGRopVJvi8ZVSf/m5AbIJJglXjgQZb9AXeBkBjCn93o8BNnjFCoCyMuNOeiHNZkUvA\n",
              "0OSubTQuIJr6YwBiSQdfO0rlDTDIw4R/053ug5a/uJFiXmldHqa/vCKJaujhnVvAOYCH+4xE+sJi\n",
              "oJH3m9owczSNpq+N9w+0BFkFVu8iHlSGa8IMGYLt6C8TxXbAIHmloVncBEm3xRAoM0WCSiJmgV4n\n",
              "B4+lbiyVJIG9NnSn10sk1kFP5mTfbdlHP25VsD+qnxOp1Tb5JC+NFk9BpZBWS1VfYaze/FP3zCN1\n",
              "MJRI8w2ZwgO+opwvtDETxBe+zOdlJ7OjZZEx9Gt9s6Z5RHYmzMZKhgJ2MbcMi0d9dyhMo99SO7rR\n",
              "YDL7xSoW0FPsNP2cT/E5FPkP7I9FFbiZW13T/5xrMhK3xBbmn7KHLPjJTIABbKTczZjGnXD4OTu+\n",
              "x3USWTdMkwGdgAaZqRX05LAWYS3trPfneFo+gO7W/f8OiDBz/iB6drkPCCh3R/T+p24tZZOvYtcB\n",
              "TZINILxlEFAkdMijS7kTwF1WvpuwpOoNStwaA27zLDI6+yyPwWA+UcHTu+xaCt+7B0xFRJ1SxIox\n",
              "ax/e4OYfk+ALxIHtnbxRQtQWl+nef+lNVwLCzCTShYzgNaz/u7FNDzo+iRFxNMqDWGn7avDaaLfd\n",
              "zIIdT5YQ/rE6mDsStT1qkvS2OQjcKHDAuRgzkweFaglmNkZjcOvbZYpa3h2kmU/3pjrVJr036Wsk\n",
              "geuHAReeDtToBAMtUsBNBBCh+YDqPchptLGOjsnAZZa1ZV21/bm7Tk7jKhlxd22J7HRrgTOe4ZCn\n",
              "4/YK79NNVTt32QahXzseEtXg98iey3gYYVeorg3xN00itwQH225z8WxnjKI4CkUfaGpatNDYRd8E\n",
              "fA5Q/3ns4yBOkVd5P+u6IUqmKWGKo0bvQZ/9/xuKSghVBkUyPvOOvTWg1TvSZlaet6hOSiTnfZ0b\n",
              "BUtiK1E8OwWW7qBHSvJFicAYsIKkKnvMBAcOiu13uRnL1TknLVC+/h+Tk9b3fV05Zuc3dzEK5Rn2\n",
              "ORkl5I6EXh8UQoWuUaPyDa35nmmMgt2O8s080C1/vXPAT++ErXrLlsbNNcWCaNrY89aq4Q+U+LoZ\n",
              "b7VWF+SIPPx5OJW3Hmz2wVAzYQdGXSSminw39qdmW3fmH4CTucD1y4hUy6oEHBH96sDSyV6oJjp+\n",
              "f6XZUFmylT3AIu/rxMqfQVrnoJYxng90D09Ojt6Qnjjpcaij8nldflaLrM0AABHRAAAAYkGaJGxB\n",
              "H/61KoAAAso4YMAN+zPOnkgN2wf2zQAAL7jH6gF/HWS5IpDCx8r84EVebyEK9DIfLgLdP4cHNYtl\n",
              "85cZwIn8/Fhhpw/EcjZN/fZwr/izTP7DKI9AHuGab108bVUpAAAAG0GeQniHfwAACuGM4YAAOJVU\n",
              "P5fNSzl9zOJTCQAAABUBnmF0Q38AAAMAAAMAAbnrKCbqG4AAAAATAZ5jakN/AAADAAADAAFZehAB\n",
              "gQAAABlBmmhJqEFomUwII//+tSqAAAADAAADAAXFAAAAFUGehkURLDv/AAADAAADAADvEacDYQAA\n",
              "ABIBnqV0Q38AAAMAAAMAAVk74GMAAAATAZ6nakN/AAADAAADAAFZehABgAAAABlBmqxJqEFsmUwI\n",
              "I//+tSqAAAADAAADAAXEAAAAFUGeykUVLDv/AAADAAADAADvEacDYQAAABIBnul0Q38AAAMAAAMA\n",
              "AVk74GMAAAATAZ7rakN/AAADAAADAAFZehABgAAAABlBmvBJqEFsmUwII//+tSqAAAADAAADAAXF\n",
              "AAAAFUGfDkUVLDv/AAADAAADAADvEacDYQAAABIBny10Q38AAAMAAAMAAVk74GMAAAATAZ8vakN/\n",
              "AAADAAADAAFZehABgAAAABlBmzRJqEFsmUwII//+tSqAAAADAAADAAXEAAAAFUGfUkUVLDv/AAAD\n",
              "AAADAADvEacDYQAAABIBn3F0Q38AAAMAAAMAAVk74GMAAAATAZ9zakN/AAADAAADAAFZehABgAAA\n",
              "ABlBm3hJqEFsmUwII//+tSqAAAADAAADAAXFAAAAFUGflkUVLDv/AAADAAADAADvEacDYAAAABIB\n",
              "n7V0Q38AAAMAAAMAAVk74GMAAAATAZ+3akN/AAADAAADAAFZehABgQAAABlBm7xJqEFsmUwII//+\n",
              "tSqAAAADAAADAAXEAAAAFUGf2kUVLDv/AAADAAADAADvEacDYQAAABIBn/l0Q38AAAMAAAMAAVk7\n",
              "4GMAAAATAZ/7akN/AAADAAADAAFZehABgQAAABlBm+BJqEFsmUwII//+tSqAAAADAAADAAXFAAAA\n",
              "FUGeHkUVLDv/AAADAAADAADvEacDYAAAABIBnj10Q38AAAMAAAMAAVk74GMAAAATAZ4/akN/AAAD\n",
              "AAADAAFZehABgQAAABlBmiRJqEFsmUwII//+tSqAAAADAAADAAXEAAAAFUGeQkUVLDv/AAADAAAD\n",
              "AADvEacDYQAAABIBnmF0Q38AAAMAAAMAAVk74GMAAAATAZ5jakN/AAADAAADAAFZehABgQAAABlB\n",
              "mmhJqEFsmUwII//+tSqAAAADAAADAAXFAAAAFUGehkUVLDv/AAADAAADAADvEacDYQAAABIBnqV0\n",
              "Q38AAAMAAAMAAVk74GMAAAATAZ6nakN/AAADAAADAAFZehABgAAAABlBmqxJqEFsmUwII//+tSqA\n",
              "AAADAAADAAXEAAAAFUGeykUVLDv/AAADAAADAADvEacDYQAAABIBnul0Q38AAAMAAAMAAVk74GMA\n",
              "AAATAZ7rakN/AAADAAADAAFZehABgAAAABlBmvBJqEFsmUwII//+tSqAAAADAAADAAXFAAAAFUGf\n",
              "DkUVLDv/AAADAAADAADvEacDYQAAABIBny10Q38AAAMAAAMAAVk74GMAAAATAZ8vakN/AAADAAAD\n",
              "AAFZehABgAAAABlBmzRJqEFsmUwII//+tSqAAAADAAADAAXEAAAAFUGfUkUVLDv/AAADAAADAADv\n",
              "EacDYQAAABIBn3F0Q38AAAMAAAMAAVk74GMAAAATAZ9zakN/AAADAAADAAFZehABgAAAABlBm3hJ\n",
              "qEFsmUwII//+tSqAAAADAAADAAXFAAAAFUGflkUVLDv/AAADAAADAADvEacDYAAAABIBn7V0Q38A\n",
              "AAMAAAMAAVk74GMAAAATAZ+3akN/AAADAAADAAFZehABgQAAABlBm7xJqEFsmUwII//+tSqAAAAD\n",
              "AAADAAXEAAAAFUGf2kUVLDv/AAADAAADAADvEacDYQAAABIBn/l0Q38AAAMAAAMAAVk74GMAAAAT\n",
              "AZ/7akN/AAADAAADAAFZehABgQAAADtBm+BJqEFsmUwII//+tSqAAAGU1q9AK9uyt2FVwM5syyKn\n",
              "yGC33Y0w8yeoAMOuyQgMm48wEN8xjW7kwQAAABdBnh5FFSw7/wAAAwAAAwABvQSjTmoxPAAAABIB\n",
              "nj10Q38AAAMAAAMAAVk74GMAAAAVAZ4/akN/AAADAAADAAJ89DF1sV0xAAAAHUGaJEmoQWyZTAgj\n",
              "//61KoAAAAMAAAMAcczSLSlAAAAAF0GeQkUVLDv/AAADAAADAAG82tPnLWJ5AAAAFQGeYXRDfwAA\n",
              "AwAAAwACfHfaNFdLwAAAABMBnmNqQ38AAAMAAAMAAVl6EAGBAAAAGUGaaEmoQWyZTAgj//61KoAA\n",
              "AAMAAAMABcUAAAAVQZ6GRRUsO/8AAAMAAAMAAO8RpwNhAAAAEgGepXRDfwAAAwAAAwABWTvgYwAA\n",
              "ABMBnqdqQ38AAAMAAAMAAVl6EAGAAAAAGUGarEmoQWyZTAgj//61KoAAAAMAAAMABcQAAAAVQZ7K\n",
              "RRUsO/8AAAMAAAMAAO8RpwNhAAAAEgGe6XRDfwAAAwAAAwABWTvgYwAAABMBnutqQ38AAAMAAAMA\n",
              "AVl6EAGAAAAAGUGa8EmoQWyZTAgj//61KoAAAAMAAAMABcUAAAAVQZ8ORRUsO/8AAAMAAAMAAO8R\n",
              "pwNhAAAAEgGfLXRDfwAAAwAAAwABWTvgYwAAABMBny9qQ38AAAMAAAMAAVl6EAGAAAAAGUGbNEmo\n",
              "QWyZTAgj//61KoAAAAMAAAMABcQAAAAVQZ9SRRUsO/8AAAMAAAMAAO8RpwNhAAAAEgGfcXRDfwAA\n",
              "AwAAAwABWTvgYwAAABMBn3NqQ38AAAMAAAMAAVl6EAGAAAAAGUGbeEmoQWyZTAgj//61KoAAAAMA\n",
              "AAMABcUAAAAVQZ+WRRUsO/8AAAMAAAMAAO8RpwNgAAAAEgGftXRDfwAAAwAAAwABWTvgYwAAABMB\n",
              "n7dqQ38AAAMAAAMAAVl6EAGBAAAAGUGbvEmoQWyZTAgh//6qVQAAAwAAAwAAC4gAAAAVQZ/aRRUs\n",
              "O/8AAAMAAAMAAO8RpwNhAAAAEgGf+XRDfwAAAwAAAwABWTvgYwAAABMBn/tqQ38AAAMAAAMAAVl6\n",
              "EAGBAAAAGUGb4EmoQWyZTAh///6plgAAAwAAAwAALOEAAAAVQZ4eRRUsO/8AAAMAAAMAAO8RpwNg\n",
              "AAAAEgGePXRDfwAAAwAAAwABWTvgYwAAABMBnj9qQ38AAAMAAAMAAVl6EAGBAAAAGUGaI0moQWyZ\n",
              "TAhv//6nhAAAAwAAAwAAWUAAAAAVQZ5BRRUsN/8AAAMAAAMAAVmYHwDBAAAAEwGeYmpDfwAAAwAA\n",
              "AwABWXoQAYAAAAfabW9vdgAAAGxtdmhkAAAAAAAAAAAAAAAAAAAD6AAAJxAAAQAAAQAAAAAAAAAA\n",
              "AAAAAAEAAAAAAAAAAAAAAAAAAAABAAAAAAAAAAAAAAAAAABAAAAAAAAAAAAAAAAAAAAAAAAAAAAA\n",
              "AAAAAAAAAAAAAgAABwR0cmFrAAAAXHRraGQAAAADAAAAAAAAAAAAAAABAAAAAAAAJxAAAAAAAAAA\n",
              "AAAAAAAAAAAAAAEAAAAAAAAAAAAAAAAAAAABAAAAAAAAAAAAAAAAAABAAAAAAoAAAAHgAAAAAAAk\n",
              "ZWR0cwAAABxlbHN0AAAAAAAAAAEAACcQAAAIAAABAAAAAAZ8bWRpYQAAACBtZGhkAAAAAAAAAAAA\n",
              "AAAAAAAoAAABkABVxAAAAAAALWhkbHIAAAAAAAAAAHZpZGUAAAAAAAAAAAAAAABWaWRlb0hhbmRs\n",
              "ZXIAAAAGJ21pbmYAAAAUdm1oZAAAAAEAAAAAAAAAAAAAACRkaW5mAAAAHGRyZWYAAAAAAAAAAQAA\n",
              "AAx1cmwgAAAAAQAABedzdGJsAAAAt3N0c2QAAAAAAAAAAQAAAKdhdmMxAAAAAAAAAAEAAAAAAAAA\n",
              "AAAAAAAAAAAAAoAB4ABIAAAASAAAAAAAAAABAAAAAAAAAAAAAAAAAAAAAAAAAAAAAAAAAAAAAAAA\n",
              "AAAAGP//AAAANWF2Y0MBZAAW/+EAGGdkABas2UCgPaEAAAMAAQAAAwAUDxYtlgEABmjr48siwP34\n",
              "+AAAAAAcdXVpZGtoQPJfJE/FujmlG88DI/MAAAAAAAAAGHN0dHMAAAAAAAAAAQAAAGQAAAQAAAAA\n",
              "FHN0c3MAAAAAAAAAAQAAAAEAAAMoY3R0cwAAAAAAAABjAAAAAQAACAAAAAABAAAUAAAAAAEAAAgA\n",
              "AAAAAQAAAAAAAAABAAAEAAAAAAEAABQAAAAAAQAACAAAAAABAAAAAAAAAAEAAAQAAAAAAQAAFAAA\n",
              "AAABAAAIAAAAAAEAAAAAAAAAAQAABAAAAAABAAAUAAAAAAEAAAgAAAAAAQAAAAAAAAABAAAEAAAA\n",
              "AAEAABQAAAAAAQAACAAAAAABAAAAAAAAAAEAAAQAAAAAAQAAFAAAAAABAAAIAAAAAAEAAAAAAAAA\n",
              "AQAABAAAAAABAAAUAAAAAAEAAAgAAAAAAQAAAAAAAAABAAAEAAAAAAEAABQAAAAAAQAACAAAAAAB\n",
              "AAAAAAAAAAEAAAQAAAAAAQAAFAAAAAABAAAIAAAAAAEAAAAAAAAAAQAABAAAAAABAAAUAAAAAAEA\n",
              "AAgAAAAAAQAAAAAAAAABAAAEAAAAAAEAABQAAAAAAQAACAAAAAABAAAAAAAAAAEAAAQAAAAAAQAA\n",
              "FAAAAAABAAAIAAAAAAEAAAAAAAAAAQAABAAAAAABAAAUAAAAAAEAAAgAAAAAAQAAAAAAAAABAAAE\n",
              "AAAAAAEAABQAAAAAAQAACAAAAAABAAAAAAAAAAEAAAQAAAAAAQAAFAAAAAABAAAIAAAAAAEAAAAA\n",
              "AAAAAQAABAAAAAABAAAUAAAAAAEAAAgAAAAAAQAAAAAAAAABAAAEAAAAAAEAABQAAAAAAQAACAAA\n",
              "AAABAAAAAAAAAAEAAAQAAAAAAQAAFAAAAAABAAAIAAAAAAEAAAAAAAAAAQAABAAAAAABAAAUAAAA\n",
              "AAEAAAgAAAAAAQAAAAAAAAABAAAEAAAAAAEAABQAAAAAAQAACAAAAAABAAAAAAAAAAEAAAQAAAAA\n",
              "AQAAFAAAAAABAAAIAAAAAAEAAAAAAAAAAQAABAAAAAABAAAUAAAAAAEAAAgAAAAAAQAAAAAAAAAB\n",
              "AAAEAAAAAAEAABQAAAAAAQAACAAAAAABAAAAAAAAAAEAAAQAAAAAAQAAFAAAAAABAAAIAAAAAAEA\n",
              "AAAAAAAAAQAABAAAAAABAAAQAAAAAAIAAAQAAAAAHHN0c2MAAAAAAAAAAQAAAAEAAABkAAAAAQAA\n",
              "AaRzdHN6AAAAAAAAAAAAAABkAAAUQwAAAGYAAAAfAAAAGQAAABcAAAAdAAAAGQAAABYAAAAXAAAA\n",
              "HQAAABkAAAAWAAAAFwAAAB0AAAAZAAAAFgAAABcAAAAdAAAAGQAAABYAAAAXAAAAHQAAABkAAAAW\n",
              "AAAAFwAAAB0AAAAZAAAAFgAAABcAAAAdAAAAGQAAABYAAAAXAAAAHQAAABkAAAAWAAAAFwAAAB0A\n",
              "AAAZAAAAFgAAABcAAAAdAAAAGQAAABYAAAAXAAAAHQAAABkAAAAWAAAAFwAAAB0AAAAZAAAAFgAA\n",
              "ABcAAAAdAAAAGQAAABYAAAAXAAAAHQAAABkAAAAWAAAAFwAAAD8AAAAbAAAAFgAAABkAAAAhAAAA\n",
              "GwAAABkAAAAXAAAAHQAAABkAAAAWAAAAFwAAAB0AAAAZAAAAFgAAABcAAAAdAAAAGQAAABYAAAAX\n",
              "AAAAHQAAABkAAAAWAAAAFwAAAB0AAAAZAAAAFgAAABcAAAAdAAAAGQAAABYAAAAXAAAAHQAAABkA\n",
              "AAAWAAAAFwAAAB0AAAAZAAAAFwAAABRzdGNvAAAAAAAAAAEAAAAwAAAAYnVkdGEAAABabWV0YQAA\n",
              "AAAAAAAhaGRscgAAAAAAAAAAbWRpcmFwcGwAAAAAAAAAAAAAAAAtaWxzdAAAACWpdG9vAAAAHWRh\n",
              "dGEAAAABAAAAAExhdmY1OC40NS4xMDA=\n",
              "\">\n",
              "  Your browser does not support the video tag.\n",
              "</video>"
            ],
            "text/plain": [
              "<IPython.core.display.HTML object>"
            ]
          },
          "metadata": {},
          "output_type": "display_data"
        },
        {
          "data": {
            "image/png": "[encoded data removed]",
            "text/plain": [
              "<Figure size 640x480 with 1 Axes>"
            ]
          },
          "metadata": {},
          "output_type": "display_data"
        }
      ],
      "source": [
        "plot(linear, duration, size)"
      ]
    },
    {
      "attachments": {},
      "cell_type": "markdown",
      "metadata": {},
      "source": [
        "# Equilíbrio Estático: 2ª Lei de Newton"
      ]
    },
    {
      "cell_type": "code",
      "execution_count": 1160,
      "metadata": {},
      "outputs": [],
      "source": [
        "# Força de reação na vertical da Junta J1\n",
        "V = sp.symbols(\"V\")"
      ]
    },
    {
      "cell_type": "code",
      "execution_count": 1161,
      "metadata": {},
      "outputs": [],
      "source": [
        "# Força resultante na vertical (y)\n",
        "F_y = V \\\n",
        "    - m_1 * g * sp.sin(theta_1) \\\n",
        "    - m_2 * g * sp.sin(phi) \\\n",
        "    - m_3 * g * sp.sin(psi) \\\n",
        "    - M * g * sp.sin(psi) \\\n",
        "    + F1_y \\\n",
        "    + F2_y"
      ]
    },
    {
      "cell_type": "code",
      "execution_count": 1162,
      "metadata": {},
      "outputs": [],
      "source": [
        "# Momento resultante no sistema em relação ao pólo J1\n",
        "M_J1 = tau \\\n",
        "    - m_1 * g * sp.sin(theta_1) * (x_J2 / 2) \\\n",
        "    - m_2 * g * sp.sin(phi) * (x_J2 + x_J3 / 2) \\\n",
        "    - m_3 * g * sp.sin(psi) * (x_J2 + x_J3 + x_P / 2) \\\n",
        "    - M * g * sp.sin(psi) * (x_J2 + x_J3 + x_P) \\\n",
        "    - k * (theta_1 + phi + psi) \\\n",
        "    + F1_y * P_1[0] \\\n",
        "    + F2_y * P_2[0]"
      ]
    },
    {
      "cell_type": "code",
      "execution_count": 1163,
      "metadata": {},
      "outputs": [
        {
          "data": {
            "text/plain": [
              "{M: 1250,\n",
              " L_1: 2.15,\n",
              " L_2: 3.75,\n",
              " L_3: 2.135,\n",
              " d_1: 0.5,\n",
              " d_2: 0.5,\n",
              " g: 9.807,\n",
              " M_c: 20.66,\n",
              " A_c: 1.964,\n",
              " k: 24308.3764659871,\n",
              " c: 1000000,\n",
              " m_1: 334.474175482265,\n",
              " m_2: 583.3851897946483,\n",
              " m_3: 332.14063472308646,\n",
              " theta_1(t): 0.5*pi,\n",
              " theta_2(t): 0.75*pi,\n",
              " theta_3(t): 0.5*pi}"
            ]
          },
          "execution_count": 1163,
          "metadata": {},
          "output_type": "execute_result"
        }
      ],
      "source": [
        "substitute"
      ]
    },
    {
      "cell_type": "code",
      "execution_count": 1164,
      "metadata": {},
      "outputs": [],
      "source": [
        "substitute[k] = None\n",
        "F_y = F_y.subs(substitute).subs(remove_inputs_alias).subs(gamma_alias)\n",
        "M_J1 = M_J1.subs(substitute).subs(remove_inputs_alias).subs(gamma_alias)"
      ]
    },
    {
      "cell_type": "code",
      "execution_count": 1165,
      "metadata": {},
      "outputs": [
        {
          "data": {
            "text/latex": [
              "$\\displaystyle V - 2860.62927815806 \\sqrt{2} - 3584.10716895457 - 15516.0532047293 \\sin{\\left(1.75 \\pi \\right)}$"
            ],
            "text/plain": [
              "V - 2860.62927815806*sqrt(2) - 3584.10716895457 - 15516.0532047293*sin(1.75*pi)"
            ]
          },
          "execution_count": 1165,
          "metadata": {},
          "output_type": "execute_result"
        }
      ],
      "source": [
        "F_y"
      ]
    },
    {
      "cell_type": "code",
      "execution_count": 1166,
      "metadata": {},
      "outputs": [
        {
          "data": {
            "text/latex": [
              "$\\displaystyle - 0.5 \\pi k - 5363.67989654636 - 240.60248625 \\sqrt{2} - 50.653155 \\cos{\\left(1.75 \\pi \\right)} - 3257.30320472931 \\cdot \\left(1.0675 \\cos{\\left(1.75 \\pi \\right)} + 1.875 \\sqrt{2}\\right) \\sin{\\left(1.75 \\pi \\right)} - 12258.75 \\cdot \\left(2.135 \\cos{\\left(1.75 \\pi \\right)} + 1.875 \\sqrt{2}\\right) \\sin{\\left(1.75 \\pi \\right)}$"
            ],
            "text/plain": [
              "-0.5*pi*k - 5363.67989654636 - 240.60248625*sqrt(2) - 50.653155*cos(1.75*pi) - 3257.30320472931*(1.0675*cos(1.75*pi) + 1.875*sqrt(2))*sin(1.75*pi) - 12258.75*(2.135*cos(1.75*pi) + 1.875*sqrt(2))*sin(1.75*pi)"
            ]
          },
          "execution_count": 1166,
          "metadata": {},
          "output_type": "execute_result"
        }
      ],
      "source": [
        "M_J1"
      ]
    },
    {
      "cell_type": "code",
      "execution_count": 1167,
      "metadata": {},
      "outputs": [
        {
          "data": {
            "text/plain": [
              "{V: -3341.85854726810, k: 24304.6408582835}"
            ]
          },
          "execution_count": 1167,
          "metadata": {},
          "output_type": "execute_result"
        }
      ],
      "source": [
        "sp.solve([F_y, M_J1], [k, V])"
      ]
    }
  ],
  "metadata": {
    "colab": {
      "collapsed_sections": [
        "WAdvNX7RW7HP",
        "2-FV6Bm_t_Cf",
        "UVSv68QYwPV1",
        "_DCvhv8qONqu",
        "Jv386Pz3b4yr",
        "UIjmnCzTgRfw",
        "5UBVJpI766BH",
        "-KtJZUdD7sfA",
        "K3xMzUQqhLHY",
        "yTjPxQI7Ovmx",
        "2zgPLZHOLdzF",
        "K7OcZBzqO3XS"
      ],
      "provenance": []
    },
    "kernelspec": {
      "display_name": "Python 3",
      "name": "python3"
    },
    "language_info": {
      "codemirror_mode": {
        "name": "ipython",
        "version": 3
      },
      "file_extension": ".py",
      "mimetype": "text/x-python",
      "name": "python",
      "nbconvert_exporter": "python",
      "pygments_lexer": "ipython3",
      "version": "3.10.9"
    }
  },
  "nbformat": 4,
  "nbformat_minor": 0
}
