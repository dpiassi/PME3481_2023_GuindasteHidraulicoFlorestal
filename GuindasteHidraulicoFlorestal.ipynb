{
  "cells": [
    {
      "attachments": {},
      "cell_type": "markdown",
      "metadata": {
        "id": "LcaSpEvXiOkE"
      },
      "source": [
        "# Guindaste Hidráulico Florestal\n"
      ]
    },
    {
      "attachments": {},
      "cell_type": "markdown",
      "metadata": {},
      "source": [
        "# Bibliotecas"
      ]
    },
    {
      "cell_type": "code",
      "execution_count": 1,
      "metadata": {
        "id": "Q5rIfBKlhfix"
      },
      "outputs": [],
      "source": [
        "# Matemática simbólica, soluções analíticas:\n",
        "import sympy as sp\n",
        "\n",
        "# Operações com matrizes e vetores:\n",
        "import numpy as np\n",
        "\n",
        "# Gráficos e animações:\n",
        "import matplotlib.pyplot as plt\n",
        "from matplotlib.animation import FuncAnimation\n",
        "\n",
        "# Integração numérica:\n",
        "from scipy.integrate import solve_ivp, odeint\n",
        "\n",
        "# Outros:\n",
        "from IPython.display import display, HTML"
      ]
    },
    {
      "attachments": {},
      "cell_type": "markdown",
      "metadata": {
        "id": "5UBVJpI766BH"
      },
      "source": [
        "# Constantes"
      ]
    },
    {
      "attachments": {},
      "cell_type": "markdown",
      "metadata": {},
      "source": [
        "$M :=$ massa [kg] do ponto material, sistema formado pelo gancho (manipulador) e pela carga\n",
        "\n",
        "$m_i :=$ massa [kg] do i-ésimo elo do braço robótico\n",
        "\n",
        "$M_c :=$ massa [kg] do cilindro (parte móvel) de cada atuador hidráulico\n",
        "\n",
        "$L_i :=$ comprimento [m] do i-ésimo elo do braço robótico\n",
        "\n",
        "$d_j :=$ comprimento [m] do braço de torque do j-ésimo atuador hidráulico \n",
        "\n",
        "$F_j :=$ força [N] aplicada pelo j-ésimo atuador hidráulico\n",
        "\n",
        "$A_{c} :=$ área [m²] da seção circular dos cilindros (atuador hidráulico)\n",
        "\n",
        "$g :=$ aceleração [m/s²] da gravidade local\n",
        "\n",
        "$k_i :=$ constante elástica [Nm/rad] da i-ésima mola torcional\n",
        "\n",
        "$c :=$ coeficiente de amortecimento viscoso torcional [Nm.s/rad], igual para todos os 3 amortecedores\n"
      ]
    },
    {
      "cell_type": "code",
      "execution_count": 2,
      "metadata": {
        "id": "GL9sR4lz2wyx"
      },
      "outputs": [],
      "source": [
        "M, m_1, m_2, m_3, M_c = sp.symbols(\"M m_1 m_2 m_3 M_c\")\n",
        "L_1, L_2, L_3 = sp.symbols(\"L_1 L_2 L_3\")\n",
        "d_1, d_2 = sp.symbols(\"d_1 d_2\")\n",
        "F_1, F_2 = sp.symbols(\"F_1 F_2\")\n",
        "A_c = sp.symbols(\"A_c\")\n",
        "g = sp.symbols(\"g\")\n",
        "k_1, k_2, k_3, c = sp.symbols(\"k_1 k_2 k_3 c\")"
      ]
    },
    {
      "attachments": {},
      "cell_type": "markdown",
      "metadata": {},
      "source": [
        "# Entradas do sistema dinâmico\n"
      ]
    },
    {
      "attachments": {},
      "cell_type": "markdown",
      "metadata": {},
      "source": [
        "$p_j :=$ pressão [Pa] diferencial no j-ésimo atuador hidráulico\n",
        "\n",
        "$\\tau :=$ torque [N.m] aplicado na primeira junta ($J1$)"
      ]
    },
    {
      "cell_type": "code",
      "execution_count": 3,
      "metadata": {},
      "outputs": [],
      "source": [
        "tau, p_1, p_2 = sp.symbols(\"tau p_1 p_2\")"
      ]
    },
    {
      "attachments": {},
      "cell_type": "markdown",
      "metadata": {},
      "source": [
        "# Valores numéricos (protótipo)"
      ]
    },
    {
      "cell_type": "code",
      "execution_count": 4,
      "metadata": {},
      "outputs": [],
      "source": [
        "Params = {\n",
        "    M: 1250,     # kg\n",
        "    L_1: 2.150,  # m\n",
        "    L_2: 3.750,  # m\n",
        "    L_3: 2.135,  # m\n",
        "    d_1: 0.500,  # m\n",
        "    d_2: 0.500,  # m\n",
        "    g: 9.807,    # m/s²\n",
        "    M_c: 20.66,  # kg\n",
        "    A_c: 1.964,  # 1e-3 m²\n",
        "    c: 32,       # N*m*s/rad\n",
        "    k_1: 68698.5109795006, # N*m/rad\n",
        "    k_2: 62133.4251488827, # N*m/rad\n",
        "    k_3: 66959.9455745775, # N*m/rad\n",
        "}\n",
        "mu = Params[M] / (Params[L_1] + Params[L_2] + Params[L_3])\n",
        "Params[m_1] = mu * Params[L_1]\n",
        "Params[m_2] = mu * Params[L_2]\n",
        "Params[m_3] = mu * Params[L_3]"
      ]
    },
    {
      "attachments": {},
      "cell_type": "markdown",
      "metadata": {},
      "source": [
        "# Estados internos do sistema dinâmico"
      ]
    },
    {
      "cell_type": "code",
      "execution_count": 5,
      "metadata": {
        "id": "ehs2hMYu7PxI"
      },
      "outputs": [],
      "source": [
        "t = sp.symbols(\"t\")\n",
        "theta_1 = sp.Function(\"theta_1\")(t)\n",
        "theta_2 = sp.Function(\"theta_2\")(t)\n",
        "theta_3 = sp.Function(\"theta_3\")(t)\n",
        "\n",
        "omega_1 = sp.diff(theta_1, t)\n",
        "omega_2 = sp.diff(theta_2, t)\n",
        "omega_3 = sp.diff(theta_3, t)\n",
        "\n",
        "alpha_1 = sp.diff(omega_1, t)\n",
        "alpha_2 = sp.diff(omega_2, t)\n",
        "alpha_3 = sp.diff(omega_3, t)\n",
        "\n",
        "theta_dot_1 = sp.Function('\\\\dot{\\\\theta}_1')(t)\n",
        "theta_dot_2 = sp.Function('\\\\dot{\\\\theta}_2')(t)\n",
        "theta_dot_3 = sp.Function('\\\\dot{\\\\theta}_3')(t)\n",
        "theta_ddot_1 = sp.Function('\\\\ddot{\\\\theta}_1')(t)\n",
        "theta_ddot_2 = sp.Function('\\\\ddot{\\\\theta}_2')(t)\n",
        "theta_ddot_3 = sp.Function('\\\\ddot{\\\\theta}_3')(t)\n",
        "\n",
        "alias = {\n",
        "    omega_1: theta_dot_1,\n",
        "    omega_2: theta_dot_2,\n",
        "    omega_3: theta_dot_3,\n",
        "    alpha_1: theta_ddot_1,\n",
        "    alpha_2: theta_ddot_2,\n",
        "    alpha_3: theta_ddot_3,\n",
        "}"
      ]
    },
    {
      "attachments": {},
      "cell_type": "markdown",
      "metadata": {},
      "source": [
        "# Condições iniciais"
      ]
    },
    {
      "cell_type": "code",
      "execution_count": 6,
      "metadata": {},
      "outputs": [],
      "source": [
        "y0 = [0.5 * np.pi, 0.75 * np.pi, 0.5 * np.pi, 0, 0, 0]\n",
        "relaxed_y0 = [0.499 * np.pi, np.pi, 0.6 * np.pi]"
      ]
    },
    {
      "attachments": {},
      "cell_type": "markdown",
      "metadata": {},
      "source": [
        "# Impulsos das simulações"
      ]
    },
    {
      "cell_type": "code",
      "execution_count": 7,
      "metadata": {},
      "outputs": [],
      "source": [
        "inputs_alias = {\n",
        "    p_1: 1,\n",
        "    p_2: 1,\n",
        "    tau: 1,\n",
        "}"
      ]
    },
    {
      "attachments": {},
      "cell_type": "markdown",
      "metadata": {
        "id": "WAdvNX7RW7HP"
      },
      "source": [
        "# Funções Auxiliares"
      ]
    },
    {
      "attachments": {},
      "cell_type": "markdown",
      "metadata": {},
      "source": [
        "## Polinômio de Taylor de 1ª ordem"
      ]
    },
    {
      "cell_type": "code",
      "execution_count": 8,
      "metadata": {},
      "outputs": [],
      "source": [
        "def taylor_linear(f, x, y, z, x0, y0, z0):\n",
        "  alias = { x: x0, y: y0, z: z0 }\n",
        "  dx = x - x0\n",
        "  dy = y - y0\n",
        "  dz = z - z0\n",
        "  f_x = sp.diff(f, x)\n",
        "  f_y = sp.diff(f, y)\n",
        "  f_z = sp.diff(f, z)\n",
        "  polynomial = f.subs(alias) + dx * f_x.subs(alias) + dy * f_y.subs(alias) + dz * f_z.subs(alias)\n",
        "  return polynomial"
      ]
    },
    {
      "attachments": {},
      "cell_type": "markdown",
      "metadata": {
        "id": "2-FV6Bm_t_Cf"
      },
      "source": [
        "## Campo de Velocidades \n",
        "- Corpo Rígido\n",
        "- Composição de Velocidades\n",
        "\n",
        "$\\begin{bmatrix}u \\\\ v \\\\ 0 \\end{bmatrix} = \\begin{bmatrix} u_0 \\\\ v_0 \\\\ 0 \\end{bmatrix} + \\begin{bmatrix} 0 & 0 & \\omega\\end{bmatrix} \\times \\begin{bmatrix} r_x \\\\ r_y \\\\ 0 \\end{bmatrix} \\implies \\begin{bmatrix}u \\\\ v \\\\ 0 \\end{bmatrix} = \\begin{bmatrix} u_0 \\\\ v_0 \\\\ 0 \\end{bmatrix} + \\begin{bmatrix} -\\omega \\cdot r_y \\\\ \\omega \\cdot r_x \\\\ 0  \\end{bmatrix} \\implies \\begin{bmatrix}u \\\\ v \\\\ 0 \\end{bmatrix} = \\begin{bmatrix} u_0 -\\omega \\cdot r_y \\\\ v_0 + \\omega \\cdot r_x \\\\ 0  \\end{bmatrix}$"
      ]
    },
    {
      "cell_type": "code",
      "execution_count": 9,
      "metadata": {
        "id": "X5EIZ1ZruKWj"
      },
      "outputs": [],
      "source": [
        "def rigidbody_velocity(velocity_x, velocity_y, angular_velocity_z, radius_x, radius_y):\n",
        "  return velocity_x - angular_velocity_z * radius_y, velocity_y + angular_velocity_z * radius_x"
      ]
    },
    {
      "attachments": {},
      "cell_type": "markdown",
      "metadata": {
        "id": "UVSv68QYwPV1"
      },
      "source": [
        "## Energia Cinética\n",
        "- Barra Delgada Rígida\n",
        "- Pólo na Extremidade da Barra"
      ]
    },
    {
      "cell_type": "code",
      "execution_count": 10,
      "metadata": {
        "id": "X4TYyIhrvpwh"
      },
      "outputs": [],
      "source": [
        "def kinetic_energy(mass, velocity_x, velocity_y, angular_velocity_z=0, moment_of_inertia=0, offset_x=0, offset_y=0):\n",
        "  # Translação pura do pólo O:\n",
        "  T_1 = 0.5 * mass * (velocity_x ** 2 + velocity_y ** 2)\n",
        "  # Roto-translação de G em torno do pólo O:\n",
        "  T_2 = mass * angular_velocity_z * (velocity_y * offset_x - velocity_x * offset_y)\n",
        "  # Rotação pura em torno do pólo O:\n",
        "  T_3 = 0.5 * moment_of_inertia * angular_velocity_z ** 2\n",
        "  return T_1 + T_2 + T_3"
      ]
    },
    {
      "cell_type": "code",
      "execution_count": 11,
      "metadata": {
        "id": "bkssTqbHdQqO"
      },
      "outputs": [],
      "source": [
        "def kinetic_energy_link(mass, length, theta, velocity_x, velocity_y, angular_velocity_z):\n",
        "  # Braços de rotação (G - O)\n",
        "  offset_x = length * sp.cos(theta) / 2\n",
        "  offset_y = length * sp.sin(theta) / 2\n",
        "  # Momento de inércia da barra delgada com extremidade em apoio duplo:\n",
        "  moment_of_inertia = mass * length ** 2 / 3\n",
        "  return kinetic_energy(mass, velocity_x, velocity_y, angular_velocity_z, moment_of_inertia, offset_x, offset_y)"
      ]
    },
    {
      "attachments": {},
      "cell_type": "markdown",
      "metadata": {
        "id": "_DCvhv8qONqu"
      },
      "source": [
        "## Energia Potencial Gravitacional"
      ]
    },
    {
      "cell_type": "code",
      "execution_count": 12,
      "metadata": {
        "id": "jFuIz0kROTal"
      },
      "outputs": [],
      "source": [
        "def gravitational_energy(mass, height):\n",
        "  return mass * height * g"
      ]
    },
    {
      "attachments": {},
      "cell_type": "markdown",
      "metadata": {
        "id": "Jv386Pz3b4yr"
      },
      "source": [
        "## Coordenadas polares"
      ]
    },
    {
      "cell_type": "code",
      "execution_count": 13,
      "metadata": {
        "id": "FjF2oqJmcJP-"
      },
      "outputs": [],
      "source": [
        "def polar_to_cartesian(r, theta):\n",
        "  class_name = str(r.__class__)\n",
        "  if \"numpy\" in class_name:\n",
        "    x = r * np.cos(theta)\n",
        "    y = r * np.sin(theta)\n",
        "  elif \"sympy\" in class_name:\n",
        "    x = r * sp.cos(theta)\n",
        "    y = r * sp.sin(theta)\n",
        "  return (x, y)"
      ]
    },
    {
      "attachments": {},
      "cell_type": "markdown",
      "metadata": {
        "id": "UIjmnCzTgRfw"
      },
      "source": [
        "## Simplificação de Expressões"
      ]
    },
    {
      "cell_type": "code",
      "execution_count": 14,
      "metadata": {
        "id": "92PQg5r5gUGQ"
      },
      "outputs": [],
      "source": [
        "def simplify(expr):\n",
        "  return sp.simplify(sp.expand(expr))"
      ]
    },
    {
      "cell_type": "code",
      "execution_count": 15,
      "metadata": {
        "id": "D2hp2XiWB-c_"
      },
      "outputs": [],
      "source": [
        "def coeffs(expr, term):\n",
        "  return sp.simplify((expr - expr.coeff(term, n=0)) / term)"
      ]
    },
    {
      "cell_type": "code",
      "execution_count": 16,
      "metadata": {
        "id": "100NdrN4FJvg"
      },
      "outputs": [],
      "source": [
        "def remove_terms(expr, terms):\n",
        "  res = expr * (1 - len(terms))\n",
        "  for term in terms:\n",
        "    res += expr.coeff(term, n=0)\n",
        "  return res"
      ]
    },
    {
      "attachments": {},
      "cell_type": "markdown",
      "metadata": {},
      "source": [
        "## Impressão das expressões algébricas"
      ]
    },
    {
      "cell_type": "code",
      "execution_count": 17,
      "metadata": {},
      "outputs": [],
      "source": [
        "# Imprime a expressão algébrica com notações simplificadas de d/dt.\n",
        "def pprint(*args):\n",
        "  for arg in args:\n",
        "    display(arg.subs(alias))"
      ]
    },
    {
      "attachments": {},
      "cell_type": "markdown",
      "metadata": {},
      "source": [
        "# Posição relativa e velocidade absoluta dos pontos no sistema de coordenadas $(x, y)$"
      ]
    },
    {
      "attachments": {},
      "cell_type": "markdown",
      "metadata": {},
      "source": [
        "## Posição relativa e velocidade absoluta do ponto $J_2$ em função do tempo"
      ]
    },
    {
      "cell_type": "code",
      "execution_count": 18,
      "metadata": {},
      "outputs": [
        {
          "data": {
            "text/latex": [
              "$\\displaystyle L_{1} \\cos{\\left(\\theta_{1}{\\left(t \\right)} \\right)}$"
            ],
            "text/plain": [
              "L_1*cos(theta_1(t))"
            ]
          },
          "metadata": {},
          "output_type": "display_data"
        },
        {
          "data": {
            "text/latex": [
              "$\\displaystyle L_{1} \\sin{\\left(\\theta_{1}{\\left(t \\right)} \\right)}$"
            ],
            "text/plain": [
              "L_1*sin(theta_1(t))"
            ]
          },
          "metadata": {},
          "output_type": "display_data"
        }
      ],
      "source": [
        "# Descreve a posição do ponto J2 em relação ao ponto J1.\n",
        "# Ou seja, o vetor determinado por J2 - J1.\n",
        "x_J2, y_J2 = polar_to_cartesian(L_1, theta_1)\n",
        "pprint(x_J2, y_J2)"
      ]
    },
    {
      "cell_type": "code",
      "execution_count": 19,
      "metadata": {},
      "outputs": [
        {
          "data": {
            "text/latex": [
              "$\\displaystyle - L_{1} \\dot{\\theta}_1{\\left(t \\right)} \\sin{\\left(\\theta_{1}{\\left(t \\right)} \\right)}$"
            ],
            "text/plain": [
              "-L_1*\\dot{\\theta}_1(t)*sin(theta_1(t))"
            ]
          },
          "metadata": {},
          "output_type": "display_data"
        },
        {
          "data": {
            "text/latex": [
              "$\\displaystyle L_{1} \\dot{\\theta}_1{\\left(t \\right)} \\cos{\\left(\\theta_{1}{\\left(t \\right)} \\right)}$"
            ],
            "text/plain": [
              "L_1*\\dot{\\theta}_1(t)*cos(theta_1(t))"
            ]
          },
          "metadata": {},
          "output_type": "display_data"
        }
      ],
      "source": [
        "# Velocidade absoluta do ponto J_2 em função do tempo:\n",
        "u_J2, v_J2 = rigidbody_velocity(0, 0, omega_1, x_J2, y_J2)\n",
        "pprint(u_J2, v_J2)"
      ]
    },
    {
      "attachments": {},
      "cell_type": "markdown",
      "metadata": {},
      "source": [
        "## Inclinação do Elo #2 em relação a direção horizontal ($\\phi$)"
      ]
    },
    {
      "cell_type": "code",
      "execution_count": 20,
      "metadata": {},
      "outputs": [],
      "source": [
        "phi = theta_1 + theta_2 - sp.pi"
      ]
    },
    {
      "attachments": {},
      "cell_type": "markdown",
      "metadata": {},
      "source": [
        "## Inclinação do Elo #3 em relação a direção horizontal ($\\psi$)"
      ]
    },
    {
      "cell_type": "code",
      "execution_count": 21,
      "metadata": {},
      "outputs": [],
      "source": [
        "psi = phi + theta_3 - sp.pi"
      ]
    },
    {
      "attachments": {},
      "cell_type": "markdown",
      "metadata": {},
      "source": [
        "## Posição relativa e velocidade absoluta do ponto $J_3$ em função do tempo"
      ]
    },
    {
      "cell_type": "code",
      "execution_count": 22,
      "metadata": {},
      "outputs": [],
      "source": [
        "# Descreve a posição do ponto J3 em relação ao ponto J2.\n",
        "# Ou seja, o vetor determinado por J3 - J2.\n",
        "x_J3, y_J3 = polar_to_cartesian(L_2, phi)"
      ]
    },
    {
      "cell_type": "code",
      "execution_count": 23,
      "metadata": {},
      "outputs": [
        {
          "data": {
            "text/latex": [
              "$\\displaystyle - L_{1} \\dot{\\theta}_1{\\left(t \\right)} \\sin{\\left(\\theta_{1}{\\left(t \\right)} \\right)} + L_{2} \\left(\\dot{\\theta}_1{\\left(t \\right)} + \\dot{\\theta}_2{\\left(t \\right)}\\right) \\sin{\\left(\\theta_{1}{\\left(t \\right)} + \\theta_{2}{\\left(t \\right)} \\right)}$"
            ],
            "text/plain": [
              "-L_1*\\dot{\\theta}_1(t)*sin(theta_1(t)) + L_2*(\\dot{\\theta}_1(t) + \\dot{\\theta}_2(t))*sin(theta_1(t) + theta_2(t))"
            ]
          },
          "metadata": {},
          "output_type": "display_data"
        },
        {
          "data": {
            "text/latex": [
              "$\\displaystyle L_{1} \\dot{\\theta}_1{\\left(t \\right)} \\cos{\\left(\\theta_{1}{\\left(t \\right)} \\right)} - L_{2} \\left(\\dot{\\theta}_1{\\left(t \\right)} + \\dot{\\theta}_2{\\left(t \\right)}\\right) \\cos{\\left(\\theta_{1}{\\left(t \\right)} + \\theta_{2}{\\left(t \\right)} \\right)}$"
            ],
            "text/plain": [
              "L_1*\\dot{\\theta}_1(t)*cos(theta_1(t)) - L_2*(\\dot{\\theta}_1(t) + \\dot{\\theta}_2(t))*cos(theta_1(t) + theta_2(t))"
            ]
          },
          "metadata": {},
          "output_type": "display_data"
        }
      ],
      "source": [
        "# Velocidade absoluta do ponto J_3 em função do tempo:\n",
        "u_J3, v_J3 = rigidbody_velocity(u_J2, v_J2, omega_1 + omega_2, x_J3, y_J3)\n",
        "pprint(u_J3, v_J3)"
      ]
    },
    {
      "attachments": {},
      "cell_type": "markdown",
      "metadata": {},
      "source": [
        "## Posição do ponto P em relação ao ponto J3"
      ]
    },
    {
      "cell_type": "code",
      "execution_count": 24,
      "metadata": {},
      "outputs": [
        {
          "data": {
            "text/latex": [
              "$\\displaystyle L_{3} \\cos{\\left(\\theta_{1}{\\left(t \\right)} + \\theta_{2}{\\left(t \\right)} + \\theta_{3}{\\left(t \\right)} \\right)}$"
            ],
            "text/plain": [
              "L_3*cos(theta_1(t) + theta_2(t) + theta_3(t))"
            ]
          },
          "metadata": {},
          "output_type": "display_data"
        },
        {
          "data": {
            "text/latex": [
              "$\\displaystyle L_{3} \\sin{\\left(\\theta_{1}{\\left(t \\right)} + \\theta_{2}{\\left(t \\right)} + \\theta_{3}{\\left(t \\right)} \\right)}$"
            ],
            "text/plain": [
              "L_3*sin(theta_1(t) + theta_2(t) + theta_3(t))"
            ]
          },
          "metadata": {},
          "output_type": "display_data"
        }
      ],
      "source": [
        "# Descreve a posição do ponto P em relação ao ponto J3.\n",
        "# Ou seja, o vetor determinado por P - J3.\n",
        "x_P, y_P = polar_to_cartesian(L_3, psi)\n",
        "pprint(x_P, y_P)"
      ]
    },
    {
      "cell_type": "code",
      "execution_count": 25,
      "metadata": {},
      "outputs": [
        {
          "data": {
            "text/latex": [
              "$\\displaystyle - L_{1} \\dot{\\theta}_1{\\left(t \\right)} \\sin{\\left(\\theta_{1}{\\left(t \\right)} \\right)} + L_{2} \\left(\\dot{\\theta}_1{\\left(t \\right)} + \\dot{\\theta}_2{\\left(t \\right)}\\right) \\sin{\\left(\\theta_{1}{\\left(t \\right)} + \\theta_{2}{\\left(t \\right)} \\right)} - L_{3} \\left(\\dot{\\theta}_1{\\left(t \\right)} + \\dot{\\theta}_2{\\left(t \\right)} + \\dot{\\theta}_3{\\left(t \\right)}\\right) \\sin{\\left(\\theta_{1}{\\left(t \\right)} + \\theta_{2}{\\left(t \\right)} + \\theta_{3}{\\left(t \\right)} \\right)}$"
            ],
            "text/plain": [
              "-L_1*\\dot{\\theta}_1(t)*sin(theta_1(t)) + L_2*(\\dot{\\theta}_1(t) + \\dot{\\theta}_2(t))*sin(theta_1(t) + theta_2(t)) - L_3*(\\dot{\\theta}_1(t) + \\dot{\\theta}_2(t) + \\dot{\\theta}_3(t))*sin(theta_1(t) + theta_2(t) + theta_3(t))"
            ]
          },
          "metadata": {},
          "output_type": "display_data"
        },
        {
          "data": {
            "text/latex": [
              "$\\displaystyle L_{1} \\dot{\\theta}_1{\\left(t \\right)} \\cos{\\left(\\theta_{1}{\\left(t \\right)} \\right)} - L_{2} \\left(\\dot{\\theta}_1{\\left(t \\right)} + \\dot{\\theta}_2{\\left(t \\right)}\\right) \\cos{\\left(\\theta_{1}{\\left(t \\right)} + \\theta_{2}{\\left(t \\right)} \\right)} + L_{3} \\left(\\dot{\\theta}_1{\\left(t \\right)} + \\dot{\\theta}_2{\\left(t \\right)} + \\dot{\\theta}_3{\\left(t \\right)}\\right) \\cos{\\left(\\theta_{1}{\\left(t \\right)} + \\theta_{2}{\\left(t \\right)} + \\theta_{3}{\\left(t \\right)} \\right)}$"
            ],
            "text/plain": [
              "L_1*\\dot{\\theta}_1(t)*cos(theta_1(t)) - L_2*(\\dot{\\theta}_1(t) + \\dot{\\theta}_2(t))*cos(theta_1(t) + theta_2(t)) + L_3*(\\dot{\\theta}_1(t) + \\dot{\\theta}_2(t) + \\dot{\\theta}_3(t))*cos(theta_1(t) + theta_2(t) + theta_3(t))"
            ]
          },
          "metadata": {},
          "output_type": "display_data"
        }
      ],
      "source": [
        "# Velocidade absoluta do ponto P em função do tempo:\n",
        "u_P, v_P = rigidbody_velocity(u_J3, v_J3, omega_1 + omega_2 + omega_3, x_P, y_P)\n",
        "pprint(u_P, v_P)"
      ]
    },
    {
      "attachments": {},
      "cell_type": "markdown",
      "metadata": {},
      "source": [
        "## Pontos de atuação das forças hidráulicas ($P_j$)"
      ]
    },
    {
      "cell_type": "code",
      "execution_count": 26,
      "metadata": {},
      "outputs": [],
      "source": [
        "# Ambos estão em coordenadas relativas: P_1 em relação a J_2, P_2 em relação a J_3.\n",
        "P_1 = sp.Matrix(np.array(polar_to_cartesian(d_1, phi)))\n",
        "P_2 = sp.Matrix(np.array(polar_to_cartesian(d_2, psi)))\n",
        "# P_1 = sp.Matrix(np.array(np.array((x_J2, y_J2)) + polar_to_cartesian(d_1, phi)))\n",
        "# P_2 = sp.Matrix(np.array(np.array((x_J3, y_J3)) + polar_to_cartesian(d_2, psi)))"
      ]
    },
    {
      "cell_type": "code",
      "execution_count": 27,
      "metadata": {},
      "outputs": [],
      "source": [
        "gamma_1, gamma_2 = sp.symbols(\"gamma_1 gamma_2\")"
      ]
    },
    {
      "attachments": {},
      "cell_type": "markdown",
      "metadata": {},
      "source": [
        "### Hipótese simplificadora: a mudança de inclinação dos atuadores é desprezada"
      ]
    },
    {
      "cell_type": "code",
      "execution_count": 28,
      "metadata": {},
      "outputs": [],
      "source": [
        "# gamma_alias = {\n",
        "#     gamma_1: sp.asin(sp.sin(theta_2) * d_1 / sp.sqrt((x_J2 + P_1[0])**2 + (y_J2 + P_1[1])**2)),\n",
        "#     gamma_2: sp.asin(sp.sin(theta_3) * d_2 / sp.sqrt((x_J3 + P_2[0])**2 + (y_J3 + P_2[1])**2)),\n",
        "# }\n",
        "\n",
        "gamma_alias = {\n",
        "    gamma_1: 0,\n",
        "    gamma_2: 0,\n",
        "}"
      ]
    },
    {
      "attachments": {},
      "cell_type": "markdown",
      "metadata": {
        "id": "pPq6yymoXAxv"
      },
      "source": [
        "# Equações de Lagrange"
      ]
    },
    {
      "attachments": {},
      "cell_type": "markdown",
      "metadata": {
        "id": "K3xMzUQqhLHY"
      },
      "source": [
        "## Energia Cinética do Sistema"
      ]
    },
    {
      "attachments": {},
      "cell_type": "markdown",
      "metadata": {
        "id": "TxVv6zNof3vw"
      },
      "source": [
        "### Energia Cinética do Elo #1"
      ]
    },
    {
      "cell_type": "code",
      "execution_count": 29,
      "metadata": {
        "colab": {
          "base_uri": "https://localhost:8080/"
        },
        "id": "JzHq3fSF3eHe",
        "outputId": "79e41d2a-27e1-4787-e6e7-c25d92cb486a"
      },
      "outputs": [],
      "source": [
        "T_1 = kinetic_energy_link(m_1, L_1, theta_1, 0, 0, omega_1)"
      ]
    },
    {
      "attachments": {},
      "cell_type": "markdown",
      "metadata": {
        "id": "Ya6Nq-MXgaZS"
      },
      "source": [
        "### Energia Cinética do Elo #2"
      ]
    },
    {
      "cell_type": "code",
      "execution_count": 30,
      "metadata": {
        "colab": {
          "base_uri": "https://localhost:8080/"
        },
        "id": "WqOgryqf3wTw",
        "outputId": "6b4389af-2505-4eaf-8c4e-216ee88fd6c8"
      },
      "outputs": [],
      "source": [
        "T_2 = kinetic_energy_link(m_2, L_2, phi, u_J2, v_J2, omega_1 + omega_2)"
      ]
    },
    {
      "attachments": {},
      "cell_type": "markdown",
      "metadata": {
        "id": "XxeaucMaICck"
      },
      "source": [
        "### Energia Cinética do Elo #3"
      ]
    },
    {
      "cell_type": "code",
      "execution_count": 31,
      "metadata": {
        "colab": {
          "base_uri": "https://localhost:8080/"
        },
        "id": "Q6duItd8IBiD",
        "outputId": "d1330099-f85c-44fb-dc2e-b20b74062157"
      },
      "outputs": [],
      "source": [
        "T_3 = kinetic_energy_link(m_3, L_3, psi, u_J3, v_J3, omega_1 + omega_2 + omega_3)"
      ]
    },
    {
      "attachments": {},
      "cell_type": "markdown",
      "metadata": {
        "id": "oc5SFTb8gynN"
      },
      "source": [
        "### Energia Cinética do Ponto Material"
      ]
    },
    {
      "cell_type": "code",
      "execution_count": 32,
      "metadata": {
        "colab": {
          "base_uri": "https://localhost:8080/"
        },
        "id": "x-LBsmyaRppL",
        "outputId": "a6cb5fb7-32bc-4905-d8ff-0c1b29cb3d73"
      },
      "outputs": [],
      "source": [
        "T_P = kinetic_energy(M, u_J3, v_J3, omega_1 + omega_2 + omega_3, M * L_2**2, x_P, y_P)"
      ]
    },
    {
      "attachments": {},
      "cell_type": "markdown",
      "metadata": {
        "id": "Dz4L3eyQ74Q8"
      },
      "source": [
        "### Energia Cinética ($T$)"
      ]
    },
    {
      "cell_type": "code",
      "execution_count": 33,
      "metadata": {
        "id": "b_xmZuFw74YB"
      },
      "outputs": [
        {
          "data": {
            "text/latex": [
              "$\\displaystyle 0.5 L_{1}^{2} M \\dot{\\theta}_1^{2}{\\left(t \\right)} + 0.166666666666667 L_{1}^{2} m_{1} \\dot{\\theta}_1^{2}{\\left(t \\right)} + 0.5 L_{1}^{2} m_{2} \\dot{\\theta}_1^{2}{\\left(t \\right)} + 0.5 L_{1}^{2} m_{3} \\dot{\\theta}_1^{2}{\\left(t \\right)} - 1.0 L_{1} L_{2} M \\dot{\\theta}_1^{2}{\\left(t \\right)} \\cos{\\left(\\theta_{2}{\\left(t \\right)} \\right)} - 1.0 L_{1} L_{2} M \\dot{\\theta}_1{\\left(t \\right)} \\dot{\\theta}_2{\\left(t \\right)} \\cos{\\left(\\theta_{2}{\\left(t \\right)} \\right)} - 0.5 L_{1} L_{2} m_{2} \\dot{\\theta}_1^{2}{\\left(t \\right)} \\cos{\\left(\\theta_{2}{\\left(t \\right)} \\right)} - 0.5 L_{1} L_{2} m_{2} \\dot{\\theta}_1{\\left(t \\right)} \\dot{\\theta}_2{\\left(t \\right)} \\cos{\\left(\\theta_{2}{\\left(t \\right)} \\right)} - 1.0 L_{1} L_{2} m_{3} \\dot{\\theta}_1^{2}{\\left(t \\right)} \\cos{\\left(\\theta_{2}{\\left(t \\right)} \\right)} - 1.0 L_{1} L_{2} m_{3} \\dot{\\theta}_1{\\left(t \\right)} \\dot{\\theta}_2{\\left(t \\right)} \\cos{\\left(\\theta_{2}{\\left(t \\right)} \\right)} + 1.0 L_{1} L_{3} M \\dot{\\theta}_1^{2}{\\left(t \\right)} \\cos{\\left(\\theta_{2}{\\left(t \\right)} + \\theta_{3}{\\left(t \\right)} \\right)} + 1.0 L_{1} L_{3} M \\dot{\\theta}_1{\\left(t \\right)} \\dot{\\theta}_2{\\left(t \\right)} \\cos{\\left(\\theta_{2}{\\left(t \\right)} + \\theta_{3}{\\left(t \\right)} \\right)} + 1.0 L_{1} L_{3} M \\dot{\\theta}_1{\\left(t \\right)} \\dot{\\theta}_3{\\left(t \\right)} \\cos{\\left(\\theta_{2}{\\left(t \\right)} + \\theta_{3}{\\left(t \\right)} \\right)} + 0.5 L_{1} L_{3} m_{3} \\dot{\\theta}_1^{2}{\\left(t \\right)} \\cos{\\left(\\theta_{2}{\\left(t \\right)} + \\theta_{3}{\\left(t \\right)} \\right)} + 0.5 L_{1} L_{3} m_{3} \\dot{\\theta}_1{\\left(t \\right)} \\dot{\\theta}_2{\\left(t \\right)} \\cos{\\left(\\theta_{2}{\\left(t \\right)} + \\theta_{3}{\\left(t \\right)} \\right)} + 0.5 L_{1} L_{3} m_{3} \\dot{\\theta}_1{\\left(t \\right)} \\dot{\\theta}_3{\\left(t \\right)} \\cos{\\left(\\theta_{2}{\\left(t \\right)} + \\theta_{3}{\\left(t \\right)} \\right)} + 1.0 L_{2}^{2} M \\dot{\\theta}_1^{2}{\\left(t \\right)} + 2.0 L_{2}^{2} M \\dot{\\theta}_1{\\left(t \\right)} \\dot{\\theta}_2{\\left(t \\right)} + 1.0 L_{2}^{2} M \\dot{\\theta}_1{\\left(t \\right)} \\dot{\\theta}_3{\\left(t \\right)} + 1.0 L_{2}^{2} M \\dot{\\theta}_2^{2}{\\left(t \\right)} + 1.0 L_{2}^{2} M \\dot{\\theta}_2{\\left(t \\right)} \\dot{\\theta}_3{\\left(t \\right)} + 0.5 L_{2}^{2} M \\dot{\\theta}_3^{2}{\\left(t \\right)} + 0.166666666666667 L_{2}^{2} m_{2} \\dot{\\theta}_1^{2}{\\left(t \\right)} + 0.333333333333333 L_{2}^{2} m_{2} \\dot{\\theta}_1{\\left(t \\right)} \\dot{\\theta}_2{\\left(t \\right)} + 0.166666666666667 L_{2}^{2} m_{2} \\dot{\\theta}_2^{2}{\\left(t \\right)} + 0.5 L_{2}^{2} m_{3} \\dot{\\theta}_1^{2}{\\left(t \\right)} + 1.0 L_{2}^{2} m_{3} \\dot{\\theta}_1{\\left(t \\right)} \\dot{\\theta}_2{\\left(t \\right)} + 0.5 L_{2}^{2} m_{3} \\dot{\\theta}_2^{2}{\\left(t \\right)} - 1.0 L_{2} L_{3} M \\dot{\\theta}_1^{2}{\\left(t \\right)} \\cos{\\left(\\theta_{3}{\\left(t \\right)} \\right)} - 2.0 L_{2} L_{3} M \\dot{\\theta}_1{\\left(t \\right)} \\dot{\\theta}_2{\\left(t \\right)} \\cos{\\left(\\theta_{3}{\\left(t \\right)} \\right)} - 1.0 L_{2} L_{3} M \\dot{\\theta}_1{\\left(t \\right)} \\dot{\\theta}_3{\\left(t \\right)} \\cos{\\left(\\theta_{3}{\\left(t \\right)} \\right)} - 1.0 L_{2} L_{3} M \\dot{\\theta}_2^{2}{\\left(t \\right)} \\cos{\\left(\\theta_{3}{\\left(t \\right)} \\right)} - 1.0 L_{2} L_{3} M \\dot{\\theta}_2{\\left(t \\right)} \\dot{\\theta}_3{\\left(t \\right)} \\cos{\\left(\\theta_{3}{\\left(t \\right)} \\right)} - 0.5 L_{2} L_{3} m_{3} \\dot{\\theta}_1^{2}{\\left(t \\right)} \\cos{\\left(\\theta_{3}{\\left(t \\right)} \\right)} - 1.0 L_{2} L_{3} m_{3} \\dot{\\theta}_1{\\left(t \\right)} \\dot{\\theta}_2{\\left(t \\right)} \\cos{\\left(\\theta_{3}{\\left(t \\right)} \\right)} - 0.5 L_{2} L_{3} m_{3} \\dot{\\theta}_1{\\left(t \\right)} \\dot{\\theta}_3{\\left(t \\right)} \\cos{\\left(\\theta_{3}{\\left(t \\right)} \\right)} - 0.5 L_{2} L_{3} m_{3} \\dot{\\theta}_2^{2}{\\left(t \\right)} \\cos{\\left(\\theta_{3}{\\left(t \\right)} \\right)} - 0.5 L_{2} L_{3} m_{3} \\dot{\\theta}_2{\\left(t \\right)} \\dot{\\theta}_3{\\left(t \\right)} \\cos{\\left(\\theta_{3}{\\left(t \\right)} \\right)} + 0.166666666666667 L_{3}^{2} m_{3} \\dot{\\theta}_1^{2}{\\left(t \\right)} + 0.333333333333333 L_{3}^{2} m_{3} \\dot{\\theta}_1{\\left(t \\right)} \\dot{\\theta}_2{\\left(t \\right)} + 0.333333333333333 L_{3}^{2} m_{3} \\dot{\\theta}_1{\\left(t \\right)} \\dot{\\theta}_3{\\left(t \\right)} + 0.166666666666667 L_{3}^{2} m_{3} \\dot{\\theta}_2^{2}{\\left(t \\right)} + 0.333333333333333 L_{3}^{2} m_{3} \\dot{\\theta}_2{\\left(t \\right)} \\dot{\\theta}_3{\\left(t \\right)} + 0.166666666666667 L_{3}^{2} m_{3} \\dot{\\theta}_3^{2}{\\left(t \\right)}$"
            ],
            "text/plain": [
              "0.5*L_1**2*M*\\dot{\\theta}_1(t)**2 + 0.166666666666667*L_1**2*m_1*\\dot{\\theta}_1(t)**2 + 0.5*L_1**2*m_2*\\dot{\\theta}_1(t)**2 + 0.5*L_1**2*m_3*\\dot{\\theta}_1(t)**2 - 1.0*L_1*L_2*M*\\dot{\\theta}_1(t)**2*cos(theta_2(t)) - 1.0*L_1*L_2*M*\\dot{\\theta}_1(t)*\\dot{\\theta}_2(t)*cos(theta_2(t)) - 0.5*L_1*L_2*m_2*\\dot{\\theta}_1(t)**2*cos(theta_2(t)) - 0.5*L_1*L_2*m_2*\\dot{\\theta}_1(t)*\\dot{\\theta}_2(t)*cos(theta_2(t)) - 1.0*L_1*L_2*m_3*\\dot{\\theta}_1(t)**2*cos(theta_2(t)) - 1.0*L_1*L_2*m_3*\\dot{\\theta}_1(t)*\\dot{\\theta}_2(t)*cos(theta_2(t)) + 1.0*L_1*L_3*M*\\dot{\\theta}_1(t)**2*cos(theta_2(t) + theta_3(t)) + 1.0*L_1*L_3*M*\\dot{\\theta}_1(t)*\\dot{\\theta}_2(t)*cos(theta_2(t) + theta_3(t)) + 1.0*L_1*L_3*M*\\dot{\\theta}_1(t)*\\dot{\\theta}_3(t)*cos(theta_2(t) + theta_3(t)) + 0.5*L_1*L_3*m_3*\\dot{\\theta}_1(t)**2*cos(theta_2(t) + theta_3(t)) + 0.5*L_1*L_3*m_3*\\dot{\\theta}_1(t)*\\dot{\\theta}_2(t)*cos(theta_2(t) + theta_3(t)) + 0.5*L_1*L_3*m_3*\\dot{\\theta}_1(t)*\\dot{\\theta}_3(t)*cos(theta_2(t) + theta_3(t)) + 1.0*L_2**2*M*\\dot{\\theta}_1(t)**2 + 2.0*L_2**2*M*\\dot{\\theta}_1(t)*\\dot{\\theta}_2(t) + 1.0*L_2**2*M*\\dot{\\theta}_1(t)*\\dot{\\theta}_3(t) + 1.0*L_2**2*M*\\dot{\\theta}_2(t)**2 + 1.0*L_2**2*M*\\dot{\\theta}_2(t)*\\dot{\\theta}_3(t) + 0.5*L_2**2*M*\\dot{\\theta}_3(t)**2 + 0.166666666666667*L_2**2*m_2*\\dot{\\theta}_1(t)**2 + 0.333333333333333*L_2**2*m_2*\\dot{\\theta}_1(t)*\\dot{\\theta}_2(t) + 0.166666666666667*L_2**2*m_2*\\dot{\\theta}_2(t)**2 + 0.5*L_2**2*m_3*\\dot{\\theta}_1(t)**2 + 1.0*L_2**2*m_3*\\dot{\\theta}_1(t)*\\dot{\\theta}_2(t) + 0.5*L_2**2*m_3*\\dot{\\theta}_2(t)**2 - 1.0*L_2*L_3*M*\\dot{\\theta}_1(t)**2*cos(theta_3(t)) - 2.0*L_2*L_3*M*\\dot{\\theta}_1(t)*\\dot{\\theta}_2(t)*cos(theta_3(t)) - 1.0*L_2*L_3*M*\\dot{\\theta}_1(t)*\\dot{\\theta}_3(t)*cos(theta_3(t)) - 1.0*L_2*L_3*M*\\dot{\\theta}_2(t)**2*cos(theta_3(t)) - 1.0*L_2*L_3*M*\\dot{\\theta}_2(t)*\\dot{\\theta}_3(t)*cos(theta_3(t)) - 0.5*L_2*L_3*m_3*\\dot{\\theta}_1(t)**2*cos(theta_3(t)) - 1.0*L_2*L_3*m_3*\\dot{\\theta}_1(t)*\\dot{\\theta}_2(t)*cos(theta_3(t)) - 0.5*L_2*L_3*m_3*\\dot{\\theta}_1(t)*\\dot{\\theta}_3(t)*cos(theta_3(t)) - 0.5*L_2*L_3*m_3*\\dot{\\theta}_2(t)**2*cos(theta_3(t)) - 0.5*L_2*L_3*m_3*\\dot{\\theta}_2(t)*\\dot{\\theta}_3(t)*cos(theta_3(t)) + 0.166666666666667*L_3**2*m_3*\\dot{\\theta}_1(t)**2 + 0.333333333333333*L_3**2*m_3*\\dot{\\theta}_1(t)*\\dot{\\theta}_2(t) + 0.333333333333333*L_3**2*m_3*\\dot{\\theta}_1(t)*\\dot{\\theta}_3(t) + 0.166666666666667*L_3**2*m_3*\\dot{\\theta}_2(t)**2 + 0.333333333333333*L_3**2*m_3*\\dot{\\theta}_2(t)*\\dot{\\theta}_3(t) + 0.166666666666667*L_3**2*m_3*\\dot{\\theta}_3(t)**2"
            ]
          },
          "metadata": {},
          "output_type": "display_data"
        }
      ],
      "source": [
        "T = T_1 + T_2 + T_3 + T_P\n",
        "pprint(simplify(T))"
      ]
    },
    {
      "attachments": {},
      "cell_type": "markdown",
      "metadata": {
        "id": "yTjPxQI7Ovmx"
      },
      "source": [
        "## Energia Potencial do Sistema"
      ]
    },
    {
      "cell_type": "code",
      "execution_count": 34,
      "metadata": {
        "id": "q4dcPfFxOvIf"
      },
      "outputs": [
        {
          "data": {
            "text/latex": [
              "$\\displaystyle \\frac{L_{1} g m_{1} \\sin{\\left(\\theta_{1}{\\left(t \\right)} \\right)}}{2}$"
            ],
            "text/plain": [
              "L_1*g*m_1*sin(theta_1(t))/2"
            ]
          },
          "metadata": {},
          "output_type": "display_data"
        },
        {
          "data": {
            "text/latex": [
              "$\\displaystyle g m_{2} \\left(L_{1} \\sin{\\left(\\theta_{1}{\\left(t \\right)} \\right)} - \\frac{L_{2} \\sin{\\left(\\theta_{1}{\\left(t \\right)} + \\theta_{2}{\\left(t \\right)} \\right)}}{2}\\right)$"
            ],
            "text/plain": [
              "g*m_2*(L_1*sin(theta_1(t)) - L_2*sin(theta_1(t) + theta_2(t))/2)"
            ]
          },
          "metadata": {},
          "output_type": "display_data"
        },
        {
          "data": {
            "text/latex": [
              "$\\displaystyle g m_{3} \\left(L_{1} \\sin{\\left(\\theta_{1}{\\left(t \\right)} \\right)} - L_{2} \\sin{\\left(\\theta_{1}{\\left(t \\right)} + \\theta_{2}{\\left(t \\right)} \\right)} + \\frac{L_{3} \\sin{\\left(\\theta_{1}{\\left(t \\right)} + \\theta_{2}{\\left(t \\right)} + \\theta_{3}{\\left(t \\right)} \\right)}}{2}\\right)$"
            ],
            "text/plain": [
              "g*m_3*(L_1*sin(theta_1(t)) - L_2*sin(theta_1(t) + theta_2(t)) + L_3*sin(theta_1(t) + theta_2(t) + theta_3(t))/2)"
            ]
          },
          "metadata": {},
          "output_type": "display_data"
        },
        {
          "data": {
            "text/latex": [
              "$\\displaystyle M g \\left(L_{1} \\sin{\\left(\\theta_{1}{\\left(t \\right)} \\right)} - L_{2} \\sin{\\left(\\theta_{1}{\\left(t \\right)} + \\theta_{2}{\\left(t \\right)} \\right)} + L_{3} \\sin{\\left(\\theta_{1}{\\left(t \\right)} + \\theta_{2}{\\left(t \\right)} + \\theta_{3}{\\left(t \\right)} \\right)}\\right)$"
            ],
            "text/plain": [
              "M*g*(L_1*sin(theta_1(t)) - L_2*sin(theta_1(t) + theta_2(t)) + L_3*sin(theta_1(t) + theta_2(t) + theta_3(t)))"
            ]
          },
          "metadata": {},
          "output_type": "display_data"
        },
        {
          "data": {
            "text/latex": [
              "$\\displaystyle 1.22877068273783 k_{1} \\left(0.637895563494571 \\theta_{1}{\\left(t \\right)} - 1\\right)^{2} + 4.93480220054468 k_{2} \\left(0.318309886183791 \\theta_{2}{\\left(t \\right)} - 1\\right)^{2} + 1.77652879219608 k_{3} \\left(0.530516476972984 \\theta_{3}{\\left(t \\right)} - 1\\right)^{2}$"
            ],
            "text/plain": [
              "1.22877068273783*k_1*(0.637895563494571*theta_1(t) - 1)**2 + 4.93480220054468*k_2*(0.318309886183791*theta_2(t) - 1)**2 + 1.77652879219608*k_3*(0.530516476972984*theta_3(t) - 1)**2"
            ]
          },
          "metadata": {},
          "output_type": "display_data"
        }
      ],
      "source": [
        "U_1 = gravitational_energy(m_1, y_J2 / 2)\n",
        "U_2 = gravitational_energy(m_2, y_J2 + y_J3 / 2)\n",
        "U_3 = gravitational_energy(m_3, y_J2 + y_J3 + y_P / 2)\n",
        "U_P = gravitational_energy(M, y_J2 + y_J3 + y_P)\n",
        "U_el = (k_1 * (theta_1 - relaxed_y0[0])**2 + k_2 * (theta_2 - relaxed_y0[1])**2 + k_3 * (theta_3 - relaxed_y0[2])**2) / 2\n",
        "pprint(U_1, U_2, U_3, U_P, U_el)"
      ]
    },
    {
      "cell_type": "code",
      "execution_count": 35,
      "metadata": {
        "id": "tpQKhen7PLji"
      },
      "outputs": [],
      "source": [
        "U = U_1 + U_2 + U_3 + U_P + U_el"
      ]
    },
    {
      "attachments": {},
      "cell_type": "markdown",
      "metadata": {},
      "source": [
        "## Potencial Dissipativo de Rayleigh do Sistema"
      ]
    },
    {
      "cell_type": "code",
      "execution_count": 36,
      "metadata": {},
      "outputs": [],
      "source": [
        "R = c * (omega_1**2 + omega_2**2 + omega_3**2) / 2"
      ]
    },
    {
      "attachments": {},
      "cell_type": "markdown",
      "metadata": {
        "id": "K7OcZBzqO3XS"
      },
      "source": [
        "## Forças Hidráulicas ($F_j$)"
      ]
    },
    {
      "cell_type": "code",
      "execution_count": 37,
      "metadata": {
        "id": "fGekhnhDO2vG"
      },
      "outputs": [
        {
          "data": {
            "text/latex": [
              "$\\displaystyle A_{c} p_{1} + M_{c} g \\sin{\\left(\\gamma_{1} - \\theta_{1}{\\left(t \\right)} \\right)}$"
            ],
            "text/plain": [
              "A_c*p_1 + M_c*g*sin(gamma_1 - theta_1(t))"
            ]
          },
          "metadata": {},
          "output_type": "display_data"
        },
        {
          "data": {
            "text/latex": [
              "$\\displaystyle A_{c} p_{2} + M_{c} g \\sin{\\left(- \\gamma_{2} + \\theta_{1}{\\left(t \\right)} + \\theta_{2}{\\left(t \\right)} \\right)}$"
            ],
            "text/plain": [
              "A_c*p_2 + M_c*g*sin(-gamma_2 + theta_1(t) + theta_2(t))"
            ]
          },
          "metadata": {},
          "output_type": "display_data"
        }
      ],
      "source": [
        "F_1 = A_c * p_1 - M_c * g * sp.sin(theta_1 - gamma_1)\n",
        "F_2 = A_c * p_2 - M_c * g * sp.sin(phi - gamma_2)\n",
        "pprint(F_1, F_2)"
      ]
    },
    {
      "attachments": {},
      "cell_type": "markdown",
      "metadata": {
        "id": "yCZcIdmTLRx8"
      },
      "source": [
        "## Forças Generalizadas: Princípio dos Trabalhos Virtuais"
      ]
    },
    {
      "attachments": {},
      "cell_type": "markdown",
      "metadata": {
        "id": "8gF2ohHTLRx8"
      },
      "source": [
        "$F_1 :=$ força do primeiro atuador hidráulico, sobre o elo #2\n",
        "\n",
        "$F_2 :=$ força do segundo atuador hidráulico, sobre o elo #3\n",
        "\n",
        "$\\delta r_1 :=$ deslocamento virtual associado à força $F_1$\n",
        "\n",
        "$\\delta r_2 :=$ deslocamento virtual associado à força $F_2$\n",
        "\n",
        "$\\delta q_1 :=$ deslocamento virtual associado à coordenada generalizada $\\theta_1$\n",
        "\n",
        "$\\delta q_2 :=$ deslocamento virtual associado à coordenada generalizada $\\theta_2$\n",
        "\n",
        "$\\delta q_3 :=$ deslocamento virtual associado à coordenada generalizada $\\theta_3$"
      ]
    },
    {
      "cell_type": "code",
      "execution_count": 38,
      "metadata": {
        "id": "ZD3IiMw-LRx9"
      },
      "outputs": [],
      "source": [
        "dq1 = sp.Symbol(\"\\delta q_1\")\n",
        "dq2 = sp.Symbol(\"\\delta q_2\")\n",
        "dq3 = sp.Symbol(\"\\delta q_3\")"
      ]
    },
    {
      "cell_type": "code",
      "execution_count": 39,
      "metadata": {
        "id": "E6ExXte0LRx_"
      },
      "outputs": [],
      "source": [
        "F1_x = F_1 * sp.cos(theta_1 - gamma_1)\n",
        "F1_y = F_1 * sp.sin(theta_1 - gamma_1)"
      ]
    },
    {
      "cell_type": "code",
      "execution_count": 40,
      "metadata": {
        "id": "9PpmixP_LRx_"
      },
      "outputs": [],
      "source": [
        "F2_x = F_2 * sp.cos(phi - gamma_2)\n",
        "F2_y = F_2 * sp.sin(phi - gamma_2)"
      ]
    },
    {
      "cell_type": "code",
      "execution_count": 41,
      "metadata": {
        "id": "eiYrGpuq7Sp7"
      },
      "outputs": [],
      "source": [
        "def virtual_displacement(x):\n",
        "  return dq1 * sp.diff(x, theta_1) + dq2 * sp.diff(x, theta_2) + dq3 * sp.diff(x, theta_3)"
      ]
    },
    {
      "cell_type": "code",
      "execution_count": 42,
      "metadata": {
        "id": "hBAzO5pI4iy8"
      },
      "outputs": [],
      "source": [
        "dr1_x = virtual_displacement(x_J2 + P_1[0])\n",
        "dr1_y = virtual_displacement(y_J2 + P_1[1])\n",
        "dr2_x = virtual_displacement(x_J3 + P_2[0])\n",
        "dr2_y = virtual_displacement(y_J3 + P_2[1])"
      ]
    },
    {
      "cell_type": "code",
      "execution_count": 43,
      "metadata": {
        "id": "Q20ATD3S4gaO"
      },
      "outputs": [],
      "source": [
        "dW = sp.expand(F1_x * dr1_x + F1_y * dr1_y + F2_x * dr2_x + F2_y * dr2_y)"
      ]
    },
    {
      "cell_type": "code",
      "execution_count": 44,
      "metadata": {
        "id": "Lb5Gewst-sHh"
      },
      "outputs": [],
      "source": [
        "T = T.subs(gamma_alias).subs(Params)\n",
        "U = U.subs(gamma_alias).subs(Params)\n",
        "dW = dW.subs(gamma_alias).subs(Params)"
      ]
    },
    {
      "cell_type": "code",
      "execution_count": 45,
      "metadata": {
        "id": "gJQ0iItz71yd"
      },
      "outputs": [
        {
          "data": {
            "text/latex": [
              "$\\displaystyle 0.982 p_{1} \\sin{\\left(\\theta_{1}{\\left(t \\right)} + \\theta_{2}{\\left(t \\right)} \\right)} \\cos{\\left(\\theta_{1}{\\left(t \\right)} \\right)} - 0.982 p_{1} \\sin{\\left(\\theta_{1}{\\left(t \\right)} \\right)} \\cos{\\left(\\theta_{1}{\\left(t \\right)} + \\theta_{2}{\\left(t \\right)} \\right)} - 0.982 p_{2} \\sin{\\left(\\theta_{1}{\\left(t \\right)} + \\theta_{2}{\\left(t \\right)} \\right)} \\cos{\\left(\\theta_{1}{\\left(t \\right)} + \\theta_{2}{\\left(t \\right)} + \\theta_{3}{\\left(t \\right)} \\right)} + 0.982 p_{2} \\sin{\\left(\\theta_{1}{\\left(t \\right)} + \\theta_{2}{\\left(t \\right)} + \\theta_{3}{\\left(t \\right)} \\right)} \\cos{\\left(\\theta_{1}{\\left(t \\right)} + \\theta_{2}{\\left(t \\right)} \\right)} + \\tau - 101.30631 \\sin^{2}{\\left(\\theta_{1}{\\left(t \\right)} + \\theta_{2}{\\left(t \\right)} \\right)} \\cos{\\left(\\theta_{1}{\\left(t \\right)} + \\theta_{2}{\\left(t \\right)} + \\theta_{3}{\\left(t \\right)} \\right)} + 101.30631 \\sin^{2}{\\left(\\theta_{1}{\\left(t \\right)} \\right)} \\cos{\\left(\\theta_{1}{\\left(t \\right)} + \\theta_{2}{\\left(t \\right)} \\right)} - 25.3265775 \\cos{\\left(\\theta_{1}{\\left(t \\right)} - \\theta_{2}{\\left(t \\right)} \\right)} + 25.3265775 \\cos{\\left(3 \\theta_{1}{\\left(t \\right)} + \\theta_{2}{\\left(t \\right)} \\right)} + 25.3265775 \\cos{\\left(\\theta_{1}{\\left(t \\right)} + \\theta_{2}{\\left(t \\right)} - \\theta_{3}{\\left(t \\right)} \\right)} - 25.3265775 \\cos{\\left(3 \\theta_{1}{\\left(t \\right)} + 3 \\theta_{2}{\\left(t \\right)} + \\theta_{3}{\\left(t \\right)} \\right)}$"
            ],
            "text/plain": [
              "0.982*p_1*sin(theta_1(t) + theta_2(t))*cos(theta_1(t)) - 0.982*p_1*sin(theta_1(t))*cos(theta_1(t) + theta_2(t)) - 0.982*p_2*sin(theta_1(t) + theta_2(t))*cos(theta_1(t) + theta_2(t) + theta_3(t)) + 0.982*p_2*sin(theta_1(t) + theta_2(t) + theta_3(t))*cos(theta_1(t) + theta_2(t)) + tau - 101.30631*sin(theta_1(t) + theta_2(t))**2*cos(theta_1(t) + theta_2(t) + theta_3(t)) + 101.30631*sin(theta_1(t))**2*cos(theta_1(t) + theta_2(t)) - 25.3265775*cos(theta_1(t) - theta_2(t)) + 25.3265775*cos(3*theta_1(t) + theta_2(t)) + 25.3265775*cos(theta_1(t) + theta_2(t) - theta_3(t)) - 25.3265775*cos(3*theta_1(t) + 3*theta_2(t) + theta_3(t))"
            ]
          },
          "metadata": {},
          "output_type": "display_data"
        },
        {
          "data": {
            "text/latex": [
              "$\\displaystyle 0.982 p_{1} \\sin{\\left(\\theta_{1}{\\left(t \\right)} + \\theta_{2}{\\left(t \\right)} \\right)} \\cos{\\left(\\theta_{1}{\\left(t \\right)} \\right)} - 0.982 p_{1} \\sin{\\left(\\theta_{1}{\\left(t \\right)} \\right)} \\cos{\\left(\\theta_{1}{\\left(t \\right)} + \\theta_{2}{\\left(t \\right)} \\right)} - 0.982 p_{2} \\sin{\\left(\\theta_{1}{\\left(t \\right)} + \\theta_{2}{\\left(t \\right)} \\right)} \\cos{\\left(\\theta_{1}{\\left(t \\right)} + \\theta_{2}{\\left(t \\right)} + \\theta_{3}{\\left(t \\right)} \\right)} + 0.982 p_{2} \\sin{\\left(\\theta_{1}{\\left(t \\right)} + \\theta_{2}{\\left(t \\right)} + \\theta_{3}{\\left(t \\right)} \\right)} \\cos{\\left(\\theta_{1}{\\left(t \\right)} + \\theta_{2}{\\left(t \\right)} \\right)} - 101.30631 \\sin^{2}{\\left(\\theta_{1}{\\left(t \\right)} + \\theta_{2}{\\left(t \\right)} \\right)} \\cos{\\left(\\theta_{1}{\\left(t \\right)} + \\theta_{2}{\\left(t \\right)} + \\theta_{3}{\\left(t \\right)} \\right)} + 101.30631 \\sin^{2}{\\left(\\theta_{1}{\\left(t \\right)} \\right)} \\cos{\\left(\\theta_{1}{\\left(t \\right)} + \\theta_{2}{\\left(t \\right)} \\right)} - 25.3265775 \\cos{\\left(\\theta_{1}{\\left(t \\right)} - \\theta_{2}{\\left(t \\right)} \\right)} + 25.3265775 \\cos{\\left(3 \\theta_{1}{\\left(t \\right)} + \\theta_{2}{\\left(t \\right)} \\right)} + 25.3265775 \\cos{\\left(\\theta_{1}{\\left(t \\right)} + \\theta_{2}{\\left(t \\right)} - \\theta_{3}{\\left(t \\right)} \\right)} - 25.3265775 \\cos{\\left(3 \\theta_{1}{\\left(t \\right)} + 3 \\theta_{2}{\\left(t \\right)} + \\theta_{3}{\\left(t \\right)} \\right)}$"
            ],
            "text/plain": [
              "0.982*p_1*sin(theta_1(t) + theta_2(t))*cos(theta_1(t)) - 0.982*p_1*sin(theta_1(t))*cos(theta_1(t) + theta_2(t)) - 0.982*p_2*sin(theta_1(t) + theta_2(t))*cos(theta_1(t) + theta_2(t) + theta_3(t)) + 0.982*p_2*sin(theta_1(t) + theta_2(t) + theta_3(t))*cos(theta_1(t) + theta_2(t)) - 101.30631*sin(theta_1(t) + theta_2(t))**2*cos(theta_1(t) + theta_2(t) + theta_3(t)) + 101.30631*sin(theta_1(t))**2*cos(theta_1(t) + theta_2(t)) - 25.3265775*cos(theta_1(t) - theta_2(t)) + 25.3265775*cos(3*theta_1(t) + theta_2(t)) + 25.3265775*cos(theta_1(t) + theta_2(t) - theta_3(t)) - 25.3265775*cos(3*theta_1(t) + 3*theta_2(t) + theta_3(t))"
            ]
          },
          "metadata": {},
          "output_type": "display_data"
        },
        {
          "data": {
            "text/latex": [
              "$\\displaystyle - 0.982 p_{2} \\sin{\\left(\\theta_{1}{\\left(t \\right)} + \\theta_{2}{\\left(t \\right)} \\right)} \\cos{\\left(\\theta_{1}{\\left(t \\right)} + \\theta_{2}{\\left(t \\right)} + \\theta_{3}{\\left(t \\right)} \\right)} + 0.982 p_{2} \\sin{\\left(\\theta_{1}{\\left(t \\right)} + \\theta_{2}{\\left(t \\right)} + \\theta_{3}{\\left(t \\right)} \\right)} \\cos{\\left(\\theta_{1}{\\left(t \\right)} + \\theta_{2}{\\left(t \\right)} \\right)} - 101.30631 \\sin^{2}{\\left(\\theta_{1}{\\left(t \\right)} + \\theta_{2}{\\left(t \\right)} \\right)} \\cos{\\left(\\theta_{1}{\\left(t \\right)} + \\theta_{2}{\\left(t \\right)} + \\theta_{3}{\\left(t \\right)} \\right)} + 25.3265775 \\cos{\\left(\\theta_{1}{\\left(t \\right)} + \\theta_{2}{\\left(t \\right)} - \\theta_{3}{\\left(t \\right)} \\right)} - 25.3265775 \\cos{\\left(3 \\theta_{1}{\\left(t \\right)} + 3 \\theta_{2}{\\left(t \\right)} + \\theta_{3}{\\left(t \\right)} \\right)}$"
            ],
            "text/plain": [
              "-0.982*p_2*sin(theta_1(t) + theta_2(t))*cos(theta_1(t) + theta_2(t) + theta_3(t)) + 0.982*p_2*sin(theta_1(t) + theta_2(t) + theta_3(t))*cos(theta_1(t) + theta_2(t)) - 101.30631*sin(theta_1(t) + theta_2(t))**2*cos(theta_1(t) + theta_2(t) + theta_3(t)) + 25.3265775*cos(theta_1(t) + theta_2(t) - theta_3(t)) - 25.3265775*cos(3*theta_1(t) + 3*theta_2(t) + theta_3(t))"
            ]
          },
          "metadata": {},
          "output_type": "display_data"
        }
      ],
      "source": [
        "Q_1 = coeffs(dW, dq1) + tau\n",
        "pprint(Q_1)\n",
        "Q_2 = coeffs(dW, dq2)\n",
        "pprint(Q_2)\n",
        "Q_3 = coeffs(dW, dq3)\n",
        "pprint(Q_3)"
      ]
    },
    {
      "attachments": {},
      "cell_type": "markdown",
      "metadata": {
        "id": "s8HcqJ1J7DPO"
      },
      "source": [
        "## Lagrange\n",
        "\n",
        "$L = T - U$\n",
        "\n",
        "$\\frac{d}{dt}(\\frac{\\partial L}{\\partial \\dot{q_i}}) - \\frac{\\partial L}{\\partial q_i} + \\frac{\\partial R}{\\partial \\dot{q_i}}=Q_i^{nc}$"
      ]
    },
    {
      "cell_type": "code",
      "execution_count": 46,
      "metadata": {
        "id": "lsxogPBTPXfv"
      },
      "outputs": [],
      "source": [
        "Lagrangian = T - U\n",
        "Lagrangian = simplify(Lagrangian)"
      ]
    },
    {
      "cell_type": "code",
      "execution_count": 47,
      "metadata": {
        "id": "IkileBrw7E0W"
      },
      "outputs": [],
      "source": [
        "ode1 = sp.diff(sp.diff(Lagrangian, omega_1), t) - sp.diff(Lagrangian, theta_1) + sp.diff(R, omega_1) - Q_1\n",
        "ode2 = sp.diff(sp.diff(Lagrangian, omega_2), t) - sp.diff(Lagrangian, theta_2) + sp.diff(R, omega_2) - Q_2\n",
        "ode3 = sp.diff(sp.diff(Lagrangian, omega_3), t) - sp.diff(Lagrangian, theta_3) + sp.diff(R, omega_3) - Q_3"
      ]
    },
    {
      "cell_type": "code",
      "execution_count": 48,
      "metadata": {},
      "outputs": [],
      "source": [
        "ode1 = simplify(ode1)\n",
        "ode2 = simplify(ode2)\n",
        "ode3 = simplify(ode3)"
      ]
    },
    {
      "attachments": {},
      "cell_type": "markdown",
      "metadata": {
        "id": "jLwhGyoo7gl2"
      },
      "source": [
        "# Espaço de Estados"
      ]
    },
    {
      "attachments": {},
      "cell_type": "markdown",
      "metadata": {
        "id": "CrjP6gIRr3O6"
      },
      "source": [
        "Para encontrar o espaço de estados a partir das equações diferenciais ordinárias, é necessário isolar as derivadas de segunda ordem $\\ddot{\\theta}_i \\equiv \\alpha_i$\n",
        "\n",
        "$\\begin{bmatrix}A\\end{bmatrix} = \\begin{bmatrix}a_{11} &  a_{12} & a_{13} \\\\ a_{21} & a_{22} & a_{23} \\\\ a_{31} & a_{32} & a_{33}  \\end{bmatrix}$\n",
        "\n",
        "$\\begin{bmatrix}A\\end{bmatrix} \\begin{bmatrix}\\ddot{\\theta}_1 \\\\ \\ddot{\\theta}_2 \\\\ \\ddot{\\theta}_3 \\end{bmatrix} = -\\begin{bmatrix} b_1 \\\\ b_2 \\\\ b_3 \\end{bmatrix}$\n",
        "\n",
        "$\\begin{bmatrix}\\ddot{\\theta}_1 \\\\ \\ddot{\\theta}_2 \\\\ \\ddot{\\theta}_3 \\end{bmatrix} = - \\begin{bmatrix}A\\end{bmatrix}^{-1}  \\begin{bmatrix} b_1 \\\\ b_2 \\\\ b_3 \\end{bmatrix}$\n",
        "\n",
        "**Fonte:** Notas de aula do Laboratório de Simulações Numéricas (PME3201)"
      ]
    },
    {
      "cell_type": "code",
      "execution_count": 49,
      "metadata": {
        "id": "edxoKP1yjzjo"
      },
      "outputs": [],
      "source": [
        "def state_space(eq1, eq2, eq3):\n",
        "  # Matriz dos termos dependentes de alpha_i.\n",
        "  A = sp.Matrix([\n",
        "      [coeffs(eq1, alpha_1), coeffs(eq1, alpha_2), coeffs(eq1, alpha_3)],\n",
        "      [coeffs(eq2, alpha_1), coeffs(eq2, alpha_2), coeffs(eq2, alpha_3)],\n",
        "      [coeffs(eq3, alpha_1), coeffs(eq3, alpha_2), coeffs(eq3, alpha_3)],\n",
        "  ])\n",
        "\n",
        "  # Vetor dos termos independentes de alpha_i.\n",
        "  B = sp.Matrix([\n",
        "      remove_terms(eq1, [alpha_1, alpha_2, alpha_3]),\n",
        "      remove_terms(eq2, [alpha_1, alpha_2, alpha_3]),\n",
        "      remove_terms(eq3, [alpha_1, alpha_2, alpha_3]),\n",
        "  ])\n",
        "\n",
        "  # Matriz das derivadas de segunda ordem:\n",
        "  Alpha = -A ** -1 * B\n",
        "\n",
        "  return (sp.Matrix([ # espaço de estados\n",
        "    omega_1,\n",
        "    omega_2,\n",
        "    omega_3,\n",
        "    Alpha[0],\n",
        "    Alpha[1],\n",
        "    Alpha[2]\n",
        "  ]),\n",
        "  sp.Matrix([ # variáveis\n",
        "    theta_1,\n",
        "    theta_2,\n",
        "    theta_3,\n",
        "    omega_1,\n",
        "    omega_2,\n",
        "    omega_3\n",
        "  ]))"
      ]
    },
    {
      "cell_type": "code",
      "execution_count": 50,
      "metadata": {
        "id": "cF0pJsp7EZgI"
      },
      "outputs": [],
      "source": [
        "space, vars = state_space(ode1, ode2, ode3)"
      ]
    },
    {
      "cell_type": "code",
      "execution_count": 51,
      "metadata": {
        "id": "41tzf3dcc1nA"
      },
      "outputs": [
        {
          "data": {
            "text/latex": [
              "$\\displaystyle \\left[\\begin{matrix}\\theta_{1}{\\left(t \\right)}\\\\\\theta_{2}{\\left(t \\right)}\\\\\\theta_{3}{\\left(t \\right)}\\\\\\dot{\\theta}_1{\\left(t \\right)}\\\\\\dot{\\theta}_2{\\left(t \\right)}\\\\\\dot{\\theta}_3{\\left(t \\right)}\\end{matrix}\\right]$"
            ],
            "text/plain": [
              "Matrix([\n",
              "[       theta_1(t)],\n",
              "[       theta_2(t)],\n",
              "[       theta_3(t)],\n",
              "[\\dot{\\theta}_1(t)],\n",
              "[\\dot{\\theta}_2(t)],\n",
              "[\\dot{\\theta}_3(t)]])"
            ]
          },
          "metadata": {},
          "output_type": "display_data"
        }
      ],
      "source": [
        "pprint(vars)"
      ]
    },
    {
      "attachments": {},
      "cell_type": "markdown",
      "metadata": {
        "id": "cKYm1kFoTid0"
      },
      "source": [
        "### Conversão dos estados internos do sistema: $f_i(t) → x_i$\n",
        "Conversão de função do tempo para variável."
      ]
    },
    {
      "cell_type": "code",
      "execution_count": 52,
      "metadata": {
        "id": "FCd71ZAw8Yn3"
      },
      "outputs": [],
      "source": [
        "Theta_1, Omega_1, Alpha_1 = sp.symbols(\"Theta_1 Omega_1 Alpha_1\")\n",
        "Theta_2, Omega_2, Alpha_2 = sp.symbols(\"Theta_2 Omega_2 Alpha_2\")\n",
        "Theta_3, Omega_3, Alpha_3 = sp.symbols(\"Theta_3 Omega_3 Alpha_3\")\n",
        "FUNCTIONS_TO_SYMBOLS_DICT = {\n",
        "    theta_1: Theta_1,\n",
        "    omega_1: Omega_1,\n",
        "    alpha_1: Alpha_1,\n",
        "    theta_2: Theta_2,\n",
        "    omega_2: Omega_2,\n",
        "    alpha_2: Alpha_2,\n",
        "    theta_3: Theta_3,\n",
        "    omega_3: Omega_3,\n",
        "    alpha_3: Alpha_3,\n",
        "}"
      ]
    },
    {
      "attachments": {},
      "cell_type": "markdown",
      "metadata": {
        "id": "ozElEcSNTbs-"
      },
      "source": [
        "### Conversão do espaço de estados para o SCILAB"
      ]
    },
    {
      "cell_type": "code",
      "execution_count": 53,
      "metadata": {
        "id": "OdOt2SwONFO5"
      },
      "outputs": [
        {
          "name": "stdout",
          "output_type": "stream",
          "text": [
            "    dy(1) = Omega_1;\n",
            "    dy(2) = Omega_2;\n",
            "    dy(3) = Omega_3;\n",
            "    dy(4) = -(-11337.4129783759*Omega_1.^2.*sin(Theta_3) + 6500.11677426882*Omega_1.^2.*sin(Theta_2 + Theta_3) - 22674.8259567517*Omega_1.*Omega_2.*sin(Theta_3) - 11337.4129783759*Omega_2.^2.*sin(Theta_3) + Omega_3.*c + 66959.9455745775*Theta_3 + 0.982*p_2.*sin(Theta_1 + Theta_2).*cos(Theta_1 + Theta_2 + Theta_3) - 0.982*p_2.*sin(Theta_1 + Theta_2 + Theta_3).*cos(Theta_1 + Theta_2) + 101.30631*sin(Theta_1 + Theta_2).^2.*cos(Theta_1 + Theta_2 + Theta_3) - 25.3265775*cos(Theta_1 + Theta_2 - Theta_3) + 29649.6024210485*cos(Theta_1 + Theta_2 + Theta_3) + 25.3265775*cos(3*Theta_1 + 3*Theta_2 + Theta_3) - 126216.523861119).*(-3.56925254093844e+25*cos(Theta_2).^5.*cos(Theta_3) - 1683728407.79335*cos(Theta_2).^5.*cos(Theta_2 + Theta_3) + 5.69283456550967e+25*cos(Theta_2).^5 - 5.35698679386871e+25*cos(Theta_2).^4.*cos(Theta_3).^2 + 4.60700864272709e+25*cos(Theta_2).^4.*cos(Theta_3).*cos(Theta_2 + Theta_3) + 2.12054033019379e+26*cos(Theta_2).^4.*cos(Theta_3) + 2173270520.29487*cos(Theta_2).^4.*cos(Theta_2 + Theta_3).^2 - 6.41331113604657e+25*cos(Theta_2).^4.*cos(Theta_2 + Theta_3) - 2.01941677955858e+26*cos(Theta_2).^4 - 2.01003621770473e+25*cos(Theta_2).^3.*cos(Theta_3).^3 + 4.60968305926954e+25*cos(Theta_2).^3.*cos(Theta_3).^2.*cos(Theta_2 + Theta_3) + 8.97516172581099e+25*cos(Theta_2).^3.*cos(Theta_3).^2 - 1.3214424769906e+25*cos(Theta_2).^3.*cos(Theta_3).*cos(Theta_2 + Theta_3).^2 - 1.68443566200778e+26*cos(Theta_2).^3.*cos(Theta_3).*cos(Theta_2 + Theta_3) - 1.33414307757043e+26*cos(Theta_2).^3.*cos(Theta_3) - 935048814.389394*cos(Theta_2).^3.*cos(Theta_2 + Theta_3).^3 + 4.99023080005116e+24*cos(Theta_2).^3.*cos(Theta_2 + Theta_3).^2 + 1.40613782542971e+26*cos(Theta_2).^3.*cos(Theta_2 + Theta_3) + 6.60270841343076e+25*cos(Theta_2).^3 + 45471668372.0522*cos(Theta_2).^2.*cos(Theta_3).^4 + 8.64817317813498e+24*cos(Theta_2).^2.*cos(Theta_3).^3.*cos(Theta_2 + Theta_3) - 5.6015271380248e+25*cos(Theta_2).^2.*cos(Theta_3).^3 + 8616983070.48696*cos(Theta_2).^2.*cos(Theta_3).^2.*cos(Theta_2 + Theta_3).^2 - 3.33517572940568e+25*cos(Theta_2).^2.*cos(Theta_3).^2.*cos(Theta_2 + Theta_3) + 3.28123754430817e+26*cos(Theta_2).^2.*cos(Theta_3).^2 - 5.68550122893214e+24*cos(Theta_2).^2.*cos(Theta_3).*cos(Theta_2 + Theta_3).^3 - 1.81076160643917e+25*cos(Theta_2).^2.*cos(Theta_3).*cos(Theta_2 + Theta_3).^2 + 4.22931305966498e+25*cos(Theta_2).^2.*cos(Theta_3).*cos(Theta_2 + Theta_3) - 6.32299152263278e+26*cos(Theta_2).^2.*cos(Theta_3) + 134101465.529532*cos(Theta_2).^2.*cos(Theta_2 + Theta_3).^4 + 1.94498780310484e+25*cos(Theta_2).^2.*cos(Theta_2 + Theta_3).^3 + 4.27972019807557e+25*cos(Theta_2).^2.*cos(Theta_2 + Theta_3).^2 - 1.75671168323896e+25*cos(Theta_2).^2.*cos(Theta_2 + Theta_3) + 4.0105594119479e+26*cos(Theta_2).^2 + 10498147122.8575*cos(Theta_2).*cos(Theta_3).^5 - 1502113878.89092*cos(Theta_2).*cos(Theta_3).^4.*cos(Theta_2 + Theta_3) - 2.10179208109539e+25*cos(Theta_2).*cos(Theta_3).^4 + 3.72087321911132e+24*cos(Theta_2).*cos(Theta_3).^3.*cos(Theta_2 + Theta_3).^2 - 15565953516.3329*cos(Theta_2).*cos(Theta_3).^3.*cos(Theta_2 + Theta_3) + 1.72793521001918e+26*cos(Theta_2).*cos(Theta_3).^3 - 8.53320258249529e+24*cos(Theta_2).*cos(Theta_3).^2.*cos(Theta_2 + Theta_3).^3 - 2.11438787814449e+25*cos(Theta_2).*cos(Theta_3).^2.*cos(Theta_2 + Theta_3).^2 + 1.4669165101009e+25*cos(Theta_2).*cos(Theta_3).^2.*cos(Theta_2 + Theta_3) - 5.28237827160166e+26*cos(Theta_2).*cos(Theta_3).^2 + 3.66927711047297e+24*cos(Theta_2).*cos(Theta_3).*cos(Theta_2 + Theta_3).^4 + 4.15691126925522e+25*cos(Theta_2).*cos(Theta_3).*cos(Theta_2 + Theta_3).^3 + 3.76976560110452e+25*cos(Theta_2).*cos(Theta_3).*cos(Theta_2 + Theta_3).^2 - 6.25315681949972e+25*cos(Theta_2).*cos(Theta_3).*cos(Theta_2 + Theta_3) + 7.11221306489188e+26*cos(Theta_2).*cos(Theta_3) - 8.83018524807144e+24*cos(Theta_2).*cos(Theta_2 + Theta_3).^4 - 5.05809895914203e+25*cos(Theta_2).*cos(Theta_2 + Theta_3).^3 - 2.1551267894797e+25*cos(Theta_2).*cos(Theta_2 + Theta_3).^2 + 6.58495210545639e+25*cos(Theta_2).*cos(Theta_2 + Theta_3) - 3.55666007799187e+26*cos(Theta_2) - 3.65323936200199e-6*cos(Theta_3).^6 + 4516823804.88069*cos(Theta_3).^5.*cos(Theta_2 + Theta_3) + 7314004530.07921*cos(Theta_3).^5 - 3884468472.19739*cos(Theta_3).^4.*cos(Theta_2 + Theta_3).^2 - 9.04295243122616e+24*cos(Theta_3).^4.*cos(Theta_2 + Theta_3) - 54959809195.9926*cos(Theta_3).^4 - 1.60090428666525e+24*cos(Theta_3).^3.*cos(Theta_2 + Theta_3).^3 + 1.03692521211393e+25*cos(Theta_3).^3.*cos(Theta_2 + Theta_3).^2 + 7.98484769242165e+25*cos(Theta_3).^3.*cos(Theta_2 + Theta_3) + 165917960289.619*cos(Theta_3).^3 + 1.83570358204283e+24*cos(Theta_3).^2.*cos(Theta_2 + Theta_3).^4 + 8.12273110521244e+24*cos(Theta_3).^2.*cos(Theta_2 + Theta_3).^3 - 6.70519445727739e+25*cos(Theta_3).^2.*cos(Theta_2 + Theta_3).^2 - 2.63746041503665e+26*cos(Theta_3).^2.*cos(Theta_2 + Theta_3) - 241924441783.445*cos(Theta_3).^2 - 5.26235026852277e+23*cos(Theta_3).*cos(Theta_2 + Theta_3).^5 - 8.38388303402853e+24*cos(Theta_3).*cos(Theta_2 + Theta_3).^4 - 1.34226286579099e+25*cos(Theta_3).*cos(Theta_2 + Theta_3).^3 + 1.43952073474476e+26*cos(Theta_3).*cos(Theta_2 + Theta_3).^2 + 3.86165093104024e+26*cos(Theta_3).*cos(Theta_2 + Theta_3) + 142340889804.552*cos(Theta_3) + 1.15962763530099e+24*cos(Theta_2 + Theta_3).^5 + 9.56082697801438e+24*cos(Theta_2 + Theta_3).^4 + 7.26559393349474e+24*cos(Theta_2 + Theta_3).^3 - 1.02573095677281e+26*cos(Theta_2 + Theta_3).^2 - 2.11422095877194e+26*cos(Theta_2 + Theta_3))./(8.60060945478935e+29*cos(Theta_2).^6 - 137931031166431.0*cos(Theta_2).^5.*cos(Theta_3).^2 - 4.64011166259112e+29*cos(Theta_2).^5.*cos(Theta_3).*cos(Theta_2 + Theta_3) + 1.29084032973512e+30*cos(Theta_2).^5.*cos(Theta_3) - 13793103116643.1*cos(Theta_2).^5.*cos(Theta_2 + Theta_3).^2 - 1.48016357809627e+30*cos(Theta_2).^5.*cos(Theta_2 + Theta_3) - 3.05089052695436e+30*cos(Theta_2).^5 - 209182782042047.0*cos(Theta_2).^4.*cos(Theta_3).^3 - 6.96420794367251e+29*cos(Theta_2).^4.*cos(Theta_3).^2.*cos(Theta_2 + Theta_3) + 7.66271274625817e+29*cos(Theta_2).^4.*cos(Theta_3).^2 + 7.98562510874448e+29*cos(Theta_2).^4.*cos(Theta_3).*cos(Theta_2 + Theta_3).^2 - 2.01658492447337e+28*cos(Theta_2).^4.*cos(Theta_3).*cos(Theta_2 + Theta_3) - 1.39017445272203e+30*cos(Theta_2).^4.*cos(Theta_3) + 17803432102255.6*cos(Theta_2).^4.*cos(Theta_2 + Theta_3).^3 + 1.17522682767921e+30*cos(Theta_2).^4.*cos(Theta_2 + Theta_3).^2 + 3.9379334649146e+30*cos(Theta_2).^4.*cos(Theta_2 + Theta_3) + 6.63620374657862e+27*cos(Theta_2).^4 - 184976306608167.0*cos(Theta_2).^3.*cos(Theta_3).^4 - 2.61309402711808e+29*cos(Theta_2).^3.*cos(Theta_3).^3.*cos(Theta_2 + Theta_3) + 4.23133209916506e+29*cos(Theta_2).^3.*cos(Theta_3).^3 + 8.98904345328622e+29*cos(Theta_2).^3.*cos(Theta_3).^2.*cos(Theta_2 + Theta_3).^2 - 1.51959711598111e+29*cos(Theta_2).^3.*cos(Theta_3).^2.*cos(Theta_2 + Theta_3) + 3.49693850696665e+29*cos(Theta_2).^3.*cos(Theta_3).^2 - 5.15371824655077e+29*cos(Theta_2).^3.*cos(Theta_3).*cos(Theta_2 + Theta_3).^3 - 1.07755015225116e+30*cos(Theta_2).^3.*cos(Theta_3).*cos(Theta_2 + Theta_3).^2 + 6.58070957633736e+29*cos(Theta_2).^3.*cos(Theta_3).*cos(Theta_2 + Theta_3) - 7.24096017756792e+30*cos(Theta_2).^3.*cos(Theta_3) - 11108195666638.7*cos(Theta_2).^3.*cos(Theta_2 + Theta_3).^4 - 6.5256313859888e+29*cos(Theta_2).^3.*cos(Theta_2 + Theta_3).^3 - 2.47458274305283e+30*cos(Theta_2).^3.*cos(Theta_2 + Theta_3).^2 + 8.46946617727849e+29*cos(Theta_2).^3.*cos(Theta_2 + Theta_3) + 9.57403249804565e+30*cos(Theta_2).^3 - 79301850742024.6*cos(Theta_2).^2.*cos(Theta_3).^5 + 795780674166642.0*cos(Theta_2).^2.*cos(Theta_3).^4.*cos(Theta_2 + Theta_3) + 1.58767066183416e+29*cos(Theta_2).^2.*cos(Theta_3).^4 + 2.24856542167908e+29*cos(Theta_2).^2.*cos(Theta_3).^3.*cos(Theta_2 + Theta_3).^2 - 1.27437031789889e+30*cos(Theta_2).^2.*cos(Theta_3).^3.*cos(Theta_2 + Theta_3) + 5.07613691045112e+28*cos(Theta_2).^2.*cos(Theta_3).^3 - 3.86753252528802e+29*cos(Theta_2).^2.*cos(Theta_3).^2.*cos(Theta_2 + Theta_3).^3 - 1.18719404900806e+29*cos(Theta_2).^2.*cos(Theta_3).^2.*cos(Theta_2 + Theta_3).^2 + 3.81431850183081e+30*cos(Theta_2).^2.*cos(Theta_3).^2.*cos(Theta_2 + Theta_3) - 3.5869562554189e+30*cos(Theta_2).^2.*cos(Theta_3).^2 + 1.47825687633231e+29*cos(Theta_2).^2.*cos(Theta_3).*cos(Theta_2 + Theta_3).^4 + 3.85147797031254e+29*cos(Theta_2).^2.*cos(Theta_3).*cos(Theta_2 + Theta_3).^3 - 1.4979188104397e+29*cos(Theta_2).^2.*cos(Theta_3).*cos(Theta_2 + Theta_3).^2 + 1.12622443129454e+30*cos(Theta_2).^2.*cos(Theta_3).*cos(Theta_2 + Theta_3) + 8.97768384308939e+30*cos(Theta_2).^2.*cos(Theta_3) + 5549417231181.82*cos(Theta_2).^2.*cos(Theta_2 + Theta_3).^5 + 2.73787020776404e+29*cos(Theta_2).^2.*cos(Theta_2 + Theta_3).^4 + 1.25014615723435e+30*cos(Theta_2).^2.*cos(Theta_2 + Theta_3).^3 - 6.60786000796847e+29*cos(Theta_2).^2.*cos(Theta_2 + Theta_3).^2 - 7.14385061603073e+30*cos(Theta_2).^2.*cos(Theta_2 + Theta_3) - 6.52258174664405e+30*cos(Theta_2).^2 + 0.13802890479198*cos(Theta_2).*cos(Theta_3).^6 + 204717546636083.0*cos(Theta_2).*cos(Theta_3).^5.*cos(Theta_2 + Theta_3) - 497338902924683.0*cos(Theta_2).*cos(Theta_3).^5 - 308108424601980.0*cos(Theta_2).*cos(Theta_3).^4.*cos(Theta_2 + Theta_3).^2 - 4.09856818870605e+29*cos(Theta_2).*cos(Theta_3).^4.*cos(Theta_2 + Theta_3) + 4.42448758891779e+29*cos(Theta_2).*cos(Theta_3).^4 - 4.83722208529461e+28*cos(Theta_2).*cos(Theta_3).^3.*cos(Theta_2 + Theta_3).^3 + 5.48297344355786e+29*cos(Theta_2).*cos(Theta_3).^3.*cos(Theta_2 + Theta_3).^2 + 2.20267600921583e+30*cos(Theta_2).*cos(Theta_3).^3.*cos(Theta_2 + Theta_3) - 1.8860660813975e+30*cos(Theta_2).*cos(Theta_3).^3 + 5.54668132447116e+28*cos(Theta_2).*cos(Theta_3).^2.*cos(Theta_2 + Theta_3).^4 - 5.75724682377442e+28*cos(Theta_2).*cos(Theta_3).^2.*cos(Theta_2 + Theta_3).^3 - 1.54575779786016e+30*cos(Theta_2).*cos(Theta_3).^2.*cos(Theta_2 + Theta_3).^2 - 3.78064199426553e+30*cos(Theta_2).*cos(Theta_3).^2.*cos(Theta_2 + Theta_3) + 4.31060384806668e+29*cos(Theta_2).*cos(Theta_3).^2 - 1.5900486463484e+28*cos(Theta_2).*cos(Theta_3).*cos(Theta_2 + Theta_3).^5 + 5.22471967935556e+28*cos(Theta_2).*cos(Theta_3).*cos(Theta_2 + Theta_3).^4 + 2.06324710672498e+29*cos(Theta_2).*cos(Theta_3).*cos(Theta_2 + Theta_3).^3 - 8.91020128362002e+29*cos(Theta_2).*cos(Theta_3).*cos(Theta_2 + Theta_3).^2 + 1.52075297440878e+30*cos(Theta_2).*cos(Theta_3).*cos(Theta_2 + Theta_3) + 6.62898437770632e+30*cos(Theta_2).*cos(Theta_3) - 1914979971869.48*cos(Theta_2).*cos(Theta_2 + Theta_3).^6 - 7.00775987036737e+28*cos(Theta_2).*cos(Theta_2 + Theta_3).^5 - 4.33328623674947e+29*cos(Theta_2).*cos(Theta_2 + Theta_3).^4 + 9.61447783016488e+28*cos(Theta_2).*cos(Theta_2 + Theta_3).^3 + 3.50166858557136e+30*cos(Theta_2).*cos(Theta_2 + Theta_3).^2 + 9.88935462408713e+29*cos(Theta_2).*cos(Theta_2 + Theta_3) - 6.9807212412925e+30*cos(Theta_2) + 0.0414182833558749*cos(Theta_3).^7 - 0.0712394473721048*cos(Theta_3).^6.*cos(Theta_2 + Theta_3) - 165843779766439.0*cos(Theta_3).^6 - 14679941090260.8*cos(Theta_3).^5.*cos(Theta_2 + Theta_3).^2 + 237709417665230.0*cos(Theta_3).^5.*cos(Theta_2 + Theta_3) + 1.66014601878219e+29*cos(Theta_3).^5 + 25249498675248.6*cos(Theta_3).^4.*cos(Theta_2 + Theta_3).^3 + 2.93901233935638e+28*cos(Theta_3).^4.*cos(Theta_2 + Theta_3).^2 - 1.90363410153691e+29*cos(Theta_3).^4.*cos(Theta_2 + Theta_3) - 1.10005951016401e+30*cos(Theta_3).^4 - 14441148587914.8*cos(Theta_3).^3.*cos(Theta_2 + Theta_3).^4 - 3.370067482462e+28*cos(Theta_3).^3.*cos(Theta_2 + Theta_3).^3 + 4.51741668507492e+28*cos(Theta_3).^3.*cos(Theta_2 + Theta_3).^2 + 8.11479213840119e+29*cos(Theta_3).^3.*cos(Theta_2 + Theta_3) + 1.83435002582608e+30*cos(Theta_3).^3 + 3704443832897.66*cos(Theta_3).^2.*cos(Theta_2 + Theta_3).^5 + 3.25919834929226e+28*cos(Theta_3).^2.*cos(Theta_2 + Theta_3).^4 - 6.8876411662742e+28*cos(Theta_3).^2.*cos(Theta_2 + Theta_3).^3 - 9.01070178808827e+29*cos(Theta_3).^2.*cos(Theta_2 + Theta_3).^2 - 1.85463566537052e+29*cos(Theta_3).^2.*cos(Theta_2 + Theta_3) + 2.10503754804919e+30*cos(Theta_3).^2 - 1028302512235.38*cos(Theta_3).*cos(Theta_2 + Theta_3).^6 - 2.62943548050896e+28*cos(Theta_3).*cos(Theta_2 + Theta_3).^5 - 6.58171089112003e+28*cos(Theta_3).*cos(Theta_2 + Theta_3).^4 + 7.5159054871448e+29*cos(Theta_3).*cos(Theta_2 + Theta_3).^3 + 2.18296650503942e+30*cos(Theta_3).*cos(Theta_2 + Theta_3).^2 - 2.85211800606355e+30*cos(Theta_3).*cos(Theta_2 + Theta_3) - 8.49803211733198e+30*cos(Theta_3) + 274639801404.481*cos(Theta_2 + Theta_3).^7 + 7.53771504412567e+27*cos(Theta_2 + Theta_3).^6 + 6.21464918156732e+28*cos(Theta_2 + Theta_3).^5 + 1.32720409311891e+28*cos(Theta_2 + Theta_3).^4 - 9.46688592032348e+29*cos(Theta_2 + Theta_3).^3 - 1.58701286505947e+30*cos(Theta_2 + Theta_3).^2 + 3.00345265777948e+30*cos(Theta_2 + Theta_3) + 6.19067067814265e+30) - (-15107.7804138146*Omega_1.^2.*sin(Theta_2) + 6500.11677426882*Omega_1.^2.*sin(Theta_2 + Theta_3) + 22674.8259567517*Omega_1.*Omega_3.*sin(Theta_3) + 22674.8259567517*Omega_2.*Omega_3.*sin(Theta_3) + Omega_2.*c + 11337.4129783759*Omega_3.^2.*sin(Theta_3) + 62133.4251488827*Theta_2 + 0.982*p_1.*sin(Theta_1).*cos(Theta_1 + Theta_2) - 0.982*p_1.*sin(Theta_1 + Theta_2).*cos(Theta_1) + 0.982*p_2.*sin(Theta_1 + Theta_2).*cos(Theta_1 + Theta_2 + Theta_3) - 0.982*p_2.*sin(Theta_1 + Theta_2 + Theta_3).*cos(Theta_1 + Theta_2) - 101.30631*sin(Theta_1).^2.*cos(Theta_1 + Theta_2) + 101.30631*sin(Theta_1 + Theta_2).^2.*cos(Theta_1 + Theta_2 + Theta_3) + 25.3265775*cos(Theta_1 - Theta_2) - 68912.5593108276*cos(Theta_1 + Theta_2) - 25.3265775*cos(3*Theta_1 + Theta_2) - 25.3265775*cos(Theta_1 + Theta_2 - Theta_3) + 29649.6024210485*cos(Theta_1 + Theta_2 + Theta_3) + 25.3265775*cos(3*Theta_1 + 3*Theta_2 + Theta_3) - 195197.911990101).*(-5.69283456550967e+25*cos(Theta_2).^5 - 2.67849339693435e+25*cos(Theta_2).^4.*cos(Theta_3).^2 + 1.5356695475757e+25*cos(Theta_2).^4.*cos(Theta_3).*cos(Theta_2 + Theta_3) - 8.54420897297909e+25*cos(Theta_2).^4.*cos(Theta_3) + 188556609.363199*cos(Theta_2).^4.*cos(Theta_2 + Theta_3).^2 + 9.79735962234935e+25*cos(Theta_2).^4.*cos(Theta_2 + Theta_3) + 2.96083081903439e+26*cos(Theta_2).^4 - 4.02007243540948e+25*cos(Theta_2).^3.*cos(Theta_3).^3 + 6.91452458890431e+25*cos(Theta_2).^3.*cos(Theta_3).^2.*cos(Theta_2 + Theta_3) + 6.29546984743061e+25*cos(Theta_2).^3.*cos(Theta_3).^2 - 2.6428849539812e+25*cos(Theta_2).^3.*cos(Theta_3).*cos(Theta_2 + Theta_3).^2 + 5.58095393598106e+25*cos(Theta_2).^3.*cos(Theta_3).*cos(Theta_2 + Theta_3) + 2.33311201646444e+26*cos(Theta_2).^3.*cos(Theta_3) - 162252818.858852*cos(Theta_2).^3.*cos(Theta_2 + Theta_3).^3 - 6.32296537417347e+25*cos(Theta_2).^3.*cos(Theta_2 + Theta_3).^2 - 4.22673203198473e+26*cos(Theta_2).^3.*cos(Theta_2 + Theta_3) - 3.99974485196588e+26*cos(Theta_2).^3 - 1.50840229851192e+25*cos(Theta_2).^2.*cos(Theta_3).^4 + 6.0537212246945e+25*cos(Theta_2).^2.*cos(Theta_3).^3.*cos(Theta_2 + Theta_3) + 4.32942934076525e+25*cos(Theta_2).^2.*cos(Theta_3).^3 - 5.94994314655689e+25*cos(Theta_2).^2.*cos(Theta_3).^2.*cos(Theta_2 + Theta_3).^2 - 1.19874304362857e+26*cos(Theta_2).^2.*cos(Theta_3).^2.*cos(Theta_2 + Theta_3) - 6.73922988676594e+25*cos(Theta_2).^2.*cos(Theta_3).^2 + 1.70565036867964e+25*cos(Theta_2).^2.*cos(Theta_3).*cos(Theta_2 + Theta_3).^3 + 2.28634396031396e+25*cos(Theta_2).^2.*cos(Theta_3).*cos(Theta_2 + Theta_3).^2 - 2.43744712042172e+26*cos(Theta_2).^2.*cos(Theta_3).*cos(Theta_2 + Theta_3) + 2.28680883891482e+26*cos(Theta_2).^2.*cos(Theta_3) + 263149635.819031*cos(Theta_2).^2.*cos(Theta_2 + Theta_3).^4 + 1.81363563082609e+25*cos(Theta_2).^2.*cos(Theta_2 + Theta_3).^3 + 2.16708906942366e+26*cos(Theta_2).^2.*cos(Theta_2 + Theta_3).^2 + 4.87858482351294e+26*cos(Theta_2).^2.*cos(Theta_2 + Theta_3) - 2.9186811345379e+26*cos(Theta_2).^2 + 28874475300.7394*cos(Theta_2).*cos(Theta_3).^5 + 1.29797902992255e+25*cos(Theta_2).*cos(Theta_3).^4.*cos(Theta_2 + Theta_3) - 4.20358416219077e+25*cos(Theta_2).*cos(Theta_3).^4 - 2.97669857528905e+25*cos(Theta_2).*cos(Theta_3).^3.*cos(Theta_2 + Theta_3).^2 - 1.31541573322517e+25*cos(Theta_2).*cos(Theta_3).^3.*cos(Theta_2 + Theta_3) + 1.45667101275025e+26*cos(Theta_2).*cos(Theta_3).^3 + 2.13330064562382e+25*cos(Theta_2).*cos(Theta_3).^2.*cos(Theta_2 + Theta_3).^3 + 6.81902206882235e+25*cos(Theta_2).*cos(Theta_3).^2.*cos(Theta_2 + Theta_3).^2 - 8.31840985993045e+25*cos(Theta_2).*cos(Theta_3).^2.*cos(Theta_2 + Theta_3) + 1.81178035354604e+26*cos(Theta_2).*cos(Theta_3).^2 - 4.89236948063063e+24*cos(Theta_2).*cos(Theta_3).*cos(Theta_2 + Theta_3).^4 - 2.34471496784308e+25*cos(Theta_2).*cos(Theta_3).*cos(Theta_2 + Theta_3).^3 + 8.01741153727118e+25*cos(Theta_2).*cos(Theta_3).*cos(Theta_2 + Theta_3).^2 + 7.52667431059182e+25*cos(Theta_2).*cos(Theta_3).*cos(Theta_2 + Theta_3) - 1.1180299892188e+27*cos(Theta_2).*cos(Theta_3) - 196404673.779612*cos(Theta_2).*cos(Theta_2 + Theta_3).^5 - 1.95079010010706e+24*cos(Theta_2).*cos(Theta_2 + Theta_3).^4 - 4.60755283048049e+25*cos(Theta_2).*cos(Theta_2 + Theta_3).^3 - 1.97678340206326e+26*cos(Theta_2).*cos(Theta_2 + Theta_3).^2 + 7.85981234148821e+25*cos(Theta_2).*cos(Theta_2 + Theta_3) + 1.01888516393526e+27*cos(Theta_2) + 7878181055.02445*cos(Theta_3).^6 - 13550471414.6421*cos(Theta_3).^5.*cos(Theta_2 + Theta_3) - 1.5772591449813e+25*cos(Theta_3).^5 - 2.79227491860218e+24*cos(Theta_3).^4.*cos(Theta_2 + Theta_3).^2 + 2.71288572936784e+25*cos(Theta_3).^4.*cos(Theta_2 + Theta_3) + 1.04513633306944e+26*cos(Theta_3).^4 + 4.80271285999576e+24*cos(Theta_3).^3.*cos(Theta_2 + Theta_3).^3 - 2.35484046716256e+24*cos(Theta_3).^3.*cos(Theta_2 + Theta_3).^2 - 1.37017561554814e+26*cos(Theta_3).^3.*cos(Theta_2 + Theta_3) - 1.742765588447e+26*cos(Theta_3).^3 - 2.75355537306424e+24*cos(Theta_3).^2.*cos(Theta_2 + Theta_3).^4 - 1.21623776379533e+25*cos(Theta_3).^2.*cos(Theta_2 + Theta_3).^3 + 4.8265234319642e+25*cos(Theta_3).^2.*cos(Theta_2 + Theta_3).^2 + 1.49322343362017e+26*cos(Theta_3).^2.*cos(Theta_2 + Theta_3) - 1.99993837025563e+26*cos(Theta_3).^2 + 5.26235026852276e+23*cos(Theta_3).*cos(Theta_2 + Theta_3).^5 + 4.338670352746e+24*cos(Theta_3).*cos(Theta_2 + Theta_3).^4 - 7.95634248992317e+24*cos(Theta_3).*cos(Theta_2 + Theta_3).^3 - 7.47156888169716e+25*cos(Theta_3).*cos(Theta_2 + Theta_3).^2 + 1.75029280946593e+26*cos(Theta_3).*cos(Theta_2 + Theta_3) + 8.07374695946265e+26*cos(Theta_3) + 42251518.0791309*cos(Theta_2 + Theta_3).^6 + 536870912.0*cos(Theta_2 + Theta_3).^5 + 3.22598727782771e+24*cos(Theta_2 + Theta_3).^4 + 2.65974225326052e+25*cos(Theta_2 + Theta_3).^3 + 2.02122758045797e+25*cos(Theta_2 + Theta_3).^2 - 2.85349789561048e+26*cos(Theta_2 + Theta_3) - 5.88158621603104e+26)./(8.60060945478935e+29*cos(Theta_2).^6 - 137931031166431.0*cos(Theta_2).^5.*cos(Theta_3).^2 - 4.64011166259112e+29*cos(Theta_2).^5.*cos(Theta_3).*cos(Theta_2 + Theta_3) + 1.29084032973512e+30*cos(Theta_2).^5.*cos(Theta_3) - 13793103116643.1*cos(Theta_2).^5.*cos(Theta_2 + Theta_3).^2 - 1.48016357809627e+30*cos(Theta_2).^5.*cos(Theta_2 + Theta_3) - 3.05089052695436e+30*cos(Theta_2).^5 - 209182782042047.0*cos(Theta_2).^4.*cos(Theta_3).^3 - 6.96420794367251e+29*cos(Theta_2).^4.*cos(Theta_3).^2.*cos(Theta_2 + Theta_3) + 7.66271274625817e+29*cos(Theta_2).^4.*cos(Theta_3).^2 + 7.98562510874448e+29*cos(Theta_2).^4.*cos(Theta_3).*cos(Theta_2 + Theta_3).^2 - 2.01658492447337e+28*cos(Theta_2).^4.*cos(Theta_3).*cos(Theta_2 + Theta_3) - 1.39017445272203e+30*cos(Theta_2).^4.*cos(Theta_3) + 17803432102255.6*cos(Theta_2).^4.*cos(Theta_2 + Theta_3).^3 + 1.17522682767921e+30*cos(Theta_2).^4.*cos(Theta_2 + Theta_3).^2 + 3.9379334649146e+30*cos(Theta_2).^4.*cos(Theta_2 + Theta_3) + 6.63620374657862e+27*cos(Theta_2).^4 - 184976306608167.0*cos(Theta_2).^3.*cos(Theta_3).^4 - 2.61309402711808e+29*cos(Theta_2).^3.*cos(Theta_3).^3.*cos(Theta_2 + Theta_3) + 4.23133209916506e+29*cos(Theta_2).^3.*cos(Theta_3).^3 + 8.98904345328622e+29*cos(Theta_2).^3.*cos(Theta_3).^2.*cos(Theta_2 + Theta_3).^2 - 1.51959711598111e+29*cos(Theta_2).^3.*cos(Theta_3).^2.*cos(Theta_2 + Theta_3) + 3.49693850696665e+29*cos(Theta_2).^3.*cos(Theta_3).^2 - 5.15371824655077e+29*cos(Theta_2).^3.*cos(Theta_3).*cos(Theta_2 + Theta_3).^3 - 1.07755015225116e+30*cos(Theta_2).^3.*cos(Theta_3).*cos(Theta_2 + Theta_3).^2 + 6.58070957633736e+29*cos(Theta_2).^3.*cos(Theta_3).*cos(Theta_2 + Theta_3) - 7.24096017756792e+30*cos(Theta_2).^3.*cos(Theta_3) - 11108195666638.7*cos(Theta_2).^3.*cos(Theta_2 + Theta_3).^4 - 6.5256313859888e+29*cos(Theta_2).^3.*cos(Theta_2 + Theta_3).^3 - 2.47458274305283e+30*cos(Theta_2).^3.*cos(Theta_2 + Theta_3).^2 + 8.46946617727849e+29*cos(Theta_2).^3.*cos(Theta_2 + Theta_3) + 9.57403249804565e+30*cos(Theta_2).^3 - 79301850742024.6*cos(Theta_2).^2.*cos(Theta_3).^5 + 795780674166642.0*cos(Theta_2).^2.*cos(Theta_3).^4.*cos(Theta_2 + Theta_3) + 1.58767066183416e+29*cos(Theta_2).^2.*cos(Theta_3).^4 + 2.24856542167908e+29*cos(Theta_2).^2.*cos(Theta_3).^3.*cos(Theta_2 + Theta_3).^2 - 1.27437031789889e+30*cos(Theta_2).^2.*cos(Theta_3).^3.*cos(Theta_2 + Theta_3) + 5.07613691045112e+28*cos(Theta_2).^2.*cos(Theta_3).^3 - 3.86753252528802e+29*cos(Theta_2).^2.*cos(Theta_3).^2.*cos(Theta_2 + Theta_3).^3 - 1.18719404900806e+29*cos(Theta_2).^2.*cos(Theta_3).^2.*cos(Theta_2 + Theta_3).^2 + 3.81431850183081e+30*cos(Theta_2).^2.*cos(Theta_3).^2.*cos(Theta_2 + Theta_3) - 3.5869562554189e+30*cos(Theta_2).^2.*cos(Theta_3).^2 + 1.47825687633231e+29*cos(Theta_2).^2.*cos(Theta_3).*cos(Theta_2 + Theta_3).^4 + 3.85147797031254e+29*cos(Theta_2).^2.*cos(Theta_3).*cos(Theta_2 + Theta_3).^3 - 1.4979188104397e+29*cos(Theta_2).^2.*cos(Theta_3).*cos(Theta_2 + Theta_3).^2 + 1.12622443129454e+30*cos(Theta_2).^2.*cos(Theta_3).*cos(Theta_2 + Theta_3) + 8.97768384308939e+30*cos(Theta_2).^2.*cos(Theta_3) + 5549417231181.82*cos(Theta_2).^2.*cos(Theta_2 + Theta_3).^5 + 2.73787020776404e+29*cos(Theta_2).^2.*cos(Theta_2 + Theta_3).^4 + 1.25014615723435e+30*cos(Theta_2).^2.*cos(Theta_2 + Theta_3).^3 - 6.60786000796847e+29*cos(Theta_2).^2.*cos(Theta_2 + Theta_3).^2 - 7.14385061603073e+30*cos(Theta_2).^2.*cos(Theta_2 + Theta_3) - 6.52258174664405e+30*cos(Theta_2).^2 + 0.13802890479198*cos(Theta_2).*cos(Theta_3).^6 + 204717546636083.0*cos(Theta_2).*cos(Theta_3).^5.*cos(Theta_2 + Theta_3) - 497338902924683.0*cos(Theta_2).*cos(Theta_3).^5 - 308108424601980.0*cos(Theta_2).*cos(Theta_3).^4.*cos(Theta_2 + Theta_3).^2 - 4.09856818870605e+29*cos(Theta_2).*cos(Theta_3).^4.*cos(Theta_2 + Theta_3) + 4.42448758891779e+29*cos(Theta_2).*cos(Theta_3).^4 - 4.83722208529461e+28*cos(Theta_2).*cos(Theta_3).^3.*cos(Theta_2 + Theta_3).^3 + 5.48297344355786e+29*cos(Theta_2).*cos(Theta_3).^3.*cos(Theta_2 + Theta_3).^2 + 2.20267600921583e+30*cos(Theta_2).*cos(Theta_3).^3.*cos(Theta_2 + Theta_3) - 1.8860660813975e+30*cos(Theta_2).*cos(Theta_3).^3 + 5.54668132447116e+28*cos(Theta_2).*cos(Theta_3).^2.*cos(Theta_2 + Theta_3).^4 - 5.75724682377442e+28*cos(Theta_2).*cos(Theta_3).^2.*cos(Theta_2 + Theta_3).^3 - 1.54575779786016e+30*cos(Theta_2).*cos(Theta_3).^2.*cos(Theta_2 + Theta_3).^2 - 3.78064199426553e+30*cos(Theta_2).*cos(Theta_3).^2.*cos(Theta_2 + Theta_3) + 4.31060384806668e+29*cos(Theta_2).*cos(Theta_3).^2 - 1.5900486463484e+28*cos(Theta_2).*cos(Theta_3).*cos(Theta_2 + Theta_3).^5 + 5.22471967935556e+28*cos(Theta_2).*cos(Theta_3).*cos(Theta_2 + Theta_3).^4 + 2.06324710672498e+29*cos(Theta_2).*cos(Theta_3).*cos(Theta_2 + Theta_3).^3 - 8.91020128362002e+29*cos(Theta_2).*cos(Theta_3).*cos(Theta_2 + Theta_3).^2 + 1.52075297440878e+30*cos(Theta_2).*cos(Theta_3).*cos(Theta_2 + Theta_3) + 6.62898437770632e+30*cos(Theta_2).*cos(Theta_3) - 1914979971869.48*cos(Theta_2).*cos(Theta_2 + Theta_3).^6 - 7.00775987036737e+28*cos(Theta_2).*cos(Theta_2 + Theta_3).^5 - 4.33328623674947e+29*cos(Theta_2).*cos(Theta_2 + Theta_3).^4 + 9.61447783016488e+28*cos(Theta_2).*cos(Theta_2 + Theta_3).^3 + 3.50166858557136e+30*cos(Theta_2).*cos(Theta_2 + Theta_3).^2 + 9.88935462408713e+29*cos(Theta_2).*cos(Theta_2 + Theta_3) - 6.9807212412925e+30*cos(Theta_2) + 0.0414182833558749*cos(Theta_3).^7 - 0.0712394473721048*cos(Theta_3).^6.*cos(Theta_2 + Theta_3) - 165843779766439.0*cos(Theta_3).^6 - 14679941090260.8*cos(Theta_3).^5.*cos(Theta_2 + Theta_3).^2 + 237709417665230.0*cos(Theta_3).^5.*cos(Theta_2 + Theta_3) + 1.66014601878219e+29*cos(Theta_3).^5 + 25249498675248.6*cos(Theta_3).^4.*cos(Theta_2 + Theta_3).^3 + 2.93901233935638e+28*cos(Theta_3).^4.*cos(Theta_2 + Theta_3).^2 - 1.90363410153691e+29*cos(Theta_3).^4.*cos(Theta_2 + Theta_3) - 1.10005951016401e+30*cos(Theta_3).^4 - 14441148587914.8*cos(Theta_3).^3.*cos(Theta_2 + Theta_3).^4 - 3.370067482462e+28*cos(Theta_3).^3.*cos(Theta_2 + Theta_3).^3 + 4.51741668507492e+28*cos(Theta_3).^3.*cos(Theta_2 + Theta_3).^2 + 8.11479213840119e+29*cos(Theta_3).^3.*cos(Theta_2 + Theta_3) + 1.83435002582608e+30*cos(Theta_3).^3 + 3704443832897.66*cos(Theta_3).^2.*cos(Theta_2 + Theta_3).^5 + 3.25919834929226e+28*cos(Theta_3).^2.*cos(Theta_2 + Theta_3).^4 - 6.8876411662742e+28*cos(Theta_3).^2.*cos(Theta_2 + Theta_3).^3 - 9.01070178808827e+29*cos(Theta_3).^2.*cos(Theta_2 + Theta_3).^2 - 1.85463566537052e+29*cos(Theta_3).^2.*cos(Theta_2 + Theta_3) + 2.10503754804919e+30*cos(Theta_3).^2 - 1028302512235.38*cos(Theta_3).*cos(Theta_2 + Theta_3).^6 - 2.62943548050896e+28*cos(Theta_3).*cos(Theta_2 + Theta_3).^5 - 6.58171089112003e+28*cos(Theta_3).*cos(Theta_2 + Theta_3).^4 + 7.5159054871448e+29*cos(Theta_3).*cos(Theta_2 + Theta_3).^3 + 2.18296650503942e+30*cos(Theta_3).*cos(Theta_2 + Theta_3).^2 - 2.85211800606355e+30*cos(Theta_3).*cos(Theta_2 + Theta_3) - 8.49803211733198e+30*cos(Theta_3) + 274639801404.481*cos(Theta_2 + Theta_3).^7 + 7.53771504412567e+27*cos(Theta_2 + Theta_3).^6 + 6.21464918156732e+28*cos(Theta_2 + Theta_3).^5 + 1.32720409311891e+28*cos(Theta_2 + Theta_3).^4 - 9.46688592032348e+29*cos(Theta_2 + Theta_3).^3 - 1.58701286505947e+30*cos(Theta_2 + Theta_3).^2 + 3.00345265777948e+30*cos(Theta_2 + Theta_3) + 6.19067067814265e+30) - (30215.5608276291*Omega_1.*Omega_2.*sin(Theta_2) - 13000.2335485376*Omega_1.*Omega_2.*sin(Theta_2 + Theta_3) + 22674.8259567517*Omega_1.*Omega_3.*sin(Theta_3) - 13000.2335485376*Omega_1.*Omega_3.*sin(Theta_2 + Theta_3) + Omega_1.*c + 15107.7804138146*Omega_2.^2.*sin(Theta_2) - 6500.11677426882*Omega_2.^2.*sin(Theta_2 + Theta_3) + 22674.8259567517*Omega_2.*Omega_3.*sin(Theta_3) - 13000.2335485376*Omega_2.*Omega_3.*sin(Theta_2 + Theta_3) + 11337.4129783759*Omega_3.^2.*sin(Theta_3) - 6500.11677426882*Omega_3.^2.*sin(Theta_2 + Theta_3) + 68698.5109795006*Theta_1 + 0.982*p_1.*sin(Theta_1).*cos(Theta_1 + Theta_2) - 0.982*p_1.*sin(Theta_1 + Theta_2).*cos(Theta_1) + 0.982*p_2.*sin(Theta_1 + Theta_2).*cos(Theta_1 + Theta_2 + Theta_3) - 0.982*p_2.*sin(Theta_1 + Theta_2 + Theta_3).*cos(Theta_1 + Theta_2) - tau - 101.30631*sin(Theta_1).^2.*cos(Theta_1 + Theta_2) + 101.30631*sin(Theta_1 + Theta_2).^2.*cos(Theta_1 + Theta_2 + Theta_3) + 49186.4226431238*cos(Theta_1) + 25.3265775*cos(Theta_1 - Theta_2) - 68912.5593108276*cos(Theta_1 + Theta_2) - 25.3265775*cos(3*Theta_1 + Theta_2) - 25.3265775*cos(Theta_1 + Theta_2 - Theta_3) + 29649.6024210485*cos(Theta_1 + Theta_2 + Theta_3) + 25.3265775*cos(3*Theta_1 + 3*Theta_2 + Theta_3) - 107695.545965473).*(3716613057.04317*cos(Theta_2).^5 + 2.67849339693435e+25*cos(Theta_2).^4.*cos(Theta_3).^2 + 521910192.908418*cos(Theta_2).^4.*cos(Theta_3).*cos(Theta_2 + Theta_3) + 17179869184.0*cos(Theta_2).^4.*cos(Theta_3) - 5629642798.11594*cos(Theta_2).^4.*cos(Theta_2 + Theta_3) - 9.41414039475809e+25*cos(Theta_2).^4 + 4.02007243540948e+25*cos(Theta_2).^3.*cos(Theta_3).^3 - 4.60968305926954e+25*cos(Theta_2).^3.*cos(Theta_3).^2.*cos(Theta_2 + Theta_3) - 9.5014082131892e+25*cos(Theta_2).^3.*cos(Theta_3).^2 - 507550764.563672*cos(Theta_2).^3.*cos(Theta_3).*cos(Theta_2 + Theta_3).^2 - 25769803776.0*cos(Theta_2).^3.*cos(Theta_3).*cos(Theta_2 + Theta_3) - 1.41294081020912e+26*cos(Theta_2).^3.*cos(Theta_3) + 2891312930.21851*cos(Theta_2).^3.*cos(Theta_2 + Theta_3).^2 + 1.62017212903979e+26*cos(Theta_2).^3.*cos(Theta_2 + Theta_3) + 3.33947401062281e+26*cos(Theta_2).^3 + 1.50840229851192e+25*cos(Theta_2).^2.*cos(Theta_3).^4 - 5.188903906881e+25*cos(Theta_2).^2.*cos(Theta_3).^3.*cos(Theta_2 + Theta_3) - 4.32942934076525e+25*cos(Theta_2).^2.*cos(Theta_3).^3 + 2.97497157327844e+25*cos(Theta_2).^2.*cos(Theta_3).^2.*cos(Theta_2 + Theta_3).^2 + 1.22639318048176e+26*cos(Theta_2).^2.*cos(Theta_3).^2.*cos(Theta_2 + Theta_3) - 2.19501249178084e+25*cos(Theta_2).^2.*cos(Theta_3).^2 + 121760256.233692*cos(Theta_2).^2.*cos(Theta_3).*cos(Theta_2 + Theta_3).^3 + 8589934592.0*cos(Theta_2).^2.*cos(Theta_3).*cos(Theta_2 + Theta_3).^2 + 1.82375173783129e+26*cos(Theta_2).^2.*cos(Theta_3).*cos(Theta_2 + Theta_3) + 1.52167093970805e+26*cos(Theta_2).^2.*cos(Theta_3) - 1.49011611938477e-8*cos(Theta_2).^2.*cos(Theta_2 + Theta_3).^4 - 497868122.911836*cos(Theta_2).^2.*cos(Theta_2 + Theta_3).^3 - 1.04561766302327e+26*cos(Theta_2).^2.*cos(Theta_2 + Theta_3).^2 - 4.31042226702645e+26*cos(Theta_2).^2.*cos(Theta_2 + Theta_3) - 1.09187827740999e+26*cos(Theta_2).^2 - 28874475300.7394*cos(Theta_2).*cos(Theta_3).^5 - 1.29797902992255e+25*cos(Theta_2).*cos(Theta_3).^4.*cos(Theta_2 + Theta_3) + 4.20358416219077e+25*cos(Theta_2).*cos(Theta_3).^4 + 2.23252393146679e+25*cos(Theta_2).*cos(Theta_3).^3.*cos(Theta_2 + Theta_3).^2 + 3.72547065288121e+25*cos(Theta_2).*cos(Theta_3).^3.*cos(Theta_2 + Theta_3) - 1.79189959272707e+26*cos(Theta_2).*cos(Theta_3).^3 - 8.53320258249529e+24*cos(Theta_2).*cos(Theta_3).^2.*cos(Theta_2 + Theta_3).^3 - 5.27655199238204e+25*cos(Theta_2).*cos(Theta_3).^2.*cos(Theta_2 + Theta_3).^2 + 1.88880657869605e+25*cos(Theta_2).*cos(Theta_3).^2.*cos(Theta_2 + Theta_3) + 4.09538634724571e+25*cos(Theta_2).*cos(Theta_3).^2 - 342566291.476068*cos(Theta_2).*cos(Theta_3).*cos(Theta_2 + Theta_3).^4 - 3221225472.0*cos(Theta_2).*cos(Theta_3).*cos(Theta_2 + Theta_3).^3 - 7.84668491232452e+25*cos(Theta_2).*cos(Theta_3).*cos(Theta_2 + Theta_3).^2 - 1.30939668557392e+26*cos(Theta_2).*cos(Theta_3).*cos(Theta_2 + Theta_3) + 6.29801602593084e+26*cos(Theta_2).*cos(Theta_3) + 650635493.587801*cos(Theta_2).*cos(Theta_2 + Theta_3).^4 + 2.99917734426626e+25*cos(Theta_2).*cos(Theta_2 + Theta_3).^3 + 1.85455754019701e+26*cos(Theta_2).*cos(Theta_2 + Theta_3).^2 + 9.39560426753705e+25*cos(Theta_2).*cos(Theta_2 + Theta_3) - 6.63219156136074e+26*cos(Theta_2) - 7878181055.02445*cos(Theta_3).^6 + 9033647609.76137*cos(Theta_3).^5.*cos(Theta_2 + Theta_3) + 1.5772591449813e+25*cos(Theta_3).^5 + 2.79227491860219e+24*cos(Theta_3).^4.*cos(Theta_2 + Theta_3).^2 - 1.80859048624523e+25*cos(Theta_3).^4.*cos(Theta_2 + Theta_3) - 1.04513633306944e+26*cos(Theta_3).^4 - 3.20180857333051e+24*cos(Theta_3).^3.*cos(Theta_2 + Theta_3).^3 - 8.01441165397674e+24*cos(Theta_3).^3.*cos(Theta_2 + Theta_3).^2 + 7.70964117921662e+25*cos(Theta_3).^3.*cos(Theta_2 + Theta_3) + 1.742765588447e+26*cos(Theta_3).^3 + 9.17851791021412e+23*cos(Theta_3).^2.*cos(Theta_2 + Theta_3).^4 + 7.56744828967326e+24*cos(Theta_3).^2.*cos(Theta_2 + Theta_3).^3 - 4.06329155880011e+24*cos(Theta_3).^2.*cos(Theta_2 + Theta_3).^2 - 1.76203841753628e+25*cos(Theta_3).^2.*cos(Theta_2 + Theta_3) + 1.99993837025563e+26*cos(Theta_3).^2 + 147389016.555108*cos(Theta_3).*cos(Theta_2 + Theta_3).^5 + 2147483648.0*cos(Theta_3).*cos(Theta_2 + Theta_3).^4 + 1.12534439924222e+25*cos(Theta_3).*cos(Theta_2 + Theta_3).^3 + 2.81683712859911e+25*cos(Theta_3).*cos(Theta_2 + Theta_3).^2 - 2.70971899865141e+26*cos(Theta_3).*cos(Theta_2 + Theta_3) - 8.07374695946266e+26*cos(Theta_3) - 279935673.537958*cos(Theta_2 + Theta_3).^5 - 3.22598727782771e+24*cos(Theta_2 + Theta_3).^4 - 2.65974225326052e+25*cos(Theta_2 + Theta_3).^3 - 2.02122758045797e+25*cos(Theta_2 + Theta_3).^2 + 2.85349789561048e+26*cos(Theta_2 + Theta_3) + 5.88158621603104e+26)./(8.60060945478935e+29*cos(Theta_2).^6 - 137931031166431.0*cos(Theta_2).^5.*cos(Theta_3).^2 - 4.64011166259112e+29*cos(Theta_2).^5.*cos(Theta_3).*cos(Theta_2 + Theta_3) + 1.29084032973512e+30*cos(Theta_2).^5.*cos(Theta_3) - 13793103116643.1*cos(Theta_2).^5.*cos(Theta_2 + Theta_3).^2 - 1.48016357809627e+30*cos(Theta_2).^5.*cos(Theta_2 + Theta_3) - 3.05089052695436e+30*cos(Theta_2).^5 - 209182782042047.0*cos(Theta_2).^4.*cos(Theta_3).^3 - 6.96420794367251e+29*cos(Theta_2).^4.*cos(Theta_3).^2.*cos(Theta_2 + Theta_3) + 7.66271274625817e+29*cos(Theta_2).^4.*cos(Theta_3).^2 + 7.98562510874448e+29*cos(Theta_2).^4.*cos(Theta_3).*cos(Theta_2 + Theta_3).^2 - 2.01658492447337e+28*cos(Theta_2).^4.*cos(Theta_3).*cos(Theta_2 + Theta_3) - 1.39017445272203e+30*cos(Theta_2).^4.*cos(Theta_3) + 17803432102255.6*cos(Theta_2).^4.*cos(Theta_2 + Theta_3).^3 + 1.17522682767921e+30*cos(Theta_2).^4.*cos(Theta_2 + Theta_3).^2 + 3.9379334649146e+30*cos(Theta_2).^4.*cos(Theta_2 + Theta_3) + 6.63620374657862e+27*cos(Theta_2).^4 - 184976306608167.0*cos(Theta_2).^3.*cos(Theta_3).^4 - 2.61309402711808e+29*cos(Theta_2).^3.*cos(Theta_3).^3.*cos(Theta_2 + Theta_3) + 4.23133209916506e+29*cos(Theta_2).^3.*cos(Theta_3).^3 + 8.98904345328622e+29*cos(Theta_2).^3.*cos(Theta_3).^2.*cos(Theta_2 + Theta_3).^2 - 1.51959711598111e+29*cos(Theta_2).^3.*cos(Theta_3).^2.*cos(Theta_2 + Theta_3) + 3.49693850696665e+29*cos(Theta_2).^3.*cos(Theta_3).^2 - 5.15371824655077e+29*cos(Theta_2).^3.*cos(Theta_3).*cos(Theta_2 + Theta_3).^3 - 1.07755015225116e+30*cos(Theta_2).^3.*cos(Theta_3).*cos(Theta_2 + Theta_3).^2 + 6.58070957633736e+29*cos(Theta_2).^3.*cos(Theta_3).*cos(Theta_2 + Theta_3) - 7.24096017756792e+30*cos(Theta_2).^3.*cos(Theta_3) - 11108195666638.7*cos(Theta_2).^3.*cos(Theta_2 + Theta_3).^4 - 6.5256313859888e+29*cos(Theta_2).^3.*cos(Theta_2 + Theta_3).^3 - 2.47458274305283e+30*cos(Theta_2).^3.*cos(Theta_2 + Theta_3).^2 + 8.46946617727849e+29*cos(Theta_2).^3.*cos(Theta_2 + Theta_3) + 9.57403249804565e+30*cos(Theta_2).^3 - 79301850742024.6*cos(Theta_2).^2.*cos(Theta_3).^5 + 795780674166642.0*cos(Theta_2).^2.*cos(Theta_3).^4.*cos(Theta_2 + Theta_3) + 1.58767066183416e+29*cos(Theta_2).^2.*cos(Theta_3).^4 + 2.24856542167908e+29*cos(Theta_2).^2.*cos(Theta_3).^3.*cos(Theta_2 + Theta_3).^2 - 1.27437031789889e+30*cos(Theta_2).^2.*cos(Theta_3).^3.*cos(Theta_2 + Theta_3) + 5.07613691045112e+28*cos(Theta_2).^2.*cos(Theta_3).^3 - 3.86753252528802e+29*cos(Theta_2).^2.*cos(Theta_3).^2.*cos(Theta_2 + Theta_3).^3 - 1.18719404900806e+29*cos(Theta_2).^2.*cos(Theta_3).^2.*cos(Theta_2 + Theta_3).^2 + 3.81431850183081e+30*cos(Theta_2).^2.*cos(Theta_3).^2.*cos(Theta_2 + Theta_3) - 3.5869562554189e+30*cos(Theta_2).^2.*cos(Theta_3).^2 + 1.47825687633231e+29*cos(Theta_2).^2.*cos(Theta_3).*cos(Theta_2 + Theta_3).^4 + 3.85147797031254e+29*cos(Theta_2).^2.*cos(Theta_3).*cos(Theta_2 + Theta_3).^3 - 1.4979188104397e+29*cos(Theta_2).^2.*cos(Theta_3).*cos(Theta_2 + Theta_3).^2 + 1.12622443129454e+30*cos(Theta_2).^2.*cos(Theta_3).*cos(Theta_2 + Theta_3) + 8.97768384308939e+30*cos(Theta_2).^2.*cos(Theta_3) + 5549417231181.82*cos(Theta_2).^2.*cos(Theta_2 + Theta_3).^5 + 2.73787020776404e+29*cos(Theta_2).^2.*cos(Theta_2 + Theta_3).^4 + 1.25014615723435e+30*cos(Theta_2).^2.*cos(Theta_2 + Theta_3).^3 - 6.60786000796847e+29*cos(Theta_2).^2.*cos(Theta_2 + Theta_3).^2 - 7.14385061603073e+30*cos(Theta_2).^2.*cos(Theta_2 + Theta_3) - 6.52258174664405e+30*cos(Theta_2).^2 + 0.13802890479198*cos(Theta_2).*cos(Theta_3).^6 + 204717546636083.0*cos(Theta_2).*cos(Theta_3).^5.*cos(Theta_2 + Theta_3) - 497338902924683.0*cos(Theta_2).*cos(Theta_3).^5 - 308108424601980.0*cos(Theta_2).*cos(Theta_3).^4.*cos(Theta_2 + Theta_3).^2 - 4.09856818870605e+29*cos(Theta_2).*cos(Theta_3).^4.*cos(Theta_2 + Theta_3) + 4.42448758891779e+29*cos(Theta_2).*cos(Theta_3).^4 - 4.83722208529461e+28*cos(Theta_2).*cos(Theta_3).^3.*cos(Theta_2 + Theta_3).^3 + 5.48297344355786e+29*cos(Theta_2).*cos(Theta_3).^3.*cos(Theta_2 + Theta_3).^2 + 2.20267600921583e+30*cos(Theta_2).*cos(Theta_3).^3.*cos(Theta_2 + Theta_3) - 1.8860660813975e+30*cos(Theta_2).*cos(Theta_3).^3 + 5.54668132447116e+28*cos(Theta_2).*cos(Theta_3).^2.*cos(Theta_2 + Theta_3).^4 - 5.75724682377442e+28*cos(Theta_2).*cos(Theta_3).^2.*cos(Theta_2 + Theta_3).^3 - 1.54575779786016e+30*cos(Theta_2).*cos(Theta_3).^2.*cos(Theta_2 + Theta_3).^2 - 3.78064199426553e+30*cos(Theta_2).*cos(Theta_3).^2.*cos(Theta_2 + Theta_3) + 4.31060384806668e+29*cos(Theta_2).*cos(Theta_3).^2 - 1.5900486463484e+28*cos(Theta_2).*cos(Theta_3).*cos(Theta_2 + Theta_3).^5 + 5.22471967935556e+28*cos(Theta_2).*cos(Theta_3).*cos(Theta_2 + Theta_3).^4 + 2.06324710672498e+29*cos(Theta_2).*cos(Theta_3).*cos(Theta_2 + Theta_3).^3 - 8.91020128362002e+29*cos(Theta_2).*cos(Theta_3).*cos(Theta_2 + Theta_3).^2 + 1.52075297440878e+30*cos(Theta_2).*cos(Theta_3).*cos(Theta_2 + Theta_3) + 6.62898437770632e+30*cos(Theta_2).*cos(Theta_3) - 1914979971869.48*cos(Theta_2).*cos(Theta_2 + Theta_3).^6 - 7.00775987036737e+28*cos(Theta_2).*cos(Theta_2 + Theta_3).^5 - 4.33328623674947e+29*cos(Theta_2).*cos(Theta_2 + Theta_3).^4 + 9.61447783016488e+28*cos(Theta_2).*cos(Theta_2 + Theta_3).^3 + 3.50166858557136e+30*cos(Theta_2).*cos(Theta_2 + Theta_3).^2 + 9.88935462408713e+29*cos(Theta_2).*cos(Theta_2 + Theta_3) - 6.9807212412925e+30*cos(Theta_2) + 0.0414182833558749*cos(Theta_3).^7 - 0.0712394473721048*cos(Theta_3).^6.*cos(Theta_2 + Theta_3) - 165843779766439.0*cos(Theta_3).^6 - 14679941090260.8*cos(Theta_3).^5.*cos(Theta_2 + Theta_3).^2 + 237709417665230.0*cos(Theta_3).^5.*cos(Theta_2 + Theta_3) + 1.66014601878219e+29*cos(Theta_3).^5 + 25249498675248.6*cos(Theta_3).^4.*cos(Theta_2 + Theta_3).^3 + 2.93901233935638e+28*cos(Theta_3).^4.*cos(Theta_2 + Theta_3).^2 - 1.90363410153691e+29*cos(Theta_3).^4.*cos(Theta_2 + Theta_3) - 1.10005951016401e+30*cos(Theta_3).^4 - 14441148587914.8*cos(Theta_3).^3.*cos(Theta_2 + Theta_3).^4 - 3.370067482462e+28*cos(Theta_3).^3.*cos(Theta_2 + Theta_3).^3 + 4.51741668507492e+28*cos(Theta_3).^3.*cos(Theta_2 + Theta_3).^2 + 8.11479213840119e+29*cos(Theta_3).^3.*cos(Theta_2 + Theta_3) + 1.83435002582608e+30*cos(Theta_3).^3 + 3704443832897.66*cos(Theta_3).^2.*cos(Theta_2 + Theta_3).^5 + 3.25919834929226e+28*cos(Theta_3).^2.*cos(Theta_2 + Theta_3).^4 - 6.8876411662742e+28*cos(Theta_3).^2.*cos(Theta_2 + Theta_3).^3 - 9.01070178808827e+29*cos(Theta_3).^2.*cos(Theta_2 + Theta_3).^2 - 1.85463566537052e+29*cos(Theta_3).^2.*cos(Theta_2 + Theta_3) + 2.10503754804919e+30*cos(Theta_3).^2 - 1028302512235.38*cos(Theta_3).*cos(Theta_2 + Theta_3).^6 - 2.62943548050896e+28*cos(Theta_3).*cos(Theta_2 + Theta_3).^5 - 6.58171089112003e+28*cos(Theta_3).*cos(Theta_2 + Theta_3).^4 + 7.5159054871448e+29*cos(Theta_3).*cos(Theta_2 + Theta_3).^3 + 2.18296650503942e+30*cos(Theta_3).*cos(Theta_2 + Theta_3).^2 - 2.85211800606355e+30*cos(Theta_3).*cos(Theta_2 + Theta_3) - 8.49803211733198e+30*cos(Theta_3) + 274639801404.481*cos(Theta_2 + Theta_3).^7 + 7.53771504412567e+27*cos(Theta_2 + Theta_3).^6 + 6.21464918156732e+28*cos(Theta_2 + Theta_3).^5 + 1.32720409311891e+28*cos(Theta_2 + Theta_3).^4 - 9.46688592032348e+29*cos(Theta_2 + Theta_3).^3 - 1.58701286505947e+30*cos(Theta_2 + Theta_3).^2 + 3.00345265777948e+30*cos(Theta_2 + Theta_3) + 6.19067067814265e+30);\n",
            "    dy(5) = -(-11337.4129783759*Omega_1.^2.*sin(Theta_3) + 6500.11677426882*Omega_1.^2.*sin(Theta_2 + Theta_3) - 22674.8259567517*Omega_1.*Omega_2.*sin(Theta_3) - 11337.4129783759*Omega_2.^2.*sin(Theta_3) + Omega_3.*c + 66959.9455745775*Theta_3 + 0.982*p_2.*sin(Theta_1 + Theta_2).*cos(Theta_1 + Theta_2 + Theta_3) - 0.982*p_2.*sin(Theta_1 + Theta_2 + Theta_3).*cos(Theta_1 + Theta_2) + 101.30631*sin(Theta_1 + Theta_2).^2.*cos(Theta_1 + Theta_2 + Theta_3) - 25.3265775*cos(Theta_1 + Theta_2 - Theta_3) + 29649.6024210485*cos(Theta_1 + Theta_2 + Theta_3) + 25.3265775*cos(3*Theta_1 + 3*Theta_2 + Theta_3) - 126216.523861119).*(-1.18126304565385e+21*cos(Theta_2).^4.*cos(Theta_3) - 6.77257479508209e+20*cos(Theta_2).^4.*cos(Theta_2 + Theta_3) + 1.88407377178455e+21*cos(Theta_2).^4 - 8.86461585874368e+20*cos(Theta_2).^3.*cos(Theta_3).^2 + 5.08237975901305e+20*cos(Theta_2).^3.*cos(Theta_3).*cos(Theta_2 + Theta_3) + 4.33200012986064e+21*cos(Theta_2).^3.*cos(Theta_3) + 1.16555909140033e+21*cos(Theta_2).^3.*cos(Theta_2 + Theta_3).^2 - 1.10681002436301e+20*cos(Theta_2).^3.*cos(Theta_2 + Theta_3) - 4.65430783426078e+21*cos(Theta_2).^3 + 1079944.59005953*cos(Theta_2).^2.*cos(Theta_3).^3 + 3.81399760008298e+20*cos(Theta_2).^2.*cos(Theta_3).^2.*cos(Theta_2 + Theta_3) - 6.17593178962957e+20*cos(Theta_2).^2.*cos(Theta_3).^2 + 6.56007587214271e+20*cos(Theta_2).^2.*cos(Theta_3).*cos(Theta_2 + Theta_3).^2 - 3.04804367786691e+21*cos(Theta_2).^2.*cos(Theta_3).*cos(Theta_2 + Theta_3) + 1.87135044198578e+21*cos(Theta_2).^2.*cos(Theta_3) - 7.52222033339031e+20*cos(Theta_2).^2.*cos(Theta_2 + Theta_3).^3 - 1.94975752509251e+21*cos(Theta_2).^2.*cos(Theta_2 + Theta_3).^2 + 3.92838683384976e+21*cos(Theta_2).^2.*cos(Theta_2 + Theta_3) - 1.4136348774609e+21*cos(Theta_2).^2 + 462986.888758523*cos(Theta_2).*cos(Theta_3).^4 + 464645.748935292*cos(Theta_2).*cos(Theta_3).^3.*cos(Theta_2 + Theta_3) - 9.2692754736208e+20*cos(Theta_2).*cos(Theta_3).^3 + 1.64097101614285e+20*cos(Theta_2).*cos(Theta_3).^2.*cos(Theta_2 + Theta_3).^2 - 1.06287692097518e+21*cos(Theta_2).*cos(Theta_3).^2.*cos(Theta_2 + Theta_3) + 6.29026269506563e+21*cos(Theta_2).*cos(Theta_3).^2 - 4.70411691294284e+20*cos(Theta_2).*cos(Theta_3).*cos(Theta_2 + Theta_3).^3 + 2.17088096116613e+20*cos(Theta_2).*cos(Theta_3).*cos(Theta_2 + Theta_3).^2 + 4.69255500032867e+21*cos(Theta_2).*cos(Theta_3).*cos(Theta_2 + Theta_3) - 1.34701189821558e+22*cos(Theta_2).*cos(Theta_3) + 2.15762162406978e+20*cos(Theta_2).*cos(Theta_2 + Theta_3).^4 + 1.13899859544828e+21*cos(Theta_2).*cos(Theta_2 + Theta_3).^3 - 7.95630995939731e+20*cos(Theta_2).*cos(Theta_2 + Theta_3).^2 - 5.00333356076523e+21*cos(Theta_2).*cos(Theta_2 + Theta_3) + 9.2434500296059e+21*cos(Theta_2) + 199199.932713739*cos(Theta_3).^4.*cos(Theta_2 + Theta_3) - 322560.558746046*cos(Theta_3).^4 - 228415.922845088*cos(Theta_3).^3.*cos(Theta_2 + Theta_3).^2 - 3.98810224540378e+20*cos(Theta_3).^3.*cos(Theta_2 + Theta_3) + 6.45785603985337e+20*cos(Theta_3).^3 - 7.06027155277267e+19*cos(Theta_3).^2.*cos(Theta_2 + Theta_3).^3 + 5.71627988507874e+20*cos(Theta_3).^2.*cos(Theta_2 + Theta_3).^2 + 2.20862420197086e+21*cos(Theta_3).^2.*cos(Theta_2 + Theta_3) - 3.78285406311109e+21*cos(Theta_3).^2 + 8.09577804717933e+19*cos(Theta_3).*cos(Theta_2 + Theta_3).^4 + 1.25811218799222e+20*cos(Theta_3).*cos(Theta_2 + Theta_3).^3 - 2.36538454457375e+21*cos(Theta_3).*cos(Theta_2 + Theta_3).^2 - 4.24276622878497e+21*cos(Theta_3).*cos(Theta_2 + Theta_3) + 7.289613705018e+21*cos(Theta_3) - 2.32078970685807e+19*cos(Theta_2 + Theta_3).^5 - 1.84872048191667e+20*cos(Theta_2 + Theta_3).^4 - 1.41874738257259e+19*cos(Theta_2 + Theta_3).^3 + 2.41436700648283e+21*cos(Theta_2 + Theta_3).^2 + 2.82344312339923e+21*cos(Theta_2 + Theta_3) - 4.62367041763029e+21)./(-2.84641728275484e+25*cos(Theta_2).^5 + 4564900580.64078*cos(Theta_2).^4.*cos(Theta_3).^2 + 1.5356695475757e+25*cos(Theta_2).^4.*cos(Theta_3).*cos(Theta_2 + Theta_3) - 2.13605224324477e+25*cos(Theta_2).^4.*cos(Theta_3) + 456490058.064078*cos(Theta_2).^4.*cos(Theta_2 + Theta_3).^2 + 3.67400985838101e+25*cos(Theta_2).^4.*cos(Theta_2 + Theta_3) + 5.04854194889645e+25*cos(Theta_2).^4 + 3497352124.91947*cos(Theta_2).^3.*cos(Theta_3).^3 + 1.15242076481738e+25*cos(Theta_2).^3.*cos(Theta_3).^2.*cos(Theta_2 + Theta_3) - 9.33046213284191e+24*cos(Theta_2).^3.*cos(Theta_3).^2 - 1.9821637154859e+25*cos(Theta_2).^3.*cos(Theta_3).*cos(Theta_2 + Theta_3).^2 - 8.85665691412648e+24*cos(Theta_2).^3.*cos(Theta_3).*cos(Theta_2 + Theta_3) - 2.97635298891214e+25*cos(Theta_2).^3.*cos(Theta_3) - 392809347.559224*cos(Theta_2).^3.*cos(Theta_2 + Theta_3).^3 - 2.30873413031441e+25*cos(Theta_2).^3.*cos(Theta_2 + Theta_3).^2 - 4.34426650490824e+25*cos(Theta_2).^3.*cos(Theta_2 + Theta_3) + 8.93237280306429e+25*cos(Theta_2).^3 + 3497352124.91947*cos(Theta_2).^2.*cos(Theta_3).^4 - 21059297835.3804*cos(Theta_2).^2.*cos(Theta_3).^3.*cos(Theta_2 + Theta_3) - 7.00190892253096e+24*cos(Theta_2).^2.*cos(Theta_3).^3 - 9.91657191092813e+24*cos(Theta_2).^2.*cos(Theta_3).^2.*cos(Theta_2 + Theta_3).^2 + 2.81009944757577e+25*cos(Theta_2).^2.*cos(Theta_3).^2.*cos(Theta_2 + Theta_3) - 5.78665166421307e+24*cos(Theta_2).^2.*cos(Theta_3).^2 + 8.5282518433982e+24*cos(Theta_2).^2.*cos(Theta_3).*cos(Theta_2 + Theta_3).^3 + 1.40204734308719e+25*cos(Theta_2).^2.*cos(Theta_3).*cos(Theta_2 + Theta_3).^2 - 1.769263222201e+25*cos(Theta_2).^2.*cos(Theta_3).*cos(Theta_2 + Theta_3) + 1.19821707412208e+26*cos(Theta_2).^2.*cos(Theta_3) + 198625550.674281*cos(Theta_2).^2.*cos(Theta_2 + Theta_3).^4 + 1.16636031233599e+25*cos(Theta_2).^2.*cos(Theta_2 + Theta_3).^3 + 2.22576236050695e+25*cos(Theta_2).^2.*cos(Theta_2 + Theta_3).^2 - 6.66506375080854e+25*cos(Theta_2).^2.*cos(Theta_2 + Theta_3) - 1.58428839905747e+26*cos(Theta_2).^2 - 3.65323936200199e-6*cos(Theta_2).*cos(Theta_3).^5 - 9028406525.65742*cos(Theta_2).*cos(Theta_3).^4.*cos(Theta_2 + Theta_3) + 12187178621.7718*cos(Theta_2).*cos(Theta_3).^4 + 7549126622.75768*cos(Theta_2).*cos(Theta_3).^3.*cos(Theta_2 + Theta_3).^2 + 1.80754118974203e+25*cos(Theta_2).*cos(Theta_3).^3.*cos(Theta_2 + Theta_3) - 9.75638709941306e+24*cos(Theta_2).*cos(Theta_3).^3 + 2.13330064562382e+24*cos(Theta_2).*cos(Theta_3).^2.*cos(Theta_2 + Theta_3).^3 - 1.20904421802745e+25*cos(Theta_2).*cos(Theta_3).^2.*cos(Theta_2 + Theta_3).^2 - 6.56081508903026e+25*cos(Theta_2).*cos(Theta_3).^2.*cos(Theta_2 + Theta_3) + 1.85302871123376e+25*cos(Theta_2).*cos(Theta_3).^2 - 1.22309237015766e+24*cos(Theta_2).*cos(Theta_3).*cos(Theta_2 + Theta_3).^4 - 3.41031877978699e+23*cos(Theta_2).*cos(Theta_3).*cos(Theta_2 + Theta_3).^3 + 5.50966795001893e+24*cos(Theta_2).*cos(Theta_3).*cos(Theta_2 + Theta_3).^2 + 3.29167467904989e+25*cos(Theta_2).*cos(Theta_3).*cos(Theta_2 + Theta_3) + 3.42909181723596e+25*cos(Theta_2).*cos(Theta_3) - 98202336.889806*cos(Theta_2).*cos(Theta_2 + Theta_3).^5 - 4.04286575556694e+24*cos(Theta_2).*cos(Theta_2 + Theta_3).^4 - 1.11107907422604e+25*cos(Theta_2).*cos(Theta_2 + Theta_3).^3 + 3.26698381747576e+25*cos(Theta_2).*cos(Theta_2 + Theta_3).^2 + 5.00508131238759e+25*cos(Theta_2).*cos(Theta_2 + Theta_3) - 6.51286744370491e+25*cos(Theta_2) - 1.82661968100099e-6*cos(Theta_3).^6 + 2.09452390088114e-6*cos(Theta_3).^5.*cos(Theta_2 + Theta_3) + 7314004530.07919*cos(Theta_3).^5 + 647411412.032898*cos(Theta_3).^4.*cos(Theta_2 + Theta_3).^2 - 6290043895.86811*cos(Theta_3).^4.*cos(Theta_2 + Theta_3) - 7.32153808787166e+24*cos(Theta_3).^4 - 742365085.797723*cos(Theta_3).^3.*cos(Theta_2 + Theta_3).^3 - 1.29615651514241e+24*cos(Theta_3).^3.*cos(Theta_2 + Theta_3).^2 + 4.19768183704642e+24*cos(Theta_3).^3.*cos(Theta_2 + Theta_3) + 3.12101782945045e+25*cos(Theta_3).^3 + 211257590.395655*cos(Theta_3).^2.*cos(Theta_2 + Theta_3).^4 + 7.43129735348314e+23*cos(Theta_3).^2.*cos(Theta_2 + Theta_3).^3 - 2.64904516544204e+24*cos(Theta_3).^2.*cos(Theta_2 + Theta_3).^2 - 7.97264897898469e+24*cos(Theta_3).^2.*cos(Theta_2 + Theta_3) - 7.13308594974865e+24*cos(Theta_3).^2 - 42251518.0791309*cos(Theta_3).*cos(Theta_2 + Theta_3).^5 - 1.01130317032063e+24*cos(Theta_3).*cos(Theta_2 + Theta_3).^4 + 3.2751669263769e+24*cos(Theta_3).*cos(Theta_2 + Theta_3).^3 + 2.89068094780122e+25*cos(Theta_3).*cos(Theta_2 + Theta_3).^2 - 1.47536544953631e+25*cos(Theta_3).*cos(Theta_2 + Theta_3) - 1.09694875688767e+26*cos(Theta_3) + 21125759.0395655*cos(Theta_2 + Theta_3).^6 + 5.79813817650496e+23*cos(Theta_2 + Theta_3).^5 + 2.3902067445036e+24*cos(Theta_2 + Theta_3).^4 - 8.8324072789257e+24*cos(Theta_2 + Theta_3).^3 - 3.64104455699889e+25*cos(Theta_2 + Theta_3).^2 + 2.80215873939397e+25*cos(Theta_2 + Theta_3) + 1.15515334650173e+26) - (-15107.7804138146*Omega_1.^2.*sin(Theta_2) + 6500.11677426882*Omega_1.^2.*sin(Theta_2 + Theta_3) + 22674.8259567517*Omega_1.*Omega_3.*sin(Theta_3) + 22674.8259567517*Omega_2.*Omega_3.*sin(Theta_3) + Omega_2.*c + 11337.4129783759*Omega_3.^2.*sin(Theta_3) + 62133.4251488827*Theta_2 + 0.982*p_1.*sin(Theta_1).*cos(Theta_1 + Theta_2) - 0.982*p_1.*sin(Theta_1 + Theta_2).*cos(Theta_1) + 0.982*p_2.*sin(Theta_1 + Theta_2).*cos(Theta_1 + Theta_2 + Theta_3) - 0.982*p_2.*sin(Theta_1 + Theta_2 + Theta_3).*cos(Theta_1 + Theta_2) - 101.30631*sin(Theta_1).^2.*cos(Theta_1 + Theta_2) + 101.30631*sin(Theta_1 + Theta_2).^2.*cos(Theta_1 + Theta_2 + Theta_3) + 25.3265775*cos(Theta_1 - Theta_2) - 68912.5593108276*cos(Theta_1 + Theta_2) - 25.3265775*cos(3*Theta_1 + Theta_2) - 25.3265775*cos(Theta_1 + Theta_2 - Theta_3) + 29649.6024210485*cos(Theta_1 + Theta_2 + Theta_3) + 25.3265775*cos(3*Theta_1 + 3*Theta_2 + Theta_3) - 195197.911990101).*(-3.7681475435691e+21*cos(Theta_2).^4 - 8.86461585874368e+20*cos(Theta_2).^3.*cos(Theta_3).^2 + 1.01647595180261e+21*cos(Theta_2).^3.*cos(Theta_3).*cos(Theta_2 + Theta_3) - 2.82775124437414e+21*cos(Theta_2).^3.*cos(Theta_3) - 2.91389772850081e+20*cos(Theta_2).^3.*cos(Theta_2 + Theta_3).^2 + 4.86373214032353e+21*cos(Theta_2).^3.*cos(Theta_2 + Theta_3) + 1.11116509244178e+22*cos(Theta_2).^3 - 6.65232139549355e+20*cos(Theta_2).^2.*cos(Theta_3).^3 + 1.90699880004149e+21*cos(Theta_2).^2.*cos(Theta_3).^2.*cos(Theta_2 + Theta_3) + 1.57227070306455e+21*cos(Theta_2).^2.*cos(Theta_3).^2 - 1.53068437016663e+21*cos(Theta_2).^2.*cos(Theta_3).*cos(Theta_2 + Theta_3).^2 + 6.30407387585579e+20*cos(Theta_2).^2.*cos(Theta_3).*cos(Theta_2 + Theta_3) - 6.17018140529128e+20*cos(Theta_2).^2.*cos(Theta_3) + 3.76111016669515e+20*cos(Theta_2).^2.*cos(Theta_2 + Theta_3).^3 - 1.57579605286719e+21*cos(Theta_2).^2.*cos(Theta_2 + Theta_3).^2 - 1.14668346968686e+22*cos(Theta_2).^2.*cos(Theta_2 + Theta_3) - 3.70679885097796e+20*cos(Theta_2).^2 + 810428.631863881*cos(Theta_2).*cos(Theta_3).^4 + 5.72431749817273e+20*cos(Theta_2).*cos(Theta_3).^3.*cos(Theta_2 + Theta_3) - 9.26927547362077e+20*cos(Theta_2).*cos(Theta_3).^3 - 1.1486797113e+21*cos(Theta_2).*cos(Theta_3).^2.*cos(Theta_2 + Theta_3).^2 - 2.90060822458814e+20*cos(Theta_2).*cos(Theta_3).^2.*cos(Theta_2 + Theta_3) - 1.196323172607e+21*cos(Theta_2).*cos(Theta_3).^2 + 7.52658706070855e+20*cos(Theta_2).*cos(Theta_3).*cos(Theta_2 + Theta_3).^3 + 7.23218806026526e+20*cos(Theta_2).*cos(Theta_3).*cos(Theta_2 + Theta_3).^2 - 3.18302842654676e+21*cos(Theta_2).*cos(Theta_3).*cos(Theta_2 + Theta_3) + 1.72347958636121e+22*cos(Theta_2).*cos(Theta_3) - 1.61821621805234e+20*cos(Theta_2).*cos(Theta_2 + Theta_3).^4 - 1.44609506714248e+20*cos(Theta_2).*cos(Theta_2 + Theta_3).^3 + 4.27511133420893e+21*cos(Theta_2).*cos(Theta_2 + Theta_3).^2 + 3.53875857957737e+21*cos(Theta_2).*cos(Theta_2 + Theta_3) - 2.20677260129256e+22*cos(Theta_2) + 347441.743105359*cos(Theta_3).^5 - 597599.798141217*cos(Theta_3).^4.*cos(Theta_2 + Theta_3) - 6.95599228849496e+20*cos(Theta_3).^4 - 1.2314427126929e+20*cos(Theta_3).^3.*cos(Theta_2 + Theta_3).^2 + 1.19643067362113e+21*cos(Theta_3).^3.*cos(Theta_2 + Theta_3) + 2.9651933368858e+21*cos(Theta_3).^3 + 2.1180814658318e+20*cos(Theta_3).^2.*cos(Theta_2 + Theta_3).^3 - 3.94903111561457e+20*cos(Theta_3).^2.*cos(Theta_2 + Theta_3).^2 - 4.15754784629842e+21*cos(Theta_3).^2.*cos(Theta_2 + Theta_3) + 3.52310832314291e+20*cos(Theta_3).^2 - 1.2143667070769e+20*cos(Theta_3).*cos(Theta_2 + Theta_3).^4 - 2.02644525565225e+20*cos(Theta_3).*cos(Theta_2 + Theta_3).^3 + 2.45840791536495e+21*cos(Theta_3).*cos(Theta_2 + Theta_3).^2 + 1.58825773732355e+21*cos(Theta_3).*cos(Theta_2 + Theta_3) - 1.48125069428706e+22*cos(Theta_3) + 2.32078970685807e+19*cos(Theta_2 + Theta_3).^5 + 9.56715249109576e+19*cos(Theta_2 + Theta_3).^4 - 6.01678444039689e+20*cos(Theta_2 + Theta_3).^3 - 2.48034081145852e+21*cos(Theta_2 + Theta_3).^2 + 3.783859138513e+21*cos(Theta_2 + Theta_3) + 1.55984651586504e+22)./(-2.84641728275484e+25*cos(Theta_2).^5 + 4564900580.64078*cos(Theta_2).^4.*cos(Theta_3).^2 + 1.5356695475757e+25*cos(Theta_2).^4.*cos(Theta_3).*cos(Theta_2 + Theta_3) - 2.13605224324477e+25*cos(Theta_2).^4.*cos(Theta_3) + 456490058.064078*cos(Theta_2).^4.*cos(Theta_2 + Theta_3).^2 + 3.67400985838101e+25*cos(Theta_2).^4.*cos(Theta_2 + Theta_3) + 5.04854194889645e+25*cos(Theta_2).^4 + 3497352124.91947*cos(Theta_2).^3.*cos(Theta_3).^3 + 1.15242076481738e+25*cos(Theta_2).^3.*cos(Theta_3).^2.*cos(Theta_2 + Theta_3) - 9.33046213284191e+24*cos(Theta_2).^3.*cos(Theta_3).^2 - 1.9821637154859e+25*cos(Theta_2).^3.*cos(Theta_3).*cos(Theta_2 + Theta_3).^2 - 8.85665691412648e+24*cos(Theta_2).^3.*cos(Theta_3).*cos(Theta_2 + Theta_3) - 2.97635298891214e+25*cos(Theta_2).^3.*cos(Theta_3) - 392809347.559224*cos(Theta_2).^3.*cos(Theta_2 + Theta_3).^3 - 2.30873413031441e+25*cos(Theta_2).^3.*cos(Theta_2 + Theta_3).^2 - 4.34426650490824e+25*cos(Theta_2).^3.*cos(Theta_2 + Theta_3) + 8.93237280306429e+25*cos(Theta_2).^3 + 3497352124.91947*cos(Theta_2).^2.*cos(Theta_3).^4 - 21059297835.3804*cos(Theta_2).^2.*cos(Theta_3).^3.*cos(Theta_2 + Theta_3) - 7.00190892253096e+24*cos(Theta_2).^2.*cos(Theta_3).^3 - 9.91657191092813e+24*cos(Theta_2).^2.*cos(Theta_3).^2.*cos(Theta_2 + Theta_3).^2 + 2.81009944757577e+25*cos(Theta_2).^2.*cos(Theta_3).^2.*cos(Theta_2 + Theta_3) - 5.78665166421307e+24*cos(Theta_2).^2.*cos(Theta_3).^2 + 8.5282518433982e+24*cos(Theta_2).^2.*cos(Theta_3).*cos(Theta_2 + Theta_3).^3 + 1.40204734308719e+25*cos(Theta_2).^2.*cos(Theta_3).*cos(Theta_2 + Theta_3).^2 - 1.769263222201e+25*cos(Theta_2).^2.*cos(Theta_3).*cos(Theta_2 + Theta_3) + 1.19821707412208e+26*cos(Theta_2).^2.*cos(Theta_3) + 198625550.674281*cos(Theta_2).^2.*cos(Theta_2 + Theta_3).^4 + 1.16636031233599e+25*cos(Theta_2).^2.*cos(Theta_2 + Theta_3).^3 + 2.22576236050695e+25*cos(Theta_2).^2.*cos(Theta_2 + Theta_3).^2 - 6.66506375080854e+25*cos(Theta_2).^2.*cos(Theta_2 + Theta_3) - 1.58428839905747e+26*cos(Theta_2).^2 - 3.65323936200199e-6*cos(Theta_2).*cos(Theta_3).^5 - 9028406525.65742*cos(Theta_2).*cos(Theta_3).^4.*cos(Theta_2 + Theta_3) + 12187178621.7718*cos(Theta_2).*cos(Theta_3).^4 + 7549126622.75768*cos(Theta_2).*cos(Theta_3).^3.*cos(Theta_2 + Theta_3).^2 + 1.80754118974203e+25*cos(Theta_2).*cos(Theta_3).^3.*cos(Theta_2 + Theta_3) - 9.75638709941306e+24*cos(Theta_2).*cos(Theta_3).^3 + 2.13330064562382e+24*cos(Theta_2).*cos(Theta_3).^2.*cos(Theta_2 + Theta_3).^3 - 1.20904421802745e+25*cos(Theta_2).*cos(Theta_3).^2.*cos(Theta_2 + Theta_3).^2 - 6.56081508903026e+25*cos(Theta_2).*cos(Theta_3).^2.*cos(Theta_2 + Theta_3) + 1.85302871123376e+25*cos(Theta_2).*cos(Theta_3).^2 - 1.22309237015766e+24*cos(Theta_2).*cos(Theta_3).*cos(Theta_2 + Theta_3).^4 - 3.41031877978699e+23*cos(Theta_2).*cos(Theta_3).*cos(Theta_2 + Theta_3).^3 + 5.50966795001893e+24*cos(Theta_2).*cos(Theta_3).*cos(Theta_2 + Theta_3).^2 + 3.29167467904989e+25*cos(Theta_2).*cos(Theta_3).*cos(Theta_2 + Theta_3) + 3.42909181723596e+25*cos(Theta_2).*cos(Theta_3) - 98202336.889806*cos(Theta_2).*cos(Theta_2 + Theta_3).^5 - 4.04286575556694e+24*cos(Theta_2).*cos(Theta_2 + Theta_3).^4 - 1.11107907422604e+25*cos(Theta_2).*cos(Theta_2 + Theta_3).^3 + 3.26698381747576e+25*cos(Theta_2).*cos(Theta_2 + Theta_3).^2 + 5.00508131238759e+25*cos(Theta_2).*cos(Theta_2 + Theta_3) - 6.51286744370491e+25*cos(Theta_2) - 1.82661968100099e-6*cos(Theta_3).^6 + 2.09452390088114e-6*cos(Theta_3).^5.*cos(Theta_2 + Theta_3) + 7314004530.07919*cos(Theta_3).^5 + 647411412.032898*cos(Theta_3).^4.*cos(Theta_2 + Theta_3).^2 - 6290043895.86811*cos(Theta_3).^4.*cos(Theta_2 + Theta_3) - 7.32153808787166e+24*cos(Theta_3).^4 - 742365085.797723*cos(Theta_3).^3.*cos(Theta_2 + Theta_3).^3 - 1.29615651514241e+24*cos(Theta_3).^3.*cos(Theta_2 + Theta_3).^2 + 4.19768183704642e+24*cos(Theta_3).^3.*cos(Theta_2 + Theta_3) + 3.12101782945045e+25*cos(Theta_3).^3 + 211257590.395655*cos(Theta_3).^2.*cos(Theta_2 + Theta_3).^4 + 7.43129735348314e+23*cos(Theta_3).^2.*cos(Theta_2 + Theta_3).^3 - 2.64904516544204e+24*cos(Theta_3).^2.*cos(Theta_2 + Theta_3).^2 - 7.97264897898469e+24*cos(Theta_3).^2.*cos(Theta_2 + Theta_3) - 7.13308594974865e+24*cos(Theta_3).^2 - 42251518.0791309*cos(Theta_3).*cos(Theta_2 + Theta_3).^5 - 1.01130317032063e+24*cos(Theta_3).*cos(Theta_2 + Theta_3).^4 + 3.2751669263769e+24*cos(Theta_3).*cos(Theta_2 + Theta_3).^3 + 2.89068094780122e+25*cos(Theta_3).*cos(Theta_2 + Theta_3).^2 - 1.47536544953631e+25*cos(Theta_3).*cos(Theta_2 + Theta_3) - 1.09694875688767e+26*cos(Theta_3) + 21125759.0395655*cos(Theta_2 + Theta_3).^6 + 5.79813817650496e+23*cos(Theta_2 + Theta_3).^5 + 2.3902067445036e+24*cos(Theta_2 + Theta_3).^4 - 8.8324072789257e+24*cos(Theta_2 + Theta_3).^3 - 3.64104455699889e+25*cos(Theta_2 + Theta_3).^2 + 2.80215873939397e+25*cos(Theta_2 + Theta_3) + 1.15515334650173e+26) - (30215.5608276291*Omega_1.*Omega_2.*sin(Theta_2) - 13000.2335485376*Omega_1.*Omega_2.*sin(Theta_2 + Theta_3) + 22674.8259567517*Omega_1.*Omega_3.*sin(Theta_3) - 13000.2335485376*Omega_1.*Omega_3.*sin(Theta_2 + Theta_3) + Omega_1.*c + 15107.7804138146*Omega_2.^2.*sin(Theta_2) - 6500.11677426882*Omega_2.^2.*sin(Theta_2 + Theta_3) + 22674.8259567517*Omega_2.*Omega_3.*sin(Theta_3) - 13000.2335485376*Omega_2.*Omega_3.*sin(Theta_2 + Theta_3) + 11337.4129783759*Omega_3.^2.*sin(Theta_3) - 6500.11677426882*Omega_3.^2.*sin(Theta_2 + Theta_3) + 68698.5109795006*Theta_1 + 0.982*p_1.*sin(Theta_1).*cos(Theta_1 + Theta_2) - 0.982*p_1.*sin(Theta_1 + Theta_2).*cos(Theta_1) + 0.982*p_2.*sin(Theta_1 + Theta_2).*cos(Theta_1 + Theta_2 + Theta_3) - 0.982*p_2.*sin(Theta_1 + Theta_2 + Theta_3).*cos(Theta_1 + Theta_2) - tau - 101.30631*sin(Theta_1).^2.*cos(Theta_1 + Theta_2) + 101.30631*sin(Theta_1 + Theta_2).^2.*cos(Theta_1 + Theta_2 + Theta_3) + 49186.4226431238*cos(Theta_1) + 25.3265775*cos(Theta_1 - Theta_2) - 68912.5593108276*cos(Theta_1 + Theta_2) - 25.3265775*cos(3*Theta_1 + Theta_2) - 25.3265775*cos(Theta_1 + Theta_2 - Theta_3) + 29649.6024210485*cos(Theta_1 + Theta_2 + Theta_3) + 25.3265775*cos(3*Theta_1 + 3*Theta_2 + Theta_3) - 107695.545965473).*(1.88407377178455e+21*cos(Theta_2).^4 + 8.86461585874368e+20*cos(Theta_2).^3.*cos(Theta_3).^2 - 5.08237975901305e+20*cos(Theta_2).^3.*cos(Theta_3).*cos(Theta_2 + Theta_3) + 1.41387562218707e+21*cos(Theta_2).^3.*cos(Theta_3) - 6240.38092289133*cos(Theta_2).^3.*cos(Theta_2 + Theta_3).^2 - 2.43186607016176e+21*cos(Theta_2).^3.*cos(Theta_2 + Theta_3) - 6.45734309015702e+21*cos(Theta_2).^3 + 6.65232139549355e+20*cos(Theta_2).^2.*cos(Theta_3).^3 - 1.52559904003319e+21*cos(Theta_2).^2.*cos(Theta_3).^2.*cos(Theta_2 + Theta_3) - 1.57227070306455e+21*cos(Theta_2).^2.*cos(Theta_3).^2 + 6.56007587214271e+20*cos(Theta_2).^2.*cos(Theta_3).*cos(Theta_2 + Theta_3).^2 - 3.1520369379279e+20*cos(Theta_2).^2.*cos(Theta_3).*cos(Theta_2 + Theta_3) - 3.68021655982137e+20*cos(Theta_2).^2.*cos(Theta_3) + 2684.92151749982*cos(Theta_2).^2.*cos(Theta_2 + Theta_3).^3 + 1.04630945131949e+21*cos(Theta_2).^2.*cos(Theta_2 + Theta_3).^2 + 6.89705019757864e+21*cos(Theta_2).^2.*cos(Theta_2 + Theta_3) + 1.7843147625587e+21*cos(Theta_2).^2 - 810428.631863881*cos(Theta_2).*cos(Theta_3).^4 - 5.72431749817273e+20*cos(Theta_2).*cos(Theta_3).^3.*cos(Theta_2 + Theta_3) + 9.26927547362077e+20*cos(Theta_2).*cos(Theta_3).^3 + 8.20485508071426e+20*cos(Theta_2).*cos(Theta_3).^2.*cos(Theta_2 + Theta_3).^2 + 8.21499282946406e+20*cos(Theta_2).*cos(Theta_3).^2.*cos(Theta_2 + Theta_3) - 2.8209426096539e+20*cos(Theta_2).*cos(Theta_3).^2 - 2.82247014776571e+20*cos(Theta_2).*cos(Theta_3).*cos(Theta_2 + Theta_3).^3 - 5.13955095019706e+20*cos(Theta_2).*cos(Theta_3).*cos(Theta_2 + Theta_3).^2 + 2.1736683883451e+21*cos(Theta_2).*cos(Theta_3).*cos(Theta_2 + Theta_3) - 9.56006881240985e+21*cos(Theta_2).*cos(Theta_3) - 7553.89020690728*cos(Theta_2).*cos(Theta_2 + Theta_3).^4 - 1.5005808109705e+20*cos(Theta_2).*cos(Theta_2 + Theta_3).^3 - 2.34885838004833e+21*cos(Theta_2).*cos(Theta_2 + Theta_3).^2 - 3.14529590553131e+21*cos(Theta_2).*cos(Theta_2 + Theta_3) + 1.28242759833197e+22*cos(Theta_2) - 347441.743105359*cos(Theta_3).^5 + 398399.865427478*cos(Theta_3).^4.*cos(Theta_2 + Theta_3) + 6.95599228849496e+20*cos(Theta_3).^4 + 1.23144271269291e+20*cos(Theta_3).^3.*cos(Theta_2 + Theta_3).^2 - 7.97620449080755e+20*cos(Theta_3).^3.*cos(Theta_2 + Theta_3) - 2.9651933368858e+21*cos(Theta_3).^3 - 1.41205431055453e+20*cos(Theta_3).^2.*cos(Theta_2 + Theta_3).^3 - 6.23992792448422e+19*cos(Theta_3).^2.*cos(Theta_2 + Theta_3).^2 + 2.45750366648389e+21*cos(Theta_3).^2.*cos(Theta_2 + Theta_3) + 6.77694908694347e+20*cos(Theta_3).^2 + 4.04788902358966e+19*cos(Theta_3).*cos(Theta_2 + Theta_3).^4 + 1.66868938798182e+20*cos(Theta_3).*cos(Theta_2 + Theta_3).^3 - 8.67093765621355e+20*cos(Theta_3).*cos(Theta_2 + Theta_3).^2 - 3.88545080984761e+20*cos(Theta_3).*cos(Theta_2 + Theta_3) + 1.0421808918026e+22*cos(Theta_3) + 3250.05838713441*cos(Theta_2 + Theta_3).^5 + 32768.0*cos(Theta_2 + Theta_3).^4 + 2.48148409471504e+20*cos(Theta_2 + Theta_3).^3 + 1.02295941197137e+21*cos(Theta_2 + Theta_3).^2 - 2.66225407126571e+21*cos(Theta_2 + Theta_3) - 1.09747947410201e+22)./(-2.84641728275484e+25*cos(Theta_2).^5 + 4564900580.64078*cos(Theta_2).^4.*cos(Theta_3).^2 + 1.5356695475757e+25*cos(Theta_2).^4.*cos(Theta_3).*cos(Theta_2 + Theta_3) - 2.13605224324477e+25*cos(Theta_2).^4.*cos(Theta_3) + 456490058.064078*cos(Theta_2).^4.*cos(Theta_2 + Theta_3).^2 + 3.67400985838101e+25*cos(Theta_2).^4.*cos(Theta_2 + Theta_3) + 5.04854194889645e+25*cos(Theta_2).^4 + 3497352124.91947*cos(Theta_2).^3.*cos(Theta_3).^3 + 1.15242076481738e+25*cos(Theta_2).^3.*cos(Theta_3).^2.*cos(Theta_2 + Theta_3) - 9.33046213284191e+24*cos(Theta_2).^3.*cos(Theta_3).^2 - 1.9821637154859e+25*cos(Theta_2).^3.*cos(Theta_3).*cos(Theta_2 + Theta_3).^2 - 8.85665691412648e+24*cos(Theta_2).^3.*cos(Theta_3).*cos(Theta_2 + Theta_3) - 2.97635298891214e+25*cos(Theta_2).^3.*cos(Theta_3) - 392809347.559224*cos(Theta_2).^3.*cos(Theta_2 + Theta_3).^3 - 2.30873413031441e+25*cos(Theta_2).^3.*cos(Theta_2 + Theta_3).^2 - 4.34426650490824e+25*cos(Theta_2).^3.*cos(Theta_2 + Theta_3) + 8.93237280306429e+25*cos(Theta_2).^3 + 3497352124.91947*cos(Theta_2).^2.*cos(Theta_3).^4 - 21059297835.3804*cos(Theta_2).^2.*cos(Theta_3).^3.*cos(Theta_2 + Theta_3) - 7.00190892253096e+24*cos(Theta_2).^2.*cos(Theta_3).^3 - 9.91657191092813e+24*cos(Theta_2).^2.*cos(Theta_3).^2.*cos(Theta_2 + Theta_3).^2 + 2.81009944757577e+25*cos(Theta_2).^2.*cos(Theta_3).^2.*cos(Theta_2 + Theta_3) - 5.78665166421307e+24*cos(Theta_2).^2.*cos(Theta_3).^2 + 8.5282518433982e+24*cos(Theta_2).^2.*cos(Theta_3).*cos(Theta_2 + Theta_3).^3 + 1.40204734308719e+25*cos(Theta_2).^2.*cos(Theta_3).*cos(Theta_2 + Theta_3).^2 - 1.769263222201e+25*cos(Theta_2).^2.*cos(Theta_3).*cos(Theta_2 + Theta_3) + 1.19821707412208e+26*cos(Theta_2).^2.*cos(Theta_3) + 198625550.674281*cos(Theta_2).^2.*cos(Theta_2 + Theta_3).^4 + 1.16636031233599e+25*cos(Theta_2).^2.*cos(Theta_2 + Theta_3).^3 + 2.22576236050695e+25*cos(Theta_2).^2.*cos(Theta_2 + Theta_3).^2 - 6.66506375080854e+25*cos(Theta_2).^2.*cos(Theta_2 + Theta_3) - 1.58428839905747e+26*cos(Theta_2).^2 - 3.65323936200199e-6*cos(Theta_2).*cos(Theta_3).^5 - 9028406525.65742*cos(Theta_2).*cos(Theta_3).^4.*cos(Theta_2 + Theta_3) + 12187178621.7718*cos(Theta_2).*cos(Theta_3).^4 + 7549126622.75768*cos(Theta_2).*cos(Theta_3).^3.*cos(Theta_2 + Theta_3).^2 + 1.80754118974203e+25*cos(Theta_2).*cos(Theta_3).^3.*cos(Theta_2 + Theta_3) - 9.75638709941306e+24*cos(Theta_2).*cos(Theta_3).^3 + 2.13330064562382e+24*cos(Theta_2).*cos(Theta_3).^2.*cos(Theta_2 + Theta_3).^3 - 1.20904421802745e+25*cos(Theta_2).*cos(Theta_3).^2.*cos(Theta_2 + Theta_3).^2 - 6.56081508903026e+25*cos(Theta_2).*cos(Theta_3).^2.*cos(Theta_2 + Theta_3) + 1.85302871123376e+25*cos(Theta_2).*cos(Theta_3).^2 - 1.22309237015766e+24*cos(Theta_2).*cos(Theta_3).*cos(Theta_2 + Theta_3).^4 - 3.41031877978699e+23*cos(Theta_2).*cos(Theta_3).*cos(Theta_2 + Theta_3).^3 + 5.50966795001893e+24*cos(Theta_2).*cos(Theta_3).*cos(Theta_2 + Theta_3).^2 + 3.29167467904989e+25*cos(Theta_2).*cos(Theta_3).*cos(Theta_2 + Theta_3) + 3.42909181723596e+25*cos(Theta_2).*cos(Theta_3) - 98202336.889806*cos(Theta_2).*cos(Theta_2 + Theta_3).^5 - 4.04286575556694e+24*cos(Theta_2).*cos(Theta_2 + Theta_3).^4 - 1.11107907422604e+25*cos(Theta_2).*cos(Theta_2 + Theta_3).^3 + 3.26698381747576e+25*cos(Theta_2).*cos(Theta_2 + Theta_3).^2 + 5.00508131238759e+25*cos(Theta_2).*cos(Theta_2 + Theta_3) - 6.51286744370491e+25*cos(Theta_2) - 1.82661968100099e-6*cos(Theta_3).^6 + 2.09452390088114e-6*cos(Theta_3).^5.*cos(Theta_2 + Theta_3) + 7314004530.07919*cos(Theta_3).^5 + 647411412.032898*cos(Theta_3).^4.*cos(Theta_2 + Theta_3).^2 - 6290043895.86811*cos(Theta_3).^4.*cos(Theta_2 + Theta_3) - 7.32153808787166e+24*cos(Theta_3).^4 - 742365085.797723*cos(Theta_3).^3.*cos(Theta_2 + Theta_3).^3 - 1.29615651514241e+24*cos(Theta_3).^3.*cos(Theta_2 + Theta_3).^2 + 4.19768183704642e+24*cos(Theta_3).^3.*cos(Theta_2 + Theta_3) + 3.12101782945045e+25*cos(Theta_3).^3 + 211257590.395655*cos(Theta_3).^2.*cos(Theta_2 + Theta_3).^4 + 7.43129735348314e+23*cos(Theta_3).^2.*cos(Theta_2 + Theta_3).^3 - 2.64904516544204e+24*cos(Theta_3).^2.*cos(Theta_2 + Theta_3).^2 - 7.97264897898469e+24*cos(Theta_3).^2.*cos(Theta_2 + Theta_3) - 7.13308594974865e+24*cos(Theta_3).^2 - 42251518.0791309*cos(Theta_3).*cos(Theta_2 + Theta_3).^5 - 1.01130317032063e+24*cos(Theta_3).*cos(Theta_2 + Theta_3).^4 + 3.2751669263769e+24*cos(Theta_3).*cos(Theta_2 + Theta_3).^3 + 2.89068094780122e+25*cos(Theta_3).*cos(Theta_2 + Theta_3).^2 - 1.47536544953631e+25*cos(Theta_3).*cos(Theta_2 + Theta_3) - 1.09694875688767e+26*cos(Theta_3) + 21125759.0395655*cos(Theta_2 + Theta_3).^6 + 5.79813817650496e+23*cos(Theta_2 + Theta_3).^5 + 2.3902067445036e+24*cos(Theta_2 + Theta_3).^4 - 8.8324072789257e+24*cos(Theta_2 + Theta_3).^3 - 3.64104455699889e+25*cos(Theta_2 + Theta_3).^2 + 2.80215873939397e+25*cos(Theta_2 + Theta_3) + 1.15515334650173e+26);\n",
            "    dy(6) = -(-11337.4129783759*Omega_1.^2.*sin(Theta_3) + 6500.11677426882*Omega_1.^2.*sin(Theta_2 + Theta_3) - 22674.8259567517*Omega_1.*Omega_2.*sin(Theta_3) - 11337.4129783759*Omega_2.^2.*sin(Theta_3) + Omega_3.*c + 66959.9455745775*Theta_3 + 0.982*p_2.*sin(Theta_1 + Theta_2).*cos(Theta_1 + Theta_2 + Theta_3) - 0.982*p_2.*sin(Theta_1 + Theta_2 + Theta_3).*cos(Theta_1 + Theta_2) + 101.30631*sin(Theta_1 + Theta_2).^2.*cos(Theta_1 + Theta_2 + Theta_3) - 25.3265775*cos(Theta_1 + Theta_2 - Theta_3) + 29649.6024210485*cos(Theta_1 + Theta_2 + Theta_3) + 25.3265775*cos(3*Theta_1 + 3*Theta_2 + Theta_3) - 126216.523861119).*(-6896551558321.54*cos(Theta_2).^3 - 5175416308795.22*cos(Theta_2).^2.*cos(Theta_3) + 8901716051127.78*cos(Theta_2).^2.*cos(Theta_2 + Theta_3) + 12232053977418.3*cos(Theta_2).^2 + 0.00630502543263207*cos(Theta_2).*cos(Theta_3).^2 + 4453441795045.3*cos(Theta_2).*cos(Theta_3).*cos(Theta_2 + Theta_3) - 7211371280015.15*cos(Theta_2).*cos(Theta_3) - 3829959943738.96*cos(Theta_2).*cos(Theta_2 + Theta_3).^2 - 10525673138547.2*cos(Theta_2).*cos(Theta_2 + Theta_3) + 13696543498195.7*cos(Theta_2) + 0.00270304989299198*cos(Theta_3).^3 - 0.0015497486053154*cos(Theta_3).^2.*cos(Theta_2 + Theta_3) - 5411668167163.12*cos(Theta_3).^2 - 958045818852.842*cos(Theta_3).*cos(Theta_2 + Theta_3).^2 + 3102689749173.52*cos(Theta_3).*cos(Theta_2 + Theta_3) + 23068804169392.0*cos(Theta_3) + 549279602808.963*cos(Theta_2 + Theta_3).^3 + 2264333431328.52*cos(Theta_2 + Theta_3).^2 - 5892932628324.16*cos(Theta_2 + Theta_3) - 24292845193310.2)./(-1.24708840092867e+17*cos(Theta_2).^3 + 20.0*cos(Theta_2).^2.*cos(Theta_3).^2 + 6.72816207252485e+16*cos(Theta_2).^2.*cos(Theta_3).*cos(Theta_2 + Theta_3) - 9.35859261559178e+16*cos(Theta_2).^2.*cos(Theta_3) + 2.0*cos(Theta_2).^2.*cos(Theta_2 + Theta_3).^2 + 5.36559309960596e+16*cos(Theta_2).^2.*cos(Theta_2 + Theta_3) + 2.21189568522335e+17*cos(Theta_2).^2 + 15.3227964690024*cos(Theta_2).*cos(Theta_3).^3 + 5.0490508805588e+16*cos(Theta_2).*cos(Theta_3).^2.*cos(Theta_2 + Theta_3) - 4.08791471709652e+16*cos(Theta_2).*cos(Theta_3).^2 - 2.89478917152038e+16*cos(Theta_2).*cos(Theta_3).*cos(Theta_2 + Theta_3).^2 - 1.19333903247107e+17*cos(Theta_2).*cos(Theta_3).*cos(Theta_2 + Theta_3) - 128.0*cos(Theta_2).*cos(Theta_3) - 3.18952307464648e+16*cos(Theta_2).*cos(Theta_2 + Theta_3).^2 + 16.0*cos(Theta_2).*cos(Theta_2 + Theta_3) + 1.43678543738772e+17*cos(Theta_2) + 15.3227964690024*cos(Theta_3).^4 - 17.5701399511227*cos(Theta_3).^3.*cos(Theta_2 + Theta_3) - 3.06771584565293e+16*cos(Theta_3).^3 + 5.0*cos(Theta_3).^2.*cos(Theta_2 + Theta_3).^2 + 1.75882375150768e+16*cos(Theta_3).^2.*cos(Theta_2 + Theta_3) + 7.25052122814508e+16*cos(Theta_3).^2 - 1.0*cos(Theta_3).*cos(Theta_2 + Theta_3).^3 - 2.39353096953016e+16*cos(Theta_3).*cos(Theta_2 + Theta_3).^2 - 40.0*cos(Theta_3).*cos(Theta_2 + Theta_3) + 1.07821462973383e+17*cos(Theta_3) + 0.5*cos(Theta_2 + Theta_3).^4 + 1.37229108919729e+16*cos(Theta_2 + Theta_3).^3 + 5.65709080565363e+16*cos(Theta_2 + Theta_3).^2 - 6.1817638771406e+16*cos(Theta_2 + Theta_3) - 2.54835142976478e+17) - (5175416308795.22*cos(Theta_2).^2.*cos(Theta_3) + 0.000244140625*cos(Theta_2).^2.*cos(Theta_2 + Theta_3) - 8254610318457.73*cos(Theta_2).^2 + 3883815518934.85*cos(Theta_2).*cos(Theta_3).^2 + 0.0009765625*cos(Theta_2).*cos(Theta_3).*cos(Theta_2 + Theta_3) - 15373917763545.9*cos(Theta_2).*cos(Theta_3) - 1355327474624.04*cos(Theta_2).*cos(Theta_2 + Theta_3) + 14640772003813.3*cos(Theta_2) - 0.00135152494649599*cos(Theta_3).^3 + 1671010149161.93*cos(Theta_3).^2.*cos(Theta_2 + Theta_3) + 0.00439453125*cos(Theta_3).^2 - 958045818852.842*cos(Theta_3).*cos(Theta_2 + Theta_3).^2 - 7631707959984.47*cos(Theta_3).*cos(Theta_2 + Theta_3) - 0.005859375*cos(Theta_3) + 2111179132395.9*cos(Theta_2 + Theta_3).^2 + 8703060271236.39*cos(Theta_2 + Theta_3)).*(30215.5608276291*Omega_1.*Omega_2.*sin(Theta_2) - 13000.2335485376*Omega_1.*Omega_2.*sin(Theta_2 + Theta_3) + 22674.8259567517*Omega_1.*Omega_3.*sin(Theta_3) - 13000.2335485376*Omega_1.*Omega_3.*sin(Theta_2 + Theta_3) + Omega_1.*c + 15107.7804138146*Omega_2.^2.*sin(Theta_2) - 6500.11677426882*Omega_2.^2.*sin(Theta_2 + Theta_3) + 22674.8259567517*Omega_2.*Omega_3.*sin(Theta_3) - 13000.2335485376*Omega_2.*Omega_3.*sin(Theta_2 + Theta_3) + 11337.4129783759*Omega_3.^2.*sin(Theta_3) - 6500.11677426882*Omega_3.^2.*sin(Theta_2 + Theta_3) + 68698.5109795006*Theta_1 + 0.982*p_1.*sin(Theta_1).*cos(Theta_1 + Theta_2) - 0.982*p_1.*sin(Theta_1 + Theta_2).*cos(Theta_1) + 0.982*p_2.*sin(Theta_1 + Theta_2).*cos(Theta_1 + Theta_2 + Theta_3) - 0.982*p_2.*sin(Theta_1 + Theta_2 + Theta_3).*cos(Theta_1 + Theta_2) - tau - 101.30631*sin(Theta_1).^2.*cos(Theta_1 + Theta_2) + 101.30631*sin(Theta_1 + Theta_2).^2.*cos(Theta_1 + Theta_2 + Theta_3) + 49186.4226431238*cos(Theta_1) + 25.3265775*cos(Theta_1 - Theta_2) - 68912.5593108276*cos(Theta_1 + Theta_2) - 25.3265775*cos(3*Theta_1 + Theta_2) - 25.3265775*cos(Theta_1 + Theta_2 - Theta_3) + 29649.6024210485*cos(Theta_1 + Theta_2 + Theta_3) + 25.3265775*cos(3*Theta_1 + 3*Theta_2 + Theta_3) - 107695.545965473)./(-1.24708840092867e+17*cos(Theta_2).^3 + 20.0*cos(Theta_2).^2.*cos(Theta_3).^2 + 6.72816207252485e+16*cos(Theta_2).^2.*cos(Theta_3).*cos(Theta_2 + Theta_3) - 9.35859261559178e+16*cos(Theta_2).^2.*cos(Theta_3) + 2.0*cos(Theta_2).^2.*cos(Theta_2 + Theta_3).^2 + 5.36559309960596e+16*cos(Theta_2).^2.*cos(Theta_2 + Theta_3) + 2.21189568522335e+17*cos(Theta_2).^2 + 15.3227964690024*cos(Theta_2).*cos(Theta_3).^3 + 5.0490508805588e+16*cos(Theta_2).*cos(Theta_3).^2.*cos(Theta_2 + Theta_3) - 4.08791471709652e+16*cos(Theta_2).*cos(Theta_3).^2 - 2.89478917152038e+16*cos(Theta_2).*cos(Theta_3).*cos(Theta_2 + Theta_3).^2 - 1.19333903247107e+17*cos(Theta_2).*cos(Theta_3).*cos(Theta_2 + Theta_3) - 128.0*cos(Theta_2).*cos(Theta_3) - 3.18952307464648e+16*cos(Theta_2).*cos(Theta_2 + Theta_3).^2 + 16.0*cos(Theta_2).*cos(Theta_2 + Theta_3) + 1.43678543738772e+17*cos(Theta_2) + 15.3227964690024*cos(Theta_3).^4 - 17.5701399511227*cos(Theta_3).^3.*cos(Theta_2 + Theta_3) - 3.06771584565293e+16*cos(Theta_3).^3 + 5.0*cos(Theta_3).^2.*cos(Theta_2 + Theta_3).^2 + 1.75882375150768e+16*cos(Theta_3).^2.*cos(Theta_2 + Theta_3) + 7.25052122814508e+16*cos(Theta_3).^2 - 1.0*cos(Theta_3).*cos(Theta_2 + Theta_3).^3 - 2.39353096953016e+16*cos(Theta_3).*cos(Theta_2 + Theta_3).^2 - 40.0*cos(Theta_3).*cos(Theta_2 + Theta_3) + 1.07821462973383e+17*cos(Theta_3) + 0.5*cos(Theta_2 + Theta_3).^4 + 1.37229108919729e+16*cos(Theta_2 + Theta_3).^3 + 5.65709080565363e+16*cos(Theta_2 + Theta_3).^2 - 6.1817638771406e+16*cos(Theta_2 + Theta_3) - 2.54835142976478e+17) - (-5175416308795.22*cos(Theta_2).^2.*cos(Theta_3) - 2967238683709.26*cos(Theta_2).^2.*cos(Theta_2 + Theta_3) + 8254610318457.73*cos(Theta_2).^2 - 3883815518934.85*cos(Theta_2).*cos(Theta_3).^2 - 2226720897522.65*cos(Theta_2).*cos(Theta_3).*cos(Theta_2 + Theta_3) + 18979603403553.4*cos(Theta_2).*cos(Theta_3) + 2553306629159.3*cos(Theta_2).*cos(Theta_2 + Theta_3).^2 + 6618164043897.62*cos(Theta_2).*cos(Theta_2 + Theta_3) - 20391716104395.2*cos(Theta_2) - 1671010149161.93*cos(Theta_3).^2.*cos(Theta_2 + Theta_3) + 2705834083581.55*cos(Theta_3).^2 + 1916091637705.68*cos(Theta_3).*cos(Theta_2 + Theta_3).^2 + 6080363085397.71*cos(Theta_3).*cos(Theta_2 + Theta_3) - 10710928590704.8*cos(Theta_3) - 549279602808.963*cos(Theta_2 + Theta_3).^3 - 4375512563724.43*cos(Theta_2 + Theta_3).^2 - 6228718760295.92*cos(Theta_2 + Theta_3) + 10200149750863.9).*(-15107.7804138146*Omega_1.^2.*sin(Theta_2) + 6500.11677426882*Omega_1.^2.*sin(Theta_2 + Theta_3) + 22674.8259567517*Omega_1.*Omega_3.*sin(Theta_3) + 22674.8259567517*Omega_2.*Omega_3.*sin(Theta_3) + Omega_2.*c + 11337.4129783759*Omega_3.^2.*sin(Theta_3) + 62133.4251488827*Theta_2 + 0.982*p_1.*sin(Theta_1).*cos(Theta_1 + Theta_2) - 0.982*p_1.*sin(Theta_1 + Theta_2).*cos(Theta_1) + 0.982*p_2.*sin(Theta_1 + Theta_2).*cos(Theta_1 + Theta_2 + Theta_3) - 0.982*p_2.*sin(Theta_1 + Theta_2 + Theta_3).*cos(Theta_1 + Theta_2) - 101.30631*sin(Theta_1).^2.*cos(Theta_1 + Theta_2) + 101.30631*sin(Theta_1 + Theta_2).^2.*cos(Theta_1 + Theta_2 + Theta_3) + 25.3265775*cos(Theta_1 - Theta_2) - 68912.5593108276*cos(Theta_1 + Theta_2) - 25.3265775*cos(3*Theta_1 + Theta_2) - 25.3265775*cos(Theta_1 + Theta_2 - Theta_3) + 29649.6024210485*cos(Theta_1 + Theta_2 + Theta_3) + 25.3265775*cos(3*Theta_1 + 3*Theta_2 + Theta_3) - 195197.911990101)./(-1.24708840092867e+17*cos(Theta_2).^3 + 20.0*cos(Theta_2).^2.*cos(Theta_3).^2 + 6.72816207252485e+16*cos(Theta_2).^2.*cos(Theta_3).*cos(Theta_2 + Theta_3) - 9.35859261559178e+16*cos(Theta_2).^2.*cos(Theta_3) + 2.0*cos(Theta_2).^2.*cos(Theta_2 + Theta_3).^2 + 5.36559309960596e+16*cos(Theta_2).^2.*cos(Theta_2 + Theta_3) + 2.21189568522335e+17*cos(Theta_2).^2 + 15.3227964690024*cos(Theta_2).*cos(Theta_3).^3 + 5.0490508805588e+16*cos(Theta_2).*cos(Theta_3).^2.*cos(Theta_2 + Theta_3) - 4.08791471709652e+16*cos(Theta_2).*cos(Theta_3).^2 - 2.89478917152038e+16*cos(Theta_2).*cos(Theta_3).*cos(Theta_2 + Theta_3).^2 - 1.19333903247107e+17*cos(Theta_2).*cos(Theta_3).*cos(Theta_2 + Theta_3) - 128.0*cos(Theta_2).*cos(Theta_3) - 3.18952307464648e+16*cos(Theta_2).*cos(Theta_2 + Theta_3).^2 + 16.0*cos(Theta_2).*cos(Theta_2 + Theta_3) + 1.43678543738772e+17*cos(Theta_2) + 15.3227964690024*cos(Theta_3).^4 - 17.5701399511227*cos(Theta_3).^3.*cos(Theta_2 + Theta_3) - 3.06771584565293e+16*cos(Theta_3).^3 + 5.0*cos(Theta_3).^2.*cos(Theta_2 + Theta_3).^2 + 1.75882375150768e+16*cos(Theta_3).^2.*cos(Theta_2 + Theta_3) + 7.25052122814508e+16*cos(Theta_3).^2 - 1.0*cos(Theta_3).*cos(Theta_2 + Theta_3).^3 - 2.39353096953016e+16*cos(Theta_3).*cos(Theta_2 + Theta_3).^2 - 40.0*cos(Theta_3).*cos(Theta_2 + Theta_3) + 1.07821462973383e+17*cos(Theta_3) + 0.5*cos(Theta_2 + Theta_3).^4 + 1.37229108919729e+16*cos(Theta_2 + Theta_3).^3 + 5.65709080565363e+16*cos(Theta_2 + Theta_3).^2 - 6.1817638771406e+16*cos(Theta_2 + Theta_3) - 2.54835142976478e+17);\n"
          ]
        }
      ],
      "source": [
        "i = 1\n",
        "for x in space:\n",
        "  scilab_code = \"    dy(\" + str(i) + \") = \"\n",
        "  scilab_code += sp.octave_code(x.subs(gamma_alias).subs(FUNCTIONS_TO_SYMBOLS_DICT))\n",
        "  scilab_code += \";\"\n",
        "  print(scilab_code.replace(\"pi\", \"%pi\"))\n",
        "  i += 1"
      ]
    },
    {
      "attachments": {},
      "cell_type": "markdown",
      "metadata": {
        "id": "J0KiQUdddH5m"
      },
      "source": [
        "# Solução das Equações Diferenciais"
      ]
    },
    {
      "attachments": {},
      "cell_type": "markdown",
      "metadata": {
        "id": "4sTgqqT6UUU-"
      },
      "source": [
        "### Função para solução numérica da EDO, usando a biblioteca SCILAB"
      ]
    },
    {
      "cell_type": "code",
      "execution_count": 54,
      "metadata": {
        "id": "zXHxKOIAnIeg"
      },
      "outputs": [],
      "source": [
        "def solve_ode(space, duration, size, boundary_conditions, method=\"RK45\"):\n",
        "  state_space = space.subs(FUNCTIONS_TO_SYMBOLS_DICT)\n",
        "\n",
        "  def evaluate_state_space(t, y):\n",
        "    vals = {\n",
        "        \"t\": t,\n",
        "        \"Theta_1\": y[0],\n",
        "        \"Theta_2\": y[1],\n",
        "        \"Theta_3\": y[2],\n",
        "        \"Omega_1\": y[3],\n",
        "        \"Omega_2\": y[4],\n",
        "        \"Omega_3\": y[5],\n",
        "    }\n",
        "\n",
        "    # counter = 1\n",
        "    # for eq in state_space:\n",
        "    #   print(\"EDO \" + str(counter))\n",
        "    #   pprint(eq.subs(vals))\n",
        "    #   pprint(sp.N(sp.re(eq.subs(vals))))\n",
        "    #   counter+=1\n",
        "    return [sp.N(sp.re(eq.subs(vals))) for eq in state_space]\n",
        "\n",
        "  # return odeint(\n",
        "  #     evaluate_state_space,\n",
        "  #     boundary_conditions,\n",
        "  #     np.linspace(0, duration, size))\n",
        "\n",
        "  return solve_ivp(\n",
        "      evaluate_state_space,\n",
        "      [0, duration],\n",
        "      boundary_conditions,\n",
        "      dense_output=True,\n",
        "      method=method)"
      ]
    },
    {
      "attachments": {},
      "cell_type": "markdown",
      "metadata": {
        "id": "EZIqqxoJUe_P"
      },
      "source": [
        "### Solução do subsistema mecânico com Range-Kutta de 5ª ordem"
      ]
    },
    {
      "cell_type": "code",
      "execution_count": 55,
      "metadata": {
        "id": "Sjbj8pYnkcef"
      },
      "outputs": [],
      "source": [
        "duration = 10\n",
        "size = 200"
      ]
    },
    {
      "cell_type": "code",
      "execution_count": 56,
      "metadata": {},
      "outputs": [],
      "source": [
        "result_rk45 = solve_ode(space.subs(inputs_alias).subs(Params), duration, size, y0)"
      ]
    },
    {
      "attachments": {},
      "cell_type": "markdown",
      "metadata": {
        "id": "KQR7nPRTAZEZ"
      },
      "source": [
        "# Gráficos"
      ]
    },
    {
      "attachments": {},
      "cell_type": "markdown",
      "metadata": {
        "id": "StgnSDX8VEBI"
      },
      "source": [
        "### Função para plotagem da simulação, usando a biblioteca MATPLOTLIB"
      ]
    },
    {
      "cell_type": "code",
      "execution_count": 57,
      "metadata": {
        "id": "KjoeyhzsAX-H"
      },
      "outputs": [],
      "source": [
        "def plot(result, duration, size):\n",
        "  t = np.linspace(0, duration, size)\n",
        "  max_length = Params[L_1] + Params[L_2] + Params[L_3]\n",
        "  solution = result.sol(t)\n",
        "  solution = np.mod(solution, 2*np.pi)\n",
        "\n",
        "  plt.plot(t, solution.T)\n",
        "  plt.xlabel('t')\n",
        "  plt.legend([r'$\\theta_1$', r'$\\theta_2$', r'$\\theta_3$', r'$\\omega_1$', r'$\\omega_2$', r'$\\omega_3$'], shadow=True)\n",
        "  plt.title('Guindaste Hidráulico Industrial')\n",
        "  plt.axhline(linewidth=0.5, color='gray')\n",
        "  plt.axvline(linewidth=0.5, color='gray')\n",
        "  plt.show()\n",
        "\n",
        "  pos_J2 = np.array(polar_to_cartesian(Params[L_1] * np.ones(size), solution[0]))\n",
        "  phi = solution[0] + solution[1] - np.pi\n",
        "  pos_J3 = pos_J2 + np.array(polar_to_cartesian(Params[L_2] * np.ones(size), phi))\n",
        "  psi = phi + solution[2] - np.pi\n",
        "  pos_P = pos_J3 + np.array(polar_to_cartesian(Params[L_3] * np.ones(size), psi))\n",
        "\n",
        "  markers_on = [0, int(size / 2 - 1), size-1]\n",
        "  plt.plot(pos_J2[0], pos_J2[1], '-D', markevery=markers_on, color=\"C0\")\n",
        "  plt.plot(pos_J3[0], pos_J3[1], '-D', markevery=markers_on, color=\"C1\")\n",
        "  plt.plot(pos_P[0], pos_P[1], '-D', markevery=markers_on, color=\"C2\")\n",
        "  plt.xlabel('x')\n",
        "  plt.legend([r'$J2$', r'$J3$', r'$P$'], shadow=True)\n",
        "  plt.title('Curva descrita pelos pontos J2, J3 e P')\n",
        "  plt.axhline(linewidth=0.5, color='gray')\n",
        "  plt.axvline(linewidth=0.5, color='gray')\n",
        "  plt.axis('equal')\n",
        "  plt.xlim([-max_length, max_length])\n",
        "  plt.ylim([-max_length, max_length])\n",
        "  for i in markers_on:\n",
        "    plt.annotate(str(i+1), (pos_J2[0][i], pos_J2[1][i]), textcoords=\"offset points\",xytext=(0, 10),ha=\"center\")\n",
        "    plt.annotate(str(i+1), (pos_J3[0][i], pos_J3[1][i]), textcoords=\"offset points\",xytext=(0, 10),ha=\"center\")\n",
        "    plt.annotate(str(i+1), (pos_P[0][i], pos_P[1][i]), textcoords=\"offset points\",xytext=(0, 10),ha=\"center\")\n",
        "  plt.show()\n",
        "\n",
        "  markers_on = [0, int(size / 2 - 1), size-1]\n",
        "  plt.plot(pos_J2[0], pos_J2[1], '-D', markevery=markers_on, color=\"C0\")\n",
        "  plt.xlabel('x')\n",
        "  plt.title('Curva descrita pelo ponto J2 no espaço 2D')\n",
        "  plt.axhline(linewidth=0.5, color='gray')\n",
        "  plt.axvline(linewidth=0.5, color='gray')\n",
        "  plt.axis('equal')\n",
        "  plt.xlim([-max_length, max_length])\n",
        "  plt.ylim([-max_length, max_length])\n",
        "  for i in markers_on:\n",
        "    plt.annotate(str(i+1), (pos_J2[0][i], pos_J2[1][i]), textcoords=\"offset points\",xytext=(0, 10),ha=\"center\")\n",
        "  plt.show()\n",
        "\n",
        "  plt.plot(pos_J3[0], pos_J3[1], '-D', markevery=markers_on, color=\"C1\")\n",
        "  plt.xlabel('x')\n",
        "  plt.title('Curva descrita pelo ponto J3 no espaço 2D')\n",
        "  plt.axhline(linewidth=0.5, color='gray')\n",
        "  plt.axvline(linewidth=0.5, color='gray')\n",
        "  plt.axis('equal')\n",
        "  plt.xlim([-max_length, max_length])\n",
        "  plt.ylim([-max_length, max_length])\n",
        "  for i in markers_on:\n",
        "    plt.annotate(str(i+1), (pos_J3[0][i], pos_J3[1][i]), textcoords=\"offset points\",xytext=(0, 10),ha=\"center\")\n",
        "  plt.show()\n",
        "\n",
        "  plt.plot(pos_P[0], pos_P[1], '-D', markevery=markers_on, color=\"C2\")\n",
        "  plt.xlabel('x')\n",
        "  plt.title('Curva descrita pelo ponto P no espaço 2D')\n",
        "  plt.axhline(linewidth=0.5, color='gray')\n",
        "  plt.axvline(linewidth=0.5, color='gray')\n",
        "  plt.axis('equal')\n",
        "  plt.xlim([-max_length, max_length])\n",
        "  plt.ylim([-max_length, max_length])\n",
        "  for i in markers_on:\n",
        "    plt.annotate(str(i+1), (pos_P[0][i], pos_P[1][i]), textcoords=\"offset points\",xytext=(0, 10),ha=\"center\")\n",
        "  plt.show()\n",
        "\n",
        "  # Animação:\n",
        "  fig, ax = plt.subplots()\n",
        "  line_link_1, = ax.plot([], [], color=\"C0\", linewidth=2)\n",
        "  line_link_2, = ax.plot([], [], color=\"C1\", linewidth=2)\n",
        "  line_link_3, = ax.plot([], [], color=\"C2\", linewidth=2)\n",
        "  line_actuator_1, = ax.plot([], [], color=\"gray\", linewidth=1)\n",
        "  line_actuator_2, = ax.plot([], [], color=\"gray\", linewidth=1)\n",
        "\n",
        "  line_resolution = 10\n",
        "  frame_interval_ms = 1000 * duration / size\n",
        "\n",
        "  pos_J2_T = pos_J2.T\n",
        "  pos_J3_T = pos_J3.T\n",
        "  pos_P_T = pos_P.T\n",
        "  pos_P1_T = np.array(pos_J2 + polar_to_cartesian(np.ones(size) * Params[d_1], phi)).T\n",
        "  pos_P2_T = np.array(pos_J3 + polar_to_cartesian(np.ones(size) * Params[d_2], psi)).T\n",
        "\n",
        "  def init():\n",
        "      ax.set_xlim([-max_length, max_length])\n",
        "      ax.set_ylim([-max_length, max_length])\n",
        "      return (line_link_1, line_link_2)\n",
        "\n",
        "  def update(frame):\n",
        "      line_link_1.set_data(np.linspace(\n",
        "          [0, 0],\n",
        "          pos_J2_T[frame],\n",
        "          line_resolution).T)\n",
        "      line_link_2.set_data(np.linspace(\n",
        "          pos_J2_T[frame],\n",
        "          pos_J3_T[frame],\n",
        "          line_resolution).T)\n",
        "      line_link_3.set_data(np.linspace(\n",
        "          pos_J3_T[frame],\n",
        "          pos_P_T[frame],\n",
        "          line_resolution).T)\n",
        "      line_actuator_1.set_data(np.linspace(\n",
        "          [0, 0],\n",
        "          pos_P1_T[frame],\n",
        "          line_resolution).T)\n",
        "      line_actuator_2.set_data(np.linspace(\n",
        "          pos_J2_T[frame],\n",
        "          pos_P2_T[frame],\n",
        "          line_resolution).T)\n",
        "      return (line_link_1, line_link_2)\n",
        "\n",
        "  anim = FuncAnimation(fig, update, frames=size, init_func=init,\n",
        "                      interval=frame_interval_ms, blit=True)\n",
        "  display(HTML(anim.to_html5_video()))"
      ]
    },
    {
      "attachments": {},
      "cell_type": "markdown",
      "metadata": {
        "id": "sGYmpDtMVPkL"
      },
      "source": [
        "# Simulação do sistema não-linear"
      ]
    },
    {
      "cell_type": "code",
      "execution_count": 58,
      "metadata": {
        "id": "fscS1rBDtWso"
      },
      "outputs": [
        {
          "data": {
            "image/png": "[encoded data removed]",
            "text/plain": [
              "<Figure size 640x480 with 1 Axes>"
            ]
          },
          "metadata": {},
          "output_type": "display_data"
        },
        {
          "data": {
            "image/png": "[encoded data removed]",
            "text/plain": [
              "<Figure size 640x480 with 1 Axes>"
            ]
          },
          "metadata": {},
          "output_type": "display_data"
        },
        {
          "data": {
            "image/png": "[encoded data removed]",
            "text/plain": [
              "<Figure size 640x480 with 1 Axes>"
            ]
          },
          "metadata": {},
          "output_type": "display_data"
        },
        {
          "data": {
            "image/png": "[encoded data removed]",
            "text/plain": [
              "<Figure size 640x480 with 1 Axes>"
            ]
          },
          "metadata": {},
          "output_type": "display_data"
        },
        {
          "data": {
            "image/png": "[encoded data removed]",
            "text/plain": [
              "<Figure size 640x480 with 1 Axes>"
            ]
          },
          "metadata": {},
          "output_type": "display_data"
        },
        {
          "data": {
            "text/html": [
              "<video width=\"640\" height=\"480\" controls autoplay loop>\n",
              "  <source type=\"video/mp4\" src=\"data:video/mp4;base64,AAAAIGZ0eXBNNFYgAAACAE00ViBpc29taXNvMmF2YzEAAAAIZnJlZQABHUFtZGF0AAACoQYF//+d\n",
              "3EXpvebZSLeWLNgg2SPu73gyNjQgLSBjb3JlIDE2MSAtIEguMjY0L01QRUctNCBBVkMgY29kZWMg\n",
              "LSBDb3B5bGVmdCAyMDAzLTIwMjAgLSBodHRwOi8vd3d3LnZpZGVvbGFuLm9yZy94MjY0Lmh0bWwg\n",
              "LSBvcHRpb25zOiBjYWJhYz0xIHJlZj0zIGRlYmxvY2s9MTowOjAgYW5hbHlzZT0weDM6MHgxMTMg\n",
              "bWU9aGV4IHN1Ym1lPTcgcHN5PTEgcHN5X3JkPTEuMDA6MC4wMCBtaXhlZF9yZWY9MSBtZV9yYW5n\n",
              "ZT0xNiBjaHJvbWFfbWU9MSB0cmVsbGlzPTEgOHg4ZGN0PTEgY3FtPTAgZGVhZHpvbmU9MjEsMTEg\n",
              "ZmFzdF9wc2tpcD0xIGNocm9tYV9xcF9vZmZzZXQ9LTIgdGhyZWFkcz0xMiBsb29rYWhlYWRfdGhy\n",
              "ZWFkcz0yIHNsaWNlZF90aHJlYWRzPTAgbnI9MCBkZWNpbWF0ZT0xIGludGVybGFjZWQ9MCBibHVy\n",
              "YXlfY29tcGF0PTAgY29uc3RyYWluZWRfaW50cmE9MCBiZnJhbWVzPTMgYl9weXJhbWlkPTIgYl9h\n",
              "ZGFwdD0xIGJfYmlhcz0wIGRpcmVjdD0xIHdlaWdodGI9MSBvcGVuX2dvcD0wIHdlaWdodHA9MiBr\n",
              "ZXlpbnQ9MjUwIGtleWludF9taW49MjAgc2NlbmVjdXQ9NDAgaW50cmFfcmVmcmVzaD0wIHJjX2xv\n",
              "b2thaGVhZD00MCByYz1jcmYgbWJ0cmVlPTEgY3JmPTIzLjAgcWNvbXA9MC42MCBxcG1pbj0wIHFw\n",
              "bWF4PTY5IHFwc3RlcD00IGlwX3JhdGlvPTEuNDAgYXE9MToxLjAwAIAAAA3/ZYiEADv//vdOvwKb\n",
              "RZdqA5JXCvbKpCZZuVJrAfKmAAADAAADAAADAJCEce5rlck9ZoAAAC9gCXz98JpJMQE/79lz441V\n",
              "Wbi2n6yjpaTrnqnUVUIgRGNaZyaF43fg/IgvkeiHonN0S2z7xmJ4h1Slk037MnU1ZUELu4dAI0Pu\n",
              "mnVJuwwoonpzuqXpVwzE9czf4RfcLnBBcdRvg2Au54IbSpyi2JsA/ebhDCATc5e7RrcquCnsy29Z\n",
              "e8iXK37oC8QClALJkGKUCOGxKG9ht8HClDwl8IFq2Q9S6a7SFQhU1RkOxkC4j1WuG6XMjbUAb9Y7\n",
              "eSAPJ6b73ADCg7uK5CWegAAYaH37xm9Q0QRLHDtpiZ8W1cowFtlmgleaw5K218gQpmT0pVl3H//2\n",
              "f8SMrHblFhA9O6pMwJt6VUdzS6we2z4NfFEh8B3znosayyUc+66yJYO4Jlk3Jb7ZV3AE+0an4qbD\n",
              "SoOVjknvzf5mPjdBon4JHnQudU0CzTwFoj9oGQFaKXoof+LkYgzOWUzA7YDRj8sfEupX0wdlXg+1\n",
              "xrOKw+EDDBy7F24yng7Rwe9idaeSW8SBhLzJRuzWMd0OZ1TLB5QD6w9sBABO2uDSqI4Q3LjRofKz\n",
              "CZ0lh6Tav8IONtwY+bj7HqOPMWVFCRmB6w1fm3QQ9a/Y2nvyY78V4axBdpvgZGkbhfrXnsEjY7Ut\n",
              "kkdP2mOnQTN0C9AUVUTQXX+eIA3NdC60xCjhLgMLe5/p9clbnteser3BxzJdFvcYYJBk+w+p4ZTy\n",
              "gp2Ac2YkQIw363AK2hg1JEARDIcw/6heAeepSA1trBs1HTZQcoTAyv0JNEoyO5NBQTLVHDlkdvBf\n",
              "MpSpYROmUyeIWz/KCyOVDa1Avy8u9+h8xC6zurFTn8F06C7Z3h0h4LGELbJZVpaDMVOxu9KPvcRW\n",
              "BR34oL9o5BDXgYTzW3UsRoGJu/r9m4AeJmlRVr98/8qc7uAOOtATvJQelb/hfrwnCpjc13L3V1hW\n",
              "rjTSAWWv5P+XqxOLSQnElNTTbBaNmJFZ+dFi7OqvjmfEVQiqPXGDMk2v4UeFVBEX/NzOqfddURad\n",
              "Lc1DUeaq4qadBza2vpkMtDSFkLyBTwVTzPMTj/+jj3fjvGgOkdEv6QCLj9ZjLtVm7lRQJqeeJdCV\n",
              "IWSGPWpuEM8QOPav2ph2NSKyNMIfmvglPjUIgNQe/3tK9ZFPaPCZIePHflMerng2Z7PxK7B+0eFD\n",
              "KKqEK28euIi60nMk5B4RIyntV0yhQ+CXKpE1ESmcSg7ZYppxvkHExGTR5KnxAd8W9uVKQlDojDRp\n",
              "WVijFeI9CZRRVf8tPamSaDEhIDSeJHBzTOAuhVnS9B5ZvHS6l/asVUM7w9Dq06lmBT8xEriaa+SU\n",
              "Vq0w/8k15igti9UUvgMP+aKXQ3NA/PTLdDIEKZSGjUPZVYfPZIS8p5VfnGeUYUGRGh8ZVdk4OQ9U\n",
              "ef2fWm8IixDn9gJlBWjJcscjRWsvNsewUpl+Oy0BLCCQi4M3F5TAhwD8MY+6QqSV6e3fYfEdvBe3\n",
              "fQFmxVBBc93YrwWAXh9QwwZcPjvc2TF9DGp1VS/7Ofdwrv4QFoS0FAWq+8N8lvgX01sfIsSmKZNI\n",
              "6LWw6yYVBJfLXDnsDlh1ISbGMGGBLxaKQKyPuOIa8lbxQkgFlNMaOVHiS0nVKf/yjm41w1KyPb0D\n",
              "w92ki/V/hqzHBrnVh9v1qBGzReQ2mi9m4wQcRG/whx3/Q2LbNEemHZsxMky1htwENhB77/RDLR5b\n",
              "Muvwat/3qVNy6ETiBigP7gzvK8Dswr6lVVOFT4aq54Nymp5veZEX9Ufp03h6i9vw2NIgNXLJlyzN\n",
              "lWOitKkI4W8RNT5Cf9v8c1Dn7e+XMxaU4H6H7zmNqpcjnUHXORgXJMUNdF1nJ1TiB/CI1g0xjhLV\n",
              "wW3QGm2SknffefXhHIXbfoNxWhuAh+9zs5jm59lkTmk5onCvB4LBpz0VVnR5kZvku3sJCoPQpnzx\n",
              "XuvpCwt738iVYZxmgXF3QczNSdK1mUyDI9fkiclBbUBrbhAshjIW1J0wrwwzWRXRQEj+oXqB1daG\n",
              "7d2vQnBpQuFiy8BgVBbAEWWSNvnZFeaLC+Lyzi62IU30NfP/j36edxk0dSRjsH/2uYP4RfP+k5ys\n",
              "ddZSV8k9AKBWoa+wIVkGBUaZ6ByQxAGBdq7MiCSn/6/QBWKG1kkwX/uS3KR5P4wlVxWuDfs7mZ3m\n",
              "N5Zg+6qfBLT/6vNykqR3NLZJJrKhN+7UXzK5cTBzIeQVTC9JLs7fDlzwynvJIkkgCzOl1pd2/Kub\n",
              "ijKmr9gA5JPHxcQu6HbaFtCMivy4sJe1FZgESgf75UIEYnaRx/cZfJek2FoQL73EsOFyRCmuKyHq\n",
              "tDzG+AyysORYEkG3TBumvseaazUggXCPTluiM1+D9oE49ha06ANh4d6c7ByW2n585x5n2MKWcdiU\n",
              "R7vcYaLAoVUWRzOq+o+6flLi3J8pNXtIITAKWybxU0rHBZJWAU5rPGepXsNXXaQ94XJGbcvBmyK1\n",
              "TZsFQvTjs/i8iR5v6y6Gj037VS0kWFG+Rt/MW4Kz0Jl3ns/gPob5M0t1Nj2ssHhY71alzUIR12Lc\n",
              "JoW2P/0QwtkRwZDQC6ADS71OqxexukZ5f45ZxYTl01cnckl0w5wNwUIKt9Hb4hvYtAaBvIpzHJCM\n",
              "hfahhBhcg0qSniJKl86b8VCAilkzo3R920eMumhGEeJr8enIlZaQujZXYQFQCOr0Zeyr4l2hPM/v\n",
              "6/2qQdIvceYPXvWrl6t1gIiK/T6PvcoTCZwAAAMDLDhPUBSO/v5Ak4fLLxeo+T2WhtMaoe/RXwWz\n",
              "1har4SLY6bpEtyNg6PDBYiK3kh44kn1U42LHb+zngP5lYtLq5ucThR+V8hD3GPtqQjeqAFO6r9s9\n",
              "TVI1c+SkvK69nGZwMoFGw1oNQCXK3Y3tYoNYBLd5Foy/JY3FujoEupZV5WC5Np6eAAAXlZlvam5t\n",
              "Ab8AqE8feQMP6PfBoZ5ugIAE+8lRMRllfMnGu//KDNZ3FmCaw/eFqvRc6XAL4yrxUFHPHVSlQYye\n",
              "OhjzqE1l4C/a8J+A3D3nfbv+0awKv5vjis0M+6jDVPlIVX1MATB0VVEEYVpU4AUoLLf3O+47VS+k\n",
              "PunDgHu3cwVjK+qsAABS5dqO31xI2l1AScU7VTCCemXKy6Laqc0rr85sDUoYGRUdcoMi79f15ipi\n",
              "HgsYKXBkJiUqYcXGE8J7VQcTp/+BPFqFY5KpjTTt32OtrRRz+ggxKiP/cO449koNZKM/CVoslzPP\n",
              "caVIUIOF7vHVSCP2BxqaCMc3MRf3zoMCy1zP7NrqHzMl36Tl+GaBr4R1x3UrK9kaXgVV6NqB7mzG\n",
              "O8t0tnki0UDBy+0SJPEov19oG04ImvWqa8ZZHed4LY5PW2w9lYxtQ7aHbOKBDU6QZtGSJM4FCJrU\n",
              "FMW/zKn5gACbWscK0qOzY7tPCIiMMcU5gf4UYRdU76XoKkfR5If/TicBGNvgg4nfN9fO0rH0ABgG\n",
              "0aa3tlsaCU2wL5PLvxkFlnYx4eNXC6eC7jB9sDeO3yl4wBINf8F0n2AlZiTfpImRy0zZpCzL5lgN\n",
              "jvyqvR3lTh11uoNfjGQXg7AlD8nviqgoGLZPxvSe8Q7dTUki50+nbdDs0ZDNuGk2+3viP92N5ZYn\n",
              "iKPsV+v5CqQaI+0nEe32wnroCEm0zyQZgQsI0hJN7TllcR2EtzynRado6PKVFtZ9X9QPEGAh8qVx\n",
              "yuZc4YAAdnXL1REwmupbEYsqUu1TOS9hi5EyS6+pKFdY67ORw5jcmZR7nf9co5/WRuTYYCfx7jxV\n",
              "N/fR3CqCRI1PybhqKY8NAqlY8AWMvF7LwswLQI7Ohm1ABIn4MO5jK4Ns3sohsdcKMECXVSuz8F2r\n",
              "18YVqkh/rYXFkngA/BSjSVmCJsfNGBd4eOQzQLrOnnS0jl3dxvPpaKoMC/U1DL4QT9TG80SkFt6X\n",
              "QJlG1L3aB8WyLpAcra7zp4r850rm78Ws9+fw3a1iCZC7qeFX6+Ki/uIO4pfskJQVJR1c0VhO+H/d\n",
              "I4enE+9khg9sUi48j9r5HzPPsFnwYj4c4vbjkumA43osnnQOLYPrriwoOUTguOGrj3zhWPq5TT2a\n",
              "EXxUDPxGu0wka0L0R3hFchA7MKJuwEdEWvFuVntHxh+N1T9T8sW3cdzGyLrI1ZPPjtKCGB/QVEPG\n",
              "58h3BAYWDuFaBO0KUYXBHPkpvRrX2cHSaA/b43e/FmHfo1weFGUAZBCCzyCgTVyd0rYIrqvLQZmZ\n",
              "fT5czak9HmIjAnmtXjop14+Gve1r7gdAZAJNu6IxLFypDn6Iy+iBORwmHYxUb5n0P4zUXQt11/4Y\n",
              "cj5yV/kh//PLSAzzSuhVsX7aEJF5Jk6bb0Y2F1G/yx5CSP8RKe3OSYJ7b6CIuHuYt6+UbNO4deIR\n",
              "xinROHHaMK4iICQMjJrN6chV/41vswND4EGVjVEAqoSK37GE7jie0gvG9nlQMlbxBpYblQIhXPJ8\n",
              "LQClIZzzDyzkexaYepMCTGIGbvm3CdaEHkImyI0ZvL+JZAglqKRktGP0bZD5moWDhTIwueoICWN+\n",
              "lmIh6yIrlhDut/OCkdPLP7TP5mC+n4POTO3TZLSoJzsZUqCMhzJE0VSaoKy74uhhJBcQqZi/PTCr\n",
              "BuDT4ebf5L6KshaczHNFMEqVFn83SD1jFcgUEzK8T/TJnr8UKh7ZLCtEQzwtafAAi6duyxDyTDZD\n",
              "AgYUgBN8T9yfh+EswF8kSpRNui/M8CEaKtIMJGIQX7cAAAMDMwAAAftBmiRsQ7/+qZYAAGKv6IBm\n",
              "/DSuNOzJ4bZ0mp77wf8hl8KC47toBujFcjRTXGeX4TWjKbL1YDuAkeFMRlwtBu7cX3NywEEWp6gp\n",
              "pzrQ9LyVO26KOGAwf066Jhi6DZAzC+3PVYX5g6YRJeFJVpw1pJbTaxrGU/HafN8JPJ42IbnPWyqi\n",
              "edE0UMIKyL7JYAZ1FmdoTNFdGjJrdLhPD67DPGQmm9aanrpcm8ll9kPeg5Y/bDcRMGwGzm2LCub9\n",
              "iW0Bc6UnMWMw+w+EKOKVK6Zow6CMIhuwddtD257+KH+f4kpb0qU3ZOTSx8J+deQoAq+cDhTbsbqs\n",
              "iuEr5tR/+asb+ohYBvwyc3Kj0/pRB3SiDej9GT+e/+htgKGnDvSPgXXOfxqvI5yMdnGvBszkr6lx\n",
              "E/1XATeMCFXj7Ujjw+UIFqVYtMZHPUtWo88Uf0YzMrwL538EbnGpiQtYfjxC26ruA7MKlPq7eu1V\n",
              "/1WVEzBK6ubOu/8Tdvul8HwP9/nyu3d9c6sDqJLpvbu5u89LW3kdVTds53YgGPpCUZnL1ckiLH4/\n",
              "GY+sQ08GMcjB/7qJ36i4qfC9qA5UhaGoXYl/EHbbYvqMv85UGs4XByKIXl5r6t+f5cGef7LjMqVL\n",
              "oD2tNqCWyCgeYgvzAQY7ZAIP5YDF4oCX6YRQPsNHst4uUGcAAACSQZ5CeIZ/AABWaVSL7a8PQt1Z\n",
              "TUpgUe7lrloO2AVXj/MrrMuqq1+h8W1/RqTOdsnGZ1YcmBlf9IIm8lnlRrOW9cMS17ugHBWHN6Wq\n",
              "Eyk9Nu/TiExFd4zz+GFPXWHAKGkHKR174CFdoG/mna+XWVQGKVfIQWGynHRL8suszwvQFo51eftc\n",
              "gMAvygarAAdpnQscUEEAAABDAZ5hdEK/AAA6CllfaUlfiPkuWqM4J2mMocaQX4JuyvuYZfj5EfjA\n",
              "Rkah+4WrhqwJe+x+ft2hduzI06IBlWA0xqY5cwAAAKQBnmNqQr8AAJ9XuX7lnxR3zwAYYz6bwALg\n",
              "p71GwcCGMij6/F6kerAmM76NTeotdPCAlx9vs5adO255XiEuU7bLiRCyh9wUrGreVNevAR/K81p0\n",
              "i2plucVeVj7eTFHgDIz9qTe+iDyvy3hUjScbo4dxQ5axNBWvPVNrqvuRr764IsNNVogdCiUA0LsH\n",
              "W4N0l7ArVxKHH/NYAYX94BJYeexTzOB/gQAAAktBmmZJqEFomUwU8N/+p4QAAMTwnlCV6B3DS3hz\n",
              "Nntp0kUe2AHHglbkpQyU+WZoGKWFe+YwWx0BjScLKxGKVtWmM2qW6pNBcS/V7DCKRiOQycP8S5r2\n",
              "CTPaF1kLFq57nAbMJ9XlOiTHPR9iRHHp3a6ObApOF4qMISXnw4vT1KpxjzO5NESEVA++C8zy5B5H\n",
              "vbQYWJw7ksWYSTFV50RJJvcphUQ1Ad8IgmC0Jma4UMlUVJkOnDYj930h7DBwBXSuT7iOW6Xi4tbR\n",
              "0vwxkSrYfnftfYx8JIb7Uxc641ZILpazUb6LRrfxWwFqJFN4JeccAO3vW0aCf/3UYY5r2z1fPA61\n",
              "nMRYWMQMMrav5snt2w97u3o3Rqey4Mt09N3MVZCyQzdKks3juohtCFT8FzTVn6MjBqV/HPxm2yh6\n",
              "JtUWe0uY5cWBQShAgONyM8AXtRYRk1sHRmxnU0++qX8laj6lIGL3ep/hDlfQbnH4p3o0gXybLq9U\n",
              "0sc0EoKsHcnC/cMCdN6BNwh4Muuf7G/H9xLb4CJHPqB0fGPgf0t6voXb+LfFzVIsHSTHweGds6iS\n",
              "qb97PYszph3tVaU57EW0aRek03zAqXsWfjcIwq4o9s5WxqKYmEdbeA/E/MFi2v3ZynHWlj+C9jCS\n",
              "s7rQzHIx+qAQZRIDwUFg6DDgQR5JcM6+cfGcR6wOGT08fp9LiQ8aIrd9KXmDKrWYGrU2CS6Y6r5S\n",
              "gjh5K+Lugf/dO2wRtfsq3K1gUIjtt2XICg0yobXygTvtLwz8DoJL1ABW8xAsgQAAANUBnoVqQr8A\n",
              "AJ80PcHvuWNOGfLPYL8wAjFiyMj9yr6tMqTBmNMfujLmqRIIgcw/aeJpkBEpCZ+dXC065hdr/LTj\n",
              "RaXO3pkMo4YgooSBzgxiVRgDKlSnHNFUzgtzlqXCBti3Qxg9RaLQmB5HdvA0F/HhD2hJzHKTgcIS\n",
              "MoU7C/kcnazpw6ZmZr4XTNwtsojqYHUvI0+3kckwyINoplLDo7v8CwR7bu/iFLZ+QeGLjIIQNAzc\n",
              "cJoUXG5kLwUdYa9gdZl9Tx0WewBYXZ/qmf0zt3CqD1GXljEAAAFxQZqISeEKUmUwUsN//qeEAAC/\n",
              "8lwWcDlJMZuMuGStEhSh992WRePoPAw9IjZG8lzg/ujE8W68xd0Bhu3VTYTkbBUn0xDdqJuDlWQH\n",
              "4vt6mlIYTZdz2tjDEVD902zP+TzIGfk6tQyYnL6d8Gxs6dZWCNimuQMVkgunMSZtghqACsldcaYB\n",
              "/jdeofgOX1u0u2fOXt5HsjQhIgxqqB2zlVlJadLoH5rg+VIrMrhCMGu2umaiRqL2557JP0ceWPZ+\n",
              "7PlpK/CAZpKBK5VC4WOqmKkQZyURXN8gQyo+kwzOWHoAGLktw2qGLAA0COMd+t/72sa00lltiP6m\n",
              "BqdioBQ6GmJ/GHrUyVpnJmqBIbhjhABTd0u2f9C4x8QLY2+yYa+TZibi3osDsyrEQTZqG9SEKB5M\n",
              "VeiQepCzse91T8a7vrrhBfPI42EvetWQn9L7MBcue3ypfeVP9zNzQtg2qjzoGr1Bw9/JY4o9aPPf\n",
              "9lkH1ozq/CUpAAAAlgGep2pCvwAAmrqmXGxarfNHQIAWO6/c5nKquKCmnLZOhYMP/E3C72al7Hyj\n",
              "+YBOMI8NLAcLZAgMNCQJABdfKcY+f9C7DTwDFGqnnqnmGU8Y9oW4uoxErs1+KR3l/jHv4kEOWHuf\n",
              "t058i2iKi59V0A9/Fc5U2rV8XZtr8NnosJND02NlWawBqa092jeUaJSXwHb/i+m6IAAAAPtBmqlJ\n",
              "4Q6JlMCG//6nhAAAv/CeaJzgU72Ob/6kIKWXjCqTKhZDDgFfGKRosjxg4CaHMcPxJPtnk8P4O4Gx\n",
              "3+68G3JcE4oK0HjQ4GBRBC3QGwWkGbOPb/o6dMNVEZGSaUMsEytVf3AEq3uBLCV/jyY14BlgnG3T\n",
              "C5E2jsYOQB48NhIihF23YS6v8WJ/45xIh09f7RJojtlQIvz+AZyduXvpVIEDRvM5SHiez6XIT3kq\n",
              "kbJ+EjxBmENXBuEemljd+iG1F0VeeK0WIdpsv6JdPqW9+srLYTd36vhheixmBuw7LDSJnQq3Qlqe\n",
              "IYprn6jgo1wgGqhAdMHfuRAPnAAAAlVBmstJ4Q8mUwUVPDf//qeEAABFum9fpyPn3wANARSWx723\n",
              "+WRQs16YTy/6R+eJ0wHiO4akFohyKvPAZ8Fto2qYggEHWLilsrNyILWJDZb9A746jGdwwLAhMEXL\n",
              "HErq9jPceq6rXtqTwZYLo+sheap/rWOx+Spjjg5tOoZ6ZZoM6t0zmIMNmp9qL/3/7lb0L4LW+9UT\n",
              "TEzM+rcNVWGTsoMi0HqXNPCV8wl2h9r4wm8lnbzMzzmXwKAbIlWK087iv3wrol7SDZNNcd23d51N\n",
              "PYsni7cwwDYTRw4iq3FTIj1gcn7BarztbSGCKHTxem7ZHz77+GPWR9Y4jEY75C5A8/jTfX3W25ou\n",
              "MNuLb8lgliOsrTkT29/GxFbby3UJtbueqVLMIDSerHiUqMNdTEIsZUYFsPDuMQt22Ys6fNE1u9SF\n",
              "E6hINipWCa3nwcQvoL6jIamQ9d8jX+I8FKl2DiyjCsZnwB902jxGyuubrVhCpwIJfnYg4LZA8Dld\n",
              "EivVbww8d9xWsLRo0tN04kzXk74iUduJ3dfdZlJxR3ECQR2SEO70iTnFczbmzdvWij3xXyn1FRbL\n",
              "tzF082IHDZYLzc5IgHp4XLx0g4V2tPtJ7hBIOWCIeWXUxjvVcYSLE+WeJBE0YcstLOE6GnP/4UO+\n",
              "Dhe4IGlgNWdVXa57XGvWX/WOiUdIughCHJTX3/iTeS/OjMF3M5vArDZ/4R2apBiLmOy47Emnv9YP\n",
              "d3L9OOhQIQCvHgadkJXpvL/q+8M4V3SoE/PCDoAmb/51kX7XH8AE/IR7Zf1JUyYm++0AAAC+AZ7q\n",
              "akK/AAA4oBCeN+qSlJbCwAqWMXOibYo2P8sdgzpVVowL/gO2KzGKo0r0gb+nVtHZBfwI9XYyjV18\n",
              "GJmoKkqIZNU3E0oIuAjECIbAaKj+K9TZ27c4qofPf7laFYbJC1r41uBLAqKs+Rey4t4QYb1w4ix2\n",
              "jDJwfrzJd7ahEEe2IZ/F8yHO0paGm7vdUkVxaSwjIIoLi27hKEpFSbnn8e0yup7QM5kkyP55GbnU\n",
              "9DZ1ZAYsr6xvf9ys8iMXcAAAAZNBmuxJ4Q8mUwIb//6nhAAAQ7pvX6Ll9SNfcXQsD+AAcVRx+uJ3\n",
              "XG8faqJOr+R4glDUJ4lnqWEfzKuC/AU241XnICRKFJG9cBfONs1m92y10JR+xMf3GufZf7qAT45Y\n",
              "FJpo0jbgCSDSAMv93e/m1p/c7rGd8JNfOooStIZOxkVvWBnc8YbBCEy+cM2SIrf90Z+NpjlMxwyx\n",
              "961R2bb5z0jcIO1Y4wN8Ygdk3to6P4VNXUOTxjRbC6H9xeBCFZat4th68yNuPD4Tw7mh9O2w6o5j\n",
              "eGtDK8npgmCXoIkjTqpzDZERJDg+4AzksemEWZmEhR1Y+fDoGdzbROwwZ8DDrIJKUld/zTt5ADE4\n",
              "zdLhDQUEUtLE0As/tEJoNYrFEXLr+nzF/KEsmT9GfWM1Y3+9EpycCKU9xMJF8SBWFv2ZXwVhiEKL\n",
              "dD0R+s31smRJw9hjuc/3q2UsO+/BBKc2PcGV++TddL7X7TZoCog6uywmZ0onkeGV98+2La7l7Wyp\n",
              "EItNaNJ7suJdjh1ApnFwFazf8LcPk/8VAAAB1kGbDknhDyZTBRE8N//+p4QAAEG6b2oe8XbpjeqD\n",
              "00AU8uPXcgVqnGVdOxWRmhhzzICxl4J6iJmXcvzjB+6yfZVZyLfI3UE0SANEuckT1nfzb2Kuhiue\n",
              "pAUoBTYdMLacJEqjwncUwsLgcYztgaonKOTrK97WV+uIl0eC2hUJo9j4cfJr7F767n6Y2VILZtj/\n",
              "pXXotfqxFH0EckCaizAFakzPEbue4+k1umY0JQ0Dw0TVlUNQthXCWi4Du0lKuvwx5VG0VdMuLe4t\n",
              "4jsccq8gyhLj9GngG5otCmk6JoNFCtPkQ8lIRBcZI+TXCNYZiKX6HGWibK62rGNn+onjVVFniAAW\n",
              "31/B9KvJdg8+OBjeKhyN/+y5jNgFAAl9wAOXrXnZs6t1e3XiMVCM0+CGCnvaYr6pdQhh/jttL2nF\n",
              "5gzTb77LVxnU4wZWEseXOGlwTX6ZT3+XU0wanepCQlIR15OOUpgmBim0WUfVYNaTL9TP4G8UgfyE\n",
              "PWWt9g1j3r+SAggr7i68x7Yo1Z9x792Jo5iegxd9Iej3VOrkcvDipg0QtnB0YGp4EClBqTk1sH3C\n",
              "OvCrAU+Ds1FwgfAwmhGLJIKQ1zWHRfwV0oDOYiPQZpwVqCTFc50NU5bhAAAAhwGfLWpCvwAANgQt\n",
              "FvGCl6wma9j247FDYq9ulbGnxO7F/E9BgxLylROZl7EnPCp6UK72JsEDPT4+q6UjaFIclGtWGMLb\n",
              "zAAueZe8ddkQXUzI9O4+TP6cSvIouiemnUufs+PBzLp01p4hKCrp0m284nR7zS34cDuPgRygFZK+\n",
              "T7m+jhyB20gdOQAAAQ5Bmy9J4Q8mUwIb//6nhAAAGJ4TyU69FQnAZG0AA8NYBU2e4FF5PMUaT1dH\n",
              "jp6n3bB3+buFlFj52jwNS2qmj4APTrZLWJ7QE/RKoTMP++wuauF/BYHNqmtiZG514LifL3IHoSHe\n",
              "OMSREsTOK2aM3p5vef/McdEMFK8+uBLHQzRzmbl8Mw3A0mWL6Dd62rfJkW3p7VVcSdxgWtVKJfd1\n",
              "zQ5HhLbMh0gXPyU6WnQpjH2Ldbybj0U/HULg7/jTDPUk+Ic0S6xPVTZe110Gd3J+lcbc4JmnKzDG\n",
              "BP5XK26Yqo2dKAyhJSdfsjY+AuU5ZY0ErLiBt2wJMwqNZ2ec+be8r4UjwkdejrtytmBofHn+jFcA\n",
              "AAFTQZtQSeEPJlMCG//+p4QAABf/5rUlZGjJxptcgmflUJ6HebSuE3Pm7wAvqhMDJ60VZBMCzPg5\n",
              "Fy6Y1eulPDYBAmBqPf5KXhzH1xwaxSX4+buUjvjlJZsTZPQgkmYCQyzhQAqTM2QMakDJK2A5faDi\n",
              "ZBa1qdUX9HXhBUe5w15IbxgykvAMAzFlpFnoGplotQQBcSLiWErpjB1/fI9WmDM/rzevqi6E1yvG\n",
              "xNwvayYIQMP7kqLH85PNXhc8YYku2wfQvbHnN81p4WtWwrKo4kXrB6KVTJzK/Z6mmMy2kglD1DjM\n",
              "6rgijw06MIF/f/3loPBvwQe5gOfeGcHyKl61tXkzZ0Yl4KcrC8YKimyOkvzCh7bP+liPYAK03yji\n",
              "3yoU1bDlJh/YL+4S8n6YqtTs9nEduX90raPK18ihmq9QEgx9RVwy9ZSYgjoiX0PWvQG/2gpOaOpy\n",
              "AAABZUGbcUnhDyZTAhv//qeEAAAXX3hQIX/y7ugOT1hrnEfutSsRqgAmr6ehQsngbAqmaFIGYijF\n",
              "NKRVfCiVgU0tJhoLF/4yNflrGzBqhOi3dGrbf+DlZEhjuvl1oHA54LBIUWx2uDfFRSrZmwwmpGUi\n",
              "y3hLt94VG9FvR0pU2ZnPfCI65SS/L3vZPwFcMo97aj4VJW02eR5AgT42CgnbFNYSKhNyzYdVc4gl\n",
              "oIkrsnUjGGhdhjPD/zYNOwkaZd+j61eH/WQ+4mcdOwJjRUlGaJuI/qh83rng9Dk48dGMguH1hJbr\n",
              "oQy+mj7+5NP8bEs0JNe0ufY81fpVaYLjtvfcrQNECG9KqTFY07H706fSyb2I5r4P4Q1gROjncLPU\n",
              "taccJwGxaeo520QIFNuecR/rYw7ga4Ex17VofIjgynxae/eqxZ5L7vDeNdvd9LqOElamARVDYYHG\n",
              "U6PzaAzGWFgLm8mNweLTN8bQZgAAAYpBm5JJ4Q8mUwIb//6nhAAACLf2lvG9ZczwNuKD7w5KMJtB\n",
              "X+VAEjQ7GGeUTwkAeD040KZrBUV/83RmbX3zE6u/4WDR3CWrW7qB4JHidoWOKFmXHQRRyJ9t+j1i\n",
              "JdhIPs1BvVTRz3WSjW8HtAgJzUZh+vEsOCsOu2GQLKNM+W74nCZ26RpFEMprGMxe4ub9hMmFETy8\n",
              "uI6UeOW4mlARd8RqVer2GX6qwKl3KlkxB9YNfI1eVKbu6Zu4tz16cZz7aasyEPKcEgNqfQqoZxK+\n",
              "W9zhbIm6iy+OlzCskni69O0u9UnRKSm3hxj61X4VJAvyAvwrF7wkShpKviuEf0vvz30BtCwofvrR\n",
              "cJ9NJVVC4UC5HuuqLU4pTIyCFHF2RitoZYx4tzCG5VTGA5Y6x9+LALpd4Afh90bJhrUun+yOpka8\n",
              "kb2Uf36dYceqM46BQxexFWZruSZ5Nbua7so4XDC1JObdjlq9OcYDdhUIlgIU0hM0775SLFdjlQbT\n",
              "b6BRtKn2z/WntFa+TiBTqc9hAAABRkGbs0nhDyZTAhv//qeEAAAId+hjPM4k2ZSrWy2fpjmf9QZr\n",
              "CeAcarw8EgFwtJs90PrT6Hoz7+sdqrmS3fIQ1PM0Y4ECCXzOpBViemKuWHir4AoweVMR7sE52rb7\n",
              "voqNxP2eXFfHFxmnESfc/9sD1SetgC7J18P0CvPine6o0U/0hXeI0v/DVqvKRc/6gNDJLeK3dm7w\n",
              "v2xunP07CL7HI8+Z6mjVT3XpfQr4fyhE65a02g4ppXpqTyvqXzG92mChSpR4aQkXlSO6UCLnkQ/4\n",
              "/2StgN/52UnZvHwStmrPMPiR8skIEMBQy3YBc6F6Y4/EWWEK/sBxBhjJkohcFkvkm5sm7wSX19HT\n",
              "iH3sMoDim77I2b1XgbIjHPcSUbZe8DNXVabub2Clqz8hgIA6O8w5Gs9d/LO0gxsNf+hRGCfHs1M8\n",
              "1JQApQYQAAABckGb1EnhDyZTAh3//qmWAAAEJ+mWnoCHpRgqJR3E2C/NkROn8WYBxK55ftabR9fL\n",
              "Puvtd//aRQewag50YCblMoTfqtme/pv5z9BR2o7dkBrbjyTKlEikkojmm7Lx1gK7cEaVr+pAu/C3\n",
              "7ppp8xo4Az2aZakyDJi0Z4SFZASshLNKtsvT4iTSDeib4jYbomiNqYJ0h2eQmPdM/VSo23lbrO6b\n",
              "Y6E8Yl2SYs4NNj9YFbuBlN1Hr5Qejx26HFeJXYVc1XwNW6fmYm9oV8y7TfTO7r5wtfgTx9Achonz\n",
              "QV/faWZ+NWLD3FqSBvdpWNqm73xRLn+X//c8poGpmyw4Ssetb3Xw7Xd+C4hQkJurhOEri7Han2f2\n",
              "e4tbwDZKWhV+akA5MqRmOs6FpoFeyrGhXSY7h1ZJ8By2jNOd9hKtIg/P6CAgZ+/9d/8pT7XeyYL5\n",
              "a4zFixzM6NoEnK7eS8aNn0bMrq0e3NVtjpMfW2c8/VHOeZY5eYAAAAE1QZv1SeEPJlMCHf/+qZYA\n",
              "AAQH6GyTSXVBStH8XbNrqGMNcKrbhCIgrXoeieGondB9/bCDURA61M7o7bYWWJSRAYxqN0YiIPd6\n",
              "lFyIgBILjT/fer8L3AJ30FJ037tWdve2RELqV424H0LlF/6biBo6yee77BsNwpYP37JQLsV0oDo3\n",
              "T5cU1MG8nuEtEvANEoDJonEIVKvdC6eFYhvaDdWbBHx72y5ylbtxtHVG6C09k5n9fTwFM1WqXTTT\n",
              "6lR9LePevXLOeDDQth7CqCrs1RW4b9IcqPkqJN4UnWcxenpfRofqlp8rZAYjb/CHNCY5+qse8LDX\n",
              "00OPNiGTZqe70K25QQ5FAy7a0HZtbr9Oshf+A2nFHmNcjwLUNhDC3AzOMC3PBjXJ/Rkeyh7o6Ifc\n",
              "PzpH9ZZ1f0ARAAAC1UGaGUnhDyZTAh3//qmWAAADAYz2UgCceFbGfB5P1LQe9YCFuu4715sR8nTK\n",
              "qgJGij5ZjPircgbNphoA2tEmAy2/7gNMrt1s3GYWMX2wYTDDRIt4UYtXULyGU/wdp2Zo8hOJVGkM\n",
              "/HpILFHy+dmnjDUMtxTVXOA/+TY8Rj/sJhwzvFkp5CEIkkGH9Yg9oWD5lmaeOrfRnL7nn1Yw3Gqj\n",
              "D0VbtxNH854OjQm5E2v8/iB/WAyYf1J0b49LqnQpZKd8HNN5W4U6078xfItel391MrnJF3oG10WE\n",
              "cLGXGju2CSm0ZrMEngavSaLI8YLLU83NQbS0/8SEpIjHTTbRhPDjwYUmYOMH0Qaj9WElhhWkJbFn\n",
              "bI7rj+/sZDZ6a0iSZy79r8JdmeuU213OkhLnnUEYxASpEmGVSBkx2NG1VBGfyYD+hOBisybFtWn1\n",
              "WZxdVT3Y0NdMr0Ry7qPARV3QGDELHq5ATKHCWgSGanHU6gfE58HhNmDqTIkZtKAcBZNiSwrwLMOf\n",
              "o+nqzmn7ltI6H5andux7b9wHMOWtUfQIzsyacf53SKhRzgxlmBkfVD1I2EAU/rAXa7mQQ/lPS6Qs\n",
              "x/NMYw3ll08u5KX8hEntsbEJ8YWgZtzWuNZds7UJhFkgAvcOrUbmqVPUlJUhvUnbzgKXczQWN8on\n",
              "sRA11mkIhFgNCVZQNob9o3Sq2qr3xkatVGOoBMRqygFpbt0CCDL8G7ttyErFOphXZKJDIlx/k1X3\n",
              "BQV2cTTns2AkftLqf72IWTLpWBrX0YmpsRYSPRujj62YPY1ULJ4wk/TVZgHszJ4PXApmvYWyRABn\n",
              "xisNCi3i8KlBmbCwKAeTPeOiBDKfh4yfh3MXbVlhwwJ44SNHwROQQiUR9Plx7lPofBEus7gC9iN4\n",
              "PpP3n8JWTiGsvPvudX9P8aF8iQgbzX+sddrsuTiFe5P81Mq2GYkcbxQVtlxutLbU945j4XzAAAAB\n",
              "qUGeN0URPDP/AAADA2u6fKBosIAX+rbw2tiKs18f/9iE4ASP3ALbxPZFrizrO/WW7sM8qXTT8g41\n",
              "A+hl0i0GvSVflvtVW4VP32ahHBjMuyHfDNtQAnijABdruMLOa9UAMGv28zwGlORKN1q7xXVLp9Vm\n",
              "ve7YfrQqH/4dvuqGkhDhVgmb6N+9ww8U8ViXyBcVZOtilU+q95WAJxAs+cNKc65V85tbMK4ZEfBl\n",
              "3LBaXUn1tius8xZ6u6b/23apUO00gaYUMuDZw3D39DraDUFUgjRtoWwdVEWbJVXS72f2QsAt8bIp\n",
              "FuNUJSOAYIYtFKOsAqKW93R0jTRRKcrk3wJA2YknQIrZE68ny94pYkq0bUELNi3riFS+jypUogrv\n",
              "VhNj8tuFv+UPUzhYeWNFONldGMU+CUevGwXnfzsUnImEN3UdTTi/XGCDj2T1tGmOBBdLYpY8JKJx\n",
              "7L2XY2bueMRISZNVpDat/2rk8z7C3qJE8UvxrpWFKfeF6jf8kyUQ/nHyiV8LvXFxahEjQz4moXMV\n",
              "MGm6vP9oTF+q0p3gCqjDK1zwXxqJoMOFlgMrAAAApAGeVnRCvwAAAwJ8l0i9WOoh6bsYYeRE+6cA\n",
              "lAALihNenUD1wEA2UYlZxnBbehaqMzjxBQQmTaJIiDRpFOYa0Qtc4uOnDz4YzxXcLsFap7QMxc7a\n",
              "aubcJDptbmNSbNpIfKl527ZajJFf5wh4392N1Yh2PrL63EQ1vPWqEhUq+0wAYZVHfNZ8aztxbPiK\n",
              "QXG7YqW5OPXRr+nwAb2oH1jx2ZDS4BzRAAAA9QGeWGpCvwAAAwJLIT0dw6s2lTypTzpCPCmn8aBg\n",
              "AF0m1DtbVJqHwtC0+UpJdjaLAH/a4IqiLlxnr57Up883z2XONca1Ih3yh8e1Dt4k6/ssKX87AyP4\n",
              "f2jcxm+vqsRjpeQxNf7TTYZQrXj+UU4S4thZVzxi07pi5tdkVLh99OLyZO08YGKLUUTi43fIPUPf\n",
              "U18ebXu+He5lR3ws2he5ZXQFfamL58Ut6WmWvfAETun5Mz51oANry2D4Robg2FOfImV+U2F3k2Ww\n",
              "OjKbBadFW/fEc+cuVZhmomLhO27PYMBmuQ57Z9CA+ACwohZ6e2hUtwaa8gm4AAABk0GaW0moQWiZ\n",
              "TBTw7/6plgAAAwCQ/I60FjuhRrzWiNacJHjIAf+6zYAA3q1y1nVwRUGRwlJyxQ4MPYi355ROpQXD\n",
              "gAJCderP4QrLmXuZfK9GgsTCS90F0SJtyVq8WK27Itcfbu+Y1aYEY7R35apox+4GAdWc7IGeX5dl\n",
              "dhiIm5Fbgt9BoBUijihTLxO04dfdQWGujHn67cCtZOJFr6F9iyW1Rh/GR79UqFNAPOxCoJL5OWxk\n",
              "lq1Nntk20tMnsMODPkmw+VZ4oR1+vtOrtwMQBGTyyutJWrJ3yjSPYbpeN6QV77XutfpnIA8zeHu1\n",
              "jDZSxXrIPzrudSnY99u8cih3/ffF3U1UVCGKUgF1oqNe4HcggsoU7zwJ+qwNB9qEWt+vof95cqWV\n",
              "L/9MNuo9iCsoaj3aq1AgKvr/NDWINj/d7bTYC4iIkk4FYJZkPizNQSEf0xHLmEnQ8/zhv7pUHfPs\n",
              "QESY3cU9CS5pMZaaY1r3u/I+1L6mNI2Rt695DtBQ16zHblZwXt4lHBg5PQeAABAkQB5dVT8AAADE\n",
              "AZ56akK/AAAGcsMmBuXxcFX6FSyog3SCps6Ggc0/JlmAAJ2ggx/oPKoiY3QTz0kYznXWjbBtTS+m\n",
              "Nwgg0OHGFP6UtvuBqigZTUl9L/aCo5SUNPnqdnGgyLHipvb71HKkF7tv0I+8KN3/HDyiaSU3yd+V\n",
              "dWjhCTRi15CBQKR6CXZ1AAGeIyDxe2H5WybOKw5Xao/8cwWocprqezH65MBr8HjHVQhLMF6stFod\n",
              "Nk2tr9kk8EASqgB+ORKxiz3hPrAMQn2SHgAAAgBBmn1J4QpSZTBSw3/+p4QAAAMAcbhPLi2XyTC6\n",
              "f4ATSePHDTwGAxcTZhgeGUr9F7iF6Zk5OeDyNEf5Njxkb+6PIkdelSBNzw8KH21HI+6k4Y8dmSqi\n",
              "3juTGYB4bvvHvBsPVFHwOmki5Q4tjQhfIlhQR+kCvqpzSwWE4h30OE5HfpLiK/o+Kfc1gn11c9iL\n",
              "yHgpmwb+FwqseX4Oq1Mkc/S+VeSskbGwO/hE+8jKaSEZkLxu7XlxEporecW3/VDONl829qJqPqLS\n",
              "DMGC62dXv84B2GxayvMWZfvDcqJKMRYQizDpTsy5DM4mwicSDJ1JMv0biLJAlaWqjpRNH8jGhagz\n",
              "ziXk1g3IqonyY+NmbFzkhP/ryIHkXRpAA0TlCSoTJ720dUM9+78g8c9D78Lhpz0pgc3NFBshpKHH\n",
              "9qjp7D9Ts5uVU7sRrWo9u/e+UATwpC/SEPje5If23JFE0RQZxT6V37ek7XhqaS/eGhbA1a2EwEAz\n",
              "ItT1D8zaJtwnCvyp4EN6P7mP9YVAcr/nCRIGMrtDfFxQmMWH2DICqX+B5LYwKOkDWpKK8jovMAxG\n",
              "9u1JTXBZ9V3rojFVytis3ig+4TsmxqexCEuDZaOVC0sGfjLZjUTsBV8Q91C3UIq1bMDkcP2H/G1z\n",
              "MNGQI1qnQjzdKuKTyyYmu7z+bqR3scfdGHcRiQAAANQBnpxqQr8AAAZfO/FZSZmA+fOBzHmAi/fr\n",
              "nMkhgAn+Jmn4EtBQK/ZiwPJjokuWaciLQA9KKPe21pnTsGK8SgnDsJICFCGhgUGJvuH6WnAl0l05\n",
              "FMx9GgSvfDPZMSr8jisdtuyRO1Rp6Xo79Fiwe7wV2TCBpiJ7RIa1/P0nUvEfQZi6d3Vbo1hMNOex\n",
              "oO8q2WfMvZG/fjTP4HyevRRSO/cHKqOLMZPF3fofd4QT//f8F1xatE6mhykEbQChKX2iXqvgASi9\n",
              "iBJE3XKKUIpRBnFh0h5tUQAAAWpBmp5J4Q6JlMCHf/6plgAAAwA33z8vr7G4AGiFGC8vEfORRAzQ\n",
              "0HNt4UIBrp9OPilTE64h7o+y6O+ocIgrRaMERuS3DpPs4ray4UrsMJUP4eCKesLb35xgLFSfbjTg\n",
              "ZL1xK1wJ3CzBZzAhh1cVcPzX5rnUCERA2zcGmg7gXdrssqR63aISmn5JVC0eOOHKHQgEZvQNLlI+\n",
              "3/4z55cg464x2njkQjISqCY6bKvvrvBvzOLBanME/iZYufO8p+F+4mA3wb1alzGFgYTLGS2vYsHA\n",
              "af5NNXlpYoH7pUXWZeM5KXyJ76UyL0VrWpaWaVTsNukaIFQLt5gOMEQv+rt0d/Vd4gz9tjELGLtt\n",
              "4f3J6i5F0K5OKy1I0UfXlnc8d0lY3OMazXdBLliUe1iHsz13AOyd35EVU8R+Mv+uPrheUYwnFj5A\n",
              "JgI+BzPEkho4i/aSl4ZSaSUjK7tp0eZqtROkJl/H/zWqXiBehL9WYAAAAeVBmqFJ4Q8mUwIb//6n\n",
              "hAAAAwArIAva7MUmaG6fuiMLsyZbD/JW5MRWV58ndosSvnuJi55nYoGNNOJIVlStrQeARvBYESc/\n",
              "i6KdxRmUFJnoTY6hd3h213/6f+0gvccPboVCr7La5tZeiYR1Ti3Wt0aj/gQn4lrkwqWybKRcMMdS\n",
              "wFQVvPMagZyPyvfUkCTJORl6x6ccdluZw8xz+yQ3cFiY/+8+xKq3n5dx7KsUACTHjkKex9Qr9X7M\n",
              "jIYUadqWHxrt/1r4Mjqm+ZqcoF+PDSfZ/MaEUctehB15PdG72atXCCR59uQ+1rpobb/UzYfa01EN\n",
              "nc36I5u8F9tsSoYr9Ji0DIWU/fH86yQeGmFRAtxhgLx8Q5I5Iz6mIePRLvkD8QPpwlAy9sh9WXCq\n",
              "5GKMX9OwiFsS8weGY6UKKC2Ue8rLhP9Q6YksGKkH07BSIVYkhsRGmXiTyPjcwNSfQZuoKIQr0moj\n",
              "7wp8288du0ClKkGV+t7Cho0WP8tgwYrinKCYxhEA6CihMX8PjaMjbNNDAxmO9XevdY7k1zc+BapQ\n",
              "mmgnzqSwqCLkVd3amRIe/nyw2Q5FcNflJ6xasY3x1D1UxVslK/gnabuleox0QOWuvfYSld3YrGd8\n",
              "tSoRNN1TIGaKj7viHzYfIQAAAQFBnt9FETwv/wAABKoatcLxms7kRvXKxV28ZnETM56FkVZhDgAo\n",
              "ByXRMfyuratp7TANiNd5u4/WB53Ep63yPASPAPc62K9HVIT4ETAh+rUS2DHVHO/5uOnczJ8mLkhM\n",
              "LRkS5nxmG0fAvRQF7GIqgFVQy4EOd0GAZVA+8XMPIz1+X4b155HChBiJkvk2iZbyvysBTZmlQnmP\n",
              "axM6tk2MHqSxKjvdmHjB2Qt0XGiEldtXa6LNOFWH9RQjdgKR4kLF5NNUiQUfVjEv8k7ezIZ9sJMx\n",
              "0Vb2t1WCjvxtoIGPf05O+xIjkXIge3x7tXm0PzASBtv9qioDcFs1F6IwRvEAHPEh/wAAAKABnuBq\n",
              "Qr8AAAMAIbMmID/OiRhpLgTxSv0lWEXdj7hc2HFKz+fwZzfoo6dAOnAFOi/4Q4FcVvk/TmM6fT9o\n",
              "PrKDSlQ183lFjoxZl1GJugS3JmJd0blhmTuYylLx4ahQ2GxWX5mjfAPejRmPbqSkVlbyJQEyJvJx\n",
              "iGgEwjtAOv3GcWogJnlqkxO8la1FRArqvXGW3Ia5aQcBO40hMXPD+GLAAAABfEGa4kmoQWiZTAh3\n",
              "//6plgAAAwPr7aDr4cfQqiLkfgL67oZj3kN94c7NAIgZCKxQTzuqjaruJdgitirnHGNGK6ZT75Kt\n",
              "YZlfGZkKtzbbqH+2iO+yUiFe97risaa14ZVQoaSxjGLppHWzYMm1Z8li1zNxU6kwpfnRhq5WWFTB\n",
              "oo+f0jegvRlNhj9b+AQcavsOjZhium6rjadY8iAYefifKWoY9APNBSROkiXO6nPOuc3yPYiDg9Cs\n",
              "r7jxcwSLqj+gbL4rzAgBLSTjTwvi2PWJE6A4Q/YWNA0HR1onPFwWbpeZGpsef6JxqgYxPKVMgESQ\n",
              "dx8vV4rbKSfbU04kwh6H/06ai+srypyeokTcssbE6E4ubJ5nG9Dct6fIH5WJ6dYFrXXuSkxNT437\n",
              "jnz0ZwoHS8elmlqC0VE/FCxqnFWbiyxxd/k9xXciNVR3+wTZnnpVKFeSm6Ys2SmMtCZO/WjjxNBM\n",
              "8p7cAk6JUuMv8M9tvf51xxCvGugNgMs28SaBAAAC9EGbBUnhClJlMCHf/qmWAAADABU7PO1HZGAI\n",
              "mlHPAOczS9Bd6poXzJenouZHsl/5gBOJTchrLAb10DaaMDW2EJQfnTTU5zJUPMZdOJcKYhjgJZpT\n",
              "tCmdo+xdkx4lrEHJHZeb2E1mB99oeZ4foqn59InmeVUhe9i8b/YBy/1F/+DWrhFkcoyunCdwbyJz\n",
              "RbiABHxzQjZloTFsVgk3ouGH3eFa1lavU8O0ZyQ0UDPPw+TSsUMfH3WIa/xvR6uIUxsCnMiL+be7\n",
              "miYbMUZQrttz/ivDSN7XR9cefrVNvsIYZS9pCF6fVIJAk563hZpciCNTs6lP9yl/egPC68VLLOuS\n",
              "YjNDDs92yvLGR5l9yv/9xjX6dNzGl+j780dlFRlRRT6JhbifTqueUNKPPS2bMgzXyRWkufhQzwCP\n",
              "jYA09oHGxVp+2BZj/4EkhqMa4vvAda5M4MBBh0SpbdqE1wRRS/CRguRHFhYq2iXEAuqW9jldCCiF\n",
              "ajG1kHapV9l6bYxt5aav/K0Tyz2gUD0ZFavuwVW3cLFH8OIrceoIaf1JPJn1MYmesi2256ZnixZw\n",
              "048XYjQ3lHyXczKyioPM4+8ZrKOHlf9bjHIvyvApi3Pyd6oJgibeNAWfwGpVUD1qErvcVb4HxIrs\n",
              "jbwwRDTs96aQLeHFb5mx3+rPg4FrvECjHTTBbNq99a86POqBz3Hw6uglkwKVYiDkZHmz1RRig0M+\n",
              "N4uKndMeNQQXNRRu/YJAQ3Ah/0tPHZhcx6Zr9+NQj25FXg6kPYP4ifZzNyzVN62DhYScpSJ1n2ci\n",
              "hHa42JGTGoG6iD07KYYB4RVp0nZtnM28mOqEqFykCC2f9psyBEObm+MJz7w0uAUKAad2kuTjjjHr\n",
              "JaNJxDGhpnYxuzf4DIOtiUdRLdqgLpAf8Tk3nsxw/kzEZfUKfhel6dZQSGK66VZpBqSKfyT+OlJv\n",
              "KQZincOMgcOsb4j/KzKvNJgtrlXiO9dEwkYw0WZU+UpH7oXi44ZSnPFpDebIOAAAAUxBnyNFNEwv\n",
              "/wAAAwA+LWAET1Mn/Fo6qBJzmYOzkNPjGfSCjm2h1hA757gs/wXgJUg/IRh4pJiByIwOs+rxGa1p\n",
              "CuMqB7GP13e9rzPf4eh6O7pz4NRibIc9JUbYafQe/rfhDrAXccLB0TM3cqYw97BVOlI8RsR/dfWM\n",
              "LQYxjWJUsGoOtzSll6rhA1jhPtRtlfx1QCQIE6pPX3oVW37mfA4iwTTMwsf0bVwqlJ9b3l7uqpBt\n",
              "9NcPQqdt+B4Vu5PMLGfUBnf/t7jWeCiSvIhCnCJ0JTdhgMWiOwDMcyj2fv+7PWpi1tQ9CId+Ysv5\n",
              "ttq5OpNwpSBndNF/PD5xcirwk9p40Ct3keKbSINChIS8DREvKCApBc0ezpiaaY3x6vxsrYYfIrPd\n",
              "cTJx6AUIrwQUOjCtAZhrUUNj/LoLWXD+Jxk+66N/riAuEhKAHe4kYwAAAKIBn0RqQr8AAAMAIK7+\n",
              "prgfG74ABZU5A6//AiYU6XMqQ39Axznvv01fpekT64P1B+S+VK0AU+s34yAxwgikmS7VSwmBdAhR\n",
              "HqWckftaauW6ctZTyf3JLcf7XWYIokayjfv06LZCp1fPJDYO1MGsw3V1NDTJrwZrc24Y3gcur6q2\n",
              "kNcFxOFBTbJ9W/9YDlmlgsHzBVuJ2UjYCO8n21jhM5xvhv0AAALWQZtISahBaJlMCG///qeEAAAD\n",
              "ACo+8A7a3M8BvgkhdX3BLm9GMAQgONbw2wfwZxSoVhGpLIrIfEAGelGIrK4LKJl8t51tO1UwI25Z\n",
              "YBuOyJ6YYA1H/6pia59j4nGqwP+S1rYqh893dAYxPlSHxf8MdTeZb7wgeN547961GdUk3nZKASgx\n",
              "GkBFKzJDo5fkEdPHkYSP9GzJhsfgxdmSZrgTQ6EnEos0qYq36Mjj/cyZUlM/j3poiWvcpoalDTIH\n",
              "7OYJDQ5B8EUpdTcp/RAw65Ug/l67qNGO5yMXBBfc9rLqD/FTCWx1gQjbASVHqTdcyUSm9a7sutw8\n",
              "ay2B2PgYBh/9+UVM9XgWnSlUDsUgHsai9USWJ4dcZK5oHJF/7pP204MXt6k4wH6s4qZtsFjskLkI\n",
              "52lECELb2WI0lOqeph+LpFhmbvf7wAoRoxlVBgTugbAnE7HVvAKuWLO3oGBCC3s9phdaEzY38FTK\n",
              "0H0WJV6ayRXzuqc7BI88t5hsmKtbKm66x+OuCGxCPkUGlekQrPZZQsFrxMZSXrP2Ud8uc0UEEA+S\n",
              "RRP/88kALlM/9+PHz/4CrQ90PSc2RNqKWXR4vCA9P53rx2TQiCpSRfvRO7dIJwrSJQg4iQuTxoj4\n",
              "Y+FbpcuD4AV0D+13Dfl7FHLrDmCtD9UVWe8WwsyCu0cZE6cQUH6edsZvCanB6djmXjH6YZneP5fT\n",
              "pajuk7Z+gBb9h2fKD0H2bn80N+Ysyn5Uo/iAE41dR4qK2wyO/lYci5Fkdsvfo/JpXb60JKUTnN5K\n",
              "7ukEx0i4Di3rn2xdUAp9dcUUHh/72qqyaVVCCJoOfahmGTgXTtffvwQqecjWp+SuIBUFk8oo6Opr\n",
              "9uG6EBs59lt6Vx+8I42utqUCpVRM0VrL+xr0xQ/ogvuMjyyX82GnD7f+jkPa8E9peDKgSA9UQ3ex\n",
              "3c1w0QeJF2UfKHXuoGRMZLTAwjbdjQOdAAABF0GfZkURLC//AAADAD4fHZJ/NAUkR3NKXIRpaxXt\n",
              "pEaFYATJxUj2yfTbLRH9VrKTcABmR28CdEiPyHKiUboSkvF/GMCgCrONT+tY/n2ADlwbpDS+6emL\n",
              "yzLrfnkAx7Ec8Q9qzcBJWU5Uv028BbYwy5JaY/H14an/vS45dUxJVu6rwUT03P/Ap/wBv3kVWcqc\n",
              "k/dwLKd+ZPf80DCKXs2adF1YPkMC547MFaDdDBp5Mi0BWKWMJFvDN2qY4PRqkOXNZ/wtSxZc9Joj\n",
              "qmWFtYCF02mPDlmTqtGbMgOXsGkjaBobMCtmUahRYUrZnKAr8Z4IhFFW40AD/4Eyzn7AmZCS41BP\n",
              "czucm6O7GtioqcWL2JH/61o1+rh8YQAAALYBn4dqQr8AAAMAIbmKSKHflNEmG1wwJqTimnaGzPYJ\n",
              "DjIASp+Q6TVPXXnjMf/V8oyuxmh4W6BIJ7S9+MCYt1OaPbrbA2LsKcuzcPtZFXdARKfYO9cFtb6m\n",
              "kFZWyVLRqKa1Zo1BUPq6Ym0rdnrV/UlL+J/iyoZ3K6EcGA8VpfXkTtMma1u4F9Ye5MfyJ9UdyeWf\n",
              "4ex4hgwTEOXVB0qcwVDCACmGe1ghjMQI1gz3FRywS4vRqhDNmAAAAY9Bm4lJqEFsmUwIb//+p4QA\n",
              "AAMAKj/RRRGF2aCN0oarvnR0+jsNnPclpnANwjVlyVK/17JgCaInx3kwQomxDDJTIuX03a+fQmDK\n",
              "9t5yajr49dGenZT4WNEt7rtZQmYd1hFHa/AqLuz2mCCVmjX9+CVo47yG19msvhhzk6pWGcyGnYC1\n",
              "yNLa+20m/JJFKqhGoI9EJhtL0uH5LgdPLAmF8GblfwPoHSxzS6ZiVPqwKBIB8EipqeKRE8QY4qYV\n",
              "fXNamnpNGg63PR+I2Fz/+bkwS/PsalbOBvG5EQOoKWYZ0vUuTAKk5FHGo/gBZkYn182Z9jWOmeyq\n",
              "2L/fDuQ4XdPIATpwT2e67V9TK3ThHUdPTjXdf7Ac5rFunAPBF0ZVeggfcF5jtiSYOLCkKOL0tYaa\n",
              "xxDbppl3S9FfLpuXoK8Yim8n3sTryHbpfdrkuZX/D4PXI8rgt5VUUVJGUrlaPDM4MQh6bG3V67/M\n",
              "6l79BrgmlB+CG5pjp5ijjzsfjYNNJ8HdOSauVyk+Zm9FJagF1zeeCeEAAAHFQZuqSeEKUmUwIb/+\n",
              "p4QAAAMAKgChZwaeMFqAPIOve7VDTkfCp+4I39fpn+9HwYvfxdUxeJLlzgflv1ET9EO5MS7hR9LS\n",
              "KUKb8wPHy/GtfncozHi2mXo3DfpS1zM5VytMUctzQGL0K4We5O28vJXchjxJdSoI5LBxqE4RAsb2\n",
              "pj+UKU93qHotJ491ToGNpm4MSIJs67g/sDLirjCN2KD8mg5Bax1ksof0QXv7JwurtekWyGH6v1LS\n",
              "WiJLzOpvQTwRmpQnQB6in8VBn614KI7aJ+XtaN5PLWSVm7WaeWmvgjk7YLauljSbSUv/TaMHx9+m\n",
              "lQRS8N6XqHYtqWQ6Y/ERuZpZJmhXHyq6XV5ma3Zuz64RHAXf6Pr1XZ3ev7qu2hxY3HM8v0JG8irq\n",
              "bBaXckAtvTkEOGIcQFYYZ7GA+6zXgtEYPa+taGzzL7EM+Ey+Ni9nu9HFwK9psIyAtRgRK6pzmLcI\n",
              "bqEJjx9BaDMhroyKl9OrtMF0g7BEhwmDr2Sa9JkBVKGS8ji9q5XG8sPhnzukIEW4/MXBO2NpLDWv\n",
              "u0Zb9j73O50uwPKNjcWHdXLyvvCAtDqjHibTeWHgqi343U0Ac6tBDuKBAAABkkGby0nhDomUwIb/\n",
              "/qeEAAADACkcy7UPSZDQPAB+TwwGRiT6y+iG1QkKf1+6V0FrDGW0MgFjzYDC0coud8jaufQDw+uA\n",
              "HohoZeZJKnk7tCC7JoZtASkGL+/0rMUIyEZNLiE/xwHWbhAtfKw55qP7kGRhhtgqVKnKB/+mRBWN\n",
              "Z9BHK0TXaIIg+XwZS3x9xrdO1G11veLLOfp28KcKEsIfm2BN2KLHduX/XEh7iLp97lRdydOfJ3oK\n",
              "tHJBBds3jV7bxBu9R+9aDZZY7FOvsrzmjMQTgtSc3+0rPyfIP5WDpZ3WNnPM6DNNhHk+vC9MDryE\n",
              "zXFd8poMy99G6UNwr+rObZ8DS+ScGRy5teNTiGOKtI5+AhqyI1Y4MOkooaCHdArDkWKL8Enp+A2P\n",
              "6PMoR5T9U+8BFRJ8n0/s35VLMtB3IYvBGl15xbJFOMjhShTdjsl2hIajlQ+veZGy5vW17Vw7haCz\n",
              "U4afA/WDwdRB9/xA9k9Z8miPIrhZ+BkzzzjGFMIrbZd0OKn8A8CoKuOTpPhbpRtVRwAAAaJBm+xJ\n",
              "4Q8mUwIb//6nhAAAAwAn/Mu1EGANvbEAkxNNoYBqVDXAF5McYuAsb9Z5wOJnpUfsKProknVDHtQi\n",
              "BX5372lwRVJsK+TymSePGDSSq8Iii0n1pj4DG9XhlEkRVXUvJQF2Cnaq/Ni6N7OoPkLGCPKwDs2j\n",
              "2wY0WjhsP6XcXvPAxo8GIJ5ulIBf02FL1rLYy8V5eQh8hZ5ePYHDx7Cv+KfaKfBJRR3M1fKmi60c\n",
              "hpGthq0WbhPyX8kwB1DUU3j3HYnmKx8BjAaSyXYgtHsEYAmZimrOvMd6jx/VfNMoMD25dMIg5ZCr\n",
              "zZJalscfqQoIw6poKckv7rHEXjyU1UM+0pBTvJ15YhXJRsOvX6Bn2qXPWqxcKNaP4YpYRtoPA179\n",
              "Myumryl2Db/UihemCrvG6UGpfDNGJseGprdJR41+tUj9hWOZ0GF1lezBXPPnE4HietYtdpc5UrVg\n",
              "hfJr76owD/9UV0Rn39EMYVOc0xeuo1R3xltk4ST2pqlvvfG2qKtJTs5zIAJ4ac0QKkxYA+0ho5Hl\n",
              "JwVK94pMEdOw3+IzfSmDAAABgUGaDUnhDyZTAhv//qeEAAADAA8um4u6AGgbBxAu5TyRcSStJ7Ip\n",
              "gfniiW+2qODpNZ0QIXtoBAO8Ai3b56TGjK7geio3Spk5d6aoIiMMXf7ZnCEf/CsOqBKyamLHWm8i\n",
              "m1I6xagPKUyvRYdiYMO0zTmN6mhDIeayDBguplaPRkVf54oLrjpO2YuTcfr3M0CaBn5ng0sT87PZ\n",
              "GUCPFI4OBnIKvwwdn7EKBksxTTh4GsabDwo83TrgDrHrwujRaFe9+ZyRsJxJ4nXOcyaY8eJHiKI4\n",
              "MN4aE72dEQwEkBZSI2yiVkVfaLGP4EpD9PxfCeltf4hxtvFgZ+z2eM6XGT3iOhREDUrnnLxPPxLR\n",
              "hZYbCC4gGGm0wvjqUFozpNGT3VHuJcbtL8FW7c530/e7+u9dryq3lDtSG7gt77mfUazIKo4Zh3hk\n",
              "e7Lg56ZtS6NIpUHRhSwUsSZ3+T5efUDd5OOYkZ+E6N6jqIrbMSTIk6Asybkfzh3YCvWEt6F52pa5\n",
              "IV0ub8EAAAGZQZouSeEPJlMCG//+p4QAAAMADy6o5yQDLcCvDElM8sky542zhEPWDH5YkvJbNgDp\n",
              "7/cfyJmrIYx9ShWZa2UnGs1jTBjFOGH6E1acs8i8KmdR3W/OtheqFgOLuqlM/0d4cTVcPzOCn3Qw\n",
              "MywPHm6frX0oY3UyL8Y8xZvDwDCNCBHFnBMrzPKW5AtSvXrV6n/ecFDcndJ6yJbbDAAvWQFLInW7\n",
              "15B1cd/GVIGPN5IM8Dv2YMBPSZTa+CAZNwuTp8BzQ4nsREzofQxSBX0oDkBUwCuu80FClHfpgvy5\n",
              "XGuk2U6nqah4PslAAHThVaqHAr74w8L/CyjU4/m3JeW8IN17VLbRldauYZXrKPns+bdKkvMMuj03\n",
              "e8p3Qmd0fhGJlpmxFp3D/nQSfI43y6a7/jggo2ddmj/LE3wXebJavqjj1hDjHDd+LdyQjU3NtI8H\n",
              "KPCx/tJRuXAqMJoIlalEtSkdc5X6C1UeM0sZNWwJyKCwepgqERAs80f+xihsl/DHgrU5oo/tWqiO\n",
              "6ZLaI2X5mga8fFsV3kO/g73FQQAAAn9BmlBJ4Q8mUwURPDf//qeEAAADAA7OKoJtqdOUGgAa28si\n",
              "mvKvJzb7PpvKjUFvKxXAEjl7JbL1demssMFGXl14/qnAjWGBI/p7kpg4lB5GGjK/FwJZSS1FmR4R\n",
              "rRNSKhw/x9hFJhhiaR8yU+CYkOFoEDDcvBb6tSuoY3UXdqTcAiSzi2GVK0QdIc1ZLr2K+A6BfDtu\n",
              "4kYLTcyQ9Vs5iOH8LlkUTVoqU/fdDm/UoJ5aAnHY1LxYr9nKitZA+/68g8fH/sOqk6jseGghow6u\n",
              "Y2tvTbQV/N2Nwo7R3J0pZ2lA/v+1sxhiFJrCzBHEtiKdN/yXrMAuweH1UT9WIlA46d52F2suTJPI\n",
              "tly/OWZFfNBOPH8UmPnFDcKvMjXRABhjDWK/vvzAyTzAFNR+c/ZVhc/24mHGmRKY2Vj1mQUVVR7M\n",
              "X2EHSTWuUg+n5cdqh9X+cF+c0F4HKbc2LSvAFH7OxDdaMuPwGOCZa8XVELJlg2Pxvplm56uj/1ee\n",
              "Ba1aAzoqGPc43893uUR0t6AiTSELs2v8Uf6tfT4qbjdgJiB3aS3sQk4rHdNUxeNPkgNXLFblu0wp\n",
              "ZINYDuxhQigq0wj0FlxkzNPGkzjUIhHh1GiTwvcXVN9VoQreOcp+bqt5yWF8i5HhT7n2S1R5vn5v\n",
              "TJwrWLmUqRvn56B7WUDl8VCZpp8u+UzvLbsDJ3A8p8cYa98ri7ngtMOALRkoeSW9wUZlk0PVmIAf\n",
              "pJ9fOT+klAZ8Kiyfjrt4pur8ZufrC1oXmXtAgMM4U6fjeWhAkaUyTvqb16zdmZnh+Jdq+rc+Ma0Q\n",
              "Kl2wm53nho0tB5KeipjYdt0FMPsVL9OKO/NzclIfu6SjCkEAAADFAZ5vakK/AAADAAw2dV31+bpA\n",
              "suQGfp8fGdRqskIN5uWK89tluAUzvgrJrLJt4O/H7amAFhq9AAqPuCDHc45z3QyGgNYWPyC471OB\n",
              "LCroSOpPdSddv2cbcNors/PMlN6QyfNSS8aRb4x73l9FDdOm5io5EqWCQ0b6ZqxSTha3AtnEvKqy\n",
              "eH6eKvSv/M+r3Ls+NCmMKhhI7JK9MbG3ymyvpxYng93o9OEyuDoW00YFochkrEJd6p9hEQNE0vpM\n",
              "lRCtHfpgwIAAAAHqQZpxSeEPJlMCG//+p4QAAAMADzAi7JAIGl8acgpEdEYbR/fxd2V7TSVQQk+L\n",
              "26ionu7u/dWKNQFwmj+9cd/CIYwe8PKtnyg0SsFEbJjMpQVmN63kWaZ/aldTI78HhfQYWrDj07il\n",
              "Tgtc0kVyC8VnawUvOAoXuCYQYu3m0CNf5dhSIdov948d290Q7wbBoD5yAqKEpRWl0pKY1Gg1CHXe\n",
              "vHd2cOpNFvGX7aJ8Wzm5P9WjHZ259T7lRIacNkBTfb5BBWJiKocJ8pikJ8zDexjeZHwWhqksibtE\n",
              "xcXk8mPx0jPGIu6lhNAmQxarHy1/fnZ5X6JJHUFka+NBeH/m5vX4QhnIbGgAkbs/bnryL7Zhc+qB\n",
              "LIkeFU1mk04Nzyymbf9ysiP27mkggu4E/QkoJJH7yKlCVxp5xtGvUkWmv5rdL0XWUuwGa7NmgIJg\n",
              "qyAhRsO/WljQC0SzRlGHB7J1rXJJFA0oztha4Tv/XSGl+3S0PAfaZQrT/cpokXsa69WEnOwZqwvb\n",
              "nak2PtovJOEYjE0YqAAbbPafOIP8UZ3MLb5TyTMUXWxP7e0WRVhbcJ5G1SE2XVnSgBsqD7p+N2Mw\n",
              "YNbRQIa552slzCbZq7v4AcZj9UaqDipp9khLr4er1XNjliqODYE8nimZQG1KYAAAAbhBmpJJ4Q8m\n",
              "UwIb//6nhAAAAwArXxPsGmHWARpPUEB6vKhEQrEQrelnsbuzFzMZ84JaehzeuJLowvOo++HJHK5e\n",
              "YqVYW5RJ+CXaexvS6xipFt9G2V/3kjhw4BusRU1VgDLGt8pvf1Kt+5awHsTvsfP2qNAdueAG5tpE\n",
              "d1maRjIZOWu81MQgz9VGmbDHilfq3IJo6T3YpM13JmDRgfs04D69jLyjscNrtjZCRL/5+4DO2HlA\n",
              "pukubIVtv93lt9oHa985BSdG/3KEQGwC8KMoxANDAN9Pk/jpNjCBP/uGMj+goC/r4cRPACM3YfQp\n",
              "5QLHiWJmQPHA8+Ksdjk4ulJqAcLxh/nDu/y1tAZJz0HkO93Ao8bQxaP+QDkOmBQDKZC1OPqL6VO/\n",
              "uvNqem2hTgQ5fgdHakr1QYVUQIJje39yYhJHhvtTotnjCAo8AgF5hwpHVpV5fDWBcd0AWM71BN2Q\n",
              "140BCSQizbW8rfgVWJCLamkXgme/bkjVXkw8T6eEWueBnluuVD67+02uNGmd/7/cap4HHy/5AA4a\n",
              "6EIQYo9KHLk+Wgc9tKTHyAo4pgoWaOw7SBYzluVcvy6/xwAAAZdBmrNJ4Q8mUwIb//6nhAAAAwAP\n",
              "KTeSAQMGWsF5LAQ27WRT3dqUSUj8uWkAHE+AIVSRmTWT+5pV16dWfFlT3yvaH8MPXn1osqf3TZ5h\n",
              "DYizat1QJ+wwxYtoC2ehbYxTv+OwcJpB6ZQgfhVZoeQ57g//1nkdneTda1kK8Xp1kTpPOiVf/qSf\n",
              "977AVLlOctudBTLsoU/yXKq5rLkEY4EJxIqO9fC246K76LmPIbvaXtyuLIrdX13s+SA2WoKUdx6c\n",
              "H3zcTwHJil8Axhq69SQnoVgY31M1lHfivja6YrDkGCYZeimlClLbSztLBF7DnyCeQ0TSlbT6HoM2\n",
              "BIAPxHfOGwUlF14AbilXprs4+pd889vjf64xK43GVIrUYaXlt+sZmnu6f9C0klM2genFTeDyeNPZ\n",
              "hAV9220ABBV9IltRSQpy/DoLVM5KpcRMBV1RisKK0g6jDnJ1a3SXf4F23C+/KWfX6MRQj027R+HD\n",
              "veUL/qHugmyQJOEW+RytAM/erFM14v8imC3IjowLKQJ1SdNfkD86ZKuulFEowAAAAiRBmtVJ4Q8m\n",
              "UwURPDf//qeEAAADACo+8J/7f0uAQjb5MaOij1mavoLg5KIjcvU2Uxkpp+6idP1K9q3OCIjRRr6D\n",
              "SKISfKksoPH5uyHbNc1Hr51b3+ZHMKKIJMMK8wwOU2bVqA3Tuoag8G5qdc9b+AWy0JE/IrcpKdBK\n",
              "q1WWs/mnYfaadmk32iNdE1d8E8oln4DxYphLCHJsZDB0YWrCAkAMNjOA/mwQxEProQJJLiM6YAhr\n",
              "aTnk0MJpgr3z/DJfxgKe6QhRmG1CCNCVQKFzwYwA96byhKexGlg83zIxbZsGzTWZS//46UvofViU\n",
              "ZsC6+v5euK/jublyKthhgHspY5928oYeb7pc3NqLsmfb+Nuk4uFPF+KQZQm8g/e3LEBJOwcCQDY2\n",
              "83FRepvdcV/g0gJJhH0OYEsZMfPUYEd5fkMyKR5i1Hk++kHJ06gFfIoZsxgXBVGLWi676CPv8O1h\n",
              "T+ZGHA1vM6MHxLCREhG338Dvdhbf2FpS1P0ahM7HMah8v/s1CZw54z28PB+6hIrFjdjZ6nlbzraK\n",
              "AFTqE7Sofc5dLn/oAynzRhyDY7aDobIDwLwGRo9PSU7c834ucv+mni8S7fRppG0Qov4GDyhoN/7y\n",
              "5Q5oUW/A/nSW1jdFNarnI2ZNMJniohRkU58Np5bF6jShdDdcGdrX3JHQaibNDEW6biDUIVmgZnO+\n",
              "RRw9wyl868J1aUGK4GR3+Z3oYpbObe/fUiccdgAAAK8BnvRqQr8AAAMAIbI9d4c2MIjvb+ZzMK+Y\n",
              "5RZAHhtgGpVayIACzwqlbeNxLIRiJfa4VKl72sMK28p+P/crn0w5o2Tsnifklm9MGzQdIM3dftUt\n",
              "XHofJSWuVRxfcb+spl7PIdvJInX/yPHhTpEa6/lIrUjNkn4TbwBRFnd4+W0AbK0w9I0HwJGhaIvY\n",
              "NIr3aOdHUAllYyh1kbwHrxU1I+KEKBZJgBHDUO9Qbfl85JJxAAABdkGa9knhDyZTAhv//qeEAAAD\n",
              "AA8uOd7OYelGQ79uddOQAmxB853sbSbhqXfgBHX2KyJv1cL80+o2fpRoLKmwog2puREGSar1b3/W\n",
              "ibv05qVJhvlcVOhsKgh1DElXDU+t0N98Ox4HtvV8aCTT1W/ObyHwvZfdeaJI/XSNE82x30M9R9Na\n",
              "FEDDPzDLwDXgDtOoZwHGxNQ+x9PjgjsGTlg+MHQbvzvuBN8CKWPksvdr6uuR7nKLj5qiGdriOSzv\n",
              "HJuXGfs+jtJyru8K6CJOGBws7cTtg+sF9UkL1nrqwGHIgwf8ap3rnXIYN9Vp/4I+MkEX9WI1E267\n",
              "InoV8NgG1O0REvW/yxX9RL968Wo4Olv+VMf5lvP01ZqIKpZkLkpGOIFWtzBUKaxQX2Tn+ehR+u5q\n",
              "JMlpsd+QRYndv/vsZs8cs9663+VqMCQBLdAAoFCLfAzKzedgBD3PqaEWbejr8nDDpologBPgA5yb\n",
              "aIDnFPtPN/hl889sYJEcAAABfkGbF0nhDyZTAhv//qeEAAADAA8uQ9JAHr0XZ+m8y9sk2D3JQ/gs\n",
              "1g5WZO1399MB3CbkBa9jMVhX195pm4v9DqQox3buUhymJcJkOY/4stCcDMq8u1jH92Vz5W9rfmsN\n",
              "SeXTUcjbLT2FipifGGXTBaXmFIHCXxfgucAtWXXla1oy+3c5abB1p0DoTC/rs/gEkICgFpcvKGWt\n",
              "sbb8wD29DZ6AUtQ2/TNepQcsmk6udRXMegJLWmhxhFkkH4wbMS1oqQfyysduH3WzmyuMIYbVQEXe\n",
              "M5h+HEoPf2K+VPKi7ACKP6tPqwEGHbnifcNf+p9b4a5t/otg1TEJPh8q7idyi0QvIL1RQF6YDNVi\n",
              "0J4FwqI/oR4SYcn4d7z3jp1+3uRayuC827C4mj3AAy9rYGaOc3ILuqPJvNqJditEh/uoi/qb5HpQ\n",
              "MmyMb9HD+Q4IJkEMqmuY4YhtKaDoAbcKgzqx9fxAGTb5a8SnZwvxIyvfKTDhf7w04pOQmqxnS6g0\n",
              "UEkAAAGOQZs4SeEPJlMCG//+p4QAAAMADy5D51AIRHVkNNFBhScgcj60JEujws/MPvOAVCB4VJ6/\n",
              "VhuYcnVIxI99oO49hU2Nuk4kcYzGxLuCIOGrU20MS/Xk7GiKvVelP6WJutcsZ/rqhb0wIev/TAx1\n",
              "+ybKuz0kpN2rIHOspn5HpByWNTmfwFHxN/u/+bQcCKCTcKSuWMV3yHUVMQLw+ZhvR+CJwJMhaTia\n",
              "A1Mkf88B0BqVYeFNJCJsURASa9KMjU/vQTmUIPq6LbKMrRH3/wLE2SfQjUcHlmWD3B9xIAzShm7m\n",
              "zOi3lj4uaM/TEFMhPJSclgWYglmQFqd33BdtWTgUj57FHlUPEP2D71AyMUYGKo0NFbZTBRxSUD+4\n",
              "RWqKxAi4PnE2MfwiHO0iGbtfuwLRnQmdQj3KdnawddvPADKH6A1LiHy8RXxEq+lEXB6VPYCAzF6K\n",
              "pzjxyAXruOi0sVOxDoBchRYJquluEXw3b+8MnZ/i/d74D7+mE0/+W0xlmwVWR6HE1CxJPHBtPmAQ\n",
              "HMcugJkAAAGTQZtZSeEPJlMCG//+p4QAAAMADy6ngaAEvOw0MsMhQzA+nnVyTY2+/u/MA4yxrD/7\n",
              "10CmczS34Epi2XorFn0TaBulcu2Hmc6pK3+A9b99BQFzdtbxI4BV/Cds9LhsK4jGyNfu9lm/0OQS\n",
              "BCrwvpM6gTmt1pq3y5AT2Q65i2YyhVSSvZDs5Tuz3l3b9mCIBYl1lzp/f2MyoYk9qs0vkmUx9seg\n",
              "hMir0+Ak4jO5fcKrW/d15+0HtUx+bpbSVz1DfXe3keCWnkRwBIaIc50zLAEAtUyGnWvDq5wSNhaY\n",
              "VYmTyOmO+mAz4gzuLHDlJs2PQN+Vl9ab8vi/cKe4fuDmYA2rINlE8PnDfuVC9IZosmzeeqpkI7MS\n",
              "c2/q0p/cI6CVqsClUVZJgSLsYHvsVa4Tlk0YB4vuCfE4VwV4i2YWa+TZXLdUJD1xVldQ1+Hk6BxD\n",
              "EAlWlmDUzgKv6lv/9Ocq5WECdXKkGGnzmog2amU34CcKq8ln8/pY+iC5KLaw1th990yE7yXwwh4L\n",
              "/Kh9Qp8MJLAdq1XYqAAAAWdBm3pJ4Q8mUwId//6plgAOPnu6VtPVCwdE1rgEW6/5BcaP15AvP6JK\n",
              "novhclAy6PDApzNBW/bOnwTDxqhzQwunqCvX/iP0ltnVk/ONqYGSL1lLmkIlZ/imQq9ZSzozzgnp\n",
              "y7a3yNpr02FMLjLyWeMzowZgidIX1d0MuKg2o9AdzCkJQreUn3M1Ek24QUsxLV8SNjfeIZsrFFHU\n",
              "yn8bvHOgzMvbAQoOa61P/g5MOe1OsTxD8VlG6wdWR+Ij0vBPxqV8gpLp9JtW599ut1iBt9SBEgcf\n",
              "F2IFmaXVoUHI56aW9BPgtNJDlbijEqR9vfjMeC3MctR0i9mru5xdI9fdSfKzm2JbiX125D0ZAZVd\n",
              "KtUztoSjIR3YBNofVP9gqC1sDRzhikMa9PJavGQDvZKQq5Xo4RjyQ+gePE3U/xNGtPnURSrENINy\n",
              "Lc7e76i1zZYx22Kbllz2oZYiB8Ua+qtG4rajy7ha7EjbEQAAAVNBm5tJ4Q8mUwId//6plgAAAwAH\n",
              "ovCSoAaGvxPUqIeo3M0h7IJFcAuaI8FRBqpMFywTPdrw0KMxqJoZMydcqng0LD+MY13ZxTE1FS9r\n",
              "pgl6iwgdsnvtjjxe8lrta4XqKE023CJDg0CdKeN2YB0Bbi/5WK6A1ds+s2tfAqSeVRm7DMvdMalC\n",
              "XR6lkLKQYgFtthEMhrdIEmYoWbx2JWYxfU7HW4o42XEcOA6bU0eFBDPVEcSTJGSc363I7DL12GiX\n",
              "v/bQsfG6DK89MPIpA/fNInP3HZEIxu2B2GGIFIPrF6ABb/H0uXAHSt5lCksyYmQ0BbgbsoranYHr\n",
              "FcYol1Nf91KOmZNC4JsUpg5qPJ1fQx2iQXLLj+WkrWccd72TuSeCV6FhlpsglL3ww7DeA3T1QcBa\n",
              "EBWufysPBRqVNgira1VcNwu3ZSgsAeb2orbxqw+//W0jMcAAAAGAQZu/SeEPJlMCHf/+qZYAAAMA\n",
              "B6MVwZ0AIochK8/odBh+VWes5bVBJ02M7CHX9wrTzSgmuu3Y0z9QBey56lx6cGV2mONZYBrQdxOD\n",
              "OkdKgXbWioDQljTlgORvFST5AbHjeR7PSpYEbD7Kh0bxJ5bZL0TLOF3ttuHEhKSNSRdJbYpyTyrU\n",
              "Y8T3ivseK2zXRi3leTdHOb1xhYFotEAAoj/8YP6aPSfd3hE0jltKp9I0UdlrCWXJWIKauJ+vV1KO\n",
              "QnESFZjRTCShgWKc43/PnHPUKNOzgmfdRcZsEvoGLRJThSRztfFdJdny/EFi3i4CNCr8GIKz+pKx\n",
              "ydwgDv/N5ZKYijAweN8mwASDBCvz5aDKetsznZ9JDoqm0UiNzTQ1jeO3L07MHQ86o5IdsOCfCaZS\n",
              "uAIxwpxsKBvog+HUTlsqneoTO5YdakQGS5TzBnmEzMm6uYHczmvLovh97wKy1BKwbvARfXoJPtRO\n",
              "mTe41HEUf99ewsoeYuQ0gV7IyqtkhUDNAAAAqkGf3UURPDP/AAADABJcCZONXQAPDH8VUbUHD/5Q\n",
              "ilanJ5BdPIXp2sD9xi1MTJU/ngpGzvb5AAyYVJsPRKxHFK6rTUWktwKr8QLlf2vAlQLd8bQcnT2w\n",
              "gyYIRZiyfu1ybMugC5BvYvl6olP3SsqIUcQmGUeFl8xYypKBDyh+REfLlZ61AxNsI/56xCSedFT7\n",
              "7ysEhTEnZjz2GOoa5URblCMu2Lq6A45fVmRxAAAAhwGf/HRCvwAAAwAMPlhYx/dqbL3cp1KL6jcO\n",
              "PRFjFDZa5g30r6WR4AVjqBfprjFKuYYdLEbKMgvxhbsVPme9V2cPC+qJx6FVqi4LOLzh2cEp3GWS\n",
              "TCEekKmtvxto7isWmH9QIDuIHrui4jzeMOsTo9FkJc4qVn4g75l9rd+7htJeF95DIcuZUAAAAFcB\n",
              "n/5qQr8AAAMADJD8Q0LDkknuevle5AFDeDgsFsFQ9fevy3Oh98oyHyqfp3HAX3Q018XOQQvAXf4D\n",
              "JbMvrRVS1LWVrAzBGY2s6ZXbsdCB623AxovAVMAAAAE/QZviSahBaJlMCHf//qmWAAADAAfX24CT\n",
              "8zdf5Fn4BsJk0A4dg3SIWrzmI2qyc0ewcYZkbwR6HkOaXusKki7Km0buRxqLGRDvll89CDO1D112\n",
              "DaxpmwnuBJxOSfkzFCNz8bslzGT5Gf4LYUX/9OVnOQJkjBJkyERejbxXtyXWwWG9vsFt8Q/hCyYk\n",
              "BYQTcXQBtnFFXDM3rK/d9Hnm0oBSyrXlQkG6W/Cp/xsnTaOaw60Zg4DPRinuk9BSZsF+YYfZagP9\n",
              "sBEg2KcxiQN+1RXouH8fGHBTmNnz0iBbydUuaGUqRZfHJ5XL0dBE4SNdA78Ji2iv1v6jcXdaJWzm\n",
              "FiI60cw8/3ev/cP+17x+dUdI4afn0RTzyyTC6avg+qEkfv7erp3EKhuad24digQrMhSHcWcqn07D\n",
              "9W4ULa+EI4fWEQAAAKVBngBFESwv/wAAAwAZKIvypgCvFfeXuiufIASe0DVz1gi8aXdyI6Dqz6tb\n",
              "Ni1hYBLPYWb8ry/JkGLgny/Vs66Q9TtLPz/DQYo+LSgh8TKYCwz6zv33eEAmFyuwyaLlwkestav7\n",
              "Pm+C0L1DeHdQ2oylHlH6q5fCplKgPGHQT+McnP+zGOHcreQd4jiyoK0SE5EgETza2BC5/LaNXSnl\n",
              "fs+jSpjh8iYAAACZAZ4hakK/AAADAAwhoYlq0RKbTQ58+BeFwJQTuQSIASx0DQVwxlmwjLK6sibI\n",
              "S4axX9YSXThVWLSBJsDidq40Sz4/Gpu+aZoTiX8+ju+yK7U63NQJ2aouOY/3WSirIJt0gS7Nw9dY\n",
              "826ZsOjnJaYZ32cJjvDDrgN8XiyupHHxxvE4cHPeEoAOnhfm38a3db+kudbwx1JUArxTAAABdEGa\n",
              "JEmoQWyZTBRMN//+p4QAAAMADy6dTtIA2gcABEj+YRfG03xg8/O71d4hySjX5orwouL0tqcV0xfs\n",
              "oTcHzKtLB16rR3E8nJU4+5mhL5l2TprdjhIJ4SvOYzphoWNIavDQjq/Isv1niDo0qIzVwos28zU5\n",
              "vG4E2auOqJCsKjq9IVFke78SZo/lUMVnpK6200YPJ3vdg1irm4j6U2pYPr4AM1Hcah1msMElL1uA\n",
              "zwLIY7iMF0T/cCh1vdptZ88l8veKB1QVWVk6rq2hzUkv80kGGOPSb21oW/jyfyUlwU2tMjae3Zo1\n",
              "cPlCtATWkyxCRHZ7Ps72Jhktjtb/O4udpEDSYOQqx1bseu/ji3AJ7oXhykM6Ej6vEAjP5NRA1MXO\n",
              "MOceMSUd/l+t2SfqQ+xUBaxAIG+d3+yjmBTibaWjvnjdF5X/euqa2V2df/jiBHdWOKx1dCWpNNbJ\n",
              "GcZEhihncZwUBtW9eltifkIWTjXYUHsD17GRgAAAAJQBnkNqQr8AAAMAIcGYnAbPDGix7IcamX/7\n",
              "VyZ93ZVl7j8k/5/cqx5ss9Fa+9suqQToIvX4AWwDXGt7KQiVed/imbfngdAznZLc5lM5gzuws85U\n",
              "vhCZXhhFLyqRRD6In0NVt95FB5axaQ6HvpCBU4P6RC0XIBSI03HRvwkHKqiEP3ZvSdPwD9vbExtl\n",
              "rtYgEz419OrtAAABxkGaRknhClJlMFLDf/6nhAAAAwAPLpoJ1oBCL9CjHQVaATAkVyGaDcQHVzEj\n",
              "8XQOha2yjKHCW21nNm9TkDeHJR8uEWHYMR+fYZnC7KPy+ByUeSaNHD331ritpbksSXa3hGPhJ4MC\n",
              "gTwyALDPhH4QP4xbTvYr6VH3vpgOO11JLrjp2y7Dzo7/dZTI6Y/Nw9VHsjNL4nZuQ26MdW8UKbeh\n",
              "leEkkYnTmoULgM+iObpO7kjhXel8YJKmMFBuSmWcpqd6UW1ExREdoFabBbjCMHa2RKvm6Bev2JVI\n",
              "XcL0u3wwi3oO/tddI1bA98HsY76V5oebPeGEk19TL5eAaBV0dXbv/T/2Hn6+g6fWTzb2JRdaoVmf\n",
              "hybE6C4cdJnsPBrnuqEUJcg6kdhnRMjhHtZKP7RZUOL2EuOC6tUjSi2jsxt+Fyk9oksEXFu8ESfe\n",
              "ejieEeMkhJpNa5zPbjkYBBXCo8Kbc2MHXIlhlTt85+ScFXEo0YbL0jtqNCvDTMr6ImMLZJdvCHd5\n",
              "/HWj+V9pHE590AUkzX4UikWxPIwjhad9HscHfPBxhavHnO1/LN76L4nib5iC4stiesrm26maf+6W\n",
              "x7x+zEIR4iB1P1cAAACaAZ5lakK/AAADACHCOoB1gTntG3yL+ikw1BQg967hBWTkSAuVuG6dkbZw\n",
              "AruYE0WbOL38LGj3ESoGGjv1ftCeEGkXOt6uqw53AWFc5uTNYnaNehy1mbSh30ga7+Ypro2P8Bef\n",
              "TSoqIha6H4KJPZjxz3uqmWFyf6cC3NEB2Qz6MIgpE4bpR+S9RnepeuuARVRK7zxiUvEWLubVuQAA\n",
              "AU5BmmdJ4Q6JlMCHf/6plgAAAwAHoxhHfAAadUc3n6WvNjNKAPTnddQF4cvUkv4cUBk9a+RM0i2m\n",
              "rBkAYAJFEJy7s+3MhAuhxyFV31qSRuoURsk0msudGcD3oGhWx4JJLm1P3ipY/DH9jfLsy9mjPRG/\n",
              "V9F+534MBl/j0mD0uwvimKSfg0lq0oFoogi53LhppZlkzqY0+Ob2hEizOFazg3U7RnnRi4QQfZMC\n",
              "6Zh9+65bHcxfcfOcSgIvolMNRh+PkSpsRfukBJihwET9eJTPNiqFRNvy9PxTYBoXWRZ9eYs6V3KO\n",
              "tGVxU+5wTFikFSu5mMHj8uJ0yjWkkTDHS6Tp1NJ3V8DysNZcjCJuGP9YS2KImNShvLFfztxdK2JF\n",
              "6opwUP5jc6LvHXLIIn9Lfyl95PlMVja2kBjdqEyQTjt7E6qLA6klV3lUDlc24+h5Z8uBAAABUkGa\n",
              "iEnhDyZTAh3//qmWAAADAAejFl2dAC4IHccoKJDycqVTK5IdE+r9mq82EHahPJBg4uJll0IPTtUA\n",
              "Ko3M/SfDJAAhAztgO4HEIGehnojSAHOF8AK112qpgFk0AEXMRy9iZbMF+V7UyP5AnCEbQ9cFvOnq\n",
              "zGgYX88jut60F2RSJD3IbJwrAMli4HaJJT1/pE8oDqVxk6BJpcSObv5kNUu1U/RAPQbA79bqYy6w\n",
              "Md7KTMYZj/EtX3cZwf74ggHSSFfYtYjWigRWRPt89o4La1Z4TKy11UwLn4vLEOvPs6ft3d+fM/5Z\n",
              "sbmfUoqB8wm9Hv6f7ZMPxyjwIJl4gNg5td2E95QCo8N3jIFFNu4KTGHpb4GUaBxwwbMJefsuReY2\n",
              "vSKWYtAwhV1rpiWn8W9d2uDuHl8nxgAiuLoruv1wAsGJUwROCrTJuGWG1xVEG2CjGMLQAAADBkGa\n",
              "q0nhDyZTAh3//qmWAAADABUsUcVX2DqBztQB+FgSY5H//CWR4CrpjKIMafofwLnQwpCLQ1/3u2+5\n",
              "SoOJmWJ+AYfwaOlyC7gZwMWqRjAkfXe417l+pXamRoZyBP9eIckwXM7YXU2v2yDGoWvETgbnaIMY\n",
              "OTX4MY6jAm5VvRnCgRh72lBShx/EE7vN9dwLDwfcnN5xQgbqB6z4dNlJUrxIM+9dqKXTYPIjsADS\n",
              "o/VAUgqZsJ1006fbNtW5GJClUVaCG8HNZvj8ez4V5EVwaVnbfbD6GOeMiGvLaShLwGKOr5iwgdE3\n",
              "U8QVAiXNAdyj0Qa8qU3eSt2Dw1aCKAXkaTmCAoXrY4xgtDO8e+/ymaTAuhtxjKjCg0yYDV8WbSip\n",
              "aHPsaJlYM80iQsTjW2+gPbq8hiuqH2TBZjRxebTrET1Mh+PrkZoQntBoqDv7xZjAm/Fi8aHW54kd\n",
              "53ZyMm6oUhpBjMR5MfN95SLD6yrwShTzxjDsGowBUvsw63PGcjrMooRcCEJJd/MRmXiVv3E1WaOX\n",
              "8eGlbfTud6ovLC9yl8WQop9aDrvSn4ieN2x96+KdGz/912J/9XOxSd2vEgQRKkJ0AYbcth7f4sDp\n",
              "cEK3m5zOq8gJdxi+m/bnurYwIbhCOgqj4ABJVVQTekRzcZwV0GJPQqQtxIGae5bpFcfpZQU72Ga2\n",
              "Nh5mGFsuSmSLhMiSsq+rGG7f2mKndTYFbRGOwti2oMA6p9rGv/7qU9Ju7WLjBk6BxGxTDcZjJtcm\n",
              "4P6lDcf5/yWHKLWz/ezHMx0Q7QNZaxs3U0NNmu+/f7G75iEcp7AKJGGvaT958Qwo9ckX5qrS2wwP\n",
              "8AZ8ewXxiQwXZRfruRCDgVhX9QuArLoeB4GDfjCMjjmor3g9EfAKKTYyMAP9AyGpuVOkOM9I3fVq\n",
              "k5vjmK/0QLh10ZaM4vV7U+yQrf8uyxwP+uI7NV/iuV6OIwzegeCOYn3J2IVOvjQN1H7TBu0g0ppv\n",
              "IOEcjEAYsRGUfNuDvQejCnILeV4KAW0VHUpGM4G98AAAASlBnslFETwv/wAAAwAZIM482kQ+JwYI\n",
              "APPPJALEZ7bQZ4uxtLEqTf4gqZi8+rwRHRHCUYraPg3nOt73ixgZ8Oies9VdgyibmOEGwnxlKr4N\n",
              "nWT+jZul0G00siy8fS5V1Y39l1C30+OPK3lc4r4dhJQnlf0Jehwv6oVIQjnUAaze++DVtnkXsQ+q\n",
              "xgs0eGFlLzOXo2mXcs4fTLszQp7uQulqOzFLr4DMuYxrM9TAUb+/T6NFAulDqhZhV3NjBNizghTA\n",
              "6By1ksTEXpma/SxcpaZgTPiA1bwtR5Ivj4kkxA32ADzm40l2q1DV+WCOpMQKwqk/BQADo4U4o+S0\n",
              "8uatl3h8T9VPi8BgHWTHcEyWeQkj7xkWG9DRoSZIYe6l7IX5/ntyj6NuC5DxLVEAAAC3AZ7qakK/\n",
              "AAADACGyE6SmRpT5LHAAE7QyAMI9bBpQjCmLa+eGq7yDGQc8tsGTBef1G/QICq5Ql6/YNuJXsx4q\n",
              "JndZkBnAg6vQ3kWoRm7Opwh4MHWRnKpsd1mIYnY2LH9DOJjEp/5u7pw/ta0cd7SolLK1eUZqzUgL\n",
              "f/ZHkFfufMwl4G0e0huThfBzn8T5n+f6aKo/v44Q6h1WU9e/Zg29Yto0JgYV3Js4N4D5PLyVT6i5\n",
              "STTBPflwAAADFEGa7kmoQWiZTAh3//6plgAAAwATg4SYA5kW4l9NRrBmxu82PMimOEkGYVf8OWb8\n",
              "4JxGs5I4ROg8TrO6czaWKX7kproAvvYoe/GGIXijMs5f/eiwMLp3CUndfPTLw9SwgqgxJ91Fw5hs\n",
              "mqBKYGagAGKXY0j9CE86awRIQDNQu2IXnK68AjWuPBfiT9BnLuSP7yoOoCCsxf09IkG/OugCqpEE\n",
              "Yu2bymu2Eno25yF+7hV4tNpcVLxFdyB+wFrBxk44TQcmvLpP4hvKKZVkP1HdFoNVEQqq7zLJqYH6\n",
              "gGSBaS/MwVC7X3NxB8w9vetihJr07xinjnV+qstNjpgLw3Y/E9yt+m9O2JaaBfbGJemap95SrLsD\n",
              "C1yx8Wzn6L571+LTcy+lA/tu4ykwfRQBmlwirqlTI7DUYucH1NqBbqxUIyuj1wtUS6cxd2/vZBvM\n",
              "vwtmICEsxRP850DshajKhxNS4t7c7E6voDrYXtSzEkuaeaC/0fKlcQ2M4XMpVnVRlRvunCfRLHVc\n",
              "o/u40C0nIFm24Rd3HtyShktDVihCzNYLedR6Ft+0Af+qGb08MIWgPrmkWQFS0Cp/CMWOsOh/rSqB\n",
              "msf1tBRo4u/M+REO8D+ScNme45NbIXJ1kImjRbr0DYVCvgEs5Guool23ZEW3jMzAnEgAIWs9jt20\n",
              "kW216uZ8rQl/HBZjyf348otw3t+5NuUr9sNaRqtvgdh55hSGg28b9cMM7RYOG3tv/dlcPck1aJfw\n",
              "cCRufplld7MwR76/2U05yW+MUVAKo4MKdjwMqhJr9MVTnqfnK2xmCpvpM7MDAuZty63jXkvGSTaH\n",
              "QBbysGUpidDjACrmptrDaBrgSC+8jT0BOg/b73ro/U35srfCVUUe5ozkpUPNFSPRQg8+JUpoTLB8\n",
              "WVZOhwJPOGGTL2DTxSKOTAbZYTWOdlDNDVwxWKs71V2OinjD0VYvJ967oPA6XoydpBlOMpWxSsm7\n",
              "zrScXZ78Rk2ywzNaU5IW42dBIbZwUwe62zS7xqLhltkLNkvhAu/t4MQDRRceGRgdkCqHqBwg5Alv\n",
              "AAABAUGfDEURLC//AAADABfoiffNfxc52wwABMbRRUPZjylfEtIyTrj6AxgMOkNsei2UqTJsl6Y8\n",
              "/bZAczd8+K0Vdkfow7xqorDVhrzNldpV601OcGywMCTvuZfg+yOdb0oINfvkBK4jSW/vWDRpL9vn\n",
              "rHvLEHvT/mgfVuItjfKL2gUdSFE/jI3u7MIn155C3sjPQF1t/fyJPX2t/biyN8gkryi1SZeAkgvF\n",
              "+dF69+3ijmDEv0Wkir9NKPSjohrMYRgSzHP0BJEiLRJKJqQAqpcYW7nerng/TCn1cFXcDGYz8PAY\n",
              "OJaCBF+IjAK0Z8y0xHIxccBSRCzsE6l/JINyz2xwhzjPAAAAuAGfLWpCvwAAAwAfxklYCDamzDq3\n",
              "Zfy8QnDex1AB+j5JPFlqBLwHMP37lXv1gYpiFiK8+B/1mzFxCGmmQmsZ9CMMksvc9RMMPy2Qc5Y4\n",
              "j4U3QNeYKnUtD4pt+k4OQNn6GSlxVGA8dwDgMsu429UwuWBNcQjrx07WCudFVJG0TlN9Vr9fA8CH\n",
              "ehBsxGHQU8Ndeh4CbwCw2WXzzfDEIjE2oFVyoH2YPBPcMhLdkOduu2CjoJLepo3IU7sAAAK9QZsw\n",
              "SahBbJlMFEw7//6plgAAAwAThVW0Ao+WWEPO5aAMsU9002mnaI39RD1jt7Sljy5N20aL7kZc6DoM\n",
              "9SfEYpB8cyWTuMb6fXcCTiUb7z42cuOspkPCXI5flU3IqQltjz1LrSmNyImrTnGJi2wX8YYBqOC3\n",
              "CK3LnQNwxC/xAbcrnWa4obRYhULNScUi17fMijoXwVGXdGSfoPIJUx1Xd5q6MdDdQ3C4z9gM15qZ\n",
              "MHKal774wGvTV5sWQcv1/PywKIECdNwuEKZJcmj1tVkqaMYMiwd87cPCa+04pYkpObnEWVYYopdb\n",
              "T/mr9aqrLwDTrobJFZHeOef/xdE1k/VknFRudGEuossVAqo6rqA7K/Cx5QqdenAugOrIkxtEl/ec\n",
              "MllzDG7S0LYNCa8swKrTIXGpl+lP7kTTdERV6iGN07N91d6Q016IPASjU5KhAmpxQWLzs9paB6ct\n",
              "5HngmF4prH8d75GicbW8TI9424gbaGQoJdjDjXPyqwCQcFSrdtRuc/t5cHc2x8w8Kr3iuSk9wO+j\n",
              "jFYY6cGgGxUUePzYdavADNTMSNcGyisnWV4SeABVkXSv2XEtCOTgv2sFufKpGl+wbF0uVirZ8rcS\n",
              "tvfgMOijPK+IF49QySibdF5zZfXjvZFLAL1Xe1AsCQfRrTyy4t9PJyVj3cl0CCMQiLJc1U6sTliP\n",
              "V2WB0dhiqw0BmHFrqKhMq618ws74f6+y5Lvpzq+dzFscey0BfkSgpIgcOEYLgLADxolZDjYnBGgz\n",
              "f/0l5fy33MbtnNiNQGKvSBK87kQr+3/AsSuaroMdOyRqTnsnxCBhIqpGsbbFLmklfZE3+QHMnICU\n",
              "uc7o6sagLyVbKpeF9FrbatnJKmc6jCAmFiExNhWY/gBeVTVgl5WdvpiTjOlDJ/W5FxPXN1Pfs7VU\n",
              "h2FKXEg9DjX8DmET4zkAAACYAZ9PakK/AAADAB7jfKvDtvUZQvRaAD9IDgY3NaAj7yDFHjPRUlk0\n",
              "35oMAf7+pLnsxQqXBP0NlIA0d2GEo82VvQhmLva1f4fyIt4+2sO40U8lNHxoQcD/X3GyNptJMpxB\n",
              "MUnkNz4AFxUo1e/rM88HiR4XW+jNi81vMAvNWV0yecGvJPK9CVtAiv6clL/bdIGn6lToBifZchAA\n",
              "AAK/QZtSSeEKUmUwUsO//qmWAAADABS/7SxdKSrGU8LF3R0p98RBkYCdHeD0PWC+r15guu3ClxB6\n",
              "QqOMgS/wmhUefMQIcacrTFfcE/5HIkUA/ZoKwPZoRlLnRhbh2s1CkDz8AyXcX8uYq96EtbKvNx7O\n",
              "6EnuRSNVF3KoEjQofrJX6fsUOEh35zS4vMzNbzTtXBDvjDOgfNfr8K23BL8e/0vwV6I6AGK3WosZ\n",
              "U87OkJkePrEGyx3FNX2u+OUoWLaw5nGsm+8aLOrfI5JmzR/GymTB6eKOz3sGlj27P6cEWyw5T/Uv\n",
              "N+NvAgWXYjXk8rXcPh5RAFJw1NUIWyZ3basWMhtlkEmf2HaPS+jJIIvlbcg5Rwts3kzCMLX3kqGh\n",
              "FPEETFfGif1ahBcmhvNDVUqV5gQBH8zUNgyc6QW7P6lA/zFfu9muKq+XtRRkMNWEhbDXR/24rXdk\n",
              "h/cX95f9uXdNYyw7ZnpWYWjaVcIsa44jvpd5+iOdDGPltOt/JBsgwZLWH/g1kJVBj2qtgZ3QCXYw\n",
              "IwX6HX1iQLD9yBuUIGs+IepGTvfP/qdN2lOAFgnK5KiQ3sYuIDyah6zJVrRezI7D22EvA++4WEUh\n",
              "NSFQ46tjyncsPwORq2E/83WWIZJtN/tDvLBp7kWvAxQlOhiqoyePeM8zm0JEi75iVSyExgtYwYEe\n",
              "Vx6TDXcQaAm3B8bU0RbY1PC/nJQzG+zT+EfNFbzBEgXLdTyD0MukCB3X6nELRVXjudGJoVlwobG+\n",
              "AnWErNZusrN/WplPDQrFPGtd17BzjxMxYDRvKZpzUv74gX+neOSgDYPgZLh+28iEvQA9Wawjm0sO\n",
              "Bepu2iyyS1MMIgGZrVgyMivBjmwMFe71sobjMkLtEi311tQ7zHXhEWbtmK3Xj8JMWw+CShad7xnL\n",
              "1rac/WPK3ANHl40LBsK6XMqIabxB4AAAAJ8Bn3FqQr8AAAMAHxAnsNvjnp0O7SRWpw+tLfP6wcdB\n",
              "gfACMdWZbzls4nWJyqZa6sYBFYA1yBrjll0Uovtqik+PCE54zJZJulv7TijYuU0a0vQDvGkw3/wW\n",
              "PTMEHmB2HLlNmjAtsjR8ZAhXeEABYNkVKYkqVlKndriUn37fKN8RMTDkxxMrDwEcsNj86AKagIup\n",
              "1PhyEuE8L21S6cLsCBEAAAJYQZt0SeEOiZTBRMO//qmWAAADAAei8LmgCPDlOJXXc1J1fOwsgk9Y\n",
              "hmP3IhqYNtMjE1a856On6TISz3sYoz/NBqLSNmTQG9+oQuRNhg6M9BOywyf44EMumgIBs6XhoBs+\n",
              "htyZn7du0X//3neXWnPCxhpfS1e4ziFwbDgjONV8LC3QkFx9lBeVoVmsMMusIfo/Ekr4J2pGoNXL\n",
              "Dl3C+0Gb8nstUWvfp0e0+qBzhhSH00dMOomxAVhDUk4wFlDG66jgUOuDqiJ6QtGiiRxm3dzAVYpI\n",
              "XPPdjwQRoblKDh8sLQMDbRo9wmI4Y4KKlYU7Kq1o5mwIA+XHXaQQbLOT+H8NclOUFGPREa6j/bzD\n",
              "BsuIzRxEITF4a77dF+dZmBk4d8UiqJNGLu4pk2dcgosgyNMQofEK9mLZeWdqb12He9e9l8Hmr5Da\n",
              "01sAiVVXzfVtpM4nw1TE35bSdfeify3URYUijGWIIFLtTkbXAcafjctUIAT2EGXFyAjroroonaQp\n",
              "GwRe42UvdkEvYQ1cnMcGxFIeYDSnHqInBI5Ybo/o2rxTXxAtgOUX0BGwetYsWIuD4ByDHDZpLU/f\n",
              "mKolvjj56qo71L4frGycCKQPhEAgkF6Oi7gs/WignpEi4y98p5psDgvQhyJJqFsGzEIk6wlhUT9H\n",
              "U7bRsVnsAOkFbEjtNLp4ZCoJUJjmMvvHXaAiK+3axfZXlrnl8c6BXPW1p6+yspxt5ZmKbvNVg4Id\n",
              "ahbEICmnLmzrl7fr8d2HSUODXkEp3m39/kqHEwphst68befpqCEt6baeGUJUsBmYAAAArAGfk2pC\n",
              "vwAAAwAMPs6BfjzUgAE6UlloBG4QhI2QwlsC4A6GZB9za4zFOeIR8WwVt7R5+DAsbgsGXdGitng0\n",
              "kixwMv/uE4xl9kule+U4jNGkfGEvsE3X7LChVDJu2id0Ko13odcyJf/f6tF83BtBORX4/HyKPxGi\n",
              "RT7umiGayGgysw79bbPjWnBJOXlIBAX1FpTS+3dnwmWAJkvF2VEcP5CWoLLICpZG6b7piBAAAAG9\n",
              "QZuWSeEPJlMFPDf//qeEAAADAA7S7Jf9oADigmgRu4+UYsXeMh4s0Oetaj0Y9NGx3cqt90tcDpnl\n",
              "E1Gg/j9rgkWLC5PnHaM0eUJfrKk5UAh2udL4IfQnEy7d9RJr9rloZQtMTy/TgtWFgIlP9MyUKeSm\n",
              "3DHxK44gchFLNHNlKFTbo/6QbFnuSF2h6b9CnfcT6PuBRbCrx3uY+casgmuG+IKkWNcAZWZvuhEa\n",
              "DHJvk0vYYtNOyTsgbIu43VshHcYu5RbZv890+GuXvFtVPG+IUdLru3EYtqxZl50GKy43xZzkLJtw\n",
              "ZZvU78OGHG43bwsLyAY7TVeh5TZ/gwgvrmNilTAAZJE+c8tN6/dWC4+XLPAeO5o/RK9V6eSyFhUE\n",
              "LL+K+TLxEQBSLhQQL0bFCn32H/P5Sw9Zq3boKIRYa6KSMsPDtZ7bbm0UTvHyeNYTrE+mW8DQoPVW\n",
              "SjyZqAaclj3Z3H9N5DDPe0OuB3i7/MKyGeM8tIjrwKCrxKiL+2D20qgTRGGS1DZ6RImkGco5TGlR\n",
              "Zp60CQotHgQ/TfBOT76L2teM38AMh6ahVFyIqKcvfDBENnjtqAc5O6rrBMP9wQAAAL8Bn7VqQr8A\n",
              "AAMAC/VhhLNAATv6auuxGTGB5Jxnr2V6UDe6hKgEZlrhtAL+ocs2+Ek3sshda4f/QYE3fNA/e3/4\n",
              "dOy8ftxvA/3gESohuJ/bdYI7/rpjjFbB0fR1W6FQQtP2e93loCYXTlS3/ZIfcDDLZahIw72H9ZDe\n",
              "veqthrJYF8OFqFHF61TcozqjbqhERtCp5rNyeukumPbgkyvjNAAFmL9f6EQHOndjpPuJuna5va5Z\n",
              "R5C6JELfHmlmgkK3JgAAAWBBm7dJ4Q8mUwId//6plgAAAwAUv+6fuu480Iip8eeLwCa7FDquXEWv\n",
              "2pSdY1GOQzFUYznJOrLTILwEkHnxZXE1w1A+CPgtXCmosiLxTduUCuq6TDVhBLsnIJoxVhsBXLlb\n",
              "cG4SJKtqBlvCaBBpoKoGzACJszkt/lYKnHT70pKnNGiNYlM5QJ4XoYVxgj6fs55F9FBZLB9ACOvY\n",
              "H8l+rWCvUszwNIVqYhQpJZXt8JpTtzzZdpRZJ/ITLeTSW5AuW3HxRVlLJiwfpnGms8tEo/jCQzBF\n",
              "1tBdQLYbfJCPSMxjCufNuFkpWbcvFDhxh9COZrRwe2s+dVvDQ+CrjmAEG/5PiCGHnMeRv8nw+p0e\n",
              "f3j51qf5frBW2IGAhBwfq32BYF0Cb98jW8l31GRJ68QaPV9w+Oj0k/PuhNp7oOZ1Kaf40sv5DCSD\n",
              "QuneDAoYaVplwXy30z6b6obPG4bbS6YoxWHhAAACTkGb20nhDyZTAhv//qeEAAADACf+4fNMWABF\n",
              "emb4FodV6IZXF/GmFXvhOMYjLHZaMbwPsmxnxeXCv3OCTGmMYf6m309WxleKgTM36PgOhR0DM0uk\n",
              "984WItPDjpHv9oOsLqLQCiquSquX836mLhHxPAXv74kAgMb29+eiJLGqdqlnxI8TPNlJ249sKErQ\n",
              "VkHmm2OqQYmZLiQPz5+ruRkRljVdOzEDTYSpMbcJ6Hd1nl7dw2VxgJN8xLOhxnmx3rA4i9k/uYEI\n",
              "aPLQaU8NHl0dwlkAMN1tNSLRBmdiBQKz+QX/G7Jznwd+mgNtBpT4ZO2FMe54FS8s7Z8SeziNuDne\n",
              "cIfnZBqysCcIFUoSEkdNmDI8Q3eEtrjubYzluhNpq/g693AR7NEV/0+bQOe+hPCI8rGv5Z5lwhYO\n",
              "csbYnWyGA0+eNQhr/862XjGktA2Bg7m1eHR8/9L62F1GqQJT+M2Gs+z1BtzGne7gP7t1E2MXQZc6\n",
              "gDLtxyFo2PUAOBGwMzuU4iKCFocyxauLvpxrftPTU/JLX5pi8ydiVTNGYryb+dwjfDTp1jNWMNFh\n",
              "kfC9g9hjB3nR7p/xng3yVvCXEETsSePRdGC9SPcsIeroALF84wbL7pHiVdbrGfz3paBtGP3cu5r7\n",
              "LOqb+kBwIcSIdAj1OcSST6qLc0aty84a193U3FTgBQNTQUTn3C7Fv8crRPTX/dV3N+tmIuVFhOWK\n",
              "kmrSRkJ0dKQNX28gaq6hc7fffSKDLXNJrK0OsmsBCtKuhQC38id9TcgnPbDfrit50a6JAAABkkGf\n",
              "+UURPDP/AAADABHSgmIoAT+UoiOdrL7OVMwT24nkJ5wLZpjMEhYjp8XyYyQMQU01VGv4cx8Gh0b2\n",
              "J+MSfOj1Cg1sV9+J/GgbK+dfizdgDkfPbG/LbxFcssmK8699uDsOlI0KM1wg76URESIL5Sfx6TMy\n",
              "d2DAzT7ou5sALFM3b13nhAkk4iJj4wLZXPoypzdgIl6RoTmltV7NLB6Z6VS39sUvu0n/H+2uRzoC\n",
              "Xnikgar/cw8kQju/jw91Qr8DPZVSmPEg23iUtvJ0ZZs13d7BpKB6znQT1h/P2uR1xS+ILtvTtENz\n",
              "Syhr2/l8XWL983eLjbpA4rIG0oqxxn0urE7PoJmoTWEKGJ+pdvRXVvbE/uKVrWnuLm/UWVN+hRDI\n",
              "i1CBuNYDHQ7Wso7BMicekaBBLMa+CLh71ENo0uTpUSI15C0zT3DE+Y9ZpcwTj/DcYPXbhL1evPWU\n",
              "DomiZq7VX/4kSo0XG9NUtK2lgJR6jft2j0McglbG1YtUrkuDoQVfZRZtN3XVa2drEdMFQIAMt5Oo\n",
              "+AAAAKABnhh0Qr8AAAMAIKzT1gEo3PBL1QiCAATpp4aifZ1U8CLjDWrydmiqNAC7CTY8GyQatXKV\n",
              "WlwzwmEZdsYxEMD1HAs+qYozGssKfHwgrDHcaYWHspQgpmNRgv/LgYnAKlpvemlOeHMYB4cRQHqJ\n",
              "4l8tDINSWsiDpLqxSd8IiWRPzQeJ8TwlcvypVddEWkoNkoXCfsAeQKeiAxDumXPqDv6BAAAAxwGe\n",
              "GmpCvwAAAwAhsmtrQhuXviVdheAAbLvOL558+ZOQWE2cGsV+1MM1jK5zQYjP+TA0HFkPerGru6b0\n",
              "G0StpnJI9siT8hBhqdvlVhTaw+P8B53dA/1vJOhsz8ldocmPejBzqIykn9Dj6TjbW3rBsmO43tzO\n",
              "2e6MiKBZNxIQCycUSz8YILoEs58SJ22005RT2pEaT/GqdT7+CeaIz/BVHlwUbV9l8AjwahbxQ28S\n",
              "8aon54LIBAglN+BuA+anudN6BXs90JThC0AAAAF0QZocSahBaJlMCG///qeEAAADACn6oEq40zJV\n",
              "67D2GRmwQtEsKG1uV1u2L+UYY6vhSZvgIxk/olbYVpUS+dF1SpROHnLYaieioWgIStTPo6s2nbxV\n",
              "LS676cNmLds23TSodXkHBXcTVAF6p/q1xHUsQnaqHU1kQT9GZmEE4SFVwHAhfxj+k/wQ2AZ6eTu5\n",
              "INmLQ4OR5r8KlXmzLwYLPaBK79d9xKn2/V9LLMvjMIAZDG+zNWToeAMg26YfXfJreeo8HlRKkgoC\n",
              "70tIOtcPRJFF4Ix7KrWMod2noOYEyA5TAyf6QHKmfDx0Jmv9egx7ej14e2ZDfat7rKoVs7txFvOP\n",
              "zQc5IUaFuAOLQHXfrSfSNzRSgCPZOyICn1C4fHbSTU+aQpLxGMxiOydoMkR9c1b9zpW2Rxh2xu6v\n",
              "VmUhBzqfZTfrksgLTl5XhnLQbydOEfG/EsEuQNrBqGfDpKagOVawVCjXeP5DMsV3x8b2MSPgBGQb\n",
              "9paBAAABcUGaPUnhClJlMCG//qeEAAADACke8Jbv4uttUDrAI8Qdii+StBGH2oca6aQijZsp2+yK\n",
              "NmjvfLE44aT7GzpweVraacNX66ip4SsSz3OeagIRq/kb1ZLN+JlaNb8LdTOaAvJHejUloCCabne7\n",
              "8Tgitk4i1t0jBfGY0jhPPIm3yLg2QfXxksnaBdWT9cPBsXfRic6l7M9A+I+vFR6F3s6rjpUBb1+i\n",
              "jwtlq/lM6ueKJrudiuSGi9Qz3rr6vLrPM5QL50CiUQSbpNyiPx0+a/fQ/HVDCFeb2c3bc9IJIecc\n",
              "FvgPkvSxroEM55A0Bxqufn0CQWIj/pgAoy9lv1BkRHHZaqaO240iY8NqSSZiZzGrQWnILiDcgMkW\n",
              "NKokwVuv3xKemXUp7NfyBjiYjzgQ90Jg/mLscstlXOsXiCepVwDjoUzQpd37kX/x7HTxA3IqATzw\n",
              "aDTZTFjZtts7Tm3vY5SdhTB6ejevRe2T359XLf+ANEo10QAAAWdBml5J4Q6JlMCG//6nhAAAAwAq\n",
              "AhoPdlMQVly+242QB/BHU9by9YJWjMbW+jAZpSouh2Kp0tzaLrQkvWBZ0dr7iq9q8kP4NcfLCcfn\n",
              "dpLO3gTLwEpyRPmNCQtADiqZXhe8JilR2HShDYJsgx9yoSCbeGI4JEy5q1AKTkivjNIZFAPaPpBn\n",
              "PJrselekLsG+uzeaItOYRirRpWE7bn++eK3e9WGkd/XWMkyoWPY26YW2R1J7em7EtKcRDoFPGo+r\n",
              "b85jchc3NJOIrrJWidAnho2K1KHqSOB5mf4KTDbKS8FbOxNRtC5xL+vy0s6yLx2KVTxS5DztsnjO\n",
              "ih9oXG/WX+g0HApIBuDVfhUVC4LxnyXcmE2C3MVzj1R1SuXvSRrLkojHH4CRcSfx8XzgOus/cc3r\n",
              "VXvUUr2lwg1NAS9EWeNFcKD/on9goCJioy8EyVOSgwVZrCDLzcmPdwrj3RUtYCQJqItHCBlm8AAA\n",
              "AUpBmn9J4Q8mUwIb//6nhAAAAwAn/vCgGsdM+pABzh6KqjNitnx/mskWKROc1zUGlLl2QpHIp0Ru\n",
              "q2hC65Ej+HE8RydmCr02TZPQNKOuOrQcYMeVzmxQlKyeOTwoo6oTMGA5ByY6ih4OOgYxW322Iy9x\n",
              "NUYMmA42bnV8oG2sYGnGxN54U4v9hwjCdih0eS2S785Zc/951/JK1wAmTtH+2NdyWaZA0koJo5ZB\n",
              "ODPkP4nukWrQvw02Cshe38lghqND4E0+CliMI9t4p2NDFUjUqoy8Kyabj3t0nw037kfXTtYgPs/y\n",
              "GrS2gQnj0Wtoth9dZiyd+GVGGA42fPI3CiZXo5L2s85wI4mrue+1/AZvboWj6Rwat4LCcLlEHHbC\n",
              "QqfCSFlFzzYI5jcc3xJGZti/IkM19t+F8x7SFOa3rTDVARG28VkXIaDim7VG9kkAAAE4QZqASeEP\n",
              "JlMCG//+p4QAAAMAK1/cMmvqttNh5C6qcDpVo9zSAE43kQCQd+Bq1NB5ENN9S4Nfjfs+ti4VID2p\n",
              "2a0x9OBO3JACuStpMZABt/KaqrbeKVXQ70TYmcXV5QYI25YIHRx2IF/fJOcEcRew3sYAwOq5kLCE\n",
              "eqgC1eiyI68DBiXmSyHtiPVwCs+m5sASxbWJWNCwl8YAPdML1b2d3Ktsf0uXxAU2UcQQcGMrIInr\n",
              "Jo+TxYSGRvlYQ8qewSrElNSeI9X4lj+2whTCdCuljvqWkJxjoJOHAEAkTxUA6cSkgF6nWTraWc8l\n",
              "wvElEsvXdQw8Nb7KGjUhGNcItvDMI9ZFzPr0Wz4vwpRyePmVUtt0pmFqg8itVncakfgvV3MlSJ5p\n",
              "IDSCxG2EFBVP/fUKyT/B6RO/IOEJAAABDkGaoUnhDyZTAhv//qeEAAADACke8K1w23bsnN9muLgO\n",
              "raRpENmLkovGDeUq1LLiw3O1L6S8YoVvf+Brc1D4SfxC2Gl9yOu3GGOZkIb5KmNi17i+0jL5uGBh\n",
              "ugbKZAWUUAjYyqZMujQDgZyWo6rBmtsQ9f8WsnKKTOe0ej6Iy6RUBId4Qaw70rGZ8RECV528PzDm\n",
              "+EfP5zYqbpk4bxVg7GU8uA+McU8V3/6WvOOE+eWoReZQtmkiKu48qcK+30sJxy/BOVRzB0R3uy0C\n",
              "ZWh5rZcnIoQ0MuYYzZc1zOAbDlsGUUn69cknnwY1coWZuYebhY9H8Fmuz74dkGIm6cCK+2BHmxH3\n",
              "mRgnuGNABPF7QAAAAU1BmsJJ4Q8mUwIb//6nhAAAAwArX9wySjY12McPEoFOGUAOEQLQKUwRAL20\n",
              "23fdkRf0PdzY7PpuC2jltANWj8qlMhSUpO5Kgsu7lYyUIZlmwNv6CjVQYoNT1qYvi/3D2ay2Sy3B\n",
              "KkcNCKO9mXZT6ow5YvRuqIWAYQFZMc2a6HCdNMlXErEw0UdveA6LmTozH4pj0hTnOn8GHoIS+RlJ\n",
              "gsUYrRr8O5jv+CBKEd0bdnOhMIGGsZMW8DMqHn2HOtXP7H5636ximXvwv2ewYKUppJ5ccA5piq3J\n",
              "xmzL3Bcqlqt7Rw04ALmLJ2fAwioL933MvTRQr+yU7DiGNKid/ov+O8DvwUZtcbDv3DmFJeg4guH2\n",
              "GecUK76XuzacAsbVyPKJT/ID+Hy9AABniqGb7C2ThUWjDHSJuPvXf3423rePLGa7N//DxAhLQEcy\n",
              "xeQD6EEAAAFJQZrjSeEPJlMCG//+p4QAAAMAKxtMPXJd0tQ2Mfj7rbc5IT5zxByABgEnWPfJglhh\n",
              "8ZXWgrSA+oq8MV2bMNLq5nnvjbaW1tDjv8Nnbt/0oNCDsoCTM1y3MbgRv76pGw2iEJGHnWcLQT7o\n",
              "czgReirZ8IphKb8DMjHJ2XW9cvCJ4/jfO8lv5hGajGVjgpo0GviUYrtQZ/X+8DVp6bJpRNFW4Kzz\n",
              "aq9tr36hy035F1Ze0B/i77SLalsMKMVlVRnWxITEtlJ95XPohViAbb4Jbtin2S3g5u2JsvqFQ5WQ\n",
              "eKxFd05VdIS3ZEhTv9tMkmLrkNYEY6ml8RaBHhnihEOdsX1y+YdOKpGGU7BgKmU7KfWusztuzftK\n",
              "fwnWFHaQjLls1Fm2UN9VUCtNu6sV5zW56Iw9OdPFz1cyo83az6odl9KoP0Ba5/PnpZhPGiAAAAEl\n",
              "QZsESeEPJlMCG//+p4QAAAMAKxg0pXDHkvX9YAWzk5TZ7hYBIzVMJ2prKcBsjrE+N9J0mqVc19WY\n",
              "rpoqM2TwOPGl86GeNPpDmCzP1xXwNRE4NGXIZXEwKwWSESxH05/HVs1AL/F8N4X7VgIVwCGYrWUE\n",
              "GMFj10LmuvfvXk9vf/xP21ZZmFPr+fMiADHxSBuWDg13oDFCECdYtOoNxPVq/XaV1kOkseVXj0L+\n",
              "58kSHhj5xw5qlggsYReOudwk0h1zHMb+fljy3nizSkNUyV7FNPXQ0LR1K3UtQI7q7C9uRNfAgHfV\n",
              "eMYdKMatDpxJQN5+fM4pzffbTjdSa+BCcoeh1gghJ+bE/0DpePybvXR1Esv/VxO3evjrTTVctmgs\n",
              "JNqArNHQ34EAAAGRQZslSeEPJlMCHf/+qZYAAAMANlc62yHuLTncKzACaX960792kPOwfXy+LMXm\n",
              "d+fUuGg2ICAr4LsUQ8B3O62PquK5Wajwg3oIx7dzZok+Jmv0g9N0tJJAj7PGyUasRonJqdQLGpNB\n",
              "z/hVdjJG2Ya7WxjgMRG99rGH0EzBSej+EmudP1lu0s26oKK0yOXtNC6gRQ2YHar5lm7xN5KziWoJ\n",
              "zQVxqcNDAtUmtKPej2+UfYugv4z4+JloU8r2REXS05oBN4iajAkQr9aztO8gYwHfmnO4CmnGh5Qe\n",
              "xmnn9jdUZ9mX/7thZu+wp3RsS+3wJQQx1e0IB7lIGtCGKkrk4Pe2T3vTAETrlB6HaEx4/a0Y932B\n",
              "S7NW9SqOG8Fp+lzO34xZzH8nmDUjR/09e9poxFRNz0GG0aeqEBrKh1hupOB3wvFApUejCeirx09Z\n",
              "RmdUtX7PPG1SN67LcICrN9r3K4mqNXlC4PlSzSkLse9Rh0buOLFwlchxMUhTOIcWoolzK1769xqe\n",
              "5JBSl4pcg8E7Nt9/WvEAAALRQZtJSeEPJlMCG//+p4QAAAMA/YxSVKPh1HRHtHr4bMQosAdK5Luq\n",
              "3N5gbF3j2OXae3P1PhjLuSwyI3LRecHFiWA0oh9T3rcw93aDYIIYnoGOeajAiMhMN6hfbAgt/usA\n",
              "OegGdgKyfzYWC+bA1o/Ieen2JQQHBO7exK8+8C4Zw+SoTeDUgOaofTR0jDQldj5hf6ap5UtrraG7\n",
              "FI9X3qhg5V/T2N5btnE87MO1YwJG4WMKbWHHOOD/k4HJsMm1nLmz13pgDGFF9Tmzw5rL3aP5cdVX\n",
              "BjY/PBq7afaDOLGoyH13uM9ApjG6PIRIKz3ngEb0AKhEvk/vnUCSM3378dBkUFKrfqAo828enriu\n",
              "q7/CxiQ6Kmc4vl7d/IuJS/QsMynz9SaLKIDjpjCHahXbSogTYX+m9u0gzG+xcA9b6tCfO82hRddN\n",
              "SMqTC0yHTwyWzozvLw3FF/mxO8Ylyzo/hvS76+0eBe52S3ZuVS9o0jVQ+/9wS8GOO9xi4JKxpT8H\n",
              "BAD1HSw/ERJPqEumnI8mehjM2xQLE2/5pLDKAdzQktUUQwnvGCGNfoUNn95iK5A8I7VAi4BzYxsb\n",
              "c9/a33LbnITBLQep72saRE78BYiI2U2WlWb4r+VQ62NUeNG/Yl61nXYLsm0MZNfVX4dcsR7ybzi8\n",
              "zeakEHiEdk1R1OZ+xvCvIpvvmSi6B1neYVKMT67JnQCuPrj6DhfVrAvG3/BTz24TlKtpAxE44qjv\n",
              "AsQ0xA5MYokcHQlYrAqAehxQGNgb902scBnG/IL727W3L8hgGxjSCn3zB2wH9s4Hncy7qnOcuKgm\n",
              "7zKiJ9PcmMiuz7R58U69+gxNSTPns3MzK44kMuzlgzV4QnhKyWhtU5x3ISFABnsU2NsXdv2nXbs/\n",
              "aIE2DuwDAcVVjPdDl52jXMJws6pTlMydBjAiIDwg5V0s+nsPtaZ1JP3fNiR/LgyYsxq04sLjIQAA\n",
              "AZdBn2dFETwz/wAAAwB8Sx5uGJ6cAJvnSWhJz020YKi/wAlWVkDVmrdrAW8SlRj+dOxExss1qWa6\n",
              "pWXyLIe/hiLReRSRnzGXG7oVyT2lheeHt06XSj5H573AHpVgSxJ9YUFxkTKF3C5f5nENg99bUvaO\n",
              "EegsrScQBr6RAWsJZXI6aoDgYEimkOh8jaSFgIIleUQYg0zHDtGdS1vsp9hgOi5JcfpOhxTG/l9G\n",
              "5k/IBqz/uw02BSHRdZyeMy7AxDXzMUOK3o20o8rgH41FIlbXPIDN/3WBk9+o4APR1cRDUsaFcFhN\n",
              "sU+Cy8QIf6j+IEUKQRc7u1K9Iq0otuMtapUAse91oBlaxoeuq4lNJ9nwdGB2WSGzMnPRJvUo7qai\n",
              "eWfHnm+QhrgzV4sl8mk41St0MkCXnbuhDdNkUSabQJ+ZzZZNVt7eRQOL+TDSf+OxAwBpmpQZLN5G\n",
              "5ABw8+7M86JtH00C0iz3YZGJAR9MzqR/HeOsLzRDe4nogYyjPZRVveYkvQvKfoHJrP3oClc+lh7k\n",
              "zCiFh3m5FTlygQAAAO8Bn4Z0Qr8AAAMAWvIVYIVeAOYCY8CUtl5VXl+1y407IuOjfG7wlUNDH5cL\n",
              "O0bbVBc2jzEtM0QL3T5VesIXwpfrPeuYoOz/AYSk+6GoR5QAD0LlWPUntRGHYIu/0nTSJubSU8ju\n",
              "INsP2vOlDXnUWvrXDYu9+EH0EcA+hf9KLYLGJH+hFtEjTabXrX4jR4FMGugqJ7qFvG2jbjFQ37HD\n",
              "O4CCGTLSxo3xTBGzhdSrTDM26vYaFrf39k0Fyn7BOn3Lmh3jDQnoJ2BptcWlRuBjMTXiX0RFv3ZK\n",
              "WSwnCZPKoIkp+LWWKkFD1qAUlaS60XUUHgAAALwBn4hqQr8AAAMA6DMHBTkpPuO8J6uZXRMBUxwA\n",
              "Fzd51GhTDuXLC2g+YHvopQ39QWPcpB6miMmbmNG7kn1yQaY4vrKgiUkrbjmZgEmcRek9b6p5+Fwk\n",
              "bOVZF3xvj16u4gYUmDv2pCxnwwRY45q9jQbgwIQ1B7VXsDJ0PLi84cETF2HcpjGXFcVDKpA+z1r0\n",
              "75jJICYw9wMakBYFyqttHmjSv90exBySYPjDWE7L5HavCesgBBVCCYydKqWC7AAAAWJBm4pJqEFo\n",
              "mUwIb//+p4QAAAMBHVA6CJBJFDNWPdBSSZBtOTrOMxBQjA//WmAbtphuHRUjXIH8zIPDF5SsDv77\n",
              "KCzgXbRNUh9841iuzETtH6dlM3Imq5kRkgK963YYo1a7JNdBu3Lnq5hClhMSlomtGJoJDKa7du/y\n",
              "neWjR3ux8u1oRZB8cMF8D43OuhxTTD3fQhd5viEKMMCxO3xIqvCyWV9P0ZyiKgD8U4NM4SPNODNa\n",
              "N6cvBDwUvoio/fhg/q20FNWZ6AtqvIu3OQmFL3v/mWUgBZlFQQbxncbpB2o//Zg61pD26SUzwLQY\n",
              "bU6g3xFQbUZw8mUB0ZQLR5J3q2n3lkonHBFsGtE0OZGvtfVXA1BYtbo3+uIVyBSsAmtGg5/fOSoV\n",
              "OQ7GMLqXOUcMxRDI2U9EM+M+Ki/x9Wp+ZsBvvCkviY5tDl5Hb/MA4kYCO0yeHKIqbn/I3mIjdQo6\n",
              "KqH+7xkAAAGSQZurSeEKUmUwId/+qZYAAAMAmP+S4NHYUUINvwOFgSN7z1UtxWqeQRSmTHSx75pB\n",
              "nw50+03xOG0/EkBVPTml2TFqvPTorm6CTbxT6kAiZfJSiz57Qd8mRaqBBpKRq6rZAxjrO7aTvINX\n",
              "wMTaANrvxkiL+v3cNuzNcinBZKzMZmwFuJ1yWpxKVCS20GUZWAzwqBXWjX9o8RqTcJ+ke9x/6Jqo\n",
              "HGVAMSuUy5PNdmOVejrA31H5cfiVqnhlAu67z7Vq5SBKjSPeno/8GJ7uApXI4KP5FsHER8llYEZT\n",
              "GWUetTl+nQgWxwvSQoWfek1vNERGck1vYPjJsEvdXW7QwPJrrsOpV8iswjn+wYQeYf76xypzAeaz\n",
              "pVec25PED7A5EDsuFpeotK+ih4R76ZJlNIwJ3bPIzhY0tvDRR3r2zqMM58CddbANJN8lS0Q1K8yS\n",
              "LZZxChimklZerCECENDlplJuc+3YSPTtECu1rEkPmWWslPm52ouhLHxRgIpacIuhxepzve4tZuS+\n",
              "iusPNGSeX0sy5G4wAAABxkGbzEnhDomUwId//qmWAAADAYL+MLRmtjR2Sl7umGEczLvhMuAQ807u\n",
              "cHGlAMMgvqpXCutFnCRQAKJ2opRemBXmiz5FsO+vnevEKeF64y9MdQCLlS4ZF1kr+PNK5fScd74E\n",
              "WOixbjzeB4u4A8vClgYZXc9ER5JXauzFwcy115EHHhnfu6EgxvfslYqmchqNZfRPHuNWAnE4g3w5\n",
              "PBuUzga/wBQIk5WTFNhG9zSsxredxVUEkPz4diaTelx9mkFk5Ue1NNrvumQwiIvXpugzVVEOkz9s\n",
              "QLVuqzFBjiFA1kacAGJyBME0SbaEzLjf7As0edxujBZycRonKGOYUf87BxVI1sXi3OTrng7+ylAv\n",
              "XaaH5NlOsUACo83Xw+PN2iBgW5siU8qiwmxBe77Occqqqu41yB/xlZEqku7TH794G1oL8/rtCy+C\n",
              "5wEQSBleV/IklL9CqrXpfLgRkL5hqU1YUI8TwDNQRDrYXJQVuW7H3g1B1jnxd2usEEqcEy/+57J6\n",
              "RiL6EbPZjkgurJDOzDRq8ulvTd2OPFjBYx7lNe3YaTa9OvQHl7nuK2kRRF6/Ufmx0tzQXHXPRXmg\n",
              "y0hWopumrTMoqLz7BJAAAAPTQZvwSeEPJlMCG//+p4QAAAi3Tc6izYAUG4G5OMsyVTnF/GgpQh9t\n",
              "O+qR/HtkAm64FOnLyCTXjs1EHdBvQIRiInPbItNg2+CXnru2Kl+U0fx8fzxb62qwLSDQOQBLTY7e\n",
              "kXqz5c4siTDYaai2n/NN5hjmGbqVVbMOOkZXLRdP17UBP7Mrf4X30o10EiFpTKtUgxuq/Eq0XWS7\n",
              "yqxAEsOeMAGKaWwEOQDI1H5eOgjcsURRfcckSzjYJPFKq52UXKb3FaXTPpOgZQ8t2T7Yq2hoh7Ry\n",
              "zGsf2xe7WQU8osWZeiPG0MiiicYQLfx3kdULbWZJUCBYwaqTy8N9IXjDdZ1cCgSKNVb7oBrij7+o\n",
              "J0nAGrxM7SFNaRHtyepjWx9KyEVyK/Unx67e8D2SY/z8+5yabJeSEBu4XKGtJJFzRQYKC2U4YL9h\n",
              "ehmolUJM/6hRyjJtmpaWhhEGFxSpG6eR4a/bsSXQOtYBf9AcBXgJ0DERikszO95oat4skflRDaEF\n",
              "ZjdvMhPgaxPU8BejGFp/lyFJnS6Dsqlb7gUXpNZbnAxt/bzi5Vi3bXseBDVqlLPdX844XjtK6XA0\n",
              "UeoMJaJRNc2pbfMJdvS7tX3NTOAiQdHXI6ZVILoq1o6JL5pUSQnzAtKW6PZ00cRrgw+d/zgvXdpl\n",
              "9sw811x0mnxDIcu1iFe1yTpyQaAfzHZeqaYeMVKIeXn5G73ZANOUWi5YRpNP4nCLgZcNVNKqNQEE\n",
              "7I0jF5vbDpiwwexH0XGh72x37KA2if3rxwiy7OzRMe/0oUuuPAMRt4xwDV+thCaTDOVra/Zht4F2\n",
              "ETieVTE/bGq8tNfsiO7m79dLRoZVnqW88diUZdLyE3Ouc7WlWPkQISMIYC0S+M1bhcJ9yZOIjhNT\n",
              "CJK/bpnn68q72IPZmG38a5umVEVaubh4LzrHx08gaCevhKeDKz18lSutKuvSXs0hDBG4EcETYTfU\n",
              "M4rWfQTRJ4Mdbly9W97dlCSRHzEHETBkVpfZV8sRvcpmSUGtHtfEM9CcH+jnjaUkJ5VOqN43csYJ\n",
              "waI4UR4QPjVkjJsod35bwqtaW/2yxEXofFRQkI4pE9x7UeExCK0zKVzLTLy/0XwwgHvU6dDY8Eds\n",
              "JG4cF8cPmHktwGyR2GaAtq4AFgRF29jdZYBDM59klLl/D5xjR7cpJ8vrVQBye9DYmknR4697TN1G\n",
              "TjLRN/zrh0IWv5wpbEGKJ4NQ98zSZOo2sGReul2wYIC41youFnZ7j+i4yeyjRGkp3lu65HuHSbb1\n",
              "HP3fIPtJH9+N6QafObtP1LkbWVwYVEcWDe2XQwAAAZpBng5FETwz/wAACfKHkjmlhPKtVJkYs8Up\n",
              "Ffr+cq524uce+Q0HYuT7QALntxYttvCBhdWPDMPMUjTBW5ul84Ce54080TIdeeIoHBRFwxoQZvI7\n",
              "RAmhG8PlLaOtap6KEYmLL7cm7rq0LE+zqhxi2dTywjoET7Agx8OTWgIN3balzwAGM3ZP9uZ4FAgN\n",
              "8Wrxj5zJeSoAuEd184C0GZU/Lw0MmJ7RdenNOK4M170tHNLMrUnPiz2Hj9Lk7wGOWnrsFVmzap8y\n",
              "QOa/BrD4BAz2sRDVZ7rqnXkG2f4N3SXEPveiA8gL3w7OERKTKh1zQRYZv5HfTmSkNb5DMVLlhnov\n",
              "7eM88C8TUyrw3pbUsq4CSuDKCSPYh8x6H16gZN1PP+Pd20EAmEVG88kDPJCL8mW6qdLFN1M5bMFU\n",
              "6omczaOlUA0IHcHOb+md7ZyWtcvCmfoj2qQwPMasS1bsjd6vwARDIViNkH6iF6TLEDZ4oB538PjY\n",
              "tYSsy/TImQrJtL6rF5v0I0udJHSbM2qMHNzdJ22b7aqZENLpfWwAIcAtqwAAALkBni10Qr8AABJX\n",
              "Qx5IO19hQ7S2CueP+iOTTDoyZrRiJprVCg7Bs1t094vQAbGUAAtrDk0dOfQQGBgPYQP4Jzp/TDP3\n",
              "jZ5Ugzr7CxTV/IfS+q1+4HlZfKfjIGiN+MUx6Pn0Rflw4W+2TRxEC9hrycKpmjT6aAWfaIsnk4FX\n",
              "/vadqxxRhS7J3XqD8ET8Nus7mh49GN3NtFH6LmghdklSdDKSX3kwIgvJEbt5QJGqja6qAKDLLMUq\n",
              "oAANuQAAAI4Bni9qQr8AAAdBmDgRtDK8NdEpeu64rMwbvURFzUMyqJYyIjFgS8PkfSpkQQrox3e9\n",
              "wVGgZI8WFAGqYAVyg98A7X55BWPNrWCTkAO0+yL99fl+kBPAGpMSPCPjuB3j+Jn0L5YS3QuA9O+A\n",
              "Mmej5XuOblNZA0crAltJhLKrAKCs595haD8mtP/lN4WgALiAAAACZkGaMkmoQWiZTBTw3/6nhAAA\n",
              "Fs5l2oi6loXm5LulzbwZFSo6CFG1NK+hRQlEEwqy1WJLo0CILjvbfH1ImaCigs6uVxC7nitMhMTY\n",
              "Ns9cOCjaXk/yeepO+yRRudrk1todneRdkXzOJdhvNoiOJXt02GE/Hhj0vF0Is+Tpt+HBPMOwNGiB\n",
              "naLoPdU9Kqx/WcIhyV4znbFYisvNcKMLN1CXjbg1p0I+XkCh119TX1MlSgtEQf/zLJkN8qJyvTZ3\n",
              "9Sz7sIJDloOmbz30ttDOQcgQqhVdx+wZzce8/vt1eSXt/rmZ9NacHCaITzMnKSl4YtLs2qZvmjDW\n",
              "nAon4IWl3ow2z3dNaIZN2EIJ/4zZsVS4tdViqw9EucStmFxn6UG1Cv0N9DoNfiM+ygCO7InIQc7z\n",
              "cRyqs9qBe2XbyEdn4K+AAHyYQ6OkFb7n5orSgyjhdfvNdN/QwBlA1IfXsJhq6QPOcwbHlP5tbd7a\n",
              "LWk7BnY7fCmY8jLt/9ip5AXmJLJk37uxWI1OEBDcYj8JzJiB8WWYFmuTL6SAWpCE4yvvZnoYBXqF\n",
              "COsr3CQgnRwOyCXOnzhiC1Kenui/msYL4BQouGn//XcLwJBME17PtS+JH2iRRHD/35wFeBD+Aney\n",
              "V4xQYUrHNVYaAn1GHHtKu8DPgYRYaS61jqtQkETzr0a9fObLzWOWF1DHtaZICuR1wAIGgmnzzveV\n",
              "mE6Pom+zN5m+Dcw+n7y8UPm7BIIZzeyFClBP/savMseCY9nGaqqZaSdWcUGkzikG2ZO15pmWGx0J\n",
              "9VJaLOGg+5dPVSn/xffTNg9UM3MbJREvHXpyAAAAogGeUWpCvwAAEt1/nXmr47FOBSb+vSSXyyy5\n",
              "oIALqNP72rGTzEzunZeDHJMCuM4XGqtyfxkFB8r9cxB7vUZBKgzrg5Z6NuKjVOJDWVC2vE3+Ipik\n",
              "hpA8YBeo0P+O8x6+6Ju96JokrcZuioiMzdhMEUj8lG5JimcrIT4GE9RLEYQYr6l8JADD9Ug4Yy8r\n",
              "Y13xmjBmnuA3Va+WBBbW0nqtEQxj4QAAAbBBmlNJ4QpSZTAhv/6nhAAAF9hQBbDvClCYqwVrFSYK\n",
              "X/MNxOhID0kkkz6muJqyoJapNdE4OV3OEWBLr2PvorLA1oJkkoA6tlOP0bDHDduz/8gNmCWLxj8J\n",
              "pCWMXLUKeIWmTay4v1mNaFb+eWG8rlI8fi/+2AiGxRkOiDYRzt+7zBzyHyq4XXZDr4azkzooUSZx\n",
              "OEOSlf7xyGU8uB7h2FtV5eH/7vbczxQgLSgHAC32AknN0ElV5K9vDt9iWWiwunm9j1cfj1Vn34k4\n",
              "IoUuXDkJDI0DFzbj2n8tDlgVL8NHVyh2rf9nc2Dp6CcZiq8qfBHQFnx2G1w0AJko/lD6gbEHwdc/\n",
              "8wU2x5+qMdb96zkEdTok1iJIDQxLrhrbBsE8iTcBhBkNvd5LsBngB8eE+juBK5lf63D4MwGG5ecg\n",
              "SLmfTZ0mruS2Blh15jQYSdxbx4A0ZQ5Z5/vkAOsgQ6q65i/7xDxfgC1lH2t1onbRCySw/koFm3Lt\n",
              "zkDoIczN5SUr/qXyj3QHDDZnzWhiFZrWjwIldfgmc69mVSQlYXxHlGuQHRWBBqNNl+nnVYycQkzE\n",
              "FSwAAAFsQZp0SeEOiZTAhv/+p4QAABfhPfA6MACq7cuu+Z4VXObQK0Vl6P0unMaU9IlSRzMcUtFQ\n",
              "qzpSWRvYJSyNqG+Ze76Ym8h5mAdJMW2hA7uvr72//vikcCvOQ6qWBx0d/6JEyYCOKlWALAUdBWq6\n",
              "/Svb4BxiwutUEdfO8T84D26L1L+AM19Hj6/u3g4XKFZ19IPs8CA9xosXC5myh/dK19NeWeDobDXx\n",
              "rWKE/WCFLRUPyM+IiZ/X6zAMp+GLRdUC/G3EOnIVScIgYYEJ3bssiQMg4BDkFCqzZ/VRT00RgCE9\n",
              "PltZFUeP+93l+o+Zl1birXxE8sBSjvYQ9MKKQ7m/F3ha2PCGUwUmDkqyrqG/d21p+W7dVXq9AnN/\n",
              "+000ktTA6jcTrQBLGQSuyLxfRRwY3mTDdVA8fxv1bklLwn++HGW6LB7jkaRUrIJEEDz+xDXcL/ts\n",
              "GtPcrQhwqrvusyYqNgUz1t74v6IOseo5+xYs4AAAAXhBmpVJ4Q8mUwIb//6nhAAAGHtDAEsBNbZJ\n",
              "DdD6YvELWDs3ZvmGpS6TFu1B/ZyfrDaRVoJfkNtkgRW5sVKYXodmD1qM0clsto9HN4IIXGimTCai\n",
              "+ddRy1MhQCETC80YfUmWZCwIcPAvSE7GrTL7aQtk7te7oE1uSPu1Ub8DqBHg039CDQBMSbNJGvdc\n",
              "by3q0AG80KY57zP7LrVC6HCf25k8HmdxYgHn714KCkrqC4+f9XMzUgUGIyURTXrdB2fpuTkCT6AU\n",
              "6HM3NJLkXVZSN6RdemaE/TSW8LW+KPB5IcvQT3BT8F2c34Cq2NuADtUlbQ1lMIaTg7QOggx2fULm\n",
              "1nU5xnbfnbHTp45HcuttJW6XGsfyOaDMocSueXU1Cng8tP8/AjakU3V28OXxBd2NI846TeoiyzLe\n",
              "jmv/djy/tOrUdA5msxdDC/7fNEdsgZu5+6UxBzL/dzFsC0fgvfEOWeEiUabmR9VB1CY3Hss1CIf+\n",
              "MkWL1mzBkdodAAABWkGatknhDyZTAhv//qeEAAAYgTnzMNkA1hMZ+cJziQAxC8MMPC8Jjwd99Rd8\n",
              "5Rqw0MOF40Mq2dTl4UdOL6A18vFq4IJWajldxQ8otLIovG3W9ueSASLMfGN7K1qzOOEA9s90ba72\n",
              "sP0aSyUL+eK1/u+ihV/5dbTdHOAabk1nFza9fXIEoexiy4W4lWE/MYa8kqkFB5Pj/D0RRcIG3NSg\n",
              "luuPjjpRaNH4JBZVCADWOj3iYbNNzVtSUqhBQqRkzQpFrRgGH4+vCDiqHF09MndummcaWn8XYIRo\n",
              "7FZkmyOOck0WLW+vH2yplBXaKPduFCinusYO6w84P1ijAGP4qupxfXtBgYz1n7X8wZNFqHYYrOxX\n",
              "2CVL/OAZ8Pbbl6/QnuYTuIX1vgy+UVTg9Yk2TcSIS+tTYjtX7gVnYSOHF5tdfxJitO7ZS9j5eVLR\n",
              "PTev5lIm+D33bFRfOTwr04kAAAErQZrXSeEPJlMCHf/+qZYAAAxYlO1rVKx0hgloAON6cL0uLJ8p\n",
              "MMIk235rfd8QSdn5w1vk+rQALpf2vXapKi4OOjfD4YdPPRJADL7YW+asDAFxv5RfC62JRm8pXYHo\n",
              "/wcYsJBw1q3d1T+6dCJpy8zAjJZMjsEJRFra1tIRCSH9+P3sCtEzEDF+F1chKPKgR94Rn50pqWi8\n",
              "JSOVZLX44snf0bhIymKJAdqqbMh6iAliNx0diE7g4YebCCTny9pgUhnwzIaaj7D0DRHfn89juMMU\n",
              "lG5iBFTPN4PSTX84cZh+3Uyv7PMV3rQTJrTM2Pnfo2FTeX97hzE1LrNlLUN/zKVE7kgzutzJdmmK\n",
              "osp7/9oUrPTnTfgdAKqkfvnRZsaSgEMRUR0Q4oMLk58VJU8AAAFyQZr5SeEPJlMFETw7//6plgAA\n",
              "DKSYJ83QC98h4HqRjy5rv/dAteSVPxmFEzoDo1AyEVXlLMt1JVMgN0Abq507w4M6IsSegw2kX9xs\n",
              "XO/WKPNFFI7efexrFpCFCzifyEhvkdpW8qrAC9gwa/jIL/pzMJFMuji8u6xbmvkXE2L69x4kMaD8\n",
              "JGdO8XlPjKv9b9ZTd/SsEzouuUbeI5IqWfIBSt49Bdil6vDAo1o8VbPUyKeY6HdXmuf9bxyluAOc\n",
              "I9rMKmUyyVIPle/lrIjVLKWWR1OkZGezuwQVxdAvaJzNox7t7D3uYAN8AwYzmjLxxofJrJ0p/qK2\n",
              "xs1d/14aA+437LgJn8Cl0dy/YnxNfP/9EdzkHHuQTt5eh46xD8afRldJ3qa144tpgxWQstMundbQ\n",
              "L1ozmPB9j+YyiWfu3QWYZozN2Zyq/MkSFc0eK/FQBVD3mjfxK7BaNsksCxu88WT1bC5f5BxV2Li1\n",
              "N4eRWo7ZA/4u4QAAAFIBnxhqQr8AADYWGZeGAFkLKOn8qDbboNXwuODkO1WveeNEphPgNQNmOPQo\n",
              "jeXNvoCVJBCz03Oq6jVBDk2Wv62/x1OB8yhzGAQ4PuVcDyM0LN8QAAABAUGbHUnhDyZTAhv//qeE\n",
              "AAAZF2hCSwdwA/RLGGx9ZUncNkZAoG1GmxHHdL8ozFEliIctz2EdWygjj0CsQKoE2lutuyoH79sz\n",
              "JjVbkXV+yxx8IQeqKtvXU+IWn24/qVmSINtg6FATlLM+APEiTik9OacRLZcs1pJhyBgUXzet2Rf/\n",
              "kw51c5i4UKvYpH6Qvu69EaiIlu5cgf0mALmTR2sL6gkTqGRlZyOyurnw4d/uivelUOb2m1K5a+kz\n",
              "hZGn42ZnMTGuczhka4nys3eLSmL20udH1T/wJeJ5RzyywROJxfpp0/q1mVnv1iDO7b2SJY/yINT4\n",
              "XP4/yI1O/9/GO8AP4zCRAAAAe0GfO0URPDP/AAALE8QAueTHg/ZD+AASv6AeZ3GCWJhvDOKRd9lH\n",
              "8dQKcsy7KlK08SnZaTicxZsD+adLO3XV6dPZ5wsmzXu5UehWXg2SxOU6HL07aliG7D7r3mB3tzHN\n",
              "nft1BWBCBb+Dqi4jKyKpJnuDfAENAtYvsjiPgAAAAEgBn1p0Qr8AABR4uFzgLI5uqZiU76uxZ3KQ\n",
              "3/7axn8to0ts63DBauQAA/TRww7aw44IWh45WY8t8eK9UIiEZSM4AGm8qdw7iOcAAABCAZ9cakK/\n",
              "AAAUevcfzCHCj/g5pzTpnWv8y9qtQeWktE/TcpKAI88iZhZtxBtQN56jcoJuQ21kJO8CAA2dHvcO\n",
              "iAbNAAAAzUGbXkmoQWiZTAhv//6nhAAAGRwL2X5ARgeXo69kYQAmTw+3ThgYqmSH1tGdVKVBGF+t\n",
              "gw26hrqGLHilZNmO5QTgUlhPBQH7zrJWdZ2tEzCyXKbbFq1q8lIDaVd5a2RiHxsTrg8e1093bSYf\n",
              "aFDJ7cxzfcgZ1667piP6PsxjypcmizGzNzG9pg98tp3GJmG2dsUAYdDJb98lyoJqvmeMbdxdfQpI\n",
              "IXvhzNE0SQE4TSGBQ/kw5tma6wOkcu+zOOjrCjD4st2/48DUIezfMIoAAAEhQZt/SeEKUmUwId/+\n",
              "qZYAAAyibIlC14kZDPxXLL6YdMXiACIOG1JfcD0W9a1SNCzaU6o0czFqNJIEf1DBu+2hEKoighd8\n",
              "KZ3R09YUSu0i7Oriqe5VGQ8MVnhLl9MWNT82TD6pHfCMvikpkdG7k/wK7721vs7B0eGEYVjV17WR\n",
              "zVEWULVPGNyvzSKPWZrCwjHQmGY66exPs2HE6ifNCrbBBqUqpgLoYMm3xFROK7LeMRDUZchJPS/k\n",
              "U/bZoa/EsObGLtIW4zTVWNQzKZqmEODpfbGjkTVXRx96gkUCCT0SvL2MlWGWv7Vxo6fiPlt4RQgv\n",
              "TFijgEbvUvh8YXQgUch1fe6rfqi3O1hYa6RJUoi2lWkd8GfTDPfPqSq7sWSXUYhXgAAAASRBm4FJ\n",
              "4Q6JlMFNEw3//qeEAAAZPhPJUzdOqYLLwgUAIUyO+ZpE5KobO8kYMgY7uJmSy/jY9CCC0OL1AwYd\n",
              "+WWU2lRIbEJTNe0gqUWHm4WBHo/ISwX+h37Tnorr5npSYqcilMVHXYHJn308QpH0AOgA3CxvF6s8\n",
              "NIR+hD6CH8J23S5dhPkPYTM6Me20v7EBR6n0/U0CL/I11hWI7dL1Db5DcVEst0CatuMoQ3uAF9bd\n",
              "kYGUd0Kmuk1XvZy7+fFmYJmQB8G5xQl+vfhDenYotLAEdgMix/ob8Ub4ir1Fku0eKI+bTu37z2OK\n",
              "jcSbO+TB7RXppYRkjjZ8UPEFf6rnGBoaR0ivnsqGBQz33rxGGpiuQkJBhlTYczTw853oITDkOl1o\n",
              "DztBAAAAbQGfoGpCvwAAE+wggiEv5s6tqwAjVP6fEJ/UJ8eBF74+gfmpHHu9kY8ojMccU4ZUlHan\n",
              "DssFdhBLKssNV82+40MQ5QEaa7ariiEKomKkVCnciscrtQeBDuwVe47GPyzryUguDSAPmQGOdpHv\n",
              "H1oAAAGSQZujSeEPJlMFPDf//qeEAAAYnhPJs+cmFfIPQ2dYhlUCwGA9NjzlMmyFjkr+RxEfMxY9\n",
              "LyAdEPWOXWSVm8CVP0esMJqDEsjglKyGHIkMxNUrUqRBNxAecRK7j3FwxqISRJFKdZE7tWA2aVF+\n",
              "RUTyuOPjjCqjeI76zT+R3HFwnvr1Q+8jmJAIm6k62c03YLpaRIkKwpW+ltBYK3hq6eZnvji2KEgi\n",
              "BJNLa1pEfXL+5P1bYJUrPkvl/1Zn9fl7k3Nl3xH1zvJNaZJvfltMfwjOD1l/rP9Wypbca7J+LDmc\n",
              "UzC8Il3YGnFzv/90FO1gbXyxQEB8mBq+g8XjJHdPVdPb0hBaKz7NQqj1p1gMBo8H3LlPeNxV7m8D\n",
              "HMVb+MFm5KlniCQQtjx9pEjNdUfxWD4QAtKGgHZj9ovbkXodYszqtszhXYDk3M1vDAa0OhbMABg4\n",
              "ifoeYAMKP7hP8QnqqgCMB6gNIvy8vZ6jYvKf6xvdoMz0IptKUK2L7ZPBekZasVuAruZ1WWPonMMD\n",
              "oPIEWZ5kcVBlAAAAlQGfwmpCvwAAE+aN872yhQ/3egBoUsaeS5E1ZLOiTniM3357xF1J++fqyXdp\n",
              "Zmu7uoT64FiEQIFr7A3x0HkHhMJt2CWKT7oK9ihd7vYamV6O5VN42jCHnu76WaKs5XzC1kE57eI9\n",
              "j8rDxooPQafkYACUTniVdSrtXr2+yhLgoHsXhHK88ILjG2AB8w4h0vgcUBmQVzNaAAABK0GbxEnh\n",
              "DyZTAhv//qeEAAAX/1vKwiUp126tuHjNAPZnLj3m2n4uF1XBsAISvlnmYWHm1euu0ofvM+fWGeaX\n",
              "wDWV1tcoySCM8inSRuJziYT9xSFnOIYcsM2A/jMMUVWOlLfZz18S35qGsiv1KMm+U3XnDARENU/Y\n",
              "mdv6jnXvsNqmw5rLsYEHXZO1MDMu2lCYFOqe7GmRkHfU6ElFFCq3DM7XpwBYvUPE587ufjtmjQU9\n",
              "lmuXAbh8VIdXfx0BKY3d19jpiJuuKH7L5Y5uY+dY3zQ/XzZxImhV0FCTQ3nUIrCAsaHxxq8Xd6B8\n",
              "uyjW14JTT44sbfzy2flOt+ptLui4Z59Pk+KARjOr+MUvA43huagMXbumuBiNRsLtn50nLVpMdM2H\n",
              "tJBhJpDM5HGBAAAB2UGb5knhDyZTBRE8N//+p4QAAAj3TewGA7/xZjscdnTG+StFCAE6qlG/EpcA\n",
              "2yoi9fEz5Fcu2dfa9ZWGbkqshVgzM1uOEhSuOwQ+KptatzLKvtZk19SxcXNqAyqgF8xPvadUTucO\n",
              "o55PvLbq6J6tpcswfdGuo6jBe+GXH2gszcq40d5Fjq2dHW8oy+6S3uFAs0CGJPKH9U2e8vaa+azw\n",
              "o73YQtmc+5XajjlCvbOKMBU62bjwftHj0LNCTg0A0ig8YgKchNZ76M3uH814hdIInjTFVILpL/Ig\n",
              "jP6FOvrVBcsLbghBvHWfiT7ffFfDxJNzRNrE/fkWV51hhlACBuNNRybhnjYpde8xVPHFD3qeJ/0s\n",
              "seNE2UZSQz+IC0Pnpy4vs7jpkA0O68WnxKjw+zIAPaZcTmW6coKa5wlBAoxq61/th0y2ArQfTIpb\n",
              "yZVHTsg4dBUfj/sQBE4WVR2iqoVU5XvRf/9Ji7OVVF/BO1Tq3RuCe8szANKENJt2SCzOEbHX/SIt\n",
              "5krSs8daXFHjeRl8g+N58FbxDlXQtDduJhkezK2ju2OeVlL5w9orKEX+ABWOssBFR6BWDrq+YvVu\n",
              "UnIgqsAnjeBrJIop6iQxHZZKE1ssd6GVMO4eKebRAAAApAGeBWpCvwAAB0AFzFIsrGqsu2WQAtsQ\n",
              "5aNDaT8/NPhFDJRJzvDDbOlL1YamgHaSwpMw5PQCtpV0xJZSEnN7MKsVFnbT9HR/U0vfe2M7Um36\n",
              "wO9biiohxDEISxi6pDENR9WJz5oEEZ/7Yu+X0H3GbTk5J1aao7Kk0yfCik6MJjbr+tjWmAtEOvyw\n",
              "vlqRkHpmLG8/WrIB7/diPEkJsNGgk6JvN0wRAAABcUGaB0nhDyZTAhv//qeEAAAIt03r8zPm1s9D\n",
              "mRo2rAAm8qUWHM9sIhkiNV6xRWCGMM8gKkk15qrv5oFtB3eMFyRTPDAYIUI3Ail/goDGCHtWGoDe\n",
              "mfRjZI5rCIQ6MrGp6AWbEatDNi50DYQKGfLMeUZ2s2hBK2ks5Yo+pT/SwmKI8g2UzNpxrjM4NyOb\n",
              "x03pxt4fhcIwca/m6ND5/KMCs6epe3Ju9HsJ86uNUrP89KU9R8uRbY5PtOqYh8YhevOFo8VHYihk\n",
              "bWHWGhAWIWI5/QVh9HZD90Nwwy/VzW+IbTCWPerbKoDsDmwSEUzz0+mZ7q0vwpa3dLlIXevb1X6U\n",
              "/I1PKNmajjqFK6JQEWsw7+2b4hvQVKpSOgrF8up+ofAiGKc4fs7SlscFFF/iqgonjsqkujvwElJ+\n",
              "zT9Epgds81woNhsppYP/GJja5Q0VtM4LCRvoBB1uJp2ImjCdxTh2SBPkKvhZ6lPbeWubDCuC4dao\n",
              "4QAAAXtBmihJ4Q8mUwIb//6nhAAACDf5oo7eiJINNMWHtn8ss7lHphIz3/ojfIiS+UnN7ACXh32Q\n",
              "K5yE9OkPMOdvm4X39bnpd0PsYlLaq9Iqv6cOXRxAapGHnf1EBsEcmKeRXRCITRy2FUu9xp7nSikd\n",
              "DjHX1FLfF7pUngpaD/dsmA9xgvy6guVAFnyzBgElykgN17NMVwHrnFdeyDun2xQbfCqyHCN16WNf\n",
              "k+w9qygzpdiIZgiG7QScWuqyFkTPvg7pv0Xh/3NliIlBw5PAwU2IrBoBcRC4XHP0eCzj/sPMLI+7\n",
              "MP42AhbL+fCgdluty6US3/i++nI3a35C4pBcjSVIcQV630ZyqXX+xHSQnhynaCQKvVFsWioeK0Ee\n",
              "n8qjIWmppx65uuXQt6MwJJQHVvCbSpkedzQpoQpBSziw1vRrOpbpZTS4a+obzjMxZTYdHvESDo24\n",
              "YPfFWjqihmp0kpnAo0OMHnPJL1586ZNByYbesmNXUwXaRjOWZKDH5z8tAAABQEGaSUnhDyZTAh3/\n",
              "/qmWAAAEB+R2cSw+DSPg/HIw3JyUn4I0AaZZNiyokEGoMm9dWaADRqtbNQs6yUYz2N8m1+LbJFPD\n",
              "x0RJSNJsdTE4/69+ld6qMQ/HH8iufeh8jWscQcBSUyvJDBYtbHHCpb4noNRTbf/z3dlkjGhswabm\n",
              "/M3tV+LPUP2uD3b4OXgl4F6qJG4pdy2U8BmhaYJt5Kj8i5X7i34N5x02nCJrSeVHD3XM5uH2U6f2\n",
              "pTKuvQk/1MFHBTthIXM4x9NvUe8fFzeeg7P0srBIivZrsJlupL80R27qdAyPoJ9zndcGF+4BjCxj\n",
              "33Ski9Xj08AJu5WrkLloF50EvFU/GUaoipoP75jiyhhzRXqFv3OOQhZYHsj8+24Q7i9XA2Zitmhu\n",
              "Bn25qbbK1ITATINsiqiP9w4tagjM56vAAAACCUGaa0nhDyZTBRE8N//+p4QAAAMDJ+yn4aHS+H9x\n",
              "SRspPKAn+LqBYQ+SVDT7YwQJ7pvhXLoK34aZ2Xvg78UIQf1SAmC5cxSzB7qgtlClQDBRfYN4ikf1\n",
              "cAn4HkdejtYw5yD0odRXF9+9QNeN1shEm9Tvo7ac880LfbQ3P+/Thqs3fsTwkepuTT5ex+ltoqZf\n",
              "/00tCGEPK60k2pmomFLyDioABMHlTD3pabmJzmx1wL6VscTHWJvlsSizUqywEmFIn7bKaxiKRP/e\n",
              "icHkRuGnMRZx9NGMPkst33+dbRe8un6XtY+Ii2kkQ9soeV4030i6W2Xc2KG0B345nnUUulITTrnr\n",
              "L5frxslPeihQjbk0XGP0tHlRfcBOz3BY/UruH7Owu7gXDgRdWYQkpKMiyF2BOiiccGKZUKVghGKZ\n",
              "C1iYxHQr7uoKAeV2L07k484n2y7OTNkwEGwba3LENNYxytLbokj3w7JDZWkfu+BBM/zOLFCtxRXf\n",
              "OFLF6tV+OjHI40ZL1lChLNOxsB92BvEg+ZfgYdPlzt5yvJ4pCo1KlssL7hlNVC3Uf+UdNVHvgT/l\n",
              "B1xNjik4wwksfbaXrdopVtPtRa5aRW4W5fpMB5WJyQswnJdu0LqLK+ku4vhpbHKpupERYKCFc6Fy\n",
              "sSEgRjv0h+y+bHtf77K1ct8mkdjNaw/3aS8YeJZs1DqDTBXxAAAAxQGeimpCvwAAAwKO0Toozwdy\n",
              "F3rbkkBZwDloAAjWRsUjK1NjhepvqeoRh9jKemW3/GySlJnSc05ElrxrjUHtTZGN4rErIbB95Hds\n",
              "N0MKUYDFdK/FxHfZj29jpbzH+K9aWqpxXDRocc/mmZJElVQ/ND0byQiKCXfSyFT0aMsEU7n1hkmW\n",
              "gWEkvr5iC24KELqkul+p0b2lHliVKyfd5wd6lvsPrRyEBx7pgGb4RZWP4FG45QEAw/Yh9EbRKu1s\n",
              "oIkLbd/DUJeAAAABZ0GajEnhDyZTAh3//qmWAAADAXj4BtQVdmoDPeoo0cyemla2rG20tjxOrJ19\n",
              "wArSfjdZpYA4mxwXUSRWUOc5rTbmE4GHvqoEBj/R4GJQ4Z+Jc4MFvXnr/BqPpNI2bFBH8mqFtO9d\n",
              "mXTZLZ8WXmosFoj0X3ZQXfhEFdIisosaexYjOJMndfcOD/pTiNA9dwuW2UkpScAAr9V4G8N+oZUO\n",
              "Lrqu3unV4a5bCP5CNMMj0cdWC3JJwrm1OCA/AH5Pjy/k5F41wCRnR4WR7zgp62GnhI0a7k5yf4fG\n",
              "aWFmJ6U5olgXKBWrR9BQiottxKZs58pLHG0dr8BTntUXOx4OUJ9Tyr9MU3bVm3UwCtLsVbtNOFTN\n",
              "JNIG+IN8aCZVZ6AxYFMx32b88nLNYKc2axg6zT/1gTekxGQIIWkOvgUlsEuKEXK+BjlZFEvSdNML\n",
              "pFZM6HhsAqcvrqlYu2o2t1XSOGwWWU2pKn+1Zc/AAAACQkGar0nhDyZTAh3//qmWAAADAJD8jrQW\n",
              "O6FGvewyRopDBO5g05AKGxADQkRioDMeK66wNIrWFKoYPM8lUaj7xbQ/PHdfhLXP6L28CS/wQWIQ\n",
              "Pmy7Fsmv0PMSuwIiKGHHqUuvr2wMpLroj8tk5uoz6XwKRP/a9VcvfWSXNrzV4guEpW9ucFjDabQ2\n",
              "hnGL8IAagiyAGa8Mp+fTsCwgWUyFS3oT3Tw26RQROVa7Nm7ug3sEVBxshMNG4pts4SUJHwuo4r3n\n",
              "nq4wDdwvCo9WJxygAh6gSW2pkmuICioT5Sanq2DOUamKxLQPIpWJfDWtmvC3fMxdBghCEUpzAI5o\n",
              "8uyLxCjR+jOyAEAzaLVWEjZMR0L8PjhP8VdhEhfLjfyKTYQ3oGBNgpUMqQ27fBfuYJvHHINMlPs9\n",
              "Cmd51ljSsWtiryAgYQo/nNdTBYhsA0XxN6WFCf1Dew8nA/VsHO1o6d2464JXuJ6Aa7HjGHVgeyrM\n",
              "AGIznLzGkAtTGBFJ2YgZPFxeTMLH1GoBG/X2pT/NpLyQhx1MWMpad7lGZi/RwSXucVpt/qYQyJ+O\n",
              "4hCFkrRKM92iHoZLZ5v5bcv8Z7VtjE0L1hxLEJg2AAmHzqGgBnUmc7ZJU6Y+X5gQkw/T6oFIzrQg\n",
              "2wU9NjOva9WrkBAFPvxkF0lAJChvfFoS3d0qpEk5yvD8HzOlmfQhz13rK5fKYGetzLSnbhGNAN3Y\n",
              "S5mZ8/M37xOZ7zURH5pEtiZCdP3zeksVa1Mzkkr21g4LiLqtCUB2fi4JAAABCUGezUURPC//AAAD\n",
              "AaZxfg+Nv+XzYCXgiALAbPPGQGUcoBjYZ/Nie0olErf7Of4674aJpoI5Apg9b4ScYzVT48WUXU10\n",
              "xb8I/AUMam7bseRxwHg18EwlhKhFOZll8uDM2yyL9N44DmiiMlm3tdsfwbLJSgnidXyJGFHDeWc+\n",
              "MFNYaMfOhT5uEtA8sbMe0RjPEarx+NRSUnb9hSgnYC1wzwlypzRnilIqMMCSAGw9zirutU8IgQjs\n",
              "lmkCd7F8bJTmQrt6WWrZ7JzM0MVlC/sa19Rc7Ks0lGkwpuIcpL8/lqbfaHQUaG/8qiIVpucUxdWW\n",
              "5unKTIo0iASwGw1AZLuTHAnaYEFr/tqs05sAAADaAZ7uakK/AAADAjuv+9hfZBIM8JqoJcGmGm/a\n",
              "yZCafgAk4EA2gwatyXGTU0zKsk+6pcL3+Ao353jBgCK1iFJ+OLxWXzKd81oRJzuZn67O3n3DRLb3\n",
              "jns+aZkiedcuxZcpgqP2d8OKjldLguYzz+frsknfiD5y114lJdsreQpjjLk8e8qUciRPlAGyYAjV\n",
              "yOrAJDkKVdbxC8RFfczU7dFeFF4aIRDsOaBXvpLFSL77DSNvl4gynl/4U1qBLJaGqBBaXtKgOHfw\n",
              "u1GpXABOEjQqZF+v2dw+nQRXTFEAAAJlQZrxSahBaJlMFPDv/qmWAAADADff0PfNW75qmaMJMJzo\n",
              "EeAAXMu16S+2Ccw8F9ozl/hYW9mtqhf8YY4QYqY5tDnqfFj6Vpq24aO9bhDIYIJa/y+wpcWz8Sc0\n",
              "2UcEZsh5dGuW9MhGooozfrCmGXc9zKSSUU2dJsiPQA+ZGGoYWgZiN1rbMU/S6Pl/A9mS+3X6xM7l\n",
              "hrrzsVUALWct7uiH7YtnXoKmrpayFlCX7dGOVHcxR1HVYg13UQD/lx1tz5fk6uXA9FYD9zf7LCnn\n",
              "3YcYM2+BA9vLIGX3NrhaXIesjZJfBVHqQolNu85v2taZF3NsqRzHKXsj/IOPMsR61n9jnDS1iPt3\n",
              "GLegAsOD3J/QfbsxtAFMvAujTI48bXZjLUXRZbKeXa4omJ0Ag/7uy661m8lm7fHuEI+KTFyX++Zk\n",
              "6I/i6TfH8N/IG/aK+aa5AgIY1HtBADWMHuoycsx4xMvI0M6FoYkBUNBh6Zz8QMXrjreMkzyTrNZC\n",
              "/pToM/u6vl9rkgXi4Wp8po1YkLOnAerVG/RGJyfhaWuxO6qDhUEAWpfLy9rU9wb5qPrgcazN/b1i\n",
              "VJbJEC1nFMhn27QJr/2y6RML3M2E6RinWII5tw4M1w6axZHTIJ1d7a3Nta1YBR3/bGv8eotBXzJ6\n",
              "6zdEEx35gOC2l2Atwa8yPuX774iCklrczu0eKEWvUKazlJ6Zx/oKd+QvLZOUgu1eGHhNqAkDA6hw\n",
              "NLv2qiqsCKKTvj4tFZmAmg9o8b7ld6Wvt+St+Gv1u5lc+cCs1qj7priNNHXvgEDRlNHio1aCV//S\n",
              "+waWavSmTzlWDgAAAQwBnxBqQr8AAAMCPBmdgk3jk41mDdwsH9VN/nAC477VwEDIvgDlH6wr6iWT\n",
              "TQHWz6vrmInu3JODPL8Fjps7rY+J2CQOr/6mmDj5sLsiJYrxliBYMVw2JpPEBplkqtvhbDOuD1f8\n",
              "joDQo/J1NiMlYxfFxAWu/RBFwt5L8l1/l678tZ/imEn7Vwko3APFj33iYW4w4IsxhIm+ff40whIW\n",
              "GVNaFtKhpZmSvpKcAF/ThiEGhfVoa+isr+ZxRgABBa6+J0DB+r86cfYAWp6++MDnNguX3xCusYh0\n",
              "s//8AV3dVX1M2/k5MkBh2sGUgZIjxK0IV90GwVx6KtFQGAHESMO4QydMxbyq/O5Ep70wuwf4AAAC\n",
              "KEGbFEnhClJlMCG//qeEAAADAHG9lTe0ez7QZ73CBIln0AH9A/QL3drCdfkmT0OsFqaAr4pZG4FJ\n",
              "jaqSNB6sd5WknMA8SbH01qE2Go+l84ZluVxuhCTu57NKTeHS+ZglC1jn6CJ86lZM/VNTJKX1Cfjt\n",
              "4MbzdxeF9e8YBvOuXCHisuir1hGbiNIQTIUMERwK5Z1kLpqiBjHccgetblBj+Z3WXLTsTIWRDGWU\n",
              "FrScBb4Acy4ZVDthffvLWUCDtibSNPlVrAOt37mGvB0HZZmo24aS6TFt8Q9v00Hzczxo2b5dFOs+\n",
              "LcPFgAAAVNewZ0eE+M6pStB3Nc+93cRoj1vrFVfMgk8SPXQbtSjOVx4I1zqOOnYeiPkmaKLVhDjJ\n",
              "II1SHWrKA2UFcphzE5yGpjYrTQcJ9/wvTSIyJUtDH+xfCC3JypExSjDFHv16qtwh8uvM2nzXRvGj\n",
              "fJjR/xwa7u+hKjU/dn+rlcWKyyb1JVty2nXqjrTCy2HVEcdGfTvZIYPNPDU6XwKtdTaszf23KMp4\n",
              "eX1qgmbiIuihvAb/dzJVQG9fo7vj28ogYpyjzCfkA/sIT6zzEtRzlJOicjvvhHF6Lcg1ZcTC83tn\n",
              "5hMMD/876QhRuuVqe/fRobaFGjq363fFJTCm+6tUg7b7s8FTJ9wm1XlH2JVs31jy94chWqfaarjH\n",
              "lFMz9pC/Rt42U/S1eHRnEEIU3evLmlktEsfMqq71vjf7jbOLaGIqYQAAAQNBnzJFNEwv/wAAAwGm\n",
              "cX4zmSGX6UnbK7kXKc9N4R14KOOdMXmqQ9gCbtp94ASJFL1TbzzHjwnBjy86ipbPjVOMNpjPMxuf\n",
              "mWHbJAKdVAvuPA+4tW4EJ47C46yRn+Qb8Wbe29JFjvs1NIQazHo8qjD2ga2i8X1USVD0QrhDvZXp\n",
              "cPj6O3vD6KwrIMWloyCH3agmBUCGUvMxI9olh59eWTBPUDSPirCHGtZ2k14mRlZMHD+unGLOg6XP\n",
              "5HfAGGOx/oNux6zhclgH1y8twLDQVzq5GvmmIr5bcB6JIfwD6xwELJ8slY6rtY4GJ3zCIhPLAEaY\n",
              "qNA0kKF0E1nvJ1N1ksX8lAsYAAAAoQGfU2pCvwAAAwI7r/vYLQboS+bzx8tQ04/8upuzCn5XPac4\n",
              "YkwX+AB878eMC8qFXdB8ka0Z+iQMyTc3QNaA2NOu4l31Pg9QLF4cwf3zDRbah6lcBBKVGhaqNt6j\n",
              "9qc6ZMcOqmc08SFtl1V1Qin7IZLsiWv91W4y/B8MlSpOt8KK7flFEcBHby0+gYje3Jh81t8oAEBR\n",
              "mPVrEbCOJ9/lQkvHAAABC0GbVUmoQWiZTAhv//6nhAAAAwAqPvAW//T3OiGUyaIVuwJIcHSeSANi\n",
              "/v5F30WWL/vfjrppxQIOPoXiW0qUDv6VAUoVfMF4Zppt0LUJwH7+Jlzk//4Il2URRmQ5BaZgtzRS\n",
              "9vzM55TMEWwrzXgYqHEPNAedJ1WISaZe3EZnxpgQoPBOTVpm5OYijRSPsT9pd6xXL1vGiHeqsloa\n",
              "fkKhJSxWezW2e+eTC/MwqHDjM9xQfebWDdo3lSsWxqW+bXRQlyj1mvh2u3Pll6dA4PmWNL48i3SA\n",
              "1mWuF96cZWQ7vj1p1OfacVSBoU84l3YtRXXsseYZN3H3R7qQOW4ksSquAhnso0eERrmv2MPAHwAA\n",
              "AOJBm3ZJ4QpSZTAhv/6nhAAAAwAm3wQYH1iRqRseAFa2YkZdsowEczOvKR69wAZIQoh6HJ5wTHXe\n",
              "vDosftwOKhk46JPk1vXpO9KGXspixMsLxphYcTDUucg+qyFTiXqhrT0n9j4lS74nhHJnjHzICK9C\n",
              "SjsMtGGmzIwYv6okp1zmMS110wQwpwAcdxgpazowR90zRbkWaTpYRNAuA4Vmc2rSB7K6xJAr8P2g\n",
              "sIsDEj7GJQpCnaLcOBqpw8PdlKSUwpsj3dFLX0z1I1q88yRnq3OtUjjvyBDBY4rPIVNJcglMVIBA\n",
              "AAAA50Gbl0nhDomUwIb//qeEAAADAA8ulg11CKh2oXZyaAC9AiHzPErBGejqDkj0bkddIUupv6Uq\n",
              "bYtv9SJkaWlebEbhNt0Yk3pSeXGX0k1PvWiraH7AozYnLV7t79uRV1dZd27gyek4A5dhRSCbtj1t\n",
              "NEzPxwQlLkF+ImVc0QcPxQFKqEj9/TQ+VZNBgt+zwGeBE6r1ImXQ1MrRA++suti7b01o84GbaWn+\n",
              "OHM5lM+mW0jk/7+fxDUm2jiNYpVGWG5nAk1pZCwHizFMFYEj3LPK6/+f6G3WbG2x+KrF17YmJlvu\n",
              "DEUV97POowAAARVBm7hJ4Q8mUwId//6plgAAAwFm+UgqfXWmu5OQ4kRW1RAAGYd/rXZ9o7BgvOrw\n",
              "8anySTbzDxdhYgR7Tysh9QcK7ZpoUH9c/283CL6vVNAWHcF8PWg/Yq/EqdBfJoh7ZDicd6D0Q9+I\n",
              "6PSHwNHTOXV7+IhyyAS4lAf9xpT6D9kRfDh+LhrNEtIaIz0hMSpeIr40yWdik0pOtbDvNyHB+mL+\n",
              "gSViuoJuPxvreWf5kt32GwOWcnXQx7rrdqUwhyF0hUmqatvPO9zNzvLxOTN6eoXA45G+69GR1+mr\n",
              "nCD3gRb4wzbQNuaPPxe5JropB/UBoIS3qOOzemgHnQdcfn5U86xIYs9nzS0w2kuuEKCEuZwyob0Q\n",
              "VJrxAAABXkGb2UnhDyZTAh3//qmWAAADABSd9HPFyPwF9Ui3JsyIy0escP+zPJ4YtyKEsAMwMpvZ\n",
              "s4TvwSP0IAQBiHWWDc9afkB2edtCg77llIB2zP4UC5JxbP/BsZpgFfr531d+Eu8R2hQPGYeBlugE\n",
              "fn3JlGKsEAA8f8K585WaOk3gf3eOmOnaP4BMOKkBXXXsf1qGETymZHHWuFKHlbm/r/S1i3nFqLe+\n",
              "KB2qTB2HM8mmy28JroglZAa/GgeWkBvrPnzKrYubJd+JRYAIV6HzsWwhO8wxhv7lnuMqEnfh3FR+\n",
              "iyhtAXEiYwB5roP42rcJowEbuAUWG9iBIabXMM7lB22VzEBEziZAonGnP+xxoMxWdPJUFDFzyqbq\n",
              "CR525uMDQv43fOlxxaJf21Pxyv5Y3u+Z/a27CXuyTEwatHrMzwVvWjsAyDaw7YvU7ZXzXVtgQXmE\n",
              "oyRsZZw6SAlvH6kyRUZyAAAC9kGb/UnhDyZTAh3//qmWAAADABSfmjZQAfvRKRegmoGpyOhOq9MN\n",
              "kGZxYpw8lNjTBAyfUEgbRJ6zkowiO9zT9CQwpCy65axBD787wGxmtYoPun52ReZrAPjHYPGuYdwV\n",
              "OJGL7yaYDZ24aBp/AvNlkZRXAl36a74luLPGXHCJ5DJrostL8ZiRoYrIRNFPr3ZGWPGFGa5xEGyG\n",
              "hMBo6i4v/J39rv2oMZwpCWAzUNt6ZFXcrWYWY4mYBLEImTvqvPynZ7Ej2kTm2iinHOtCcYV/SJhy\n",
              "Xr2fRk97Py4pYHDhT2FOM/lRSOPCFfaY3rdGyfjA3hvo+1Ee50yGgrqnEk1M33/bxV8+Hu++cZrL\n",
              "yS4XjZ/lycAOYVU4AqRdTfu3vm7FkIc6+pfUX1B5J5dLdr0OGfcUxzDyvbjH41FLP68T7xIQFObT\n",
              "w7VMd82iDiGBpB41t4fbUxgdPZBW/cEt3XEhIdIqGLqftT/SkSgb1sTBDAwCcyFcTi8cTrmxScnl\n",
              "N5mbdqcW2KrmzGT/ol9W4Qs7IUcnO16Dg9fiqs3OOT+m6HP37DxdfLzSc/toCEygqEQ1WdtLAytz\n",
              "aMNAEZVt/X73qFFULPaUso8Ew9l2xD1pSUk0XmDmmOeUYSx9IBr4+jH0hoE1ZbbwUKvq/5VsuXaF\n",
              "Nq0idHygsOW49xy/6XlH9Ue4K2VwCIZJ1ToPPBQw+3BWrOVGvLwXx+LfbJi8EU41QcOhV5VNw4cj\n",
              "TGCkxD7rKxChoV0NeHxjMceuhq1H0eK2LcSOpsxLDLokwyMUPIpG4hOVw5o34TPnfkx3gLGfLx1H\n",
              "zcUM/epkKyuGAdERNbIDIFI1CQA9VHYMTU1NVV8c7x/hCuJFTY6tweSho1f+i7lS9Ns9wA3QklPO\n",
              "7mW0V3Xn8V8D+nWlW30bQfSMWI5yoN/h6WptTr8IkKeffD9vtjY33WzjO8tirex8B+FzzfFCuik/\n",
              "e28PLYZgeNAFuUR7WZK/KQ77OARCbTvZ2uA+gD0z91hYHk4RAAABTUGeG0URPDP/AAADABHXGgdK\n",
              "HOwSRtdYMP0AJZZAqj6uvaOF+8mRdxVl7cQ+Gttdio3U0awm6F2p/l0sf/ci4KHCHpPxZkGWaeja\n",
              "wHamHRVjxxDzs/8/UAX3y+xGJvIDu1go3UElYAYjyOwF+Xo/0eA+DtSe2XSD+1QFFh2inQFJ3xP6\n",
              "BhnwQcYrmuq7YlRSxo91renoxOTY4g4SovUZazfZU5MsITp7SG1mDQs1RYZyRD0dmDCgDF8XwT84\n",
              "Wd+d4OFI0VEosj3B/Zi0cmy4uT3xjlQy9AP2kloP0vwmq0Q2d0aZUwsXLXd8ZH/ixjTSRp99APyR\n",
              "EIlzZsWL0eFzq1FnapKuxh5GeHSYbOKanLnbNvYaJOxYS6kXbisJRqWM/pyNVF85Qs2HhB3JNWe5\n",
              "jLgSn7NnlTT2Zu4RRBRZz52SSvEzzhyWp8h9nWQp4AAAAJ0Bnjp0Qr8AAAMAIb4NDUnjtbHsnthJ\n",
              "9zWku2cgUjh4YjBN639iwxxqmjnbiIQLnWmaOQOWMHKvxeM5o7P4dM5Qcx/VV+GPVkvFQhaR5NNk\n",
              "gCVTW8MwG7y+uGX+wBB/ENgjXBly1KM2pUtBTlhfla/Nqijy2esPCgRIcUI6r2DRvQuLN3gzMf7q\n",
              "Y8qAGKzbHJAqBN3k0xSlp9vyE52BAAAArQGePGpCvwAAAwAhsIEc3aKaDG/uRACWHNsB0tJJ47Tt\n",
              "so68QUzLJniJQO4YgtzFnPtHDIM7jNC0EJNsa+ckVbRCbJoSkDxw0DEaTd35EV82fmlHnYFe29eo\n",
              "IWGGD38aX7cFdkGUvgW0t5QwQ2RMpyFNUPnrG9jEjFTh8N0514ckJecsdDBGeG3rbC6E7wZ6VMkb\n",
              "o+YRdQC2TdmJudjIaXch8ioB9Lk5dmGuF0lhAAACGkGaIEmoQWiZTAhv//6nhAAAAwAo4hX7mhKM\n",
              "sWl2UK3z8fHVngDv3GmmxjFD6IrgABZvygaHWOX1xJFj9/FJe7euZvrixLOZFX29i6Jf9DPmK0tF\n",
              "FScqTYNEooR+NRUhf+MJ3OeeDrwxqoO5PzXFCHsiVyPuj2EcX3z+YI3NewM+Kk3eulYn1XRfWvbD\n",
              "rH+sZkJ57JEndHA5j5vvNPUXwiTlTarCP+u+iIYVxDZYAtTANQsEjccRpxDh8DT64DFd7mrlG2rT\n",
              "YbaOQID49zbLILgJqnIAkRhm96cRc0lf/u81XGpD24wXsEIId0gcthygJQKqW+c9LyQz1BhoagSO\n",
              "WRYKZ9CDXU5aEVv/KbiUnzyZzus+EK+PdlVH+O5XkzhGoSEiD8I/cpCGvi5U60hSi7HGIpyB7uHh\n",
              "yDmhRxuN9tad+baBOTzg8GUpfOSauSpo9oiMyXWWIrOeg5dbjZTZGoHobJR3ft+alLlFGlkkKPRd\n",
              "LgIJohNbzp7HMcCvprofsnVDo73yOdCdYjX01Reov+UsrjQ0VwKTJnHeHl3FXVyJutQP+8gWlNui\n",
              "X8QYmmGl7TIQ7+gfLhiUigxaqX9vPEb0fReJoHY0tvVFxuKfP6JPT5xclAaUvtqfpih3QdCfp/tk\n",
              "rSkiaew7qlRPkUj+NoqjLkBxjcpAoAqEwHUv9s4sSxaFaaOiTMfF79u23Pexa3x5LltDNmff3VQA\n",
              "AAEpQZ5eRREsL/8AAAMAGIEewS4r7CTUB+teaddKqeM/XThUMuFzTBrA/zcfDwW6z7qWT3X75ve6\n",
              "IYwDImRIRIsX9YaXDhNTdz/tDf/aYpr0WCOJ9CEisQ432c7yIwrc2pIuhgXqU7+EOaaxrdZOnK4M\n",
              "FX0vmDMBtieYM77RG0a1IJyyiz037nysMy3ecuaJKAAaNT+Nk0h/3ozb2JR6eJ8yCRfWG3HoFIWf\n",
              "0fYzaq41CeKi0tjywLAF2YGzsaRKRdAbQFR0oNYJufuvF7cstDN60jcdZoUKjbzw47JDnZWKsFox\n",
              "of0RC3NGoPlvQqN8+O5AwVXwMIaoQhNvrTX2cTYN7PMW/Tcc4nLUP6PGfgOfRlr0q2AJ1B5EJHSb\n",
              "/G1Y6z0t+2mAnWF3Lz7gAAAAswGef2pCvwAAAwAgshMUm55B/n1WoAP2sVq4B67bGodOnpRVHYIE\n",
              "5nv2RQq19YZ4qT/w475q5z7+mEYO193kBbVwrD5qHSwipjalNcxVHeMq7CMxyZWyxV2UChBzAma4\n",
              "eqEsJbgiWxRHJUme85R2Vd3INu1jpI/tnajAHsyV85LlzqbD1ElW6zLeB8XYe9ZSaEZs3zQqDJ4C\n",
              "AHKKsF559PUrJkpX7VK7uSpRmYCNBZwCaZ3bAAABR0GaYUmoQWyZTAhv//6nhAAAAwAn/9EirsUX\n",
              "0y28kAf24s8aPusWIHQyMVfLYNhZVNrIMFb5fl1XDlaQOXpGbSI7uDlBtox0iJlt1m4fv11LCWZ6\n",
              "E61PtPNTFvCFge+QxcCWIwPDtLV1y/9n/J+PGzBiOQ6ygyu+atULJNrGhwTQJop70JPGdc5+rk9O\n",
              "SIJPf3pTdmEZbNjgOeJN3q/oEo+ZIBIE0zc1X8hSC8YGYM6N+4+7TmsQAeALw3IZ/Ha3WUajSdvR\n",
              "5r4+FhwSfDYu3hFV0d71qS1w2Fi3f3xPMMkWgOXTFq8aHD3zbo1rRaWQnhickge6qn1ew1koeQyC\n",
              "D3UsAwpPvEZ/DQCpV9LC15oxYpvspdnSyWca+gcD8iuGAoxTtNHZ4gsQl3G2HS9BHvMo888vepOU\n",
              "8ABG5+Z0b7EUQp6WziN37wAAASxBmoJJ4QpSZTAhv/6nhAAAAwAm3Te1EE+suPs0GvDwADs00Upz\n",
              "iaEwlS2l2O5sbSuIMKTb2aTCnrIUZY7eY+duXepb3zrEiTT451FtmFK1uvtMRDZj70gBpuQBKCLF\n",
              "Y3a88K+N3Z7+40Pp2d4Zw3yY/f4u/m9KLQN95EdEgo5f0ExCdQUg7UV2nAJI7SbqXHj+6IMy9JLY\n",
              "Hzi8wOGByUeyN8hQJ3GdrXimp3B19PjLbHuXrliUxApPg8vp3BN1eRU47O78Tftb9r/GZwbfSAhu\n",
              "gGaB0F+Ibfum9uvCEHk73Dt2RCpbnLiWIxAg+dOSrOL4rRewvz6u5llYLlzU2WsjaSKUEsRed4Ji\n",
              "n+eOTen1Oh12xv9nNM+WMnwk+Woh21GgvHm027CKAyek5UEAAAFgQZqjSeEOiZTAhv/+p4QAAAMA\n",
              "Dyr/vVmkxABxt1wk1ggFWTleYD0UAF+R9T8vbC9HJhvW+x5P0TCMNoIcBhBz8y2NvI1P3ai2LxEX\n",
              "RukzFqoj+mWoR2ypyn6AnA6zCbD2pSpxPl69RrzTh4482qr3eGWmkoOJxfX9r7H2sUJoriuIeQvS\n",
              "6qEv10ZY0a3xYKxxOBDfz4QK/6ldS7j5Jsi5WbsqSK13x2yzn0kxLMXKb+s/fI9KspZX7D2FGF3R\n",
              "QkbD46fVhfpTl0WX9TP8S51pz6pu2s4i7E2wC7SFwLOT1TpDSG75cwO0Q8eugzEpb7TnRohk7Kl7\n",
              "e91f2lv71MxW+KowBJJi6id5ys3WyJFODF22OYYXuZ8Vh//w8znqfhJ+VnL9bzbuNwJasPx9lInh\n",
              "tWt2gJ3MoBUad9mifVS/HjmxCnyyXMy37psMaaA/6Oq52NU811CBfZy1q5LMUwryYAAAArtBmsVJ\n",
              "4Q8mUwURPDf//qeEAAADACjhYdSAPnXrlu8OjDObIvO39CzwJm/nzE37T+rGQZBsiFt8th3lomPy\n",
              "TVfOzqxJFJoLBrWAk4Re4mdftc2yAlnuYYZS5n+dlDpRIffLC/d805xXjmSv8EGtFkSZH5eSOTvh\n",
              "MixbzAZhCEkjtPJnJpSOSeBG7uTVETHO6yqG2CWs6ZnQ/68jlKVM+YZ48HXo43eos86NrgBGABrs\n",
              "K9a/i2jp1O3P70YE2E9eA5MW2azoj0Q5i3/i6UhZLOi9p9TPntYQsHWFseQb2C4A1329o+InGp1t\n",
              "YPynUJxN1uIJvZE3YJ2J/WOjt6y8uWmyjsDzuDNlYFzXbpHVILQcRYYuep2zuv/htiEq89/+b827\n",
              "CuN7H9RQQ9wJBBhyZKI34q2/zNRWPqk1R4hBZKg4rFh03L6O11LgCrfp1xH1siQr7RyDDO9bnjWy\n",
              "rohX+R+tEzoeiBRNfM4Xh5uSX+iUqI0us6bjcOgI7vuQ088r5WDuS6fOC4jfNCcAw8h/CteUftiu\n",
              "69n+RedtRX1h/JCNl0ZSHIKMqNk97C1OiTOObNV+zXFcKw4M7vJFP1ltj/5Rgsb9iWJKLHOjLda7\n",
              "5pTvTNp3XxHruZatenRX7q4pCip/G9h3qa/86cLhIGoFE5vA2N1perp+EGWPNxUuVl8k+LzOaiSE\n",
              "Hguz+/HGsWLQz+Qih1lyLhT0oOHbwziKJZttE5eVJDKEgb6gGjx3DOXcya+9ysvnOi3Kdp7vyoZ4\n",
              "VcZltAd2MR9UmAeNTjUoV56WgOxHpnl+C5ahHbHms3fOLnGVJbJNoRr/UEZpc2Bcw8fYnw/F3hLp\n",
              "PtaSL0/QdD4k1gAizwx5GoVoNLjq6x/posyVDW+G5S1KNT8cATyPpTIPETYjZ/7XrxQ2KhAhg7Zp\n",
              "VILAwHTW0NF+lOkAAADJAZ7kakK/AAADACC67leR/IDdIQAftYwXiYFgCY1spQIQ5y2idWLEM8mr\n",
              "cXHVEVnec3gbNiaEwMqxAGI+W++Z0ttBaQ1p5+yhfYSJ9LCOjK+Rh9p+gJzdTggN8PTx7ryfatAJ\n",
              "T1c7T4AbcC0zXMmmoerd+Gvn0h/nkGg9D9UQkG1wVCd1X6yN4k3A128wzxRb11jYd/XgL9cj8ffo\n",
              "B5fvHfis1CDDbi+MF7pufaYtvNx5iVLhgLf9E7MtJ4wFAxK7+DBAUbYv2jgPAAABk0Ga5knhDyZT\n",
              "Ah3//qmWAAADABSlGynP08vGUoj06NGPIADS7wAEvQXzxdsoXjy966UTE/kwuAGReXV4h+YRMsj+\n",
              "1CTw29V1tzhe4Ll9QC3LehcfIWBh5tX01KN6mE4gpMybtyqXCvmg7gl4Tsp7lplPplrV/CaIJGPo\n",
              "j5qtQQWj23rny+u+crgv3o7uFJqv4ST3l/tSYuUIMHSYeXwrygb3Y8z4JofME45VXmPtTHIm8So4\n",
              "nfUbk3IjMBHE05zmDe22EMSQ6kvZbRF/6Fv6kzuOgkr8z/qXqb1pvfeC8z795dRy0Q3l985SSFmC\n",
              "z1/R89IW+6WDa0yAOkbuXdKapL5QxiwBr66hg9pbWZ4t3nObTfbujMkezDi+4hcds4Tsr7v5wE9B\n",
              "1XhhhQ0W4s9bCky/SpGPD9WZZ5TPWpUMlIpv/qVa0HyrLj/T4uVhSixS0x+Bz57vNLrriE2YMQFO\n",
              "Yi/gBJ7o1kXKrzLKrsNlPM0AL+lJ7yfwL2+zrXV6n9GFcdOTjC4x8TD2CclSY9laWF6kWFUAAAGY\n",
              "QZsHSeEPJlMCHf/+qZYAAAMAFS0N0WE2Tq1h301WNowDzpnUt9ZhEhg9AATimdkOLd2PjQxCXO4x\n",
              "2vSxRkHY9tAWde3dQ/EqJ6SUmpMybsTRDzf6gsbIeqlvfyERAC/+Z/i0+1KpurTXhUyvXc/dIWdR\n",
              "Y7uZ45bWMv6zrgz72g56OaZ2Fe7TnWagL4RvCfzUOh/az5xoLt0HRiEEoqfnbccvzIsgPSr2ez7n\n",
              "A/i/QNhHrhTbpk+T5qSsiTCTa9HO3WnksGHImC8hid6xMSFqRf8NSuOWC1026+o2OCNxBpyH7+h6\n",
              "YGgEV+BSKeCqM8i/F/36Ah+5w4dSgtpOScqf81GIR1f//ABzR2nzkzUnSZc3qyyqZP3WwATL3azF\n",
              "vqWR4iSCrXvdzay44iDha17sC7sYuBKiib3AAxWX7v57GGBwGzQVgbIuTrtig8K2OBIDrxKqaj/5\n",
              "m2knmtIP6BIN7QnESaELq8DDAkymsYfUoM/SoE5ghaOwBm2kVxauzXA/2+01C/F+K/WbHaNFejhC\n",
              "7giKGkqRytQxAAADLkGbK0nhDyZTAh3//qmWAAADABW94uWpZVWtp3Q9Ks4kr5Ih5j/xDr+TkcKK\n",
              "sLnv92Ad49z3lbLB/4Nx291EGMPAuvJddD60+lnYNtWuMtQr949r38DBvepkYWwf7wfBNUoNQqlQ\n",
              "GOM2++mpOfOvad4essoPAC6MPV0qLRKUgyNXjBuIi25JTp0q540sA6meKyUZwycbdtf6f2gGVR3G\n",
              "BLzrVO9H6r0nsGbih97rc2nkMNJrtfC4Mzt3LxZjEsuAge7kd2se1gk8OXqj6FwzOK+wqZclhEOJ\n",
              "GeMdw6bUojCjtoRSHdAcjTWukdnNw+ut3TRcs7O10iKj9rk8KzFtQCDcWEObclVZ0MQiekMrjtac\n",
              "otTXGj1/EGxOhpr5Qo8ZIQTWTy2vhQLICj5pkC+o4kjbBeCntGpQ7S8RtzH+iZ+O5omsuLMdfsDk\n",
              "efnBbHVhyxa31DIKyxtA09fgDDH6XQqD0bnvlStYs9JHiRbhzP8KAfOVSZndyvGgkOvSj/CWfUaR\n",
              "hrJi4xSmLmCfcvapB9O1rb7BnVHmB13QFUbgaCIgM8T05gbNG/xlpuAV7an9WMeCBlB2EwJpe2sn\n",
              "s2tnWROAuva12e3nv2brADoXCs3L9YK/rB/JaN86StwLhPGwXS//xPpP9tIO8mHmNzGH5ZcikGe1\n",
              "Dh8XlFsXdS9cmZ39BSzjz2DSXOgXj6T9sx4vqH7Q09MAM/m3c+pCP+TizCDFYR+VmbMc/hhBP0oT\n",
              "pNTxj3z4cW+wE31xEwNouigUxS/cVuo7gvXVrI2XzaDiwCJmuat2D2aOWqdJdk4J2qZeOgYVHhg8\n",
              "PxIj7WUcP1EpnJHtuYpkspuMjqstlYFls05tB0gwjzmECgK7rfWw0KS8g3NR35Tnrf8L2/Izegm1\n",
              "oT6MqXvsTORyKCB01KPHJphXtsXmgWVxcMo9yDjgWJ6WXEbLB1V9hBYP3exF4rzQAJLQYVEumCBk\n",
              "rtvinuueCZPQ+GsUFEFXabE/w2I5Z/1pONB0C0wrezreqq3tC8+3/XvKG2AKWUo2YTjyUigrdTGf\n",
              "FHLEvdbF+7s8Lywce41nF6Y8463d/UJ5ExHB0BAAAAG+QZ9JRRE8M/8AAAMAEdsj2L37AWS5SNHT\n",
              "RS8K5trY/IoAEBJoENoLx+74HceWZ4CT/wacQyiXqxtNfpOIwFptJVitTmAZ2ldLAJyl8ZXbmTDZ\n",
              "k8K8X0OW8rKYtNMKDdhlRMMDD6LaEf1UvcSfoliZk6D4vHTLk7Dm3/dZVU+kU01x1HyBUIaDCtcU\n",
              "V41rESqb8lKJv1ohlSTPpsPyAn+1Ke/mDgsyDJqI9sUVYcp0UcJho5f6B38UEnBMhXdnsJpiP5+n\n",
              "OZhXg6VXqudQc35qEATcqHrktbCN9dtOaDE0mZlM+rAaOVMTQ/n1GViwI6MUeKCLk9z3EcNlJRLJ\n",
              "d9EBWv5a4cz8sPFnu3xiV/+Zi49hCZts3iLYC6JC4Fq8ZMkFfp2TJHr+g1il4WOqfi4ohEaJvJ4n\n",
              "dqIf0Qv/6oZ6iYGiWFTIcKl6S6qUntNPtVJKhzTLFW0pGAeV7xDzg7FXdRqiNmL67e25FKSZ0ala\n",
              "VKFFasvNPpC4gh7YBWrRnCXV0S7wYQDWxUoHtpB+hPQufCmZuF10ry9zX1+jV2pU6wG1x2wVBoZZ\n",
              "DUSQ7iXdG34xYH7dKMYH3nwTnWfk2fAAAAC4AZ9odEK/AAADACG3hQPEL+KcgWcT3JvDr8+w3PnM\n",
              "lukYAFef9hEaCX+AISbzZFKRnxO2OC7YZfCF+wflB24Nn91V4LgSCyQxZVQBCVrN95kGi9qwX/ll\n",
              "NPrDLSGcY7iCocqK6/4h0GJeKWB8SMbUA3ORk5SN4TvI0YdzGcqGBzsN3aHS26Yt0lRB5gWVPJ6U\n",
              "ZbUMYaIylAZZS/N/Umy8cooHthUKHmRd07NsnJYR7VyMVrizGd87FwAAAMMBn2pqQr8AAAMAIbIA\n",
              "sS6b0Wv+7RxJRFABMXIjhx1KjK4EZHiYyxp6wf5POMEj/Mh/pdZfDFyYk89DwxgG403ZSeqFS7Wn\n",
              "+EflmxTSEAWCsHfVbBjBn/s527RqvhdgQIdkiqPruEDMvKmFiOznkffAdiYAA5kEEmwdLp51Abz8\n",
              "8Ef/aTLqWZfZCXwrzvpRBnH3v9eUvgBxpahUkv88eKM5P72JCEnPkcbTV120V9et0VpS+eYAIjs5\n",
              "qdZNyFSDpgfzvBAAAALKQZtuSahBaJlMCG///qeEAAADACo+0VgfVqQ2c/LmwGfEAZnQp9RCT+9t\n",
              "hbWzHONLQpxSyBZDd80l3C6pj+H4+KpCAnXxF+JWmo4ROyMcV0AR0cLjNEjNQRmgxSQdVlKtwde+\n",
              "kT2Y4QwA8gbQ6nC4nLAVC+F8ZK4fBaeiT/Klwi8TRKFw5uLf+7pFBSxtwRbNFyOwbLOorRYWiJge\n",
              "kKMeqHoyQxFebuT255Rj+X479Cg0JCOWHPtvjoCXlv1zcMbeyYPyIRp/XC4/6MHHLwfaBRIyKYKE\n",
              "e5YpSTuMcHU0sCDHh6YjP/kkHzFEjcI5uhccdhO9vPrXMCCUAvggz29hEmt/nvbXf1F/wmmi113c\n",
              "8iuKZR4GZJK4We8Syl++OEDqKVb0taUQp9ayMisFAd3z/xfOa9PmLVFAwMxukYVt12SlWoOUdDlp\n",
              "VeFtZGW6fLDAtJ3kn0jKpR1aPGkL9KSj3M70uJzKqVyPwOPN7qjAU8A9gpMdh4wMzgWqK24T5V3g\n",
              "yU6St7mzmKF6rk4+8CyRky+mriJ+gDgy1menyR1Cgv3B1dOdC1GoZisOBcjR1BB2PLDVEJHquH05\n",
              "4UOo+798omM6S+nSgzHLzbZP6CtHdN5e2pZjGJwgGYuxS1elsTctAAj+o8Mn0kezW319fNwlftLF\n",
              "hIK1jUD8qLckzTVVklOfLssPhb4Oi3JPDzs738lif++upu6QYrcV89cJfti/H3aywB+bE0StV5Rf\n",
              "Z2O0W+e2f/o0oxKwpwvEuwFITx2jgOtMSFxtB6Pzhhsa1vJ4pRwjsPbUOTRtFryQYc12K0QtdlRi\n",
              "xUv0fZi0Px5a5ZKcbfjWyJi1IyA9jXLVNmZiAmRhUl09PI3+67Rya6Vk3g0GGxsFWK5lwgPOnMj3\n",
              "2EmETl1csmXm+E0aB4mnXTR5BasmHUCN7hsN6bg7S/XnHKCQVhplSkFgrOiAAAABT0GfjEURLC//\n",
              "AAADABdGEwtXNd8my+ExKxzWAEwYJptGjml04GEJFyAwqirIcDxQ9O+jhIAA8aD/axmfSKIbu3bo\n",
              "9oEkobbXqLzEYzJ5BUAqTqHLLLm0XyaIGlRN0S6s6Q43IytZEIowMTUkTAtDoodw8xhqM8rBE2nt\n",
              "cWFLZGG/cFLQkFhVvwcuXlUSo9YQ5p4tarz6o7FjGx9JByyQMZtpz3WqBqd1528QI1hUZsX1Q6E3\n",
              "JvEEHz3BvonuiYop6/XFKGfiY1zA5e9L7r8yJRqjPYGApiFuEOHedxOxj/MxTTTEkE+U+aEXmkkV\n",
              "W8o0Y6AzEC959KMB/PehlOdaWqt/ZZ9syq9WbHJ0VBm47vH8RBsKGTAVwvJTC/wV0uWiiksI/4bT\n",
              "Tsk33v4pCetwQa+03IrxlMid7u9yx6CAe24b4b3RGcIcNS+l0k3XkbaBAAAAyAGfrWpCvwAAAwAh\n",
              "uxHRnxW4ORO+79MRIRPjnW1IJb0AJpnElo6i/qx1dJWVP4OwEFQ/THZwJl3XzjdC6v2KUzOOTTdz\n",
              "IeKee6Tt2aZbOxq8KkVYTR4njwcf20ABgPaEjFSERlh5pCc8Qxf/6dmx6aB4JLl8IOmiwjOnfi1F\n",
              "WQba6683cTO5imiwbNhbFi9NJ2RmgzzgG2KdLt0CadvnCy3EQ/Az9O/qUbux/DMdjiPSbnB3pZYb\n",
              "DJBeHgOeEsp+qDCZJfrD/nbvAAABVkGbr0moQWyZTAhv//6nhAAAAwAPLpuKLgC80ZR8y1gzUnXF\n",
              "YutSbIjj/RVtWXbY19qqmDxYdO/HuDw7wWBOk8l4pVyjSkwEgmLyUS8HUpugLHkvQ4j8tvsyJ4Ox\n",
              "vxZhJlUimEMd0WvJlQmz/QbjnpMqSc1wElquHgcK4WPnHKDZT99JGrv7memoeDLiaB9tmAqDvfV+\n",
              "GztudyKM6tPxtR6Mxywb6RiiUj2rQOUa0sTzxYxSOa8/6rOLV6V0E8oCdAyQclfbkylFSEXNrnzN\n",
              "SaVsMuWryvcZBZelfSTa7IHH7LWqfL/+9Uxe18sqOADYnpYu/EViUsDpsSikBb0ce0hTj1YZLFzN\n",
              "IS0jZ3rLwJ+Hg3rdk6pMqYTlccSq7A1TzswQDGyUx1r3+pd8kHdrcxo3pS6lifM6+KnpkuysGWlY\n",
              "K4hv3QsgsoR5+biSDcayc0+bSGrEgQAAAV9Bm9BJ4QpSZTAhv/6nhAAAAwAPLpimuAA3q1kXP6Eu\n",
              "Ob16Sulp/xXg8/StNleLcfTvrgMXkBjl4kgLxylhZExQAcqbeWwQFhTVmgB9whm0WvHC+NrtGZC7\n",
              "AgWqr5vEvNmsqewS6vsV42N7JLRouNuMx5W7giEBF3eNwE+VGnRuBUvVj5RW25L+O1oA4hipk7CV\n",
              "iYKjgXCmuTfkv5s1pGVTv6NzLRLeyroTSQxphMg0GS5Kg7vwVq0CyxX4fba+W5ZnubZuBX14S+4S\n",
              "RUZkHIsZbhECfOL+06orWUm/MMfZweKfKJ23KGmPj5KQvEkLWBH//bX1oPPkwknQownfm/zm2tzw\n",
              "baHtLyhcki7JNAycU+LJZLshe54J1lkRHFJiOLXNpM4qUGAv/zWn5wCr4UpovQS8UhinP6DPD3Zh\n",
              "TnLcaw5PKZTfpaDPa3pndD9jWNMyYlnu8mMXspW0zLUE5ggAAAGPQZvxSeEOiZTAhv/+p4QAAAMA\n",
              "KRzLtQ9JqH0vADiQu1n7f8ePcdFcdw1ccaEsc+wGZdz99HcSzOZpr7hCCgUGzvW+ASy0nN7zqa85\n",
              "X71RX0kLyBHHJ8MthBM9EnsnqtODYB4YNqOxl50vePAf9X5ZyzcOStn1gALHC8v4E8SpQsug+BtD\n",
              "XZiM/NkOkbr4L2SQb5J3dAVSEAsysqDwwCoVmw/c2gz4w54w/jlVIHdWavbl68efFEbKnNdO/PBa\n",
              "wPcoq+S0kYs5x2IjL0t87yuJHs+kqkSLrC49UkL3GZshwA8vKkNk7Oh88P/45I8GIRTLoaEg1OVv\n",
              "ANcJ8/XiiEEWWJXsA4ctKG/2afvRrnZEOwsETp6mEFdOZwWuFMcAV/QSSegeoDrt3bqyzP/ay224\n",
              "sQRudz94mQMRQu1WxH7QCarmISpIl7y32l0hMjwqmfLN6AYze/9Mr1A9q2tf6cLlY7m9atTgqdrp\n",
              "Kcx5iMTfYe4ih5ScgV7wCjOBlsAOUL9I89z2erHa0JUuvLnN+LqIAAABgEGaEknhDyZTAh3//qmW\n",
              "AAADAAejFxN8ABUx3I3Vp5Ts9WIV2SDJjpIwMt0XAL9EfTV+eyz3IEKQy0L5+nTCNtpwLgn5JemQ\n",
              "+a53FhzYEnXk1NTmpI3mNnOseoKNLY1gCtOQoYyTXcBcm/E9Pqh7MT43YtwAzKvRkaoGl4o/s7hQ\n",
              "J/1blSTTgRxNt3ElKnDtshpq4OOnK39hDAjMTx782QK7hcZ3+PTmY81TZl5GBhEVo/Qs4MeenXOf\n",
              "k3Xlpv6DjmcHxUg3dKej6jWruO9la+nSOczdk8cy4v6MnlSRtWX8NoEOSc5JEp5jwtS40OD6ZnPH\n",
              "2XfWYGnYM2vjivfpC2Gb6Fo1R91XYzrGjz3G18MCG58oWDzrrOoifxaaldyn4v5jPzSHZnN3d3oe\n",
              "0kCNLPQtZ5tfclpXM1/T6XrvNjluOxAN3OZueNWJ6sUzon+qe6sBpkQjwrIei1d0XlfQnyuewfYX\n",
              "TGKDibPftmktgafvWjEcH3yBfij92fVtDmLhXQAAAehBmjRJ4Q8mUwURPDv//qmWAAADABVPcfHq\n",
              "9/PmTKATdrmN0JpU4kNE/XUvmEIQicRMU1ZU2UWIs0kUOuwtUout3otcHZzrMbFXpzqpzMbzziX5\n",
              "Aye5e4t+SEWr0ElJSHKjno4XsbLfIlv3JZvs0quKFjklJcc0WeiYfq9tqiL0RQBrTNklrZjSX6i4\n",
              "afF1Idjb+aTBY8TV6OOi/+PIT321vuR1KjFKGqDbRMYHxUmVSd2Sf7Ve7Hq2kI/83VsB3x2v6K2g\n",
              "dicGwpIE5Evvf5J6pq2swze9ohPz5eTu5HKH3diLHb3kauhDNKlnu/s0bUn9pALTM62ndzW2yDN6\n",
              "adJLVkvAA7lMVhGmYaFgkPYD6gEAJpsNhVFs1sWF3faqv3EPhLvPOuzlUYUesN210iHTsc8W6nA5\n",
              "MNal5eD39zeyOzr6IkED6QAmxeHRaGkqNTGCSS7YigxzshgY/NYW6dCI4qnz0o5d9OaOh9evvt4H\n",
              "Cxzq+rzbz6zWHMmkPr7LxOnHqzAuNZtCtS8/g1XhNY8ziLcRnmeJB0ZczOcKnswpODTrWArA97NS\n",
              "ozdCzMWLKxFU97FsQKw1meOgsaw3bWdhfEcdhfdl7daa/bOrV+Ldr/rPnsXCIWJojRRyMOWk7ZJh\n",
              "DAsLd2FUwAAAAIMBnlNqQr8AAAMAIsGTM2fZSuF1RkkCIcIVmOyfyIGl1WmXygS/HXfftW3MpUBZ\n",
              "8L1fJaZinpa7AvC4tjSao0AJYRLL2E27U6mLubh0AK4GvYWMtLBjz9i8uHteWTAnUXo8gG2GKoYZ\n",
              "q4NWLqg7hxOYP2NYFoTPLY+Dbz2+xZIFRoGz4AAAAfNBmldJ4Q8mUwId//6plgAAAwAHn3W0ocHA\n",
              "AV8b41eVT/UtDHw6aDUhzgcoqdelPG600vAhJHhhovMmrkzDonBQFe6Mum1HbO7BvoXxV55E0VxC\n",
              "/5VPTcpUHiryLscEt4vbIdFXYkWbzgo9Vtr6ZurAwa+TZe+pRCX8NNqz3ZH1Kylun1rYYNxjMq4G\n",
              "XXuTKeeTkrQq1Zl51eO3gRXlFHV/Cssqu/rdXYPZOWs0OFoDhMOimSGDWQE0/osdU84T5i2kbth9\n",
              "SrT1+jX5jI3pUHcyefHGlRTPQIUJvhGD21tTdgAGNT1d0Z/7c9+rdbkRPsV1DVBZYrs0VqVbPYt3\n",
              "5iphlM8Rf2La0si632qeOfHCoAc2JgjMFwXZtHNZ+Bzfktb0uwvjf6qdZzrWjjZ4DqzG+ikIsfNh\n",
              "Ptxh5sY8FCgJpSlWl9+UglBvQkPbA+g+Rgi1e22yaWALIyVG5RHIM6GlEyX2tQJIStA0+VsQ2tD2\n",
              "heO6lHO1ycWZDEyvHsCfkL/L0IUf3PB1Yy7UlpddlHkCTwOGU0TfIxsM4QLAfgAoopW9gKv9Z9Tq\n",
              "o4D/P9ATI3GR1ig/Fnb0W+dv1hXz+N5yY4J5hZt0meKP2lPWoQp1uyPNMyhuDBi/pjUPwHqF0AXW\n",
              "gYwD2vJOBrwiHs8abjO1d1CBAAAAoEGedUURPC//AAADABnHF8X8cVLFHp6gzhsvxRxQ+L55veWU\n",
              "/gDEVACEFHNAAgeuf+0JgwKBgCY8p4W3JJL6UGOqyumIk8fDCISFv7fOfKdOp9L9+FAAtVTflh/z\n",
              "2k9rT7jG9dOcjNaYpJYj8BmZFzLV9+dWM90ygPtzi+ve5tyzNwuOWNdIK/nAxQXwF6HJEgwWQSHb\n",
              "qRM6jEH42CKOSu4AAAB+AZ6WakK/AAADACK6/A9QTQAF5GikHSdSAAugAAsw7Gnsp2DYXpbfa75k\n",
              "ijrcUW2QsIYuui8Bt3QoZDPk+N5rO4riErO9J1X6/NJRwC/Ocg+Wg9SUGYZi8xg9o1IKa2twG46m\n",
              "ChEWtin1pyddZGx5dQOjhEx8ktqeXii4pWVBAAACBkGam0moQWiZTAhv//6nhAAAAwAPMLq0NABu\n",
              "eWTMTCl6pOcIdAaBMUdOooZ0m35BeucYuBMXKk2GKK2gNzJIHjwXr/sNw7qJ4RFoU5DXYK/OE2AR\n",
              "GMb8ibKeWmqRoLHnIwCyRgFoFqobahUBzIzPAXpD08FMuHZ4vb8GWBf7pp89PfJ8WgEztYSDlui5\n",
              "305zYgfLnKCpF2kzgpffINsBPk/g2Lj+yL13HkLDVEzWqkxkuLpldd/SFXRTIVeO9v/+FrIq8exz\n",
              "jmad27pChygp7HMle9IN9gCPNBryEdvmk3s0kdfwuzP2H1VReuldCkZVHKtX28RQK4PzQs4n1WAx\n",
              "ZGYk9/s+GLUDACdz99TFRfYdINtbLW+a0LUtVfMAHDEbR7M5iWDJ0n72kRwOv5DcxDLDVnevx0l4\n",
              "XtUtQ0Y24GrzKYR0tEDPM3dTPWUc2ZFpcz6GcIsIbvQbsBmQ833wUIf5yHWR65teU8gpUqd434DV\n",
              "LQyQ7N12Oz6zxlGilk48E7L2g0uezRPEdgO3p1Sn6fMXvztAstg7IY0G4SQPwz4+gKvvKyCC/DrY\n",
              "9KZXfvtWNzSU6HIJ7gdshyzOVIgHdplbwHxruidMd0MY3IIWyWn/lpecxUytLkbMR35ujUhFLIGP\n",
              "7IElaWWZim2ipnKzckjqpojJC3hFI3p5thznHpN/qrAjh+WlAAAArkGeuUURLDP/AAADABLdd2KU\n",
              "ZADZicQ9FsqNV2S1OgRuPAAQ9I3N2QsAOLsTD/kOMv96IvyOSleN4F7wRerG7YJ9akYNxewnhM1V\n",
              "+ViZ6DLlrf67MaZ67vlCqoaUx+r3A3Jqbc4RwTYGikRQS+iMGEECd/nEwXBXan+nhOrsjE98y0aJ\n",
              "bbsBCxsY47ul/XYrWe2QY/noGXQeCqmdx7wjCwdYCwNH/EfQckjAzFTTgAAAAG0Bnth0Qr8AAAMA\n",
              "Iq6GOQhRzf9I19nATSaHdyAErlhDwcLG0x7kFC9AL/f0zQk9HSnZD8ViGq3PsOEdOfpvlZM5IZU/\n",
              "v3thLQN2jLQYgj+BFFxrle+K2eTJ1MOQOCwXdBAGnVTKxvfv7GZu196BAAAAiAGe2mpCvwAAAwAi\n",
              "uv67UAoFDCG/lI1T6aeHgyiDNGcaF2poGMAMw9PIXF1+H/lKLq/SHeYqXpuEwYeR1hYj3nS4XLTp\n",
              "pBv0jXkSnr5j1b14tvgBV6xS01+WrElXyxo5UTgWm3Zz58SOW0U6eO4TszhmjtLCN5VL4gDSG8n0\n",
              "S4Z9I79NgdEC4eAAAAE0QZrcSahBbJlMCG///qeEAAADAA8uryGgA30CkMuutvTX++qDBudtxPJw\n",
              "0lx/WZjy7X27GGOjiYGgYREA5bvwTriaGc3BJKFQjVGaf1M7/vhpPEKzZ6Q5jC+BMIn9NYDe3Nwe\n",
              "azpLA8GKvTu2fDiWfSC7zYIVolpxyFaR+BM75KSFkj6M7B5zK48wSEJSdN4NreQ2CIlWzBOLL/V2\n",
              "y/2P3w/gVBUFyvVwPQ0TryesCpx4u0r/tAd+wtmAFCa95OofaRu4YQSumf/DL6dXLc12YmeccaNL\n",
              "2xzsPSyiVAb/q/Qt+G3O9ZsSR56p2Jv3NjQL1hUhbjCeA4MjdpiBdVO5yZNTCmDTnjWFcsTkrQvD\n",
              "hQHL/24b7rLoZUkoF2xlCQYAg0BDDwNmiTJGj7tovf1QSxOgr8EAAAGSQZr+SeEKUmUwUVLDf/6n\n",
              "hAAAAwAPLqKbpAGzyMYHP+tAXZoWbysn6zHGU6K5pHNoeWsQ+pUvdOcVjM4cGF27wPI5FsYIa4Xb\n",
              "7xBJc+Ao/xNQ+ylrp+hs9l2/7WBfYyWVi25vlHjHNtsdpcaydPfxfymEYje5pLj1uBfgsPfep3v3\n",
              "/d1CWS7YQtBggG/TbAxpudaiAqLqfPROCbT1/dHa2NDsqjQIVnIAMdK7Q7wu7HimF+Io+5Frj2W0\n",
              "TflpBrPPHbArzs95jTsJxQXtxBQLNNwW6WjBJMEy3LK8LWiuEYZc0ONtaQdcbEa5QNl8O1ClMRDs\n",
              "KL+iwfBM1DVU7GL60IiC/yh1vnBiH4hyQRlUxUH4oU3+K5pFzv7X/gf/ULDOXWH/IbrphUlNN4IV\n",
              "Y6zCc6bpSTrbYD+QFS8mkq4fTpCZOVRmKKAh1cu/c4KgSPw3BOXaEzGCi+c+wbaVyefHkJpaBOeG\n",
              "NWIHRoxJ3pt8NzuZtgfW/3KT54EtOf0uG9qSP5gWiiSqJNcPf95pzhfvkXXTAAAAjgGfHWpCvwAA\n",
              "AwAMPlcbG+1gMzswHElh3emk928SOFhZjKyhk22X6ffgAC6AAABi0MrNgynmeN2tMiQyMaLGNlkk\n",
              "cTIikZu/XQ+MwH1X1JV+sHgJyE57ztAnlHGjp+gWkg06zvCq+a61KuCHSkqUUwpy9CgV8bWpuaDU\n",
              "XU7qtSbXr3LfXLGyTfYyGY2iIVsAAAFLQZsfSeEOiZTAh3/+qZYAAAMAB6MCQcABGM/coPbUjENQ\n",
              "Xc9PH/KWz88bjFSw0g2JJFCPudKzRjcXm9IOLmKRyvqsdPKE2DKvCCpOOPmbex8D280TWQPBqAGO\n",
              "67w9Fv9NPLUpbOMQys5dup7gkvZc0lvv9WdYobDIyXV+TZr+G6sdZJ8vKjoYa4En7DOmI2rj7Mai\n",
              "HFePpvOADeeSmUperIxlcK8vIOymUYqjjFUM80kYN3dOgP+Pki5SXb76K9vgdNpHACjmghM3e61o\n",
              "UF1uINqVSym0WaSgKXoHMhs23zPBF+EdEBXEs8A/5QngjPyj9GITdOvk/a4jLYWabNor0MfMsob3\n",
              "5wjEMMSSw6ifZGuUVPokEeK658YXcrGSIqz/tVkeyLrEwSCBwUEm2SAnG8UHCuEpZEghcjpXrdAU\n",
              "jgYhBHuWCKwbkm3XQAAAAlVBmyJJ4Q8mUwIb//6nhAAAAwAPLq8hoAIV3ybsrEzYlHd/0+xLiFWD\n",
              "GeCIQvv+0+glp6Lf9AaVQ8+QZfoufXtl1lGUVPMBt1OfCCI7zEk3pmALC0w5B2/a3Dk9dwtSfOEX\n",
              "U7wwVyJUb2oXIBmjM5+TpHDwBiKJMAuJHQoaG/1LDdNBfc++ChDRJYlkPmXkYY+qzjK7SAvTqz2r\n",
              "CwBls1nktUU7rnb6mCd1fR/2O/cNdBTTMW0dO5l1UHLwOMw3soiwiAo0xw6Dy1d9uu/x2y3cqoiX\n",
              "JPWKv5p+xFVo+aDGDdAvqov1ihuO1UtCfsZWdZTXGtk62f5/9YRVbyvfeBoMxVWAkRtgqe9tbe51\n",
              "3GaPebryU6Zx99wy38nKaqqIFsGM0/tNMtbZlo2CiMTymuwezbKeqUtyLGWs63Kt2Wnq8vhLQp9h\n",
              "0OFBgyBsxX536hADfuOiAE3JCoMkOd+uWcAN6tsBYRx5moegZLdIsVHMY+nM6idH6/K6VZUH7sy4\n",
              "OuYI851cflbVYto7FPEeEu4ixQGgd0unFVaUzXWUFjlM+u/cJMD5Wi2qW19XInn/fzDxBFOEkg2f\n",
              "jYVsKaHCQHNg2EwW5RN4pCl37BXjRZU/OPnrPrDirxDH/qIyVI2kGZ5bho7tlzfJ6ib13nku1rrI\n",
              "uYSLuqJ29oHKrTaXLUNphgd6L6C4wfEnVVgepmvwlgKMM5yTbTMxfTOoylC7QZgATgYRtecyTU63\n",
              "VDArBKTs2IZjV+ka/hIO/kHTjdlBNBK4XMtFVgHZYWnqChvjB9O4RuYX8dEAAADPQZ9ARRE8L/8A\n",
              "AAMACM9v7VMklCavJYWYOHpUCnw1F2yq8bJoAwR2Tgq5gArikm8OPBE4kkaQvvl4+6nOaDb1fBLD\n",
              "9cncsIQ7jLoVYUhf5ceX+nfPVXeK45lrWQL2RslNKWW78KH/WXev4yCRf8S0JVUwamR6AUtc3FCj\n",
              "4DIYByhK4uJkYzsq5FqWgUoEJCxXkQaV/pFe3BabOKLQteD/cqEYYJ8LIeyuyZ0Qd31Rj1iLhseU\n",
              "LPBDgnl9/CJfj9VTTqbsp68LRPbPzdVhTU7AAAAAogGfYWpCvwAAAwAhuv7f+742jyEjPNdWmyEc\n",
              "hRUzsALe22ibGzGYKBO846SEZzXE18k+Ip1bZnhnCU9+420whfxBy1l5bk/mboM0iFF0BnYjLNPg\n",
              "d3LdAFybCGxg+2yB+CRL20LHDQUf0nUGzd5xDzZWklmsm/gUma2GJ3WKi4xvhMI9QSLzseKj1S4E\n",
              "OFVZ/fQtaJShFWKYIi1n/FHGAYEbFwAAAUNBm2NJqEFomUwIb//+p4QAAAMAKRzLtQ5eJcjqDSnA\n",
              "AlZm/TzvsJ/E8sFwcb3glFzh5k1AbrY7aOg7w2WhaI3vjSqKxkd5U2yT2Lw9zgTMs1hm3gYmG55d\n",
              "0cAHIUfIn2TdE3m5BPD5rjxn05CQmc7bkBXlEkstjNLceez2e280+K1xRxGXLRxNXWmA3BXDOnoR\n",
              "qDB5njGdU4F4xQVpDWOYwXXUO7zeCoXGuYTsqQDA5DYeeeZc/Q9sfHGCzf7AbMl2RPgymUncLub1\n",
              "orFFMQJZYVa1nmep2f2MwJpNgBFeerk37RMBuv1dq1jtSoIvGbmDJcv//vaZiv3ytgAieooEhkXz\n",
              "u1FK4PHODa3C7oCT7xunPh2SDAlfofJylcDVd7px3Y+4zyRCzokJB2ju0NqfqLPX3dcWICZPz3ly\n",
              "0uej1l9doAAAAuJBm4dJ4QpSZTAhX/44QAAAAwDoBuGaLUdCX5tuj/aoAJzla+eqy56teI3Z/fPa\n",
              "cxpWohwu+nJHWdHO9yRJBBBtFDMnwJxBg9rxgwu4Zf1+n748bSVJVu+aIqKmJoH6stS65Xc3oY6K\n",
              "n0nDJ/Rbq0S4sxZHaeiucypnXVTYrPb/rwqOocTc/LnpaazuvRvLDor7ISoE3dl0NF6/ie0rSWvI\n",
              "5+/ewTiJ9u0wKDr7me+CF4QOvehTVMQDvysKWK370ov59PSvJRro9XHe1fGPXdLLjNVTGTezhUoV\n",
              "bnBJdimJhcN7fSnGsNGtJbawpuu9/wdw1nD7hdsjFgiaZqD28YqBimH3i61Sv0c7GwkqpAkNMYhf\n",
              "+wfRnjf2HLBSf8TEPgAadimOyA07KfdXkhAer6lvSgGSng7kl6PzZmXNYbzkclCI4PWqxyTxcM+x\n",
              "OmDDWeOZsUTbRzu86zQgdUnJwY3iG/b0zTF0e6rmhk7kxDX0QzHCSGa58ZWtu2lNAsHtEUC3JcQ5\n",
              "4Jxodtyo87ze8COhzCzd37qMmV2oSGLPdh0pcXRz/8ckij28PzWZ3H4DTx5oH9udMokpmXtPRBY4\n",
              "Coqj36qhP3Ixt2G+F9gWlFIsaCosNFtXuhJF9WEraez4Ibrtf9IUdDF7tlARFa7IS/hr7uo0aRwl\n",
              "ZwFIKhOxtpTZElDavjwW6PVyyemFuh3t1Stx9B+/8QDQT3RhmJ86tEuU+Vf3OBOkSmsn22D6hzTW\n",
              "TdweTz4b0KCMotRbXi+HF33xqPM6h9IsCKcv65zU+lcPbSn/jBYZtIEBGdWXDMrMqHTWpu7JH68R\n",
              "EtbdXoK/cw3G4xWCFXFYCTigxE3UPOXa2zHXFedfZTvQuZQGaTVgwoREysG/H+4vzLAkypDT2h1/\n",
              "us1s07qVZoyDTM3eVUfqQRxgq1M4ORk6icJdIP+1PNBWenmLK864xmJzZH0lBsRaX2tMqyPyq4VP\n",
              "uxJKhO05100AAAInQZ+lRTRMM/8AAAMAElyChmTQX5JYg1mqCOw0VkZqPEAAmNs4tqlXOEQDrfV4\n",
              "81+wFKX1slQGw+kR1TJj3H+REu2APDkIwvR4HgjAkpB4xK0oX238u8X5UhwlNlYt9fWQEvY/WS6p\n",
              "TnYeF3SieqBYtz0g7oytjYs2ZiZJ6lsrMSydb7/pBoEkwFUDpqVk1B6eMsaa6V/g/BHsRU81Bl63\n",
              "903i/UX7mR+PF+CD+VqMhmjUSHxAXAC47vnFc1O/6zwqorZvjjFKqn42mxA3MnOHpON2kJXweIf5\n",
              "Bqil/PkMkC3y3426Jy6sESVAcsuruOmBvlFaLtPk6vlwqyrI/HR/MV1Bdowv2Ka3CQc75G8vdeB1\n",
              "UdwmBGEZI1+0gaY+BnEtR0Uud3QzuggL1g+LstR2W4jg7QmKGXqVi48VFaSH5cSp791cSvBCvWyl\n",
              "OJdG4zRLLgSKJan+zlvnP2mjC7yiZslO8EPRnWwVves1cRv7nG5YNxBkQ/yPMSV/o5sSEfwjIcX8\n",
              "3xFrb2cq7ZkDDmUjwfZAlWZkVOpPY5qFayBdUW+QRrYJ+eZWGj1xXSudhaA7iDcBPWfRbkdreift\n",
              "0vB0J5vaOzjsc1xhxOQ1LHCsik2I+Z2LIWlKpHmeWFMQlf/BJLG3icXstkFLtdaky6hdV0kRIKqx\n",
              "l1mBEs8Agcp2W33PUt5/ce0/ObYwsjMSumIM1w4VVzcWgBIbwT15H7AFBdDq71YiEDEAAADvAZ/E\n",
              "dEK/AAADACGuhjluUqoL/VDwAmkxik0ur7BGo9vKoHYUibZgYxvBu53xKfYinhL24c/p1QOFOdUm\n",
              "F6JHguHPLpIszbCcBpMYZofaULFT5+lqFGKA8QmweExusDav+Gi38/r8cbQGVaU6oi+4Gl/11BSl\n",
              "U4AUfLmv3PyRUBZKx3DCgNlo3WeQsJ6zk7AhPx9UyL8pVyYmMie2trbngmqgs2EsS5JimudNe0dH\n",
              "gIfkkQFvgWLyom9fLKfbAGBwyGE1j0QDcjqp9+8iChQeh71q/JGYoSMY6tYJyCQWhKxRy7PCLBuU\n",
              "d/vw1YUjUXEAAADPAZ/GakK/AAADACG6+78Q02J5xhltWR5UAH8ywzy4fzyd5nOsNyHRtUAgSstZ\n",
              "njbhMj5HUYYX3fsGKC+7AADAkcl3jLJbmVcqr7zLZ+PUcu6Ys/LSNkHB0IbmuoefZ6UyXEZKr2U/\n",
              "jM7QfpLV+1IfIF/cQ5T1yaznW8pHzo63U7eMveM+MDY73ZIGDr2JRBKIItBNtaManFhr2HA5I2fv\n",
              "Hqvw0Z/EAYdc/5gUTI5DctTPPC1CCJNR9iwvJBxYpOIZwoPJAHS3K2Qf6HXpSlUxAAAKum1vb3YA\n",
              "AABsbXZoZAAAAAAAAAAAAAAAAAAAA+gAACcQAAEAAAEAAAAAAAAAAAAAAAABAAAAAAAAAAAAAAAA\n",
              "AAAAAQAAAAAAAAAAAAAAAAAAQAAAAAAAAAAAAAAAAAAAAAAAAAAAAAAAAAAAAAAAAAIAAAnkdHJh\n",
              "awAAAFx0a2hkAAAAAwAAAAAAAAAAAAAAAQAAAAAAACcQAAAAAAAAAAAAAAAAAAAAAAABAAAAAAAA\n",
              "AAAAAAAAAAAAAQAAAAAAAAAAAAAAAAAAQAAAAAKAAAAB4AAAAAAAJGVkdHMAAAAcZWxzdAAAAAAA\n",
              "AAABAAAnEAAABAAAAQAAAAAJXG1kaWEAAAAgbWRoZAAAAAAAAAAAAAAAAAAAKAAAAZAAVcQAAAAA\n",
              "AC1oZGxyAAAAAAAAAAB2aWRlAAAAAAAAAAAAAAAAVmlkZW9IYW5kbGVyAAAACQdtaW5mAAAAFHZt\n",
              "aGQAAAABAAAAAAAAAAAAAAAkZGluZgAAABxkcmVmAAAAAAAAAAEAAAAMdXJsIAAAAAEAAAjHc3Ri\n",
              "bAAAALdzdHNkAAAAAAAAAAEAAACnYXZjMQAAAAAAAAABAAAAAAAAAAAAAAAAAAAAAAKAAeAASAAA\n",
              "AEgAAAAAAAAAAQAAAAAAAAAAAAAAAAAAAAAAAAAAAAAAAAAAAAAAAAAAABj//wAAADVhdmNDAWQA\n",
              "Hv/hABhnZAAerNlAoD2hAAADAAEAAAMAKA8WLZYBAAZo6+PLIsD9+PgAAAAAHHV1aWRraEDyXyRP\n",
              "xbo5pRvPAyPzAAAAAAAAABhzdHRzAAAAAAAAAAEAAADIAAACAAAAABRzdHNzAAAAAAAAAAEAAAAB\n",
              "AAAEeGN0dHMAAAAAAAAAjQAAAAEAAAQAAAAAAQAACgAAAAABAAAEAAAAAAEAAAAAAAAAAQAAAgAA\n",
              "AAABAAAGAAAAAAEAAAIAAAAAAQAABgAAAAABAAACAAAAAAEAAAQAAAAAAQAABgAAAAABAAACAAAA\n",
              "AAEAAAQAAAAAAQAABgAAAAABAAACAAAAAAcAAAQAAAAAAQAACgAAAAABAAAEAAAAAAEAAAAAAAAA\n",
              "AQAAAgAAAAABAAAGAAAAAAEAAAIAAAAAAQAABgAAAAABAAACAAAAAAEAAAQAAAAAAQAACAAAAAAC\n",
              "AAACAAAAAAEAAAQAAAAAAQAACAAAAAACAAACAAAAAAEAAAgAAAAAAgAAAgAAAAAGAAAEAAAAAAEA\n",
              "AAYAAAAAAQAAAgAAAAADAAAEAAAAAAEAAAYAAAAAAQAAAgAAAAAGAAAEAAAAAAEAAAoAAAAAAQAA\n",
              "BAAAAAABAAAAAAAAAAEAAAIAAAAAAQAACAAAAAACAAACAAAAAAEAAAYAAAAAAQAAAgAAAAABAAAG\n",
              "AAAAAAEAAAIAAAAAAgAABAAAAAABAAAIAAAAAAIAAAIAAAAAAQAACAAAAAACAAACAAAAAAEAAAYA\n",
              "AAAAAQAAAgAAAAABAAAGAAAAAAEAAAIAAAAAAQAABgAAAAABAAACAAAAAAEAAAYAAAAAAQAAAgAA\n",
              "AAABAAAEAAAAAAEAAAoAAAAAAQAABAAAAAABAAAAAAAAAAEAAAIAAAAACgAABAAAAAABAAAKAAAA\n",
              "AAEAAAQAAAAAAQAAAAAAAAABAAACAAAAAAMAAAQAAAAAAQAACgAAAAABAAAEAAAAAAEAAAAAAAAA\n",
              "AQAAAgAAAAABAAAGAAAAAAEAAAIAAAAABQAABAAAAAABAAAGAAAAAAEAAAIAAAAAAQAACgAAAAAB\n",
              "AAAEAAAAAAEAAAAAAAAAAQAAAgAAAAACAAAEAAAAAAEAAAYAAAAAAQAAAgAAAAABAAAGAAAAAAEA\n",
              "AAIAAAAAAQAABAAAAAABAAAGAAAAAAEAAAIAAAAAAwAABAAAAAABAAAGAAAAAAEAAAIAAAAAAQAA\n",
              "BAAAAAABAAAIAAAAAAIAAAIAAAAAAQAABgAAAAABAAACAAAAAAEAAAgAAAAAAgAAAgAAAAAFAAAE\n",
              "AAAAAAEAAAoAAAAAAQAABAAAAAABAAAAAAAAAAEAAAIAAAAAAQAACAAAAAACAAACAAAAAAMAAAQA\n",
              "AAAAAQAABgAAAAABAAACAAAAAAIAAAQAAAAAAQAACgAAAAABAAAEAAAAAAEAAAAAAAAAAQAAAgAA\n",
              "AAABAAAIAAAAAAIAAAIAAAAABAAABAAAAAABAAAGAAAAAAEAAAIAAAAAAQAACAAAAAACAAACAAAA\n",
              "AAEAAAoAAAAAAQAABAAAAAABAAAAAAAAAAEAAAIAAAAAAQAABAAAAAABAAAGAAAAAAEAAAIAAAAA\n",
              "AQAABAAAAAABAAAIAAAAAAIAAAIAAAAAAQAABAAAAAABAAAKAAAAAAEAAAQAAAAAAQAAAAAAAAAB\n",
              "AAACAAAAABxzdHNjAAAAAAAAAAEAAAABAAAAyAAAAAEAAAM0c3RzegAAAAAAAAAAAAAAyAAAEKgA\n",
              "AAH/AAAAlgAAAEcAAACoAAACTwAAANkAAAF1AAAAmgAAAP8AAAJZAAAAwgAAAZcAAAHaAAAAiwAA\n",
              "ARIAAAFXAAABaQAAAY4AAAFKAAABdgAAATkAAALZAAABrQAAAKgAAAD5AAABlwAAAMgAAAIEAAAA\n",
              "2AAAAW4AAAHpAAABBQAAAKQAAAGAAAAC+AAAAVAAAACmAAAC2gAAARsAAAC6AAABkwAAAckAAAGW\n",
              "AAABpgAAAYUAAAGdAAACgwAAAMkAAAHuAAABvAAAAZsAAAIoAAAAswAAAXoAAAGCAAABkgAAAZcA\n",
              "AAFrAAABVwAAAYQAAACuAAAAiwAAAFsAAAFDAAAAqQAAAJ0AAAF4AAAAmAAAAcoAAACeAAABUgAA\n",
              "AVYAAAMKAAABLQAAALsAAAMYAAABBQAAALwAAALBAAAAnAAAAsMAAACjAAACXAAAALAAAAHBAAAA\n",
              "wwAAAWQAAAJSAAABlgAAAKQAAADLAAABeAAAAXUAAAFrAAABTgAAATwAAAESAAABUQAAAU0AAAEp\n",
              "AAABlQAAAtUAAAGbAAAA8wAAAMAAAAFmAAABlgAAAcoAAAPXAAABngAAAL0AAACSAAACagAAAKYA\n",
              "AAG0AAABcAAAAXwAAAFeAAABLwAAAXYAAABWAAABBQAAAH8AAABMAAAARgAAANEAAAElAAABKAAA\n",
              "AHEAAAGWAAAAmQAAAS8AAAHdAAAAqAAAAXUAAAF/AAABRAAAAg0AAADJAAABawAAAkYAAAENAAAA\n",
              "3gAAAmkAAAEQAAACLAAAAQcAAAClAAABDwAAAOYAAADrAAABGQAAAWIAAAL6AAABUQAAAKEAAACx\n",
              "AAACHgAAAS0AAAC3AAABSwAAATAAAAFkAAACvwAAAM0AAAGXAAABnAAAAzIAAAHCAAAAvAAAAMcA\n",
              "AALOAAABUwAAAMwAAAFaAAABYwAAAZMAAAGEAAAB7AAAAIcAAAH3AAAApAAAAIIAAAIKAAAAsgAA\n",
              "AHEAAACMAAABOAAAAZYAAACSAAABTwAAAlkAAADTAAAApgAAAUcAAALmAAACKwAAAPMAAADTAAAA\n",
              "FHN0Y28AAAAAAAAAAQAAADAAAABidWR0YQAAAFptZXRhAAAAAAAAACFoZGxyAAAAAAAAAABtZGly\n",
              "YXBwbAAAAAAAAAAAAAAAAC1pbHN0AAAAJal0b28AAAAdZGF0YQAAAAEAAAAATGF2ZjU4LjQ1LjEw\n",
              "MA==\n",
              "\">\n",
              "  Your browser does not support the video tag.\n",
              "</video>"
            ],
            "text/plain": [
              "<IPython.core.display.HTML object>"
            ]
          },
          "metadata": {},
          "output_type": "display_data"
        },
        {
          "data": {
            "image/png": "[encoded data removed]",
            "text/plain": [
              "<Figure size 640x480 with 1 Axes>"
            ]
          },
          "metadata": {},
          "output_type": "display_data"
        }
      ],
      "source": [
        "plot(result_rk45, duration, size)"
      ]
    },
    {
      "attachments": {},
      "cell_type": "markdown",
      "metadata": {
        "id": "oazVHmdxmYHY"
      },
      "source": [
        "# Linearização do Modelo Matemático"
      ]
    },
    {
      "attachments": {},
      "cell_type": "markdown",
      "metadata": {
        "id": "dJQFGhZcsgDC"
      },
      "source": [
        "## Aproximação por séries de Taylor"
      ]
    },
    {
      "cell_type": "code",
      "execution_count": 59,
      "metadata": {
        "id": "vOsMMtwRGj3I"
      },
      "outputs": [],
      "source": [
        "linear_space = taylor_linear(space, theta_1, theta_2, theta_3, y0[0], y0[1], y0[2]).doit()\n",
        "linear_space[3] = omega_1\n",
        "linear_space[4] = omega_2\n",
        "linear_space[5] = omega_3"
      ]
    },
    {
      "cell_type": "code",
      "execution_count": 60,
      "metadata": {
        "id": "0p4_daH8SkrN"
      },
      "outputs": [],
      "source": [
        "substitute = Params.copy()\n",
        "substitute[theta_1] = y0[0]\n",
        "substitute[theta_2] = y0[1]\n",
        "substitute[theta_3] = y0[2]"
      ]
    },
    {
      "cell_type": "code",
      "execution_count": 61,
      "metadata": {},
      "outputs": [],
      "source": [
        "# É necessário pois senão o sistema \"linear\" irá apresentar termos do vetor de entradas na matriz A.\n",
        "remove_inputs_alias = {\n",
        "    p_1: 0,\n",
        "    p_2: 0,\n",
        "    tau: 0,\n",
        "}"
      ]
    },
    {
      "cell_type": "code",
      "execution_count": 62,
      "metadata": {
        "id": "xGu-BmeVSTKn"
      },
      "outputs": [
        {
          "name": "stdout",
          "output_type": "stream",
          "text": [
            "[[0, 0, 0, 1.00000000000000, 0, 0], [0, 0, 0, 0, 1.00000000000000, 0], [0, 0, 0, 0, 0, 1.00000000000000], [-9.54111717829679, 3.06243641304063, -10.3611296011384, -0.00668154565072804, 0.00953854298254941, -0.00455531077916738], [15.5712848622681, -1.33254167920101, 18.4355445739696, 0.00953854298254942, -0.0148980257237596, 0.00778398698950282], [-9.61870193257238, 0.00910916613516730, -15.1586984116046, -0.00455531077916738, 0.00778398698950282, -0.00615618304192789]]\n"
          ]
        }
      ],
      "source": [
        "A = list()\n",
        "for f in space:\n",
        "  A.append(list())\n",
        "  for x in vars:\n",
        "    A[-1].append(sp.N(sp.diff(f, x).subs(remove_inputs_alias).subs(substitute).doit()))\n",
        "print(A)"
      ]
    },
    {
      "cell_type": "code",
      "execution_count": 63,
      "metadata": {
        "id": "aDxhV_lKeoxl"
      },
      "outputs": [
        {
          "name": "stdout",
          "output_type": "stream",
          "text": [
            "[[0, 0, 0], [0, 0, 0], [0, 0, 0], [0.000208798301585251, -6.19949546185575e-5, 5.21169939154306e-5], [-0.000298079468204669, 0.000116297234729458, -7.44019741194813e-5], [0.000142353461848981, -7.00601407317925e-5, 8.98378658944935e-5]]\n"
          ]
        }
      ],
      "source": [
        "B = list()\n",
        "for f in space:\n",
        "  B.append(list())\n",
        "  for u in [tau, p_1, p_2]:\n",
        "    B[-1].append(sp.N(sp.diff(f, u).subs(substitute).doit()))\n",
        "print(B)"
      ]
    },
    {
      "cell_type": "code",
      "execution_count": 64,
      "metadata": {
        "id": "zykehhv7-WQG"
      },
      "outputs": [],
      "source": [
        "def list_to_scilab_matrix(matrix: list[list[float]], varname: str) -> str:\n",
        "  scilab_code = varname + \" = [\" \n",
        "  for row in matrix:\n",
        "    for value in row:\n",
        "      scilab_code += \" \" + str(value)\n",
        "    scilab_code += \";\"\n",
        "  scilab_code = scilab_code[:-1]\n",
        "  scilab_code += \"]\"\n",
        "  return scilab_code"
      ]
    },
    {
      "cell_type": "code",
      "execution_count": 65,
      "metadata": {
        "id": "D4VyB2gM856G"
      },
      "outputs": [
        {
          "name": "stdout",
          "output_type": "stream",
          "text": [
            "A = [ 0 0 0 1.00000000000000 0 0; 0 0 0 0 1.00000000000000 0; 0 0 0 0 0 1.00000000000000; -9.54111717829679 3.06243641304063 -10.3611296011384 -0.00668154565072804 0.00953854298254941 -0.00455531077916738; 15.5712848622681 -1.33254167920101 18.4355445739696 0.00953854298254942 -0.0148980257237596 0.00778398698950282; -9.61870193257238 0.00910916613516730 -15.1586984116046 -0.00455531077916738 0.00778398698950282 -0.00615618304192789]\n",
            "B = [ 0 0 0; 0 0 0; 0 0 0; 0.000208798301585251 -6.19949546185575e-5 5.21169939154306e-5; -0.000298079468204669 0.000116297234729458 -7.44019741194813e-5; 0.000142353461848981 -7.00601407317925e-5 8.98378658944935e-5]\n"
          ]
        }
      ],
      "source": [
        "print(list_to_scilab_matrix(A, 'A'))\n",
        "print(list_to_scilab_matrix(B, 'B'))"
      ]
    },
    {
      "attachments": {},
      "cell_type": "markdown",
      "metadata": {},
      "source": [
        "# Simulação do sistema linearizado"
      ]
    },
    {
      "cell_type": "code",
      "execution_count": 66,
      "metadata": {
        "id": "96iuKOtGzoDm"
      },
      "outputs": [],
      "source": [
        "linear = solve_ode(linear_space.subs(inputs_alias).subs(Params), duration, size, y0)"
      ]
    },
    {
      "cell_type": "code",
      "execution_count": 67,
      "metadata": {
        "id": "3F0-pxjfzu-C"
      },
      "outputs": [
        {
          "data": {
            "image/png": "[encoded data removed]",
            "text/plain": [
              "<Figure size 640x480 with 1 Axes>"
            ]
          },
          "metadata": {},
          "output_type": "display_data"
        },
        {
          "data": {
            "image/png": "[encoded data removed]",
            "text/plain": [
              "<Figure size 640x480 with 1 Axes>"
            ]
          },
          "metadata": {},
          "output_type": "display_data"
        },
        {
          "data": {
            "image/png": "[encoded data removed]",
            "text/plain": [
              "<Figure size 640x480 with 1 Axes>"
            ]
          },
          "metadata": {},
          "output_type": "display_data"
        },
        {
          "data": {
            "image/png": "[encoded data removed]",
            "text/plain": [
              "<Figure size 640x480 with 1 Axes>"
            ]
          },
          "metadata": {},
          "output_type": "display_data"
        },
        {
          "data": {
            "image/png": "[encoded data removed]",
            "text/plain": [
              "<Figure size 640x480 with 1 Axes>"
            ]
          },
          "metadata": {},
          "output_type": "display_data"
        },
        {
          "data": {
            "text/html": [
              "<video width=\"640\" height=\"480\" controls autoplay loop>\n",
              "  <source type=\"video/mp4\" src=\"data:video/mp4;base64,AAAAIGZ0eXBNNFYgAAACAE00ViBpc29taXNvMmF2YzEAAAAIZnJlZQAAJVFtZGF0AAACoQYF//+d\n",
              "3EXpvebZSLeWLNgg2SPu73gyNjQgLSBjb3JlIDE2MSAtIEguMjY0L01QRUctNCBBVkMgY29kZWMg\n",
              "LSBDb3B5bGVmdCAyMDAzLTIwMjAgLSBodHRwOi8vd3d3LnZpZGVvbGFuLm9yZy94MjY0Lmh0bWwg\n",
              "LSBvcHRpb25zOiBjYWJhYz0xIHJlZj0zIGRlYmxvY2s9MTowOjAgYW5hbHlzZT0weDM6MHgxMTMg\n",
              "bWU9aGV4IHN1Ym1lPTcgcHN5PTEgcHN5X3JkPTEuMDA6MC4wMCBtaXhlZF9yZWY9MSBtZV9yYW5n\n",
              "ZT0xNiBjaHJvbWFfbWU9MSB0cmVsbGlzPTEgOHg4ZGN0PTEgY3FtPTAgZGVhZHpvbmU9MjEsMTEg\n",
              "ZmFzdF9wc2tpcD0xIGNocm9tYV9xcF9vZmZzZXQ9LTIgdGhyZWFkcz0xMiBsb29rYWhlYWRfdGhy\n",
              "ZWFkcz0yIHNsaWNlZF90aHJlYWRzPTAgbnI9MCBkZWNpbWF0ZT0xIGludGVybGFjZWQ9MCBibHVy\n",
              "YXlfY29tcGF0PTAgY29uc3RyYWluZWRfaW50cmE9MCBiZnJhbWVzPTMgYl9weXJhbWlkPTIgYl9h\n",
              "ZGFwdD0xIGJfYmlhcz0wIGRpcmVjdD0xIHdlaWdodGI9MSBvcGVuX2dvcD0wIHdlaWdodHA9MiBr\n",
              "ZXlpbnQ9MjUwIGtleWludF9taW49MjAgc2NlbmVjdXQ9NDAgaW50cmFfcmVmcmVzaD0wIHJjX2xv\n",
              "b2thaGVhZD00MCByYz1jcmYgbWJ0cmVlPTEgY3JmPTIzLjAgcWNvbXA9MC42MCBxcG1pbj0wIHFw\n",
              "bWF4PTY5IHFwc3RlcD00IGlwX3JhdGlvPTEuNDAgYXE9MToxLjAwAIAAAA/MZYiEAD///vdonwKb\n",
              "WkN6gOSVxSXbT4H/q2dwfI/pAwAAAwAAAwAABDAjj/Qk/h+akwAAAwBEAAvh8/iJ4bMA2gNqbe4/\n",
              "0xL8WmOnDgQk656p1FVCIEChO5CnJ9XNUK18y6PRD0ZSRSdUFgzE8Q6pSyj81E6rZ4OIrGbwj2lf\n",
              "IPaoOjSb+9IYZq3sxzV7ZPXM3+EX3DSoQXHUb4NgLugyG0qcotibRv5q4QwgE3aZAHtL09sqGstv\n",
              "WXvIlyt+6A/RVAj0YHOxSgRwmheJm1GkaAchicLctzGvk43XaQqEKmqMl2MjqEesFw33QuwRTlSX\n",
              "Hn3+RgAjX2+jdMu62TNxWTwAAscRv3jQgt3lYUVHbTEz4tq5RcfFpk21/0TSeG0lAhTMnpSrMuP/\n",
              "/s/4kZxKNR1CB6d1SZgTaw5ZXUGjoEDBt5opD9iCPOeixrLJgBSut34nboaFSEivtlXcAT7Rqfiq\n",
              "OGKJJH1VOyLlJhPf+Jon4JHnQugE+AKPEc8sgzbx8kFxLoPLMPn0GyTrFXPCVDozQZjSlxuBU8bB\n",
              "mNMqUmjLssRQtpO5w0+CQem9NFsj2Wm/2g/we9MTa2OFkMMgJ9q3DTBsan9D8/PPiffspBPIHLrX\n",
              "EFg9gK4xpHV1LNwz0k3xbf16tiLLPpYNd7s9ehnjVgq9poaxvhNdbFCpPgm4vux5Ho4IVZcFPVg0\n",
              "oQ2x8viip8RaUJG74l7s4LUZXl57nGpTjM/7qvx/i4u7VEV9Ob2ojWYk2oW0dIOso3cRvfwl4fDC\n",
              "SP1noIRdzxmAJl2lO5vSiF4JnVScL1ouWtDz92rBejltct6AvZjqj2yUGpuFzmiL3QCp4WEwEQEK\n",
              "DtpBQdP+5ugrizHdLSSt/Qo7CTtI8XGuX40d/sggU47oY8GjkWAWj+n+k+zbDC7vshHXOh02UHKE\n",
              "/1g0QuIw8auHm3ZlqjhyyO3mph04msInTKa8GFHumcGNcNrUC/MA5ZF8U7+Iq4EEjmO94a1b0teU\n",
              "CxhC2yWVaWjK7FMd6Ufe4isCjyLxyZh7QU0x9Z+i9kcQijCcfZC9Dp4Sw4QE9sFrJPANiFpMTRPJ\n",
              "wMNOt3Z5xmip9hbjCmDKMQug2IU51qafFFeIT4fQqFvBvJc/CLYFlgzpNuzgPOub6FDQtVMrkTk+\n",
              "7Aw7pwDIvjRxfaFh1EUv1E+K8eKir8VsJ/mxAyPOKKFonVDVE2EzrgWYwUasEqABkvssleDegC1L\n",
              "KwHkQzqkaqKHee7vueolDPrZzAGd3p3GRf3cWHGcGsQbD0qLPV0pLjgkvYfIlMh5+EAS5e8dryFx\n",
              "ok61F27mQMS4j4gLhPyAubzhPOCkD1HZdAh0Fe05hf8G9hLqGZX3MaYwI8GCZBb96efB/KqKWvwh\n",
              "b1oRsQYCvorLCZO2Gy2lmmUAJmjBmR59JM3clvtBiFSRvVdbC8iuyBl3lTY+D0KQGn6IcA6y05ls\n",
              "X6iWiAvr4v34r78t1eCxX0KsWhKrbw3mxL7/Gw8l9TFJq8Pl4raRDeY376H5Gb51aGUB36/WhJ74\n",
              "u2yo7Lwfl/RaKMmaJPYNdzLvJ8xUvQizX0nMkNg/nM+KOwtyFo8zUChTUQf3eJWgEQv+LeN37XxY\n",
              "F6Zv58WbtdF2MgmWHLOWdZf0eSw4oiR4zTqXpbAfJmNWHKldwGNL2uZiPwP+lKyK1FF9qBCbW0Ex\n",
              "RM7ChUZEUp/V6kCyVfj4TjNgtgCpr/vfKRNrm+X7NOPAStmk979vkDxh4AXLpuMHiZWMepXq/w9B\n",
              "UQ0dQ9zjnRMXLwiGJK72vqlqbvx2XMYc/T/byLtAGcQDfqS0ioUn94+SJ5StH2d3DEt6+a5zLArn\n",
              "Pu9bbjPW3dB155DekPtV5xMe47qu4h/WcBnSx7qYBVRA2I+OZc+mRc+gRW6ToAFxUhAvIU1PnInF\n",
              "HiUCCHB0HnpyQZ0QCHyKZApzSQzBhtpTiqH5WRGyFtXpJFr8CaiNUn+ZTHjanipWDAdvA70Dc0MS\n",
              "0wBRjIuZ8NpD8LMvIU+1nV09NcXlcQ07GLMjmin1iyxDvIe6bobcVftMj671pvdeeuPkwRL6+guN\n",
              "jcV1n1fu8MmstWtzxZmwQwminO5b/lB9stz7SyiflApsiroL8qE0UzldFgsNGqmqy2UOLGNxH6mF\n",
              "OKZEDLsgwMtsSvA5M9XFRvo9Fqmgwd/Bao/FfnPRXy7dr3gmMrOHGSF4B/+wf5KqBp+DO9U8I3VA\n",
              "BnD05CSEvkcltDhz1BxKS7/9cF/9mz/GipulTY/KxX7Dhr6j+gMRuyY/NHphI4k+HOY6mrS8Xuwi\n",
              "eMTcniDrwwfS6eiRKZ0yo/wZKFBrZtaUqn+ill0L3DxXH0TBgGLrFPffxutziNuS4stfLplJh7N7\n",
              "RooTAJt1bdJkpAKlMFZ66H2kDJe24sVKn6y6k558G34X9UO/yI0fQIUKo3sOyGWYr2iCWMk3YaDl\n",
              "uopVehkfpbok12dTgQODdlPwGce8nyZgxbWDby9K5P4F9Uw3rAwvB5FQg8BPQhxsgXAZNMmO6hq7\n",
              "mGjZQCjuI5HAEMbLqWr976HMJDQ6lkGDdZTA/C/KvrNN1Bp4f5Wc4Jqhq697oZGVNvzKuNyFexln\n",
              "QOENyC8F772WS6vurcB6MXa7ofuWdF9qm7XvlB4jgCC8HY1t2BKfJBIXpGEPthQuy8IZv/4LBUFR\n",
              "pRCAAAADA+JVsi07hfDZaqNVipFIo7yK2ebFWfdaR7di+Vd/unjSeVndmoWTpqeyPlMXioV2Dnah\n",
              "c44BKrVPZnSUHcrwf8X5V04fi6pg1SQexJzl8wPNGhUsdevSw0MYbsDZdWH/cF4rSWYag9cs5xy5\n",
              "fT1vF/TKLiGrl13FJkdclGTI9n+U0uzIGtV2eAWn2xjsQQL7syV0yD9huVH9jXJuV+boZm8OqNJs\n",
              "tNtz5kepzrB0AVF/cuulbKT8buNkSlwgOR09AuFsbNLgbP/U9QWX1xOB1h9UvThXEr9NqCZyQQJE\n",
              "ewnbihPo4dW1WO1T7xZU8zwVi99dkQUiYVoCzjsQqBT6t1T2S2eVY709iGeCqhtLd64gFO6Aay1G\n",
              "2n1Jl1tGrppZfinQuQjTzzHts9YIHqvsUqjm6S3xHFXOBlwABlVvaUIRzqL1Oo3HE5LfR5uSVoAi\n",
              "aOgiR1h8gfdos90Wpatan91641tfAGU7hbACenwyt8ARbHKvTfCVd0xkfva960ZyXl0YLLjwixSn\n",
              "yNxDGZSG7rEZ/xGlSMM34sIhkppKpvFElg+G4vONhLDjRXlpsJHNtvFq0no004A4xPhNACatytC4\n",
              "09BdMfwVExEZ9D7H6fBFdhTRY4GSmTfJf8x4aPHHWFIs7WzR74VyZvCQoDEDj6qClsYd3j1zKqj5\n",
              "YRAjXjPzqkI0rEEKWivfi7Wu019nwB8u1oAQblSRzN7efXp1g+P2zPdv+KNMfQXMOCVMlri6geL/\n",
              "ySV5iOfe8z+jFl6jEJd+Xy4LysLp9QYHfMj9qKBcZx1a3GWHSX5NiMBSZ6CojOwAYmiv+Lm6gus+\n",
              "BEq/rUAgRAOBtUue3/3dGUA8IzBXk5jLV0pVFwS0HEYhevCLYWPAB95MFkP0gIJdgBWl8eNHiQ5O\n",
              "gorPrfsLDGb8jbBHtOrFRTPeGSomIyyvmT5MY1rre3ZqTk0DJ+f9Xjixwidt7EkwS52nORYAMZPH\n",
              "Qx51Cay8BfpYCIcSw95328HHmb8DDZA79lXSdDGk0FrCRCt8AAgWz8trI3+lTgnuAyY/6giak1ql\n",
              "huDqr31sdC3Fkb7LUBK24AQ+u2HsAOxauNaCrlSLOu4Nn7LFisU58YvERfNgplVELrNv3TwvJeqc\n",
              "i7UflaH3uFzM28EqI/LYK9k73ZIEdYRI3FqFY5Kpw2PBn2OtrRRz+ggw4507h3HHsYP1koz8JWiy\n",
              "XM89vsYrJBwvd46pWCo1zf9R7eE5sIv750GBZZf8PEkUSwLn/ScvwzQNfCOd7fDCDe/TWrT+QU0L\n",
              "kyZ4pIbIZcR5lF3a1ztEiUhIOXeeDxUG/uEgsFsOIJlCGlSvtHy8iPZWMbUP6Lt2W+mP2WSXpAjN\n",
              "/kxgCR1o5yDJQrtSbCKqEBV9+kSPU/4Yxpb0ezk9mpTHwXoZ08X96JiPjjEsRjqJwlUziiZRKNdN\n",
              "kefcPOVNeV9sQO2EaR4/aUeIgCC1AQ1IU9mBoWJu4wfbA3jt8nP6ilz9U9U5+rNG1yxePiqMfVFn\n",
              "ZBBYJKDwFfCjNHeVEnr99Qa/GMgvB2AXHKI+rUoNv1SlG9J7xDt1NSSKnj6dt0OzRkMB3vJt9vfE\n",
              "f7sbyy5TRUlkgLeC4QHnXlBJI9vthPXQEvNpnkgzAhYRmcLOl/NVeBVy9NnDQgub3wzJUW1n1f1A\n",
              "8BNliCGXHK5lzhgAB2dkvrKEjZr4jmaLXJMs7foaqlRMkuvqShi9d++uX2pW7gouJJU3gtKRVddx\n",
              "5SpSPceKpv76O4VQHDWy/AmpIWLJoFYrHgCxl4vZeFmBTfnGdJpFyTAliH5p/NXiwOJUUCEoiLiU\n",
              "7lOOI1UXuKv5cElf9a4xsk8AH4KUaSswQbQr84pQDSWpJxVShZKTJF1idI7ZbA9ms705tb+r/X1M\n",
              "bW0AIW3pdAmUbUvdoGNbIukBytrvOniv0DRj3/xaz35/DsJqQDQLup5I/UVkomwIJMJSbU5Vk+JD\n",
              "LtHX3zPbcDdP0OT/3Y7fiU+nxzsWzCkMwQWfBiPTPi9uOS6Umr9uKwBw4tg+uuLCg5ROC1Q8ZJKE\n",
              "FI+rlNPZoRfFQM5qS/3Ss3gnRLcA/xQxOYUTdgI6IteLcVPeWVs4+6p+p+WmSj+5jZF1kasnnx2j\n",
              "ohb/oKiHjc+Q7ggMLB29Xs3aFKMLgjnyUji1r7ODpNAft8UmEKzDv0a4JFjKAMghBZ5BQFP4GBwb\n",
              "BFdV59DZikJJLmbUno8uEQE81q8dFOvHw2U2tfcDoDIBJWogfCPjzPVrvVzUKq9hqZOQwtRMbJ/G\n",
              "ai6Fuuv/DDkdt9t81o/x6bSTJ6r8FzYv20InvXRrZ2pOGz6e5D8hyEdPcYQk1Kn9wgz7Sy1Qfn4m\n",
              "v0k4Is5bX4WKdE4cdotLUwgJAyMms3pyFIfjW+zA0PgQZWNTzlkcYrffUmOOJ7SC8b2eVAvFvEGl\n",
              "huVAiFc8mgmbbFhtcEVFtIhG0w9SWSXwkku+bcJ1oS9uoMKdgh7Vhy4lMDtsCro7fWtkPmahYOFM\n",
              "jC56gfuA36WYiHrIit8EO6384KR08s/tM7oYL6fg85M7czDaqgnOtvsyIyHMkaRVJqgrLvi83EkF\n",
              "xCpmL89MKsFx7rZQuzZeZ7NjP0t3LCQctGz9Ir2J5R5+Juzh4I5+NnnnJSL/tksK0RDO+R+Ofimg\n",
              "mZ4k1BJKyGBAwpACb4n7g/D8JZgL5IlSiWAGYh85uJwzaNbgPlAAACShAAAAOEGaJGxD//6plgAA\n",
              "FcEy9ADdNCG8ghBbedsAACar/i+bH6q4MlYj373m1QCWdMAUuXviKjxrPu6wAAAAGEGeQniGfwAA\n",
              "EtiyFAAWJ5ToEnXADtn/YwAAABYBnmF0Qr8AACKuhGwAAM3nCEevyC1YAAAAEAGeY2pCvwAAAwAA\n",
              "AwAAR8EAAAAcQZpoSahBaJlMCH///qmWAAADAAADAAN5c2dEzQAAABdBnoZFESwz/wAAAwAAAwC+\n",
              "6ZgWVbs7oQAAABABnqV0Qr8AAAMAAAMAAEfBAAAAEAGep2pCvwAAAwAAAwAAR8AAAAAZQZqsSahB\n",
              "bJlMCH///qmWAAADAAADAAAs4AAAABdBnspFFSwz/wAAAwAAAwC+6ZgWVbs7oQAAABABnul0Qr8A\n",
              "AAMAAAMAAEfAAAAAEAGe62pCvwAAAwAAAwAAR8AAAAAZQZrwSahBbJlMCH///qmWAAADAAADAAAs\n",
              "4QAAABdBnw5FFSwz/wAAAwAAAwC+6ZgWVbs7oQAAABABny10Qr8AAAMAAAMAAEfBAAAAEAGfL2pC\n",
              "vwAAAwAAAwAAR8AAAAAZQZs0SahBbJlMCH///qmWAAADAAADAAAs4AAAABdBn1JFFSwz/wAAAwAA\n",
              "AwC+6ZgWVbs7oQAAABABn3F0Qr8AAAMAAAMAAEfAAAAAEAGfc2pCvwAAAwAAAwAAR8AAAAAZQZt4\n",
              "SahBbJlMCH///qmWAAADAAADAAAs4QAAABdBn5ZFFSwz/wAAAwAAAwC+6ZgWVbs7oAAAABABn7V0\n",
              "Qr8AAAMAAAMAAEfBAAAAEAGft2pCvwAAAwAAAwAAR8EAAAAZQZu8SahBbJlMCH///qmWAAADAAAD\n",
              "AAAs4AAAABdBn9pFFSwz/wAAAwAAAwC+6ZgWVbs7oQAAABABn/l0Qr8AAAMAAAMAAEfAAAAAEAGf\n",
              "+2pCvwAAAwAAAwAAR8EAAAAZQZvgSahBbJlMCH///qmWAAADAAADAAAs4QAAABdBnh5FFSwz/wAA\n",
              "AwAAAwC+6ZgWVbs7oAAAABABnj10Qr8AAAMAAAMAAEfAAAAAEAGeP2pCvwAAAwAAAwAAR8EAAAAZ\n",
              "QZokSahBbJlMCH///qmWAAADAAADAAAs4AAAABdBnkJFFSwz/wAAAwAAAwC+6ZgWVbs7oQAAABAB\n",
              "nmF0Qr8AAAMAAAMAAEfAAAAAEAGeY2pCvwAAAwAAAwAAR8EAAAAZQZpoSahBbJlMCH///qmWAAAD\n",
              "AAADAAAs4QAAABdBnoZFFSwz/wAAAwAAAwC+6ZgWVbs7oQAAABABnqV0Qr8AAAMAAAMAAEfBAAAA\n",
              "EAGep2pCvwAAAwAAAwAAR8AAAAAZQZqsSahBbJlMCH///qmWAAADAAADAAAs4AAAABdBnspFFSwz\n",
              "/wAAAwAAAwC+6ZgWVbs7oQAAABABnul0Qr8AAAMAAAMAAEfAAAAAEAGe62pCvwAAAwAAAwAAR8AA\n",
              "AAAZQZrwSahBbJlMCH///qmWAAADAAADAAAs4QAAABdBnw5FFSwz/wAAAwAAAwC+6ZgWVbs7oQAA\n",
              "ABABny10Qr8AAAMAAAMAAEfBAAAAEAGfL2pCvwAAAwAAAwAAR8AAAAAZQZs0SahBbJlMCH///qmW\n",
              "AAADAAADAAAs4AAAABdBn1JFFSwz/wAAAwAAAwC+6ZgWVbs7oQAAABABn3F0Qr8AAAMAAAMAAEfA\n",
              "AAAAEAGfc2pCvwAAAwAAAwAAR8AAAAAZQZt4SahBbJlMCH///qmWAAADAAADAAAs4QAAABdBn5ZF\n",
              "FSwz/wAAAwAAAwC+6ZgWVbs7oAAAABABn7V0Qr8AAAMAAAMAAEfBAAAAEAGft2pCvwAAAwAAAwAA\n",
              "R8EAAAAZQZu8SahBbJlMCH///qmWAAADAAADAAAs4AAAABdBn9pFFSwz/wAAAwAAAwC+6ZgWVbs7\n",
              "oQAAABABn/l0Qr8AAAMAAAMAAEfAAAAAEAGf+2pCvwAAAwAAAwAAR8EAAAAZQZvgSahBbJlMCH//\n",
              "/qmWAAADAAADAAAs4QAAABdBnh5FFSwz/wAAAwAAAwC+6ZgWVbs7oAAAABABnj10Qr8AAAMAAAMA\n",
              "AEfAAAAAEAGeP2pCvwAAAwAAAwAAR8EAAAAZQZokSahBbJlMCH///qmWAAADAAADAAAs4AAAABdB\n",
              "nkJFFSwz/wAAAwAAAwC+6ZgWVbs7oQAAABABnmF0Qr8AAAMAAAMAAEfAAAAAEAGeY2pCvwAAAwAA\n",
              "AwAAR8EAAAAZQZpoSahBbJlMCH///qmWAAADAAADAAAs4QAAABdBnoZFFSwz/wAAAwAAAwC+6ZgW\n",
              "Vbs7oQAAABABnqV0Qr8AAAMAAAMAAEfBAAAAEAGep2pCvwAAAwAAAwAAR8AAAAAZQZqsSahBbJlM\n",
              "CH///qmWAAADAAADAAAs4AAAABdBnspFFSwz/wAAAwAAAwC+6ZgWVbs7oQAAABABnul0Qr8AAAMA\n",
              "AAMAAEfAAAAAEAGe62pCvwAAAwAAAwAAR8AAAAAZQZrwSahBbJlMCH///qmWAAADAAADAAAs4QAA\n",
              "ABdBnw5FFSwz/wAAAwAAAwC+6ZgWVbs7oQAAABABny10Qr8AAAMAAAMAAEfBAAAAEAGfL2pCvwAA\n",
              "AwAAAwAAR8AAAAAZQZs0SahBbJlMCH///qmWAAADAAADAAAs4AAAABdBn1JFFSwz/wAAAwAAAwC+\n",
              "6ZgWVbs7oQAAABABn3F0Qr8AAAMAAAMAAEfAAAAAEAGfc2pCvwAAAwAAAwAAR8AAAAAZQZt4SahB\n",
              "bJlMCH///qmWAAADAAADAAAs4QAAABdBn5ZFFSwz/wAAAwAAAwC+6ZgWVbs7oAAAABABn7V0Qr8A\n",
              "AAMAAAMAAEfBAAAAEAGft2pCvwAAAwAAAwAAR8EAAAAZQZu8SahBbJlMCH///qmWAAADAAADAAAs\n",
              "4AAAABdBn9pFFSwz/wAAAwAAAwC+6ZgWVbs7oQAAABABn/l0Qr8AAAMAAAMAAEfAAAAAEAGf+2pC\n",
              "vwAAAwAAAwAAR8EAAAAZQZvgSahBbJlMCH///qmWAAADAAADAAAs4QAAABdBnh5FFSwz/wAAAwAA\n",
              "AwC+6ZgWVbs7oAAAABABnj10Qr8AAAMAAAMAAEfAAAAAEAGeP2pCvwAAAwAAAwAAR8EAAAAZQZok\n",
              "SahBbJlMCH///qmWAAADAAADAAAs4AAAABdBnkJFFSwz/wAAAwAAAwC+6ZgWVbs7oQAAABABnmF0\n",
              "Qr8AAAMAAAMAAEfAAAAAEAGeY2pCvwAAAwAAAwAAR8EAAAAZQZpoSahBbJlMCH///qmWAAADAAAD\n",
              "AAAs4QAAABdBnoZFFSwz/wAAAwAAAwC+6ZgWVbs7oQAAABABnqV0Qr8AAAMAAAMAAEfBAAAAEAGe\n",
              "p2pCvwAAAwAAAwAAR8AAAAAZQZqsSahBbJlMCH///qmWAAADAAADAAAs4AAAABdBnspFFSwz/wAA\n",
              "AwAAAwC+6ZgWVbs7oQAAABABnul0Qr8AAAMAAAMAAEfAAAAAEAGe62pCvwAAAwAAAwAAR8AAAAAZ\n",
              "QZrwSahBbJlMCH///qmWAAADAAADAAAs4QAAABdBnw5FFSwz/wAAAwAAAwC+6ZgWVbs7oQAAABAB\n",
              "ny10Qr8AAAMAAAMAAEfBAAAAEAGfL2pCvwAAAwAAAwAAR8AAAAAZQZs0SahBbJlMCH///qmWAAAD\n",
              "AAADAAAs4AAAABdBn1JFFSwz/wAAAwAAAwC+6ZgWVbs7oQAAABABn3F0Qr8AAAMAAAMAAEfAAAAA\n",
              "EAGfc2pCvwAAAwAAAwAAR8AAAAAZQZt4SahBbJlMCH///qmWAAADAAADAAAs4QAAABdBn5ZFFSwz\n",
              "/wAAAwAAAwC+6ZgWVbs7oAAAABABn7V0Qr8AAAMAAAMAAEfBAAAAEAGft2pCvwAAAwAAAwAAR8EA\n",
              "AAAZQZu8SahBbJlMCH///qmWAAADAAADAAAs4AAAABdBn9pFFSwz/wAAAwAAAwC+6ZgWVbs7oQAA\n",
              "ABABn/l0Qr8AAAMAAAMAAEfAAAAAEAGf+2pCvwAAAwAAAwAAR8EAAAAZQZvgSahBbJlMCH///qmW\n",
              "AAADAAADAAAs4QAAABdBnh5FFSwz/wAAAwAAAwC+6ZgWVbs7oAAAABABnj10Qr8AAAMAAAMAAEfA\n",
              "AAAAEAGeP2pCvwAAAwAAAwAAR8EAAAAZQZokSahBbJlMCH///qmWAAADAAADAAAs4AAAABdBnkJF\n",
              "FSwz/wAAAwAAAwC+6ZgWVbs7oQAAABABnmF0Qr8AAAMAAAMAAEfAAAAAEAGeY2pCvwAAAwAAAwAA\n",
              "R8EAAAAZQZpoSahBbJlMCH///qmWAAADAAADAAAs4QAAABdBnoZFFSwz/wAAAwAAAwC+6ZgWVbs7\n",
              "oQAAABABnqV0Qr8AAAMAAAMAAEfBAAAAEAGep2pCvwAAAwAAAwAAR8AAAAAZQZqsSahBbJlMCH//\n",
              "/qmWAAADAAADAAAs4AAAABdBnspFFSwz/wAAAwAAAwC+6ZgWVbs7oQAAABABnul0Qr8AAAMAAAMA\n",
              "AEfAAAAAEAGe62pCvwAAAwAAAwAAR8AAAAAZQZrwSahBbJlMCH///qmWAAADAAADAAAs4QAAABdB\n",
              "nw5FFSwz/wAAAwAAAwC+6ZgWVbs7oQAAABABny10Qr8AAAMAAAMAAEfBAAAAEAGfL2pCvwAAAwAA\n",
              "AwAAR8AAAAAZQZs0SahBbJlMCH///qmWAAADAAADAAAs4AAAABdBn1JFFSwz/wAAAwAAAwC+6ZgW\n",
              "Vbs7oQAAABABn3F0Qr8AAAMAAAMAAEfAAAAAEAGfc2pCvwAAAwAAAwAAR8AAAAAZQZt4SahBbJlM\n",
              "CH///qmWAAADAAADAAAs4QAAABdBn5ZFFSwz/wAAAwAAAwC+6ZgWVbs7oAAAABABn7V0Qr8AAAMA\n",
              "AAMAAEfBAAAAEAGft2pCvwAAAwAAAwAAR8EAAAAZQZu8SahBbJlMCH///qmWAAADAAADAAAs4AAA\n",
              "ABdBn9pFFSwz/wAAAwAAAwC+6ZgWVbs7oQAAABABn/l0Qr8AAAMAAAMAAEfAAAAAEAGf+2pCvwAA\n",
              "AwAAAwAAR8EAAAAZQZvgSahBbJlMCH///qmWAAADAAADAAAs4QAAABdBnh5FFSwz/wAAAwAAAwC+\n",
              "6ZgWVbs7oAAAABABnj10Qr8AAAMAAAMAAEfAAAAAEAGeP2pCvwAAAwAAAwAAR8EAAAAZQZokSahB\n",
              "bJlMCH///qmWAAADAAADAAAs4AAAABdBnkJFFSwz/wAAAwAAAwC+6ZgWVbs7oQAAABABnmF0Qr8A\n",
              "AAMAAAMAAEfAAAAAEAGeY2pCvwAAAwAAAwAAR8EAAAAZQZpoSahBbJlMCH///qmWAAADAAADAAAs\n",
              "4QAAABdBnoZFFSwz/wAAAwAAAwC+6ZgWVbs7oQAAABABnqV0Qr8AAAMAAAMAAEfBAAAAEAGep2pC\n",
              "vwAAAwAAAwAAR8AAAAAZQZqsSahBbJlMCH///qmWAAADAAADAAAs4AAAABdBnspFFSwz/wAAAwAA\n",
              "AwC+6ZgWVbs7oQAAABABnul0Qr8AAAMAAAMAAEfAAAAAEAGe62pCvwAAAwAAAwAAR8AAAAAZQZrw\n",
              "SahBbJlMCH///qmWAAADAAADAAAs4QAAABdBnw5FFSwz/wAAAwAAAwC+6ZgWVbs7oQAAABABny10\n",
              "Qr8AAAMAAAMAAEfBAAAAEAGfL2pCvwAAAwAAAwAAR8AAAAAZQZs0SahBbJlMCH///qmWAAADAAAD\n",
              "AAAs4AAAABdBn1JFFSwz/wAAAwAAAwC+6ZgWVbs7oQAAABABn3F0Qr8AAAMAAAMAAEfAAAAAEAGf\n",
              "c2pCvwAAAwAAAwAAR8AAAAAZQZt4SahBbJlMCH///qmWAAADAAADAAAs4QAAABdBn5ZFFSwz/wAA\n",
              "AwAAAwC+6ZgWVbs7oAAAABABn7V0Qr8AAAMAAAMAAEfBAAAAEAGft2pCvwAAAwAAAwAAR8EAAAAZ\n",
              "QZu8SahBbJlMCHf//qmWAAADAAADAAAs4AAAABdBn9pFFSwz/wAAAwAAAwC+6ZgWVbs7oQAAABAB\n",
              "n/l0Qr8AAAMAAAMAAEfAAAAAEAGf+2pCvwAAAwAAAwAAR8EAAAAZQZvgSahBbJlMCHf//qmWAAAD\n",
              "AAADAAAs4QAAABdBnh5FFSwz/wAAAwAAAwC+6ZgWVbs7oAAAABABnj10Qr8AAAMAAAMAAEfAAAAA\n",
              "EAGeP2pCvwAAAwAAAwAAR8EAAAAZQZokSahBbJlMCG///qeEAAADAAADAABZQAAAABdBnkJFFSwz\n",
              "/wAAAwAAAwC+6ZgWVbs7oQAAABABnmF0Qr8AAAMAAAMAAEfAAAAAEAGeY2pCvwAAAwAAAwAAR8EA\n",
              "AAAYQZpnSahBbJlMCFf//jhAAAADAAADAAVNAAAAF0GehUUVLC//AAADAAADAP3ilCyn1xCBAAAA\n",
              "EAGepmpCvwAAAwAAAwAAR8EAAAyKbW9vdgAAAGxtdmhkAAAAAAAAAAAAAAAAAAAD6AAAJxAAAQAA\n",
              "AQAAAAAAAAAAAAAAAAEAAAAAAAAAAAAAAAAAAAABAAAAAAAAAAAAAAAAAABAAAAAAAAAAAAAAAAA\n",
              "AAAAAAAAAAAAAAAAAAAAAAAAAgAAC7R0cmFrAAAAXHRraGQAAAADAAAAAAAAAAAAAAABAAAAAAAA\n",
              "JxAAAAAAAAAAAAAAAAAAAAAAAAEAAAAAAAAAAAAAAAAAAAABAAAAAAAAAAAAAAAAAABAAAAAAoAA\n",
              "AAHgAAAAAAAkZWR0cwAAABxlbHN0AAAAAAAAAAEAACcQAAAEAAABAAAAAAssbWRpYQAAACBtZGhk\n",
              "AAAAAAAAAAAAAAAAAAAoAAABkABVxAAAAAAALWhkbHIAAAAAAAAAAHZpZGUAAAAAAAAAAAAAAABW\n",
              "aWRlb0hhbmRsZXIAAAAK121pbmYAAAAUdm1oZAAAAAEAAAAAAAAAAAAAACRkaW5mAAAAHGRyZWYA\n",
              "AAAAAAAAAQAAAAx1cmwgAAAAAQAACpdzdGJsAAAAt3N0c2QAAAAAAAAAAQAAAKdhdmMxAAAAAAAA\n",
              "AAEAAAAAAAAAAAAAAAAAAAAAAoAB4ABIAAAASAAAAAAAAAABAAAAAAAAAAAAAAAAAAAAAAAAAAAA\n",
              "AAAAAAAAAAAAAAAAGP//AAAANWF2Y0MBZAAe/+EAGGdkAB6s2UCgPaEAAAMAAQAAAwAoDxYtlgEA\n",
              "Bmjr48siwP34+AAAAAAcdXVpZGtoQPJfJE/FujmlG88DI/MAAAAAAAAAGHN0dHMAAAAAAAAAAQAA\n",
              "AMgAAAIAAAAAFHN0c3MAAAAAAAAAAQAAAAEAAAZIY3R0cwAAAAAAAADHAAAAAQAABAAAAAABAAAK\n",
              "AAAAAAEAAAQAAAAAAQAAAAAAAAABAAACAAAAAAEAAAoAAAAAAQAABAAAAAABAAAAAAAAAAEAAAIA\n",
              "AAAAAQAACgAAAAABAAAEAAAAAAEAAAAAAAAAAQAAAgAAAAABAAAKAAAAAAEAAAQAAAAAAQAAAAAA\n",
              "AAABAAACAAAAAAEAAAoAAAAAAQAABAAAAAABAAAAAAAAAAEAAAIAAAAAAQAACgAAAAABAAAEAAAA\n",
              "AAEAAAAAAAAAAQAAAgAAAAABAAAKAAAAAAEAAAQAAAAAAQAAAAAAAAABAAACAAAAAAEAAAoAAAAA\n",
              "AQAABAAAAAABAAAAAAAAAAEAAAIAAAAAAQAACgAAAAABAAAEAAAAAAEAAAAAAAAAAQAAAgAAAAAB\n",
              "AAAKAAAAAAEAAAQAAAAAAQAAAAAAAAABAAACAAAAAAEAAAoAAAAAAQAABAAAAAABAAAAAAAAAAEA\n",
              "AAIAAAAAAQAACgAAAAABAAAEAAAAAAEAAAAAAAAAAQAAAgAAAAABAAAKAAAAAAEAAAQAAAAAAQAA\n",
              "AAAAAAABAAACAAAAAAEAAAoAAAAAAQAABAAAAAABAAAAAAAAAAEAAAIAAAAAAQAACgAAAAABAAAE\n",
              "AAAAAAEAAAAAAAAAAQAAAgAAAAABAAAKAAAAAAEAAAQAAAAAAQAAAAAAAAABAAACAAAAAAEAAAoA\n",
              "AAAAAQAABAAAAAABAAAAAAAAAAEAAAIAAAAAAQAACgAAAAABAAAEAAAAAAEAAAAAAAAAAQAAAgAA\n",
              "AAABAAAKAAAAAAEAAAQAAAAAAQAAAAAAAAABAAACAAAAAAEAAAoAAAAAAQAABAAAAAABAAAAAAAA\n",
              "AAEAAAIAAAAAAQAACgAAAAABAAAEAAAAAAEAAAAAAAAAAQAAAgAAAAABAAAKAAAAAAEAAAQAAAAA\n",
              "AQAAAAAAAAABAAACAAAAAAEAAAoAAAAAAQAABAAAAAABAAAAAAAAAAEAAAIAAAAAAQAACgAAAAAB\n",
              "AAAEAAAAAAEAAAAAAAAAAQAAAgAAAAABAAAKAAAAAAEAAAQAAAAAAQAAAAAAAAABAAACAAAAAAEA\n",
              "AAoAAAAAAQAABAAAAAABAAAAAAAAAAEAAAIAAAAAAQAACgAAAAABAAAEAAAAAAEAAAAAAAAAAQAA\n",
              "AgAAAAABAAAKAAAAAAEAAAQAAAAAAQAAAAAAAAABAAACAAAAAAEAAAoAAAAAAQAABAAAAAABAAAA\n",
              "AAAAAAEAAAIAAAAAAQAACgAAAAABAAAEAAAAAAEAAAAAAAAAAQAAAgAAAAABAAAKAAAAAAEAAAQA\n",
              "AAAAAQAAAAAAAAABAAACAAAAAAEAAAoAAAAAAQAABAAAAAABAAAAAAAAAAEAAAIAAAAAAQAACgAA\n",
              "AAABAAAEAAAAAAEAAAAAAAAAAQAAAgAAAAABAAAKAAAAAAEAAAQAAAAAAQAAAAAAAAABAAACAAAA\n",
              "AAEAAAoAAAAAAQAABAAAAAABAAAAAAAAAAEAAAIAAAAAAQAACgAAAAABAAAEAAAAAAEAAAAAAAAA\n",
              "AQAAAgAAAAABAAAKAAAAAAEAAAQAAAAAAQAAAAAAAAABAAACAAAAAAEAAAoAAAAAAQAABAAAAAAB\n",
              "AAAAAAAAAAEAAAIAAAAAAQAACgAAAAABAAAEAAAAAAEAAAAAAAAAAQAAAgAAAAABAAAKAAAAAAEA\n",
              "AAQAAAAAAQAAAAAAAAABAAACAAAAAAEAAAoAAAAAAQAABAAAAAABAAAAAAAAAAEAAAIAAAAAAQAA\n",
              "CgAAAAABAAAEAAAAAAEAAAAAAAAAAQAAAgAAAAABAAAKAAAAAAEAAAQAAAAAAQAAAAAAAAABAAAC\n",
              "AAAAAAEAAAoAAAAAAQAABAAAAAABAAAAAAAAAAEAAAIAAAAAAQAACgAAAAABAAAEAAAAAAEAAAAA\n",
              "AAAAAQAAAgAAAAABAAAKAAAAAAEAAAQAAAAAAQAAAAAAAAABAAACAAAAAAEAAAoAAAAAAQAABAAA\n",
              "AAABAAAAAAAAAAEAAAIAAAAAAQAACgAAAAABAAAEAAAAAAEAAAAAAAAAAQAAAgAAAAABAAAKAAAA\n",
              "AAEAAAQAAAAAAQAAAAAAAAABAAACAAAAAAEAAAgAAAAAAgAAAgAAAAAcc3RzYwAAAAAAAAABAAAA\n",
              "AQAAAMgAAAABAAADNHN0c3oAAAAAAAAAAAAAAMgAABJ1AAAAPAAAABwAAAAaAAAAFAAAACAAAAAb\n",
              "AAAAFAAAABQAAAAdAAAAGwAAABQAAAAUAAAAHQAAABsAAAAUAAAAFAAAAB0AAAAbAAAAFAAAABQA\n",
              "AAAdAAAAGwAAABQAAAAUAAAAHQAAABsAAAAUAAAAFAAAAB0AAAAbAAAAFAAAABQAAAAdAAAAGwAA\n",
              "ABQAAAAUAAAAHQAAABsAAAAUAAAAFAAAAB0AAAAbAAAAFAAAABQAAAAdAAAAGwAAABQAAAAUAAAA\n",
              "HQAAABsAAAAUAAAAFAAAAB0AAAAbAAAAFAAAABQAAAAdAAAAGwAAABQAAAAUAAAAHQAAABsAAAAU\n",
              "AAAAFAAAAB0AAAAbAAAAFAAAABQAAAAdAAAAGwAAABQAAAAUAAAAHQAAABsAAAAUAAAAFAAAAB0A\n",
              "AAAbAAAAFAAAABQAAAAdAAAAGwAAABQAAAAUAAAAHQAAABsAAAAUAAAAFAAAAB0AAAAbAAAAFAAA\n",
              "ABQAAAAdAAAAGwAAABQAAAAUAAAAHQAAABsAAAAUAAAAFAAAAB0AAAAbAAAAFAAAABQAAAAdAAAA\n",
              "GwAAABQAAAAUAAAAHQAAABsAAAAUAAAAFAAAAB0AAAAbAAAAFAAAABQAAAAdAAAAGwAAABQAAAAU\n",
              "AAAAHQAAABsAAAAUAAAAFAAAAB0AAAAbAAAAFAAAABQAAAAdAAAAGwAAABQAAAAUAAAAHQAAABsA\n",
              "AAAUAAAAFAAAAB0AAAAbAAAAFAAAABQAAAAdAAAAGwAAABQAAAAUAAAAHQAAABsAAAAUAAAAFAAA\n",
              "AB0AAAAbAAAAFAAAABQAAAAdAAAAGwAAABQAAAAUAAAAHQAAABsAAAAUAAAAFAAAAB0AAAAbAAAA\n",
              "FAAAABQAAAAdAAAAGwAAABQAAAAUAAAAHQAAABsAAAAUAAAAFAAAAB0AAAAbAAAAFAAAABQAAAAd\n",
              "AAAAGwAAABQAAAAUAAAAHQAAABsAAAAUAAAAFAAAAB0AAAAbAAAAFAAAABQAAAAdAAAAGwAAABQA\n",
              "AAAUAAAAHQAAABsAAAAUAAAAFAAAABwAAAAbAAAAFAAAABRzdGNvAAAAAAAAAAEAAAAwAAAAYnVk\n",
              "dGEAAABabWV0YQAAAAAAAAAhaGRscgAAAAAAAAAAbWRpcmFwcGwAAAAAAAAAAAAAAAAtaWxzdAAA\n",
              "ACWpdG9vAAAAHWRhdGEAAAABAAAAAExhdmY1OC40NS4xMDA=\n",
              "\">\n",
              "  Your browser does not support the video tag.\n",
              "</video>"
            ],
            "text/plain": [
              "<IPython.core.display.HTML object>"
            ]
          },
          "metadata": {},
          "output_type": "display_data"
        },
        {
          "data": {
            "image/png": "[encoded data removed]",
            "text/plain": [
              "<Figure size 640x480 with 1 Axes>"
            ]
          },
          "metadata": {},
          "output_type": "display_data"
        }
      ],
      "source": [
        "plot(linear, duration, size)"
      ]
    },
    {
      "attachments": {},
      "cell_type": "markdown",
      "metadata": {},
      "source": [
        "# Equilíbrio Estático: 2ª Lei de Newton"
      ]
    },
    {
      "cell_type": "code",
      "execution_count": 68,
      "metadata": {},
      "outputs": [],
      "source": [
        "# Força de reação na Junta J1\n",
        "H_1, V_1 = sp.symbols(\"H_1 V_1\")\n",
        "\n",
        "# Força de reação na Junta J2\n",
        "H_2, V_2 = sp.symbols(\"H_2 V_2\")\n",
        "\n",
        "# Força de reação na Junta J3\n",
        "H_3, V_3 = sp.symbols(\"H_3 V_3\")"
      ]
    },
    {
      "cell_type": "code",
      "execution_count": 69,
      "metadata": {},
      "outputs": [],
      "source": [
        "# Forças e momentos resultantes no 1º elo\n",
        "R1_x = H_1 + H_2\n",
        "R1_y = V_1 + V_2 - m_1 * g\n",
        "M1_J1 = tau \\\n",
        "    - m_1 * g * (x_J2 / 2) \\\n",
        "    - H_2 * y_J2 \\\n",
        "    + V_2 * x_J2 \\\n",
        "    - k_1 * (theta_1 - relaxed_y0[0])"
      ]
    },
    {
      "cell_type": "code",
      "execution_count": 70,
      "metadata": {},
      "outputs": [],
      "source": [
        "# Forças e momentos resultantes no 2º elo\n",
        "R2_x = H_3 - H_2 + F1_x\n",
        "R2_y = V_3 - V_2 + F1_y - m_2 * g \n",
        "M2_J2 = - H_3 * y_J3 + V_3 * x_J3 \\\n",
        "    - m_2 * g * (x_J3 / 2) \\\n",
        "    - F1_x * P_1[1] + F1_y * P_1[0] \\\n",
        "    - k_2 * (theta_2 - relaxed_y0[1])"
      ]
    },
    {
      "cell_type": "code",
      "execution_count": 71,
      "metadata": {},
      "outputs": [],
      "source": [
        "# Forças e momentos resultantes no 3º elo\n",
        "R3_x = -H_3 + F2_x\n",
        "R3_y = -V_3 + F2_y - m_3 * g - M * g\n",
        "M3_J3 = - m_3 * g * (x_P / 2) \\\n",
        "    - M * g * x_P \\\n",
        "    - F2_x * P_2[1] + F2_y * P_2[0] \\\n",
        "    - k_3 * (theta_3 - relaxed_y0[2])"
      ]
    },
    {
      "cell_type": "code",
      "execution_count": 72,
      "metadata": {},
      "outputs": [
        {
          "data": {
            "text/plain": [
              "{M: 1250,\n",
              " L_1: 2.15,\n",
              " L_2: 3.75,\n",
              " L_3: 2.135,\n",
              " d_1: 0.5,\n",
              " d_2: 0.5,\n",
              " g: 9.807,\n",
              " M_c: 20.66,\n",
              " A_c: 1.964,\n",
              " c: 32,\n",
              " k_1: None,\n",
              " k_2: None,\n",
              " k_3: None,\n",
              " m_1: 334.474175482265,\n",
              " m_2: 583.3851897946483,\n",
              " m_3: 332.14063472308646,\n",
              " theta_1(t): 1.5707963267948966,\n",
              " theta_2(t): 2.356194490192345,\n",
              " theta_3(t): 1.5707963267948966,\n",
              " p_1: 1,\n",
              " p_2: 1,\n",
              " tau: 1}"
            ]
          },
          "execution_count": 72,
          "metadata": {},
          "output_type": "execute_result"
        }
      ],
      "source": [
        "substitute[p_1] = 1\n",
        "substitute[p_2] = 1\n",
        "substitute[tau] = 1\n",
        "substitute[k_1] = None\n",
        "substitute[k_2] = None\n",
        "substitute[k_3] = None\n",
        "substitute"
      ]
    },
    {
      "cell_type": "code",
      "execution_count": 73,
      "metadata": {},
      "outputs": [],
      "source": [
        "R1_x = R1_x.subs(gamma_alias).subs(substitute)\n",
        "R1_y = R1_y.subs(gamma_alias).subs(substitute)\n",
        "M1_J1 = M1_J1.subs(gamma_alias).subs(substitute)\n",
        "R2_x = R2_x.subs(gamma_alias).subs(substitute)\n",
        "R2_y = R2_y.subs(gamma_alias).subs(substitute)\n",
        "M2_J2 = M2_J2.subs(gamma_alias).subs(substitute)\n",
        "R3_x = R3_x.subs(gamma_alias).subs(substitute)\n",
        "R3_y = R3_y.subs(gamma_alias).subs(substitute)\n",
        "M3_J3 = M3_J3.subs(gamma_alias).subs(substitute)"
      ]
    },
    {
      "cell_type": "code",
      "execution_count": 74,
      "metadata": {},
      "outputs": [
        {
          "data": {
            "text/latex": [
              "$\\displaystyle H_{1} + H_{2}$"
            ],
            "text/plain": [
              "H_1 + H_2"
            ]
          },
          "metadata": {},
          "output_type": "display_data"
        },
        {
          "data": {
            "text/latex": [
              "$\\displaystyle V_{1} + V_{2} - 3280.18823895457$"
            ],
            "text/plain": [
              "V_1 + V_2 - 3280.18823895457"
            ]
          },
          "metadata": {},
          "output_type": "display_data"
        },
        {
          "data": {
            "text/latex": [
              "$\\displaystyle - 2.15 H_{2} + 1.3164953090834 \\cdot 10^{-16} V_{2} - 0.00314159265358982 k_{1} + 0.999999999999784$"
            ],
            "text/plain": [
              "-2.15*H_2 + 1.3164953090834e-16*V_2 - 0.00314159265358982*k_1 + 0.999999999999784"
            ]
          },
          "metadata": {},
          "output_type": "display_data"
        }
      ],
      "source": [
        "pprint(R1_x)\n",
        "pprint(R1_y)\n",
        "pprint(M1_J1)"
      ]
    },
    {
      "cell_type": "code",
      "execution_count": 75,
      "metadata": {},
      "outputs": [
        {
          "data": {
            "text/latex": [
              "$\\displaystyle - H_{2} + H_{3} - 1.22861845118167 \\cdot 10^{-14}$"
            ],
            "text/plain": [
              "-H_2 + H_3 - 1.22861845118167e-14"
            ]
          },
          "metadata": {},
          "output_type": "display_data"
        },
        {
          "data": {
            "text/latex": [
              "$\\displaystyle - V_{2} + V_{3} - 5921.90717631612$"
            ],
            "text/plain": [
              "-V_2 + V_3 - 5921.90717631612"
            ]
          },
          "metadata": {},
          "output_type": "display_data"
        },
        {
          "data": {
            "text/latex": [
              "$\\displaystyle - 2.65165042944955 H_{3} + 2.65165042944955 V_{3} + 0.785398163397448 k_{2} - 7656.32885384264$"
            ],
            "text/plain": [
              "-2.65165042944955*H_3 + 2.65165042944955*V_3 + 0.785398163397448*k_2 - 7656.32885384264"
            ]
          },
          "metadata": {},
          "output_type": "display_data"
        }
      ],
      "source": [
        "pprint(R2_x)\n",
        "pprint(R2_y)\n",
        "pprint(M2_J2)"
      ]
    },
    {
      "cell_type": "code",
      "execution_count": 76,
      "metadata": {},
      "outputs": [
        {
          "data": {
            "text/latex": [
              "$\\displaystyle - H_{3} - 99.9175522817496$"
            ],
            "text/plain": [
              "-H_3 - 99.9175522817496"
            ]
          },
          "metadata": {},
          "output_type": "display_data"
        },
        {
          "data": {
            "text/latex": [
              "$\\displaystyle - V_{3} - 15615.9707570111$"
            ],
            "text/plain": [
              "-V_3 - 15615.9707570111"
            ]
          },
          "metadata": {},
          "output_type": "display_data"
        },
        {
          "data": {
            "text/latex": [
              "$\\displaystyle 0.314159265358979 k_{3} - 21036.0873101865$"
            ],
            "text/plain": [
              "0.314159265358979*k_3 - 21036.0873101865"
            ]
          },
          "metadata": {},
          "output_type": "display_data"
        }
      ],
      "source": [
        "pprint(R3_x)\n",
        "pprint(R3_y)\n",
        "pprint(M3_J3)"
      ]
    },
    {
      "cell_type": "code",
      "execution_count": 77,
      "metadata": {},
      "outputs": [],
      "source": [
        "res = sp.solve(\n",
        "    [R1_x, R1_y, M1_J1, R2_x, R2_y, M2_J2, R3_x, R3_y, M3_J3],\n",
        "    [H_1, V_1, H_2, V_2, H_3, V_3, k_1, k_2, k_3],)"
      ]
    },
    {
      "cell_type": "code",
      "execution_count": 78,
      "metadata": {},
      "outputs": [
        {
          "data": {
            "text/plain": [
              "{H_1: 99.9175522817496,\n",
              " V_1: 24818.0661722818,\n",
              " H_2: -99.9175522817496,\n",
              " V_2: -21537.8779333272,\n",
              " H_3: -99.9175522817496,\n",
              " V_3: -15615.9707570111,\n",
              " k_1: 68698.5109795006,\n",
              " k_2: 62133.4251488827,\n",
              " k_3: 66959.9455745775}"
            ]
          },
          "execution_count": 78,
          "metadata": {},
          "output_type": "execute_result"
        }
      ],
      "source": [
        "res"
      ]
    }
  ],
  "metadata": {
    "colab": {
      "collapsed_sections": [
        "WAdvNX7RW7HP",
        "2-FV6Bm_t_Cf",
        "UVSv68QYwPV1",
        "_DCvhv8qONqu",
        "Jv386Pz3b4yr",
        "UIjmnCzTgRfw",
        "5UBVJpI766BH",
        "-KtJZUdD7sfA",
        "K3xMzUQqhLHY",
        "yTjPxQI7Ovmx",
        "2zgPLZHOLdzF",
        "K7OcZBzqO3XS"
      ],
      "provenance": []
    },
    "kernelspec": {
      "display_name": "Python 3",
      "name": "python3"
    },
    "language_info": {
      "codemirror_mode": {
        "name": "ipython",
        "version": 3
      },
      "file_extension": ".py",
      "mimetype": "text/x-python",
      "name": "python",
      "nbconvert_exporter": "python",
      "pygments_lexer": "ipython3",
      "version": "3.10.9"
    }
  },
  "nbformat": 4,
  "nbformat_minor": 0
}
